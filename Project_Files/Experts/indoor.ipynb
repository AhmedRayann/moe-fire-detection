{
 "cells": [
  {
   "cell_type": "markdown",
   "id": "7e7132e1",
   "metadata": {},
   "source": [
    "#  Training YOLO on Fire Detection for Indoor Scenario\n",
    "\n",
    "## Overview\n",
    "In this notebook, we train a **YOLOv8** model on a custom dataset designed for detecting **fire scenarios** in **indoor images**. This dataset represents one of the specific scenarios for our **Mixture of Experts (MoE)** model, where each expert specializes in a different scenario (e.g., fire detection in indoor, indoor, satellite, or far-field environments).\n",
    "\n",
    "### Key Steps:\n",
    "- **Dataset**: The model is trained using a **indoor fire detection dataset**, which consists of images with fire-related features captured in close and enclosed space.\n",
    "- **YOLOv8 Training**: The YOLOv8 model is fine-tuned on this dataset, learning to identify fire-related objects.\n",
    "- **Scenario Expert**: This trained model acts as an expert specifically for detecting fire in indoor images and is part of a broader MoE-based approach for multi-scenario detection.\n",
    "\n"
   ]
  },
  {
   "cell_type": "markdown",
   "id": "cb924be4",
   "metadata": {},
   "source": [
    "##  Training YOLOv8 on Indoor Fire Detection\n",
    "\n",
    "We utilize the **YOLOv8** object detection model to train on a custom dataset defined in `indoor.yaml`. The configuration for training is as follows:\n",
    "\n",
    "- 🧠 **Model**: `yolov8n.pt` (Nano variant — optimized for speed and prototyping)\n",
    "- 📁 **Dataset**: Defined in `indoor.yaml`\n",
    "- 🖼️ **Image Size**: 640×640\n",
    "- 🔁 **Epochs**: 100\n",
    "- 📦 **Batch Size**: 16\n",
    "- 💻 **Device**: GPU (device 0)\n",
    "\n",
    "\n"
   ]
  },
  {
   "cell_type": "code",
   "execution_count": 1,
   "id": "29f29012",
   "metadata": {},
   "outputs": [
    {
     "name": "stdout",
     "output_type": "stream",
     "text": [
      "GPU available: True\n",
      "Current device: NVIDIA GeForce RTX 3070\n"
     ]
    }
   ],
   "source": [
    "import torch\n",
    "print(\"GPU available:\", torch.cuda.is_available())\n",
    "print(\"Current device:\", torch.cuda.get_device_name(0))"
   ]
  },
  {
   "cell_type": "code",
   "execution_count": 2,
   "id": "8857a6a9",
   "metadata": {},
   "outputs": [
    {
     "name": "stdout",
     "output_type": "stream",
     "text": [
      "Ultralytics 8.3.107  Python-3.11.6 torch-2.5.1+cu121 CUDA:0 (NVIDIA GeForce RTX 3070, 8192MiB)\n",
      "\u001b[34m\u001b[1mengine\\trainer: \u001b[0mtask=detect, mode=train, model=yolov8n.pt, data=indoor.yaml, epochs=100, time=None, patience=100, batch=16, imgsz=640, save=True, save_period=-1, cache=False, device=0, workers=8, project=None, name=train, exist_ok=False, pretrained=True, optimizer=auto, verbose=True, seed=0, deterministic=True, single_cls=False, rect=False, cos_lr=False, close_mosaic=10, resume=False, amp=True, fraction=1.0, profile=False, freeze=None, multi_scale=False, overlap_mask=True, mask_ratio=4, dropout=0.0, val=True, split=val, save_json=False, conf=None, iou=0.7, max_det=300, half=False, dnn=False, plots=True, source=None, vid_stride=1, stream_buffer=False, visualize=False, augment=False, agnostic_nms=False, classes=None, retina_masks=False, embed=None, show=False, save_frames=False, save_txt=False, save_conf=False, save_crop=False, show_labels=True, show_conf=True, show_boxes=True, line_width=None, format=torchscript, keras=False, optimize=False, int8=False, dynamic=False, simplify=True, opset=None, workspace=None, nms=False, lr0=0.01, lrf=0.01, momentum=0.937, weight_decay=0.0005, warmup_epochs=3.0, warmup_momentum=0.8, warmup_bias_lr=0.1, box=7.5, cls=0.5, dfl=1.5, pose=12.0, kobj=1.0, nbs=64, hsv_h=0.015, hsv_s=0.7, hsv_v=0.4, degrees=0.0, translate=0.1, scale=0.5, shear=0.0, perspective=0.0, flipud=0.0, fliplr=0.5, bgr=0.0, mosaic=1.0, mixup=0.0, copy_paste=0.0, copy_paste_mode=flip, auto_augment=randaugment, erasing=0.4, crop_fraction=1.0, cfg=None, tracker=botsort.yaml, save_dir=runs\\detect\\train\n",
      "Overriding model.yaml nc=80 with nc=1\n",
      "\n",
      "                   from  n    params  module                                       arguments                     \n",
      "  0                  -1  1       464  ultralytics.nn.modules.conv.Conv             [3, 16, 3, 2]                 \n",
      "  1                  -1  1      4672  ultralytics.nn.modules.conv.Conv             [16, 32, 3, 2]                \n",
      "  2                  -1  1      7360  ultralytics.nn.modules.block.C2f             [32, 32, 1, True]             \n",
      "  3                  -1  1     18560  ultralytics.nn.modules.conv.Conv             [32, 64, 3, 2]                \n",
      "  4                  -1  2     49664  ultralytics.nn.modules.block.C2f             [64, 64, 2, True]             \n",
      "  5                  -1  1     73984  ultralytics.nn.modules.conv.Conv             [64, 128, 3, 2]               \n",
      "  6                  -1  2    197632  ultralytics.nn.modules.block.C2f             [128, 128, 2, True]           \n",
      "  7                  -1  1    295424  ultralytics.nn.modules.conv.Conv             [128, 256, 3, 2]              \n",
      "  8                  -1  1    460288  ultralytics.nn.modules.block.C2f             [256, 256, 1, True]           \n",
      "  9                  -1  1    164608  ultralytics.nn.modules.block.SPPF            [256, 256, 5]                 \n",
      " 10                  -1  1         0  torch.nn.modules.upsampling.Upsample         [None, 2, 'nearest']          \n",
      " 11             [-1, 6]  1         0  ultralytics.nn.modules.conv.Concat           [1]                           \n",
      " 12                  -1  1    148224  ultralytics.nn.modules.block.C2f             [384, 128, 1]                 \n",
      " 13                  -1  1         0  torch.nn.modules.upsampling.Upsample         [None, 2, 'nearest']          \n",
      " 14             [-1, 4]  1         0  ultralytics.nn.modules.conv.Concat           [1]                           \n",
      " 15                  -1  1     37248  ultralytics.nn.modules.block.C2f             [192, 64, 1]                  \n",
      " 16                  -1  1     36992  ultralytics.nn.modules.conv.Conv             [64, 64, 3, 2]                \n",
      " 17            [-1, 12]  1         0  ultralytics.nn.modules.conv.Concat           [1]                           \n",
      " 18                  -1  1    123648  ultralytics.nn.modules.block.C2f             [192, 128, 1]                 \n",
      " 19                  -1  1    147712  ultralytics.nn.modules.conv.Conv             [128, 128, 3, 2]              \n",
      " 20             [-1, 9]  1         0  ultralytics.nn.modules.conv.Concat           [1]                           \n",
      " 21                  -1  1    493056  ultralytics.nn.modules.block.C2f             [384, 256, 1]                 \n",
      " 22        [15, 18, 21]  1    751507  ultralytics.nn.modules.head.Detect           [1, [64, 128, 256]]           \n",
      "Model summary: 129 layers, 3,011,043 parameters, 3,011,027 gradients, 8.2 GFLOPs\n",
      "\n",
      "Transferred 319/355 items from pretrained weights\n",
      "\u001b[34m\u001b[1mTensorBoard: \u001b[0mStart with 'tensorboard --logdir runs\\detect\\train', view at http://localhost:6006/\n",
      "Freezing layer 'model.22.dfl.conv.weight'\n",
      "\u001b[34m\u001b[1mAMP: \u001b[0mrunning Automatic Mixed Precision (AMP) checks...\n",
      "\u001b[34m\u001b[1mAMP: \u001b[0mchecks passed \n"
     ]
    },
    {
     "name": "stderr",
     "output_type": "stream",
     "text": [
      "\u001b[34m\u001b[1mtrain: \u001b[0mScanning C:\\Users\\pc\\Desktop\\DL\\Project\\Indoor\\train\\labels.cache... 1157 images, 0 backgrounds, 0 corrupt: 100%|██████████| 1157/1157 [00:00<?, ?it/s]\n",
      "\u001b[34m\u001b[1mval: \u001b[0mScanning C:\\Users\\pc\\Desktop\\DL\\Project\\Indoor\\valid\\labels.cache... 217 images, 0 backgrounds, 0 corrupt: 100%|██████████| 217/217 [00:00<?, ?it/s]\n"
     ]
    },
    {
     "name": "stdout",
     "output_type": "stream",
     "text": [
      "Plotting labels to runs\\detect\\train\\labels.jpg... \n",
      "\u001b[34m\u001b[1moptimizer:\u001b[0m 'optimizer=auto' found, ignoring 'lr0=0.01' and 'momentum=0.937' and determining best 'optimizer', 'lr0' and 'momentum' automatically... \n",
      "\u001b[34m\u001b[1moptimizer:\u001b[0m AdamW(lr=0.002, momentum=0.9) with parameter groups 57 weight(decay=0.0), 64 weight(decay=0.0005), 63 bias(decay=0.0)\n",
      "\u001b[34m\u001b[1mTensorBoard: \u001b[0mmodel graph visualization added \n",
      "Image sizes 640 train, 640 val\n",
      "Using 8 dataloader workers\n",
      "Logging results to \u001b[1mruns\\detect\\train\u001b[0m\n",
      "Starting training for 100 epochs...\n",
      "\n",
      "      Epoch    GPU_mem   box_loss   cls_loss   dfl_loss  Instances       Size\n"
     ]
    },
    {
     "name": "stderr",
     "output_type": "stream",
     "text": [
      "      1/100      2.08G      1.691      2.685      1.486          8        640: 100%|██████████| 73/73 [00:09<00:00,  7.47it/s]\n",
      "                 Class     Images  Instances      Box(P          R      mAP50  mAP50-95): 100%|██████████| 7/7 [00:01<00:00,  6.69it/s]\n"
     ]
    },
    {
     "name": "stdout",
     "output_type": "stream",
     "text": [
      "                   all        217        339       0.46      0.106       0.14       0.06\n",
      "\n",
      "      Epoch    GPU_mem   box_loss   cls_loss   dfl_loss  Instances       Size\n"
     ]
    },
    {
     "name": "stderr",
     "output_type": "stream",
     "text": [
      "      2/100      2.38G       1.65      2.078      1.461          7        640: 100%|██████████| 73/73 [00:08<00:00,  8.96it/s]\n",
      "                 Class     Images  Instances      Box(P          R      mAP50  mAP50-95): 100%|██████████| 7/7 [00:01<00:00,  6.82it/s]"
     ]
    },
    {
     "name": "stdout",
     "output_type": "stream",
     "text": [
      "                   all        217        339      0.413      0.413      0.316      0.128\n"
     ]
    },
    {
     "name": "stderr",
     "output_type": "stream",
     "text": [
      "\n"
     ]
    },
    {
     "name": "stdout",
     "output_type": "stream",
     "text": [
      "\n",
      "      Epoch    GPU_mem   box_loss   cls_loss   dfl_loss  Instances       Size\n"
     ]
    },
    {
     "name": "stderr",
     "output_type": "stream",
     "text": [
      "      3/100      2.38G      1.721      1.842      1.486          9        640: 100%|██████████| 73/73 [00:07<00:00,  9.23it/s]\n",
      "                 Class     Images  Instances      Box(P          R      mAP50  mAP50-95): 100%|██████████| 7/7 [00:00<00:00,  7.13it/s]"
     ]
    },
    {
     "name": "stdout",
     "output_type": "stream",
     "text": [
      "                   all        217        339      0.359      0.298       0.25     0.0928\n"
     ]
    },
    {
     "name": "stderr",
     "output_type": "stream",
     "text": [
      "\n"
     ]
    },
    {
     "name": "stdout",
     "output_type": "stream",
     "text": [
      "\n",
      "      Epoch    GPU_mem   box_loss   cls_loss   dfl_loss  Instances       Size\n"
     ]
    },
    {
     "name": "stderr",
     "output_type": "stream",
     "text": [
      "      4/100      2.38G      1.711      1.717      1.463          6        640: 100%|██████████| 73/73 [00:07<00:00,  9.41it/s]\n",
      "                 Class     Images  Instances      Box(P          R      mAP50  mAP50-95): 100%|██████████| 7/7 [00:00<00:00,  7.37it/s]"
     ]
    },
    {
     "name": "stdout",
     "output_type": "stream",
     "text": [
      "                   all        217        339      0.416      0.419      0.364      0.133\n"
     ]
    },
    {
     "name": "stderr",
     "output_type": "stream",
     "text": [
      "\n"
     ]
    },
    {
     "name": "stdout",
     "output_type": "stream",
     "text": [
      "\n",
      "      Epoch    GPU_mem   box_loss   cls_loss   dfl_loss  Instances       Size\n"
     ]
    },
    {
     "name": "stderr",
     "output_type": "stream",
     "text": [
      "      5/100      2.38G      1.662      1.554       1.49         14        640: 100%|██████████| 73/73 [00:07<00:00,  9.45it/s]\n",
      "                 Class     Images  Instances      Box(P          R      mAP50  mAP50-95): 100%|██████████| 7/7 [00:00<00:00,  7.34it/s]"
     ]
    },
    {
     "name": "stdout",
     "output_type": "stream",
     "text": [
      "                   all        217        339      0.542      0.407      0.424      0.179\n"
     ]
    },
    {
     "name": "stderr",
     "output_type": "stream",
     "text": [
      "\n"
     ]
    },
    {
     "name": "stdout",
     "output_type": "stream",
     "text": [
      "\n",
      "      Epoch    GPU_mem   box_loss   cls_loss   dfl_loss  Instances       Size\n"
     ]
    },
    {
     "name": "stderr",
     "output_type": "stream",
     "text": [
      "      6/100      2.38G      1.611      1.418      1.458          9        640: 100%|██████████| 73/73 [00:07<00:00,  9.38it/s]\n",
      "                 Class     Images  Instances      Box(P          R      mAP50  mAP50-95): 100%|██████████| 7/7 [00:00<00:00,  7.39it/s]"
     ]
    },
    {
     "name": "stdout",
     "output_type": "stream",
     "text": [
      "                   all        217        339      0.483      0.428      0.438      0.191\n"
     ]
    },
    {
     "name": "stderr",
     "output_type": "stream",
     "text": [
      "\n"
     ]
    },
    {
     "name": "stdout",
     "output_type": "stream",
     "text": [
      "\n",
      "      Epoch    GPU_mem   box_loss   cls_loss   dfl_loss  Instances       Size\n"
     ]
    },
    {
     "name": "stderr",
     "output_type": "stream",
     "text": [
      "      7/100      2.38G      1.589      1.367      1.429         11        640: 100%|██████████| 73/73 [00:07<00:00,  9.82it/s]\n",
      "                 Class     Images  Instances      Box(P          R      mAP50  mAP50-95): 100%|██████████| 7/7 [00:00<00:00,  7.44it/s]"
     ]
    },
    {
     "name": "stdout",
     "output_type": "stream",
     "text": [
      "                   all        217        339      0.481      0.442      0.403      0.164\n"
     ]
    },
    {
     "name": "stderr",
     "output_type": "stream",
     "text": [
      "\n"
     ]
    },
    {
     "name": "stdout",
     "output_type": "stream",
     "text": [
      "\n",
      "      Epoch    GPU_mem   box_loss   cls_loss   dfl_loss  Instances       Size\n"
     ]
    },
    {
     "name": "stderr",
     "output_type": "stream",
     "text": [
      "      8/100      2.38G       1.56      1.352      1.405          8        640: 100%|██████████| 73/73 [00:07<00:00,  9.99it/s]\n",
      "                 Class     Images  Instances      Box(P          R      mAP50  mAP50-95): 100%|██████████| 7/7 [00:00<00:00,  7.52it/s]"
     ]
    },
    {
     "name": "stdout",
     "output_type": "stream",
     "text": [
      "                   all        217        339       0.52      0.457      0.426      0.191\n"
     ]
    },
    {
     "name": "stderr",
     "output_type": "stream",
     "text": [
      "\n"
     ]
    },
    {
     "name": "stdout",
     "output_type": "stream",
     "text": [
      "\n",
      "      Epoch    GPU_mem   box_loss   cls_loss   dfl_loss  Instances       Size\n"
     ]
    },
    {
     "name": "stderr",
     "output_type": "stream",
     "text": [
      "      9/100      2.38G      1.527      1.293      1.393          8        640: 100%|██████████| 73/73 [00:07<00:00,  9.39it/s]\n",
      "                 Class     Images  Instances      Box(P          R      mAP50  mAP50-95): 100%|██████████| 7/7 [00:00<00:00,  7.21it/s]"
     ]
    },
    {
     "name": "stdout",
     "output_type": "stream",
     "text": [
      "                   all        217        339      0.479      0.484      0.433       0.18\n"
     ]
    },
    {
     "name": "stderr",
     "output_type": "stream",
     "text": [
      "\n"
     ]
    },
    {
     "name": "stdout",
     "output_type": "stream",
     "text": [
      "\n",
      "      Epoch    GPU_mem   box_loss   cls_loss   dfl_loss  Instances       Size\n"
     ]
    },
    {
     "name": "stderr",
     "output_type": "stream",
     "text": [
      "     10/100      2.38G      1.551      1.286      1.401         11        640: 100%|██████████| 73/73 [00:07<00:00,  9.48it/s]\n",
      "                 Class     Images  Instances      Box(P          R      mAP50  mAP50-95): 100%|██████████| 7/7 [00:00<00:00,  7.54it/s]"
     ]
    },
    {
     "name": "stdout",
     "output_type": "stream",
     "text": [
      "                   all        217        339      0.665      0.437       0.45      0.221\n"
     ]
    },
    {
     "name": "stderr",
     "output_type": "stream",
     "text": [
      "\n"
     ]
    },
    {
     "name": "stdout",
     "output_type": "stream",
     "text": [
      "\n",
      "      Epoch    GPU_mem   box_loss   cls_loss   dfl_loss  Instances       Size\n"
     ]
    },
    {
     "name": "stderr",
     "output_type": "stream",
     "text": [
      "     11/100      2.38G      1.527      1.249      1.376          6        640: 100%|██████████| 73/73 [00:07<00:00,  9.58it/s]\n",
      "                 Class     Images  Instances      Box(P          R      mAP50  mAP50-95): 100%|██████████| 7/7 [00:00<00:00,  7.19it/s]"
     ]
    },
    {
     "name": "stdout",
     "output_type": "stream",
     "text": [
      "                   all        217        339      0.548      0.447      0.503      0.243\n"
     ]
    },
    {
     "name": "stderr",
     "output_type": "stream",
     "text": [
      "\n"
     ]
    },
    {
     "name": "stdout",
     "output_type": "stream",
     "text": [
      "\n",
      "      Epoch    GPU_mem   box_loss   cls_loss   dfl_loss  Instances       Size\n"
     ]
    },
    {
     "name": "stderr",
     "output_type": "stream",
     "text": [
      "     12/100      2.38G      1.511      1.215      1.372         11        640: 100%|██████████| 73/73 [00:07<00:00,  9.37it/s]\n",
      "                 Class     Images  Instances      Box(P          R      mAP50  mAP50-95): 100%|██████████| 7/7 [00:00<00:00,  7.23it/s]"
     ]
    },
    {
     "name": "stdout",
     "output_type": "stream",
     "text": [
      "                   all        217        339       0.64       0.49      0.523      0.238\n"
     ]
    },
    {
     "name": "stderr",
     "output_type": "stream",
     "text": [
      "\n"
     ]
    },
    {
     "name": "stdout",
     "output_type": "stream",
     "text": [
      "\n",
      "      Epoch    GPU_mem   box_loss   cls_loss   dfl_loss  Instances       Size\n"
     ]
    },
    {
     "name": "stderr",
     "output_type": "stream",
     "text": [
      "     13/100      2.38G      1.467      1.185      1.371         27        640: 100%|██████████| 73/73 [00:07<00:00,  9.72it/s]\n",
      "                 Class     Images  Instances      Box(P          R      mAP50  mAP50-95): 100%|██████████| 7/7 [00:00<00:00,  7.73it/s]"
     ]
    },
    {
     "name": "stdout",
     "output_type": "stream",
     "text": [
      "                   all        217        339      0.524      0.481      0.454      0.221\n"
     ]
    },
    {
     "name": "stderr",
     "output_type": "stream",
     "text": [
      "\n"
     ]
    },
    {
     "name": "stdout",
     "output_type": "stream",
     "text": [
      "\n",
      "      Epoch    GPU_mem   box_loss   cls_loss   dfl_loss  Instances       Size\n"
     ]
    },
    {
     "name": "stderr",
     "output_type": "stream",
     "text": [
      "     14/100      2.38G      1.448      1.161      1.348          9        640: 100%|██████████| 73/73 [00:07<00:00,  9.29it/s]\n",
      "                 Class     Images  Instances      Box(P          R      mAP50  mAP50-95): 100%|██████████| 7/7 [00:00<00:00,  7.70it/s]"
     ]
    },
    {
     "name": "stdout",
     "output_type": "stream",
     "text": [
      "                   all        217        339      0.558      0.507      0.494      0.241\n"
     ]
    },
    {
     "name": "stderr",
     "output_type": "stream",
     "text": [
      "\n"
     ]
    },
    {
     "name": "stdout",
     "output_type": "stream",
     "text": [
      "\n",
      "      Epoch    GPU_mem   box_loss   cls_loss   dfl_loss  Instances       Size\n"
     ]
    },
    {
     "name": "stderr",
     "output_type": "stream",
     "text": [
      "     15/100      2.38G      1.448       1.13      1.341         11        640: 100%|██████████| 73/73 [00:07<00:00,  9.86it/s]\n",
      "                 Class     Images  Instances      Box(P          R      mAP50  mAP50-95): 100%|██████████| 7/7 [00:00<00:00,  7.81it/s]"
     ]
    },
    {
     "name": "stdout",
     "output_type": "stream",
     "text": [
      "                   all        217        339      0.723      0.438      0.488      0.215\n"
     ]
    },
    {
     "name": "stderr",
     "output_type": "stream",
     "text": [
      "\n"
     ]
    },
    {
     "name": "stdout",
     "output_type": "stream",
     "text": [
      "\n",
      "      Epoch    GPU_mem   box_loss   cls_loss   dfl_loss  Instances       Size\n"
     ]
    },
    {
     "name": "stderr",
     "output_type": "stream",
     "text": [
      "     16/100      2.38G      1.421      1.138      1.324         21        640: 100%|██████████| 73/73 [00:07<00:00, 10.01it/s]\n",
      "                 Class     Images  Instances      Box(P          R      mAP50  mAP50-95): 100%|██████████| 7/7 [00:00<00:00,  8.94it/s]"
     ]
    },
    {
     "name": "stdout",
     "output_type": "stream",
     "text": [
      "                   all        217        339       0.66      0.437      0.509       0.25\n"
     ]
    },
    {
     "name": "stderr",
     "output_type": "stream",
     "text": [
      "\n"
     ]
    },
    {
     "name": "stdout",
     "output_type": "stream",
     "text": [
      "\n",
      "      Epoch    GPU_mem   box_loss   cls_loss   dfl_loss  Instances       Size\n"
     ]
    },
    {
     "name": "stderr",
     "output_type": "stream",
     "text": [
      "     17/100      2.38G      1.419      1.117      1.345          7        640: 100%|██████████| 73/73 [00:07<00:00, 10.41it/s]\n",
      "                 Class     Images  Instances      Box(P          R      mAP50  mAP50-95): 100%|██████████| 7/7 [00:00<00:00,  8.33it/s]"
     ]
    },
    {
     "name": "stdout",
     "output_type": "stream",
     "text": [
      "                   all        217        339      0.583      0.413      0.463       0.22\n"
     ]
    },
    {
     "name": "stderr",
     "output_type": "stream",
     "text": [
      "\n"
     ]
    },
    {
     "name": "stdout",
     "output_type": "stream",
     "text": [
      "\n",
      "      Epoch    GPU_mem   box_loss   cls_loss   dfl_loss  Instances       Size\n"
     ]
    },
    {
     "name": "stderr",
     "output_type": "stream",
     "text": [
      "     18/100      2.38G      1.394      1.057      1.282         12        640: 100%|██████████| 73/73 [00:07<00:00, 10.13it/s]\n",
      "                 Class     Images  Instances      Box(P          R      mAP50  mAP50-95): 100%|██████████| 7/7 [00:00<00:00,  8.67it/s]"
     ]
    },
    {
     "name": "stdout",
     "output_type": "stream",
     "text": [
      "                   all        217        339      0.668      0.448      0.513       0.24\n"
     ]
    },
    {
     "name": "stderr",
     "output_type": "stream",
     "text": [
      "\n"
     ]
    },
    {
     "name": "stdout",
     "output_type": "stream",
     "text": [
      "\n",
      "      Epoch    GPU_mem   box_loss   cls_loss   dfl_loss  Instances       Size\n"
     ]
    },
    {
     "name": "stderr",
     "output_type": "stream",
     "text": [
      "     19/100      2.38G      1.404      1.075      1.301         13        640: 100%|██████████| 73/73 [00:07<00:00,  9.93it/s]\n",
      "                 Class     Images  Instances      Box(P          R      mAP50  mAP50-95): 100%|██████████| 7/7 [00:00<00:00,  8.08it/s]"
     ]
    },
    {
     "name": "stdout",
     "output_type": "stream",
     "text": [
      "                   all        217        339      0.639      0.428      0.471      0.237\n"
     ]
    },
    {
     "name": "stderr",
     "output_type": "stream",
     "text": [
      "\n"
     ]
    },
    {
     "name": "stdout",
     "output_type": "stream",
     "text": [
      "\n",
      "      Epoch    GPU_mem   box_loss   cls_loss   dfl_loss  Instances       Size\n"
     ]
    },
    {
     "name": "stderr",
     "output_type": "stream",
     "text": [
      "     20/100      2.38G      1.408      1.077      1.315         13        640: 100%|██████████| 73/73 [00:07<00:00,  9.93it/s]\n",
      "                 Class     Images  Instances      Box(P          R      mAP50  mAP50-95): 100%|██████████| 7/7 [00:00<00:00,  7.98it/s]"
     ]
    },
    {
     "name": "stdout",
     "output_type": "stream",
     "text": [
      "                   all        217        339        0.6      0.463      0.457       0.23\n"
     ]
    },
    {
     "name": "stderr",
     "output_type": "stream",
     "text": [
      "\n"
     ]
    },
    {
     "name": "stdout",
     "output_type": "stream",
     "text": [
      "\n",
      "      Epoch    GPU_mem   box_loss   cls_loss   dfl_loss  Instances       Size\n"
     ]
    },
    {
     "name": "stderr",
     "output_type": "stream",
     "text": [
      "     21/100      2.38G      1.363      1.062      1.311          8        640: 100%|██████████| 73/73 [00:07<00:00,  9.50it/s]\n",
      "                 Class     Images  Instances      Box(P          R      mAP50  mAP50-95): 100%|██████████| 7/7 [00:00<00:00,  7.27it/s]"
     ]
    },
    {
     "name": "stdout",
     "output_type": "stream",
     "text": [
      "                   all        217        339      0.652      0.472      0.489      0.237\n"
     ]
    },
    {
     "name": "stderr",
     "output_type": "stream",
     "text": [
      "\n"
     ]
    },
    {
     "name": "stdout",
     "output_type": "stream",
     "text": [
      "\n",
      "      Epoch    GPU_mem   box_loss   cls_loss   dfl_loss  Instances       Size\n"
     ]
    },
    {
     "name": "stderr",
     "output_type": "stream",
     "text": [
      "     22/100      2.38G       1.37      1.034      1.282         17        640: 100%|██████████| 73/73 [00:07<00:00, 10.22it/s]\n",
      "                 Class     Images  Instances      Box(P          R      mAP50  mAP50-95): 100%|██████████| 7/7 [00:00<00:00,  8.63it/s]"
     ]
    },
    {
     "name": "stdout",
     "output_type": "stream",
     "text": [
      "                   all        217        339      0.593      0.463      0.488      0.237\n"
     ]
    },
    {
     "name": "stderr",
     "output_type": "stream",
     "text": [
      "\n"
     ]
    },
    {
     "name": "stdout",
     "output_type": "stream",
     "text": [
      "\n",
      "      Epoch    GPU_mem   box_loss   cls_loss   dfl_loss  Instances       Size\n"
     ]
    },
    {
     "name": "stderr",
     "output_type": "stream",
     "text": [
      "     23/100      2.38G      1.364      1.023      1.292         14        640: 100%|██████████| 73/73 [00:07<00:00, 10.31it/s]\n",
      "                 Class     Images  Instances      Box(P          R      mAP50  mAP50-95): 100%|██████████| 7/7 [00:00<00:00,  8.04it/s]"
     ]
    },
    {
     "name": "stdout",
     "output_type": "stream",
     "text": [
      "                   all        217        339      0.637      0.445      0.496      0.242\n"
     ]
    },
    {
     "name": "stderr",
     "output_type": "stream",
     "text": [
      "\n"
     ]
    },
    {
     "name": "stdout",
     "output_type": "stream",
     "text": [
      "\n",
      "      Epoch    GPU_mem   box_loss   cls_loss   dfl_loss  Instances       Size\n"
     ]
    },
    {
     "name": "stderr",
     "output_type": "stream",
     "text": [
      "     24/100      2.38G      1.358      1.004      1.276         10        640: 100%|██████████| 73/73 [00:07<00:00, 10.14it/s]\n",
      "                 Class     Images  Instances      Box(P          R      mAP50  mAP50-95): 100%|██████████| 7/7 [00:00<00:00,  8.47it/s]"
     ]
    },
    {
     "name": "stdout",
     "output_type": "stream",
     "text": [
      "                   all        217        339      0.673      0.472       0.54      0.267\n"
     ]
    },
    {
     "name": "stderr",
     "output_type": "stream",
     "text": [
      "\n"
     ]
    },
    {
     "name": "stdout",
     "output_type": "stream",
     "text": [
      "\n",
      "      Epoch    GPU_mem   box_loss   cls_loss   dfl_loss  Instances       Size\n"
     ]
    },
    {
     "name": "stderr",
     "output_type": "stream",
     "text": [
      "     25/100      2.38G      1.345      1.002      1.287          8        640: 100%|██████████| 73/73 [00:07<00:00, 10.31it/s]\n",
      "                 Class     Images  Instances      Box(P          R      mAP50  mAP50-95): 100%|██████████| 7/7 [00:00<00:00,  8.47it/s]"
     ]
    },
    {
     "name": "stdout",
     "output_type": "stream",
     "text": [
      "                   all        217        339      0.594      0.504      0.535      0.249\n"
     ]
    },
    {
     "name": "stderr",
     "output_type": "stream",
     "text": [
      "\n"
     ]
    },
    {
     "name": "stdout",
     "output_type": "stream",
     "text": [
      "\n",
      "      Epoch    GPU_mem   box_loss   cls_loss   dfl_loss  Instances       Size\n"
     ]
    },
    {
     "name": "stderr",
     "output_type": "stream",
     "text": [
      "     26/100      2.38G      1.307     0.9975      1.258          9        640: 100%|██████████| 73/73 [00:06<00:00, 10.44it/s]\n",
      "                 Class     Images  Instances      Box(P          R      mAP50  mAP50-95): 100%|██████████| 7/7 [00:00<00:00,  8.90it/s]"
     ]
    },
    {
     "name": "stdout",
     "output_type": "stream",
     "text": [
      "                   all        217        339      0.489      0.538      0.532      0.252\n"
     ]
    },
    {
     "name": "stderr",
     "output_type": "stream",
     "text": [
      "\n"
     ]
    },
    {
     "name": "stdout",
     "output_type": "stream",
     "text": [
      "\n",
      "      Epoch    GPU_mem   box_loss   cls_loss   dfl_loss  Instances       Size\n"
     ]
    },
    {
     "name": "stderr",
     "output_type": "stream",
     "text": [
      "     27/100      2.38G      1.301     0.9546      1.242          7        640: 100%|██████████| 73/73 [00:07<00:00, 10.34it/s]\n",
      "                 Class     Images  Instances      Box(P          R      mAP50  mAP50-95): 100%|██████████| 7/7 [00:00<00:00,  8.91it/s]"
     ]
    },
    {
     "name": "stdout",
     "output_type": "stream",
     "text": [
      "                   all        217        339      0.694      0.441      0.504       0.25\n"
     ]
    },
    {
     "name": "stderr",
     "output_type": "stream",
     "text": [
      "\n"
     ]
    },
    {
     "name": "stdout",
     "output_type": "stream",
     "text": [
      "\n",
      "      Epoch    GPU_mem   box_loss   cls_loss   dfl_loss  Instances       Size\n"
     ]
    },
    {
     "name": "stderr",
     "output_type": "stream",
     "text": [
      "     28/100      2.38G      1.323     0.9694      1.263          8        640: 100%|██████████| 73/73 [00:07<00:00, 10.29it/s]\n",
      "                 Class     Images  Instances      Box(P          R      mAP50  mAP50-95): 100%|██████████| 7/7 [00:00<00:00,  8.81it/s]"
     ]
    },
    {
     "name": "stdout",
     "output_type": "stream",
     "text": [
      "                   all        217        339      0.694      0.467      0.516      0.242\n"
     ]
    },
    {
     "name": "stderr",
     "output_type": "stream",
     "text": [
      "\n"
     ]
    },
    {
     "name": "stdout",
     "output_type": "stream",
     "text": [
      "\n",
      "      Epoch    GPU_mem   box_loss   cls_loss   dfl_loss  Instances       Size\n"
     ]
    },
    {
     "name": "stderr",
     "output_type": "stream",
     "text": [
      "     29/100      2.38G      1.319     0.9465      1.268         10        640: 100%|██████████| 73/73 [00:07<00:00, 10.40it/s]\n",
      "                 Class     Images  Instances      Box(P          R      mAP50  mAP50-95): 100%|██████████| 7/7 [00:00<00:00,  8.36it/s]"
     ]
    },
    {
     "name": "stdout",
     "output_type": "stream",
     "text": [
      "                   all        217        339      0.682      0.448      0.515      0.255\n"
     ]
    },
    {
     "name": "stderr",
     "output_type": "stream",
     "text": [
      "\n"
     ]
    },
    {
     "name": "stdout",
     "output_type": "stream",
     "text": [
      "\n",
      "      Epoch    GPU_mem   box_loss   cls_loss   dfl_loss  Instances       Size\n"
     ]
    },
    {
     "name": "stderr",
     "output_type": "stream",
     "text": [
      "     30/100      2.38G      1.318     0.9529      1.252         10        640: 100%|██████████| 73/73 [00:07<00:00, 10.42it/s]\n",
      "                 Class     Images  Instances      Box(P          R      mAP50  mAP50-95): 100%|██████████| 7/7 [00:00<00:00,  8.91it/s]"
     ]
    },
    {
     "name": "stdout",
     "output_type": "stream",
     "text": [
      "                   all        217        339      0.593      0.464      0.484      0.244\n"
     ]
    },
    {
     "name": "stderr",
     "output_type": "stream",
     "text": [
      "\n"
     ]
    },
    {
     "name": "stdout",
     "output_type": "stream",
     "text": [
      "\n",
      "      Epoch    GPU_mem   box_loss   cls_loss   dfl_loss  Instances       Size\n"
     ]
    },
    {
     "name": "stderr",
     "output_type": "stream",
     "text": [
      "     31/100      2.38G      1.291     0.9454       1.25         12        640: 100%|██████████| 73/73 [00:07<00:00, 10.38it/s]\n",
      "                 Class     Images  Instances      Box(P          R      mAP50  mAP50-95): 100%|██████████| 7/7 [00:00<00:00,  8.65it/s]"
     ]
    },
    {
     "name": "stdout",
     "output_type": "stream",
     "text": [
      "                   all        217        339      0.667      0.472       0.53      0.254\n"
     ]
    },
    {
     "name": "stderr",
     "output_type": "stream",
     "text": [
      "\n"
     ]
    },
    {
     "name": "stdout",
     "output_type": "stream",
     "text": [
      "\n",
      "      Epoch    GPU_mem   box_loss   cls_loss   dfl_loss  Instances       Size\n"
     ]
    },
    {
     "name": "stderr",
     "output_type": "stream",
     "text": [
      "     32/100      2.38G       1.29     0.9378      1.245         12        640: 100%|██████████| 73/73 [00:07<00:00, 10.27it/s]\n",
      "                 Class     Images  Instances      Box(P          R      mAP50  mAP50-95): 100%|██████████| 7/7 [00:00<00:00,  8.20it/s]"
     ]
    },
    {
     "name": "stdout",
     "output_type": "stream",
     "text": [
      "                   all        217        339      0.585      0.466      0.521      0.257\n"
     ]
    },
    {
     "name": "stderr",
     "output_type": "stream",
     "text": [
      "\n"
     ]
    },
    {
     "name": "stdout",
     "output_type": "stream",
     "text": [
      "\n",
      "      Epoch    GPU_mem   box_loss   cls_loss   dfl_loss  Instances       Size\n"
     ]
    },
    {
     "name": "stderr",
     "output_type": "stream",
     "text": [
      "     33/100      2.38G      1.273     0.9083      1.222         11        640: 100%|██████████| 73/73 [00:07<00:00,  9.69it/s]\n",
      "                 Class     Images  Instances      Box(P          R      mAP50  mAP50-95): 100%|██████████| 7/7 [00:00<00:00,  7.88it/s]"
     ]
    },
    {
     "name": "stdout",
     "output_type": "stream",
     "text": [
      "                   all        217        339      0.774      0.444      0.568      0.302\n"
     ]
    },
    {
     "name": "stderr",
     "output_type": "stream",
     "text": [
      "\n"
     ]
    },
    {
     "name": "stdout",
     "output_type": "stream",
     "text": [
      "\n",
      "      Epoch    GPU_mem   box_loss   cls_loss   dfl_loss  Instances       Size\n"
     ]
    },
    {
     "name": "stderr",
     "output_type": "stream",
     "text": [
      "     34/100      2.38G      1.264     0.9219      1.242         21        640: 100%|██████████| 73/73 [00:07<00:00,  9.76it/s]\n",
      "                 Class     Images  Instances      Box(P          R      mAP50  mAP50-95): 100%|██████████| 7/7 [00:00<00:00,  7.96it/s]"
     ]
    },
    {
     "name": "stdout",
     "output_type": "stream",
     "text": [
      "                   all        217        339      0.695      0.463      0.561      0.267\n"
     ]
    },
    {
     "name": "stderr",
     "output_type": "stream",
     "text": [
      "\n"
     ]
    },
    {
     "name": "stdout",
     "output_type": "stream",
     "text": [
      "\n",
      "      Epoch    GPU_mem   box_loss   cls_loss   dfl_loss  Instances       Size\n"
     ]
    },
    {
     "name": "stderr",
     "output_type": "stream",
     "text": [
      "     35/100      2.38G      1.279     0.8831      1.224         14        640: 100%|██████████| 73/73 [00:07<00:00,  9.93it/s]\n",
      "                 Class     Images  Instances      Box(P          R      mAP50  mAP50-95): 100%|██████████| 7/7 [00:00<00:00,  7.91it/s]"
     ]
    },
    {
     "name": "stdout",
     "output_type": "stream",
     "text": [
      "                   all        217        339      0.698      0.442      0.509      0.248\n"
     ]
    },
    {
     "name": "stderr",
     "output_type": "stream",
     "text": [
      "\n"
     ]
    },
    {
     "name": "stdout",
     "output_type": "stream",
     "text": [
      "\n",
      "      Epoch    GPU_mem   box_loss   cls_loss   dfl_loss  Instances       Size\n"
     ]
    },
    {
     "name": "stderr",
     "output_type": "stream",
     "text": [
      "     36/100      2.38G      1.277     0.9015      1.228          9        640: 100%|██████████| 73/73 [00:07<00:00, 10.00it/s]\n",
      "                 Class     Images  Instances      Box(P          R      mAP50  mAP50-95): 100%|██████████| 7/7 [00:00<00:00,  8.07it/s]"
     ]
    },
    {
     "name": "stdout",
     "output_type": "stream",
     "text": [
      "                   all        217        339      0.639      0.487      0.533      0.248\n"
     ]
    },
    {
     "name": "stderr",
     "output_type": "stream",
     "text": [
      "\n"
     ]
    },
    {
     "name": "stdout",
     "output_type": "stream",
     "text": [
      "\n",
      "      Epoch    GPU_mem   box_loss   cls_loss   dfl_loss  Instances       Size\n"
     ]
    },
    {
     "name": "stderr",
     "output_type": "stream",
     "text": [
      "     37/100      2.38G      1.263     0.8749      1.223         13        640: 100%|██████████| 73/73 [00:07<00:00,  9.71it/s]\n",
      "                 Class     Images  Instances      Box(P          R      mAP50  mAP50-95): 100%|██████████| 7/7 [00:00<00:00,  7.73it/s]"
     ]
    },
    {
     "name": "stdout",
     "output_type": "stream",
     "text": [
      "                   all        217        339      0.656      0.454      0.512      0.249\n"
     ]
    },
    {
     "name": "stderr",
     "output_type": "stream",
     "text": [
      "\n"
     ]
    },
    {
     "name": "stdout",
     "output_type": "stream",
     "text": [
      "\n",
      "      Epoch    GPU_mem   box_loss   cls_loss   dfl_loss  Instances       Size\n"
     ]
    },
    {
     "name": "stderr",
     "output_type": "stream",
     "text": [
      "     38/100      2.38G      1.249     0.8705      1.215         15        640: 100%|██████████| 73/73 [00:07<00:00,  9.62it/s]\n",
      "                 Class     Images  Instances      Box(P          R      mAP50  mAP50-95): 100%|██████████| 7/7 [00:00<00:00,  7.76it/s]"
     ]
    },
    {
     "name": "stdout",
     "output_type": "stream",
     "text": [
      "                   all        217        339      0.533      0.475      0.418      0.193\n"
     ]
    },
    {
     "name": "stderr",
     "output_type": "stream",
     "text": [
      "\n"
     ]
    },
    {
     "name": "stdout",
     "output_type": "stream",
     "text": [
      "\n",
      "      Epoch    GPU_mem   box_loss   cls_loss   dfl_loss  Instances       Size\n"
     ]
    },
    {
     "name": "stderr",
     "output_type": "stream",
     "text": [
      "     39/100      2.38G       1.24     0.8629      1.202          8        640: 100%|██████████| 73/73 [00:07<00:00,  9.93it/s]\n",
      "                 Class     Images  Instances      Box(P          R      mAP50  mAP50-95): 100%|██████████| 7/7 [00:00<00:00,  7.97it/s]"
     ]
    },
    {
     "name": "stdout",
     "output_type": "stream",
     "text": [
      "                   all        217        339      0.678      0.434      0.495      0.236\n"
     ]
    },
    {
     "name": "stderr",
     "output_type": "stream",
     "text": [
      "\n"
     ]
    },
    {
     "name": "stdout",
     "output_type": "stream",
     "text": [
      "\n",
      "      Epoch    GPU_mem   box_loss   cls_loss   dfl_loss  Instances       Size\n"
     ]
    },
    {
     "name": "stderr",
     "output_type": "stream",
     "text": [
      "     40/100      2.38G      1.252     0.8928      1.228          9        640: 100%|██████████| 73/73 [00:07<00:00, 10.07it/s]\n",
      "                 Class     Images  Instances      Box(P          R      mAP50  mAP50-95): 100%|██████████| 7/7 [00:00<00:00,  8.70it/s]"
     ]
    },
    {
     "name": "stdout",
     "output_type": "stream",
     "text": [
      "                   all        217        339      0.583      0.469      0.433      0.204\n"
     ]
    },
    {
     "name": "stderr",
     "output_type": "stream",
     "text": [
      "\n"
     ]
    },
    {
     "name": "stdout",
     "output_type": "stream",
     "text": [
      "\n",
      "      Epoch    GPU_mem   box_loss   cls_loss   dfl_loss  Instances       Size\n"
     ]
    },
    {
     "name": "stderr",
     "output_type": "stream",
     "text": [
      "     41/100      2.38G      1.207     0.8299      1.189         11        640: 100%|██████████| 73/73 [00:07<00:00, 10.25it/s]\n",
      "                 Class     Images  Instances      Box(P          R      mAP50  mAP50-95): 100%|██████████| 7/7 [00:00<00:00,  8.97it/s]"
     ]
    },
    {
     "name": "stdout",
     "output_type": "stream",
     "text": [
      "                   all        217        339      0.673      0.407      0.454      0.227\n"
     ]
    },
    {
     "name": "stderr",
     "output_type": "stream",
     "text": [
      "\n"
     ]
    },
    {
     "name": "stdout",
     "output_type": "stream",
     "text": [
      "\n",
      "      Epoch    GPU_mem   box_loss   cls_loss   dfl_loss  Instances       Size\n"
     ]
    },
    {
     "name": "stderr",
     "output_type": "stream",
     "text": [
      "     42/100      2.38G      1.209     0.8265      1.195         10        640: 100%|██████████| 73/73 [00:06<00:00, 10.43it/s]\n",
      "                 Class     Images  Instances      Box(P          R      mAP50  mAP50-95): 100%|██████████| 7/7 [00:00<00:00,  8.51it/s]"
     ]
    },
    {
     "name": "stdout",
     "output_type": "stream",
     "text": [
      "                   all        217        339      0.642      0.482      0.512      0.258\n"
     ]
    },
    {
     "name": "stderr",
     "output_type": "stream",
     "text": [
      "\n"
     ]
    },
    {
     "name": "stdout",
     "output_type": "stream",
     "text": [
      "\n",
      "      Epoch    GPU_mem   box_loss   cls_loss   dfl_loss  Instances       Size\n"
     ]
    },
    {
     "name": "stderr",
     "output_type": "stream",
     "text": [
      "     43/100      2.38G      1.241     0.8631      1.224         12        640: 100%|██████████| 73/73 [00:06<00:00, 10.48it/s]\n",
      "                 Class     Images  Instances      Box(P          R      mAP50  mAP50-95): 100%|██████████| 7/7 [00:00<00:00,  8.99it/s]"
     ]
    },
    {
     "name": "stdout",
     "output_type": "stream",
     "text": [
      "                   all        217        339      0.686      0.465       0.54      0.262\n"
     ]
    },
    {
     "name": "stderr",
     "output_type": "stream",
     "text": [
      "\n"
     ]
    },
    {
     "name": "stdout",
     "output_type": "stream",
     "text": [
      "\n",
      "      Epoch    GPU_mem   box_loss   cls_loss   dfl_loss  Instances       Size\n"
     ]
    },
    {
     "name": "stderr",
     "output_type": "stream",
     "text": [
      "     44/100      2.38G      1.209     0.8278      1.195          6        640: 100%|██████████| 73/73 [00:06<00:00, 10.53it/s]\n",
      "                 Class     Images  Instances      Box(P          R      mAP50  mAP50-95): 100%|██████████| 7/7 [00:00<00:00,  8.10it/s]"
     ]
    },
    {
     "name": "stdout",
     "output_type": "stream",
     "text": [
      "                   all        217        339      0.662      0.487      0.544      0.256\n"
     ]
    },
    {
     "name": "stderr",
     "output_type": "stream",
     "text": [
      "\n"
     ]
    },
    {
     "name": "stdout",
     "output_type": "stream",
     "text": [
      "\n",
      "      Epoch    GPU_mem   box_loss   cls_loss   dfl_loss  Instances       Size\n"
     ]
    },
    {
     "name": "stderr",
     "output_type": "stream",
     "text": [
      "     45/100      2.38G      1.198     0.8316      1.188         13        640: 100%|██████████| 73/73 [00:06<00:00, 10.55it/s]\n",
      "                 Class     Images  Instances      Box(P          R      mAP50  mAP50-95): 100%|██████████| 7/7 [00:00<00:00,  8.24it/s]"
     ]
    },
    {
     "name": "stdout",
     "output_type": "stream",
     "text": [
      "                   all        217        339      0.632      0.456      0.477      0.222\n"
     ]
    },
    {
     "name": "stderr",
     "output_type": "stream",
     "text": [
      "\n"
     ]
    },
    {
     "name": "stdout",
     "output_type": "stream",
     "text": [
      "\n",
      "      Epoch    GPU_mem   box_loss   cls_loss   dfl_loss  Instances       Size\n"
     ]
    },
    {
     "name": "stderr",
     "output_type": "stream",
     "text": [
      "     46/100      2.38G       1.23     0.8405      1.205         14        640: 100%|██████████| 73/73 [00:06<00:00, 10.50it/s]\n",
      "                 Class     Images  Instances      Box(P          R      mAP50  mAP50-95): 100%|██████████| 7/7 [00:00<00:00,  9.01it/s]"
     ]
    },
    {
     "name": "stdout",
     "output_type": "stream",
     "text": [
      "                   all        217        339      0.672      0.457      0.515      0.261\n"
     ]
    },
    {
     "name": "stderr",
     "output_type": "stream",
     "text": [
      "\n"
     ]
    },
    {
     "name": "stdout",
     "output_type": "stream",
     "text": [
      "\n",
      "      Epoch    GPU_mem   box_loss   cls_loss   dfl_loss  Instances       Size\n"
     ]
    },
    {
     "name": "stderr",
     "output_type": "stream",
     "text": [
      "     47/100      2.38G      1.177     0.8124      1.177         11        640: 100%|██████████| 73/73 [00:06<00:00, 10.46it/s]\n",
      "                 Class     Images  Instances      Box(P          R      mAP50  mAP50-95): 100%|██████████| 7/7 [00:00<00:00,  8.64it/s]"
     ]
    },
    {
     "name": "stdout",
     "output_type": "stream",
     "text": [
      "                   all        217        339      0.571      0.499      0.499      0.252\n"
     ]
    },
    {
     "name": "stderr",
     "output_type": "stream",
     "text": [
      "\n"
     ]
    },
    {
     "name": "stdout",
     "output_type": "stream",
     "text": [
      "\n",
      "      Epoch    GPU_mem   box_loss   cls_loss   dfl_loss  Instances       Size\n"
     ]
    },
    {
     "name": "stderr",
     "output_type": "stream",
     "text": [
      "     48/100      2.38G      1.196     0.8119      1.189          7        640: 100%|██████████| 73/73 [00:06<00:00, 10.53it/s]\n",
      "                 Class     Images  Instances      Box(P          R      mAP50  mAP50-95): 100%|██████████| 7/7 [00:00<00:00,  8.54it/s]"
     ]
    },
    {
     "name": "stdout",
     "output_type": "stream",
     "text": [
      "                   all        217        339       0.62      0.511      0.527      0.264\n"
     ]
    },
    {
     "name": "stderr",
     "output_type": "stream",
     "text": [
      "\n"
     ]
    },
    {
     "name": "stdout",
     "output_type": "stream",
     "text": [
      "\n",
      "      Epoch    GPU_mem   box_loss   cls_loss   dfl_loss  Instances       Size\n"
     ]
    },
    {
     "name": "stderr",
     "output_type": "stream",
     "text": [
      "     49/100      2.38G      1.212     0.8465      1.204          8        640: 100%|██████████| 73/73 [00:06<00:00, 10.46it/s]\n",
      "                 Class     Images  Instances      Box(P          R      mAP50  mAP50-95): 100%|██████████| 7/7 [00:00<00:00,  8.50it/s]"
     ]
    },
    {
     "name": "stdout",
     "output_type": "stream",
     "text": [
      "                   all        217        339      0.535      0.499      0.489      0.252\n"
     ]
    },
    {
     "name": "stderr",
     "output_type": "stream",
     "text": [
      "\n"
     ]
    },
    {
     "name": "stdout",
     "output_type": "stream",
     "text": [
      "\n",
      "      Epoch    GPU_mem   box_loss   cls_loss   dfl_loss  Instances       Size\n"
     ]
    },
    {
     "name": "stderr",
     "output_type": "stream",
     "text": [
      "     50/100      2.38G      1.169     0.8099      1.171         10        640: 100%|██████████| 73/73 [00:06<00:00, 10.59it/s]\n",
      "                 Class     Images  Instances      Box(P          R      mAP50  mAP50-95): 100%|██████████| 7/7 [00:00<00:00,  8.60it/s]"
     ]
    },
    {
     "name": "stdout",
     "output_type": "stream",
     "text": [
      "                   all        217        339      0.751      0.466      0.588      0.309\n"
     ]
    },
    {
     "name": "stderr",
     "output_type": "stream",
     "text": [
      "\n"
     ]
    },
    {
     "name": "stdout",
     "output_type": "stream",
     "text": [
      "\n",
      "      Epoch    GPU_mem   box_loss   cls_loss   dfl_loss  Instances       Size\n"
     ]
    },
    {
     "name": "stderr",
     "output_type": "stream",
     "text": [
      "     51/100      2.38G      1.151     0.7502      1.167          8        640: 100%|██████████| 73/73 [00:06<00:00, 10.50it/s]\n",
      "                 Class     Images  Instances      Box(P          R      mAP50  mAP50-95): 100%|██████████| 7/7 [00:00<00:00,  8.92it/s]"
     ]
    },
    {
     "name": "stdout",
     "output_type": "stream",
     "text": [
      "                   all        217        339      0.632      0.452      0.466      0.204\n"
     ]
    },
    {
     "name": "stderr",
     "output_type": "stream",
     "text": [
      "\n"
     ]
    },
    {
     "name": "stdout",
     "output_type": "stream",
     "text": [
      "\n",
      "      Epoch    GPU_mem   box_loss   cls_loss   dfl_loss  Instances       Size\n"
     ]
    },
    {
     "name": "stderr",
     "output_type": "stream",
     "text": [
      "     52/100      2.38G      1.164     0.7582      1.157         14        640: 100%|██████████| 73/73 [00:06<00:00, 10.47it/s]\n",
      "                 Class     Images  Instances      Box(P          R      mAP50  mAP50-95): 100%|██████████| 7/7 [00:00<00:00,  8.77it/s]"
     ]
    },
    {
     "name": "stdout",
     "output_type": "stream",
     "text": [
      "                   all        217        339      0.691      0.501      0.576      0.279\n"
     ]
    },
    {
     "name": "stderr",
     "output_type": "stream",
     "text": [
      "\n"
     ]
    },
    {
     "name": "stdout",
     "output_type": "stream",
     "text": [
      "\n",
      "      Epoch    GPU_mem   box_loss   cls_loss   dfl_loss  Instances       Size\n"
     ]
    },
    {
     "name": "stderr",
     "output_type": "stream",
     "text": [
      "     53/100      2.38G      1.166     0.7838       1.17          8        640: 100%|██████████| 73/73 [00:06<00:00, 10.48it/s]\n",
      "                 Class     Images  Instances      Box(P          R      mAP50  mAP50-95): 100%|██████████| 7/7 [00:00<00:00,  8.76it/s]"
     ]
    },
    {
     "name": "stdout",
     "output_type": "stream",
     "text": [
      "                   all        217        339      0.698      0.466      0.503      0.258\n"
     ]
    },
    {
     "name": "stderr",
     "output_type": "stream",
     "text": [
      "\n"
     ]
    },
    {
     "name": "stdout",
     "output_type": "stream",
     "text": [
      "\n",
      "      Epoch    GPU_mem   box_loss   cls_loss   dfl_loss  Instances       Size\n"
     ]
    },
    {
     "name": "stderr",
     "output_type": "stream",
     "text": [
      "     54/100      2.38G      1.153     0.7483      1.158         11        640: 100%|██████████| 73/73 [00:06<00:00, 10.56it/s]\n",
      "                 Class     Images  Instances      Box(P          R      mAP50  mAP50-95): 100%|██████████| 7/7 [00:00<00:00,  9.16it/s]"
     ]
    },
    {
     "name": "stdout",
     "output_type": "stream",
     "text": [
      "                   all        217        339       0.59      0.454      0.451      0.235\n"
     ]
    },
    {
     "name": "stderr",
     "output_type": "stream",
     "text": [
      "\n"
     ]
    },
    {
     "name": "stdout",
     "output_type": "stream",
     "text": [
      "\n",
      "      Epoch    GPU_mem   box_loss   cls_loss   dfl_loss  Instances       Size\n"
     ]
    },
    {
     "name": "stderr",
     "output_type": "stream",
     "text": [
      "     55/100      2.38G      1.129     0.7486      1.148          6        640: 100%|██████████| 73/73 [00:06<00:00, 10.53it/s]\n",
      "                 Class     Images  Instances      Box(P          R      mAP50  mAP50-95): 100%|██████████| 7/7 [00:00<00:00,  8.75it/s]"
     ]
    },
    {
     "name": "stdout",
     "output_type": "stream",
     "text": [
      "                   all        217        339      0.554      0.501      0.425      0.198\n"
     ]
    },
    {
     "name": "stderr",
     "output_type": "stream",
     "text": [
      "\n"
     ]
    },
    {
     "name": "stdout",
     "output_type": "stream",
     "text": [
      "\n",
      "      Epoch    GPU_mem   box_loss   cls_loss   dfl_loss  Instances       Size\n"
     ]
    },
    {
     "name": "stderr",
     "output_type": "stream",
     "text": [
      "     56/100      2.38G      1.129     0.7637      1.148          9        640: 100%|██████████| 73/73 [00:07<00:00, 10.20it/s]\n",
      "                 Class     Images  Instances      Box(P          R      mAP50  mAP50-95): 100%|██████████| 7/7 [00:00<00:00,  8.99it/s]"
     ]
    },
    {
     "name": "stdout",
     "output_type": "stream",
     "text": [
      "                   all        217        339      0.545      0.475      0.449      0.229\n"
     ]
    },
    {
     "name": "stderr",
     "output_type": "stream",
     "text": [
      "\n"
     ]
    },
    {
     "name": "stdout",
     "output_type": "stream",
     "text": [
      "\n",
      "      Epoch    GPU_mem   box_loss   cls_loss   dfl_loss  Instances       Size\n"
     ]
    },
    {
     "name": "stderr",
     "output_type": "stream",
     "text": [
      "     57/100      2.38G        1.1     0.7289      1.134          6        640: 100%|██████████| 73/73 [00:06<00:00, 10.47it/s]\n",
      "                 Class     Images  Instances      Box(P          R      mAP50  mAP50-95): 100%|██████████| 7/7 [00:00<00:00,  8.50it/s]"
     ]
    },
    {
     "name": "stdout",
     "output_type": "stream",
     "text": [
      "                   all        217        339      0.539      0.493      0.467      0.228\n"
     ]
    },
    {
     "name": "stderr",
     "output_type": "stream",
     "text": [
      "\n"
     ]
    },
    {
     "name": "stdout",
     "output_type": "stream",
     "text": [
      "\n",
      "      Epoch    GPU_mem   box_loss   cls_loss   dfl_loss  Instances       Size\n"
     ]
    },
    {
     "name": "stderr",
     "output_type": "stream",
     "text": [
      "     58/100      2.38G      1.146     0.7411      1.152         14        640: 100%|██████████| 73/73 [00:07<00:00, 10.42it/s]\n",
      "                 Class     Images  Instances      Box(P          R      mAP50  mAP50-95): 100%|██████████| 7/7 [00:00<00:00,  8.98it/s]"
     ]
    },
    {
     "name": "stdout",
     "output_type": "stream",
     "text": [
      "                   all        217        339      0.566      0.478      0.468      0.219\n"
     ]
    },
    {
     "name": "stderr",
     "output_type": "stream",
     "text": [
      "\n"
     ]
    },
    {
     "name": "stdout",
     "output_type": "stream",
     "text": [
      "\n",
      "      Epoch    GPU_mem   box_loss   cls_loss   dfl_loss  Instances       Size\n"
     ]
    },
    {
     "name": "stderr",
     "output_type": "stream",
     "text": [
      "     59/100      2.38G      1.128     0.7292      1.143         14        640: 100%|██████████| 73/73 [00:06<00:00, 10.48it/s]\n",
      "                 Class     Images  Instances      Box(P          R      mAP50  mAP50-95): 100%|██████████| 7/7 [00:00<00:00,  8.64it/s]"
     ]
    },
    {
     "name": "stdout",
     "output_type": "stream",
     "text": [
      "                   all        217        339      0.622      0.538      0.507      0.247\n"
     ]
    },
    {
     "name": "stderr",
     "output_type": "stream",
     "text": [
      "\n"
     ]
    },
    {
     "name": "stdout",
     "output_type": "stream",
     "text": [
      "\n",
      "      Epoch    GPU_mem   box_loss   cls_loss   dfl_loss  Instances       Size\n"
     ]
    },
    {
     "name": "stderr",
     "output_type": "stream",
     "text": [
      "     60/100      2.38G      1.117     0.7093      1.136          9        640: 100%|██████████| 73/73 [00:07<00:00, 10.34it/s]\n",
      "                 Class     Images  Instances      Box(P          R      mAP50  mAP50-95): 100%|██████████| 7/7 [00:00<00:00,  9.02it/s]"
     ]
    },
    {
     "name": "stdout",
     "output_type": "stream",
     "text": [
      "                   all        217        339      0.681       0.46      0.512      0.266\n"
     ]
    },
    {
     "name": "stderr",
     "output_type": "stream",
     "text": [
      "\n"
     ]
    },
    {
     "name": "stdout",
     "output_type": "stream",
     "text": [
      "\n",
      "      Epoch    GPU_mem   box_loss   cls_loss   dfl_loss  Instances       Size\n"
     ]
    },
    {
     "name": "stderr",
     "output_type": "stream",
     "text": [
      "     61/100      2.38G      1.147     0.7354       1.16          9        640: 100%|██████████| 73/73 [00:07<00:00, 10.36it/s]\n",
      "                 Class     Images  Instances      Box(P          R      mAP50  mAP50-95): 100%|██████████| 7/7 [00:00<00:00,  8.51it/s]"
     ]
    },
    {
     "name": "stdout",
     "output_type": "stream",
     "text": [
      "                   all        217        339      0.642      0.491      0.507      0.244\n"
     ]
    },
    {
     "name": "stderr",
     "output_type": "stream",
     "text": [
      "\n"
     ]
    },
    {
     "name": "stdout",
     "output_type": "stream",
     "text": [
      "\n",
      "      Epoch    GPU_mem   box_loss   cls_loss   dfl_loss  Instances       Size\n"
     ]
    },
    {
     "name": "stderr",
     "output_type": "stream",
     "text": [
      "     62/100      2.38G      1.066     0.7025      1.119         19        640: 100%|██████████| 73/73 [00:07<00:00, 10.42it/s]\n",
      "                 Class     Images  Instances      Box(P          R      mAP50  mAP50-95): 100%|██████████| 7/7 [00:00<00:00,  8.82it/s]"
     ]
    },
    {
     "name": "stdout",
     "output_type": "stream",
     "text": [
      "                   all        217        339      0.612      0.466      0.457      0.235\n"
     ]
    },
    {
     "name": "stderr",
     "output_type": "stream",
     "text": [
      "\n"
     ]
    },
    {
     "name": "stdout",
     "output_type": "stream",
     "text": [
      "\n",
      "      Epoch    GPU_mem   box_loss   cls_loss   dfl_loss  Instances       Size\n"
     ]
    },
    {
     "name": "stderr",
     "output_type": "stream",
     "text": [
      "     63/100      2.38G      1.079     0.6941      1.118         13        640: 100%|██████████| 73/73 [00:06<00:00, 10.47it/s]\n",
      "                 Class     Images  Instances      Box(P          R      mAP50  mAP50-95): 100%|██████████| 7/7 [00:00<00:00,  8.78it/s]"
     ]
    },
    {
     "name": "stdout",
     "output_type": "stream",
     "text": [
      "                   all        217        339      0.613      0.528       0.56      0.293\n"
     ]
    },
    {
     "name": "stderr",
     "output_type": "stream",
     "text": [
      "\n"
     ]
    },
    {
     "name": "stdout",
     "output_type": "stream",
     "text": [
      "\n",
      "      Epoch    GPU_mem   box_loss   cls_loss   dfl_loss  Instances       Size\n"
     ]
    },
    {
     "name": "stderr",
     "output_type": "stream",
     "text": [
      "     64/100      2.38G      1.086     0.6915      1.128         18        640: 100%|██████████| 73/73 [00:06<00:00, 10.49it/s]\n",
      "                 Class     Images  Instances      Box(P          R      mAP50  mAP50-95): 100%|██████████| 7/7 [00:00<00:00,  8.90it/s]"
     ]
    },
    {
     "name": "stdout",
     "output_type": "stream",
     "text": [
      "                   all        217        339      0.581       0.46       0.46      0.239\n"
     ]
    },
    {
     "name": "stderr",
     "output_type": "stream",
     "text": [
      "\n"
     ]
    },
    {
     "name": "stdout",
     "output_type": "stream",
     "text": [
      "\n",
      "      Epoch    GPU_mem   box_loss   cls_loss   dfl_loss  Instances       Size\n"
     ]
    },
    {
     "name": "stderr",
     "output_type": "stream",
     "text": [
      "     65/100      2.38G      1.105     0.7037      1.138         13        640: 100%|██████████| 73/73 [00:06<00:00, 10.48it/s]\n",
      "                 Class     Images  Instances      Box(P          R      mAP50  mAP50-95): 100%|██████████| 7/7 [00:00<00:00,  8.67it/s]"
     ]
    },
    {
     "name": "stdout",
     "output_type": "stream",
     "text": [
      "                   all        217        339       0.53      0.527      0.495      0.256\n"
     ]
    },
    {
     "name": "stderr",
     "output_type": "stream",
     "text": [
      "\n"
     ]
    },
    {
     "name": "stdout",
     "output_type": "stream",
     "text": [
      "\n",
      "      Epoch    GPU_mem   box_loss   cls_loss   dfl_loss  Instances       Size\n"
     ]
    },
    {
     "name": "stderr",
     "output_type": "stream",
     "text": [
      "     66/100      2.38G      1.103     0.6979      1.135          4        640: 100%|██████████| 73/73 [00:06<00:00, 10.47it/s]\n",
      "                 Class     Images  Instances      Box(P          R      mAP50  mAP50-95): 100%|██████████| 7/7 [00:00<00:00,  9.02it/s]"
     ]
    },
    {
     "name": "stdout",
     "output_type": "stream",
     "text": [
      "                   all        217        339      0.577      0.445      0.458      0.234\n"
     ]
    },
    {
     "name": "stderr",
     "output_type": "stream",
     "text": [
      "\n"
     ]
    },
    {
     "name": "stdout",
     "output_type": "stream",
     "text": [
      "\n",
      "      Epoch    GPU_mem   box_loss   cls_loss   dfl_loss  Instances       Size\n"
     ]
    },
    {
     "name": "stderr",
     "output_type": "stream",
     "text": [
      "     67/100      2.38G       1.07     0.6666      1.111         11        640: 100%|██████████| 73/73 [00:06<00:00, 10.49it/s]\n",
      "                 Class     Images  Instances      Box(P          R      mAP50  mAP50-95): 100%|██████████| 7/7 [00:00<00:00,  8.55it/s]"
     ]
    },
    {
     "name": "stdout",
     "output_type": "stream",
     "text": [
      "                   all        217        339      0.633      0.499      0.513      0.255\n"
     ]
    },
    {
     "name": "stderr",
     "output_type": "stream",
     "text": [
      "\n"
     ]
    },
    {
     "name": "stdout",
     "output_type": "stream",
     "text": [
      "\n",
      "      Epoch    GPU_mem   box_loss   cls_loss   dfl_loss  Instances       Size\n"
     ]
    },
    {
     "name": "stderr",
     "output_type": "stream",
     "text": [
      "     68/100      2.38G      1.086      0.712      1.119          9        640: 100%|██████████| 73/73 [00:06<00:00, 10.43it/s]\n",
      "                 Class     Images  Instances      Box(P          R      mAP50  mAP50-95): 100%|██████████| 7/7 [00:00<00:00,  8.85it/s]"
     ]
    },
    {
     "name": "stdout",
     "output_type": "stream",
     "text": [
      "                   all        217        339      0.628      0.518       0.48      0.236\n"
     ]
    },
    {
     "name": "stderr",
     "output_type": "stream",
     "text": [
      "\n"
     ]
    },
    {
     "name": "stdout",
     "output_type": "stream",
     "text": [
      "\n",
      "      Epoch    GPU_mem   box_loss   cls_loss   dfl_loss  Instances       Size\n"
     ]
    },
    {
     "name": "stderr",
     "output_type": "stream",
     "text": [
      "     69/100      2.38G      1.058     0.6798       1.12          8        640: 100%|██████████| 73/73 [00:06<00:00, 10.44it/s]\n",
      "                 Class     Images  Instances      Box(P          R      mAP50  mAP50-95): 100%|██████████| 7/7 [00:00<00:00,  8.79it/s]"
     ]
    },
    {
     "name": "stdout",
     "output_type": "stream",
     "text": [
      "                   all        217        339      0.626      0.489       0.48      0.252\n"
     ]
    },
    {
     "name": "stderr",
     "output_type": "stream",
     "text": [
      "\n"
     ]
    },
    {
     "name": "stdout",
     "output_type": "stream",
     "text": [
      "\n",
      "      Epoch    GPU_mem   box_loss   cls_loss   dfl_loss  Instances       Size\n"
     ]
    },
    {
     "name": "stderr",
     "output_type": "stream",
     "text": [
      "     70/100      2.38G      1.056     0.6656       1.11          6        640: 100%|██████████| 73/73 [00:06<00:00, 10.46it/s]\n",
      "                 Class     Images  Instances      Box(P          R      mAP50  mAP50-95): 100%|██████████| 7/7 [00:00<00:00,  8.91it/s]"
     ]
    },
    {
     "name": "stdout",
     "output_type": "stream",
     "text": [
      "                   all        217        339      0.657      0.469      0.521      0.279\n"
     ]
    },
    {
     "name": "stderr",
     "output_type": "stream",
     "text": [
      "\n"
     ]
    },
    {
     "name": "stdout",
     "output_type": "stream",
     "text": [
      "\n",
      "      Epoch    GPU_mem   box_loss   cls_loss   dfl_loss  Instances       Size\n"
     ]
    },
    {
     "name": "stderr",
     "output_type": "stream",
     "text": [
      "     71/100      2.38G      1.045     0.6539      1.103         14        640: 100%|██████████| 73/73 [00:06<00:00, 10.52it/s]\n",
      "                 Class     Images  Instances      Box(P          R      mAP50  mAP50-95): 100%|██████████| 7/7 [00:00<00:00,  8.88it/s]"
     ]
    },
    {
     "name": "stdout",
     "output_type": "stream",
     "text": [
      "                   all        217        339      0.655      0.445      0.478      0.245\n"
     ]
    },
    {
     "name": "stderr",
     "output_type": "stream",
     "text": [
      "\n"
     ]
    },
    {
     "name": "stdout",
     "output_type": "stream",
     "text": [
      "\n",
      "      Epoch    GPU_mem   box_loss   cls_loss   dfl_loss  Instances       Size\n"
     ]
    },
    {
     "name": "stderr",
     "output_type": "stream",
     "text": [
      "     72/100      2.38G      1.037     0.6633      1.106         10        640: 100%|██████████| 73/73 [00:06<00:00, 10.46it/s]\n",
      "                 Class     Images  Instances      Box(P          R      mAP50  mAP50-95): 100%|██████████| 7/7 [00:00<00:00,  8.68it/s]"
     ]
    },
    {
     "name": "stdout",
     "output_type": "stream",
     "text": [
      "                   all        217        339      0.523      0.507      0.479       0.25\n"
     ]
    },
    {
     "name": "stderr",
     "output_type": "stream",
     "text": [
      "\n"
     ]
    },
    {
     "name": "stdout",
     "output_type": "stream",
     "text": [
      "\n",
      "      Epoch    GPU_mem   box_loss   cls_loss   dfl_loss  Instances       Size\n"
     ]
    },
    {
     "name": "stderr",
     "output_type": "stream",
     "text": [
      "     73/100      2.38G      1.053     0.6597      1.105          9        640: 100%|██████████| 73/73 [00:07<00:00, 10.19it/s]\n",
      "                 Class     Images  Instances      Box(P          R      mAP50  mAP50-95): 100%|██████████| 7/7 [00:00<00:00,  8.65it/s]"
     ]
    },
    {
     "name": "stdout",
     "output_type": "stream",
     "text": [
      "                   all        217        339      0.591      0.487      0.471      0.244\n"
     ]
    },
    {
     "name": "stderr",
     "output_type": "stream",
     "text": [
      "\n"
     ]
    },
    {
     "name": "stdout",
     "output_type": "stream",
     "text": [
      "\n",
      "      Epoch    GPU_mem   box_loss   cls_loss   dfl_loss  Instances       Size\n"
     ]
    },
    {
     "name": "stderr",
     "output_type": "stream",
     "text": [
      "     74/100      2.38G      1.048     0.6724      1.112          8        640: 100%|██████████| 73/73 [00:06<00:00, 10.52it/s]\n",
      "                 Class     Images  Instances      Box(P          R      mAP50  mAP50-95): 100%|██████████| 7/7 [00:00<00:00,  8.89it/s]"
     ]
    },
    {
     "name": "stdout",
     "output_type": "stream",
     "text": [
      "                   all        217        339      0.701       0.46      0.507      0.257\n"
     ]
    },
    {
     "name": "stderr",
     "output_type": "stream",
     "text": [
      "\n"
     ]
    },
    {
     "name": "stdout",
     "output_type": "stream",
     "text": [
      "\n",
      "      Epoch    GPU_mem   box_loss   cls_loss   dfl_loss  Instances       Size\n"
     ]
    },
    {
     "name": "stderr",
     "output_type": "stream",
     "text": [
      "     75/100      2.38G      1.006     0.6246      1.086          9        640: 100%|██████████| 73/73 [00:06<00:00, 10.58it/s]\n",
      "                 Class     Images  Instances      Box(P          R      mAP50  mAP50-95): 100%|██████████| 7/7 [00:00<00:00,  8.72it/s]"
     ]
    },
    {
     "name": "stdout",
     "output_type": "stream",
     "text": [
      "                   all        217        339      0.528      0.454      0.435      0.233\n"
     ]
    },
    {
     "name": "stderr",
     "output_type": "stream",
     "text": [
      "\n"
     ]
    },
    {
     "name": "stdout",
     "output_type": "stream",
     "text": [
      "\n",
      "      Epoch    GPU_mem   box_loss   cls_loss   dfl_loss  Instances       Size\n"
     ]
    },
    {
     "name": "stderr",
     "output_type": "stream",
     "text": [
      "     76/100      2.38G      1.015     0.6184      1.087         14        640: 100%|██████████| 73/73 [00:06<00:00, 10.49it/s]\n",
      "                 Class     Images  Instances      Box(P          R      mAP50  mAP50-95): 100%|██████████| 7/7 [00:00<00:00,  9.10it/s]"
     ]
    },
    {
     "name": "stdout",
     "output_type": "stream",
     "text": [
      "                   all        217        339      0.559      0.451      0.443      0.242\n"
     ]
    },
    {
     "name": "stderr",
     "output_type": "stream",
     "text": [
      "\n"
     ]
    },
    {
     "name": "stdout",
     "output_type": "stream",
     "text": [
      "\n",
      "      Epoch    GPU_mem   box_loss   cls_loss   dfl_loss  Instances       Size\n"
     ]
    },
    {
     "name": "stderr",
     "output_type": "stream",
     "text": [
      "     77/100      2.38G      1.036     0.6216      1.099          6        640: 100%|██████████| 73/73 [00:07<00:00, 10.40it/s]\n",
      "                 Class     Images  Instances      Box(P          R      mAP50  mAP50-95): 100%|██████████| 7/7 [00:00<00:00,  9.01it/s]"
     ]
    },
    {
     "name": "stdout",
     "output_type": "stream",
     "text": [
      "                   all        217        339      0.585      0.495      0.461       0.24\n"
     ]
    },
    {
     "name": "stderr",
     "output_type": "stream",
     "text": [
      "\n"
     ]
    },
    {
     "name": "stdout",
     "output_type": "stream",
     "text": [
      "\n",
      "      Epoch    GPU_mem   box_loss   cls_loss   dfl_loss  Instances       Size\n"
     ]
    },
    {
     "name": "stderr",
     "output_type": "stream",
     "text": [
      "     78/100      2.38G      1.026     0.6205      1.087          6        640: 100%|██████████| 73/73 [00:06<00:00, 10.49it/s]\n",
      "                 Class     Images  Instances      Box(P          R      mAP50  mAP50-95): 100%|██████████| 7/7 [00:00<00:00,  8.76it/s]"
     ]
    },
    {
     "name": "stdout",
     "output_type": "stream",
     "text": [
      "                   all        217        339      0.604      0.484      0.463      0.239\n"
     ]
    },
    {
     "name": "stderr",
     "output_type": "stream",
     "text": [
      "\n"
     ]
    },
    {
     "name": "stdout",
     "output_type": "stream",
     "text": [
      "\n",
      "      Epoch    GPU_mem   box_loss   cls_loss   dfl_loss  Instances       Size\n"
     ]
    },
    {
     "name": "stderr",
     "output_type": "stream",
     "text": [
      "     79/100      2.38G     0.9832     0.6141      1.067          4        640: 100%|██████████| 73/73 [00:06<00:00, 10.55it/s]\n",
      "                 Class     Images  Instances      Box(P          R      mAP50  mAP50-95): 100%|██████████| 7/7 [00:00<00:00,  8.89it/s]"
     ]
    },
    {
     "name": "stdout",
     "output_type": "stream",
     "text": [
      "                   all        217        339       0.55      0.487      0.441      0.236\n"
     ]
    },
    {
     "name": "stderr",
     "output_type": "stream",
     "text": [
      "\n"
     ]
    },
    {
     "name": "stdout",
     "output_type": "stream",
     "text": [
      "\n",
      "      Epoch    GPU_mem   box_loss   cls_loss   dfl_loss  Instances       Size\n"
     ]
    },
    {
     "name": "stderr",
     "output_type": "stream",
     "text": [
      "     80/100      2.38G     0.9868     0.6174      1.073          6        640: 100%|██████████| 73/73 [00:06<00:00, 10.51it/s]\n",
      "                 Class     Images  Instances      Box(P          R      mAP50  mAP50-95): 100%|██████████| 7/7 [00:00<00:00,  8.62it/s]"
     ]
    },
    {
     "name": "stdout",
     "output_type": "stream",
     "text": [
      "                   all        217        339       0.66      0.454      0.481      0.249\n"
     ]
    },
    {
     "name": "stderr",
     "output_type": "stream",
     "text": [
      "\n"
     ]
    },
    {
     "name": "stdout",
     "output_type": "stream",
     "text": [
      "\n",
      "      Epoch    GPU_mem   box_loss   cls_loss   dfl_loss  Instances       Size\n"
     ]
    },
    {
     "name": "stderr",
     "output_type": "stream",
     "text": [
      "     81/100      2.38G     0.9948     0.6098      1.085         13        640: 100%|██████████| 73/73 [00:06<00:00, 10.47it/s]\n",
      "                 Class     Images  Instances      Box(P          R      mAP50  mAP50-95): 100%|██████████| 7/7 [00:00<00:00,  8.89it/s]"
     ]
    },
    {
     "name": "stdout",
     "output_type": "stream",
     "text": [
      "                   all        217        339      0.498      0.487      0.428      0.223\n"
     ]
    },
    {
     "name": "stderr",
     "output_type": "stream",
     "text": [
      "\n"
     ]
    },
    {
     "name": "stdout",
     "output_type": "stream",
     "text": [
      "\n",
      "      Epoch    GPU_mem   box_loss   cls_loss   dfl_loss  Instances       Size\n"
     ]
    },
    {
     "name": "stderr",
     "output_type": "stream",
     "text": [
      "     82/100      2.38G      1.019     0.6211      1.083         14        640: 100%|██████████| 73/73 [00:06<00:00, 10.53it/s]\n",
      "                 Class     Images  Instances      Box(P          R      mAP50  mAP50-95): 100%|██████████| 7/7 [00:00<00:00,  9.23it/s]"
     ]
    },
    {
     "name": "stdout",
     "output_type": "stream",
     "text": [
      "                   all        217        339      0.617      0.434      0.453      0.236\n"
     ]
    },
    {
     "name": "stderr",
     "output_type": "stream",
     "text": [
      "\n"
     ]
    },
    {
     "name": "stdout",
     "output_type": "stream",
     "text": [
      "\n",
      "      Epoch    GPU_mem   box_loss   cls_loss   dfl_loss  Instances       Size\n"
     ]
    },
    {
     "name": "stderr",
     "output_type": "stream",
     "text": [
      "     83/100      2.38G     0.9504     0.5874      1.052          7        640: 100%|██████████| 73/73 [00:07<00:00, 10.39it/s]\n",
      "                 Class     Images  Instances      Box(P          R      mAP50  mAP50-95): 100%|██████████| 7/7 [00:00<00:00,  8.89it/s]"
     ]
    },
    {
     "name": "stdout",
     "output_type": "stream",
     "text": [
      "                   all        217        339      0.537      0.469      0.417      0.212\n"
     ]
    },
    {
     "name": "stderr",
     "output_type": "stream",
     "text": [
      "\n"
     ]
    },
    {
     "name": "stdout",
     "output_type": "stream",
     "text": [
      "\n",
      "      Epoch    GPU_mem   box_loss   cls_loss   dfl_loss  Instances       Size\n"
     ]
    },
    {
     "name": "stderr",
     "output_type": "stream",
     "text": [
      "     84/100      2.38G     0.9793     0.5889      1.066         11        640: 100%|██████████| 73/73 [00:06<00:00, 10.49it/s]\n",
      "                 Class     Images  Instances      Box(P          R      mAP50  mAP50-95): 100%|██████████| 7/7 [00:00<00:00,  9.12it/s]"
     ]
    },
    {
     "name": "stdout",
     "output_type": "stream",
     "text": [
      "                   all        217        339       0.54      0.499      0.443      0.234\n"
     ]
    },
    {
     "name": "stderr",
     "output_type": "stream",
     "text": [
      "\n"
     ]
    },
    {
     "name": "stdout",
     "output_type": "stream",
     "text": [
      "\n",
      "      Epoch    GPU_mem   box_loss   cls_loss   dfl_loss  Instances       Size\n"
     ]
    },
    {
     "name": "stderr",
     "output_type": "stream",
     "text": [
      "     85/100      2.38G     0.9709     0.5846      1.063         14        640: 100%|██████████| 73/73 [00:06<00:00, 10.53it/s]\n",
      "                 Class     Images  Instances      Box(P          R      mAP50  mAP50-95): 100%|██████████| 7/7 [00:00<00:00,  8.78it/s]"
     ]
    },
    {
     "name": "stdout",
     "output_type": "stream",
     "text": [
      "                   all        217        339      0.654      0.496      0.492       0.25\n"
     ]
    },
    {
     "name": "stderr",
     "output_type": "stream",
     "text": [
      "\n"
     ]
    },
    {
     "name": "stdout",
     "output_type": "stream",
     "text": [
      "\n",
      "      Epoch    GPU_mem   box_loss   cls_loss   dfl_loss  Instances       Size\n"
     ]
    },
    {
     "name": "stderr",
     "output_type": "stream",
     "text": [
      "     86/100      2.38G      0.995     0.5961      1.077          7        640: 100%|██████████| 73/73 [00:06<00:00, 10.47it/s]\n",
      "                 Class     Images  Instances      Box(P          R      mAP50  mAP50-95): 100%|██████████| 7/7 [00:00<00:00,  9.08it/s]"
     ]
    },
    {
     "name": "stdout",
     "output_type": "stream",
     "text": [
      "                   all        217        339      0.575      0.481      0.455      0.242\n"
     ]
    },
    {
     "name": "stderr",
     "output_type": "stream",
     "text": [
      "\n"
     ]
    },
    {
     "name": "stdout",
     "output_type": "stream",
     "text": [
      "\n",
      "      Epoch    GPU_mem   box_loss   cls_loss   dfl_loss  Instances       Size\n"
     ]
    },
    {
     "name": "stderr",
     "output_type": "stream",
     "text": [
      "     87/100      2.38G     0.9536      0.567      1.058         15        640: 100%|██████████| 73/73 [00:06<00:00, 10.53it/s]\n",
      "                 Class     Images  Instances      Box(P          R      mAP50  mAP50-95): 100%|██████████| 7/7 [00:00<00:00,  8.81it/s]"
     ]
    },
    {
     "name": "stdout",
     "output_type": "stream",
     "text": [
      "                   all        217        339      0.642      0.475      0.468      0.245\n"
     ]
    },
    {
     "name": "stderr",
     "output_type": "stream",
     "text": [
      "\n"
     ]
    },
    {
     "name": "stdout",
     "output_type": "stream",
     "text": [
      "\n",
      "      Epoch    GPU_mem   box_loss   cls_loss   dfl_loss  Instances       Size\n"
     ]
    },
    {
     "name": "stderr",
     "output_type": "stream",
     "text": [
      "     88/100      2.38G     0.9538     0.5748      1.059         19        640: 100%|██████████| 73/73 [00:06<00:00, 10.52it/s]\n",
      "                 Class     Images  Instances      Box(P          R      mAP50  mAP50-95): 100%|██████████| 7/7 [00:00<00:00,  8.97it/s]"
     ]
    },
    {
     "name": "stdout",
     "output_type": "stream",
     "text": [
      "                   all        217        339      0.665      0.454      0.467      0.237\n"
     ]
    },
    {
     "name": "stderr",
     "output_type": "stream",
     "text": [
      "\n"
     ]
    },
    {
     "name": "stdout",
     "output_type": "stream",
     "text": [
      "\n",
      "      Epoch    GPU_mem   box_loss   cls_loss   dfl_loss  Instances       Size\n"
     ]
    },
    {
     "name": "stderr",
     "output_type": "stream",
     "text": [
      "     89/100      2.38G     0.9559     0.5731      1.056          8        640: 100%|██████████| 73/73 [00:07<00:00, 10.43it/s]\n",
      "                 Class     Images  Instances      Box(P          R      mAP50  mAP50-95): 100%|██████████| 7/7 [00:00<00:00,  9.18it/s]"
     ]
    },
    {
     "name": "stdout",
     "output_type": "stream",
     "text": [
      "                   all        217        339      0.599      0.466      0.429      0.227\n"
     ]
    },
    {
     "name": "stderr",
     "output_type": "stream",
     "text": [
      "\n"
     ]
    },
    {
     "name": "stdout",
     "output_type": "stream",
     "text": [
      "\n",
      "      Epoch    GPU_mem   box_loss   cls_loss   dfl_loss  Instances       Size\n"
     ]
    },
    {
     "name": "stderr",
     "output_type": "stream",
     "text": [
      "     90/100      2.38G     0.9353     0.5619      1.059          8        640: 100%|██████████| 73/73 [00:06<00:00, 10.55it/s]\n",
      "                 Class     Images  Instances      Box(P          R      mAP50  mAP50-95): 100%|██████████| 7/7 [00:00<00:00,  9.18it/s]"
     ]
    },
    {
     "name": "stdout",
     "output_type": "stream",
     "text": [
      "                   all        217        339      0.589      0.478      0.446      0.239\n"
     ]
    },
    {
     "name": "stderr",
     "output_type": "stream",
     "text": [
      "\n"
     ]
    },
    {
     "name": "stdout",
     "output_type": "stream",
     "text": [
      "Closing dataloader mosaic\n",
      "\n",
      "      Epoch    GPU_mem   box_loss   cls_loss   dfl_loss  Instances       Size\n"
     ]
    },
    {
     "name": "stderr",
     "output_type": "stream",
     "text": [
      "     91/100      2.38G     0.8766     0.5046      1.015         14        640: 100%|██████████| 73/73 [00:07<00:00, 10.13it/s]\n",
      "                 Class     Images  Instances      Box(P          R      mAP50  mAP50-95): 100%|██████████| 7/7 [00:00<00:00,  8.52it/s]"
     ]
    },
    {
     "name": "stdout",
     "output_type": "stream",
     "text": [
      "                   all        217        339      0.611      0.506      0.473      0.241\n"
     ]
    },
    {
     "name": "stderr",
     "output_type": "stream",
     "text": [
      "\n"
     ]
    },
    {
     "name": "stdout",
     "output_type": "stream",
     "text": [
      "\n",
      "      Epoch    GPU_mem   box_loss   cls_loss   dfl_loss  Instances       Size\n"
     ]
    },
    {
     "name": "stderr",
     "output_type": "stream",
     "text": [
      "     92/100      2.38G     0.8688     0.4945      1.011          9        640: 100%|██████████| 73/73 [00:06<00:00, 10.68it/s]\n",
      "                 Class     Images  Instances      Box(P          R      mAP50  mAP50-95): 100%|██████████| 7/7 [00:00<00:00,  8.95it/s]"
     ]
    },
    {
     "name": "stdout",
     "output_type": "stream",
     "text": [
      "                   all        217        339      0.602      0.463      0.461       0.24\n"
     ]
    },
    {
     "name": "stderr",
     "output_type": "stream",
     "text": [
      "\n"
     ]
    },
    {
     "name": "stdout",
     "output_type": "stream",
     "text": [
      "\n",
      "      Epoch    GPU_mem   box_loss   cls_loss   dfl_loss  Instances       Size\n"
     ]
    },
    {
     "name": "stderr",
     "output_type": "stream",
     "text": [
      "     93/100      2.38G     0.8579     0.4863     0.9967          7        640: 100%|██████████| 73/73 [00:06<00:00, 10.52it/s]\n",
      "                 Class     Images  Instances      Box(P          R      mAP50  mAP50-95): 100%|██████████| 7/7 [00:00<00:00,  8.96it/s]"
     ]
    },
    {
     "name": "stdout",
     "output_type": "stream",
     "text": [
      "                   all        217        339      0.594      0.493      0.457      0.231\n"
     ]
    },
    {
     "name": "stderr",
     "output_type": "stream",
     "text": [
      "\n"
     ]
    },
    {
     "name": "stdout",
     "output_type": "stream",
     "text": [
      "\n",
      "      Epoch    GPU_mem   box_loss   cls_loss   dfl_loss  Instances       Size\n"
     ]
    },
    {
     "name": "stderr",
     "output_type": "stream",
     "text": [
      "     94/100      2.38G     0.8494      0.479     0.9957          7        640: 100%|██████████| 73/73 [00:06<00:00, 10.63it/s]\n",
      "                 Class     Images  Instances      Box(P          R      mAP50  mAP50-95): 100%|██████████| 7/7 [00:00<00:00,  8.93it/s]"
     ]
    },
    {
     "name": "stdout",
     "output_type": "stream",
     "text": [
      "                   all        217        339      0.631      0.464       0.44      0.217\n"
     ]
    },
    {
     "name": "stderr",
     "output_type": "stream",
     "text": [
      "\n"
     ]
    },
    {
     "name": "stdout",
     "output_type": "stream",
     "text": [
      "\n",
      "      Epoch    GPU_mem   box_loss   cls_loss   dfl_loss  Instances       Size\n"
     ]
    },
    {
     "name": "stderr",
     "output_type": "stream",
     "text": [
      "     95/100      2.38G     0.8314     0.4808     0.9871          5        640: 100%|██████████| 73/73 [00:06<00:00, 10.63it/s]\n",
      "                 Class     Images  Instances      Box(P          R      mAP50  mAP50-95): 100%|██████████| 7/7 [00:00<00:00,  8.89it/s]"
     ]
    },
    {
     "name": "stdout",
     "output_type": "stream",
     "text": [
      "                   all        217        339      0.577      0.472      0.424      0.221\n"
     ]
    },
    {
     "name": "stderr",
     "output_type": "stream",
     "text": [
      "\n"
     ]
    },
    {
     "name": "stdout",
     "output_type": "stream",
     "text": [
      "\n",
      "      Epoch    GPU_mem   box_loss   cls_loss   dfl_loss  Instances       Size\n"
     ]
    },
    {
     "name": "stderr",
     "output_type": "stream",
     "text": [
      "     96/100      2.38G     0.8286     0.4703      0.992         13        640: 100%|██████████| 73/73 [00:06<00:00, 10.48it/s]\n",
      "                 Class     Images  Instances      Box(P          R      mAP50  mAP50-95): 100%|██████████| 7/7 [00:00<00:00,  9.01it/s]"
     ]
    },
    {
     "name": "stdout",
     "output_type": "stream",
     "text": [
      "                   all        217        339      0.592      0.484      0.436      0.227\n"
     ]
    },
    {
     "name": "stderr",
     "output_type": "stream",
     "text": [
      "\n"
     ]
    },
    {
     "name": "stdout",
     "output_type": "stream",
     "text": [
      "\n",
      "      Epoch    GPU_mem   box_loss   cls_loss   dfl_loss  Instances       Size\n"
     ]
    },
    {
     "name": "stderr",
     "output_type": "stream",
     "text": [
      "     97/100      2.38G     0.8273     0.4664     0.9988          5        640: 100%|██████████| 73/73 [00:06<00:00, 10.53it/s]\n",
      "                 Class     Images  Instances      Box(P          R      mAP50  mAP50-95): 100%|██████████| 7/7 [00:00<00:00,  8.63it/s]"
     ]
    },
    {
     "name": "stdout",
     "output_type": "stream",
     "text": [
      "                   all        217        339      0.627      0.496      0.468      0.243\n"
     ]
    },
    {
     "name": "stderr",
     "output_type": "stream",
     "text": [
      "\n"
     ]
    },
    {
     "name": "stdout",
     "output_type": "stream",
     "text": [
      "\n",
      "      Epoch    GPU_mem   box_loss   cls_loss   dfl_loss  Instances       Size\n"
     ]
    },
    {
     "name": "stderr",
     "output_type": "stream",
     "text": [
      "     98/100      2.38G     0.8246     0.4699     0.9942          6        640: 100%|██████████| 73/73 [00:06<00:00, 10.53it/s]\n",
      "                 Class     Images  Instances      Box(P          R      mAP50  mAP50-95): 100%|██████████| 7/7 [00:00<00:00,  9.08it/s]"
     ]
    },
    {
     "name": "stdout",
     "output_type": "stream",
     "text": [
      "                   all        217        339      0.596      0.495      0.445      0.229\n"
     ]
    },
    {
     "name": "stderr",
     "output_type": "stream",
     "text": [
      "\n"
     ]
    },
    {
     "name": "stdout",
     "output_type": "stream",
     "text": [
      "\n",
      "      Epoch    GPU_mem   box_loss   cls_loss   dfl_loss  Instances       Size\n"
     ]
    },
    {
     "name": "stderr",
     "output_type": "stream",
     "text": [
      "     99/100      2.38G     0.8088     0.4547     0.9819          5        640: 100%|██████████| 73/73 [00:06<00:00, 10.57it/s]\n",
      "                 Class     Images  Instances      Box(P          R      mAP50  mAP50-95): 100%|██████████| 7/7 [00:00<00:00,  8.96it/s]"
     ]
    },
    {
     "name": "stdout",
     "output_type": "stream",
     "text": [
      "                   all        217        339      0.566       0.49      0.418      0.218\n"
     ]
    },
    {
     "name": "stderr",
     "output_type": "stream",
     "text": [
      "\n"
     ]
    },
    {
     "name": "stdout",
     "output_type": "stream",
     "text": [
      "\n",
      "      Epoch    GPU_mem   box_loss   cls_loss   dfl_loss  Instances       Size\n"
     ]
    },
    {
     "name": "stderr",
     "output_type": "stream",
     "text": [
      "    100/100      2.38G      0.793     0.4454       0.98          6        640: 100%|██████████| 73/73 [00:06<00:00, 10.54it/s]\n",
      "                 Class     Images  Instances      Box(P          R      mAP50  mAP50-95): 100%|██████████| 7/7 [00:00<00:00,  8.71it/s]"
     ]
    },
    {
     "name": "stdout",
     "output_type": "stream",
     "text": [
      "                   all        217        339      0.586      0.502      0.445      0.227\n"
     ]
    },
    {
     "name": "stderr",
     "output_type": "stream",
     "text": [
      "\n"
     ]
    },
    {
     "name": "stdout",
     "output_type": "stream",
     "text": [
      "\n",
      "100 epochs completed in 0.235 hours.\n",
      "Optimizer stripped from runs\\detect\\train\\weights\\last.pt, 6.3MB\n",
      "Optimizer stripped from runs\\detect\\train\\weights\\best.pt, 6.3MB\n",
      "\n",
      "Validating runs\\detect\\train\\weights\\best.pt...\n",
      "Ultralytics 8.3.107  Python-3.11.6 torch-2.5.1+cu121 CUDA:0 (NVIDIA GeForce RTX 3070, 8192MiB)\n",
      "Model summary (fused): 72 layers, 3,005,843 parameters, 0 gradients, 8.1 GFLOPs\n"
     ]
    },
    {
     "name": "stderr",
     "output_type": "stream",
     "text": [
      "                 Class     Images  Instances      Box(P          R      mAP50  mAP50-95): 100%|██████████| 7/7 [00:01<00:00,  6.20it/s]\n"
     ]
    },
    {
     "name": "stdout",
     "output_type": "stream",
     "text": [
      "                   all        217        339      0.748      0.466      0.587      0.309\n",
      "Speed: 0.1ms preprocess, 1.3ms inference, 0.0ms loss, 1.1ms postprocess per image\n",
      "Results saved to \u001b[1mruns\\detect\\train\u001b[0m\n"
     ]
    },
    {
     "data": {
      "text/plain": [
       "ultralytics.utils.metrics.DetMetrics object with attributes:\n",
       "\n",
       "ap_class_index: array([0])\n",
       "box: ultralytics.utils.metrics.Metric object\n",
       "confusion_matrix: <ultralytics.utils.metrics.ConfusionMatrix object at 0x00000240C6F35550>\n",
       "curves: ['Precision-Recall(B)', 'F1-Confidence(B)', 'Precision-Confidence(B)', 'Recall-Confidence(B)']\n",
       "curves_results: [[array([          0,    0.001001,    0.002002,    0.003003,    0.004004,    0.005005,    0.006006,    0.007007,    0.008008,    0.009009,     0.01001,    0.011011,    0.012012,    0.013013,    0.014014,    0.015015,    0.016016,    0.017017,    0.018018,    0.019019,     0.02002,    0.021021,    0.022022,    0.023023,\n",
       "          0.024024,    0.025025,    0.026026,    0.027027,    0.028028,    0.029029,     0.03003,    0.031031,    0.032032,    0.033033,    0.034034,    0.035035,    0.036036,    0.037037,    0.038038,    0.039039,     0.04004,    0.041041,    0.042042,    0.043043,    0.044044,    0.045045,    0.046046,    0.047047,\n",
       "          0.048048,    0.049049,     0.05005,    0.051051,    0.052052,    0.053053,    0.054054,    0.055055,    0.056056,    0.057057,    0.058058,    0.059059,     0.06006,    0.061061,    0.062062,    0.063063,    0.064064,    0.065065,    0.066066,    0.067067,    0.068068,    0.069069,     0.07007,    0.071071,\n",
       "          0.072072,    0.073073,    0.074074,    0.075075,    0.076076,    0.077077,    0.078078,    0.079079,     0.08008,    0.081081,    0.082082,    0.083083,    0.084084,    0.085085,    0.086086,    0.087087,    0.088088,    0.089089,     0.09009,    0.091091,    0.092092,    0.093093,    0.094094,    0.095095,\n",
       "          0.096096,    0.097097,    0.098098,    0.099099,      0.1001,      0.1011,      0.1021,      0.1031,      0.1041,     0.10511,     0.10611,     0.10711,     0.10811,     0.10911,     0.11011,     0.11111,     0.11211,     0.11311,     0.11411,     0.11512,     0.11612,     0.11712,     0.11812,     0.11912,\n",
       "           0.12012,     0.12112,     0.12212,     0.12312,     0.12412,     0.12513,     0.12613,     0.12713,     0.12813,     0.12913,     0.13013,     0.13113,     0.13213,     0.13313,     0.13413,     0.13514,     0.13614,     0.13714,     0.13814,     0.13914,     0.14014,     0.14114,     0.14214,     0.14314,\n",
       "           0.14414,     0.14515,     0.14615,     0.14715,     0.14815,     0.14915,     0.15015,     0.15115,     0.15215,     0.15315,     0.15415,     0.15516,     0.15616,     0.15716,     0.15816,     0.15916,     0.16016,     0.16116,     0.16216,     0.16316,     0.16416,     0.16517,     0.16617,     0.16717,\n",
       "           0.16817,     0.16917,     0.17017,     0.17117,     0.17217,     0.17317,     0.17417,     0.17518,     0.17618,     0.17718,     0.17818,     0.17918,     0.18018,     0.18118,     0.18218,     0.18318,     0.18418,     0.18519,     0.18619,     0.18719,     0.18819,     0.18919,     0.19019,     0.19119,\n",
       "           0.19219,     0.19319,     0.19419,      0.1952,      0.1962,      0.1972,      0.1982,      0.1992,      0.2002,      0.2012,      0.2022,      0.2032,      0.2042,     0.20521,     0.20621,     0.20721,     0.20821,     0.20921,     0.21021,     0.21121,     0.21221,     0.21321,     0.21421,     0.21522,\n",
       "           0.21622,     0.21722,     0.21822,     0.21922,     0.22022,     0.22122,     0.22222,     0.22322,     0.22422,     0.22523,     0.22623,     0.22723,     0.22823,     0.22923,     0.23023,     0.23123,     0.23223,     0.23323,     0.23423,     0.23524,     0.23624,     0.23724,     0.23824,     0.23924,\n",
       "           0.24024,     0.24124,     0.24224,     0.24324,     0.24424,     0.24525,     0.24625,     0.24725,     0.24825,     0.24925,     0.25025,     0.25125,     0.25225,     0.25325,     0.25425,     0.25526,     0.25626,     0.25726,     0.25826,     0.25926,     0.26026,     0.26126,     0.26226,     0.26326,\n",
       "           0.26426,     0.26527,     0.26627,     0.26727,     0.26827,     0.26927,     0.27027,     0.27127,     0.27227,     0.27327,     0.27427,     0.27528,     0.27628,     0.27728,     0.27828,     0.27928,     0.28028,     0.28128,     0.28228,     0.28328,     0.28428,     0.28529,     0.28629,     0.28729,\n",
       "           0.28829,     0.28929,     0.29029,     0.29129,     0.29229,     0.29329,     0.29429,      0.2953,      0.2963,      0.2973,      0.2983,      0.2993,      0.3003,      0.3013,      0.3023,      0.3033,      0.3043,     0.30531,     0.30631,     0.30731,     0.30831,     0.30931,     0.31031,     0.31131,\n",
       "           0.31231,     0.31331,     0.31431,     0.31532,     0.31632,     0.31732,     0.31832,     0.31932,     0.32032,     0.32132,     0.32232,     0.32332,     0.32432,     0.32533,     0.32633,     0.32733,     0.32833,     0.32933,     0.33033,     0.33133,     0.33233,     0.33333,     0.33433,     0.33534,\n",
       "           0.33634,     0.33734,     0.33834,     0.33934,     0.34034,     0.34134,     0.34234,     0.34334,     0.34434,     0.34535,     0.34635,     0.34735,     0.34835,     0.34935,     0.35035,     0.35135,     0.35235,     0.35335,     0.35435,     0.35536,     0.35636,     0.35736,     0.35836,     0.35936,\n",
       "           0.36036,     0.36136,     0.36236,     0.36336,     0.36436,     0.36537,     0.36637,     0.36737,     0.36837,     0.36937,     0.37037,     0.37137,     0.37237,     0.37337,     0.37437,     0.37538,     0.37638,     0.37738,     0.37838,     0.37938,     0.38038,     0.38138,     0.38238,     0.38338,\n",
       "           0.38438,     0.38539,     0.38639,     0.38739,     0.38839,     0.38939,     0.39039,     0.39139,     0.39239,     0.39339,     0.39439,      0.3954,      0.3964,      0.3974,      0.3984,      0.3994,      0.4004,      0.4014,      0.4024,      0.4034,      0.4044,     0.40541,     0.40641,     0.40741,\n",
       "           0.40841,     0.40941,     0.41041,     0.41141,     0.41241,     0.41341,     0.41441,     0.41542,     0.41642,     0.41742,     0.41842,     0.41942,     0.42042,     0.42142,     0.42242,     0.42342,     0.42442,     0.42543,     0.42643,     0.42743,     0.42843,     0.42943,     0.43043,     0.43143,\n",
       "           0.43243,     0.43343,     0.43443,     0.43544,     0.43644,     0.43744,     0.43844,     0.43944,     0.44044,     0.44144,     0.44244,     0.44344,     0.44444,     0.44545,     0.44645,     0.44745,     0.44845,     0.44945,     0.45045,     0.45145,     0.45245,     0.45345,     0.45445,     0.45546,\n",
       "           0.45646,     0.45746,     0.45846,     0.45946,     0.46046,     0.46146,     0.46246,     0.46346,     0.46446,     0.46547,     0.46647,     0.46747,     0.46847,     0.46947,     0.47047,     0.47147,     0.47247,     0.47347,     0.47447,     0.47548,     0.47648,     0.47748,     0.47848,     0.47948,\n",
       "           0.48048,     0.48148,     0.48248,     0.48348,     0.48448,     0.48549,     0.48649,     0.48749,     0.48849,     0.48949,     0.49049,     0.49149,     0.49249,     0.49349,     0.49449,      0.4955,      0.4965,      0.4975,      0.4985,      0.4995,      0.5005,      0.5015,      0.5025,      0.5035,\n",
       "            0.5045,     0.50551,     0.50651,     0.50751,     0.50851,     0.50951,     0.51051,     0.51151,     0.51251,     0.51351,     0.51451,     0.51552,     0.51652,     0.51752,     0.51852,     0.51952,     0.52052,     0.52152,     0.52252,     0.52352,     0.52452,     0.52553,     0.52653,     0.52753,\n",
       "           0.52853,     0.52953,     0.53053,     0.53153,     0.53253,     0.53353,     0.53453,     0.53554,     0.53654,     0.53754,     0.53854,     0.53954,     0.54054,     0.54154,     0.54254,     0.54354,     0.54454,     0.54555,     0.54655,     0.54755,     0.54855,     0.54955,     0.55055,     0.55155,\n",
       "           0.55255,     0.55355,     0.55455,     0.55556,     0.55656,     0.55756,     0.55856,     0.55956,     0.56056,     0.56156,     0.56256,     0.56356,     0.56456,     0.56557,     0.56657,     0.56757,     0.56857,     0.56957,     0.57057,     0.57157,     0.57257,     0.57357,     0.57457,     0.57558,\n",
       "           0.57658,     0.57758,     0.57858,     0.57958,     0.58058,     0.58158,     0.58258,     0.58358,     0.58458,     0.58559,     0.58659,     0.58759,     0.58859,     0.58959,     0.59059,     0.59159,     0.59259,     0.59359,     0.59459,      0.5956,      0.5966,      0.5976,      0.5986,      0.5996,\n",
       "            0.6006,      0.6016,      0.6026,      0.6036,      0.6046,     0.60561,     0.60661,     0.60761,     0.60861,     0.60961,     0.61061,     0.61161,     0.61261,     0.61361,     0.61461,     0.61562,     0.61662,     0.61762,     0.61862,     0.61962,     0.62062,     0.62162,     0.62262,     0.62362,\n",
       "           0.62462,     0.62563,     0.62663,     0.62763,     0.62863,     0.62963,     0.63063,     0.63163,     0.63263,     0.63363,     0.63463,     0.63564,     0.63664,     0.63764,     0.63864,     0.63964,     0.64064,     0.64164,     0.64264,     0.64364,     0.64464,     0.64565,     0.64665,     0.64765,\n",
       "           0.64865,     0.64965,     0.65065,     0.65165,     0.65265,     0.65365,     0.65465,     0.65566,     0.65666,     0.65766,     0.65866,     0.65966,     0.66066,     0.66166,     0.66266,     0.66366,     0.66466,     0.66567,     0.66667,     0.66767,     0.66867,     0.66967,     0.67067,     0.67167,\n",
       "           0.67267,     0.67367,     0.67467,     0.67568,     0.67668,     0.67768,     0.67868,     0.67968,     0.68068,     0.68168,     0.68268,     0.68368,     0.68468,     0.68569,     0.68669,     0.68769,     0.68869,     0.68969,     0.69069,     0.69169,     0.69269,     0.69369,     0.69469,      0.6957,\n",
       "            0.6967,      0.6977,      0.6987,      0.6997,      0.7007,      0.7017,      0.7027,      0.7037,      0.7047,     0.70571,     0.70671,     0.70771,     0.70871,     0.70971,     0.71071,     0.71171,     0.71271,     0.71371,     0.71471,     0.71572,     0.71672,     0.71772,     0.71872,     0.71972,\n",
       "           0.72072,     0.72172,     0.72272,     0.72372,     0.72472,     0.72573,     0.72673,     0.72773,     0.72873,     0.72973,     0.73073,     0.73173,     0.73273,     0.73373,     0.73473,     0.73574,     0.73674,     0.73774,     0.73874,     0.73974,     0.74074,     0.74174,     0.74274,     0.74374,\n",
       "           0.74474,     0.74575,     0.74675,     0.74775,     0.74875,     0.74975,     0.75075,     0.75175,     0.75275,     0.75375,     0.75475,     0.75576,     0.75676,     0.75776,     0.75876,     0.75976,     0.76076,     0.76176,     0.76276,     0.76376,     0.76476,     0.76577,     0.76677,     0.76777,\n",
       "           0.76877,     0.76977,     0.77077,     0.77177,     0.77277,     0.77377,     0.77477,     0.77578,     0.77678,     0.77778,     0.77878,     0.77978,     0.78078,     0.78178,     0.78278,     0.78378,     0.78478,     0.78579,     0.78679,     0.78779,     0.78879,     0.78979,     0.79079,     0.79179,\n",
       "           0.79279,     0.79379,     0.79479,      0.7958,      0.7968,      0.7978,      0.7988,      0.7998,      0.8008,      0.8018,      0.8028,      0.8038,      0.8048,     0.80581,     0.80681,     0.80781,     0.80881,     0.80981,     0.81081,     0.81181,     0.81281,     0.81381,     0.81481,     0.81582,\n",
       "           0.81682,     0.81782,     0.81882,     0.81982,     0.82082,     0.82182,     0.82282,     0.82382,     0.82482,     0.82583,     0.82683,     0.82783,     0.82883,     0.82983,     0.83083,     0.83183,     0.83283,     0.83383,     0.83483,     0.83584,     0.83684,     0.83784,     0.83884,     0.83984,\n",
       "           0.84084,     0.84184,     0.84284,     0.84384,     0.84484,     0.84585,     0.84685,     0.84785,     0.84885,     0.84985,     0.85085,     0.85185,     0.85285,     0.85385,     0.85485,     0.85586,     0.85686,     0.85786,     0.85886,     0.85986,     0.86086,     0.86186,     0.86286,     0.86386,\n",
       "           0.86486,     0.86587,     0.86687,     0.86787,     0.86887,     0.86987,     0.87087,     0.87187,     0.87287,     0.87387,     0.87487,     0.87588,     0.87688,     0.87788,     0.87888,     0.87988,     0.88088,     0.88188,     0.88288,     0.88388,     0.88488,     0.88589,     0.88689,     0.88789,\n",
       "           0.88889,     0.88989,     0.89089,     0.89189,     0.89289,     0.89389,     0.89489,      0.8959,      0.8969,      0.8979,      0.8989,      0.8999,      0.9009,      0.9019,      0.9029,      0.9039,      0.9049,     0.90591,     0.90691,     0.90791,     0.90891,     0.90991,     0.91091,     0.91191,\n",
       "           0.91291,     0.91391,     0.91491,     0.91592,     0.91692,     0.91792,     0.91892,     0.91992,     0.92092,     0.92192,     0.92292,     0.92392,     0.92492,     0.92593,     0.92693,     0.92793,     0.92893,     0.92993,     0.93093,     0.93193,     0.93293,     0.93393,     0.93493,     0.93594,\n",
       "           0.93694,     0.93794,     0.93894,     0.93994,     0.94094,     0.94194,     0.94294,     0.94394,     0.94494,     0.94595,     0.94695,     0.94795,     0.94895,     0.94995,     0.95095,     0.95195,     0.95295,     0.95395,     0.95495,     0.95596,     0.95696,     0.95796,     0.95896,     0.95996,\n",
       "           0.96096,     0.96196,     0.96296,     0.96396,     0.96496,     0.96597,     0.96697,     0.96797,     0.96897,     0.96997,     0.97097,     0.97197,     0.97297,     0.97397,     0.97497,     0.97598,     0.97698,     0.97798,     0.97898,     0.97998,     0.98098,     0.98198,     0.98298,     0.98398,\n",
       "           0.98498,     0.98599,     0.98699,     0.98799,     0.98899,     0.98999,     0.99099,     0.99199,     0.99299,     0.99399,     0.99499,       0.996,       0.997,       0.998,       0.999,           1]), array([[          1,           1,           1,           1,           1,           1,           1,           1,           1,           1,           1,           1,           1,           1,           1,           1,           1,           1,           1,           1,           1,           1,           1,\n",
       "                  1,           1,           1,           1,           1,           1,           1,           1,           1,           1,           1,           1,           1,           1,           1,           1,           1,           1,           1,           1,           1,           1,           1,\n",
       "                  1,           1,           1,           1,           1,           1,           1,           1,           1,           1,           1,           1,           1,           1,           1,           1,           1,           1,           1,           1,           1,           1,           1,\n",
       "                  1,           1,           1,           1,           1,           1,           1,           1,     0.98529,     0.98529,     0.98529,     0.98529,     0.98529,     0.98529,     0.98529,     0.98529,     0.98529,     0.98529,     0.98529,     0.98529,     0.98529,     0.98529,     0.98529,\n",
       "            0.98529,     0.98529,     0.98529,     0.98529,     0.98529,     0.98529,     0.98529,     0.98529,     0.98529,     0.98529,     0.98529,     0.98529,     0.98529,     0.98529,     0.98529,     0.98529,     0.98529,     0.98529,     0.98529,     0.98529,     0.98529,     0.98529,     0.98529,\n",
       "            0.98529,     0.98529,     0.98529,     0.98529,     0.98529,     0.98529,     0.98529,     0.98529,     0.98529,     0.98529,     0.98529,     0.98529,     0.98529,     0.98529,     0.98529,     0.98529,     0.98529,     0.98529,     0.98529,     0.98529,     0.98529,     0.98529,     0.98529,\n",
       "            0.98529,     0.98529,     0.98529,     0.98529,     0.98529,     0.98529,     0.98529,     0.98529,     0.98529,     0.98529,     0.98529,     0.98529,     0.98529,     0.98529,     0.98529,     0.98529,     0.98529,     0.98529,     0.98529,     0.98529,     0.98529,     0.98529,     0.98529,\n",
       "            0.98529,     0.98529,     0.98529,     0.98529,     0.98529,     0.98529,     0.98529,     0.98529,     0.98529,     0.98529,     0.98529,     0.98529,     0.98529,     0.98529,     0.98529,     0.98529,     0.98529,     0.98529,     0.98529,     0.98529,     0.98529,     0.98529,     0.98529,\n",
       "            0.98529,     0.98529,     0.98529,     0.98529,     0.98529,     0.98529,     0.98529,     0.98529,     0.98529,     0.98529,     0.98529,     0.98529,     0.98529,     0.98529,     0.97368,     0.97368,     0.97368,     0.97368,     0.97368,     0.97368,     0.97368,     0.97368,     0.97368,\n",
       "            0.97368,     0.97368,     0.97368,     0.97368,     0.97368,     0.97368,     0.97368,     0.97368,     0.97368,     0.97368,     0.97368,     0.97368,     0.96203,     0.96203,     0.96203,     0.96203,     0.96203,     0.95455,     0.95455,     0.95455,     0.95455,     0.95455,     0.95455,\n",
       "            0.95455,     0.95455,     0.95455,     0.95455,     0.95455,     0.95455,     0.95455,     0.95455,     0.95455,     0.95455,     0.95455,     0.95455,     0.95455,     0.95455,     0.95455,     0.95455,     0.95455,     0.95455,     0.94845,     0.94845,     0.94845,     0.94845,     0.94845,\n",
       "            0.94845,     0.94845,     0.94845,     0.94845,     0.94845,     0.94845,     0.94845,     0.94845,     0.94845,     0.94845,     0.94845,     0.94845,     0.94845,     0.94845,     0.94845,     0.94845,     0.94845,     0.94845,     0.94845,     0.93333,     0.93333,     0.93333,     0.93333,\n",
       "            0.93333,     0.93333,     0.93333,     0.93333,     0.93333,     0.93333,     0.93333,     0.93333,     0.93333,     0.93333,     0.93333,     0.93333,     0.93333,     0.93333,     0.93333,     0.93333,     0.93333,     0.93333,     0.93333,     0.93333,     0.93333,     0.93333,     0.93333,\n",
       "            0.93333,     0.93333,     0.93333,     0.93333,     0.93333,     0.93333,     0.93333,     0.93333,     0.93333,     0.93333,     0.93333,     0.93333,     0.93333,     0.93333,     0.93333,     0.93333,     0.93333,     0.93333,     0.93333,     0.93333,     0.93333,     0.93333,     0.93333,\n",
       "            0.93333,     0.93333,     0.93333,     0.93333,     0.93333,     0.93333,     0.93333,     0.93333,     0.93333,     0.92623,     0.92623,     0.92188,     0.92188,     0.92188,     0.92188,     0.92188,     0.92188,     0.92188,     0.92188,     0.92188,     0.92188,     0.92188,     0.92188,\n",
       "            0.92188,     0.92188,     0.92188,      0.9084,      0.9084,      0.9084,      0.8913,      0.8913,      0.8913,      0.8913,      0.8913,      0.8913,      0.8913,      0.8913,      0.8913,      0.8913,      0.8913,      0.8913,     0.88028,     0.88028,     0.88028,     0.88028,     0.88028,\n",
       "            0.88028,     0.87075,     0.87075,     0.87075,     0.87075,     0.87075,     0.87075,     0.87075,     0.87075,     0.87075,     0.86755,     0.86755,     0.86755,     0.86755,     0.86755,     0.86755,     0.86755,     0.86755,     0.86755,     0.86624,     0.86624,     0.86624,     0.86624,\n",
       "            0.86624,     0.86624,     0.86624,     0.86624,     0.86624,     0.86624,     0.86624,     0.86624,     0.86624,     0.86624,     0.85625,     0.85625,     0.85625,     0.84615,     0.84615,     0.84615,     0.84615,     0.84615,     0.84615,     0.84615,     0.84615,     0.84615,     0.84615,\n",
       "            0.84615,     0.84615,     0.84615,     0.84615,     0.84615,     0.84615,     0.84615,     0.84615,     0.82759,     0.82759,     0.82759,     0.82486,     0.82486,     0.82486,     0.82486,     0.82486,     0.82486,     0.82123,     0.82123,     0.82123,     0.80435,     0.80435,     0.80435,\n",
       "            0.79679,     0.79679,     0.79679,     0.78061,     0.78061,     0.78061,     0.78061,     0.78061,     0.78061,     0.78061,     0.78061,     0.78061,     0.78061,     0.78061,     0.76733,     0.76733,     0.76733,     0.76733,     0.76733,     0.76733,     0.76471,     0.76471,     0.76471,\n",
       "            0.75845,     0.75845,     0.75845,     0.74882,     0.74882,     0.74882,     0.73611,     0.73611,     0.73611,     0.70925,     0.70925,     0.70925,     0.70925,     0.70925,     0.70925,     0.68619,     0.68619,     0.68619,     0.68619,     0.68619,     0.68619,     0.68619,     0.68619,\n",
       "            0.68619,     0.68182,     0.68182,     0.68182,     0.67339,     0.67339,     0.67339,     0.67339,     0.67339,     0.67339,     0.64865,     0.64865,     0.64865,     0.64751,     0.64751,     0.64751,     0.64394,     0.64394,     0.64286,     0.64286,     0.64286,     0.64179,     0.64179,\n",
       "            0.64179,     0.64074,     0.64074,     0.64074,     0.63309,     0.63309,     0.63309,     0.63309,     0.63309,     0.63309,     0.63309,     0.63309,     0.63309,     0.63214,     0.63214,     0.63214,     0.62238,     0.62238,     0.62238,     0.61938,     0.61938,     0.61938,     0.60535,\n",
       "            0.60535,     0.60535,     0.60535,     0.60535,     0.60535,     0.60526,     0.60526,     0.60526,     0.60526,     0.60526,     0.60526,     0.60526,     0.60526,     0.60526,     0.58544,     0.58544,     0.58544,     0.58125,     0.58125,     0.58125,     0.57895,     0.57895,     0.57895,\n",
       "             0.5625,      0.5625,      0.5625,      0.5625,      0.5625,     0.56213,     0.56213,     0.56213,     0.56176,     0.56176,     0.56176,     0.54857,     0.54857,     0.54857,     0.52589,     0.52589,     0.52589,     0.52575,     0.52575,     0.52575,     0.51181,     0.51181,     0.51181,\n",
       "            0.50909,     0.50909,     0.50909,     0.50255,     0.50255,     0.50255,     0.49507,     0.49507,     0.49507,     0.49507,     0.49507,     0.49507,     0.49507,     0.49507,     0.49507,     0.49507,     0.49507,     0.49507,     0.48941,     0.48941,     0.48941,     0.48941,     0.48941,\n",
       "            0.48941,     0.48941,     0.48941,     0.48941,     0.48941,     0.48941,     0.48941,     0.48941,     0.48941,     0.48941,     0.48941,     0.48941,     0.48941,     0.48941,     0.48941,     0.48605,     0.48605,     0.48605,     0.47856,     0.47856,     0.47856,     0.47856,     0.47856,\n",
       "            0.47856,     0.47856,     0.47856,     0.47856,     0.47439,     0.47439,     0.47439,     0.47357,     0.47357,     0.47357,     0.47357,     0.47357,     0.47357,     0.44353,     0.44353,     0.44353,     0.44196,     0.44196,     0.44196,      0.4334,      0.4334,      0.4334,     0.43026,\n",
       "            0.43026,     0.43026,     0.42553,     0.42553,     0.42553,     0.41231,     0.41231,     0.41231,     0.41111,     0.41111,     0.41111,     0.40909,     0.40909,     0.40909,     0.40909,     0.40909,     0.40909,     0.40909,     0.40909,     0.40909,     0.40721,     0.40721,     0.39825,\n",
       "            0.39825,     0.39825,     0.38579,     0.38579,     0.38579,     0.38079,     0.38079,     0.38079,     0.38079,     0.38079,     0.38079,     0.34121,     0.34121,     0.34121,     0.34114,     0.34114,     0.34114,     0.34114,     0.34114,     0.34114,     0.32865,     0.32865,     0.32865,\n",
       "            0.32639,     0.32639,     0.32639,     0.29353,     0.29353,     0.29353,     0.29253,     0.29253,     0.29253,     0.29253,     0.29253,     0.29253,     0.29253,     0.29253,     0.29253,     0.29227,     0.29227,     0.29227,     0.29227,     0.29227,     0.29227,     0.29227,     0.29227,\n",
       "            0.29227,     0.28894,     0.28894,     0.28894,     0.28193,     0.28193,     0.28193,     0.28193,     0.28193,     0.26944,     0.26944,     0.26944,     0.26277,     0.26277,     0.26277,     0.25593,     0.25593,     0.25593,     0.24653,     0.24653,     0.24653,     0.24319,     0.24319,\n",
       "            0.24319,     0.23414,     0.23414,     0.23414,     0.21502,     0.21502,     0.21502,     0.21225,     0.21225,     0.21225,     0.20583,     0.20583,     0.20583,     0.20515,     0.20515,     0.20515,     0.20317,     0.20317,     0.20317,     0.19009,     0.19009,     0.19009,     0.18246,\n",
       "            0.18246,     0.18246,     0.15978,     0.15978,     0.15978,     0.15634,     0.15634,     0.15634,     0.15017,     0.15017,     0.15017,     0.14937,     0.14937,     0.14937,     0.14102,     0.14102,     0.14102,     0.12839,     0.12839,     0.12839,     0.12839,     0.12839,     0.12715,\n",
       "            0.12715,     0.12715,     0.12696,     0.12696,     0.12696,     0.12232,     0.12232,     0.12232,     0.12161,     0.12161,     0.12161,     0.11152,     0.11152,     0.11152,     0.10724,     0.10724,     0.10724,     0.10093,     0.10093,     0.10093,     0.10089,     0.10089,     0.10089,\n",
       "           0.094843,    0.094843,    0.094843,    0.083056,    0.083056,    0.083056,    0.081129,    0.081129,    0.081129,    0.079575,    0.079575,    0.079575,    0.076753,    0.076753,    0.076753,    0.073557,    0.073557,    0.073557,    0.071905,    0.071905,    0.071905,    0.070694,    0.070694,\n",
       "           0.070694,    0.070694,    0.070694,    0.070694,    0.069142,    0.069142,    0.066776,    0.066776,    0.066776,    0.066589,    0.066589,    0.066589,    0.066144,    0.066144,    0.066144,    0.066144,    0.066144,    0.066144,    0.064821,    0.064821,    0.064821,    0.063169,    0.063169,\n",
       "           0.063169,    0.061807,    0.061807,    0.061807,    0.059938,    0.059938,    0.059938,    0.059641,    0.059641,    0.059641,    0.058765,    0.058765,    0.058765,    0.056279,    0.056279,    0.056279,    0.053316,    0.053316,    0.053316,    0.052566,    0.052566,    0.052566,    0.049327,\n",
       "           0.049327,    0.049327,    0.048796,    0.048796,    0.048796,     0.04728,     0.04728,     0.04728,    0.046104,    0.046104,    0.046104,    0.044858,    0.044858,    0.044858,    0.044569,    0.044569,    0.031386,    0.031098,     0.03081,    0.030522,    0.030234,    0.029946,    0.029658,\n",
       "            0.02937,    0.029082,    0.028794,    0.028507,    0.028219,    0.027931,    0.027643,    0.027355,    0.027067,    0.026779,    0.026491,    0.026203,    0.025915,    0.025627,    0.025339,    0.025051,    0.024763,    0.024475,    0.024187,    0.023899,    0.023611,    0.023324,    0.023036,\n",
       "           0.022748,     0.02246,    0.022172,    0.021884,    0.021596,    0.021308,     0.02102,    0.020732,    0.020444,    0.020156,    0.019868,     0.01958,    0.019292,    0.019004,    0.018716,    0.018428,    0.018141,    0.017853,    0.017565,    0.017277,    0.016989,    0.016701,    0.016413,\n",
       "           0.016125,    0.015837,    0.015549,    0.015261,    0.014973,    0.014685,    0.014397,    0.014109,    0.013821,    0.013533,    0.013245,    0.012958,     0.01267,    0.012382,    0.012094,    0.011806,    0.011518,     0.01123,    0.010942,    0.010654,    0.010366,    0.010078,   0.0097901,\n",
       "          0.0095022,   0.0092142,   0.0089263,   0.0086383,   0.0083504,   0.0080625,   0.0077745,   0.0074866,   0.0071986,   0.0069107,   0.0066227,   0.0063348,   0.0060468,   0.0057589,    0.005471,    0.005183,   0.0048951,   0.0046071,   0.0043192,   0.0040312,   0.0037433,   0.0034553,   0.0031674,\n",
       "          0.0028794,   0.0025915,   0.0023036,   0.0020156,   0.0017277,   0.0014397,   0.0011518,  0.00086383,  0.00057589,  0.00028794,           0]]), 'Recall', 'Precision'], [array([          0,    0.001001,    0.002002,    0.003003,    0.004004,    0.005005,    0.006006,    0.007007,    0.008008,    0.009009,     0.01001,    0.011011,    0.012012,    0.013013,    0.014014,    0.015015,    0.016016,    0.017017,    0.018018,    0.019019,     0.02002,    0.021021,    0.022022,    0.023023,\n",
       "          0.024024,    0.025025,    0.026026,    0.027027,    0.028028,    0.029029,     0.03003,    0.031031,    0.032032,    0.033033,    0.034034,    0.035035,    0.036036,    0.037037,    0.038038,    0.039039,     0.04004,    0.041041,    0.042042,    0.043043,    0.044044,    0.045045,    0.046046,    0.047047,\n",
       "          0.048048,    0.049049,     0.05005,    0.051051,    0.052052,    0.053053,    0.054054,    0.055055,    0.056056,    0.057057,    0.058058,    0.059059,     0.06006,    0.061061,    0.062062,    0.063063,    0.064064,    0.065065,    0.066066,    0.067067,    0.068068,    0.069069,     0.07007,    0.071071,\n",
       "          0.072072,    0.073073,    0.074074,    0.075075,    0.076076,    0.077077,    0.078078,    0.079079,     0.08008,    0.081081,    0.082082,    0.083083,    0.084084,    0.085085,    0.086086,    0.087087,    0.088088,    0.089089,     0.09009,    0.091091,    0.092092,    0.093093,    0.094094,    0.095095,\n",
       "          0.096096,    0.097097,    0.098098,    0.099099,      0.1001,      0.1011,      0.1021,      0.1031,      0.1041,     0.10511,     0.10611,     0.10711,     0.10811,     0.10911,     0.11011,     0.11111,     0.11211,     0.11311,     0.11411,     0.11512,     0.11612,     0.11712,     0.11812,     0.11912,\n",
       "           0.12012,     0.12112,     0.12212,     0.12312,     0.12412,     0.12513,     0.12613,     0.12713,     0.12813,     0.12913,     0.13013,     0.13113,     0.13213,     0.13313,     0.13413,     0.13514,     0.13614,     0.13714,     0.13814,     0.13914,     0.14014,     0.14114,     0.14214,     0.14314,\n",
       "           0.14414,     0.14515,     0.14615,     0.14715,     0.14815,     0.14915,     0.15015,     0.15115,     0.15215,     0.15315,     0.15415,     0.15516,     0.15616,     0.15716,     0.15816,     0.15916,     0.16016,     0.16116,     0.16216,     0.16316,     0.16416,     0.16517,     0.16617,     0.16717,\n",
       "           0.16817,     0.16917,     0.17017,     0.17117,     0.17217,     0.17317,     0.17417,     0.17518,     0.17618,     0.17718,     0.17818,     0.17918,     0.18018,     0.18118,     0.18218,     0.18318,     0.18418,     0.18519,     0.18619,     0.18719,     0.18819,     0.18919,     0.19019,     0.19119,\n",
       "           0.19219,     0.19319,     0.19419,      0.1952,      0.1962,      0.1972,      0.1982,      0.1992,      0.2002,      0.2012,      0.2022,      0.2032,      0.2042,     0.20521,     0.20621,     0.20721,     0.20821,     0.20921,     0.21021,     0.21121,     0.21221,     0.21321,     0.21421,     0.21522,\n",
       "           0.21622,     0.21722,     0.21822,     0.21922,     0.22022,     0.22122,     0.22222,     0.22322,     0.22422,     0.22523,     0.22623,     0.22723,     0.22823,     0.22923,     0.23023,     0.23123,     0.23223,     0.23323,     0.23423,     0.23524,     0.23624,     0.23724,     0.23824,     0.23924,\n",
       "           0.24024,     0.24124,     0.24224,     0.24324,     0.24424,     0.24525,     0.24625,     0.24725,     0.24825,     0.24925,     0.25025,     0.25125,     0.25225,     0.25325,     0.25425,     0.25526,     0.25626,     0.25726,     0.25826,     0.25926,     0.26026,     0.26126,     0.26226,     0.26326,\n",
       "           0.26426,     0.26527,     0.26627,     0.26727,     0.26827,     0.26927,     0.27027,     0.27127,     0.27227,     0.27327,     0.27427,     0.27528,     0.27628,     0.27728,     0.27828,     0.27928,     0.28028,     0.28128,     0.28228,     0.28328,     0.28428,     0.28529,     0.28629,     0.28729,\n",
       "           0.28829,     0.28929,     0.29029,     0.29129,     0.29229,     0.29329,     0.29429,      0.2953,      0.2963,      0.2973,      0.2983,      0.2993,      0.3003,      0.3013,      0.3023,      0.3033,      0.3043,     0.30531,     0.30631,     0.30731,     0.30831,     0.30931,     0.31031,     0.31131,\n",
       "           0.31231,     0.31331,     0.31431,     0.31532,     0.31632,     0.31732,     0.31832,     0.31932,     0.32032,     0.32132,     0.32232,     0.32332,     0.32432,     0.32533,     0.32633,     0.32733,     0.32833,     0.32933,     0.33033,     0.33133,     0.33233,     0.33333,     0.33433,     0.33534,\n",
       "           0.33634,     0.33734,     0.33834,     0.33934,     0.34034,     0.34134,     0.34234,     0.34334,     0.34434,     0.34535,     0.34635,     0.34735,     0.34835,     0.34935,     0.35035,     0.35135,     0.35235,     0.35335,     0.35435,     0.35536,     0.35636,     0.35736,     0.35836,     0.35936,\n",
       "           0.36036,     0.36136,     0.36236,     0.36336,     0.36436,     0.36537,     0.36637,     0.36737,     0.36837,     0.36937,     0.37037,     0.37137,     0.37237,     0.37337,     0.37437,     0.37538,     0.37638,     0.37738,     0.37838,     0.37938,     0.38038,     0.38138,     0.38238,     0.38338,\n",
       "           0.38438,     0.38539,     0.38639,     0.38739,     0.38839,     0.38939,     0.39039,     0.39139,     0.39239,     0.39339,     0.39439,      0.3954,      0.3964,      0.3974,      0.3984,      0.3994,      0.4004,      0.4014,      0.4024,      0.4034,      0.4044,     0.40541,     0.40641,     0.40741,\n",
       "           0.40841,     0.40941,     0.41041,     0.41141,     0.41241,     0.41341,     0.41441,     0.41542,     0.41642,     0.41742,     0.41842,     0.41942,     0.42042,     0.42142,     0.42242,     0.42342,     0.42442,     0.42543,     0.42643,     0.42743,     0.42843,     0.42943,     0.43043,     0.43143,\n",
       "           0.43243,     0.43343,     0.43443,     0.43544,     0.43644,     0.43744,     0.43844,     0.43944,     0.44044,     0.44144,     0.44244,     0.44344,     0.44444,     0.44545,     0.44645,     0.44745,     0.44845,     0.44945,     0.45045,     0.45145,     0.45245,     0.45345,     0.45445,     0.45546,\n",
       "           0.45646,     0.45746,     0.45846,     0.45946,     0.46046,     0.46146,     0.46246,     0.46346,     0.46446,     0.46547,     0.46647,     0.46747,     0.46847,     0.46947,     0.47047,     0.47147,     0.47247,     0.47347,     0.47447,     0.47548,     0.47648,     0.47748,     0.47848,     0.47948,\n",
       "           0.48048,     0.48148,     0.48248,     0.48348,     0.48448,     0.48549,     0.48649,     0.48749,     0.48849,     0.48949,     0.49049,     0.49149,     0.49249,     0.49349,     0.49449,      0.4955,      0.4965,      0.4975,      0.4985,      0.4995,      0.5005,      0.5015,      0.5025,      0.5035,\n",
       "            0.5045,     0.50551,     0.50651,     0.50751,     0.50851,     0.50951,     0.51051,     0.51151,     0.51251,     0.51351,     0.51451,     0.51552,     0.51652,     0.51752,     0.51852,     0.51952,     0.52052,     0.52152,     0.52252,     0.52352,     0.52452,     0.52553,     0.52653,     0.52753,\n",
       "           0.52853,     0.52953,     0.53053,     0.53153,     0.53253,     0.53353,     0.53453,     0.53554,     0.53654,     0.53754,     0.53854,     0.53954,     0.54054,     0.54154,     0.54254,     0.54354,     0.54454,     0.54555,     0.54655,     0.54755,     0.54855,     0.54955,     0.55055,     0.55155,\n",
       "           0.55255,     0.55355,     0.55455,     0.55556,     0.55656,     0.55756,     0.55856,     0.55956,     0.56056,     0.56156,     0.56256,     0.56356,     0.56456,     0.56557,     0.56657,     0.56757,     0.56857,     0.56957,     0.57057,     0.57157,     0.57257,     0.57357,     0.57457,     0.57558,\n",
       "           0.57658,     0.57758,     0.57858,     0.57958,     0.58058,     0.58158,     0.58258,     0.58358,     0.58458,     0.58559,     0.58659,     0.58759,     0.58859,     0.58959,     0.59059,     0.59159,     0.59259,     0.59359,     0.59459,      0.5956,      0.5966,      0.5976,      0.5986,      0.5996,\n",
       "            0.6006,      0.6016,      0.6026,      0.6036,      0.6046,     0.60561,     0.60661,     0.60761,     0.60861,     0.60961,     0.61061,     0.61161,     0.61261,     0.61361,     0.61461,     0.61562,     0.61662,     0.61762,     0.61862,     0.61962,     0.62062,     0.62162,     0.62262,     0.62362,\n",
       "           0.62462,     0.62563,     0.62663,     0.62763,     0.62863,     0.62963,     0.63063,     0.63163,     0.63263,     0.63363,     0.63463,     0.63564,     0.63664,     0.63764,     0.63864,     0.63964,     0.64064,     0.64164,     0.64264,     0.64364,     0.64464,     0.64565,     0.64665,     0.64765,\n",
       "           0.64865,     0.64965,     0.65065,     0.65165,     0.65265,     0.65365,     0.65465,     0.65566,     0.65666,     0.65766,     0.65866,     0.65966,     0.66066,     0.66166,     0.66266,     0.66366,     0.66466,     0.66567,     0.66667,     0.66767,     0.66867,     0.66967,     0.67067,     0.67167,\n",
       "           0.67267,     0.67367,     0.67467,     0.67568,     0.67668,     0.67768,     0.67868,     0.67968,     0.68068,     0.68168,     0.68268,     0.68368,     0.68468,     0.68569,     0.68669,     0.68769,     0.68869,     0.68969,     0.69069,     0.69169,     0.69269,     0.69369,     0.69469,      0.6957,\n",
       "            0.6967,      0.6977,      0.6987,      0.6997,      0.7007,      0.7017,      0.7027,      0.7037,      0.7047,     0.70571,     0.70671,     0.70771,     0.70871,     0.70971,     0.71071,     0.71171,     0.71271,     0.71371,     0.71471,     0.71572,     0.71672,     0.71772,     0.71872,     0.71972,\n",
       "           0.72072,     0.72172,     0.72272,     0.72372,     0.72472,     0.72573,     0.72673,     0.72773,     0.72873,     0.72973,     0.73073,     0.73173,     0.73273,     0.73373,     0.73473,     0.73574,     0.73674,     0.73774,     0.73874,     0.73974,     0.74074,     0.74174,     0.74274,     0.74374,\n",
       "           0.74474,     0.74575,     0.74675,     0.74775,     0.74875,     0.74975,     0.75075,     0.75175,     0.75275,     0.75375,     0.75475,     0.75576,     0.75676,     0.75776,     0.75876,     0.75976,     0.76076,     0.76176,     0.76276,     0.76376,     0.76476,     0.76577,     0.76677,     0.76777,\n",
       "           0.76877,     0.76977,     0.77077,     0.77177,     0.77277,     0.77377,     0.77477,     0.77578,     0.77678,     0.77778,     0.77878,     0.77978,     0.78078,     0.78178,     0.78278,     0.78378,     0.78478,     0.78579,     0.78679,     0.78779,     0.78879,     0.78979,     0.79079,     0.79179,\n",
       "           0.79279,     0.79379,     0.79479,      0.7958,      0.7968,      0.7978,      0.7988,      0.7998,      0.8008,      0.8018,      0.8028,      0.8038,      0.8048,     0.80581,     0.80681,     0.80781,     0.80881,     0.80981,     0.81081,     0.81181,     0.81281,     0.81381,     0.81481,     0.81582,\n",
       "           0.81682,     0.81782,     0.81882,     0.81982,     0.82082,     0.82182,     0.82282,     0.82382,     0.82482,     0.82583,     0.82683,     0.82783,     0.82883,     0.82983,     0.83083,     0.83183,     0.83283,     0.83383,     0.83483,     0.83584,     0.83684,     0.83784,     0.83884,     0.83984,\n",
       "           0.84084,     0.84184,     0.84284,     0.84384,     0.84484,     0.84585,     0.84685,     0.84785,     0.84885,     0.84985,     0.85085,     0.85185,     0.85285,     0.85385,     0.85485,     0.85586,     0.85686,     0.85786,     0.85886,     0.85986,     0.86086,     0.86186,     0.86286,     0.86386,\n",
       "           0.86486,     0.86587,     0.86687,     0.86787,     0.86887,     0.86987,     0.87087,     0.87187,     0.87287,     0.87387,     0.87487,     0.87588,     0.87688,     0.87788,     0.87888,     0.87988,     0.88088,     0.88188,     0.88288,     0.88388,     0.88488,     0.88589,     0.88689,     0.88789,\n",
       "           0.88889,     0.88989,     0.89089,     0.89189,     0.89289,     0.89389,     0.89489,      0.8959,      0.8969,      0.8979,      0.8989,      0.8999,      0.9009,      0.9019,      0.9029,      0.9039,      0.9049,     0.90591,     0.90691,     0.90791,     0.90891,     0.90991,     0.91091,     0.91191,\n",
       "           0.91291,     0.91391,     0.91491,     0.91592,     0.91692,     0.91792,     0.91892,     0.91992,     0.92092,     0.92192,     0.92292,     0.92392,     0.92492,     0.92593,     0.92693,     0.92793,     0.92893,     0.92993,     0.93093,     0.93193,     0.93293,     0.93393,     0.93493,     0.93594,\n",
       "           0.93694,     0.93794,     0.93894,     0.93994,     0.94094,     0.94194,     0.94294,     0.94394,     0.94494,     0.94595,     0.94695,     0.94795,     0.94895,     0.94995,     0.95095,     0.95195,     0.95295,     0.95395,     0.95495,     0.95596,     0.95696,     0.95796,     0.95896,     0.95996,\n",
       "           0.96096,     0.96196,     0.96296,     0.96396,     0.96496,     0.96597,     0.96697,     0.96797,     0.96897,     0.96997,     0.97097,     0.97197,     0.97297,     0.97397,     0.97497,     0.97598,     0.97698,     0.97798,     0.97898,     0.97998,     0.98098,     0.98198,     0.98298,     0.98398,\n",
       "           0.98498,     0.98599,     0.98699,     0.98799,     0.98899,     0.98999,     0.99099,     0.99199,     0.99299,     0.99399,     0.99499,       0.996,       0.997,       0.998,       0.999,           1]), array([[   0.060655,    0.060655,     0.08116,    0.094537,     0.10709,     0.11741,     0.12736,     0.13518,     0.14488,     0.15306,     0.16132,     0.16958,     0.17619,     0.18279,     0.18875,     0.19551,     0.20157,     0.20785,     0.21266,     0.21805,     0.22151,     0.22617,     0.23159,\n",
       "            0.23693,      0.2422,     0.24713,     0.25187,     0.25632,     0.26126,      0.2646,     0.26943,     0.27391,     0.27904,     0.28276,     0.28653,     0.29074,     0.29395,     0.29639,      0.2999,      0.3034,     0.30743,     0.31113,     0.31541,     0.32017,     0.32234,     0.32439,\n",
       "            0.32881,     0.33192,     0.33324,     0.33692,     0.33908,     0.34192,     0.34575,     0.34891,     0.35267,      0.3556,     0.35692,     0.36074,     0.36354,     0.36538,     0.36858,     0.37165,     0.37316,     0.37635,     0.37817,     0.37898,     0.37969,     0.38204,     0.38386,\n",
       "            0.38538,     0.38498,     0.38896,     0.39264,     0.39277,     0.39497,     0.39655,     0.39828,     0.40146,     0.40364,     0.40506,     0.40497,     0.40454,     0.40668,     0.40827,     0.41038,     0.41104,     0.41214,     0.41345,     0.41257,     0.41245,      0.4108,     0.41283,\n",
       "            0.41291,     0.41535,     0.41805,     0.41988,     0.42092,     0.42234,     0.42344,     0.42455,     0.42671,     0.42811,     0.42941,     0.43207,     0.43476,     0.43667,     0.43918,     0.44217,     0.44315,      0.4437,     0.44318,     0.44476,     0.44477,     0.44588,      0.4471,\n",
       "            0.44934,     0.45173,     0.45323,     0.45548,     0.45441,     0.45348,     0.45438,     0.45544,     0.45747,     0.45874,     0.45909,     0.46068,     0.46115,     0.46285,     0.46392,     0.46543,      0.4666,     0.46678,     0.46695,     0.46808,     0.46861,     0.46953,     0.46992,\n",
       "            0.47235,     0.47259,      0.4735,     0.47402,     0.47465,     0.47664,     0.47865,     0.47967,      0.4807,     0.48173,     0.48476,     0.48585,     0.48684,      0.4857,     0.48577,     0.48686,     0.48844,     0.49039,     0.49194,     0.49514,     0.49613,     0.49913,     0.49808,\n",
       "            0.50091,     0.50293,     0.50346,     0.50524,     0.50565,     0.50591,     0.50617,     0.50305,     0.50371,      0.5041,     0.50469,     0.50404,      0.5048,     0.50417,      0.5044,     0.50578,     0.50685,     0.50723,     0.50889,     0.51006,     0.51041,     0.51239,     0.51302,\n",
       "              0.514,     0.51248,     0.51315,     0.51411,     0.51461,     0.51598,     0.51634,     0.51502,     0.51689,      0.5168,     0.51899,     0.52045,      0.5207,     0.52096,     0.52171,     0.52152,     0.52147,     0.52345,     0.52395,     0.52447,     0.52552,     0.52613,     0.52712,\n",
       "            0.52737,     0.52775,     0.52938,      0.5307,     0.53226,     0.53247,     0.53268,     0.53437,     0.53536,       0.537,     0.53945,     0.54164,     0.53979,     0.53979,     0.53884,     0.53974,     0.54007,     0.54172,     0.53907,     0.53811,     0.53914,     0.54013,     0.54115,\n",
       "            0.54321,     0.54198,     0.54269,     0.54319,     0.54372,     0.54404,      0.5435,     0.54296,     0.54268,     0.54293,     0.54318,     0.54071,     0.53726,     0.53677,     0.53502,     0.53393,     0.53441,     0.53522,     0.53578,     0.53658,     0.53816,     0.53865,     0.53911,\n",
       "            0.53822,      0.5367,       0.534,     0.53456,     0.53481,     0.53531,     0.53626,     0.53668,     0.53775,     0.53805,     0.53832,      0.5372,     0.53859,     0.54004,     0.54027,     0.54051,     0.54081,     0.54132,     0.54158,     0.53973,     0.54004,     0.54035,     0.54128,\n",
       "            0.54199,     0.54223,     0.54247,     0.54289,     0.54393,     0.54452,     0.54577,     0.54759,     0.54731,     0.54611,     0.54644,     0.54585,     0.54492,     0.54545,     0.54746,     0.54784,     0.54804,     0.54825,     0.54845,     0.54874,      0.5492,     0.55151,     0.55362,\n",
       "            0.55395,     0.55435,     0.55481,     0.55517,      0.5555,       0.556,     0.55693,     0.55576,     0.55759,     0.55858,     0.55906,     0.55971,      0.5607,     0.56122,     0.56059,     0.56081,     0.56102,     0.56123,     0.56088,     0.56026,     0.55964,     0.55922,     0.55942,\n",
       "            0.55962,     0.55982,     0.55977,     0.55578,     0.55627,     0.55675,     0.55724,     0.55819,     0.55888,     0.55997,     0.56028,     0.56059,     0.56225,     0.56315,     0.56488,     0.56294,     0.56433,     0.56351,      0.5627,     0.56292,     0.56386,     0.56429,     0.56461,\n",
       "             0.5648,     0.56416,     0.56352,     0.56287,     0.56305,     0.56356,     0.56618,     0.56689,     0.56751,     0.56822,      0.5689,     0.56923,     0.56956,      0.5699,     0.56962,     0.56935,     0.56907,     0.56879,     0.56852,     0.56824,     0.56796,     0.56639,      0.5658,\n",
       "            0.56606,     0.56632,     0.56657,     0.56681,     0.56706,      0.5673,     0.56603,     0.56372,     0.56348,     0.56389,     0.56406,     0.56422,     0.56439,     0.56455,     0.56495,      0.5665,     0.56664,     0.56677,     0.56691,     0.56705,     0.56718,     0.56732,     0.56826,\n",
       "            0.56919,     0.57005,     0.56974,     0.56944,     0.56914,     0.56884,     0.56854,     0.56824,     0.56793,      0.5684,     0.56755,     0.56786,     0.56817,     0.56838,     0.56858,     0.56878,     0.56898,     0.57011,     0.57043,     0.57074,      0.5711,     0.57157,     0.57006,\n",
       "             0.5687,      0.5667,     0.56534,     0.56454,     0.56374,     0.56374,     0.56406,     0.56437,     0.56519,     0.56564,     0.56599,     0.56728,     0.56775,     0.56588,     0.56635,     0.56654,     0.56573,     0.56492,     0.56455,     0.56323,      0.5618,      0.5621,     0.56125,\n",
       "            0.56173,     0.56107,     0.56394,     0.56492,      0.5659,     0.56785,      0.5645,     0.56493,     0.56593,     0.56692,     0.56732,     0.56765,     0.56798,     0.56553,      0.5665,     0.56668,     0.56685,     0.56702,      0.5672,     0.56737,     0.56639,     0.56384,     0.56189,\n",
       "            0.56061,      0.5615,     0.56349,      0.5645,     0.56552,     0.56722,     0.56773,     0.56859,      0.5687,     0.56842,     0.56813,     0.56784,     0.56755,     0.56726,     0.56697,     0.56669,      0.5664,     0.56477,      0.5658,     0.56683,     0.56837,     0.57093,     0.57119,\n",
       "            0.57145,     0.57172,     0.57262,     0.57056,     0.57354,     0.57376,     0.57397,     0.57418,      0.5744,     0.57434,     0.57368,     0.57301,     0.57235,     0.57308,     0.57329,     0.57351,     0.57372,     0.57394,     0.57432,     0.57486,     0.57432,     0.57298,     0.57315,\n",
       "            0.57446,     0.57427,     0.57408,     0.57388,     0.57369,      0.5735,     0.57331,     0.57311,     0.57292,     0.57273,     0.57254,     0.57234,     0.57215,     0.57196,     0.57298,     0.57035,     0.56981,     0.56926,     0.56872,     0.56818,     0.56775,     0.56793,     0.56811,\n",
       "            0.56829,     0.56847,     0.56865,     0.56911,     0.57001,     0.57056,      0.5717,     0.57102,     0.57033,     0.56965,     0.56798,     0.56522,     0.56245,      0.5618,     0.56342,     0.56357,     0.56373,     0.56389,     0.56404,      0.5642,     0.56435,     0.56467,     0.56503,\n",
       "             0.5654,     0.56578,     0.56484,     0.56391,     0.56399,     0.56419,     0.56439,     0.56459,     0.56479,     0.56547,     0.56352,     0.56408,     0.56497,     0.56608,     0.56684,      0.5674,     0.56707,     0.56636,     0.56565,     0.56494,     0.56498,      0.5652,     0.56542,\n",
       "            0.56565,     0.56587,     0.56328,     0.55869,     0.55968,      0.5619,     0.56292,     0.56098,     0.55714,     0.55685,     0.55656,     0.55627,     0.55597,     0.55568,     0.55539,     0.55509,      0.5548,     0.55451,     0.55377,     0.55293,     0.55209,     0.55099,     0.54952,\n",
       "            0.54599,     0.54636,     0.54673,     0.54812,     0.54834,     0.54857,     0.54879,     0.54902,     0.54716,     0.54739,     0.54796,     0.54768,     0.54467,     0.54208,     0.54057,     0.53854,      0.5338,     0.53436,      0.5322,     0.52774,     0.52671,     0.52568,     0.52622,\n",
       "            0.52663,     0.52361,     0.52205,     0.51995,     0.51936,     0.51461,     0.51382,     0.51419,     0.51455,     0.51547,     0.51326,      0.5109,     0.50354,     0.50437,     0.50474,      0.5051,     0.50563,     0.50636,     0.50323,     0.50209,     0.49564,     0.49431,     0.49297,\n",
       "            0.49144,     0.48976,     0.48953,     0.49008,     0.48705,     0.48719,     0.48732,     0.48746,      0.4876,     0.48773,     0.48787,       0.488,     0.48499,     0.48159,     0.48011,     0.47875,     0.47738,     0.47601,     0.47114,     0.46429,      0.4608,     0.45729,     0.45396,\n",
       "             0.4516,     0.44965,     0.44788,     0.44014,     0.43894,     0.43774,     0.43613,     0.43372,     0.43183,     0.43001,     0.43005,     0.42822,     0.42251,     0.42011,     0.42107,     0.42157,     0.42135,     0.41789,     0.41706,     0.41623,      0.4154,     0.41422,     0.41172,\n",
       "            0.40968,     0.40779,     0.40439,     0.40293,     0.40198,     0.40103,     0.40008,     0.39392,      0.3926,     0.39275,     0.39291,     0.39307,     0.39322,     0.39338,     0.39251,     0.39097,     0.38949,     0.38838,     0.38727,     0.38616,     0.38491,     0.38361,     0.38231,\n",
       "            0.38079,     0.37922,     0.37725,     0.37462,     0.37077,     0.36516,     0.36356,     0.36285,     0.36301,     0.36318,     0.36334,      0.3635,     0.36326,     0.36058,     0.35479,     0.35179,      0.3477,     0.33604,     0.33396,     0.33219,     0.33115,      0.3301,     0.32905,\n",
       "            0.32852,     0.32872,     0.32893,     0.32914,     0.32782,       0.325,     0.32218,     0.31935,     0.31232,     0.30946,     0.30564,     0.29803,     0.29512,     0.29219,     0.28981,      0.2876,     0.28574,     0.28397,     0.28219,     0.28041,     0.27862,     0.27573,     0.27205,\n",
       "            0.26863,     0.26637,     0.26434,     0.26252,     0.26079,     0.25987,     0.25896,     0.25805,     0.25713,     0.25602,     0.25418,     0.25234,     0.25074,      0.2492,     0.24766,     0.24026,     0.23473,     0.23095,     0.22835,     0.22645,     0.22455,     0.21971,     0.21267,\n",
       "            0.21021,     0.20964,     0.20907,      0.2085,     0.20794,     0.20737,      0.2068,     0.20623,     0.20325,     0.19727,     0.19105,     0.18964,     0.18823,     0.18681,      0.1837,     0.18037,     0.17704,     0.17083,      0.1683,     0.16644,     0.16517,      0.1639,     0.16263,\n",
       "            0.15395,     0.14695,      0.1458,     0.14464,     0.14349,     0.14234,     0.14229,     0.14083,     0.13382,     0.12669,     0.12563,     0.12456,      0.1235,     0.12243,     0.12124,      0.1199,     0.11857,     0.11723,     0.11625,     0.11554,     0.11482,      0.1141,     0.11339,\n",
       "            0.11267,     0.11195,     0.11085,     0.10869,     0.10652,     0.10048,     0.10004,    0.099607,     0.09917,    0.098733,    0.098296,    0.097858,    0.097421,    0.096983,    0.096545,    0.096106,    0.095668,    0.093198,    0.084653,    0.084098,    0.083543,    0.082988,    0.082432,\n",
       "           0.081876,     0.08132,    0.080763,    0.080206,    0.079648,    0.079033,    0.078336,    0.077638,    0.076939,     0.07624,     0.07554,     0.07484,     0.07414,    0.073702,    0.073434,    0.073167,      0.0729,    0.072633,    0.072365,    0.072097,     0.07183,    0.071562,    0.071294,\n",
       "           0.071027,    0.070759,    0.070491,    0.070223,    0.069954,    0.069686,    0.069418,     0.06915,    0.068881,    0.068613,    0.068208,    0.066797,    0.065383,    0.063967,    0.062447,    0.060553,    0.058656,    0.056834,    0.055201,    0.053566,    0.051928,    0.051305,    0.050827,\n",
       "           0.050348,    0.049869,     0.04939,     0.04891,    0.048431,    0.047951,     0.04747,     0.04699,    0.046509,    0.045832,    0.044181,    0.042527,    0.040871,    0.039002,    0.037063,    0.035119,    0.027075,    0.022249,    0.019287,     0.01731,    0.016744,    0.016178,    0.015611,\n",
       "           0.015044,    0.014476,    0.013908,     0.01334,    0.012772,    0.012203,           0,           0,           0,           0,           0,           0,           0,           0,           0,           0,           0,           0,           0,           0,           0,           0,           0,\n",
       "                  0,           0,           0,           0,           0,           0,           0,           0,           0,           0,           0,           0,           0,           0,           0,           0,           0,           0,           0,           0,           0,           0,           0,\n",
       "                  0,           0,           0,           0,           0,           0,           0,           0,           0,           0,           0,           0,           0,           0,           0,           0,           0,           0,           0,           0,           0,           0,           0,\n",
       "                  0,           0,           0,           0,           0,           0,           0,           0,           0,           0,           0]]), 'Confidence', 'F1'], [array([          0,    0.001001,    0.002002,    0.003003,    0.004004,    0.005005,    0.006006,    0.007007,    0.008008,    0.009009,     0.01001,    0.011011,    0.012012,    0.013013,    0.014014,    0.015015,    0.016016,    0.017017,    0.018018,    0.019019,     0.02002,    0.021021,    0.022022,    0.023023,\n",
       "          0.024024,    0.025025,    0.026026,    0.027027,    0.028028,    0.029029,     0.03003,    0.031031,    0.032032,    0.033033,    0.034034,    0.035035,    0.036036,    0.037037,    0.038038,    0.039039,     0.04004,    0.041041,    0.042042,    0.043043,    0.044044,    0.045045,    0.046046,    0.047047,\n",
       "          0.048048,    0.049049,     0.05005,    0.051051,    0.052052,    0.053053,    0.054054,    0.055055,    0.056056,    0.057057,    0.058058,    0.059059,     0.06006,    0.061061,    0.062062,    0.063063,    0.064064,    0.065065,    0.066066,    0.067067,    0.068068,    0.069069,     0.07007,    0.071071,\n",
       "          0.072072,    0.073073,    0.074074,    0.075075,    0.076076,    0.077077,    0.078078,    0.079079,     0.08008,    0.081081,    0.082082,    0.083083,    0.084084,    0.085085,    0.086086,    0.087087,    0.088088,    0.089089,     0.09009,    0.091091,    0.092092,    0.093093,    0.094094,    0.095095,\n",
       "          0.096096,    0.097097,    0.098098,    0.099099,      0.1001,      0.1011,      0.1021,      0.1031,      0.1041,     0.10511,     0.10611,     0.10711,     0.10811,     0.10911,     0.11011,     0.11111,     0.11211,     0.11311,     0.11411,     0.11512,     0.11612,     0.11712,     0.11812,     0.11912,\n",
       "           0.12012,     0.12112,     0.12212,     0.12312,     0.12412,     0.12513,     0.12613,     0.12713,     0.12813,     0.12913,     0.13013,     0.13113,     0.13213,     0.13313,     0.13413,     0.13514,     0.13614,     0.13714,     0.13814,     0.13914,     0.14014,     0.14114,     0.14214,     0.14314,\n",
       "           0.14414,     0.14515,     0.14615,     0.14715,     0.14815,     0.14915,     0.15015,     0.15115,     0.15215,     0.15315,     0.15415,     0.15516,     0.15616,     0.15716,     0.15816,     0.15916,     0.16016,     0.16116,     0.16216,     0.16316,     0.16416,     0.16517,     0.16617,     0.16717,\n",
       "           0.16817,     0.16917,     0.17017,     0.17117,     0.17217,     0.17317,     0.17417,     0.17518,     0.17618,     0.17718,     0.17818,     0.17918,     0.18018,     0.18118,     0.18218,     0.18318,     0.18418,     0.18519,     0.18619,     0.18719,     0.18819,     0.18919,     0.19019,     0.19119,\n",
       "           0.19219,     0.19319,     0.19419,      0.1952,      0.1962,      0.1972,      0.1982,      0.1992,      0.2002,      0.2012,      0.2022,      0.2032,      0.2042,     0.20521,     0.20621,     0.20721,     0.20821,     0.20921,     0.21021,     0.21121,     0.21221,     0.21321,     0.21421,     0.21522,\n",
       "           0.21622,     0.21722,     0.21822,     0.21922,     0.22022,     0.22122,     0.22222,     0.22322,     0.22422,     0.22523,     0.22623,     0.22723,     0.22823,     0.22923,     0.23023,     0.23123,     0.23223,     0.23323,     0.23423,     0.23524,     0.23624,     0.23724,     0.23824,     0.23924,\n",
       "           0.24024,     0.24124,     0.24224,     0.24324,     0.24424,     0.24525,     0.24625,     0.24725,     0.24825,     0.24925,     0.25025,     0.25125,     0.25225,     0.25325,     0.25425,     0.25526,     0.25626,     0.25726,     0.25826,     0.25926,     0.26026,     0.26126,     0.26226,     0.26326,\n",
       "           0.26426,     0.26527,     0.26627,     0.26727,     0.26827,     0.26927,     0.27027,     0.27127,     0.27227,     0.27327,     0.27427,     0.27528,     0.27628,     0.27728,     0.27828,     0.27928,     0.28028,     0.28128,     0.28228,     0.28328,     0.28428,     0.28529,     0.28629,     0.28729,\n",
       "           0.28829,     0.28929,     0.29029,     0.29129,     0.29229,     0.29329,     0.29429,      0.2953,      0.2963,      0.2973,      0.2983,      0.2993,      0.3003,      0.3013,      0.3023,      0.3033,      0.3043,     0.30531,     0.30631,     0.30731,     0.30831,     0.30931,     0.31031,     0.31131,\n",
       "           0.31231,     0.31331,     0.31431,     0.31532,     0.31632,     0.31732,     0.31832,     0.31932,     0.32032,     0.32132,     0.32232,     0.32332,     0.32432,     0.32533,     0.32633,     0.32733,     0.32833,     0.32933,     0.33033,     0.33133,     0.33233,     0.33333,     0.33433,     0.33534,\n",
       "           0.33634,     0.33734,     0.33834,     0.33934,     0.34034,     0.34134,     0.34234,     0.34334,     0.34434,     0.34535,     0.34635,     0.34735,     0.34835,     0.34935,     0.35035,     0.35135,     0.35235,     0.35335,     0.35435,     0.35536,     0.35636,     0.35736,     0.35836,     0.35936,\n",
       "           0.36036,     0.36136,     0.36236,     0.36336,     0.36436,     0.36537,     0.36637,     0.36737,     0.36837,     0.36937,     0.37037,     0.37137,     0.37237,     0.37337,     0.37437,     0.37538,     0.37638,     0.37738,     0.37838,     0.37938,     0.38038,     0.38138,     0.38238,     0.38338,\n",
       "           0.38438,     0.38539,     0.38639,     0.38739,     0.38839,     0.38939,     0.39039,     0.39139,     0.39239,     0.39339,     0.39439,      0.3954,      0.3964,      0.3974,      0.3984,      0.3994,      0.4004,      0.4014,      0.4024,      0.4034,      0.4044,     0.40541,     0.40641,     0.40741,\n",
       "           0.40841,     0.40941,     0.41041,     0.41141,     0.41241,     0.41341,     0.41441,     0.41542,     0.41642,     0.41742,     0.41842,     0.41942,     0.42042,     0.42142,     0.42242,     0.42342,     0.42442,     0.42543,     0.42643,     0.42743,     0.42843,     0.42943,     0.43043,     0.43143,\n",
       "           0.43243,     0.43343,     0.43443,     0.43544,     0.43644,     0.43744,     0.43844,     0.43944,     0.44044,     0.44144,     0.44244,     0.44344,     0.44444,     0.44545,     0.44645,     0.44745,     0.44845,     0.44945,     0.45045,     0.45145,     0.45245,     0.45345,     0.45445,     0.45546,\n",
       "           0.45646,     0.45746,     0.45846,     0.45946,     0.46046,     0.46146,     0.46246,     0.46346,     0.46446,     0.46547,     0.46647,     0.46747,     0.46847,     0.46947,     0.47047,     0.47147,     0.47247,     0.47347,     0.47447,     0.47548,     0.47648,     0.47748,     0.47848,     0.47948,\n",
       "           0.48048,     0.48148,     0.48248,     0.48348,     0.48448,     0.48549,     0.48649,     0.48749,     0.48849,     0.48949,     0.49049,     0.49149,     0.49249,     0.49349,     0.49449,      0.4955,      0.4965,      0.4975,      0.4985,      0.4995,      0.5005,      0.5015,      0.5025,      0.5035,\n",
       "            0.5045,     0.50551,     0.50651,     0.50751,     0.50851,     0.50951,     0.51051,     0.51151,     0.51251,     0.51351,     0.51451,     0.51552,     0.51652,     0.51752,     0.51852,     0.51952,     0.52052,     0.52152,     0.52252,     0.52352,     0.52452,     0.52553,     0.52653,     0.52753,\n",
       "           0.52853,     0.52953,     0.53053,     0.53153,     0.53253,     0.53353,     0.53453,     0.53554,     0.53654,     0.53754,     0.53854,     0.53954,     0.54054,     0.54154,     0.54254,     0.54354,     0.54454,     0.54555,     0.54655,     0.54755,     0.54855,     0.54955,     0.55055,     0.55155,\n",
       "           0.55255,     0.55355,     0.55455,     0.55556,     0.55656,     0.55756,     0.55856,     0.55956,     0.56056,     0.56156,     0.56256,     0.56356,     0.56456,     0.56557,     0.56657,     0.56757,     0.56857,     0.56957,     0.57057,     0.57157,     0.57257,     0.57357,     0.57457,     0.57558,\n",
       "           0.57658,     0.57758,     0.57858,     0.57958,     0.58058,     0.58158,     0.58258,     0.58358,     0.58458,     0.58559,     0.58659,     0.58759,     0.58859,     0.58959,     0.59059,     0.59159,     0.59259,     0.59359,     0.59459,      0.5956,      0.5966,      0.5976,      0.5986,      0.5996,\n",
       "            0.6006,      0.6016,      0.6026,      0.6036,      0.6046,     0.60561,     0.60661,     0.60761,     0.60861,     0.60961,     0.61061,     0.61161,     0.61261,     0.61361,     0.61461,     0.61562,     0.61662,     0.61762,     0.61862,     0.61962,     0.62062,     0.62162,     0.62262,     0.62362,\n",
       "           0.62462,     0.62563,     0.62663,     0.62763,     0.62863,     0.62963,     0.63063,     0.63163,     0.63263,     0.63363,     0.63463,     0.63564,     0.63664,     0.63764,     0.63864,     0.63964,     0.64064,     0.64164,     0.64264,     0.64364,     0.64464,     0.64565,     0.64665,     0.64765,\n",
       "           0.64865,     0.64965,     0.65065,     0.65165,     0.65265,     0.65365,     0.65465,     0.65566,     0.65666,     0.65766,     0.65866,     0.65966,     0.66066,     0.66166,     0.66266,     0.66366,     0.66466,     0.66567,     0.66667,     0.66767,     0.66867,     0.66967,     0.67067,     0.67167,\n",
       "           0.67267,     0.67367,     0.67467,     0.67568,     0.67668,     0.67768,     0.67868,     0.67968,     0.68068,     0.68168,     0.68268,     0.68368,     0.68468,     0.68569,     0.68669,     0.68769,     0.68869,     0.68969,     0.69069,     0.69169,     0.69269,     0.69369,     0.69469,      0.6957,\n",
       "            0.6967,      0.6977,      0.6987,      0.6997,      0.7007,      0.7017,      0.7027,      0.7037,      0.7047,     0.70571,     0.70671,     0.70771,     0.70871,     0.70971,     0.71071,     0.71171,     0.71271,     0.71371,     0.71471,     0.71572,     0.71672,     0.71772,     0.71872,     0.71972,\n",
       "           0.72072,     0.72172,     0.72272,     0.72372,     0.72472,     0.72573,     0.72673,     0.72773,     0.72873,     0.72973,     0.73073,     0.73173,     0.73273,     0.73373,     0.73473,     0.73574,     0.73674,     0.73774,     0.73874,     0.73974,     0.74074,     0.74174,     0.74274,     0.74374,\n",
       "           0.74474,     0.74575,     0.74675,     0.74775,     0.74875,     0.74975,     0.75075,     0.75175,     0.75275,     0.75375,     0.75475,     0.75576,     0.75676,     0.75776,     0.75876,     0.75976,     0.76076,     0.76176,     0.76276,     0.76376,     0.76476,     0.76577,     0.76677,     0.76777,\n",
       "           0.76877,     0.76977,     0.77077,     0.77177,     0.77277,     0.77377,     0.77477,     0.77578,     0.77678,     0.77778,     0.77878,     0.77978,     0.78078,     0.78178,     0.78278,     0.78378,     0.78478,     0.78579,     0.78679,     0.78779,     0.78879,     0.78979,     0.79079,     0.79179,\n",
       "           0.79279,     0.79379,     0.79479,      0.7958,      0.7968,      0.7978,      0.7988,      0.7998,      0.8008,      0.8018,      0.8028,      0.8038,      0.8048,     0.80581,     0.80681,     0.80781,     0.80881,     0.80981,     0.81081,     0.81181,     0.81281,     0.81381,     0.81481,     0.81582,\n",
       "           0.81682,     0.81782,     0.81882,     0.81982,     0.82082,     0.82182,     0.82282,     0.82382,     0.82482,     0.82583,     0.82683,     0.82783,     0.82883,     0.82983,     0.83083,     0.83183,     0.83283,     0.83383,     0.83483,     0.83584,     0.83684,     0.83784,     0.83884,     0.83984,\n",
       "           0.84084,     0.84184,     0.84284,     0.84384,     0.84484,     0.84585,     0.84685,     0.84785,     0.84885,     0.84985,     0.85085,     0.85185,     0.85285,     0.85385,     0.85485,     0.85586,     0.85686,     0.85786,     0.85886,     0.85986,     0.86086,     0.86186,     0.86286,     0.86386,\n",
       "           0.86486,     0.86587,     0.86687,     0.86787,     0.86887,     0.86987,     0.87087,     0.87187,     0.87287,     0.87387,     0.87487,     0.87588,     0.87688,     0.87788,     0.87888,     0.87988,     0.88088,     0.88188,     0.88288,     0.88388,     0.88488,     0.88589,     0.88689,     0.88789,\n",
       "           0.88889,     0.88989,     0.89089,     0.89189,     0.89289,     0.89389,     0.89489,      0.8959,      0.8969,      0.8979,      0.8989,      0.8999,      0.9009,      0.9019,      0.9029,      0.9039,      0.9049,     0.90591,     0.90691,     0.90791,     0.90891,     0.90991,     0.91091,     0.91191,\n",
       "           0.91291,     0.91391,     0.91491,     0.91592,     0.91692,     0.91792,     0.91892,     0.91992,     0.92092,     0.92192,     0.92292,     0.92392,     0.92492,     0.92593,     0.92693,     0.92793,     0.92893,     0.92993,     0.93093,     0.93193,     0.93293,     0.93393,     0.93493,     0.93594,\n",
       "           0.93694,     0.93794,     0.93894,     0.93994,     0.94094,     0.94194,     0.94294,     0.94394,     0.94494,     0.94595,     0.94695,     0.94795,     0.94895,     0.94995,     0.95095,     0.95195,     0.95295,     0.95395,     0.95495,     0.95596,     0.95696,     0.95796,     0.95896,     0.95996,\n",
       "           0.96096,     0.96196,     0.96296,     0.96396,     0.96496,     0.96597,     0.96697,     0.96797,     0.96897,     0.96997,     0.97097,     0.97197,     0.97297,     0.97397,     0.97497,     0.97598,     0.97698,     0.97798,     0.97898,     0.97998,     0.98098,     0.98198,     0.98298,     0.98398,\n",
       "           0.98498,     0.98599,     0.98699,     0.98799,     0.98899,     0.98999,     0.99099,     0.99199,     0.99299,     0.99399,     0.99499,       0.996,       0.997,       0.998,       0.999,           1]), array([[   0.031396,    0.031396,    0.042517,    0.049974,    0.057081,    0.063064,    0.068942,    0.073659,    0.079487,    0.084534,    0.089601,    0.094729,    0.098916,     0.10319,     0.10706,     0.11143,     0.11545,     0.11959,     0.12292,     0.12662,      0.1292,     0.13238,     0.13611,\n",
       "            0.13982,      0.1436,     0.14708,     0.15067,     0.15387,     0.15757,     0.16014,     0.16369,     0.16701,     0.17084,     0.17363,     0.17648,     0.17969,     0.18222,      0.1842,     0.18692,     0.18965,       0.193,     0.19592,     0.19933,     0.20336,     0.20556,     0.20724,\n",
       "            0.21086,     0.21366,       0.215,     0.21808,     0.21989,     0.22228,     0.22554,     0.22823,     0.23146,     0.23399,     0.23543,     0.23877,     0.24123,     0.24295,     0.24601,      0.2491,     0.25046,     0.25334,     0.25499,     0.25609,     0.25674,      0.2589,     0.26056,\n",
       "            0.26197,     0.26198,     0.26568,     0.26913,     0.26966,     0.27174,     0.27324,     0.27488,     0.27792,     0.28001,     0.28138,     0.28175,     0.28178,     0.28387,     0.28542,     0.28748,     0.28861,      0.2897,     0.29146,     0.29161,       0.292,     0.29136,     0.29346,\n",
       "            0.29402,      0.2965,     0.29926,     0.30114,     0.30221,     0.30367,     0.30481,     0.30597,     0.30822,     0.30968,     0.31104,     0.31384,     0.31669,     0.31872,      0.3214,     0.32462,     0.32567,     0.32626,     0.32636,     0.32807,     0.32875,     0.32997,     0.33131,\n",
       "            0.33378,     0.33642,     0.33809,     0.34083,     0.34101,     0.34042,     0.34157,     0.34277,     0.34507,     0.34652,     0.34691,     0.34874,     0.34927,     0.35123,     0.35247,     0.35421,     0.35557,     0.35577,     0.35598,     0.35729,     0.35791,     0.35898,     0.35944,\n",
       "            0.36229,     0.36257,     0.36364,     0.36425,       0.365,     0.36736,     0.36975,     0.37097,      0.3722,     0.37344,      0.3771,     0.37842,     0.37962,     0.37945,     0.38018,     0.38152,     0.38346,     0.38685,     0.38878,     0.39279,     0.39403,     0.39785,     0.39755,\n",
       "            0.40117,     0.40377,     0.40444,     0.40674,     0.40839,     0.40873,     0.40907,     0.40723,      0.4081,     0.40977,     0.41054,     0.41085,     0.41186,     0.41169,      0.4125,     0.41436,     0.41579,     0.41631,     0.41854,     0.42014,     0.42061,      0.4233,     0.42416,\n",
       "            0.42551,      0.4247,     0.42561,     0.42694,     0.42762,     0.42952,     0.43002,      0.4293,      0.4321,     0.43332,     0.43642,     0.43847,     0.43884,      0.4392,     0.44028,     0.44108,     0.44276,     0.44562,     0.44635,      0.4471,     0.44863,     0.44951,     0.45097,\n",
       "            0.45134,     0.45188,     0.45429,     0.45624,     0.45854,     0.45885,     0.45916,     0.46168,     0.46317,     0.46562,     0.46932,     0.47319,     0.47313,     0.47387,     0.47327,     0.47474,     0.47525,     0.47781,     0.47658,      0.4774,     0.47902,     0.48058,      0.4822,\n",
       "            0.48549,     0.48536,      0.4865,     0.48729,     0.48814,     0.48912,     0.48878,     0.48844,     0.48834,     0.48875,     0.48916,     0.48772,     0.48553,     0.48638,     0.48625,     0.48561,     0.48641,     0.48776,     0.48869,     0.49002,     0.49265,     0.49348,     0.49477,\n",
       "             0.4942,     0.49323,     0.49151,     0.49279,     0.49533,     0.49619,     0.49782,     0.49856,      0.5004,     0.50092,     0.50213,     0.50165,     0.50408,     0.50662,     0.50704,     0.50745,     0.50798,     0.50888,     0.51176,     0.51069,     0.51124,      0.5118,     0.51347,\n",
       "            0.51476,     0.51519,     0.51562,     0.51638,     0.51827,     0.51934,     0.52161,     0.52495,      0.5253,     0.52454,     0.52532,     0.52533,     0.52503,     0.52601,     0.52977,     0.53049,     0.53087,     0.53124,     0.53162,     0.53218,     0.53304,     0.53741,     0.54143,\n",
       "            0.54206,     0.54282,     0.54372,     0.54441,     0.54504,     0.54601,     0.54781,     0.54831,     0.55188,     0.55381,     0.55476,     0.55605,     0.55801,     0.56093,     0.56071,     0.56114,     0.56156,     0.56199,     0.56188,      0.5615,     0.56112,     0.56093,     0.56133,\n",
       "            0.56174,     0.56214,     0.56236,     0.56001,     0.56099,     0.56198,     0.56297,     0.56492,     0.56634,     0.56857,     0.56921,     0.56986,     0.57329,     0.57518,     0.57878,     0.57797,     0.58115,     0.58066,     0.58017,     0.58123,     0.58324,     0.58416,     0.58484,\n",
       "            0.58539,     0.58501,     0.58462,     0.58424,     0.58491,       0.586,     0.59169,     0.59326,     0.59462,     0.59616,     0.59767,      0.5984,     0.59912,     0.60385,     0.60368,     0.60352,     0.60336,      0.6032,     0.60303,     0.60287,     0.60271,     0.60178,     0.60172,\n",
       "            0.60231,     0.60289,     0.60347,     0.60402,     0.60458,     0.60513,     0.60454,     0.60318,     0.60404,     0.60498,     0.60537,     0.60575,     0.60613,     0.60651,     0.60742,     0.61103,     0.61134,     0.61166,     0.61198,      0.6123,     0.61261,     0.61293,     0.61514,\n",
       "            0.61732,     0.61937,     0.61919,     0.61902,     0.61884,     0.61867,     0.61849,     0.61832,     0.61814,     0.61952,     0.62162,     0.62237,     0.62312,     0.62364,     0.62411,     0.62459,     0.62506,     0.62782,     0.62858,     0.62934,     0.63021,     0.63137,     0.63284,\n",
       "            0.63206,     0.63092,     0.63014,     0.62968,     0.62922,     0.62965,     0.63044,     0.63122,     0.63326,     0.63441,     0.63528,     0.63854,     0.63975,     0.63963,     0.64085,     0.64169,     0.64123,     0.64077,     0.64244,     0.64233,     0.64347,     0.64681,     0.64698,\n",
       "            0.64826,     0.65161,     0.65939,     0.66207,     0.66477,     0.67018,     0.67095,     0.67309,     0.67592,     0.67877,     0.67989,     0.68085,     0.68181,     0.68053,     0.68335,     0.68386,     0.68437,     0.68488,     0.68539,      0.6859,     0.68562,     0.68426,     0.68322,\n",
       "            0.68253,     0.68668,     0.69266,     0.69573,     0.69882,     0.70404,     0.70562,     0.70828,     0.70915,       0.709,     0.70886,     0.70871,     0.70856,     0.70842,     0.70827,     0.70812,     0.70798,     0.70962,     0.71288,     0.71617,     0.72111,     0.72939,     0.73025,\n",
       "            0.73111,     0.73197,     0.73594,     0.73544,     0.74542,     0.74614,     0.74686,     0.74759,     0.74831,     0.74872,     0.74842,     0.74811,      0.7478,     0.75149,     0.75223,     0.75297,     0.75372,     0.75446,     0.75579,     0.75766,     0.75811,     0.75751,     0.75964,\n",
       "            0.76465,     0.76457,     0.76448,      0.7644,     0.76431,     0.76423,     0.76414,     0.76406,     0.76397,     0.76389,      0.7638,     0.76372,     0.76363,     0.76355,     0.76731,     0.76616,     0.76592,     0.76568,     0.76544,      0.7652,      0.7651,     0.76576,     0.76642,\n",
       "            0.76707,     0.76773,     0.76839,     0.77006,     0.77339,      0.7754,      0.7805,     0.78021,     0.77993,     0.77964,     0.77893,     0.77776,     0.77658,     0.77833,     0.78456,     0.78517,     0.78577,     0.78638,     0.78699,      0.7876,      0.7882,     0.78943,     0.79086,\n",
       "            0.79229,     0.79649,     0.79611,     0.79574,     0.79641,     0.79722,     0.79802,     0.79882,     0.79962,     0.80234,     0.80452,     0.80679,     0.81043,     0.81504,     0.81818,     0.82052,     0.82105,     0.82079,     0.82053,     0.82028,     0.82098,     0.82193,     0.82288,\n",
       "            0.82383,     0.82478,     0.82392,     0.82663,     0.83134,     0.84125,     0.84613,      0.8455,     0.84426,     0.84416,     0.84406,     0.84397,     0.84387,     0.84378,     0.84368,     0.84358,     0.84349,     0.84339,     0.84315,     0.84287,     0.84259,     0.84222,     0.84173,\n",
       "            0.84129,     0.84307,     0.84484,     0.85151,      0.8526,     0.85369,     0.85478,     0.85587,     0.85565,     0.86128,     0.86409,     0.86604,     0.86515,     0.86439,     0.86394,     0.86333,     0.86288,     0.86581,     0.86682,     0.86549,     0.86518,     0.86487,     0.86785,\n",
       "            0.87071,     0.86983,     0.86937,     0.86876,     0.87807,     0.87886,     0.88003,     0.88219,     0.88435,      0.8898,     0.89068,     0.89007,     0.89034,     0.89556,     0.89788,      0.9002,     0.90354,     0.90824,      0.9077,     0.92125,     0.91999,     0.91972,     0.91946,\n",
       "            0.91915,     0.91882,     0.92121,     0.92507,     0.92631,      0.9273,     0.92829,     0.92928,     0.93026,     0.93125,     0.93224,     0.93323,     0.93282,     0.93224,     0.93198,     0.93174,      0.9315,     0.93126,     0.93039,     0.92915,      0.9285,     0.92784,      0.9272,\n",
       "            0.92674,     0.92636,     0.92601,     0.92446,     0.92422,     0.92397,     0.92364,     0.92314,     0.92274,     0.92236,     0.93122,     0.93087,     0.92977,     0.92945,     0.93898,     0.94394,     0.94835,     0.94784,     0.94772,     0.94759,     0.94747,     0.94729,      0.9469,\n",
       "            0.94659,      0.9463,     0.94576,     0.94553,     0.94537,     0.94522,     0.94507,     0.94405,     0.94466,     0.94649,     0.94832,     0.95015,     0.95198,     0.95382,     0.95442,      0.9542,       0.954,     0.95384,     0.95368,     0.95353,     0.95335,     0.95316,     0.95297,\n",
       "            0.95275,     0.95252,     0.95223,     0.95184,     0.95125,     0.95038,     0.95013,     0.95113,     0.95337,     0.95561,     0.95786,      0.9601,     0.96198,     0.96165,     0.97352,     0.97325,     0.97288,     0.97178,     0.97157,      0.9714,     0.97129,     0.97118,     0.97108,\n",
       "            0.97251,     0.97617,     0.97983,     0.98349,     0.98522,     0.98507,     0.98491,     0.98476,     0.98436,     0.98419,     0.98396,     0.98348,     0.98329,      0.9831,     0.98294,     0.98279,     0.98266,     0.98254,     0.98241,     0.98228,     0.98215,     0.98194,     0.98166,\n",
       "             0.9814,     0.98122,     0.98105,      0.9809,     0.98076,     0.98068,     0.98061,     0.98053,     0.98045,     0.98036,      0.9802,     0.98004,     0.97989,     0.97975,     0.97961,     0.97891,     0.97836,     0.97796,     0.97769,     0.97748,     0.97727,     0.97672,     0.97587,\n",
       "            0.97557,      0.9755,     0.97542,     0.97535,     0.97527,      0.9752,     0.97513,     0.97505,     0.97465,     0.97382,      0.9729,     0.97268,     0.97246,     0.97224,     0.97174,     0.97118,     0.97061,     0.96946,     0.96898,     0.96861,     0.96835,      0.9681,     0.96784,\n",
       "            0.96593,     0.96424,     0.96393,     0.96363,     0.96333,     0.96303,      0.9826,           1,           1,           1,           1,           1,           1,           1,           1,           1,           1,           1,           1,           1,           1,           1,           1,\n",
       "                  1,           1,           1,           1,           1,           1,           1,           1,           1,           1,           1,           1,           1,           1,           1,           1,           1,           1,           1,           1,           1,           1,           1,\n",
       "                  1,           1,           1,           1,           1,           1,           1,           1,           1,           1,           1,           1,           1,           1,           1,           1,           1,           1,           1,           1,           1,           1,           1,\n",
       "                  1,           1,           1,           1,           1,           1,           1,           1,           1,           1,           1,           1,           1,           1,           1,           1,           1,           1,           1,           1,           1,           1,           1,\n",
       "                  1,           1,           1,           1,           1,           1,           1,           1,           1,           1,           1,           1,           1,           1,           1,           1,           1,           1,           1,           1,           1,           1,           1,\n",
       "                  1,           1,           1,           1,           1,           1,           1,           1,           1,           1,           1,           1,           1,           1,           1,           1,           1,           1,           1,           1,           1,           1,           1,\n",
       "                  1,           1,           1,           1,           1,           1,           1,           1,           1,           1,           1,           1,           1,           1,           1,           1,           1,           1,           1,           1,           1,           1,           1,\n",
       "                  1,           1,           1,           1,           1,           1,           1,           1,           1,           1,           1,           1,           1,           1,           1,           1,           1,           1,           1,           1,           1,           1,           1,\n",
       "                  1,           1,           1,           1,           1,           1,           1,           1,           1,           1,           1]]), 'Confidence', 'Precision'], [array([          0,    0.001001,    0.002002,    0.003003,    0.004004,    0.005005,    0.006006,    0.007007,    0.008008,    0.009009,     0.01001,    0.011011,    0.012012,    0.013013,    0.014014,    0.015015,    0.016016,    0.017017,    0.018018,    0.019019,     0.02002,    0.021021,    0.022022,    0.023023,\n",
       "          0.024024,    0.025025,    0.026026,    0.027027,    0.028028,    0.029029,     0.03003,    0.031031,    0.032032,    0.033033,    0.034034,    0.035035,    0.036036,    0.037037,    0.038038,    0.039039,     0.04004,    0.041041,    0.042042,    0.043043,    0.044044,    0.045045,    0.046046,    0.047047,\n",
       "          0.048048,    0.049049,     0.05005,    0.051051,    0.052052,    0.053053,    0.054054,    0.055055,    0.056056,    0.057057,    0.058058,    0.059059,     0.06006,    0.061061,    0.062062,    0.063063,    0.064064,    0.065065,    0.066066,    0.067067,    0.068068,    0.069069,     0.07007,    0.071071,\n",
       "          0.072072,    0.073073,    0.074074,    0.075075,    0.076076,    0.077077,    0.078078,    0.079079,     0.08008,    0.081081,    0.082082,    0.083083,    0.084084,    0.085085,    0.086086,    0.087087,    0.088088,    0.089089,     0.09009,    0.091091,    0.092092,    0.093093,    0.094094,    0.095095,\n",
       "          0.096096,    0.097097,    0.098098,    0.099099,      0.1001,      0.1011,      0.1021,      0.1031,      0.1041,     0.10511,     0.10611,     0.10711,     0.10811,     0.10911,     0.11011,     0.11111,     0.11211,     0.11311,     0.11411,     0.11512,     0.11612,     0.11712,     0.11812,     0.11912,\n",
       "           0.12012,     0.12112,     0.12212,     0.12312,     0.12412,     0.12513,     0.12613,     0.12713,     0.12813,     0.12913,     0.13013,     0.13113,     0.13213,     0.13313,     0.13413,     0.13514,     0.13614,     0.13714,     0.13814,     0.13914,     0.14014,     0.14114,     0.14214,     0.14314,\n",
       "           0.14414,     0.14515,     0.14615,     0.14715,     0.14815,     0.14915,     0.15015,     0.15115,     0.15215,     0.15315,     0.15415,     0.15516,     0.15616,     0.15716,     0.15816,     0.15916,     0.16016,     0.16116,     0.16216,     0.16316,     0.16416,     0.16517,     0.16617,     0.16717,\n",
       "           0.16817,     0.16917,     0.17017,     0.17117,     0.17217,     0.17317,     0.17417,     0.17518,     0.17618,     0.17718,     0.17818,     0.17918,     0.18018,     0.18118,     0.18218,     0.18318,     0.18418,     0.18519,     0.18619,     0.18719,     0.18819,     0.18919,     0.19019,     0.19119,\n",
       "           0.19219,     0.19319,     0.19419,      0.1952,      0.1962,      0.1972,      0.1982,      0.1992,      0.2002,      0.2012,      0.2022,      0.2032,      0.2042,     0.20521,     0.20621,     0.20721,     0.20821,     0.20921,     0.21021,     0.21121,     0.21221,     0.21321,     0.21421,     0.21522,\n",
       "           0.21622,     0.21722,     0.21822,     0.21922,     0.22022,     0.22122,     0.22222,     0.22322,     0.22422,     0.22523,     0.22623,     0.22723,     0.22823,     0.22923,     0.23023,     0.23123,     0.23223,     0.23323,     0.23423,     0.23524,     0.23624,     0.23724,     0.23824,     0.23924,\n",
       "           0.24024,     0.24124,     0.24224,     0.24324,     0.24424,     0.24525,     0.24625,     0.24725,     0.24825,     0.24925,     0.25025,     0.25125,     0.25225,     0.25325,     0.25425,     0.25526,     0.25626,     0.25726,     0.25826,     0.25926,     0.26026,     0.26126,     0.26226,     0.26326,\n",
       "           0.26426,     0.26527,     0.26627,     0.26727,     0.26827,     0.26927,     0.27027,     0.27127,     0.27227,     0.27327,     0.27427,     0.27528,     0.27628,     0.27728,     0.27828,     0.27928,     0.28028,     0.28128,     0.28228,     0.28328,     0.28428,     0.28529,     0.28629,     0.28729,\n",
       "           0.28829,     0.28929,     0.29029,     0.29129,     0.29229,     0.29329,     0.29429,      0.2953,      0.2963,      0.2973,      0.2983,      0.2993,      0.3003,      0.3013,      0.3023,      0.3033,      0.3043,     0.30531,     0.30631,     0.30731,     0.30831,     0.30931,     0.31031,     0.31131,\n",
       "           0.31231,     0.31331,     0.31431,     0.31532,     0.31632,     0.31732,     0.31832,     0.31932,     0.32032,     0.32132,     0.32232,     0.32332,     0.32432,     0.32533,     0.32633,     0.32733,     0.32833,     0.32933,     0.33033,     0.33133,     0.33233,     0.33333,     0.33433,     0.33534,\n",
       "           0.33634,     0.33734,     0.33834,     0.33934,     0.34034,     0.34134,     0.34234,     0.34334,     0.34434,     0.34535,     0.34635,     0.34735,     0.34835,     0.34935,     0.35035,     0.35135,     0.35235,     0.35335,     0.35435,     0.35536,     0.35636,     0.35736,     0.35836,     0.35936,\n",
       "           0.36036,     0.36136,     0.36236,     0.36336,     0.36436,     0.36537,     0.36637,     0.36737,     0.36837,     0.36937,     0.37037,     0.37137,     0.37237,     0.37337,     0.37437,     0.37538,     0.37638,     0.37738,     0.37838,     0.37938,     0.38038,     0.38138,     0.38238,     0.38338,\n",
       "           0.38438,     0.38539,     0.38639,     0.38739,     0.38839,     0.38939,     0.39039,     0.39139,     0.39239,     0.39339,     0.39439,      0.3954,      0.3964,      0.3974,      0.3984,      0.3994,      0.4004,      0.4014,      0.4024,      0.4034,      0.4044,     0.40541,     0.40641,     0.40741,\n",
       "           0.40841,     0.40941,     0.41041,     0.41141,     0.41241,     0.41341,     0.41441,     0.41542,     0.41642,     0.41742,     0.41842,     0.41942,     0.42042,     0.42142,     0.42242,     0.42342,     0.42442,     0.42543,     0.42643,     0.42743,     0.42843,     0.42943,     0.43043,     0.43143,\n",
       "           0.43243,     0.43343,     0.43443,     0.43544,     0.43644,     0.43744,     0.43844,     0.43944,     0.44044,     0.44144,     0.44244,     0.44344,     0.44444,     0.44545,     0.44645,     0.44745,     0.44845,     0.44945,     0.45045,     0.45145,     0.45245,     0.45345,     0.45445,     0.45546,\n",
       "           0.45646,     0.45746,     0.45846,     0.45946,     0.46046,     0.46146,     0.46246,     0.46346,     0.46446,     0.46547,     0.46647,     0.46747,     0.46847,     0.46947,     0.47047,     0.47147,     0.47247,     0.47347,     0.47447,     0.47548,     0.47648,     0.47748,     0.47848,     0.47948,\n",
       "           0.48048,     0.48148,     0.48248,     0.48348,     0.48448,     0.48549,     0.48649,     0.48749,     0.48849,     0.48949,     0.49049,     0.49149,     0.49249,     0.49349,     0.49449,      0.4955,      0.4965,      0.4975,      0.4985,      0.4995,      0.5005,      0.5015,      0.5025,      0.5035,\n",
       "            0.5045,     0.50551,     0.50651,     0.50751,     0.50851,     0.50951,     0.51051,     0.51151,     0.51251,     0.51351,     0.51451,     0.51552,     0.51652,     0.51752,     0.51852,     0.51952,     0.52052,     0.52152,     0.52252,     0.52352,     0.52452,     0.52553,     0.52653,     0.52753,\n",
       "           0.52853,     0.52953,     0.53053,     0.53153,     0.53253,     0.53353,     0.53453,     0.53554,     0.53654,     0.53754,     0.53854,     0.53954,     0.54054,     0.54154,     0.54254,     0.54354,     0.54454,     0.54555,     0.54655,     0.54755,     0.54855,     0.54955,     0.55055,     0.55155,\n",
       "           0.55255,     0.55355,     0.55455,     0.55556,     0.55656,     0.55756,     0.55856,     0.55956,     0.56056,     0.56156,     0.56256,     0.56356,     0.56456,     0.56557,     0.56657,     0.56757,     0.56857,     0.56957,     0.57057,     0.57157,     0.57257,     0.57357,     0.57457,     0.57558,\n",
       "           0.57658,     0.57758,     0.57858,     0.57958,     0.58058,     0.58158,     0.58258,     0.58358,     0.58458,     0.58559,     0.58659,     0.58759,     0.58859,     0.58959,     0.59059,     0.59159,     0.59259,     0.59359,     0.59459,      0.5956,      0.5966,      0.5976,      0.5986,      0.5996,\n",
       "            0.6006,      0.6016,      0.6026,      0.6036,      0.6046,     0.60561,     0.60661,     0.60761,     0.60861,     0.60961,     0.61061,     0.61161,     0.61261,     0.61361,     0.61461,     0.61562,     0.61662,     0.61762,     0.61862,     0.61962,     0.62062,     0.62162,     0.62262,     0.62362,\n",
       "           0.62462,     0.62563,     0.62663,     0.62763,     0.62863,     0.62963,     0.63063,     0.63163,     0.63263,     0.63363,     0.63463,     0.63564,     0.63664,     0.63764,     0.63864,     0.63964,     0.64064,     0.64164,     0.64264,     0.64364,     0.64464,     0.64565,     0.64665,     0.64765,\n",
       "           0.64865,     0.64965,     0.65065,     0.65165,     0.65265,     0.65365,     0.65465,     0.65566,     0.65666,     0.65766,     0.65866,     0.65966,     0.66066,     0.66166,     0.66266,     0.66366,     0.66466,     0.66567,     0.66667,     0.66767,     0.66867,     0.66967,     0.67067,     0.67167,\n",
       "           0.67267,     0.67367,     0.67467,     0.67568,     0.67668,     0.67768,     0.67868,     0.67968,     0.68068,     0.68168,     0.68268,     0.68368,     0.68468,     0.68569,     0.68669,     0.68769,     0.68869,     0.68969,     0.69069,     0.69169,     0.69269,     0.69369,     0.69469,      0.6957,\n",
       "            0.6967,      0.6977,      0.6987,      0.6997,      0.7007,      0.7017,      0.7027,      0.7037,      0.7047,     0.70571,     0.70671,     0.70771,     0.70871,     0.70971,     0.71071,     0.71171,     0.71271,     0.71371,     0.71471,     0.71572,     0.71672,     0.71772,     0.71872,     0.71972,\n",
       "           0.72072,     0.72172,     0.72272,     0.72372,     0.72472,     0.72573,     0.72673,     0.72773,     0.72873,     0.72973,     0.73073,     0.73173,     0.73273,     0.73373,     0.73473,     0.73574,     0.73674,     0.73774,     0.73874,     0.73974,     0.74074,     0.74174,     0.74274,     0.74374,\n",
       "           0.74474,     0.74575,     0.74675,     0.74775,     0.74875,     0.74975,     0.75075,     0.75175,     0.75275,     0.75375,     0.75475,     0.75576,     0.75676,     0.75776,     0.75876,     0.75976,     0.76076,     0.76176,     0.76276,     0.76376,     0.76476,     0.76577,     0.76677,     0.76777,\n",
       "           0.76877,     0.76977,     0.77077,     0.77177,     0.77277,     0.77377,     0.77477,     0.77578,     0.77678,     0.77778,     0.77878,     0.77978,     0.78078,     0.78178,     0.78278,     0.78378,     0.78478,     0.78579,     0.78679,     0.78779,     0.78879,     0.78979,     0.79079,     0.79179,\n",
       "           0.79279,     0.79379,     0.79479,      0.7958,      0.7968,      0.7978,      0.7988,      0.7998,      0.8008,      0.8018,      0.8028,      0.8038,      0.8048,     0.80581,     0.80681,     0.80781,     0.80881,     0.80981,     0.81081,     0.81181,     0.81281,     0.81381,     0.81481,     0.81582,\n",
       "           0.81682,     0.81782,     0.81882,     0.81982,     0.82082,     0.82182,     0.82282,     0.82382,     0.82482,     0.82583,     0.82683,     0.82783,     0.82883,     0.82983,     0.83083,     0.83183,     0.83283,     0.83383,     0.83483,     0.83584,     0.83684,     0.83784,     0.83884,     0.83984,\n",
       "           0.84084,     0.84184,     0.84284,     0.84384,     0.84484,     0.84585,     0.84685,     0.84785,     0.84885,     0.84985,     0.85085,     0.85185,     0.85285,     0.85385,     0.85485,     0.85586,     0.85686,     0.85786,     0.85886,     0.85986,     0.86086,     0.86186,     0.86286,     0.86386,\n",
       "           0.86486,     0.86587,     0.86687,     0.86787,     0.86887,     0.86987,     0.87087,     0.87187,     0.87287,     0.87387,     0.87487,     0.87588,     0.87688,     0.87788,     0.87888,     0.87988,     0.88088,     0.88188,     0.88288,     0.88388,     0.88488,     0.88589,     0.88689,     0.88789,\n",
       "           0.88889,     0.88989,     0.89089,     0.89189,     0.89289,     0.89389,     0.89489,      0.8959,      0.8969,      0.8979,      0.8989,      0.8999,      0.9009,      0.9019,      0.9029,      0.9039,      0.9049,     0.90591,     0.90691,     0.90791,     0.90891,     0.90991,     0.91091,     0.91191,\n",
       "           0.91291,     0.91391,     0.91491,     0.91592,     0.91692,     0.91792,     0.91892,     0.91992,     0.92092,     0.92192,     0.92292,     0.92392,     0.92492,     0.92593,     0.92693,     0.92793,     0.92893,     0.92993,     0.93093,     0.93193,     0.93293,     0.93393,     0.93493,     0.93594,\n",
       "           0.93694,     0.93794,     0.93894,     0.93994,     0.94094,     0.94194,     0.94294,     0.94394,     0.94494,     0.94595,     0.94695,     0.94795,     0.94895,     0.94995,     0.95095,     0.95195,     0.95295,     0.95395,     0.95495,     0.95596,     0.95696,     0.95796,     0.95896,     0.95996,\n",
       "           0.96096,     0.96196,     0.96296,     0.96396,     0.96496,     0.96597,     0.96697,     0.96797,     0.96897,     0.96997,     0.97097,     0.97197,     0.97297,     0.97397,     0.97497,     0.97598,     0.97698,     0.97798,     0.97898,     0.97998,     0.98098,     0.98198,     0.98298,     0.98398,\n",
       "           0.98498,     0.98599,     0.98699,     0.98799,     0.98899,     0.98999,     0.99099,     0.99199,     0.99299,     0.99399,     0.99499,       0.996,       0.997,       0.998,       0.999,           1]), array([[    0.89086,     0.89086,     0.89086,     0.87316,     0.86431,     0.84956,     0.83481,     0.82006,     0.81711,     0.80826,     0.80826,     0.80826,     0.80531,     0.79941,     0.79646,     0.79646,     0.79351,     0.79351,     0.78761,     0.78466,     0.77581,     0.77581,     0.77581,\n",
       "            0.77581,     0.77286,     0.77286,     0.76696,     0.76696,     0.76401,     0.76106,     0.76106,     0.76106,     0.76106,     0.76106,     0.76106,     0.76106,     0.75984,     0.75811,     0.75811,     0.75811,     0.75516,     0.75516,     0.75516,     0.75221,     0.74631,     0.74631,\n",
       "            0.74631,     0.74336,     0.74041,     0.74041,     0.74041,     0.74041,     0.74041,     0.74041,     0.74041,     0.74041,     0.73746,     0.73746,     0.73746,     0.73652,     0.73451,     0.73156,     0.73156,     0.73156,     0.73156,     0.72861,     0.72861,     0.72861,     0.72861,\n",
       "            0.72861,     0.72566,     0.72566,     0.72566,     0.72271,     0.72271,     0.72271,     0.72271,     0.72271,     0.72271,     0.72271,     0.71975,     0.71681,     0.71681,     0.71681,     0.71681,     0.71386,     0.71386,     0.71108,     0.70501,     0.70206,     0.69617,     0.69591,\n",
       "            0.69322,     0.69322,     0.69322,     0.69322,     0.69322,     0.69322,     0.69322,     0.69322,     0.69322,     0.69322,     0.69322,     0.69322,     0.69322,     0.69322,     0.69322,     0.69322,     0.69322,     0.69322,     0.69027,     0.69027,     0.68732,     0.68732,     0.68732,\n",
       "            0.68732,     0.68732,     0.68732,     0.68637,      0.6808,     0.67901,     0.67847,     0.67847,     0.67847,     0.67847,     0.67847,     0.67847,     0.67847,     0.67847,     0.67847,     0.67847,     0.67847,     0.67847,     0.67847,     0.67847,     0.67847,     0.67847,     0.67847,\n",
       "            0.67847,     0.67847,     0.67847,     0.67847,     0.67847,     0.67847,     0.67847,     0.67847,     0.67847,     0.67847,     0.67847,     0.67847,     0.67847,     0.67461,     0.67257,     0.67257,     0.67257,     0.66962,     0.66962,     0.66962,     0.66962,     0.66962,     0.66667,\n",
       "            0.66667,     0.66667,     0.66667,     0.66667,     0.66372,     0.66372,     0.66372,     0.65782,     0.65782,     0.65487,     0.65487,     0.65192,     0.65192,     0.65024,     0.64897,     0.64897,     0.64897,     0.64897,     0.64897,     0.64897,     0.64897,     0.64897,     0.64897,\n",
       "            0.64897,     0.64602,     0.64602,     0.64602,     0.64602,     0.64602,     0.64602,     0.64352,     0.64307,     0.64012,     0.64012,     0.64012,     0.64012,     0.64012,     0.64012,     0.63785,     0.63422,     0.63422,     0.63422,     0.63422,     0.63422,     0.63422,     0.63422,\n",
       "            0.63422,     0.63422,     0.63422,     0.63422,     0.63422,     0.63422,     0.63422,     0.63422,     0.63422,     0.63422,     0.63422,     0.63325,     0.62832,     0.62702,     0.62551,     0.62537,     0.62537,     0.62537,     0.62043,     0.61652,     0.61652,     0.61652,     0.61652,\n",
       "            0.61652,     0.61357,     0.61357,     0.61357,     0.61357,     0.61285,     0.61202,     0.61118,     0.61062,     0.61062,     0.61062,     0.60663,     0.60133,     0.59882,     0.59468,     0.59292,     0.59292,     0.59292,     0.59292,     0.59292,     0.59292,     0.59292,     0.59219,\n",
       "            0.59085,     0.58857,     0.58454,     0.58407,     0.58112,     0.58112,     0.58112,     0.58112,     0.58112,     0.58112,     0.58014,     0.57817,     0.57817,     0.57817,     0.57817,     0.57817,     0.57817,     0.57817,      0.5751,     0.57227,     0.57227,     0.57227,     0.57227,\n",
       "            0.57227,     0.57227,     0.57227,     0.57227,     0.57227,     0.57227,     0.57227,     0.57227,     0.57125,     0.56952,     0.56932,     0.56805,     0.56637,     0.56637,     0.56637,     0.56637,     0.56637,     0.56637,     0.56637,     0.56637,     0.56637,     0.56637,     0.56637,\n",
       "            0.56637,     0.56637,     0.56637,     0.56637,     0.56637,     0.56637,     0.56637,     0.56342,     0.56342,     0.56342,     0.56342,     0.56342,     0.56342,     0.56152,     0.56047,     0.56047,     0.56047,     0.56047,      0.5599,     0.55903,     0.55817,     0.55752,     0.55752,\n",
       "            0.55752,     0.55752,      0.5572,     0.55162,     0.55162,     0.55162,     0.55162,     0.55162,     0.55162,     0.55162,     0.55162,     0.55162,     0.55162,     0.55162,     0.55162,     0.54867,     0.54845,     0.54735,     0.54625,     0.54572,     0.54572,     0.54572,     0.54572,\n",
       "            0.54561,     0.54475,     0.54388,     0.54302,     0.54277,     0.54277,     0.54277,     0.54277,     0.54277,     0.54277,     0.54277,     0.54277,     0.54277,     0.53957,      0.5392,     0.53884,     0.53847,      0.5381,     0.53774,     0.53737,       0.537,     0.53493,     0.53392,\n",
       "            0.53392,     0.53392,     0.53392,     0.53392,     0.53392,     0.53392,     0.53213,      0.5291,     0.52802,     0.52802,     0.52802,     0.52802,     0.52802,     0.52802,     0.52802,     0.52802,     0.52802,     0.52802,     0.52802,     0.52802,     0.52802,     0.52802,     0.52802,\n",
       "            0.52802,       0.528,     0.52761,     0.52722,     0.52683,     0.52644,     0.52605,     0.52566,     0.52527,     0.52507,     0.52212,     0.52212,     0.52212,     0.52212,     0.52212,     0.52212,     0.52212,     0.52212,     0.52212,     0.52212,     0.52212,     0.52212,     0.51861,\n",
       "            0.51688,     0.51435,     0.51262,     0.51162,     0.51061,     0.51032,     0.51032,     0.51032,     0.51032,     0.51032,     0.51032,     0.51032,     0.51032,     0.50737,     0.50737,     0.50714,     0.50613,     0.50513,     0.50351,     0.50147,     0.49853,     0.49701,     0.49558,\n",
       "            0.49558,     0.49263,     0.49263,     0.49263,     0.49263,     0.49263,     0.48721,     0.48673,     0.48673,     0.48673,     0.48673,     0.48673,     0.48673,     0.48378,     0.48378,     0.48378,     0.48378,     0.48378,     0.48378,     0.48378,     0.48249,     0.47946,     0.47716,\n",
       "            0.47565,     0.47493,     0.47493,     0.47493,     0.47493,     0.47493,     0.47493,     0.47493,     0.47469,     0.47436,     0.47402,     0.47369,     0.47335,     0.47301,     0.47268,     0.47234,     0.47201,     0.46903,     0.46903,     0.46903,     0.46903,     0.46903,     0.46903,\n",
       "            0.46903,     0.46903,     0.46862,     0.46608,     0.46608,     0.46608,     0.46608,     0.46608,     0.46608,     0.46585,     0.46509,     0.46433,     0.46358,     0.46313,     0.46313,     0.46313,     0.46313,     0.46313,     0.46313,     0.46313,     0.46226,     0.46075,     0.46018,\n",
       "            0.46004,     0.45982,     0.45961,     0.45939,     0.45917,     0.45896,     0.45874,     0.45853,     0.45831,     0.45809,     0.45788,     0.45766,     0.45745,     0.45723,     0.45719,     0.45425,     0.45365,     0.45305,     0.45244,     0.45184,     0.45133,     0.45133,     0.45133,\n",
       "            0.45133,     0.45133,     0.45133,     0.45133,     0.45133,     0.45133,     0.45104,     0.45029,     0.44953,     0.44877,     0.44694,     0.44391,     0.44089,     0.43953,     0.43953,     0.43953,     0.43953,     0.43953,     0.43953,     0.43953,     0.43953,     0.43953,     0.43953,\n",
       "            0.43953,      0.4387,      0.4377,     0.43669,     0.43658,     0.43658,     0.43658,     0.43658,     0.43658,     0.43658,     0.43363,     0.43363,     0.43363,     0.43363,     0.43363,     0.43363,      0.4331,     0.43235,     0.43159,     0.43083,     0.43068,     0.43068,     0.43068,\n",
       "            0.43068,     0.43068,     0.42791,     0.42193,     0.42183,     0.42183,     0.42175,     0.41974,     0.41576,     0.41545,     0.41515,     0.41485,     0.41455,     0.41424,     0.41394,     0.41364,     0.41334,     0.41303,     0.41227,     0.41141,     0.41054,     0.40942,     0.40791,\n",
       "            0.40413,     0.40413,     0.40413,     0.40413,     0.40413,     0.40413,     0.40413,     0.40413,     0.40217,     0.40118,     0.40118,     0.40047,     0.39745,     0.39485,     0.39334,     0.39133,     0.38643,     0.38643,     0.38398,     0.37961,      0.3786,     0.37759,     0.37758,\n",
       "            0.37746,     0.37453,     0.37302,       0.371,     0.36873,     0.36382,     0.36283,     0.36283,     0.36283,     0.36283,      0.3605,     0.35828,     0.35103,     0.35103,     0.35103,     0.35103,     0.35103,     0.35103,     0.34811,     0.34509,     0.33918,     0.33798,     0.33677,\n",
       "            0.33537,     0.33386,     0.33333,     0.33333,     0.33038,     0.33038,     0.33038,     0.33038,     0.33038,     0.33038,     0.33038,     0.33038,     0.32768,     0.32466,     0.32334,     0.32213,     0.32092,     0.31971,     0.31544,     0.30946,     0.30644,     0.30342,     0.30056,\n",
       "            0.29854,     0.29688,     0.29537,     0.28882,     0.28782,     0.28681,     0.28546,     0.28345,     0.28187,     0.28036,     0.27958,     0.27807,     0.27337,     0.27139,     0.27139,     0.27139,     0.27084,     0.26803,     0.26736,     0.26669,     0.26602,     0.26506,     0.26304,\n",
       "            0.26141,     0.25989,     0.25718,     0.25602,     0.25526,      0.2545,     0.25375,     0.24888,     0.24779,     0.24779,     0.24779,     0.24779,     0.24779,     0.24779,     0.24706,     0.24585,      0.2447,     0.24383,     0.24297,      0.2421,     0.24113,     0.24013,     0.23912,\n",
       "            0.23794,     0.23673,     0.23522,      0.2332,     0.23026,       0.226,     0.22479,     0.22419,     0.22419,     0.22419,     0.22419,     0.22419,     0.22391,     0.22189,     0.21693,      0.2147,     0.21167,     0.20314,     0.20163,     0.20036,      0.1996,     0.19884,     0.19809,\n",
       "            0.19764,     0.19764,     0.19764,     0.19764,     0.19662,      0.1946,     0.19259,     0.19057,     0.18561,     0.18359,     0.18092,     0.17563,     0.17361,      0.1716,     0.16996,     0.16845,     0.16718,     0.16597,     0.16476,     0.16355,     0.16234,     0.16039,     0.15791,\n",
       "            0.15561,      0.1541,     0.15275,     0.15154,     0.15039,     0.14978,     0.14918,     0.14857,     0.14797,     0.14723,     0.14602,     0.14482,     0.14376,     0.14275,     0.14175,     0.13693,     0.13337,     0.13094,     0.12927,     0.12806,     0.12685,     0.12378,     0.11934,\n",
       "             0.1178,     0.11744,     0.11708,     0.11673,     0.11637,     0.11602,     0.11566,     0.11531,     0.11345,     0.10975,     0.10593,     0.10506,      0.1042,     0.10333,     0.10144,     0.09942,    0.097404,    0.093665,    0.092153,    0.091043,    0.090288,    0.089532,    0.088776,\n",
       "           0.083643,    0.079534,    0.078863,    0.078191,    0.077519,    0.076847,    0.076696,    0.075751,    0.071709,    0.067628,    0.067023,    0.066419,    0.065814,    0.065209,    0.064531,    0.063775,     0.06302,    0.062264,    0.061713,    0.061309,    0.060906,    0.060503,      0.0601,\n",
       "           0.059697,    0.059294,    0.058678,    0.057468,    0.056259,    0.052898,    0.052656,    0.052414,    0.052172,     0.05193,    0.051688,    0.051446,    0.051204,    0.050963,    0.050721,    0.050479,    0.050237,    0.048877,    0.044197,    0.043895,    0.043593,     0.04329,    0.042988,\n",
       "           0.042685,    0.042383,    0.042081,    0.041778,    0.041476,    0.041143,    0.040765,    0.040387,    0.040009,    0.039631,    0.039253,    0.038875,    0.038497,    0.038261,    0.038117,    0.037973,    0.037829,    0.037685,    0.037541,    0.037397,    0.037253,    0.037109,    0.036965,\n",
       "           0.036821,    0.036677,    0.036533,    0.036389,    0.036245,    0.036101,    0.035957,    0.035813,    0.035669,    0.035525,    0.035308,    0.034552,    0.033796,     0.03304,     0.03223,    0.031222,    0.030214,    0.029248,    0.028384,     0.02752,    0.026656,    0.026328,    0.026076,\n",
       "           0.025824,    0.025572,     0.02532,    0.025068,    0.024816,    0.024564,    0.024312,     0.02406,    0.023808,    0.023453,    0.022589,    0.021725,    0.020862,    0.019889,    0.018881,    0.017873,    0.013723,    0.011249,   0.0097376,   0.0087307,   0.0084428,   0.0081548,   0.0078668,\n",
       "          0.0075789,   0.0072909,   0.0070029,    0.006715,    0.006427,    0.006139,           0,           0,           0,           0,           0,           0,           0,           0,           0,           0,           0,           0,           0,           0,           0,           0,           0,\n",
       "                  0,           0,           0,           0,           0,           0,           0,           0,           0,           0,           0,           0,           0,           0,           0,           0,           0,           0,           0,           0,           0,           0,           0,\n",
       "                  0,           0,           0,           0,           0,           0,           0,           0,           0,           0,           0,           0,           0,           0,           0,           0,           0,           0,           0,           0,           0,           0,           0,\n",
       "                  0,           0,           0,           0,           0,           0,           0,           0,           0,           0,           0]]), 'Confidence', 'Recall']]\n",
       "fitness: np.float64(0.336448813815699)\n",
       "keys: ['metrics/precision(B)', 'metrics/recall(B)', 'metrics/mAP50(B)', 'metrics/mAP50-95(B)']\n",
       "maps: array([    0.30861])\n",
       "names: {0: 'fire'}\n",
       "plot: True\n",
       "results_dict: {'metrics/precision(B)': np.float64(0.7475875768462731), 'metrics/recall(B)': np.float64(0.46607669616519176), 'metrics/mAP50(B)': np.float64(0.5870221566473495), 'metrics/mAP50-95(B)': np.float64(0.308607331278849), 'fitness': np.float64(0.336448813815699)}\n",
       "save_dir: WindowsPath('runs/detect/train')\n",
       "speed: {'preprocess': 0.1140359446894826, 'inference': 1.3082921658708309, 'loss': 0.0032202764914514848, 'postprocess': 1.1228248847988895}\n",
       "task: 'detect'"
      ]
     },
     "execution_count": 2,
     "metadata": {},
     "output_type": "execute_result"
    }
   ],
   "source": [
    "from ultralytics import YOLO\n",
    "\n",
    "# Load a YOLOv8 model (choose from yolov8n, yolov8s, yolov8m, etc.)\n",
    "model = YOLO(\"yolov8n.pt\")  # you can replace with 'yolov8s.pt' for better accuracy\n",
    "\n",
    "# Train the model\n",
    "model.train(\n",
    "    data=\"indoor.yaml\",     # Path to your custom dataset YAML\n",
    "    epochs=100,                # Number of training epochs\n",
    "    imgsz=640,                 # Image size\n",
    "    batch=16,                  # Batch size (adjust based on your GPU memory)\n",
    "    device = 0\n",
    ")\n"
   ]
  },
  {
   "cell_type": "markdown",
   "id": "d448756a",
   "metadata": {},
   "source": [
    "##  Inference on Indoor Test Images using Trained YOLOv8 Model\n",
    "\n",
    "We perform inference using the **best trained YOLOv8 model** to evaluate its performance on the **test set** of indoor fire scenarios.\n",
    "\n",
    "- 🎯 **Model Weights**: `best.pt` from the training run\n",
    "- 💾 **Output**: Predictions will be saved automatically by YOLO\n",
    "\n",
    "This step visually validates how well the model generalizes to unseen indoor fire detection cases.\n"
   ]
  },
  {
   "cell_type": "code",
   "execution_count": 3,
   "id": "dfb2001f",
   "metadata": {},
   "outputs": [
    {
     "name": "stdout",
     "output_type": "stream",
     "text": [
      "\n",
      "image 1/82 C:\\Users\\pc\\Desktop\\DL\\Project\\Indoor\\test\\images\\0061_JPG_jpg.rf.fa55f7dbf1b90048ef0985c75aa974cd.jpg: 640x640 3 fires, 3.7ms\n",
      "image 2/82 C:\\Users\\pc\\Desktop\\DL\\Project\\Indoor\\test\\images\\0103_jpg.rf.ceffae527e5e9a99cf30bad5e42790c5.jpg: 640x640 1 fire, 3.8ms\n",
      "image 3/82 C:\\Users\\pc\\Desktop\\DL\\Project\\Indoor\\test\\images\\0116_jpg.rf.53a33d6f6768833bcef06b516f6e62ff.jpg: 640x640 (no detections), 5.4ms\n",
      "image 4/82 C:\\Users\\pc\\Desktop\\DL\\Project\\Indoor\\test\\images\\0116_jpg.rf.8e357fe686be9150e36421bb1f20bb46.jpg: 640x640 3 fires, 5.6ms\n",
      "image 5/82 C:\\Users\\pc\\Desktop\\DL\\Project\\Indoor\\test\\images\\0121_jpg.rf.2ea2c18f45b1ff74b3dc57a37137e42e.jpg: 640x640 4 fires, 7.8ms\n",
      "image 6/82 C:\\Users\\pc\\Desktop\\DL\\Project\\Indoor\\test\\images\\0131_jpg.rf.bf0d16c27d61a0d6cff4baf9648e847c.jpg: 640x640 (no detections), 4.3ms\n",
      "image 7/82 C:\\Users\\pc\\Desktop\\DL\\Project\\Indoor\\test\\images\\0132_jpg.rf.3f073bb104ca4c151def26f42f4db729.jpg: 640x640 1 fire, 6.3ms\n",
      "image 8/82 C:\\Users\\pc\\Desktop\\DL\\Project\\Indoor\\test\\images\\0133_jpg.rf.7fdca8375c8430c753804ec0bee37eb1.jpg: 640x640 (no detections), 4.9ms\n",
      "image 9/82 C:\\Users\\pc\\Desktop\\DL\\Project\\Indoor\\test\\images\\0145_jpg.rf.17ab16332ace0dc76faedc3327c7b014.jpg: 640x640 (no detections), 7.5ms\n",
      "image 10/82 C:\\Users\\pc\\Desktop\\DL\\Project\\Indoor\\test\\images\\0155_jpg.rf.17251561605d3dbfdb231df80189c8ef.jpg: 640x640 (no detections), 4.7ms\n",
      "image 11/82 C:\\Users\\pc\\Desktop\\DL\\Project\\Indoor\\test\\images\\0171_jpg.rf.ed6c00aa52c82ccb0336623f0c83a595.jpg: 640x640 1 fire, 6.2ms\n",
      "image 12/82 C:\\Users\\pc\\Desktop\\DL\\Project\\Indoor\\test\\images\\0185_jpg.rf.768f0b11c8d4be5f1207d9a0199d7e7b.jpg: 640x640 1 fire, 4.5ms\n",
      "image 13/82 C:\\Users\\pc\\Desktop\\DL\\Project\\Indoor\\test\\images\\100_jpg.rf.5e77f3336aee71ef34666435c8648790.jpg: 640x640 1 fire, 4.3ms\n",
      "image 14/82 C:\\Users\\pc\\Desktop\\DL\\Project\\Indoor\\test\\images\\114_png_jpg.rf.a406fe1ba7f0b872d44e9de80c9bdc72.jpg: 640x640 1 fire, 5.4ms\n",
      "image 15/82 C:\\Users\\pc\\Desktop\\DL\\Project\\Indoor\\test\\images\\1150_jpg.rf.58400e4827fb662907d96e3dbff9ced3.jpg: 640x640 2 fires, 6.9ms\n",
      "image 16/82 C:\\Users\\pc\\Desktop\\DL\\Project\\Indoor\\test\\images\\116_png_jpg.rf.71f3a6adf94b6ad331d02ca35c10e7a8.jpg: 640x640 1 fire, 4.1ms\n",
      "image 17/82 C:\\Users\\pc\\Desktop\\DL\\Project\\Indoor\\test\\images\\118_png_jpg.rf.6402cd7f0352ce273ca86d52c8a456f4.jpg: 640x640 1 fire, 4.0ms\n",
      "image 18/82 C:\\Users\\pc\\Desktop\\DL\\Project\\Indoor\\test\\images\\1196_jpg.rf.c4d749760480301f365770bb82407c50.jpg: 640x640 (no detections), 3.8ms\n",
      "image 19/82 C:\\Users\\pc\\Desktop\\DL\\Project\\Indoor\\test\\images\\119_png_jpg.rf.9c3d3dac04f7af26e1c219825d2231c9.jpg: 640x640 1 fire, 4.4ms\n",
      "image 20/82 C:\\Users\\pc\\Desktop\\DL\\Project\\Indoor\\test\\images\\132_png_jpg.rf.1c3ee43a4b6526d83bcff6470aac6020.jpg: 640x640 1 fire, 3.9ms\n",
      "image 21/82 C:\\Users\\pc\\Desktop\\DL\\Project\\Indoor\\test\\images\\135_png_jpg.rf.82cb9f7726bc3c3683efce7b213398a3.jpg: 640x640 1 fire, 5.5ms\n",
      "image 22/82 C:\\Users\\pc\\Desktop\\DL\\Project\\Indoor\\test\\images\\1404_jpg.rf.aa6a8b7bedbcaa5e282eec1a6177552d.jpg: 640x640 6 fires, 6.5ms\n",
      "image 23/82 C:\\Users\\pc\\Desktop\\DL\\Project\\Indoor\\test\\images\\144_jpg.rf.70cfadae1e668d2aa2487afcf21acfe8.jpg: 640x640 4 fires, 6.2ms\n",
      "image 24/82 C:\\Users\\pc\\Desktop\\DL\\Project\\Indoor\\test\\images\\151_png_jpg.rf.f531e479ddb8fd1b755d4ac9bf1d04e9.jpg: 640x640 1 fire, 5.0ms\n",
      "image 25/82 C:\\Users\\pc\\Desktop\\DL\\Project\\Indoor\\test\\images\\155_png_jpg.rf.14e9a66ab1e13934ad29428674d0e460.jpg: 640x640 1 fire, 4.5ms\n",
      "image 26/82 C:\\Users\\pc\\Desktop\\DL\\Project\\Indoor\\test\\images\\208_png_jpg.rf.79a957c818d06d70bfc055e0ef3c5a8f.jpg: 640x640 1 fire, 5.0ms\n",
      "image 27/82 C:\\Users\\pc\\Desktop\\DL\\Project\\Indoor\\test\\images\\20_png_jpg.rf.2def25f9dda55383bdf656971f73c3ee.jpg: 640x640 1 fire, 5.0ms\n",
      "image 28/82 C:\\Users\\pc\\Desktop\\DL\\Project\\Indoor\\test\\images\\215_png_jpg.rf.ebfe664d772084887859c837645f679f.jpg: 640x640 1 fire, 3.9ms\n",
      "image 29/82 C:\\Users\\pc\\Desktop\\DL\\Project\\Indoor\\test\\images\\241_jpg.rf.a968a148d26407e0c9aded03e2bb99ec.jpg: 640x640 2 fires, 7.2ms\n",
      "image 30/82 C:\\Users\\pc\\Desktop\\DL\\Project\\Indoor\\test\\images\\254_png_jpg.rf.426a0573efea782664513abc740cfd52.jpg: 640x640 3 fires, 4.3ms\n",
      "image 31/82 C:\\Users\\pc\\Desktop\\DL\\Project\\Indoor\\test\\images\\256_png_jpg.rf.2f0a49511c7c1eefbbfa1f00b9689f09.jpg: 640x640 2 fires, 4.5ms\n",
      "image 32/82 C:\\Users\\pc\\Desktop\\DL\\Project\\Indoor\\test\\images\\257_png_jpg.rf.0f8c51ed84a2b4b94e0823313832694a.jpg: 640x640 1 fire, 4.5ms\n",
      "image 33/82 C:\\Users\\pc\\Desktop\\DL\\Project\\Indoor\\test\\images\\261_png_jpg.rf.5bd85691387892a65851c65f402d900f.jpg: 640x640 2 fires, 4.2ms\n",
      "image 34/82 C:\\Users\\pc\\Desktop\\DL\\Project\\Indoor\\test\\images\\298_png_jpg.rf.05cb53aba06e7c268d7c866842112fd6.jpg: 640x640 2 fires, 7.5ms\n",
      "image 35/82 C:\\Users\\pc\\Desktop\\DL\\Project\\Indoor\\test\\images\\301_png_jpg.rf.023eb492941d912f45ec4cd0ce1abcd4.jpg: 640x640 1 fire, 5.0ms\n",
      "image 36/82 C:\\Users\\pc\\Desktop\\DL\\Project\\Indoor\\test\\images\\318_png_jpg.rf.bafb73281dc1f01b4550986e02404a26.jpg: 640x640 1 fire, 4.2ms\n",
      "image 37/82 C:\\Users\\pc\\Desktop\\DL\\Project\\Indoor\\test\\images\\31_jpg.rf.de02704d56d011d7489a812534df0e72.jpg: 640x640 5 fires, 4.2ms\n",
      "image 38/82 C:\\Users\\pc\\Desktop\\DL\\Project\\Indoor\\test\\images\\340_png_jpg.rf.3bebc68733b7f89304071231779b35d6.jpg: 640x640 1 fire, 4.3ms\n",
      "image 39/82 C:\\Users\\pc\\Desktop\\DL\\Project\\Indoor\\test\\images\\347_png_jpg.rf.7240c0b47a6d6e755dc5f877579e670b.jpg: 640x640 1 fire, 4.0ms\n",
      "image 40/82 C:\\Users\\pc\\Desktop\\DL\\Project\\Indoor\\test\\images\\35_jpg.rf.dbaabacd187d21637e27194320c9454a.jpg: 640x640 2 fires, 4.0ms\n",
      "image 41/82 C:\\Users\\pc\\Desktop\\DL\\Project\\Indoor\\test\\images\\36_jpg.rf.c3fd5955a402a17c0fcd44868c49de7a.jpg: 640x640 4 fires, 4.2ms\n",
      "image 42/82 C:\\Users\\pc\\Desktop\\DL\\Project\\Indoor\\test\\images\\38_jpg.rf.374d0924746178c4c69a720636e77f19.jpg: 640x640 1 fire, 4.6ms\n",
      "image 43/82 C:\\Users\\pc\\Desktop\\DL\\Project\\Indoor\\test\\images\\39_jpg.rf.d02c6f5b185861f643ea3166d51673f7.jpg: 640x640 (no detections), 4.5ms\n",
      "image 44/82 C:\\Users\\pc\\Desktop\\DL\\Project\\Indoor\\test\\images\\51_jpg.rf.7a6f858e7ac692f1f7369c7c358a752e.jpg: 640x640 1 fire, 4.9ms\n",
      "image 45/82 C:\\Users\\pc\\Desktop\\DL\\Project\\Indoor\\test\\images\\52_png_jpg.rf.f2bf16757795e84d695f3146cab2dbcf.jpg: 640x640 1 fire, 4.5ms\n",
      "image 46/82 C:\\Users\\pc\\Desktop\\DL\\Project\\Indoor\\test\\images\\55_png_jpg.rf.b042991ca30d894b8eb8440002886c98.jpg: 640x640 1 fire, 5.0ms\n",
      "image 47/82 C:\\Users\\pc\\Desktop\\DL\\Project\\Indoor\\test\\images\\5_jpg.rf.3e426646d70caf632dd945e8a4ca1ee9.jpg: 640x640 (no detections), 5.0ms\n",
      "image 48/82 C:\\Users\\pc\\Desktop\\DL\\Project\\Indoor\\test\\images\\60_jpg.rf.3136d2df949630a941df832db87cae11.jpg: 640x640 4 fires, 5.1ms\n",
      "image 49/82 C:\\Users\\pc\\Desktop\\DL\\Project\\Indoor\\test\\images\\621_jpg.rf.edd596308240f9c3d0b2f58a60b7d8ef.jpg: 640x640 2 fires, 5.9ms\n",
      "image 50/82 C:\\Users\\pc\\Desktop\\DL\\Project\\Indoor\\test\\images\\64_png_jpg.rf.b1e76bbd1f303dd4f8291ff62b53a846.jpg: 640x640 1 fire, 4.9ms\n",
      "image 51/82 C:\\Users\\pc\\Desktop\\DL\\Project\\Indoor\\test\\images\\694_jpg.rf.9625b2bbfbe0f5ca79a2d371e2b15615.jpg: 640x640 5 fires, 4.4ms\n",
      "image 52/82 C:\\Users\\pc\\Desktop\\DL\\Project\\Indoor\\test\\images\\75_jpg.rf.49016d8c2dc63db998b9e11196dcba54.jpg: 640x640 1 fire, 4.6ms\n",
      "image 53/82 C:\\Users\\pc\\Desktop\\DL\\Project\\Indoor\\test\\images\\766_jpg.rf.da35916c1e98adc5f053f35da6c467f4.jpg: 640x640 2 fires, 4.1ms\n",
      "image 54/82 C:\\Users\\pc\\Desktop\\DL\\Project\\Indoor\\test\\images\\84_jpg.rf.b1d6df91b6f454c51630f235010f0605.jpg: 640x640 1 fire, 5.6ms\n",
      "image 55/82 C:\\Users\\pc\\Desktop\\DL\\Project\\Indoor\\test\\images\\88_jpg.rf.b743194b6f4f12a6cacd5f8c9544fc09.jpg: 640x640 3 fires, 5.8ms\n",
      "image 56/82 C:\\Users\\pc\\Desktop\\DL\\Project\\Indoor\\test\\images\\89_jpg.rf.3515b204cc87b71b8358419a681fa5d4.jpg: 640x640 (no detections), 4.7ms\n",
      "image 57/82 C:\\Users\\pc\\Desktop\\DL\\Project\\Indoor\\test\\images\\908_jpg.rf.0c1edace5b0995fd0755c24800d144b8.jpg: 640x640 1 fire, 4.3ms\n",
      "image 58/82 C:\\Users\\pc\\Desktop\\DL\\Project\\Indoor\\test\\images\\91_jpg.rf.5b33dde9e255c66bdc70d7b9e74a3252.jpg: 640x640 1 fire, 6.8ms\n",
      "image 59/82 C:\\Users\\pc\\Desktop\\DL\\Project\\Indoor\\test\\images\\963_jpg.rf.ec794cdfb9bdbd4228836bf02aad13d5.jpg: 640x640 5 fires, 4.0ms\n",
      "image 60/82 C:\\Users\\pc\\Desktop\\DL\\Project\\Indoor\\test\\images\\96_png_jpg.rf.c4216135fb858decf79d0ead6c96a5aa.jpg: 640x640 1 fire, 7.9ms\n",
      "image 61/82 C:\\Users\\pc\\Desktop\\DL\\Project\\Indoor\\test\\images\\BowFire_NoiseWEBSmoke2608_jpg.rf.5d3f9576f2a44f23d1263a51e8195fac.jpg: 640x640 1 fire, 5.7ms\n",
      "image 62/82 C:\\Users\\pc\\Desktop\\DL\\Project\\Indoor\\test\\images\\WhatsApp-Video-2024-01-12-at-18_01_30_mp4-11_jpg.rf.6536909c47f1e0bd11ac79612b6e7302.jpg: 640x640 1 fire, 5.5ms\n",
      "image 63/82 C:\\Users\\pc\\Desktop\\DL\\Project\\Indoor\\test\\images\\scene02173_png.rf.fb135e21acd4ca5855f17d881bd57a4b.jpg: 640x640 1 fire, 5.4ms\n",
      "image 64/82 C:\\Users\\pc\\Desktop\\DL\\Project\\Indoor\\test\\images\\scene02185_png.rf.bd3f3caae2a84f1c9d0ce0a96fdd33b0.jpg: 640x640 1 fire, 3.9ms\n",
      "image 65/82 C:\\Users\\pc\\Desktop\\DL\\Project\\Indoor\\test\\images\\scene02209_png.rf.4e4dfd815512432a74ff95399aff35b0.jpg: 640x640 1 fire, 3.9ms\n",
      "image 66/82 C:\\Users\\pc\\Desktop\\DL\\Project\\Indoor\\test\\images\\scene02501_png.rf.1d3201c9b7f34aa1291b8101e4cefa0b.jpg: 640x640 2 fires, 7.1ms\n",
      "image 67/82 C:\\Users\\pc\\Desktop\\DL\\Project\\Indoor\\test\\images\\scene02601_png.rf.13af5dba670485af51ecf3346a773047.jpg: 640x640 4 fires, 6.2ms\n",
      "image 68/82 C:\\Users\\pc\\Desktop\\DL\\Project\\Indoor\\test\\images\\scene02651_png.rf.7f3e3a978a73c175d06eac4af3e5e1d1.jpg: 640x640 4 fires, 4.2ms\n",
      "image 69/82 C:\\Users\\pc\\Desktop\\DL\\Project\\Indoor\\test\\images\\scene02701_png.rf.8d164f2c556cbc401a0e2f0b1ff4804a.jpg: 640x640 2 fires, 7.0ms\n",
      "image 70/82 C:\\Users\\pc\\Desktop\\DL\\Project\\Indoor\\test\\images\\scene03051_png.rf.a80a8b38a250b540ed58edf21012ab4d.jpg: 640x640 2 fires, 4.3ms\n",
      "image 71/82 C:\\Users\\pc\\Desktop\\DL\\Project\\Indoor\\test\\images\\scene03101_png.rf.6155e345a94f98408bfa99ff7ef4d522.jpg: 640x640 2 fires, 4.5ms\n",
      "image 72/82 C:\\Users\\pc\\Desktop\\DL\\Project\\Indoor\\test\\images\\scene03501_png.rf.68966248527b598c9c0c33b87280e58e.jpg: 640x640 2 fires, 4.5ms\n",
      "image 73/82 C:\\Users\\pc\\Desktop\\DL\\Project\\Indoor\\test\\images\\scene03801_png.rf.d91a4feb2abb624a68261ee238520b43.jpg: 640x640 2 fires, 4.9ms\n",
      "image 74/82 C:\\Users\\pc\\Desktop\\DL\\Project\\Indoor\\test\\images\\scene03901_png.rf.0f816e8f31849b84dad6db59453a7919.jpg: 640x640 2 fires, 7.0ms\n",
      "image 75/82 C:\\Users\\pc\\Desktop\\DL\\Project\\Indoor\\test\\images\\scene03951_png.rf.fe583852fbf3935b2565b103246063b7.jpg: 640x640 2 fires, 4.4ms\n",
      "image 76/82 C:\\Users\\pc\\Desktop\\DL\\Project\\Indoor\\test\\images\\scene04201_png.rf.0d68dd2c97a5442a2b79e5b9dce8840f.jpg: 640x640 2 fires, 4.4ms\n",
      "image 77/82 C:\\Users\\pc\\Desktop\\DL\\Project\\Indoor\\test\\images\\scene04601_png.rf.5a404bdab926dc1e6793236e9c22cc99.jpg: 640x640 2 fires, 4.1ms\n",
      "image 78/82 C:\\Users\\pc\\Desktop\\DL\\Project\\Indoor\\test\\images\\scene05551_png.rf.d56f3c3c6c4d5a55fe9d7038327fb843.jpg: 640x640 2 fires, 5.9ms\n",
      "image 79/82 C:\\Users\\pc\\Desktop\\DL\\Project\\Indoor\\test\\images\\scene05851_png.rf.c3c1a803c52574553b2af9c34b3fa8ea.jpg: 640x640 2 fires, 4.0ms\n",
      "image 80/82 C:\\Users\\pc\\Desktop\\DL\\Project\\Indoor\\test\\images\\scene06301_png.rf.ff3643d69897af14414e16a5da6bc247.jpg: 640x640 1 fire, 4.2ms\n",
      "image 81/82 C:\\Users\\pc\\Desktop\\DL\\Project\\Indoor\\test\\images\\scene06751_png.rf.270e85ba922598c23c36a98fc2d5221f.jpg: 640x640 3 fires, 4.7ms\n",
      "image 82/82 C:\\Users\\pc\\Desktop\\DL\\Project\\Indoor\\test\\images\\scene1008531_png.rf.ff359e93dd32e8f5437af25ca4e9fb20.jpg: 640x640 3 fires, 4.9ms\n",
      "Speed: 1.8ms preprocess, 5.0ms inference, 1.0ms postprocess per image at shape (1, 3, 640, 640)\n",
      "Results saved to \u001b[1mruns\\detect\\predict\u001b[0m\n"
     ]
    }
   ],
   "source": [
    "from ultralytics import YOLO\n",
    "\n",
    "# Load your trained weights\n",
    "model = YOLO(\"runs/detect/train/weights/best.pt\")\n",
    "results = model.predict(source=\"C:/Users/pc/Desktop/DL/Project/Indoor/test/images\", save=True)\n"
   ]
  }
 ],
 "metadata": {
  "kernelspec": {
   "display_name": "Python 3",
   "language": "python",
   "name": "python3"
  },
  "language_info": {
   "codemirror_mode": {
    "name": "ipython",
    "version": 3
   },
   "file_extension": ".py",
   "mimetype": "text/x-python",
   "name": "python",
   "nbconvert_exporter": "python",
   "pygments_lexer": "ipython3",
   "version": "3.11.6"
  }
 },
 "nbformat": 4,
 "nbformat_minor": 5
}
