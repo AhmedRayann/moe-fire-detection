{
 "cells": [
  {
   "cell_type": "markdown",
   "id": "920c41c3",
   "metadata": {},
   "source": [
    "# Training YOLO on Fire Detection for Far-Field Scenario\n",
    "\n",
    "## Overview\n",
    "In this notebook, we train a **YOLOv8** model on a custom dataset designed for detecting **fire scenarios** in **far-field images**. This dataset represents one of the specific scenarios for our **Mixture of Experts (MoE)** model, where each expert specializes in a different scenario (e.g., fire detection in outdoor, indoor, satellite, or far-field environments).\n",
    "\n",
    "### Key Steps:\n",
    "- **Dataset**: The model is trained using a **far-field fire detection dataset**, which consists of images with fire-related features captured in distant or large-scale scenarios.\n",
    "- **YOLOv8 Training**: The YOLOv8 model is fine-tuned on this dataset, learning to identify fire-related objects.\n",
    "- **Scenario Expert**: This trained model acts as an expert specifically for detecting fire in far-field images and is part of a broader MoE-based approach for multi-scenario detection.\n",
    "\n"
   ]
  },
  {
   "cell_type": "markdown",
   "id": "69fc1ba9",
   "metadata": {},
   "source": [
    "##  Data Loading & Preprocessing\n"
   ]
  },
  {
   "cell_type": "code",
   "execution_count": 1,
   "id": "4eca1abb",
   "metadata": {},
   "outputs": [
    {
     "name": "stderr",
     "output_type": "stream",
     "text": [
      "C:\\Users\\pc\\AppData\\Roaming\\Python\\Python311\\site-packages\\tqdm\\auto.py:21: TqdmWarning: IProgress not found. Please update jupyter and ipywidgets. See https://ipywidgets.readthedocs.io/en/stable/user_install.html\n",
      "  from .autonotebook import tqdm as notebook_tqdm\n"
     ]
    }
   ],
   "source": [
    "from datasets import load_dataset\n",
    "\n",
    "# Load the Pyro-SDIS dataset from Hugging Face\n",
    "ds = load_dataset(\"pyronear/pyro-sdis\")\n"
   ]
  },
  {
   "cell_type": "code",
   "execution_count": 3,
   "id": "cf055c84",
   "metadata": {},
   "outputs": [],
   "source": [
    "import random\n",
    "\n",
    "# Set a seed for reproducibility\n",
    "random.seed(42)\n",
    "\n",
    "# Select 1000 random samples from train\n",
    "train_subset = ds['train'].shuffle(seed=42).select(range(1000))\n",
    "\n",
    "# Select 100 random samples from validation\n",
    "val_subset = ds['val'].shuffle(seed=42).select(range(100))\n"
   ]
  },
  {
   "cell_type": "code",
   "execution_count": 4,
   "id": "cbd55364",
   "metadata": {},
   "outputs": [
    {
     "name": "stdout",
     "output_type": "stream",
     "text": [
      "Saved train set to pyro_subset_yolo\\images\\train and pyro_subset_yolo\\labels\\train\n",
      "Saved val set to pyro_subset_yolo\\images\\val and pyro_subset_yolo\\labels\\val\n"
     ]
    }
   ],
   "source": [
    "import os\n",
    "from PIL import Image\n",
    "\n",
    "# Base directory\n",
    "base_dir = \"pyro_subset_yolo\"\n",
    "os.makedirs(base_dir, exist_ok=True)\n",
    "\n",
    "# Helper function to save images and labels\n",
    "def save_subset_to_yolo_format(subset, split):\n",
    "    img_dir = os.path.join(base_dir, \"images\", split)\n",
    "    label_dir = os.path.join(base_dir, \"labels\", split)\n",
    "    os.makedirs(img_dir, exist_ok=True)\n",
    "    os.makedirs(label_dir, exist_ok=True)\n",
    "\n",
    "    for item in subset:\n",
    "        # Save image\n",
    "        image = item[\"image\"]\n",
    "        img_path = os.path.join(img_dir, item[\"image_name\"])\n",
    "        image.save(img_path)\n",
    "\n",
    "        # Save annotation (single line YOLO format)\n",
    "        label_path = os.path.join(label_dir, item[\"image_name\"].replace(\".jpg\", \".txt\"))\n",
    "        with open(label_path, \"w\") as f:\n",
    "            f.write(item[\"annotations\"])\n",
    "\n",
    "    print(f\"Saved {split} set to {img_dir} and {label_dir}\")\n",
    "\n",
    "# Save both subsets\n",
    "save_subset_to_yolo_format(train_subset, \"train\")\n",
    "save_subset_to_yolo_format(val_subset, \"val\")\n"
   ]
  },
  {
   "cell_type": "code",
   "execution_count": 6,
   "id": "c507a2d4",
   "metadata": {},
   "outputs": [
    {
     "name": "stdout",
     "output_type": "stream",
     "text": [
      "Updated force-06_cabanelle-125_2024-01-04T08-34-18.txt to class 0\n",
      "Updated force-06_cabanelle-125_2024-01-08T13-12-25.txt to class 0\n",
      "Updated force-06_cabanelle-125_2024-02-21T07-53-21.txt to class 0\n",
      "Updated force-06_cabanelle-125_2024-02-21T07-54-51.txt to class 0\n",
      "Updated force-06_cabanelle-125_2024-02-21T08-29-22.txt to class 0\n",
      "Updated force-06_cabanelle-125_2024-02-21T08-30-23.txt to class 0\n",
      "Updated force-06_cabanelle-125_2024-02-21T08-36-53.txt to class 0\n",
      "Updated force-06_cabanelle-125_2024-02-27T13-31-25.txt to class 0\n",
      "Updated force-06_cabanelle-125_2024-02-27T13-48-25.txt to class 0\n",
      "Updated force-06_cabanelle-125_2024-02-27T14-11-26.txt to class 0\n",
      "Updated force-06_cabanelle-125_2024-02-27T14-18-56.txt to class 0\n",
      "Updated force-06_cabanelle-125_2024-02-27T14-45-58.txt to class 0\n",
      "Updated force-06_cabanelle-125_2024-02-27T14-46-27.txt to class 0\n",
      "Updated force-06_cabanelle-125_2024-02-27T14-48-57.txt to class 0\n",
      "Updated force-06_cabanelle-125_2024-02-28T10-35-52.txt to class 0\n",
      "Updated force-06_cabanelle-125_2024-02-28T10-44-53.txt to class 0\n",
      "Updated force-06_cabanelle-125_2024-04-03T09-41-41.txt to class 0\n",
      "Updated force-06_cabanelle-125_2024-04-03T10-23-36.txt to class 0\n",
      "Updated force-06_cabanelle-125_2024-04-07T10-06-16.txt to class 0\n",
      "Updated force-06_cabanelle-125_2024-04-07T10-10-16.txt to class 0\n",
      "Updated force-06_cabanelle-125_2024-04-10T08-43-08.txt to class 0\n",
      "Updated force-06_cabanelle-244_2024-01-01T11-12-55.txt to class 0\n",
      "Updated force-06_cabanelle-244_2024-01-01T11-25-56.txt to class 0\n",
      "Updated force-06_cabanelle-244_2024-01-01T11-45-56.txt to class 0\n",
      "Updated force-06_cabanelle-244_2024-01-02T10-51-40.txt to class 0\n",
      "Updated force-06_cabanelle-244_2024-01-02T10-52-10.txt to class 0\n",
      "Updated force-06_cabanelle-244_2024-01-02T11-13-10.txt to class 0\n",
      "Updated force-06_cabanelle-244_2024-01-02T11-13-41.txt to class 0\n",
      "Updated force-06_cabanelle-244_2024-01-08T12-38-14.txt to class 0\n",
      "Updated force-06_cabanelle-244_2024-01-08T12-39-31.txt to class 0\n",
      "Updated force-06_cabanelle-244_2024-01-08T12-45-19.txt to class 0\n",
      "Updated force-06_cabanelle-244_2024-01-08T15-17-35.txt to class 0\n",
      "Updated force-06_cabanelle-244_2024-02-16T10-44-36.txt to class 0\n",
      "Updated force-06_cabanelle-244_2024-02-16T10-45-03.txt to class 0\n",
      "Updated force-06_cabanelle-244_2024-02-23T14-50-59.txt to class 0\n",
      "Updated force-06_cabanelle-244_2024-02-27T13-09-57.txt to class 0\n",
      "Updated force-06_cabanelle-244_2024-02-28T10-52-26.txt to class 0\n",
      "Updated force-06_cabanelle-244_2024-02-28T11-10-34.txt to class 0\n",
      "Updated force-06_cabanelle-244_2024-02-28T11-17-58.txt to class 0\n",
      "Updated force-06_cabanelle-244_2024-04-07T09-32-50.txt to class 0\n",
      "Updated force-06_cabanelle-244_2024-04-07T09-33-14.txt to class 0\n",
      "Updated force-06_cabanelle-244_2024-04-10T10-57-24.txt to class 0\n",
      "Updated force-06_cabanelle-244_2024-09-12T14-00-30.txt to class 0\n",
      "Updated force-06_cabanelle-244_2024-09-12T14-07-22.txt to class 0\n",
      "Updated force-06_cabanelle-244_2024-09-12T14-32-19.txt to class 0\n",
      "Updated force-06_cabanelle-244_2024-09-14T15-41-28.txt to class 0\n",
      "Updated force-06_cabanelle-327_2024-01-01T15-43-38.txt to class 0\n",
      "Updated force-06_cabanelle-327_2024-01-01T15-53-37.txt to class 0\n",
      "Updated force-06_cabanelle-327_2024-01-08T07-43-38.txt to class 0\n",
      "Updated force-06_cabanelle-327_2024-01-08T07-57-17.txt to class 0\n",
      "Updated force-06_cabanelle-327_2024-01-08T08-02-18.txt to class 0\n",
      "Updated force-06_cabanelle-327_2024-01-08T08-31-54.txt to class 0\n",
      "Updated force-06_cabanelle-327_2024-01-08T08-42-21.txt to class 0\n",
      "Updated force-06_cabanelle-327_2024-01-08T08-55-21.txt to class 0\n",
      "Updated force-06_cabanelle-327_2024-01-08T09-12-20.txt to class 0\n",
      "Updated force-06_cabanelle-327_2024-01-08T10-50-32.txt to class 0\n",
      "Updated force-06_cabanelle-327_2024-01-08T10-56-32.txt to class 0\n",
      "Updated force-06_cabanelle-327_2024-01-08T10-59-50.txt to class 0\n",
      "Updated force-06_cabanelle-327_2024-01-08T11-01-59.txt to class 0\n",
      "Updated force-06_cabanelle-327_2024-01-08T11-28-30.txt to class 0\n",
      "Updated force-06_cabanelle-327_2024-01-08T11-50-23.txt to class 0\n",
      "Updated force-06_cabanelle-327_2024-01-08T12-09-31.txt to class 0\n",
      "Updated force-06_cabanelle-327_2024-01-08T12-10-15.txt to class 0\n",
      "Updated force-06_cabanelle-327_2024-01-08T12-11-07.txt to class 0\n",
      "Updated force-06_cabanelle-327_2024-02-26T14-48-31.txt to class 0\n",
      "Updated force-06_cabanelle-327_2024-02-27T08-24-51.txt to class 0\n",
      "Updated force-06_cabanelle-327_2024-02-27T09-44-24.txt to class 0\n",
      "Updated force-06_cabanelle-327_2024-02-27T10-40-57.txt to class 0\n",
      "Updated force-06_cabanelle-327_2024-02-27T11-10-28.txt to class 0\n",
      "Updated force-06_cabanelle-327_2024-02-27T11-27-28.txt to class 0\n",
      "Updated force-06_cabanelle-327_2024-02-27T11-36-57.txt to class 0\n",
      "Updated force-06_cabanelle-327_2024-02-27T11-43-58.txt to class 0\n",
      "Updated force-06_cabanelle-327_2024-02-29T16-15-40.txt to class 0\n",
      "Updated force-06_cabanelle-327_2024-04-03T08-19-00.txt to class 0\n",
      "Updated force-06_cabanelle-327_2024-04-03T08-25-51.txt to class 0\n",
      "Updated force-06_cabanelle-327_2024-04-03T08-28-30.txt to class 0\n",
      "Updated force-06_cabanelle-327_2024-06-02T17-24-28.txt to class 0\n",
      "Updated force-06_cabanelle-327_2024-06-17T18-08-25.txt to class 0\n",
      "Updated force-06_cabanelle-327_2024-07-22T20-18-11.txt to class 0\n",
      "Updated force-06_cabanelle-327_2024-07-22T20-18-42.txt to class 0\n",
      "Updated force-06_cabanelle-327_2024-07-22T20-19-41.txt to class 0\n",
      "Updated force-06_cabanelle-327_2024-08-20T19-03-45.txt to class 0\n",
      "Updated force-06_cabanelle-327_2024-08-20T20-50-50.txt to class 0\n",
      "Updated force-06_cabanelle-327_2024-08-23T20-38-40.txt to class 0\n",
      "Updated force-06_cabanelle-327_2024-08-23T20-39-11.txt to class 0\n",
      "Updated force-06_courmettes-160_2024-01-09T09-34-13.txt to class 0\n",
      "Updated force-06_courmettes-160_2024-01-09T10-15-21.txt to class 0\n",
      "Updated force-06_courmettes-160_2024-01-09T10-16-44.txt to class 0\n",
      "Updated force-06_courmettes-160_2024-01-09T10-49-15.txt to class 0\n",
      "Updated force-06_courmettes-160_2024-01-09T10-54-46.txt to class 0\n",
      "Updated force-06_courmettes-160_2024-01-09T11-07-16.txt to class 0\n",
      "Updated force-06_courmettes-160_2024-01-11T11-05-44.txt to class 0\n",
      "Updated force-06_courmettes-160_2024-01-15T11-14-45.txt to class 0\n",
      "Updated force-06_courmettes-160_2024-01-16T09-26-06.txt to class 0\n",
      "Updated force-06_courmettes-160_2024-01-16T09-26-36.txt to class 0\n",
      "Updated force-06_courmettes-160_2024-01-16T09-28-06.txt to class 0\n",
      "Updated force-06_courmettes-160_2024-01-16T09-32-06.txt to class 0\n",
      "Updated force-06_courmettes-160_2024-01-16T09-56-37.txt to class 0\n",
      "Updated force-06_courmettes-160_2024-01-16T10-04-07.txt to class 0\n",
      "Updated force-06_courmettes-160_2024-01-16T10-39-08.txt to class 0\n",
      "Updated force-06_courmettes-160_2024-01-16T11-16-39.txt to class 0\n",
      "Updated force-06_courmettes-160_2024-01-16T11-35-40.txt to class 0\n",
      "Updated force-06_courmettes-160_2024-01-20T09-31-20.txt to class 0\n",
      "Updated force-06_courmettes-160_2024-01-20T10-03-51.txt to class 0\n",
      "Updated force-06_courmettes-160_2024-01-20T10-28-22.txt to class 0\n",
      "Updated force-06_courmettes-160_2024-01-23T10-38-38.txt to class 0\n",
      "Updated force-06_courmettes-160_2024-01-23T10-57-12.txt to class 0\n",
      "Updated force-06_courmettes-160_2024-01-26T14-12-35.txt to class 0\n",
      "Updated force-06_courmettes-160_2024-01-26T14-22-05.txt to class 0\n",
      "Updated force-06_courmettes-160_2024-01-27T10-58-27.txt to class 0\n",
      "Updated force-06_courmettes-160_2024-01-28T10-22-53.txt to class 0\n",
      "Updated force-06_courmettes-160_2024-01-29T12-07-32.txt to class 0\n",
      "Updated force-06_courmettes-160_2024-01-29T14-34-10.txt to class 0\n",
      "Updated force-06_courmettes-160_2024-02-01T13-55-21.txt to class 0\n",
      "Updated force-06_courmettes-160_2024-02-02T11-33-44.txt to class 0\n",
      "Updated force-06_courmettes-160_2024-02-02T12-15-15.txt to class 0\n",
      "Updated force-06_courmettes-160_2024-02-12T09-55-43.txt to class 0\n",
      "Updated force-06_courmettes-160_2024-02-12T10-40-13.txt to class 0\n",
      "Updated force-06_courmettes-160_2024-02-17T10-29-36.txt to class 0\n",
      "Updated force-06_courmettes-160_2024-02-18T17-44-14.txt to class 0\n",
      "Updated force-06_courmettes-160_2024-02-18T17-44-44.txt to class 0\n",
      "Updated force-06_courmettes-160_2024-02-19T10-32-06.txt to class 0\n",
      "Updated force-06_courmettes-160_2024-02-19T12-05-01.txt to class 0\n",
      "Updated force-06_courmettes-160_2024-02-21T10-16-04.txt to class 0\n",
      "Updated force-06_courmettes-160_2024-02-21T10-29-50.txt to class 0\n",
      "Updated force-06_courmettes-160_2024-02-21T10-38-45.txt to class 0\n",
      "Updated force-06_courmettes-160_2024-02-27T16-14-04.txt to class 0\n",
      "Updated force-06_courmettes-160_2024-02-27T16-15-34.txt to class 0\n",
      "Updated force-06_courmettes-160_2024-02-27T16-42-05.txt to class 0\n",
      "Updated force-06_courmettes-160_2024-02-27T16-54-35.txt to class 0\n",
      "Updated force-06_courmettes-160_2024-02-27T17-43-45.txt to class 0\n",
      "Updated force-06_courmettes-160_2024-02-27T17-44-37.txt to class 0\n",
      "Updated force-06_courmettes-160_2024-02-27T18-05-07.txt to class 0\n",
      "Updated force-06_courmettes-160_2024-02-28T11-21-50.txt to class 0\n",
      "Updated force-06_courmettes-160_2024-02-28T11-59-21.txt to class 0\n",
      "Updated force-06_courmettes-160_2024-04-08T09-20-18.txt to class 0\n",
      "Updated force-06_courmettes-160_2024-04-08T09-43-33.txt to class 0\n",
      "Updated force-06_courmettes-160_2024-04-20T18-38-42.txt to class 0\n",
      "Updated force-06_courmettes-160_2024-04-22T14-38-54.txt to class 0\n",
      "Updated force-06_courmettes-160_2024-04-22T14-40-51.txt to class 0\n",
      "Updated force-06_courmettes-160_2024-04-22T14-42-51.txt to class 0\n",
      "Updated force-06_courmettes-160_2024-04-22T14-43-52.txt to class 0\n",
      "Updated force-06_courmettes-160_2024-04-23T09-39-31.txt to class 0\n",
      "Updated force-06_courmettes-160_2024-04-23T09-41-01.txt to class 0\n",
      "Updated force-06_courmettes-160_2024-04-23T09-50-08.txt to class 0\n",
      "Updated force-06_courmettes-160_2024-04-23T10-06-32.txt to class 0\n",
      "Updated force-06_courmettes-160_2024-04-26T09-12-42.txt to class 0\n",
      "Updated force-06_courmettes-160_2024-06-03T21-18-04.txt to class 0\n",
      "Updated force-06_courmettes-160_2024-06-21T08-47-44.txt to class 0\n",
      "Updated force-06_courmettes-160_2024-06-21T09-12-45.txt to class 0\n",
      "Updated force-06_courmettes-160_2024-06-25T17-16-40.txt to class 0\n",
      "Updated force-06_courmettes-212_2024-01-03T13-43-24.txt to class 0\n",
      "Updated force-06_courmettes-212_2024-01-04T11-51-36.txt to class 0\n",
      "Updated force-06_courmettes-212_2024-01-04T11-52-09.txt to class 0\n",
      "Updated force-06_courmettes-212_2024-01-04T11-53-37.txt to class 0\n",
      "Updated force-06_courmettes-212_2024-01-08T13-00-20.txt to class 0\n",
      "Updated force-06_courmettes-212_2024-01-08T15-24-30.txt to class 0\n",
      "Updated force-06_courmettes-212_2024-01-08T15-40-00.txt to class 0\n",
      "Updated force-06_courmettes-212_2024-01-09T09-34-47.txt to class 0\n",
      "Updated force-06_courmettes-212_2024-01-09T11-11-20.txt to class 0\n",
      "Updated force-06_courmettes-212_2024-01-09T11-20-21.txt to class 0\n",
      "Updated force-06_courmettes-212_2024-01-09T11-21-49.txt to class 0\n",
      "Updated force-06_courmettes-212_2024-01-09T11-44-28.txt to class 0\n",
      "Updated force-06_courmettes-212_2024-01-09T11-49-50.txt to class 0\n",
      "Updated force-06_courmettes-212_2024-01-09T12-20-21.txt to class 0\n",
      "Updated force-06_courmettes-212_2024-01-09T15-01-27.txt to class 0\n",
      "Updated force-06_courmettes-212_2024-01-09T15-26-04.txt to class 0\n",
      "Updated force-06_courmettes-212_2024-01-09T15-27-27.txt to class 0\n",
      "Updated force-06_courmettes-212_2024-01-10T09-42-13.txt to class 0\n",
      "Updated force-06_courmettes-212_2024-01-10T09-53-22.txt to class 0\n",
      "Updated force-06_courmettes-212_2024-01-10T10-06-45.txt to class 0\n",
      "Updated force-06_courmettes-212_2024-01-10T10-14-44.txt to class 0\n",
      "Updated force-06_courmettes-212_2024-01-11T16-31-45.txt to class 0\n",
      "Updated force-06_courmettes-212_2024-01-12T11-51-02.txt to class 0\n",
      "Updated force-06_courmettes-212_2024-01-12T12-39-33.txt to class 0\n",
      "Updated force-06_courmettes-212_2024-01-12T12-46-33.txt to class 0\n",
      "Updated force-06_courmettes-212_2024-01-12T12-52-07.txt to class 0\n",
      "Updated force-06_courmettes-212_2024-01-12T12-53-11.txt to class 0\n",
      "Updated force-06_courmettes-212_2024-01-12T13-26-00.txt to class 0\n",
      "Updated force-06_courmettes-212_2024-01-14T14-09-24.txt to class 0\n",
      "Updated force-06_courmettes-212_2024-01-14T14-10-25.txt to class 0\n",
      "Updated force-06_courmettes-212_2024-01-14T15-59-39.txt to class 0\n",
      "Updated force-06_courmettes-212_2024-01-14T16-14-29.txt to class 0\n",
      "Updated force-06_courmettes-212_2024-01-14T16-17-30.txt to class 0\n",
      "Updated force-06_courmettes-212_2024-01-15T11-24-56.txt to class 0\n",
      "Updated force-06_courmettes-212_2024-01-15T11-59-47.txt to class 0\n",
      "Updated force-06_courmettes-212_2024-01-15T12-00-47.txt to class 0\n",
      "Updated force-06_courmettes-212_2024-01-15T12-31-49.txt to class 0\n",
      "Updated force-06_courmettes-212_2024-01-15T12-44-18.txt to class 0\n",
      "Updated force-06_courmettes-212_2024-01-15T12-51-57.txt to class 0\n",
      "Updated force-06_courmettes-212_2024-01-15T13-27-49.txt to class 0\n",
      "Updated force-06_courmettes-212_2024-01-15T13-32-26.txt to class 0\n",
      "Updated force-06_courmettes-212_2024-01-16T08-05-08.txt to class 0\n",
      "Updated force-06_courmettes-212_2024-01-16T13-33-48.txt to class 0\n",
      "Updated force-06_courmettes-212_2024-01-16T13-48-48.txt to class 0\n",
      "Updated force-06_courmettes-212_2024-01-21T14-39-59.txt to class 0\n",
      "Updated force-06_courmettes-212_2024-01-22T15-01-48.txt to class 0\n",
      "Updated force-06_courmettes-212_2024-01-22T15-21-27.txt to class 0\n",
      "Updated force-06_courmettes-212_2024-01-23T16-50-53.txt to class 0\n",
      "Updated force-06_courmettes-212_2024-01-25T13-55-11.txt to class 0\n",
      "Updated force-06_courmettes-212_2024-01-25T14-02-13.txt to class 0\n",
      "Updated force-06_courmettes-212_2024-01-25T14-28-51.txt to class 0\n",
      "Updated force-06_courmettes-212_2024-01-26T10-57-31.txt to class 0\n",
      "Updated force-06_courmettes-212_2024-01-27T12-45-33.txt to class 0\n",
      "Updated force-06_courmettes-212_2024-01-28T13-59-34.txt to class 0\n",
      "Updated force-06_courmettes-212_2024-01-28T14-00-34.txt to class 0\n",
      "Updated force-06_courmettes-212_2024-01-29T10-11-54.txt to class 0\n",
      "Updated force-06_courmettes-212_2024-01-29T10-28-54.txt to class 0\n",
      "Updated force-06_courmettes-212_2024-01-29T16-15-07.txt to class 0\n",
      "Updated force-06_courmettes-212_2024-01-29T16-15-15.txt to class 0\n",
      "Updated force-06_courmettes-212_2024-01-29T16-21-06.txt to class 0\n",
      "Updated force-06_courmettes-212_2024-01-31T12-45-24.txt to class 0\n",
      "Updated force-06_courmettes-212_2024-01-31T12-45-54.txt to class 0\n",
      "Updated force-06_courmettes-212_2024-02-01T15-34-57.txt to class 0\n",
      "Updated force-06_courmettes-212_2024-02-01T15-35-57.txt to class 0\n",
      "Updated force-06_courmettes-212_2024-02-01T15-36-28.txt to class 0\n",
      "Updated force-06_courmettes-212_2024-02-05T09-43-59.txt to class 0\n",
      "Updated force-06_courmettes-212_2024-02-05T10-07-37.txt to class 0\n",
      "Updated force-06_courmettes-212_2024-02-05T10-16-06.txt to class 0\n",
      "Updated force-06_courmettes-212_2024-02-05T10-21-35.txt to class 0\n",
      "Updated force-06_courmettes-212_2024-02-05T10-37-37.txt to class 0\n",
      "Updated force-06_courmettes-212_2024-02-05T10-39-37.txt to class 0\n",
      "Updated force-06_courmettes-212_2024-02-06T11-19-06.txt to class 0\n",
      "Updated force-06_courmettes-212_2024-02-07T08-43-57.txt to class 0\n",
      "Updated force-06_courmettes-212_2024-02-07T10-23-35.txt to class 0\n",
      "Updated force-06_courmettes-212_2024-02-07T10-24-10.txt to class 0\n",
      "Updated force-06_courmettes-212_2024-02-08T16-59-14.txt to class 0\n",
      "Updated force-06_courmettes-212_2024-02-17T17-36-21.txt to class 0\n",
      "Updated force-06_courmettes-212_2024-02-17T17-37-52.txt to class 0\n",
      "Updated force-06_courmettes-212_2024-02-17T17-44-51.txt to class 0\n",
      "Updated force-06_courmettes-212_2024-02-18T13-10-08.txt to class 0\n",
      "Updated force-06_courmettes-212_2024-02-19T17-02-48.txt to class 0\n",
      "Updated force-06_courmettes-212_2024-02-19T17-05-42.txt to class 0\n",
      "Updated force-06_courmettes-212_2024-02-23T12-08-17.txt to class 0\n",
      "Updated force-06_courmettes-212_2024-02-23T12-08-41.txt to class 0\n",
      "Updated force-06_courmettes-212_2024-04-03T10-06-50.txt to class 0\n",
      "Updated force-06_courmettes-212_2024-04-03T11-07-23.txt to class 0\n",
      "Updated force-06_courmettes-212_2024-04-03T11-07-55.txt to class 0\n",
      "Updated force-06_courmettes-212_2024-04-09T14-30-49.txt to class 0\n",
      "Updated force-06_courmettes-212_2024-04-09T14-32-19.txt to class 0\n",
      "Updated force-06_courmettes-212_2024-04-20T09-06-31.txt to class 0\n",
      "Updated force-06_courmettes-212_2024-04-20T19-48-48.txt to class 0\n",
      "Updated force-06_courmettes-212_2024-06-21T06-19-17.txt to class 0\n",
      "Updated force-06_courmettes-212_2024-06-23T19-27-23.txt to class 0\n",
      "Updated force-06_courmettes-212_2024-06-24T15-11-14.txt to class 0\n",
      "Updated force-06_courmettes-212_2024-08-15T07-15-25.txt to class 0\n",
      "Updated force-06_courmettes-212_2024-09-17T16-37-33.txt to class 0\n",
      "Updated force-06_courmettes-275_2024-01-10T09-36-16.txt to class 0\n",
      "Updated force-06_courmettes-275_2024-01-10T09-51-38.txt to class 0\n",
      "Updated force-06_courmettes-275_2024-01-10T10-06-18.txt to class 0\n",
      "Updated force-06_courmettes-275_2024-01-10T10-13-49.txt to class 0\n",
      "Updated force-06_courmettes-275_2024-01-10T11-09-21.txt to class 0\n",
      "Updated force-06_courmettes-275_2024-01-10T11-10-21.txt to class 0\n",
      "Updated force-06_courmettes-275_2024-01-22T15-00-32.txt to class 0\n",
      "Updated force-06_courmettes-275_2024-01-22T15-04-30.txt to class 0\n",
      "Updated force-06_courmettes-275_2024-01-22T15-11-32.txt to class 0\n",
      "Updated force-06_courmettes-275_2024-01-22T15-14-32.txt to class 0\n",
      "Updated force-06_courmettes-275_2024-01-22T15-22-34.txt to class 0\n",
      "Updated force-06_courmettes-275_2024-01-22T15-31-02.txt to class 0\n",
      "Updated force-06_courmettes-275_2024-01-22T15-35-30.txt to class 0\n",
      "Updated force-06_courmettes-275_2024-01-22T15-51-31.txt to class 0\n",
      "Updated force-06_courmettes-275_2024-01-26T15-09-16.txt to class 0\n",
      "Updated force-06_courmettes-275_2024-01-28T17-49-47.txt to class 0\n",
      "Updated force-06_courmettes-275_2024-01-29T16-24-09.txt to class 0\n",
      "Updated force-06_courmettes-275_2024-01-29T17-37-45.txt to class 0\n",
      "Updated force-06_courmettes-275_2024-02-02T15-34-28.txt to class 0\n",
      "Updated force-06_courmettes-275_2024-02-04T10-04-42.txt to class 0\n",
      "Updated force-06_courmettes-275_2024-02-04T10-18-11.txt to class 0\n",
      "Updated force-06_courmettes-275_2024-02-04T10-20-11.txt to class 0\n",
      "Updated force-06_courmettes-275_2024-02-04T10-21-41.txt to class 0\n",
      "Updated force-06_courmettes-275_2024-02-08T16-59-05.txt to class 0\n",
      "Updated force-06_courmettes-275_2024-02-08T16-59-51.txt to class 0\n",
      "Updated force-06_courmettes-275_2024-02-08T17-03-46.txt to class 0\n",
      "Updated force-06_courmettes-275_2024-02-09T16-17-43.txt to class 0\n",
      "Updated force-06_courmettes-275_2024-02-09T16-18-41.txt to class 0\n",
      "Updated force-06_courmettes-275_2024-02-09T16-27-41.txt to class 0\n",
      "Updated force-06_courmettes-275_2024-02-09T16-34-42.txt to class 0\n",
      "Updated force-06_courmettes-275_2024-02-09T16-45-43.txt to class 0\n",
      "Updated force-06_courmettes-275_2024-02-09T16-49-19.txt to class 0\n",
      "Updated force-06_courmettes-275_2024-02-09T17-02-02.txt to class 0\n",
      "Updated force-06_courmettes-275_2024-02-09T17-16-13.txt to class 0\n",
      "Updated force-06_courmettes-275_2024-02-09T17-39-44.txt to class 0\n",
      "Updated force-06_courmettes-275_2024-02-09T17-43-42.txt to class 0\n",
      "Updated force-06_courmettes-275_2024-02-12T14-18-28.txt to class 0\n",
      "Updated force-06_courmettes-275_2024-02-17T10-58-13.txt to class 0\n",
      "Updated force-06_courmettes-275_2024-02-17T11-04-14.txt to class 0\n",
      "Updated force-06_courmettes-275_2024-02-17T17-39-56.txt to class 0\n",
      "Updated force-06_courmettes-275_2024-02-23T10-39-44.txt to class 0\n",
      "Updated force-06_courmettes-275_2024-02-24T16-32-54.txt to class 0\n",
      "Updated force-06_courmettes-275_2024-02-24T16-58-15.txt to class 0\n",
      "Updated force-06_courmettes-275_2024-02-28T10-29-28.txt to class 0\n",
      "Updated force-06_courmettes-275_2024-02-28T10-30-54.txt to class 0\n",
      "Updated force-06_courmettes-275_2024-02-28T10-35-25.txt to class 0\n",
      "Updated force-06_courmettes-275_2024-04-08T19-32-12.txt to class 0\n",
      "Updated force-06_courmettes-275_2024-04-27T10-07-14.txt to class 0\n",
      "Updated force-06_courmettes-275_2024-04-27T19-36-28.txt to class 0\n",
      "Updated force-06_courmettes-275_2024-09-17T16-35-25.txt to class 0\n",
      "Updated force-06_courmettes-275_2024-09-17T18-28-37.txt to class 0\n",
      "Updated force-06_courmettes-80_2024-01-10T10-27-39.txt to class 0\n",
      "Updated force-06_courmettes-80_2024-01-10T11-43-13.txt to class 0\n",
      "Updated force-06_courmettes-80_2024-02-12T09-17-08.txt to class 0\n",
      "Updated force-06_courmettes-80_2024-02-17T10-39-01.txt to class 0\n",
      "Updated force-06_courmettes-80_2024-02-21T09-55-22.txt to class 0\n",
      "Updated force-06_courmettes-80_2024-02-21T10-23-45.txt to class 0\n",
      "Updated force-06_courmettes-80_2024-02-21T10-28-15.txt to class 0\n",
      "Updated force-06_courmettes-80_2024-02-21T10-28-45.txt to class 0\n",
      "Updated force-06_courmettes-80_2024-02-21T10-30-45.txt to class 0\n",
      "Updated force-06_courmettes-80_2024-02-24T08-31-28.txt to class 0\n",
      "Updated force-06_courmettes-80_2024-02-24T08-36-28.txt to class 0\n",
      "Updated force-06_courmettes-80_2024-02-24T08-44-59.txt to class 0\n",
      "Updated force-06_courmettes-80_2024-02-24T08-49-28.txt to class 0\n",
      "Updated force-06_courmettes-80_2024-02-24T08-51-59.txt to class 0\n",
      "Updated force-06_courmettes-80_2024-02-24T10-02-31.txt to class 0\n",
      "Updated force-06_ferion-142_2024-01-03T10-25-17.txt to class 0\n",
      "Updated force-06_ferion-142_2024-01-07T09-30-12.txt to class 0\n",
      "Updated force-06_ferion-142_2024-01-08T11-56-19.txt to class 0\n",
      "Updated force-06_ferion-142_2024-01-08T14-11-54.txt to class 0\n",
      "Updated force-06_ferion-142_2024-01-08T14-25-31.txt to class 0\n",
      "Updated force-06_ferion-142_2024-01-08T14-26-37.txt to class 0\n",
      "Updated force-06_ferion-142_2024-01-08T14-28-05.txt to class 0\n",
      "Updated force-06_ferion-142_2024-01-08T14-36-57.txt to class 0\n",
      "Updated force-06_ferion-142_2024-01-08T14-37-57.txt to class 0\n",
      "Updated force-06_ferion-142_2024-01-09T11-23-21.txt to class 0\n",
      "Updated force-06_ferion-142_2024-01-09T11-58-30.txt to class 0\n",
      "Updated force-06_ferion-142_2024-01-09T12-01-58.txt to class 0\n",
      "Updated force-06_ferion-142_2024-01-10T11-49-56.txt to class 0\n",
      "Updated force-06_ferion-142_2024-01-10T14-26-33.txt to class 0\n",
      "Updated force-06_ferion-142_2024-01-11T10-23-57.txt to class 0\n",
      "Updated force-06_ferion-142_2024-01-11T10-33-46.txt to class 0\n",
      "Updated force-06_ferion-142_2024-01-11T10-46-17.txt to class 0\n",
      "Updated force-06_ferion-142_2024-01-11T10-51-08.txt to class 0\n",
      "Updated force-06_ferion-142_2024-01-14T08-47-10.txt to class 0\n",
      "Updated force-06_ferion-142_2024-01-14T08-48-10.txt to class 0\n",
      "Updated force-06_ferion-142_2024-01-16T10-27-30.txt to class 0\n",
      "Updated force-06_ferion-142_2024-01-16T10-58-01.txt to class 0\n",
      "Updated force-06_ferion-142_2024-01-16T10-59-01.txt to class 0\n",
      "Updated force-06_ferion-142_2024-01-20T10-45-57.txt to class 0\n",
      "Updated force-06_ferion-142_2024-01-20T10-46-57.txt to class 0\n",
      "Updated force-06_ferion-142_2024-01-21T11-05-54.txt to class 0\n",
      "Updated force-06_ferion-142_2024-01-21T12-10-01.txt to class 0\n",
      "Updated force-06_ferion-142_2024-01-26T11-01-06.txt to class 0\n",
      "Updated force-06_ferion-142_2024-01-30T10-33-55.txt to class 0\n",
      "Updated force-06_ferion-142_2024-01-30T10-36-25.txt to class 0\n",
      "Updated force-06_ferion-142_2024-01-30T10-40-55.txt to class 0\n",
      "Updated force-06_ferion-142_2024-02-01T09-30-10.txt to class 0\n",
      "Updated force-06_ferion-142_2024-02-12T11-13-45.txt to class 0\n",
      "Updated force-06_ferion-142_2024-02-12T11-16-44.txt to class 0\n",
      "Updated force-06_ferion-142_2024-02-17T12-08-23.txt to class 0\n",
      "Updated force-06_ferion-142_2024-02-19T11-34-05.txt to class 0\n",
      "Updated force-06_ferion-142_2024-02-19T11-38-20.txt to class 0\n",
      "Updated force-06_ferion-142_2024-02-24T10-57-48.txt to class 0\n",
      "Updated force-06_ferion-142_2024-02-24T11-06-43.txt to class 0\n",
      "Updated force-06_ferion-142_2024-02-24T11-20-43.txt to class 0\n",
      "Updated force-06_ferion-142_2024-02-25T09-52-13.txt to class 0\n",
      "Updated force-06_ferion-142_2024-02-25T10-22-24.txt to class 0\n",
      "Updated force-06_ferion-142_2024-02-28T15-12-52.txt to class 0\n",
      "Updated force-06_ferion-142_2024-02-29T09-45-00.txt to class 0\n",
      "Updated force-06_ferion-142_2024-02-29T11-43-33.txt to class 0\n",
      "Updated force-06_ferion-142_2024-02-29T12-05-33.txt to class 0\n",
      "Updated force-06_ferion-287_2024-01-15T12-09-00.txt to class 0\n",
      "Updated force-06_ferion-287_2024-01-15T12-12-59.txt to class 0\n",
      "Updated force-06_ferion-287_2024-01-20T11-25-09.txt to class 0\n",
      "Updated force-06_ferion-287_2024-01-20T11-30-09.txt to class 0\n",
      "Updated force-06_ferion-287_2024-01-21T14-24-39.txt to class 0\n",
      "Updated force-06_ferion-287_2024-01-21T14-46-09.txt to class 0\n",
      "Updated force-06_ferion-287_2024-01-22T11-32-38.txt to class 0\n",
      "Updated force-06_ferion-287_2024-01-22T11-33-10.txt to class 0\n",
      "Updated force-06_ferion-287_2024-01-29T11-09-38.txt to class 0\n",
      "Updated force-06_ferion-287_2024-01-29T11-11-41.txt to class 0\n",
      "Updated force-06_ferion-287_2024-01-29T11-31-37.txt to class 0\n",
      "Updated force-06_ferion-287_2024-01-29T11-39-35.txt to class 0\n",
      "Updated force-06_ferion-287_2024-01-29T13-19-38.txt to class 0\n",
      "Updated force-06_ferion-287_2024-01-29T14-28-58.txt to class 0\n",
      "Updated force-06_ferion-287_2024-01-29T14-31-08.txt to class 0\n",
      "Updated force-06_ferion-287_2024-01-29T14-33-37.txt to class 0\n",
      "Updated force-06_ferion-287_2024-01-29T14-35-38.txt to class 0\n",
      "Updated force-06_ferion-287_2024-01-29T15-04-38.txt to class 0\n",
      "Updated force-06_ferion-287_2024-01-29T15-14-40.txt to class 0\n",
      "Updated force-06_ferion-287_2024-01-29T15-18-39.txt to class 0\n",
      "Updated force-06_ferion-287_2024-01-29T15-25-09.txt to class 0\n",
      "Updated force-06_ferion-287_2024-01-29T15-49-10.txt to class 0\n",
      "Updated force-06_ferion-287_2024-01-29T16-16-12.txt to class 0\n",
      "Updated force-06_ferion-287_2024-01-30T11-17-32.txt to class 0\n",
      "Updated force-06_ferion-287_2024-02-14T11-40-13.txt to class 0\n",
      "Updated force-06_ferion-287_2024-02-14T11-47-13.txt to class 0\n",
      "Updated force-06_ferion-287_2024-02-14T11-48-14.txt to class 0\n",
      "Updated force-06_ferion-287_2024-02-21T10-36-52.txt to class 0\n",
      "Updated force-06_ferion-60_2024-01-30T10-05-21.txt to class 0\n",
      "Updated force-06_valbonne-138_2024-01-06T15-18-11.txt to class 0\n",
      "Updated force-06_valbonne-138_2024-01-09T11-10-31.txt to class 0\n",
      "Updated force-06_valbonne-138_2024-01-13T17-27-48.txt to class 0\n",
      "Updated force-06_valbonne-138_2024-01-13T17-38-16.txt to class 0\n",
      "Updated force-06_valbonne-138_2024-01-15T10-19-43.txt to class 0\n",
      "Updated force-06_valbonne-138_2024-01-20T10-45-54.txt to class 0\n",
      "Updated force-06_valbonne-138_2024-01-31T11-58-55.txt to class 0\n",
      "Updated force-06_valbonne-138_2024-02-01T13-07-05.txt to class 0\n",
      "Updated force-06_valbonne-138_2024-02-03T08-47-52.txt to class 0\n",
      "Updated force-06_valbonne-138_2024-02-08T17-37-37.txt to class 0\n",
      "Updated force-06_valbonne-138_2024-02-08T17-39-05.txt to class 0\n",
      "Updated force-06_valbonne-138_2024-02-08T17-39-35.txt to class 0\n",
      "Updated force-06_valbonne-138_2024-02-19T16-50-50.txt to class 0\n",
      "Updated force-06_valbonne-138_2024-04-23T09-37-12.txt to class 0\n",
      "Updated force-06_valbonne-138_2024-04-23T09-37-19.txt to class 0\n",
      "Updated force-06_valbonne-138_2024-06-13T11-10-07.txt to class 0\n",
      "Updated force-06_valbonne-349_2024-01-09T09-35-22.txt to class 0\n",
      "Updated force-06_valbonne-349_2024-01-09T12-01-57.txt to class 0\n",
      "Updated force-06_valbonne-349_2024-01-23T11-32-59.txt to class 0\n",
      "Updated force-06_valbonne-349_2024-01-23T11-41-29.txt to class 0\n",
      "Updated force-06_valbonne-349_2024-01-23T12-05-00.txt to class 0\n",
      "Updated force-06_valbonne-349_2024-01-23T12-14-30.txt to class 0\n",
      "Updated force-06_valbonne-349_2024-01-23T12-16-00.txt to class 0\n",
      "Updated force-06_valbonne-349_2024-01-23T13-32-33.txt to class 0\n",
      "Updated force-06_valbonne-349_2024-01-23T13-34-03.txt to class 0\n",
      "Updated force-06_valbonne-349_2024-01-23T13-43-33.txt to class 0\n",
      "Updated force-06_valbonne-349_2024-01-23T13-52-03.txt to class 0\n",
      "Updated force-06_valbonne-349_2024-01-23T14-09-04.txt to class 0\n",
      "Updated force-06_valbonne-349_2024-02-04T16-40-05.txt to class 0\n",
      "Updated force-06_valbonne-349_2024-02-17T17-50-23.txt to class 0\n",
      "Updated force-06_valbonne-67_2024-01-03T10-58-13.txt to class 0\n",
      "Updated force-06_valbonne-67_2024-01-15T10-31-07.txt to class 0\n",
      "Updated force-06_valbonne-67_2024-01-31T09-12-39.txt to class 0\n",
      "Updated force-06_valbonne-67_2024-01-31T09-30-39.txt to class 0\n",
      "Updated force-06_valbonne-67_2024-01-31T09-37-40.txt to class 0\n",
      "Updated force-06_valbonne-67_2024-01-31T09-41-10.txt to class 0\n",
      "Updated force-06_valbonne-67_2024-02-01T15-51-33.txt to class 0\n",
      "Updated force-06_valbonne-67_2024-02-05T16-32-26.txt to class 0\n",
      "Updated force-06_valbonne-67_2024-02-07T09-37-54.txt to class 0\n",
      "Updated force-06_valbonne-67_2024-02-07T09-38-54.txt to class 0\n",
      "Updated force-06_valbonne-67_2024-02-16T08-46-34.txt to class 0\n",
      "Updated force-06_valbonne-67_2024-02-16T10-16-06.txt to class 0\n",
      "Updated force-06_valbonne-67_2024-02-17T10-58-06.txt to class 0\n",
      "Updated force-06_valbonne-67_2024-02-21T10-27-36.txt to class 0\n",
      "Updated force-06_valbonne-67_2024-06-01T08-43-47.txt to class 0\n",
      "Updated force-06_valbonne-67_2024-06-01T08-47-56.txt to class 0\n",
      "Updated force-06_valbonne-67_2024-06-01T08-56-47.txt to class 0\n",
      "Updated sdis-07_brison-110_2024-01-01T14-12-52.txt to class 0\n",
      "Updated sdis-07_brison-110_2024-01-03T10-32-19.txt to class 0\n",
      "Updated sdis-07_brison-110_2024-01-04T15-36-21.txt to class 0\n",
      "Updated sdis-07_brison-110_2024-01-09T10-05-40.txt to class 0\n",
      "Updated sdis-07_brison-110_2024-01-09T10-10-40.txt to class 0\n",
      "Updated sdis-07_brison-110_2024-01-09T10-14-41.txt to class 0\n",
      "Updated sdis-07_brison-110_2024-01-09T10-38-44.txt to class 0\n",
      "Updated sdis-07_brison-110_2024-01-09T13-32-46.txt to class 0\n",
      "Updated sdis-07_brison-110_2024-01-09T13-33-46.txt to class 0\n",
      "Updated sdis-07_brison-110_2024-01-21T13-46-58.txt to class 0\n",
      "Updated sdis-07_brison-110_2024-01-21T13-48-55.txt to class 0\n",
      "Updated sdis-07_brison-110_2024-01-21T14-21-56.txt to class 0\n",
      "Updated sdis-07_brison-110_2024-01-21T14-22-23.txt to class 0\n",
      "Updated sdis-07_brison-110_2024-01-21T14-48-30.txt to class 0\n",
      "Updated sdis-07_brison-110_2024-01-21T14-52-57.txt to class 0\n",
      "Updated sdis-07_brison-110_2024-01-21T14-53-27.txt to class 0\n",
      "Updated sdis-07_brison-110_2024-01-21T14-56-27.txt to class 0\n",
      "Updated sdis-07_brison-110_2024-01-21T15-08-27.txt to class 0\n",
      "Updated sdis-07_brison-110_2024-01-21T15-16-58.txt to class 0\n",
      "Updated sdis-07_brison-110_2024-01-21T15-30-45.txt to class 0\n",
      "Updated sdis-07_brison-110_2024-01-24T10-52-51.txt to class 0\n",
      "Updated sdis-07_brison-110_2024-01-26T11-52-14.txt to class 0\n",
      "Updated sdis-07_brison-110_2024-01-28T09-12-07.txt to class 0\n",
      "Updated sdis-07_brison-110_2024-02-05T08-56-36.txt to class 0\n",
      "Updated sdis-07_brison-110_2024-02-05T09-24-03.txt to class 0\n",
      "Updated sdis-07_brison-110_2024-02-05T10-02-34.txt to class 0\n",
      "Updated sdis-07_brison-110_2024-02-05T10-09-34.txt to class 0\n",
      "Updated sdis-07_brison-110_2024-02-05T11-15-36.txt to class 0\n",
      "Updated sdis-07_brison-110_2024-02-05T11-19-36.txt to class 0\n",
      "Updated sdis-07_brison-110_2024-02-05T11-53-38.txt to class 0\n",
      "Updated sdis-07_brison-110_2024-02-05T14-49-28.txt to class 0\n",
      "Updated sdis-07_brison-110_2024-02-06T14-27-01.txt to class 0\n",
      "Updated sdis-07_brison-110_2024-02-07T08-53-55.txt to class 0\n",
      "Updated sdis-07_brison-110_2024-02-07T08-55-14.txt to class 0\n",
      "Updated sdis-07_brison-110_2024-02-07T09-03-22.txt to class 0\n",
      "Updated sdis-07_brison-110_2024-02-07T09-07-51.txt to class 0\n",
      "Updated sdis-07_brison-110_2024-02-12T08-59-10.txt to class 0\n",
      "Updated sdis-07_brison-110_2024-02-12T10-04-11.txt to class 0\n",
      "Updated sdis-07_brison-110_2024-02-12T11-12-09.txt to class 0\n",
      "Updated sdis-07_brison-110_2024-02-12T11-51-21.txt to class 0\n",
      "Updated sdis-07_brison-110_2024-02-12T14-29-49.txt to class 0\n",
      "Updated sdis-07_brison-110_2024-02-15T15-13-17.txt to class 0\n",
      "Updated sdis-07_brison-110_2024-02-20T09-41-38.txt to class 0\n",
      "Updated sdis-07_brison-110_2024-02-21T08-13-03.txt to class 0\n",
      "Updated sdis-07_brison-110_2024-02-21T10-31-39.txt to class 0\n",
      "Updated sdis-07_brison-110_2024-02-21T11-04-06.txt to class 0\n",
      "Updated sdis-07_brison-110_2024-02-21T11-23-39.txt to class 0\n",
      "Updated sdis-07_brison-110_2024-02-21T11-27-46.txt to class 0\n",
      "Updated sdis-07_brison-110_2024-02-21T11-31-03.txt to class 0\n",
      "Updated sdis-07_brison-110_2024-02-21T11-38-13.txt to class 0\n",
      "Updated sdis-07_brison-110_2024-02-21T14-36-41.txt to class 0\n",
      "Updated sdis-07_brison-110_2024-02-23T09-03-20.txt to class 0\n",
      "Updated sdis-07_brison-110_2024-02-23T09-18-46.txt to class 0\n",
      "Updated sdis-07_brison-110_2024-02-23T09-26-17.txt to class 0\n",
      "Updated sdis-07_brison-110_2024-02-23T09-58-58.txt to class 0\n",
      "Updated sdis-07_brison-110_2024-02-23T10-12-58.txt to class 0\n",
      "Updated sdis-07_brison-110_2024-02-23T10-59-19.txt to class 0\n",
      "Updated sdis-07_brison-110_2024-02-23T11-12-19.txt to class 0\n",
      "Updated sdis-07_brison-110_2024-02-23T12-32-24.txt to class 0\n",
      "Updated sdis-07_brison-110_2024-02-23T12-32-54.txt to class 0\n",
      "Updated sdis-07_brison-110_2024-02-23T12-50-35.txt to class 0\n",
      "Updated sdis-07_brison-110_2024-02-24T11-47-15.txt to class 0\n",
      "Updated sdis-07_brison-110_2024-02-24T12-40-03.txt to class 0\n",
      "Updated sdis-07_brison-110_2024-02-29T08-52-51.txt to class 0\n",
      "Updated sdis-07_brison-110_2024-02-29T08-55-52.txt to class 0\n",
      "Updated sdis-07_brison-110_2024-02-29T09-03-22.txt to class 0\n",
      "Updated sdis-07_brison-110_2024-02-29T09-23-52.txt to class 0\n",
      "Updated sdis-07_brison-110_2024-02-29T10-03-23.txt to class 0\n",
      "Updated sdis-07_brison-110_2024-03-01T08-41-13.txt to class 0\n",
      "Updated sdis-07_brison-110_2024-03-01T08-45-43.txt to class 0\n",
      "Updated sdis-07_brison-110_2024-03-01T09-02-44.txt to class 0\n",
      "Updated sdis-07_brison-110_2024-03-01T09-32-47.txt to class 0\n",
      "Updated sdis-07_brison-110_2024-03-01T09-36-21.txt to class 0\n",
      "Updated sdis-07_brison-110_2024-03-01T10-14-16.txt to class 0\n",
      "Updated sdis-07_brison-110_2024-03-01T11-04-46.txt to class 0\n",
      "Updated sdis-07_brison-110_2024-03-01T11-07-47.txt to class 0\n",
      "Updated sdis-07_brison-110_2024-03-01T11-13-47.txt to class 0\n",
      "Updated sdis-07_brison-110_2024-03-01T11-42-48.txt to class 0\n",
      "Updated sdis-07_brison-110_2024-03-02T10-37-34.txt to class 0\n",
      "Updated sdis-07_brison-110_2024-03-02T11-27-29.txt to class 0\n",
      "Updated sdis-07_brison-110_2024-03-06T09-35-59.txt to class 0\n",
      "Updated sdis-07_brison-110_2024-03-08T09-20-54.txt to class 0\n",
      "Updated sdis-07_brison-110_2024-03-08T10-33-03.txt to class 0\n",
      "Updated sdis-07_brison-110_2024-03-08T11-09-01.txt to class 0\n",
      "Updated sdis-07_brison-110_2024-03-08T11-10-01.txt to class 0\n",
      "Updated sdis-07_brison-110_2024-03-08T11-19-15.txt to class 0\n",
      "Updated sdis-07_brison-110_2024-03-12T09-22-35.txt to class 0\n",
      "Updated sdis-07_brison-110_2024-03-12T09-23-22.txt to class 0\n",
      "Updated sdis-07_brison-110_2024-03-12T09-50-28.txt to class 0\n",
      "Updated sdis-07_brison-110_2024-03-12T10-08-57.txt to class 0\n",
      "Updated sdis-07_brison-110_2024-03-17T08-04-39.txt to class 0\n",
      "Updated sdis-07_brison-110_2024-03-17T08-19-35.txt to class 0\n",
      "Updated sdis-07_brison-110_2024-03-17T08-22-38.txt to class 0\n",
      "Updated sdis-07_brison-110_2024-03-17T09-06-43.txt to class 0\n",
      "Updated sdis-07_brison-110_2024-03-17T09-20-10.txt to class 0\n",
      "Updated sdis-07_brison-110_2024-03-17T09-23-19.txt to class 0\n",
      "Updated sdis-07_brison-110_2024-03-17T09-48-12.txt to class 0\n",
      "Updated sdis-07_brison-110_2024-03-17T09-56-11.txt to class 0\n",
      "Updated sdis-07_brison-110_2024-03-17T10-15-11.txt to class 0\n",
      "Updated sdis-07_brison-110_2024-03-27T13-15-13.txt to class 0\n",
      "Updated sdis-07_brison-110_2024-03-27T13-21-44.txt to class 0\n",
      "Updated sdis-07_brison-110_2024-03-27T13-28-43.txt to class 0\n",
      "Updated sdis-07_brison-110_2024-03-27T13-45-14.txt to class 0\n",
      "Updated sdis-07_brison-110_2024-03-27T13-53-46.txt to class 0\n",
      "Updated sdis-07_brison-110_2024-03-27T14-16-56.txt to class 0\n",
      "Updated sdis-07_brison-110_2024-03-28T09-11-06.txt to class 0\n",
      "Updated sdis-07_brison-110_2024-03-28T09-25-26.txt to class 0\n",
      "Updated sdis-07_brison-110_2024-03-28T10-55-40.txt to class 0\n",
      "Updated sdis-07_brison-110_2024-03-28T10-56-28.txt to class 0\n",
      "Updated sdis-07_brison-110_2024-03-28T11-26-03.txt to class 0\n",
      "Updated sdis-07_brison-110_2024-03-28T13-20-06.txt to class 0\n",
      "Updated sdis-07_brison-127_2024-09-22T10-49-55.txt to class 0\n",
      "Updated sdis-07_brison-200_2024-01-01T12-34-16.txt to class 0\n",
      "Updated sdis-07_brison-200_2024-01-01T12-49-16.txt to class 0\n",
      "Updated sdis-07_brison-200_2024-01-04T12-50-52.txt to class 0\n",
      "Updated sdis-07_brison-200_2024-01-04T13-13-30.txt to class 0\n",
      "Updated sdis-07_brison-200_2024-01-04T15-57-34.txt to class 0\n",
      "Updated sdis-07_brison-200_2024-01-04T15-59-42.txt to class 0\n",
      "Updated sdis-07_brison-200_2024-01-04T16-30-57.txt to class 0\n",
      "Updated sdis-07_brison-200_2024-01-08T15-18-00.txt to class 0\n",
      "Updated sdis-07_brison-200_2024-01-08T16-19-25.txt to class 0\n",
      "Updated sdis-07_brison-200_2024-01-08T16-19-32.txt to class 0\n",
      "Updated sdis-07_brison-200_2024-01-08T16-38-46.txt to class 0\n",
      "Updated sdis-07_brison-200_2024-01-08T16-39-16.txt to class 0\n",
      "Updated sdis-07_brison-200_2024-01-08T16-41-02.txt to class 0\n",
      "Updated sdis-07_brison-200_2024-01-08T17-00-32.txt to class 0\n",
      "Updated sdis-07_brison-200_2024-01-09T15-17-00.txt to class 0\n",
      "Updated sdis-07_brison-200_2024-01-15T13-56-37.txt to class 0\n",
      "Updated sdis-07_brison-200_2024-01-15T14-38-37.txt to class 0\n",
      "Updated sdis-07_brison-200_2024-01-15T14-59-07.txt to class 0\n",
      "Updated sdis-07_brison-200_2024-01-15T17-42-16.txt to class 0\n",
      "Updated sdis-07_brison-200_2024-01-15T17-48-13.txt to class 0\n",
      "Updated sdis-07_brison-200_2024-01-15T17-50-43.txt to class 0\n",
      "Updated sdis-07_brison-200_2024-01-16T13-45-58.txt to class 0\n",
      "Updated sdis-07_brison-200_2024-01-16T14-20-00.txt to class 0\n",
      "Updated sdis-07_brison-200_2024-01-16T14-20-54.txt to class 0\n",
      "Updated sdis-07_brison-200_2024-01-19T09-52-32.txt to class 0\n",
      "Updated sdis-07_brison-200_2024-01-20T10-23-32.txt to class 0\n",
      "Updated sdis-07_brison-200_2024-01-20T11-11-40.txt to class 0\n",
      "Updated sdis-07_brison-200_2024-01-20T11-14-11.txt to class 0\n",
      "Updated sdis-07_brison-200_2024-01-20T11-35-06.txt to class 0\n",
      "Updated sdis-07_brison-200_2024-01-20T11-58-59.txt to class 0\n",
      "Updated sdis-07_brison-200_2024-01-20T12-02-06.txt to class 0\n",
      "Updated sdis-07_brison-200_2024-01-20T16-17-48.txt to class 0\n",
      "Updated sdis-07_brison-200_2024-01-21T12-15-25.txt to class 0\n",
      "Updated sdis-07_brison-200_2024-01-23T12-41-40.txt to class 0\n",
      "Updated sdis-07_brison-200_2024-01-23T12-54-24.txt to class 0\n",
      "Updated sdis-07_brison-200_2024-01-23T15-34-43.txt to class 0\n",
      "Updated sdis-07_brison-200_2024-01-23T17-24-18.txt to class 0\n",
      "Updated sdis-07_brison-200_2024-01-24T09-35-49.txt to class 0\n",
      "Updated sdis-07_brison-200_2024-01-24T09-47-19.txt to class 0\n",
      "Updated sdis-07_brison-200_2024-01-24T09-51-43.txt to class 0\n",
      "Updated sdis-07_brison-200_2024-01-24T13-52-31.txt to class 0\n",
      "Updated sdis-07_brison-200_2024-01-24T15-07-27.txt to class 0\n",
      "Updated sdis-07_brison-200_2024-01-24T15-12-57.txt to class 0\n",
      "Updated sdis-07_brison-200_2024-01-24T15-55-58.txt to class 0\n",
      "Updated sdis-07_brison-200_2024-01-24T16-03-58.txt to class 0\n",
      "Updated sdis-07_brison-200_2024-01-24T16-06-28.txt to class 0\n",
      "Updated sdis-07_brison-200_2024-01-24T16-37-29.txt to class 0\n",
      "Updated sdis-07_brison-200_2024-01-25T09-31-38.txt to class 0\n",
      "Updated sdis-07_brison-200_2024-01-25T09-33-39.txt to class 0\n",
      "Updated sdis-07_brison-200_2024-01-25T14-11-24.txt to class 0\n",
      "Updated sdis-07_brison-200_2024-01-25T14-43-09.txt to class 0\n",
      "Updated sdis-07_brison-200_2024-01-25T15-38-09.txt to class 0\n",
      "Updated sdis-07_brison-200_2024-01-25T16-10-47.txt to class 0\n",
      "Updated sdis-07_brison-200_2024-01-25T16-10-54.txt to class 0\n",
      "Updated sdis-07_brison-200_2024-01-25T16-34-40.txt to class 0\n",
      "Updated sdis-07_brison-200_2024-01-25T16-57-25.txt to class 0\n",
      "Updated sdis-07_brison-200_2024-01-25T16-57-47.txt to class 0\n",
      "Updated sdis-07_brison-200_2024-01-25T17-28-48.txt to class 0\n",
      "Updated sdis-07_brison-200_2024-01-26T11-12-38.txt to class 0\n",
      "Updated sdis-07_brison-200_2024-01-29T15-15-02.txt to class 0\n",
      "Updated sdis-07_brison-200_2024-01-31T14-23-52.txt to class 0\n",
      "Updated sdis-07_brison-200_2024-01-31T15-03-24.txt to class 0\n",
      "Updated sdis-07_brison-200_2024-02-03T13-02-59.txt to class 0\n",
      "Updated sdis-07_brison-200_2024-02-03T14-34-00.txt to class 0\n",
      "Updated sdis-07_brison-200_2024-02-03T14-49-38.txt to class 0\n",
      "Updated sdis-07_brison-200_2024-02-04T15-38-32.txt to class 0\n",
      "Updated sdis-07_brison-200_2024-02-04T15-41-54.txt to class 0\n",
      "Updated sdis-07_brison-200_2024-02-05T16-20-16.txt to class 0\n",
      "Updated sdis-07_brison-200_2024-02-07T15-48-59.txt to class 0\n",
      "Updated sdis-07_brison-200_2024-02-07T15-54-58.txt to class 0\n",
      "Updated sdis-07_brison-200_2024-02-07T18-18-32.txt to class 0\n",
      "Updated sdis-07_brison-200_2024-02-12T17-09-57.txt to class 0\n",
      "Updated sdis-07_brison-200_2024-02-12T17-12-27.txt to class 0\n",
      "Updated sdis-07_brison-200_2024-02-12T17-13-29.txt to class 0\n",
      "Updated sdis-07_brison-200_2024-02-13T15-56-24.txt to class 0\n",
      "Updated sdis-07_brison-200_2024-02-13T16-29-26.txt to class 0\n",
      "Updated sdis-07_brison-200_2024-02-13T16-35-49.txt to class 0\n",
      "Updated sdis-07_brison-200_2024-02-13T16-36-20.txt to class 0\n",
      "Updated sdis-07_brison-200_2024-02-13T17-03-50.txt to class 0\n",
      "Updated sdis-07_brison-200_2024-02-13T17-08-50.txt to class 0\n",
      "Updated sdis-07_brison-200_2024-02-13T17-25-50.txt to class 0\n",
      "Updated sdis-07_brison-200_2024-02-14T13-44-36.txt to class 0\n",
      "Updated sdis-07_brison-200_2024-02-14T14-44-45.txt to class 0\n",
      "Updated sdis-07_brison-200_2024-02-14T15-02-38.txt to class 0\n",
      "Updated sdis-07_brison-200_2024-02-14T15-32-53.txt to class 0\n",
      "Updated sdis-07_brison-200_2024-02-14T16-17-10.txt to class 0\n",
      "Updated sdis-07_brison-200_2024-02-17T15-53-52.txt to class 0\n",
      "Updated sdis-07_brison-200_2024-02-17T16-25-08.txt to class 0\n",
      "Updated sdis-07_brison-200_2024-02-19T12-25-30.txt to class 0\n",
      "Updated sdis-07_brison-200_2024-02-19T12-26-51.txt to class 0\n",
      "Updated sdis-07_brison-200_2024-02-19T16-22-49.txt to class 0\n",
      "Updated sdis-07_brison-200_2024-02-20T16-36-33.txt to class 0\n",
      "Updated sdis-07_brison-200_2024-02-21T15-16-46.txt to class 0\n",
      "Updated sdis-07_brison-200_2024-02-21T15-35-46.txt to class 0\n",
      "Updated sdis-07_brison-200_2024-02-21T15-36-46.txt to class 0\n",
      "Updated sdis-07_brison-200_2024-02-23T15-41-37.txt to class 0\n",
      "Updated sdis-07_brison-200_2024-02-29T18-08-41.txt to class 0\n",
      "Updated sdis-07_brison-200_2024-02-29T18-27-19.txt to class 0\n",
      "Updated sdis-07_brison-200_2024-02-29T18-38-48.txt to class 0\n",
      "Updated sdis-07_brison-200_2024-02-29T18-40-12.txt to class 0\n",
      "Updated sdis-07_brison-200_2024-03-02T11-52-03.txt to class 0\n",
      "Updated sdis-07_brison-200_2024-03-07T09-31-55.txt to class 0\n",
      "Updated sdis-07_brison-200_2024-03-08T10-22-06.txt to class 0\n",
      "Updated sdis-07_brison-200_2024-03-08T10-24-17.txt to class 0\n",
      "Updated sdis-07_brison-200_2024-03-13T15-06-13.txt to class 0\n",
      "Updated sdis-07_brison-200_2024-03-14T10-20-41.txt to class 0\n",
      "Updated sdis-07_brison-200_2024-03-14T10-36-12.txt to class 0\n",
      "Updated sdis-07_brison-200_2024-03-14T16-50-23.txt to class 0\n",
      "Updated sdis-07_brison-200_2024-03-14T16-56-54.txt to class 0\n",
      "Updated sdis-07_brison-200_2024-03-15T16-16-43.txt to class 0\n",
      "Updated sdis-07_brison-200_2024-03-16T13-36-00.txt to class 0\n",
      "Updated sdis-07_brison-200_2024-03-16T14-02-01.txt to class 0\n",
      "Updated sdis-07_brison-200_2024-03-16T14-56-33.txt to class 0\n",
      "Updated sdis-07_brison-200_2024-03-17T10-21-52.txt to class 0\n",
      "Updated sdis-07_brison-200_2024-03-17T11-18-46.txt to class 0\n",
      "Updated sdis-07_brison-200_2024-03-17T11-21-17.txt to class 0\n",
      "Updated sdis-07_brison-200_2024-03-17T17-02-50.txt to class 0\n",
      "Updated sdis-07_brison-200_2024-03-19T15-57-14.txt to class 0\n",
      "Updated sdis-07_brison-200_2024-03-20T08-58-33.txt to class 0\n",
      "Updated sdis-07_brison-200_2024-03-20T08-59-03.txt to class 0\n",
      "Updated sdis-07_brison-200_2024-03-20T09-01-03.txt to class 0\n",
      "Updated sdis-07_brison-200_2024-03-20T09-25-46.txt to class 0\n",
      "Updated sdis-07_brison-200_2024-03-20T09-31-47.txt to class 0\n",
      "Updated sdis-07_brison-200_2024-03-27T17-53-25.txt to class 0\n",
      "Updated sdis-07_brison-200_2024-09-03T16-40-52.txt to class 0\n",
      "Updated sdis-07_brison-20_2024-01-04T15-59-05.txt to class 0\n",
      "Updated sdis-07_brison-20_2024-01-04T16-03-11.txt to class 0\n",
      "Updated sdis-07_brison-20_2024-01-09T10-51-52.txt to class 0\n",
      "Updated sdis-07_brison-20_2024-01-09T11-11-45.txt to class 0\n",
      "Updated sdis-07_brison-20_2024-01-10T09-55-01.txt to class 0\n",
      "Updated sdis-07_brison-20_2024-01-10T10-14-01.txt to class 0\n",
      "Updated sdis-07_brison-20_2024-01-10T10-36-09.txt to class 0\n",
      "Updated sdis-07_brison-20_2024-01-15T15-38-39.txt to class 0\n",
      "Updated sdis-07_brison-20_2024-01-24T10-10-35.txt to class 0\n",
      "Updated sdis-07_brison-20_2024-01-24T10-27-44.txt to class 0\n",
      "Updated sdis-07_brison-20_2024-01-24T10-29-44.txt to class 0\n",
      "Updated sdis-07_brison-20_2024-01-24T10-32-58.txt to class 0\n",
      "Updated sdis-07_brison-20_2024-01-24T10-33-28.txt to class 0\n",
      "Updated sdis-07_brison-20_2024-01-24T10-46-05.txt to class 0\n",
      "Updated sdis-07_brison-20_2024-01-24T10-47-51.txt to class 0\n",
      "Updated sdis-07_brison-20_2024-01-24T10-49-05.txt to class 0\n",
      "Updated sdis-07_brison-20_2024-01-24T10-57-05.txt to class 0\n",
      "Updated sdis-07_brison-20_2024-01-24T11-11-28.txt to class 0\n",
      "Updated sdis-07_brison-20_2024-01-31T09-43-24.txt to class 0\n",
      "Updated sdis-07_brison-20_2024-01-31T14-45-24.txt to class 0\n",
      "Updated sdis-07_brison-20_2024-02-05T13-56-43.txt to class 0\n",
      "Updated sdis-07_brison-20_2024-02-08T18-21-29.txt to class 0\n",
      "Updated sdis-07_brison-20_2024-02-08T18-23-15.txt to class 0\n",
      "Updated sdis-07_brison-20_2024-02-08T18-23-36.txt to class 0\n",
      "Updated sdis-07_brison-20_2024-02-12T09-23-07.txt to class 0\n",
      "Updated sdis-07_brison-20_2024-02-15T15-20-26.txt to class 0\n",
      "Updated sdis-07_brison-20_2024-02-16T17-51-52.txt to class 0\n",
      "Updated sdis-07_brison-20_2024-02-18T20-17-12.txt to class 0\n",
      "Updated sdis-07_brison-20_2024-02-18T20-17-28.txt to class 0\n",
      "Updated sdis-07_brison-20_2024-02-29T18-24-26.txt to class 0\n",
      "Updated sdis-07_brison-20_2024-02-29T18-27-26.txt to class 0\n",
      "Updated sdis-07_brison-20_2024-02-29T18-31-35.txt to class 0\n",
      "Updated sdis-07_brison-20_2024-02-29T18-35-49.txt to class 0\n",
      "Updated sdis-07_brison-20_2024-02-29T18-47-05.txt to class 0\n",
      "Updated sdis-07_brison-20_2024-03-07T15-13-48.txt to class 0\n",
      "Updated sdis-07_brison-20_2024-03-07T15-21-16.txt to class 0\n",
      "Updated sdis-07_brison-20_2024-03-08T10-52-18.txt to class 0\n",
      "Updated sdis-07_brison-20_2024-03-17T10-17-52.txt to class 0\n",
      "Updated sdis-07_brison-20_2024-03-21T10-12-47.txt to class 0\n",
      "Updated sdis-07_brison-20_2024-06-07T09-58-18.txt to class 0\n",
      "Updated sdis-07_brison-20_2024-06-22T15-24-37.txt to class 0\n",
      "Updated sdis-07_brison-290_2024-01-04T16-11-58.txt to class 0\n",
      "Updated sdis-07_brison-290_2024-01-04T16-12-11.txt to class 0\n",
      "Updated sdis-07_brison-290_2024-01-05T10-15-13.txt to class 0\n",
      "Updated sdis-07_brison-290_2024-01-16T15-46-06.txt to class 0\n",
      "Updated sdis-07_brison-290_2024-01-16T15-52-06.txt to class 0\n",
      "Updated sdis-07_brison-290_2024-01-21T14-46-44.txt to class 0\n",
      "Updated sdis-07_brison-290_2024-01-26T10-14-58.txt to class 0\n",
      "Updated sdis-07_brison-290_2024-01-31T14-53-36.txt to class 0\n",
      "Updated sdis-07_brison-290_2024-01-31T14-56-09.txt to class 0\n",
      "Updated sdis-07_brison-290_2024-02-03T10-14-05.txt to class 0\n",
      "Updated sdis-07_brison-290_2024-02-03T11-14-25.txt to class 0\n",
      "Updated sdis-07_brison-290_2024-02-03T11-35-44.txt to class 0\n",
      "Updated sdis-07_brison-290_2024-02-03T14-12-41.txt to class 0\n",
      "Updated sdis-07_brison-290_2024-02-03T14-43-14.txt to class 0\n",
      "Updated sdis-07_brison-290_2024-02-03T14-54-31.txt to class 0\n",
      "Updated sdis-07_brison-290_2024-02-05T13-18-36.txt to class 0\n",
      "Updated sdis-07_brison-290_2024-02-06T10-16-03.txt to class 0\n",
      "Updated sdis-07_brison-290_2024-02-06T10-30-02.txt to class 0\n",
      "Updated sdis-07_brison-290_2024-02-06T10-38-36.txt to class 0\n",
      "Updated sdis-07_brison-290_2024-02-06T11-39-37.txt to class 0\n",
      "Updated sdis-07_brison-290_2024-02-06T12-17-17.txt to class 0\n",
      "Updated sdis-07_brison-290_2024-02-06T13-41-05.txt to class 0\n",
      "Updated sdis-07_brison-290_2024-02-06T13-57-28.txt to class 0\n",
      "Updated sdis-07_brison-290_2024-02-06T14-18-58.txt to class 0\n",
      "Updated sdis-07_brison-290_2024-02-06T14-44-15.txt to class 0\n",
      "Updated sdis-07_brison-290_2024-02-06T14-44-41.txt to class 0\n",
      "Updated sdis-07_brison-290_2024-02-06T14-50-08.txt to class 0\n",
      "Updated sdis-07_brison-290_2024-02-06T15-08-38.txt to class 0\n",
      "Updated sdis-07_brison-290_2024-02-06T15-27-39.txt to class 0\n",
      "Updated sdis-07_brison-290_2024-02-07T16-11-23.txt to class 0\n",
      "Updated sdis-07_brison-290_2024-02-07T16-16-06.txt to class 0\n",
      "Updated sdis-07_brison-290_2024-02-08T08-10-17.txt to class 0\n",
      "Updated sdis-07_brison-290_2024-02-08T08-15-42.txt to class 0\n",
      "Updated sdis-07_brison-290_2024-02-08T09-10-43.txt to class 0\n",
      "Updated sdis-07_brison-290_2024-02-15T14-40-09.txt to class 0\n",
      "Updated sdis-07_brison-290_2024-02-15T14-41-39.txt to class 0\n",
      "Updated sdis-07_brison-290_2024-02-21T08-19-33.txt to class 0\n",
      "Updated sdis-07_brison-290_2024-02-21T08-20-17.txt to class 0\n",
      "Updated sdis-07_brison-290_2024-02-21T08-22-24.txt to class 0\n",
      "Updated sdis-07_brison-290_2024-02-21T08-24-53.txt to class 0\n",
      "Updated sdis-07_brison-290_2024-03-02T09-17-02.txt to class 0\n",
      "Updated sdis-07_brison-290_2024-03-07T10-17-30.txt to class 0\n",
      "Updated sdis-07_brison-290_2024-03-07T10-23-40.txt to class 0\n",
      "Updated sdis-07_brison-290_2024-03-08T10-27-35.txt to class 0\n",
      "Updated sdis-07_brison-290_2024-03-08T10-32-33.txt to class 0\n",
      "Updated sdis-07_brison-290_2024-03-14T14-48-14.txt to class 0\n",
      "Updated sdis-07_brison-290_2024-03-17T11-17-16.txt to class 0\n",
      "Updated sdis-07_brison-290_2024-03-19T19-02-08.txt to class 0\n",
      "Updated sdis-07_brison-290_2024-03-21T13-49-05.txt to class 0\n",
      "Updated sdis-07_brison-290_2024-03-21T13-49-45.txt to class 0\n",
      "Updated sdis-07_brison-39_2024-09-21T16-54-04.txt to class 0\n",
      "Updated sdis-07_marguerite-185_2024-01-26T11-34-50.txt to class 0\n",
      "Updated sdis-07_marguerite-185_2024-01-26T11-43-50.txt to class 0\n",
      "Updated sdis-07_marguerite-185_2024-01-26T12-06-50.txt to class 0\n",
      "Updated sdis-07_marguerite-185_2024-01-26T13-03-51.txt to class 0\n",
      "Updated sdis-07_marguerite-185_2024-01-26T13-13-52.txt to class 0\n",
      "Updated sdis-07_marguerite-185_2024-02-12T17-40-30.txt to class 0\n",
      "Updated sdis-07_marguerite-185_2024-02-12T17-45-03.txt to class 0\n",
      "Updated sdis-07_marguerite-185_2024-03-01T09-50-43.txt to class 0\n",
      "Updated sdis-07_marguerite-185_2024-03-01T10-06-52.txt to class 0\n",
      "Updated sdis-07_marguerite-185_2024-03-01T10-15-44.txt to class 0\n",
      "Updated sdis-07_marguerite-185_2024-03-01T10-15-46.txt to class 0\n",
      "Updated sdis-07_marguerite-185_2024-03-01T11-35-15.txt to class 0\n",
      "Updated sdis-07_marguerite-185_2024-03-01T12-10-17.txt to class 0\n",
      "Updated sdis-07_marguerite-185_2024-03-25T10-43-45.txt to class 0\n",
      "Updated sdis-07_marguerite-185_2024-03-25T11-15-47.txt to class 0\n",
      "Updated sdis-07_marguerite-185_2024-03-25T11-16-18.txt to class 0\n",
      "Updated sdis-07_marguerite-185_2024-03-25T11-24-01.txt to class 0\n",
      "Updated sdis-07_marguerite-185_2024-03-25T11-30-15.txt to class 0\n",
      "Updated sdis-07_marguerite-185_2024-03-25T11-33-47.txt to class 0\n",
      "Updated sdis-07_marguerite-185_2024-03-25T11-57-47.txt to class 0\n",
      "Updated sdis-07_marguerite-282_2024-01-14T15-54-41.txt to class 0\n",
      "Updated sdis-07_marguerite-282_2024-01-15T09-06-27.txt to class 0\n",
      "Updated sdis-07_marguerite-282_2024-01-26T11-40-42.txt to class 0\n",
      "Updated sdis-07_marguerite-282_2024-01-27T17-02-44.txt to class 0\n",
      "Updated sdis-07_marguerite-282_2024-01-27T17-11-13.txt to class 0\n",
      "Updated sdis-07_marguerite-282_2024-01-29T15-42-05.txt to class 0\n",
      "Updated sdis-07_marguerite-282_2024-01-29T15-43-35.txt to class 0\n",
      "Updated sdis-07_marguerite-282_2024-01-29T15-52-06.txt to class 0\n",
      "Updated sdis-07_marguerite-282_2024-01-30T15-47-54.txt to class 0\n",
      "Updated sdis-07_marguerite-282_2024-01-30T15-55-25.txt to class 0\n",
      "Updated sdis-07_marguerite-282_2024-01-30T16-29-56.txt to class 0\n",
      "Updated sdis-07_marguerite-282_2024-01-30T16-39-26.txt to class 0\n",
      "Updated sdis-07_marguerite-282_2024-01-30T16-42-26.txt to class 0\n",
      "Updated sdis-07_marguerite-282_2024-01-30T16-46-26.txt to class 0\n",
      "Updated sdis-07_marguerite-282_2024-01-30T16-48-57.txt to class 0\n",
      "Updated sdis-07_marguerite-282_2024-01-30T17-01-26.txt to class 0\n",
      "Updated sdis-07_marguerite-282_2024-02-05T14-23-51.txt to class 0\n",
      "Updated sdis-07_marguerite-282_2024-02-06T14-01-40.txt to class 0\n",
      "Updated sdis-07_marguerite-282_2024-02-08T10-40-12.txt to class 0\n",
      "Updated sdis-07_marguerite-282_2024-02-08T10-44-14.txt to class 0\n",
      "Updated sdis-07_marguerite-282_2024-02-08T11-44-44.txt to class 0\n",
      "Updated sdis-07_marguerite-282_2024-02-08T11-53-15.txt to class 0\n",
      "Updated sdis-07_marguerite-282_2024-02-08T12-30-15.txt to class 0\n",
      "Updated sdis-07_marguerite-282_2024-02-08T12-44-46.txt to class 0\n",
      "Updated sdis-07_marguerite-282_2024-02-08T12-55-17.txt to class 0\n",
      "Updated sdis-07_marguerite-282_2024-02-13T15-35-22.txt to class 0\n",
      "Updated sdis-07_marguerite-282_2024-02-13T15-35-33.txt to class 0\n",
      "Updated sdis-07_marguerite-282_2024-02-13T16-05-13.txt to class 0\n",
      "Updated sdis-07_marguerite-282_2024-02-14T16-17-33.txt to class 0\n",
      "Updated sdis-07_marguerite-282_2024-02-16T16-13-13.txt to class 0\n",
      "Updated sdis-07_marguerite-282_2024-02-23T10-40-08.txt to class 0\n",
      "Updated sdis-07_marguerite-282_2024-02-23T10-40-12.txt to class 0\n",
      "Updated sdis-07_marguerite-282_2024-02-23T11-29-08.txt to class 0\n",
      "Updated sdis-07_marguerite-282_2024-03-02T08-24-37.txt to class 0\n",
      "Updated sdis-07_marguerite-282_2024-03-13T16-17-05.txt to class 0\n",
      "Updated sdis-07_marguerite-282_2024-03-19T15-53-56.txt to class 0\n",
      "Updated sdis-07_marguerite-282_2024-03-19T16-32-57.txt to class 0\n",
      "Updated sdis-07_marguerite-282_2024-03-19T16-35-27.txt to class 0\n",
      "Updated sdis-07_marguerite-282_2024-03-19T16-48-58.txt to class 0\n",
      "Updated sdis-07_marguerite-282_2024-03-19T16-55-58.txt to class 0\n",
      "Updated sdis-07_marguerite-282_2024-03-19T17-10-58.txt to class 0\n",
      "Updated sdis-07_marguerite-282_2024-03-19T17-17-44.txt to class 0\n",
      "Updated sdis-07_marguerite-282_2024-03-25T12-11-48.txt to class 0\n",
      "Updated sdis-07_marguerite-29_2024-01-27T11-28-36.txt to class 0\n",
      "Updated sdis-07_marguerite-29_2024-01-27T14-12-43.txt to class 0\n",
      "Updated sdis-07_marguerite-29_2024-01-27T15-32-18.txt to class 0\n",
      "Updated sdis-07_marguerite-29_2024-01-27T15-33-47.txt to class 0\n",
      "Updated sdis-07_marguerite-29_2024-01-30T15-56-33.txt to class 0\n",
      "Updated sdis-07_marguerite-29_2024-01-30T16-17-01.txt to class 0\n",
      "Updated sdis-07_marguerite-29_2024-01-30T16-37-08.txt to class 0\n",
      "Updated sdis-07_marguerite-29_2024-01-30T16-40-05.txt to class 0\n",
      "Updated sdis-07_marguerite-29_2024-01-31T09-26-16.txt to class 0\n",
      "Updated sdis-07_marguerite-29_2024-01-31T09-49-45.txt to class 0\n",
      "Updated sdis-07_marguerite-29_2024-01-31T09-50-15.txt to class 0\n",
      "Updated sdis-07_marguerite-29_2024-01-31T10-10-18.txt to class 0\n",
      "Updated sdis-07_marguerite-29_2024-01-31T10-50-56.txt to class 0\n",
      "Updated sdis-07_marguerite-29_2024-01-31T11-38-18.txt to class 0\n",
      "Updated sdis-07_marguerite-29_2024-01-31T11-46-49.txt to class 0\n",
      "Updated sdis-07_marguerite-29_2024-02-05T13-57-57.txt to class 0\n",
      "Updated sdis-07_marguerite-29_2024-02-07T11-54-06.txt to class 0\n",
      "Updated sdis-07_marguerite-29_2024-02-07T11-59-07.txt to class 0\n",
      "Updated sdis-07_marguerite-29_2024-02-07T12-22-02.txt to class 0\n",
      "Updated sdis-07_marguerite-29_2024-02-07T12-26-30.txt to class 0\n",
      "Updated sdis-07_marguerite-29_2024-02-07T12-43-38.txt to class 0\n",
      "Updated sdis-07_marguerite-29_2024-02-15T10-47-41.txt to class 0\n",
      "Updated sdis-07_marguerite-29_2024-02-15T11-20-20.txt to class 0\n",
      "Updated sdis-07_marguerite-29_2024-02-15T11-20-43.txt to class 0\n",
      "Updated sdis-07_marguerite-29_2024-02-15T11-32-43.txt to class 0\n",
      "Updated sdis-07_marguerite-29_2024-02-19T09-19-33.txt to class 0\n",
      "Updated sdis-07_marguerite-29_2024-02-19T09-38-57.txt to class 0\n",
      "Updated sdis-07_marguerite-29_2024-02-19T09-48-58.txt to class 0\n",
      "Updated sdis-07_marguerite-29_2024-02-20T10-09-26.txt to class 0\n",
      "Updated sdis-07_marguerite-29_2024-02-20T10-23-25.txt to class 0\n",
      "Updated sdis-07_marguerite-29_2024-02-20T10-43-24.txt to class 0\n",
      "Updated sdis-07_marguerite-29_2024-02-20T11-30-25.txt to class 0\n",
      "Updated sdis-07_marguerite-29_2024-02-20T11-49-58.txt to class 0\n",
      "Updated sdis-07_marguerite-29_2024-02-21T10-38-28.txt to class 0\n",
      "Updated sdis-07_marguerite-29_2024-02-21T10-56-07.txt to class 0\n",
      "Updated sdis-07_marguerite-29_2024-02-21T10-57-04.txt to class 0\n",
      "Updated sdis-07_marguerite-29_2024-03-07T14-40-36.txt to class 0\n",
      "Updated sdis-07_marguerite-29_2024-03-15T10-17-23.txt to class 0\n",
      "Updated sdis-07_marguerite-29_2024-03-17T09-13-51.txt to class 0\n",
      "Updated sdis-07_marguerite-29_2024-03-17T10-19-08.txt to class 0\n",
      "Updated sdis-07_marguerite-29_2024-03-18T09-18-36.txt to class 0\n",
      "Updated sdis-07_marguerite-29_2024-03-24T11-41-15.txt to class 0\n",
      "Updated sdis-07_marguerite-29_2024-03-24T11-50-10.txt to class 0\n",
      "Updated sdis-07_marguerite-29_2024-03-24T11-51-40.txt to class 0\n",
      "Updated sdis-07_marguerite-29_2024-03-25T09-31-13.txt to class 0\n",
      "Updated sdis-07_marguerite-29_2024-03-25T09-56-11.txt to class 0\n",
      "Updated sdis-07_marguerite-339_2024-02-05T13-53-24.txt to class 0\n",
      "Updated sdis-07_marguerite-339_2024-02-05T14-30-54.txt to class 0\n",
      "Updated sdis-07_marguerite-339_2024-02-05T14-36-54.txt to class 0\n",
      "Updated sdis-07_marguerite-339_2024-02-05T14-42-54.txt to class 0\n",
      "Updated sdis-07_marguerite-339_2024-02-05T15-32-50.txt to class 0\n",
      "Updated sdis-07_marguerite-339_2024-02-05T15-33-22.txt to class 0\n",
      "Updated sdis-07_marguerite-339_2024-02-05T15-37-51.txt to class 0\n",
      "Updated sdis-07_marguerite-339_2024-02-05T16-11-22.txt to class 0\n",
      "Updated sdis-07_marguerite-339_2024-02-05T16-12-22.txt to class 0\n",
      "Updated sdis-07_marguerite-339_2024-02-06T15-28-48.txt to class 0\n",
      "Updated sdis-07_marguerite-339_2024-02-06T15-37-38.txt to class 0\n",
      "Updated sdis-07_marguerite-339_2024-02-06T16-24-26.txt to class 0\n",
      "Updated sdis-07_marguerite-339_2024-02-07T16-37-12.txt to class 0\n",
      "Updated sdis-07_marguerite-339_2024-02-07T16-41-43.txt to class 0\n",
      "Updated sdis-07_marguerite-339_2024-02-07T16-42-13.txt to class 0\n",
      "Updated sdis-07_marguerite-339_2024-02-07T17-07-51.txt to class 0\n",
      "Updated sdis-07_marguerite-339_2024-02-08T14-36-32.txt to class 0\n",
      "Updated sdis-07_marguerite-339_2024-02-13T18-20-59.txt to class 0\n",
      "Updated sdis-07_marguerite-339_2024-02-21T09-23-29.txt to class 0\n",
      "Updated sdis-07_marguerite-339_2024-02-21T09-24-30.txt to class 0\n",
      "Updated sdis-07_marguerite-339_2024-02-21T09-31-30.txt to class 0\n",
      "Updated sdis-07_marguerite-339_2024-02-21T09-41-29.txt to class 0\n",
      "Updated sdis-07_marguerite-339_2024-02-21T11-43-34.txt to class 0\n",
      "Updated sdis-07_marguerite-339_2024-02-21T11-45-34.txt to class 0\n",
      "Updated sdis-07_marguerite-339_2024-02-21T11-47-04.txt to class 0\n",
      "Updated sdis-07_marguerite-339_2024-02-21T11-56-33.txt to class 0\n",
      "Updated sdis-07_marguerite-339_2024-02-21T12-04-33.txt to class 0\n",
      "Updated sdis-07_marguerite-339_2024-02-21T13-25-06.txt to class 0\n",
      "Updated sdis-07_marguerite-339_2024-02-21T13-40-36.txt to class 0\n",
      "Updated sdis-07_marguerite-339_2024-02-21T13-41-06.txt to class 0\n",
      "Updated sdis-07_marguerite-339_2024-02-21T13-47-37.txt to class 0\n",
      "Updated sdis-07_marguerite-339_2024-02-21T13-56-37.txt to class 0\n",
      "Updated sdis-07_marguerite-339_2024-02-21T14-34-41.txt to class 0\n",
      "Updated sdis-07_marguerite-339_2024-02-21T14-37-08.txt to class 0\n",
      "Updated sdis-07_marguerite-339_2024-02-24T16-35-00.txt to class 0\n",
      "Updated sdis-07_marguerite-339_2024-03-13T16-36-27.txt to class 0\n",
      "Updated sdis-07_marguerite-339_2024-03-13T16-36-39.txt to class 0\n",
      "Updated sdis-07_marguerite-339_2024-03-17T17-57-34.txt to class 0\n",
      "Updated sdis-07_marguerite-339_2024-03-17T18-00-03.txt to class 0\n",
      "Updated sdis-07_marguerite-339_2024-03-17T18-19-33.txt to class 0\n",
      "Updated sdis-07_marguerite-339_2024-03-18T13-39-56.txt to class 0\n",
      "Updated sdis-07_marguerite-339_2024-03-18T13-40-17.txt to class 0\n",
      "Updated sdis-07_marguerite-339_2024-03-18T13-57-48.txt to class 0\n",
      "Updated sdis-07_marguerite-339_2024-03-18T14-16-49.txt to class 0\n",
      "Updated sdis-07_marguerite-339_2024-06-07T11-38-14.txt to class 0\n",
      "Updated sdis-07_serre-de-barre-108_2024-09-05T14-40-52.txt to class 0\n",
      "Updated sdis-07_serre-de-barre-160_2024-08-27T14-34-30.txt to class 0\n",
      "Updated sdis-07_serre-de-barre-160_2024-08-27T14-35-06.txt to class 0\n",
      "Updated sdis-07_serre-de-barre-160_2024-08-27T15-17-06.txt to class 0\n",
      "Updated sdis-07_serre-de-barre-160_2024-08-28T10-20-56.txt to class 0\n",
      "Updated sdis-07_serre-de-barre-160_2024-08-28T10-38-28.txt to class 0\n",
      "Updated sdis-07_serre-de-barre-160_2024-08-28T10-44-51.txt to class 0\n",
      "Updated sdis-07_serre-de-barre-160_2024-08-28T10-45-51.txt to class 0\n",
      "Updated sdis-07_serre-de-barre-160_2024-08-29T11-46-15.txt to class 0\n",
      "Updated sdis-07_serre-de-barre-250_2024-08-14T08-18-01.txt to class 0\n",
      "Updated sdis-07_serre-de-barre-250_2024-08-17T15-09-33.txt to class 0\n",
      "Updated sdis-07_serre-de-barre-350_2024-09-18T16-25-23.txt to class 0\n",
      "Updated sdis-07_serre-de-barre-4_2024-08-29T17-12-29.txt to class 0\n",
      "Updated sdis-77_croix-augas-110_2024-07-14T19-24-12.txt to class 0\n",
      "Updated sdis-77_croix-augas-110_2024-07-14T19-35-09.txt to class 0\n",
      "Updated sdis-77_croix-augas-110_2024-07-14T19-41-34.txt to class 0\n",
      "Updated sdis-77_croix-augas-110_2024-07-14T19-54-50.txt to class 0\n",
      "Updated sdis-77_croix-augas-110_2024-07-14T20-00-57.txt to class 0\n",
      "Updated sdis-77_croix-augas-110_2024-07-14T20-48-09.txt to class 0\n",
      "Updated sdis-77_croix-augas-110_2024-07-30T13-40-42.txt to class 0\n",
      "Updated sdis-77_croix-augas-110_2024-07-30T13-42-46.txt to class 0\n",
      "Updated sdis-77_croix-augas-110_2024-08-12T14-20-14.txt to class 0\n",
      "Updated sdis-77_croix-augas-161_2024-07-01T07-47-41.txt to class 0\n",
      "Updated sdis-77_croix-augas-161_2024-07-08T08-51-04.txt to class 0\n",
      "Updated sdis-77_croix-augas-161_2024-07-10T07-59-01.txt to class 0\n",
      "Updated sdis-77_croix-augas-161_2024-07-10T07-59-04.txt to class 0\n",
      "Updated sdis-77_croix-augas-161_2024-07-25T13-28-44.txt to class 0\n",
      "Updated sdis-77_croix-augas-161_2024-07-25T13-30-47.txt to class 0\n",
      "Updated sdis-77_croix-augas-161_2024-07-25T14-29-17.txt to class 0\n",
      "Updated sdis-77_croix-augas-161_2024-08-08T10-48-54.txt to class 0\n",
      "Updated sdis-77_croix-augas-161_2024-08-08T11-15-57.txt to class 0\n",
      "Updated sdis-77_croix-augas-161_2024-08-08T11-21-27.txt to class 0\n",
      "Updated sdis-77_croix-augas-161_2024-08-08T11-32-27.txt to class 0\n",
      "Updated sdis-77_croix-augas-161_2024-08-08T11-40-27.txt to class 0\n",
      "Updated sdis-77_croix-augas-161_2024-08-08T12-23-17.txt to class 0\n",
      "Updated sdis-77_croix-augas-161_2024-08-15T12-09-25.txt to class 0\n",
      "Updated sdis-77_croix-augas-161_2024-08-15T12-35-19.txt to class 0\n",
      "Updated sdis-77_croix-augas-161_2024-09-12T09-47-24.txt to class 0\n",
      "Updated sdis-77_croix-augas-212_2024-07-17T07-38-07.txt to class 0\n",
      "Updated sdis-77_croix-augas-212_2024-07-17T07-38-28.txt to class 0\n",
      "Updated sdis-77_croix-augas-212_2024-07-17T07-47-17.txt to class 0\n",
      "Updated sdis-77_croix-augas-212_2024-07-17T07-50-44.txt to class 0\n",
      "Updated sdis-77_croix-augas-212_2024-07-17T08-00-10.txt to class 0\n",
      "Updated sdis-77_croix-augas-212_2024-07-17T08-18-48.txt to class 0\n",
      "Updated sdis-77_croix-augas-212_2024-07-17T09-56-05.txt to class 0\n",
      "Updated sdis-77_croix-augas-212_2024-07-17T10-05-45.txt to class 0\n",
      "Updated sdis-77_croix-augas-212_2024-07-17T10-13-01.txt to class 0\n",
      "Updated sdis-77_croix-augas-212_2024-09-16T18-47-25.txt to class 0\n",
      "Updated sdis-77_croix-augas-220_2024-07-19T16-54-19.txt to class 0\n",
      "Updated sdis-77_croix-augas-220_2024-07-19T17-07-32.txt to class 0\n",
      "Updated sdis-77_croix-augas-220_2024-07-28T19-15-20.txt to class 0\n",
      "Updated sdis-77_croix-augas-265_2024-08-21T12-00-48.txt to class 0\n",
      "Updated sdis-77_croix-augas-59_2024-07-02T18-49-50.txt to class 0\n",
      "Updated sdis-77_croix-augas-59_2024-07-03T17-32-03.txt to class 0\n",
      "Updated sdis-77_croix-augas-59_2024-07-03T17-44-32.txt to class 0\n",
      "Updated sdis-77_croix-augas-59_2024-07-07T07-48-21.txt to class 0\n",
      "Updated sdis-77_croix-augas-59_2024-07-07T07-56-49.txt to class 0\n",
      "Updated sdis-77_croix-augas-59_2024-07-07T10-11-53.txt to class 0\n",
      "Updated sdis-77_croix-augas-59_2024-07-19T11-55-37.txt to class 0\n",
      "Updated sdis-77_croix-augas-59_2024-08-19T17-06-08.txt to class 0\n",
      "Updated sdis-77_croix-augas-59_2024-08-19T17-07-08.txt to class 0\n",
      "Updated sdis-77_croix-augas-59_2024-09-06T10-40-55.txt to class 0\n",
      "Updated sdis-77_croix-augas-59_2024-09-06T10-42-55.txt to class 0\n",
      "Updated sdis-77_croix-augas-59_2024-09-11T16-02-03.txt to class 0\n",
      "Updated sdis-77_croix-augas-59_2024-09-22T12-30-53.txt to class 0\n",
      "Updated sdis-77_croix-augas-8_2024-07-09T18-33-31.txt to class 0\n",
      "Updated sdis-77_croix-augas-8_2024-07-09T18-48-29.txt to class 0\n",
      "Updated sdis-77_croix-augas-8_2024-07-09T18-55-22.txt to class 0\n",
      "Updated sdis-77_croix-augas-8_2024-07-09T19-10-15.txt to class 0\n",
      "Updated sdis-77_croix-augas-8_2024-07-12T20-56-47.txt to class 0\n",
      "Updated sdis-77_croix-augas-8_2024-07-12T21-02-15.txt to class 0\n",
      "Updated sdis-77_croix-augas-8_2024-07-12T21-03-15.txt to class 0\n",
      "Updated sdis-77_croix-augas-8_2024-07-12T21-14-52.txt to class 0\n",
      "Updated sdis-77_croix-augas-8_2024-07-12T21-46-28.txt to class 0\n",
      "Updated sdis-77_croix-augas-8_2024-07-12T21-54-36.txt to class 0\n",
      "Updated sdis-77_croix-augas-8_2024-07-12T21-54-39.txt to class 0\n",
      "Updated sdis-77_croix-augas-8_2024-07-17T19-38-29.txt to class 0\n",
      "Updated sdis-77_croix-augas-8_2024-07-17T19-58-41.txt to class 0\n",
      "Updated sdis-77_croix-augas-8_2024-08-22T15-39-37.txt to class 0\n",
      "Updated sdis-77_croix-augas-8_2024-08-22T15-57-28.txt to class 0\n",
      "Updated sdis-77_croix-augas-8_2024-09-03T18-50-16.txt to class 0\n",
      "Updated sdis-77_croix-augas-8_2024-09-11T20-29-27.txt to class 0\n"
     ]
    }
   ],
   "source": [
    "import os\n",
    "\n",
    "# Path to your labels directory\n",
    "labels_dir = \"C:/Users/pc/Desktop/DL/Project/FarField/pyro_subset_yolo/labels/train\"\n",
    "\n",
    "# Iterate through label files\n",
    "for label_file in os.listdir(labels_dir):\n",
    "    label_path = os.path.join(labels_dir, label_file)\n",
    "\n",
    "    if os.path.isfile(label_path) and label_file.endswith(\".txt\"):\n",
    "        with open(label_path, 'r') as file:\n",
    "            lines = file.readlines()\n",
    "\n",
    "        # Replace class 1 with class 0\n",
    "        lines = [line.replace('1 ', '0 ') for line in lines]\n",
    "\n",
    "        # Save the modified file\n",
    "        with open(label_path, 'w') as file:\n",
    "            file.writelines(lines)\n",
    "\n",
    "        print(f\"Updated {label_file} to class 0\")\n"
   ]
  },
  {
   "cell_type": "code",
   "execution_count": 7,
   "id": "f82cbf74",
   "metadata": {},
   "outputs": [
    {
     "name": "stdout",
     "output_type": "stream",
     "text": [
      "Updated force-06_cabanelle-125_2024-02-24T09-07-28.txt to class 0\n",
      "Updated force-06_cabanelle-244_2024-09-19T14-03-44.txt to class 0\n",
      "Updated force-06_cabanelle-327_2024-01-01T16-49-40.txt to class 0\n",
      "Updated force-06_cabanelle-327_2024-02-23T08-55-55.txt to class 0\n",
      "Updated force-06_cabanelle-327_2024-04-02T18-49-16.txt to class 0\n",
      "Updated force-06_cabanelle-327_2024-04-02T18-59-14.txt to class 0\n",
      "Updated force-06_cabanelle-327_2024-04-04T19-29-52.txt to class 0\n",
      "Updated force-06_courmettes-160_2024-01-08T12-56-37.txt to class 0\n",
      "Updated force-06_courmettes-160_2024-02-13T12-56-15.txt to class 0\n",
      "Updated force-06_courmettes-160_2024-02-13T14-10-16.txt to class 0\n",
      "Updated force-06_courmettes-160_2024-04-03T08-36-45.txt to class 0\n",
      "Updated force-06_courmettes-160_2024-04-03T09-51-07.txt to class 0\n",
      "Updated force-06_courmettes-160_2024-04-03T09-56-17.txt to class 0\n",
      "Updated force-06_courmettes-160_2024-04-03T10-22-47.txt to class 0\n",
      "Updated force-06_courmettes-160_2024-04-03T11-33-33.txt to class 0\n",
      "Updated force-06_courmettes-212_2024-01-21T12-04-53.txt to class 0\n",
      "Updated force-06_courmettes-212_2024-01-21T12-04-55.txt to class 0\n",
      "Updated force-06_courmettes-212_2024-01-21T12-11-22.txt to class 0\n",
      "Updated force-06_courmettes-212_2024-01-21T12-17-23.txt to class 0\n",
      "Updated force-06_courmettes-212_2024-01-24T14-13-25.txt to class 0\n",
      "Updated force-06_courmettes-212_2024-01-24T15-11-49.txt to class 0\n",
      "Updated force-06_courmettes-212_2024-01-24T15-19-49.txt to class 0\n",
      "Updated force-06_courmettes-212_2024-01-24T16-13-24.txt to class 0\n",
      "Updated force-06_courmettes-212_2024-02-01T08-23-46.txt to class 0\n",
      "Updated force-06_courmettes-212_2024-02-16T14-45-59.txt to class 0\n",
      "Updated force-06_courmettes-212_2024-02-16T14-56-29.txt to class 0\n",
      "Updated force-06_courmettes-212_2024-02-16T14-57-20.txt to class 0\n",
      "Updated force-06_courmettes-212_2024-02-16T14-57-50.txt to class 0\n",
      "Updated force-06_courmettes-275_2024-01-28T15-55-11.txt to class 0\n",
      "Updated force-06_ferion-142_2024-01-29T10-30-26.txt to class 0\n",
      "Updated force-06_ferion-142_2024-01-29T10-33-56.txt to class 0\n",
      "Updated force-06_ferion-142_2024-01-29T11-38-59.txt to class 0\n",
      "Updated force-06_valbonne-138_2024-01-02T10-49-31.txt to class 0\n",
      "Updated force-06_valbonne-138_2024-01-02T11-14-32.txt to class 0\n",
      "Updated force-06_valbonne-138_2024-01-12T11-55-12.txt to class 0\n",
      "Updated force-06_valbonne-138_2024-01-23T12-30-36.txt to class 0\n",
      "Updated force-06_valbonne-138_2024-01-23T13-15-39.txt to class 0\n",
      "Updated force-06_valbonne-349_2024-01-08T12-24-48.txt to class 0\n",
      "Updated force-06_valbonne-349_2024-01-24T09-17-54.txt to class 0\n",
      "Updated sdis-07_brison-110_2024-01-27T14-35-43.txt to class 0\n",
      "Updated sdis-07_brison-110_2024-02-16T16-39-58.txt to class 0\n",
      "Updated sdis-07_brison-110_2024-02-16T17-39-36.txt to class 0\n",
      "Updated sdis-07_brison-110_2024-09-05T11-29-55.txt to class 0\n",
      "Updated sdis-07_brison-200_2024-01-26T11-58-59.txt to class 0\n",
      "Updated sdis-07_brison-200_2024-01-26T14-48-04.txt to class 0\n",
      "Updated sdis-07_brison-200_2024-01-26T15-24-44.txt to class 0\n",
      "Updated sdis-07_brison-200_2024-01-26T15-31-05.txt to class 0\n",
      "Updated sdis-07_brison-200_2024-01-26T15-50-07.txt to class 0\n",
      "Updated sdis-07_brison-200_2024-02-02T11-17-24.txt to class 0\n",
      "Updated sdis-07_brison-200_2024-02-02T11-24-32.txt to class 0\n",
      "Updated sdis-07_brison-200_2024-02-02T12-10-39.txt to class 0\n",
      "Updated sdis-07_brison-200_2024-02-02T12-19-10.txt to class 0\n",
      "Updated sdis-07_brison-200_2024-02-02T12-26-39.txt to class 0\n",
      "Updated sdis-07_brison-200_2024-02-02T14-03-43.txt to class 0\n",
      "Updated sdis-07_brison-200_2024-02-02T15-19-15.txt to class 0\n",
      "Updated sdis-07_brison-200_2024-02-02T15-20-15.txt to class 0\n",
      "Updated sdis-07_brison-200_2024-02-02T15-30-16.txt to class 0\n",
      "Updated sdis-07_brison-200_2024-02-02T16-25-48.txt to class 0\n",
      "Updated sdis-07_brison-200_2024-02-02T16-42-24.txt to class 0\n",
      "Updated sdis-07_brison-200_2024-02-02T16-43-47.txt to class 0\n",
      "Updated sdis-07_brison-200_2024-02-04T16-47-57.txt to class 0\n",
      "Updated sdis-07_brison-200_2024-02-29T13-49-33.txt to class 0\n",
      "Updated sdis-07_brison-200_2024-03-02T10-41-31.txt to class 0\n",
      "Updated sdis-07_brison-200_2024-03-02T11-16-55.txt to class 0\n",
      "Updated sdis-07_brison-200_2024-03-06T09-45-40.txt to class 0\n",
      "Updated sdis-07_brison-200_2024-03-06T09-49-40.txt to class 0\n",
      "Updated sdis-07_brison-200_2024-03-07T11-39-36.txt to class 0\n",
      "Updated sdis-07_brison-200_2024-03-07T11-44-28.txt to class 0\n",
      "Updated sdis-07_brison-20_2024-01-12T10-25-30.txt to class 0\n",
      "Updated sdis-07_brison-20_2024-01-12T11-05-33.txt to class 0\n",
      "Updated sdis-07_brison-20_2024-02-05T17-21-42.txt to class 0\n",
      "Updated sdis-07_brison-20_2024-02-05T17-23-41.txt to class 0\n",
      "Updated sdis-07_brison-20_2024-02-06T12-10-40.txt to class 0\n",
      "Updated sdis-07_brison-20_2024-02-06T13-06-57.txt to class 0\n",
      "Updated sdis-07_brison-20_2024-02-06T13-12-28.txt to class 0\n",
      "Updated sdis-07_brison-20_2024-02-15T09-24-49.txt to class 0\n",
      "Updated sdis-07_brison-20_2024-02-15T09-26-49.txt to class 0\n",
      "Updated sdis-07_brison-20_2024-02-15T10-07-20.txt to class 0\n",
      "Updated sdis-07_brison-20_2024-02-24T15-01-07.txt to class 0\n",
      "Updated sdis-07_brison-20_2024-02-24T17-44-04.txt to class 0\n",
      "Updated sdis-07_brison-226_2024-09-15T15-18-57.txt to class 0\n",
      "Updated sdis-07_brison-290_2024-02-03T17-05-59.txt to class 0\n",
      "Updated sdis-07_brison-290_2024-02-03T17-06-14.txt to class 0\n",
      "Updated sdis-07_brison-290_2024-02-24T15-23-26.txt to class 0\n",
      "Updated sdis-07_brison-290_2024-02-24T15-37-27.txt to class 0\n",
      "Updated sdis-07_brison-290_2024-03-08T08-10-29.txt to class 0\n",
      "Updated sdis-07_brison-290_2024-09-05T10-40-25.txt to class 0\n",
      "Updated sdis-07_marguerite-185_2024-03-25T10-05-50.txt to class 0\n",
      "Updated sdis-07_marguerite-282_2024-02-07T15-27-46.txt to class 0\n",
      "Updated sdis-07_marguerite-282_2024-03-07T15-33-06.txt to class 0\n",
      "Updated sdis-07_marguerite-282_2024-03-07T15-35-37.txt to class 0\n",
      "Updated sdis-07_marguerite-282_2024-03-20T15-57-35.txt to class 0\n",
      "Updated sdis-07_marguerite-29_2024-01-21T13-19-16.txt to class 0\n",
      "Updated sdis-77_croix-augas-161_2024-09-12T07-45-38.txt to class 0\n",
      "Updated sdis-77_croix-augas-59_2024-09-01T18-50-32.txt to class 0\n",
      "Updated sdis-77_croix-augas-8_2024-09-14T18-55-59.txt to class 0\n",
      "Updated sdis-77_croix-augas-8_2024-09-14T19-02-29.txt to class 0\n",
      "Updated sdis-77_croix-augas-8_2024-09-14T19-04-04.txt to class 0\n",
      "Updated sdis-77_croix-augas-8_2024-09-14T19-11-08.txt to class 0\n",
      "Updated sdis-77_croix-augas-8_2024-09-14T20-05-48.txt to class 0\n"
     ]
    }
   ],
   "source": [
    "import os\n",
    "\n",
    "# Path to your labels directory\n",
    "labels_dir = \"C:/Users/pc/Desktop/DL/Project/FarField/pyro_subset_yolo/labels/val\"\n",
    "\n",
    "# Iterate through label files\n",
    "for label_file in os.listdir(labels_dir):\n",
    "    label_path = os.path.join(labels_dir, label_file)\n",
    "\n",
    "    if os.path.isfile(label_path) and label_file.endswith(\".txt\"):\n",
    "        with open(label_path, 'r') as file:\n",
    "            lines = file.readlines()\n",
    "\n",
    "        # Replace class 1 with class 0\n",
    "        lines = [line.replace('1 ', '0 ') for line in lines]\n",
    "\n",
    "        # Save the modified file\n",
    "        with open(label_path, 'w') as file:\n",
    "            file.writelines(lines)\n",
    "\n",
    "        print(f\"Updated {label_file} to class 0\")\n"
   ]
  },
  {
   "cell_type": "markdown",
   "id": "26d1f5af",
   "metadata": {},
   "source": [
    "##  Training YOLOv8 on Far-Field Fire Detection\n",
    "\n",
    "We utilize the **YOLOv8** object detection model to train on a custom dataset defined in `farfield.yaml`. The configuration for training is as follows:\n",
    "\n",
    "- 🧠 **Model**: `yolov8n.pt` (Nano variant — optimized for speed and prototyping)\n",
    "- 📁 **Dataset**: Defined in `farfield.yaml`\n",
    "- 🖼️ **Image Size**: 640×640\n",
    "- 🔁 **Epochs**: 100\n",
    "- 📦 **Batch Size**: 16\n",
    "- 💻 **Device**: GPU (device 0)\n",
    "\n",
    "This setup helps the model learn to detect **fire in far-field scenarios**, which often includes distant flames or smoke in wide-view environments.\n"
   ]
  },
  {
   "cell_type": "code",
   "execution_count": 8,
   "id": "439a2da3",
   "metadata": {},
   "outputs": [
    {
     "name": "stdout",
     "output_type": "stream",
     "text": [
      "GPU available: True\n",
      "Current device: NVIDIA GeForce RTX 3070\n"
     ]
    }
   ],
   "source": [
    "import torch\n",
    "print(\"GPU available:\", torch.cuda.is_available())\n",
    "print(\"Current device:\", torch.cuda.get_device_name(0))"
   ]
  },
  {
   "cell_type": "code",
   "execution_count": 9,
   "id": "eb2b3123",
   "metadata": {},
   "outputs": [
    {
     "name": "stdout",
     "output_type": "stream",
     "text": [
      "Ultralytics 8.3.107  Python-3.11.6 torch-2.5.1+cu121 CUDA:0 (NVIDIA GeForce RTX 3070, 8192MiB)\n",
      "\u001b[34m\u001b[1mengine\\trainer: \u001b[0mtask=detect, mode=train, model=yolov8n.pt, data=farfield.yaml, epochs=100, time=None, patience=100, batch=16, imgsz=640, save=True, save_period=-1, cache=False, device=0, workers=8, project=None, name=train, exist_ok=False, pretrained=True, optimizer=auto, verbose=True, seed=0, deterministic=True, single_cls=False, rect=False, cos_lr=False, close_mosaic=10, resume=False, amp=True, fraction=1.0, profile=False, freeze=None, multi_scale=False, overlap_mask=True, mask_ratio=4, dropout=0.0, val=True, split=val, save_json=False, conf=None, iou=0.7, max_det=300, half=False, dnn=False, plots=True, source=None, vid_stride=1, stream_buffer=False, visualize=False, augment=False, agnostic_nms=False, classes=None, retina_masks=False, embed=None, show=False, save_frames=False, save_txt=False, save_conf=False, save_crop=False, show_labels=True, show_conf=True, show_boxes=True, line_width=None, format=torchscript, keras=False, optimize=False, int8=False, dynamic=False, simplify=True, opset=None, workspace=None, nms=False, lr0=0.01, lrf=0.01, momentum=0.937, weight_decay=0.0005, warmup_epochs=3.0, warmup_momentum=0.8, warmup_bias_lr=0.1, box=7.5, cls=0.5, dfl=1.5, pose=12.0, kobj=1.0, nbs=64, hsv_h=0.015, hsv_s=0.7, hsv_v=0.4, degrees=0.0, translate=0.1, scale=0.5, shear=0.0, perspective=0.0, flipud=0.0, fliplr=0.5, bgr=0.0, mosaic=1.0, mixup=0.0, copy_paste=0.0, copy_paste_mode=flip, auto_augment=randaugment, erasing=0.4, crop_fraction=1.0, cfg=None, tracker=botsort.yaml, save_dir=runs\\detect\\train\n",
      "Overriding model.yaml nc=80 with nc=1\n",
      "\n",
      "                   from  n    params  module                                       arguments                     \n",
      "  0                  -1  1       464  ultralytics.nn.modules.conv.Conv             [3, 16, 3, 2]                 \n",
      "  1                  -1  1      4672  ultralytics.nn.modules.conv.Conv             [16, 32, 3, 2]                \n",
      "  2                  -1  1      7360  ultralytics.nn.modules.block.C2f             [32, 32, 1, True]             \n",
      "  3                  -1  1     18560  ultralytics.nn.modules.conv.Conv             [32, 64, 3, 2]                \n",
      "  4                  -1  2     49664  ultralytics.nn.modules.block.C2f             [64, 64, 2, True]             \n",
      "  5                  -1  1     73984  ultralytics.nn.modules.conv.Conv             [64, 128, 3, 2]               \n",
      "  6                  -1  2    197632  ultralytics.nn.modules.block.C2f             [128, 128, 2, True]           \n",
      "  7                  -1  1    295424  ultralytics.nn.modules.conv.Conv             [128, 256, 3, 2]              \n",
      "  8                  -1  1    460288  ultralytics.nn.modules.block.C2f             [256, 256, 1, True]           \n",
      "  9                  -1  1    164608  ultralytics.nn.modules.block.SPPF            [256, 256, 5]                 \n",
      " 10                  -1  1         0  torch.nn.modules.upsampling.Upsample         [None, 2, 'nearest']          \n",
      " 11             [-1, 6]  1         0  ultralytics.nn.modules.conv.Concat           [1]                           \n",
      " 12                  -1  1    148224  ultralytics.nn.modules.block.C2f             [384, 128, 1]                 \n",
      " 13                  -1  1         0  torch.nn.modules.upsampling.Upsample         [None, 2, 'nearest']          \n",
      " 14             [-1, 4]  1         0  ultralytics.nn.modules.conv.Concat           [1]                           \n",
      " 15                  -1  1     37248  ultralytics.nn.modules.block.C2f             [192, 64, 1]                  \n",
      " 16                  -1  1     36992  ultralytics.nn.modules.conv.Conv             [64, 64, 3, 2]                \n",
      " 17            [-1, 12]  1         0  ultralytics.nn.modules.conv.Concat           [1]                           \n",
      " 18                  -1  1    123648  ultralytics.nn.modules.block.C2f             [192, 128, 1]                 \n",
      " 19                  -1  1    147712  ultralytics.nn.modules.conv.Conv             [128, 128, 3, 2]              \n",
      " 20             [-1, 9]  1         0  ultralytics.nn.modules.conv.Concat           [1]                           \n",
      " 21                  -1  1    493056  ultralytics.nn.modules.block.C2f             [384, 256, 1]                 \n",
      " 22        [15, 18, 21]  1    751507  ultralytics.nn.modules.head.Detect           [1, [64, 128, 256]]           \n",
      "Model summary: 129 layers, 3,011,043 parameters, 3,011,027 gradients, 8.2 GFLOPs\n",
      "\n",
      "Transferred 319/355 items from pretrained weights\n",
      "\u001b[34m\u001b[1mTensorBoard: \u001b[0mStart with 'tensorboard --logdir runs\\detect\\train', view at http://localhost:6006/\n",
      "Freezing layer 'model.22.dfl.conv.weight'\n",
      "\u001b[34m\u001b[1mAMP: \u001b[0mrunning Automatic Mixed Precision (AMP) checks...\n",
      "\u001b[34m\u001b[1mAMP: \u001b[0mchecks passed \n"
     ]
    },
    {
     "name": "stderr",
     "output_type": "stream",
     "text": [
      "\u001b[34m\u001b[1mtrain: \u001b[0mScanning C:\\Users\\pc\\Desktop\\DL\\Project\\FarField\\pyro_subset_yolo\\labels\\train... 1000 images, 167 backgrounds, 0 corrupt: 100%|██████████| 1000/1000 [00:01<00:00, 605.86it/s]\n"
     ]
    },
    {
     "name": "stdout",
     "output_type": "stream",
     "text": [
      "\u001b[34m\u001b[1mtrain: \u001b[0mNew cache created: C:\\Users\\pc\\Desktop\\DL\\Project\\FarField\\pyro_subset_yolo\\labels\\train.cache\n"
     ]
    },
    {
     "name": "stderr",
     "output_type": "stream",
     "text": [
      "\u001b[34m\u001b[1mval: \u001b[0mScanning C:\\Users\\pc\\Desktop\\DL\\Project\\FarField\\pyro_subset_yolo\\labels\\val... 100 images, 17 backgrounds, 0 corrupt: 100%|██████████| 100/100 [00:00<00:00, 391.28it/s]"
     ]
    },
    {
     "name": "stdout",
     "output_type": "stream",
     "text": [
      "\u001b[34m\u001b[1mval: \u001b[0mNew cache created: C:\\Users\\pc\\Desktop\\DL\\Project\\FarField\\pyro_subset_yolo\\labels\\val.cache\n"
     ]
    },
    {
     "name": "stderr",
     "output_type": "stream",
     "text": [
      "\n"
     ]
    },
    {
     "name": "stdout",
     "output_type": "stream",
     "text": [
      "Plotting labels to runs\\detect\\train\\labels.jpg... \n",
      "\u001b[34m\u001b[1moptimizer:\u001b[0m 'optimizer=auto' found, ignoring 'lr0=0.01' and 'momentum=0.937' and determining best 'optimizer', 'lr0' and 'momentum' automatically... \n",
      "\u001b[34m\u001b[1moptimizer:\u001b[0m AdamW(lr=0.002, momentum=0.9) with parameter groups 57 weight(decay=0.0), 64 weight(decay=0.0005), 63 bias(decay=0.0)\n",
      "\u001b[34m\u001b[1mTensorBoard: \u001b[0mmodel graph visualization added \n",
      "Image sizes 640 train, 640 val\n",
      "Using 8 dataloader workers\n",
      "Logging results to \u001b[1mruns\\detect\\train\u001b[0m\n",
      "Starting training for 100 epochs...\n",
      "\n",
      "      Epoch    GPU_mem   box_loss   cls_loss   dfl_loss  Instances       Size\n"
     ]
    },
    {
     "name": "stderr",
     "output_type": "stream",
     "text": [
      "      1/100      2.05G      2.329      5.995      1.319         12        640: 100%|██████████| 63/63 [00:08<00:00,  7.61it/s]\n",
      "                 Class     Images  Instances      Box(P          R      mAP50  mAP50-95): 100%|██████████| 4/4 [00:00<00:00,  7.46it/s]"
     ]
    },
    {
     "name": "stdout",
     "output_type": "stream",
     "text": [
      "                   all        100         98    0.00165      0.133     0.0383     0.0157\n"
     ]
    },
    {
     "name": "stderr",
     "output_type": "stream",
     "text": [
      "\n"
     ]
    },
    {
     "name": "stdout",
     "output_type": "stream",
     "text": [
      "\n",
      "      Epoch    GPU_mem   box_loss   cls_loss   dfl_loss  Instances       Size\n"
     ]
    },
    {
     "name": "stderr",
     "output_type": "stream",
     "text": [
      "      2/100      2.05G      2.221      3.886      1.276         15        640: 100%|██████████| 63/63 [00:06<00:00,  9.11it/s]\n",
      "                 Class     Images  Instances      Box(P          R      mAP50  mAP50-95): 100%|██████████| 4/4 [00:00<00:00,  6.95it/s]"
     ]
    },
    {
     "name": "stdout",
     "output_type": "stream",
     "text": [
      "                   all        100         98      0.355      0.224        0.2     0.0708\n"
     ]
    },
    {
     "name": "stderr",
     "output_type": "stream",
     "text": [
      "\n"
     ]
    },
    {
     "name": "stdout",
     "output_type": "stream",
     "text": [
      "\n",
      "      Epoch    GPU_mem   box_loss   cls_loss   dfl_loss  Instances       Size\n"
     ]
    },
    {
     "name": "stderr",
     "output_type": "stream",
     "text": [
      "      3/100      2.06G      2.169      3.017      1.292         11        640: 100%|██████████| 63/63 [00:06<00:00,  9.21it/s]\n",
      "                 Class     Images  Instances      Box(P          R      mAP50  mAP50-95): 100%|██████████| 4/4 [00:00<00:00, 10.13it/s]"
     ]
    },
    {
     "name": "stdout",
     "output_type": "stream",
     "text": [
      "                   all        100         98      0.425      0.388      0.326      0.129\n"
     ]
    },
    {
     "name": "stderr",
     "output_type": "stream",
     "text": [
      "\n"
     ]
    },
    {
     "name": "stdout",
     "output_type": "stream",
     "text": [
      "\n",
      "      Epoch    GPU_mem   box_loss   cls_loss   dfl_loss  Instances       Size\n"
     ]
    },
    {
     "name": "stderr",
     "output_type": "stream",
     "text": [
      "      4/100      2.06G      2.132      2.445      1.277         17        640: 100%|██████████| 63/63 [00:06<00:00,  9.45it/s]\n",
      "                 Class     Images  Instances      Box(P          R      mAP50  mAP50-95): 100%|██████████| 4/4 [00:00<00:00, 10.06it/s]"
     ]
    },
    {
     "name": "stdout",
     "output_type": "stream",
     "text": [
      "                   all        100         98      0.344      0.316      0.229     0.0933\n"
     ]
    },
    {
     "name": "stderr",
     "output_type": "stream",
     "text": [
      "\n"
     ]
    },
    {
     "name": "stdout",
     "output_type": "stream",
     "text": [
      "\n",
      "      Epoch    GPU_mem   box_loss   cls_loss   dfl_loss  Instances       Size\n"
     ]
    },
    {
     "name": "stderr",
     "output_type": "stream",
     "text": [
      "      5/100      2.06G      2.118      2.237      1.259         12        640: 100%|██████████| 63/63 [00:06<00:00,  9.67it/s]\n",
      "                 Class     Images  Instances      Box(P          R      mAP50  mAP50-95): 100%|██████████| 4/4 [00:00<00:00, 10.58it/s]"
     ]
    },
    {
     "name": "stdout",
     "output_type": "stream",
     "text": [
      "                   all        100         98      0.354      0.306      0.274      0.117\n"
     ]
    },
    {
     "name": "stderr",
     "output_type": "stream",
     "text": [
      "\n"
     ]
    },
    {
     "name": "stdout",
     "output_type": "stream",
     "text": [
      "\n",
      "      Epoch    GPU_mem   box_loss   cls_loss   dfl_loss  Instances       Size\n"
     ]
    },
    {
     "name": "stderr",
     "output_type": "stream",
     "text": [
      "      6/100      2.06G      2.095      2.137      1.242         16        640: 100%|██████████| 63/63 [00:06<00:00,  9.92it/s]\n",
      "                 Class     Images  Instances      Box(P          R      mAP50  mAP50-95): 100%|██████████| 4/4 [00:00<00:00, 10.15it/s]"
     ]
    },
    {
     "name": "stdout",
     "output_type": "stream",
     "text": [
      "                   all        100         98      0.392      0.439      0.334      0.153\n"
     ]
    },
    {
     "name": "stderr",
     "output_type": "stream",
     "text": [
      "\n"
     ]
    },
    {
     "name": "stdout",
     "output_type": "stream",
     "text": [
      "\n",
      "      Epoch    GPU_mem   box_loss   cls_loss   dfl_loss  Instances       Size\n"
     ]
    },
    {
     "name": "stderr",
     "output_type": "stream",
     "text": [
      "      7/100      2.06G      2.008      1.936      1.251         15        640: 100%|██████████| 63/63 [00:06<00:00,  9.79it/s]\n",
      "                 Class     Images  Instances      Box(P          R      mAP50  mAP50-95): 100%|██████████| 4/4 [00:00<00:00, 10.93it/s]"
     ]
    },
    {
     "name": "stdout",
     "output_type": "stream",
     "text": [
      "                   all        100         98      0.478      0.306      0.318      0.105\n"
     ]
    },
    {
     "name": "stderr",
     "output_type": "stream",
     "text": [
      "\n"
     ]
    },
    {
     "name": "stdout",
     "output_type": "stream",
     "text": [
      "\n",
      "      Epoch    GPU_mem   box_loss   cls_loss   dfl_loss  Instances       Size\n"
     ]
    },
    {
     "name": "stderr",
     "output_type": "stream",
     "text": [
      "      8/100      2.06G      1.951      1.799      1.227         16        640: 100%|██████████| 63/63 [00:06<00:00,  9.85it/s]\n",
      "                 Class     Images  Instances      Box(P          R      mAP50  mAP50-95): 100%|██████████| 4/4 [00:00<00:00,  9.76it/s]"
     ]
    },
    {
     "name": "stdout",
     "output_type": "stream",
     "text": [
      "                   all        100         98      0.384      0.469      0.377       0.17\n"
     ]
    },
    {
     "name": "stderr",
     "output_type": "stream",
     "text": [
      "\n"
     ]
    },
    {
     "name": "stdout",
     "output_type": "stream",
     "text": [
      "\n",
      "      Epoch    GPU_mem   box_loss   cls_loss   dfl_loss  Instances       Size\n"
     ]
    },
    {
     "name": "stderr",
     "output_type": "stream",
     "text": [
      "      9/100      2.06G      1.915      1.759      1.204         14        640: 100%|██████████| 63/63 [00:06<00:00,  9.57it/s]\n",
      "                 Class     Images  Instances      Box(P          R      mAP50  mAP50-95): 100%|██████████| 4/4 [00:00<00:00,  8.23it/s]"
     ]
    },
    {
     "name": "stdout",
     "output_type": "stream",
     "text": [
      "                   all        100         98      0.487      0.504      0.427      0.188\n"
     ]
    },
    {
     "name": "stderr",
     "output_type": "stream",
     "text": [
      "\n"
     ]
    },
    {
     "name": "stdout",
     "output_type": "stream",
     "text": [
      "\n",
      "      Epoch    GPU_mem   box_loss   cls_loss   dfl_loss  Instances       Size\n"
     ]
    },
    {
     "name": "stderr",
     "output_type": "stream",
     "text": [
      "     10/100      2.06G      1.964      1.784      1.239         19        640: 100%|██████████| 63/63 [00:06<00:00,  9.44it/s]\n",
      "                 Class     Images  Instances      Box(P          R      mAP50  mAP50-95): 100%|██████████| 4/4 [00:00<00:00,  9.85it/s]"
     ]
    },
    {
     "name": "stdout",
     "output_type": "stream",
     "text": [
      "                   all        100         98      0.523      0.459      0.437      0.187\n"
     ]
    },
    {
     "name": "stderr",
     "output_type": "stream",
     "text": [
      "\n"
     ]
    },
    {
     "name": "stdout",
     "output_type": "stream",
     "text": [
      "\n",
      "      Epoch    GPU_mem   box_loss   cls_loss   dfl_loss  Instances       Size\n"
     ]
    },
    {
     "name": "stderr",
     "output_type": "stream",
     "text": [
      "     11/100      2.06G      1.915      1.762      1.187         22        640: 100%|██████████| 63/63 [00:06<00:00,  9.64it/s]\n",
      "                 Class     Images  Instances      Box(P          R      mAP50  mAP50-95): 100%|██████████| 4/4 [00:00<00:00, 11.13it/s]"
     ]
    },
    {
     "name": "stdout",
     "output_type": "stream",
     "text": [
      "                   all        100         98      0.385      0.459      0.305      0.126\n"
     ]
    },
    {
     "name": "stderr",
     "output_type": "stream",
     "text": [
      "\n"
     ]
    },
    {
     "name": "stdout",
     "output_type": "stream",
     "text": [
      "\n",
      "      Epoch    GPU_mem   box_loss   cls_loss   dfl_loss  Instances       Size\n"
     ]
    },
    {
     "name": "stderr",
     "output_type": "stream",
     "text": [
      "     12/100      2.06G      1.877      1.614      1.214         12        640: 100%|██████████| 63/63 [00:06<00:00, 10.01it/s]\n",
      "                 Class     Images  Instances      Box(P          R      mAP50  mAP50-95): 100%|██████████| 4/4 [00:00<00:00, 10.81it/s]"
     ]
    },
    {
     "name": "stdout",
     "output_type": "stream",
     "text": [
      "                   all        100         98      0.609       0.49       0.51      0.218\n"
     ]
    },
    {
     "name": "stderr",
     "output_type": "stream",
     "text": [
      "\n"
     ]
    },
    {
     "name": "stdout",
     "output_type": "stream",
     "text": [
      "\n",
      "      Epoch    GPU_mem   box_loss   cls_loss   dfl_loss  Instances       Size\n"
     ]
    },
    {
     "name": "stderr",
     "output_type": "stream",
     "text": [
      "     13/100      2.06G      1.858      1.577      1.198          5        640: 100%|██████████| 63/63 [00:06<00:00,  9.21it/s]\n",
      "                 Class     Images  Instances      Box(P          R      mAP50  mAP50-95): 100%|██████████| 4/4 [00:00<00:00, 10.11it/s]"
     ]
    },
    {
     "name": "stdout",
     "output_type": "stream",
     "text": [
      "                   all        100         98      0.463       0.49      0.422      0.156\n"
     ]
    },
    {
     "name": "stderr",
     "output_type": "stream",
     "text": [
      "\n"
     ]
    },
    {
     "name": "stdout",
     "output_type": "stream",
     "text": [
      "\n",
      "      Epoch    GPU_mem   box_loss   cls_loss   dfl_loss  Instances       Size\n"
     ]
    },
    {
     "name": "stderr",
     "output_type": "stream",
     "text": [
      "     14/100      2.06G      1.876      1.681      1.224         11        640: 100%|██████████| 63/63 [00:06<00:00,  9.95it/s]\n",
      "                 Class     Images  Instances      Box(P          R      mAP50  mAP50-95): 100%|██████████| 4/4 [00:00<00:00, 11.87it/s]"
     ]
    },
    {
     "name": "stdout",
     "output_type": "stream",
     "text": [
      "                   all        100         98      0.454      0.408      0.324      0.117\n"
     ]
    },
    {
     "name": "stderr",
     "output_type": "stream",
     "text": [
      "\n"
     ]
    },
    {
     "name": "stdout",
     "output_type": "stream",
     "text": [
      "\n",
      "      Epoch    GPU_mem   box_loss   cls_loss   dfl_loss  Instances       Size\n"
     ]
    },
    {
     "name": "stderr",
     "output_type": "stream",
     "text": [
      "     15/100      2.06G      1.816       1.56       1.21         13        640: 100%|██████████| 63/63 [00:06<00:00,  9.93it/s]\n",
      "                 Class     Images  Instances      Box(P          R      mAP50  mAP50-95): 100%|██████████| 4/4 [00:00<00:00, 10.67it/s]"
     ]
    },
    {
     "name": "stdout",
     "output_type": "stream",
     "text": [
      "                   all        100         98      0.515      0.398      0.383      0.149\n"
     ]
    },
    {
     "name": "stderr",
     "output_type": "stream",
     "text": [
      "\n"
     ]
    },
    {
     "name": "stdout",
     "output_type": "stream",
     "text": [
      "\n",
      "      Epoch    GPU_mem   box_loss   cls_loss   dfl_loss  Instances       Size\n"
     ]
    },
    {
     "name": "stderr",
     "output_type": "stream",
     "text": [
      "     16/100      2.06G       1.84      1.518      1.179         14        640: 100%|██████████| 63/63 [00:06<00:00,  9.20it/s]\n",
      "                 Class     Images  Instances      Box(P          R      mAP50  mAP50-95): 100%|██████████| 4/4 [00:00<00:00,  9.67it/s]"
     ]
    },
    {
     "name": "stdout",
     "output_type": "stream",
     "text": [
      "                   all        100         98      0.623       0.48      0.512      0.225\n"
     ]
    },
    {
     "name": "stderr",
     "output_type": "stream",
     "text": [
      "\n"
     ]
    },
    {
     "name": "stdout",
     "output_type": "stream",
     "text": [
      "\n",
      "      Epoch    GPU_mem   box_loss   cls_loss   dfl_loss  Instances       Size\n"
     ]
    },
    {
     "name": "stderr",
     "output_type": "stream",
     "text": [
      "     17/100      2.06G       1.71      1.421      1.138         11        640: 100%|██████████| 63/63 [00:06<00:00,  9.30it/s]\n",
      "                 Class     Images  Instances      Box(P          R      mAP50  mAP50-95): 100%|██████████| 4/4 [00:00<00:00, 11.27it/s]"
     ]
    },
    {
     "name": "stdout",
     "output_type": "stream",
     "text": [
      "                   all        100         98      0.455       0.49      0.401      0.191\n"
     ]
    },
    {
     "name": "stderr",
     "output_type": "stream",
     "text": [
      "\n"
     ]
    },
    {
     "name": "stdout",
     "output_type": "stream",
     "text": [
      "\n",
      "      Epoch    GPU_mem   box_loss   cls_loss   dfl_loss  Instances       Size\n"
     ]
    },
    {
     "name": "stderr",
     "output_type": "stream",
     "text": [
      "     18/100      2.06G      1.825      1.592      1.205         21        640: 100%|██████████| 63/63 [00:06<00:00,  9.34it/s]\n",
      "                 Class     Images  Instances      Box(P          R      mAP50  mAP50-95): 100%|██████████| 4/4 [00:00<00:00,  9.55it/s]"
     ]
    },
    {
     "name": "stdout",
     "output_type": "stream",
     "text": [
      "                   all        100         98      0.651      0.551      0.557      0.257\n"
     ]
    },
    {
     "name": "stderr",
     "output_type": "stream",
     "text": [
      "\n"
     ]
    },
    {
     "name": "stdout",
     "output_type": "stream",
     "text": [
      "\n",
      "      Epoch    GPU_mem   box_loss   cls_loss   dfl_loss  Instances       Size\n"
     ]
    },
    {
     "name": "stderr",
     "output_type": "stream",
     "text": [
      "     19/100      2.06G      1.743      1.486      1.167         19        640: 100%|██████████| 63/63 [00:06<00:00,  9.31it/s]\n",
      "                 Class     Images  Instances      Box(P          R      mAP50  mAP50-95): 100%|██████████| 4/4 [00:00<00:00, 10.85it/s]"
     ]
    },
    {
     "name": "stdout",
     "output_type": "stream",
     "text": [
      "                   all        100         98      0.436      0.571      0.469      0.204\n"
     ]
    },
    {
     "name": "stderr",
     "output_type": "stream",
     "text": [
      "\n"
     ]
    },
    {
     "name": "stdout",
     "output_type": "stream",
     "text": [
      "\n",
      "      Epoch    GPU_mem   box_loss   cls_loss   dfl_loss  Instances       Size\n"
     ]
    },
    {
     "name": "stderr",
     "output_type": "stream",
     "text": [
      "     20/100      2.06G      1.713      1.485      1.154         21        640: 100%|██████████| 63/63 [00:06<00:00,  9.61it/s]\n",
      "                 Class     Images  Instances      Box(P          R      mAP50  mAP50-95): 100%|██████████| 4/4 [00:00<00:00,  9.75it/s]"
     ]
    },
    {
     "name": "stdout",
     "output_type": "stream",
     "text": [
      "                   all        100         98      0.483      0.541      0.437      0.205\n"
     ]
    },
    {
     "name": "stderr",
     "output_type": "stream",
     "text": [
      "\n"
     ]
    },
    {
     "name": "stdout",
     "output_type": "stream",
     "text": [
      "\n",
      "      Epoch    GPU_mem   box_loss   cls_loss   dfl_loss  Instances       Size\n"
     ]
    },
    {
     "name": "stderr",
     "output_type": "stream",
     "text": [
      "     21/100      2.06G      1.687      1.414      1.164          9        640: 100%|██████████| 63/63 [00:07<00:00,  8.79it/s]\n",
      "                 Class     Images  Instances      Box(P          R      mAP50  mAP50-95): 100%|██████████| 4/4 [00:00<00:00,  9.63it/s]"
     ]
    },
    {
     "name": "stdout",
     "output_type": "stream",
     "text": [
      "                   all        100         98      0.537       0.48      0.481      0.242\n"
     ]
    },
    {
     "name": "stderr",
     "output_type": "stream",
     "text": [
      "\n"
     ]
    },
    {
     "name": "stdout",
     "output_type": "stream",
     "text": [
      "\n",
      "      Epoch    GPU_mem   box_loss   cls_loss   dfl_loss  Instances       Size\n"
     ]
    },
    {
     "name": "stderr",
     "output_type": "stream",
     "text": [
      "     22/100      2.06G      1.688      1.358      1.119          9        640: 100%|██████████| 63/63 [00:06<00:00,  9.06it/s]\n",
      "                 Class     Images  Instances      Box(P          R      mAP50  mAP50-95): 100%|██████████| 4/4 [00:00<00:00,  9.82it/s]"
     ]
    },
    {
     "name": "stdout",
     "output_type": "stream",
     "text": [
      "                   all        100         98      0.608      0.582      0.553      0.266\n"
     ]
    },
    {
     "name": "stderr",
     "output_type": "stream",
     "text": [
      "\n"
     ]
    },
    {
     "name": "stdout",
     "output_type": "stream",
     "text": [
      "\n",
      "      Epoch    GPU_mem   box_loss   cls_loss   dfl_loss  Instances       Size\n"
     ]
    },
    {
     "name": "stderr",
     "output_type": "stream",
     "text": [
      "     23/100      2.06G      1.687      1.424       1.15         16        640: 100%|██████████| 63/63 [00:06<00:00,  9.47it/s]\n",
      "                 Class     Images  Instances      Box(P          R      mAP50  mAP50-95): 100%|██████████| 4/4 [00:00<00:00, 10.16it/s]"
     ]
    },
    {
     "name": "stdout",
     "output_type": "stream",
     "text": [
      "                   all        100         98      0.437       0.52      0.434      0.213\n"
     ]
    },
    {
     "name": "stderr",
     "output_type": "stream",
     "text": [
      "\n"
     ]
    },
    {
     "name": "stdout",
     "output_type": "stream",
     "text": [
      "\n",
      "      Epoch    GPU_mem   box_loss   cls_loss   dfl_loss  Instances       Size\n"
     ]
    },
    {
     "name": "stderr",
     "output_type": "stream",
     "text": [
      "     24/100      2.06G      1.667      1.408      1.113         14        640: 100%|██████████| 63/63 [00:06<00:00,  9.85it/s]\n",
      "                 Class     Images  Instances      Box(P          R      mAP50  mAP50-95): 100%|██████████| 4/4 [00:00<00:00,  9.38it/s]"
     ]
    },
    {
     "name": "stdout",
     "output_type": "stream",
     "text": [
      "                   all        100         98       0.63       0.49       0.52       0.26\n"
     ]
    },
    {
     "name": "stderr",
     "output_type": "stream",
     "text": [
      "\n"
     ]
    },
    {
     "name": "stdout",
     "output_type": "stream",
     "text": [
      "\n",
      "      Epoch    GPU_mem   box_loss   cls_loss   dfl_loss  Instances       Size\n"
     ]
    },
    {
     "name": "stderr",
     "output_type": "stream",
     "text": [
      "     25/100      2.06G      1.683      1.433      1.128         15        640: 100%|██████████| 63/63 [00:06<00:00,  9.20it/s]\n",
      "                 Class     Images  Instances      Box(P          R      mAP50  mAP50-95): 100%|██████████| 4/4 [00:00<00:00,  9.30it/s]"
     ]
    },
    {
     "name": "stdout",
     "output_type": "stream",
     "text": [
      "                   all        100         98      0.506      0.503      0.468      0.205\n"
     ]
    },
    {
     "name": "stderr",
     "output_type": "stream",
     "text": [
      "\n"
     ]
    },
    {
     "name": "stdout",
     "output_type": "stream",
     "text": [
      "\n",
      "      Epoch    GPU_mem   box_loss   cls_loss   dfl_loss  Instances       Size\n"
     ]
    },
    {
     "name": "stderr",
     "output_type": "stream",
     "text": [
      "     26/100      2.06G      1.691      1.393      1.128         15        640: 100%|██████████| 63/63 [00:06<00:00,  9.63it/s]\n",
      "                 Class     Images  Instances      Box(P          R      mAP50  mAP50-95): 100%|██████████| 4/4 [00:00<00:00,  9.34it/s]"
     ]
    },
    {
     "name": "stdout",
     "output_type": "stream",
     "text": [
      "                   all        100         98      0.635      0.571      0.573      0.263\n"
     ]
    },
    {
     "name": "stderr",
     "output_type": "stream",
     "text": [
      "\n"
     ]
    },
    {
     "name": "stdout",
     "output_type": "stream",
     "text": [
      "\n",
      "      Epoch    GPU_mem   box_loss   cls_loss   dfl_loss  Instances       Size\n"
     ]
    },
    {
     "name": "stderr",
     "output_type": "stream",
     "text": [
      "     27/100      2.06G      1.629      1.323      1.152         13        640: 100%|██████████| 63/63 [00:07<00:00,  8.94it/s]\n",
      "                 Class     Images  Instances      Box(P          R      mAP50  mAP50-95): 100%|██████████| 4/4 [00:00<00:00, 10.23it/s]"
     ]
    },
    {
     "name": "stdout",
     "output_type": "stream",
     "text": [
      "                   all        100         98      0.528       0.51      0.504      0.234\n"
     ]
    },
    {
     "name": "stderr",
     "output_type": "stream",
     "text": [
      "\n"
     ]
    },
    {
     "name": "stdout",
     "output_type": "stream",
     "text": [
      "\n",
      "      Epoch    GPU_mem   box_loss   cls_loss   dfl_loss  Instances       Size\n"
     ]
    },
    {
     "name": "stderr",
     "output_type": "stream",
     "text": [
      "     28/100      2.06G      1.627      1.288        1.1         20        640: 100%|██████████| 63/63 [00:06<00:00,  9.69it/s]\n",
      "                 Class     Images  Instances      Box(P          R      mAP50  mAP50-95): 100%|██████████| 4/4 [00:00<00:00,  9.85it/s]"
     ]
    },
    {
     "name": "stdout",
     "output_type": "stream",
     "text": [
      "                   all        100         98      0.544      0.597      0.565       0.26\n"
     ]
    },
    {
     "name": "stderr",
     "output_type": "stream",
     "text": [
      "\n"
     ]
    },
    {
     "name": "stdout",
     "output_type": "stream",
     "text": [
      "\n",
      "      Epoch    GPU_mem   box_loss   cls_loss   dfl_loss  Instances       Size\n"
     ]
    },
    {
     "name": "stderr",
     "output_type": "stream",
     "text": [
      "     29/100      2.06G      1.653      1.293      1.134         12        640: 100%|██████████| 63/63 [00:06<00:00,  9.86it/s]\n",
      "                 Class     Images  Instances      Box(P          R      mAP50  mAP50-95): 100%|██████████| 4/4 [00:00<00:00,  9.61it/s]\n"
     ]
    },
    {
     "name": "stdout",
     "output_type": "stream",
     "text": [
      "                   all        100         98      0.518      0.469      0.428      0.174\n",
      "\n",
      "      Epoch    GPU_mem   box_loss   cls_loss   dfl_loss  Instances       Size\n"
     ]
    },
    {
     "name": "stderr",
     "output_type": "stream",
     "text": [
      "     30/100      2.06G      1.596      1.294      1.123          8        640: 100%|██████████| 63/63 [00:06<00:00,  9.47it/s]\n",
      "                 Class     Images  Instances      Box(P          R      mAP50  mAP50-95): 100%|██████████| 4/4 [00:00<00:00,  8.46it/s]"
     ]
    },
    {
     "name": "stdout",
     "output_type": "stream",
     "text": [
      "                   all        100         98      0.696      0.571        0.6      0.291\n"
     ]
    },
    {
     "name": "stderr",
     "output_type": "stream",
     "text": [
      "\n"
     ]
    },
    {
     "name": "stdout",
     "output_type": "stream",
     "text": [
      "\n",
      "      Epoch    GPU_mem   box_loss   cls_loss   dfl_loss  Instances       Size\n"
     ]
    },
    {
     "name": "stderr",
     "output_type": "stream",
     "text": [
      "     31/100      2.06G      1.607      1.279      1.106         17        640: 100%|██████████| 63/63 [00:06<00:00,  9.58it/s]\n",
      "                 Class     Images  Instances      Box(P          R      mAP50  mAP50-95): 100%|██████████| 4/4 [00:00<00:00,  9.97it/s]"
     ]
    },
    {
     "name": "stdout",
     "output_type": "stream",
     "text": [
      "                   all        100         98      0.585      0.561      0.546      0.258\n"
     ]
    },
    {
     "name": "stderr",
     "output_type": "stream",
     "text": [
      "\n"
     ]
    },
    {
     "name": "stdout",
     "output_type": "stream",
     "text": [
      "\n",
      "      Epoch    GPU_mem   box_loss   cls_loss   dfl_loss  Instances       Size\n"
     ]
    },
    {
     "name": "stderr",
     "output_type": "stream",
     "text": [
      "     32/100      2.06G      1.593      1.271      1.111          9        640: 100%|██████████| 63/63 [00:06<00:00,  9.40it/s]\n",
      "                 Class     Images  Instances      Box(P          R      mAP50  mAP50-95): 100%|██████████| 4/4 [00:00<00:00, 10.01it/s]"
     ]
    },
    {
     "name": "stdout",
     "output_type": "stream",
     "text": [
      "                   all        100         98      0.564      0.612      0.528      0.252\n"
     ]
    },
    {
     "name": "stderr",
     "output_type": "stream",
     "text": [
      "\n"
     ]
    },
    {
     "name": "stdout",
     "output_type": "stream",
     "text": [
      "\n",
      "      Epoch    GPU_mem   box_loss   cls_loss   dfl_loss  Instances       Size\n"
     ]
    },
    {
     "name": "stderr",
     "output_type": "stream",
     "text": [
      "     33/100      2.06G      1.561      1.283      1.109         19        640: 100%|██████████| 63/63 [00:06<00:00,  9.35it/s]\n",
      "                 Class     Images  Instances      Box(P          R      mAP50  mAP50-95): 100%|██████████| 4/4 [00:00<00:00, 10.09it/s]"
     ]
    },
    {
     "name": "stdout",
     "output_type": "stream",
     "text": [
      "                   all        100         98      0.577      0.653      0.569      0.274\n"
     ]
    },
    {
     "name": "stderr",
     "output_type": "stream",
     "text": [
      "\n"
     ]
    },
    {
     "name": "stdout",
     "output_type": "stream",
     "text": [
      "\n",
      "      Epoch    GPU_mem   box_loss   cls_loss   dfl_loss  Instances       Size\n"
     ]
    },
    {
     "name": "stderr",
     "output_type": "stream",
     "text": [
      "     34/100      2.06G      1.552      1.244      1.102         12        640: 100%|██████████| 63/63 [00:06<00:00,  9.20it/s]\n",
      "                 Class     Images  Instances      Box(P          R      mAP50  mAP50-95): 100%|██████████| 4/4 [00:00<00:00, 10.67it/s]"
     ]
    },
    {
     "name": "stdout",
     "output_type": "stream",
     "text": [
      "                   all        100         98      0.682       0.48      0.543      0.269\n"
     ]
    },
    {
     "name": "stderr",
     "output_type": "stream",
     "text": [
      "\n"
     ]
    },
    {
     "name": "stdout",
     "output_type": "stream",
     "text": [
      "\n",
      "      Epoch    GPU_mem   box_loss   cls_loss   dfl_loss  Instances       Size\n"
     ]
    },
    {
     "name": "stderr",
     "output_type": "stream",
     "text": [
      "     35/100      2.06G      1.533       1.21      1.085         14        640: 100%|██████████| 63/63 [00:07<00:00,  8.77it/s]\n",
      "                 Class     Images  Instances      Box(P          R      mAP50  mAP50-95): 100%|██████████| 4/4 [00:00<00:00,  9.07it/s]"
     ]
    },
    {
     "name": "stdout",
     "output_type": "stream",
     "text": [
      "                   all        100         98      0.427      0.561      0.473       0.22\n"
     ]
    },
    {
     "name": "stderr",
     "output_type": "stream",
     "text": [
      "\n"
     ]
    },
    {
     "name": "stdout",
     "output_type": "stream",
     "text": [
      "\n",
      "      Epoch    GPU_mem   box_loss   cls_loss   dfl_loss  Instances       Size\n"
     ]
    },
    {
     "name": "stderr",
     "output_type": "stream",
     "text": [
      "     36/100      2.06G      1.561       1.21      1.105         10        640: 100%|██████████| 63/63 [00:07<00:00,  8.83it/s]\n",
      "                 Class     Images  Instances      Box(P          R      mAP50  mAP50-95): 100%|██████████| 4/4 [00:00<00:00,  9.27it/s]"
     ]
    },
    {
     "name": "stdout",
     "output_type": "stream",
     "text": [
      "                   all        100         98      0.522      0.612      0.511      0.238\n"
     ]
    },
    {
     "name": "stderr",
     "output_type": "stream",
     "text": [
      "\n"
     ]
    },
    {
     "name": "stdout",
     "output_type": "stream",
     "text": [
      "\n",
      "      Epoch    GPU_mem   box_loss   cls_loss   dfl_loss  Instances       Size\n"
     ]
    },
    {
     "name": "stderr",
     "output_type": "stream",
     "text": [
      "     37/100      2.06G      1.615      1.251       1.12         17        640: 100%|██████████| 63/63 [00:06<00:00,  9.12it/s]\n",
      "                 Class     Images  Instances      Box(P          R      mAP50  mAP50-95): 100%|██████████| 4/4 [00:00<00:00,  9.51it/s]"
     ]
    },
    {
     "name": "stdout",
     "output_type": "stream",
     "text": [
      "                   all        100         98      0.569      0.602      0.556       0.26\n"
     ]
    },
    {
     "name": "stderr",
     "output_type": "stream",
     "text": [
      "\n"
     ]
    },
    {
     "name": "stdout",
     "output_type": "stream",
     "text": [
      "\n",
      "      Epoch    GPU_mem   box_loss   cls_loss   dfl_loss  Instances       Size\n"
     ]
    },
    {
     "name": "stderr",
     "output_type": "stream",
     "text": [
      "     38/100      2.06G      1.568       1.19      1.086          9        640: 100%|██████████| 63/63 [00:06<00:00,  9.02it/s]\n",
      "                 Class     Images  Instances      Box(P          R      mAP50  mAP50-95): 100%|██████████| 4/4 [00:00<00:00,  9.11it/s]"
     ]
    },
    {
     "name": "stdout",
     "output_type": "stream",
     "text": [
      "                   all        100         98      0.536      0.582      0.508      0.236\n"
     ]
    },
    {
     "name": "stderr",
     "output_type": "stream",
     "text": [
      "\n"
     ]
    },
    {
     "name": "stdout",
     "output_type": "stream",
     "text": [
      "\n",
      "      Epoch    GPU_mem   box_loss   cls_loss   dfl_loss  Instances       Size\n"
     ]
    },
    {
     "name": "stderr",
     "output_type": "stream",
     "text": [
      "     39/100      2.06G      1.504      1.184      1.096         12        640: 100%|██████████| 63/63 [00:06<00:00,  9.07it/s]\n",
      "                 Class     Images  Instances      Box(P          R      mAP50  mAP50-95): 100%|██████████| 4/4 [00:00<00:00, 10.10it/s]"
     ]
    },
    {
     "name": "stdout",
     "output_type": "stream",
     "text": [
      "                   all        100         98      0.636      0.571      0.577      0.275\n"
     ]
    },
    {
     "name": "stderr",
     "output_type": "stream",
     "text": [
      "\n"
     ]
    },
    {
     "name": "stdout",
     "output_type": "stream",
     "text": [
      "\n",
      "      Epoch    GPU_mem   box_loss   cls_loss   dfl_loss  Instances       Size\n"
     ]
    },
    {
     "name": "stderr",
     "output_type": "stream",
     "text": [
      "     40/100      2.06G       1.48      1.128      1.068         13        640: 100%|██████████| 63/63 [00:06<00:00,  9.18it/s]\n",
      "                 Class     Images  Instances      Box(P          R      mAP50  mAP50-95): 100%|██████████| 4/4 [00:00<00:00, 10.27it/s]"
     ]
    },
    {
     "name": "stdout",
     "output_type": "stream",
     "text": [
      "                   all        100         98      0.555      0.643      0.529      0.255\n"
     ]
    },
    {
     "name": "stderr",
     "output_type": "stream",
     "text": [
      "\n"
     ]
    },
    {
     "name": "stdout",
     "output_type": "stream",
     "text": [
      "\n",
      "      Epoch    GPU_mem   box_loss   cls_loss   dfl_loss  Instances       Size\n"
     ]
    },
    {
     "name": "stderr",
     "output_type": "stream",
     "text": [
      "     41/100      2.06G      1.537      1.147       1.09         15        640: 100%|██████████| 63/63 [00:06<00:00,  9.64it/s]\n",
      "                 Class     Images  Instances      Box(P          R      mAP50  mAP50-95): 100%|██████████| 4/4 [00:00<00:00,  9.85it/s]"
     ]
    },
    {
     "name": "stdout",
     "output_type": "stream",
     "text": [
      "                   all        100         98      0.539       0.48      0.491      0.236\n"
     ]
    },
    {
     "name": "stderr",
     "output_type": "stream",
     "text": [
      "\n"
     ]
    },
    {
     "name": "stdout",
     "output_type": "stream",
     "text": [
      "\n",
      "      Epoch    GPU_mem   box_loss   cls_loss   dfl_loss  Instances       Size\n"
     ]
    },
    {
     "name": "stderr",
     "output_type": "stream",
     "text": [
      "     42/100      2.06G      1.505      1.147      1.063          9        640: 100%|██████████| 63/63 [00:06<00:00,  9.02it/s]\n",
      "                 Class     Images  Instances      Box(P          R      mAP50  mAP50-95): 100%|██████████| 4/4 [00:00<00:00, 10.48it/s]"
     ]
    },
    {
     "name": "stdout",
     "output_type": "stream",
     "text": [
      "                   all        100         98      0.505      0.571      0.499      0.248\n"
     ]
    },
    {
     "name": "stderr",
     "output_type": "stream",
     "text": [
      "\n"
     ]
    },
    {
     "name": "stdout",
     "output_type": "stream",
     "text": [
      "\n",
      "      Epoch    GPU_mem   box_loss   cls_loss   dfl_loss  Instances       Size\n"
     ]
    },
    {
     "name": "stderr",
     "output_type": "stream",
     "text": [
      "     43/100      2.06G      1.478      1.106      1.053         13        640: 100%|██████████| 63/63 [00:06<00:00,  9.71it/s]\n",
      "                 Class     Images  Instances      Box(P          R      mAP50  mAP50-95): 100%|██████████| 4/4 [00:00<00:00, 10.05it/s]"
     ]
    },
    {
     "name": "stdout",
     "output_type": "stream",
     "text": [
      "                   all        100         98      0.565      0.609      0.577       0.28\n"
     ]
    },
    {
     "name": "stderr",
     "output_type": "stream",
     "text": [
      "\n"
     ]
    },
    {
     "name": "stdout",
     "output_type": "stream",
     "text": [
      "\n",
      "      Epoch    GPU_mem   box_loss   cls_loss   dfl_loss  Instances       Size\n"
     ]
    },
    {
     "name": "stderr",
     "output_type": "stream",
     "text": [
      "     44/100      2.06G      1.441      1.071      1.067         20        640: 100%|██████████| 63/63 [00:06<00:00,  9.65it/s]\n",
      "                 Class     Images  Instances      Box(P          R      mAP50  mAP50-95): 100%|██████████| 4/4 [00:00<00:00,  9.85it/s]"
     ]
    },
    {
     "name": "stdout",
     "output_type": "stream",
     "text": [
      "                   all        100         98      0.644      0.633      0.597      0.311\n"
     ]
    },
    {
     "name": "stderr",
     "output_type": "stream",
     "text": [
      "\n"
     ]
    },
    {
     "name": "stdout",
     "output_type": "stream",
     "text": [
      "\n",
      "      Epoch    GPU_mem   box_loss   cls_loss   dfl_loss  Instances       Size\n"
     ]
    },
    {
     "name": "stderr",
     "output_type": "stream",
     "text": [
      "     45/100      2.06G        1.5      1.136      1.075         10        640: 100%|██████████| 63/63 [00:06<00:00,  9.64it/s]\n",
      "                 Class     Images  Instances      Box(P          R      mAP50  mAP50-95): 100%|██████████| 4/4 [00:00<00:00, 10.47it/s]"
     ]
    },
    {
     "name": "stdout",
     "output_type": "stream",
     "text": [
      "                   all        100         98      0.591      0.693      0.592      0.293\n"
     ]
    },
    {
     "name": "stderr",
     "output_type": "stream",
     "text": [
      "\n"
     ]
    },
    {
     "name": "stdout",
     "output_type": "stream",
     "text": [
      "\n",
      "      Epoch    GPU_mem   box_loss   cls_loss   dfl_loss  Instances       Size\n"
     ]
    },
    {
     "name": "stderr",
     "output_type": "stream",
     "text": [
      "     46/100      2.06G      1.467      1.134      1.055         12        640: 100%|██████████| 63/63 [00:06<00:00,  9.68it/s]\n",
      "                 Class     Images  Instances      Box(P          R      mAP50  mAP50-95): 100%|██████████| 4/4 [00:00<00:00,  9.91it/s]"
     ]
    },
    {
     "name": "stdout",
     "output_type": "stream",
     "text": [
      "                   all        100         98      0.538      0.612      0.514      0.266\n"
     ]
    },
    {
     "name": "stderr",
     "output_type": "stream",
     "text": [
      "\n"
     ]
    },
    {
     "name": "stdout",
     "output_type": "stream",
     "text": [
      "\n",
      "      Epoch    GPU_mem   box_loss   cls_loss   dfl_loss  Instances       Size\n"
     ]
    },
    {
     "name": "stderr",
     "output_type": "stream",
     "text": [
      "     47/100      2.06G      1.471      1.094      1.077         21        640: 100%|██████████| 63/63 [00:06<00:00,  9.75it/s]\n",
      "                 Class     Images  Instances      Box(P          R      mAP50  mAP50-95): 100%|██████████| 4/4 [00:00<00:00, 10.98it/s]"
     ]
    },
    {
     "name": "stdout",
     "output_type": "stream",
     "text": [
      "                   all        100         98      0.504      0.612       0.49      0.249\n"
     ]
    },
    {
     "name": "stderr",
     "output_type": "stream",
     "text": [
      "\n"
     ]
    },
    {
     "name": "stdout",
     "output_type": "stream",
     "text": [
      "\n",
      "      Epoch    GPU_mem   box_loss   cls_loss   dfl_loss  Instances       Size\n"
     ]
    },
    {
     "name": "stderr",
     "output_type": "stream",
     "text": [
      "     48/100      2.06G      1.477      1.122      1.071         10        640: 100%|██████████| 63/63 [00:06<00:00,  9.74it/s]\n",
      "                 Class     Images  Instances      Box(P          R      mAP50  mAP50-95): 100%|██████████| 4/4 [00:00<00:00, 10.31it/s]"
     ]
    },
    {
     "name": "stdout",
     "output_type": "stream",
     "text": [
      "                   all        100         98      0.561      0.602      0.543      0.253\n"
     ]
    },
    {
     "name": "stderr",
     "output_type": "stream",
     "text": [
      "\n"
     ]
    },
    {
     "name": "stdout",
     "output_type": "stream",
     "text": [
      "\n",
      "      Epoch    GPU_mem   box_loss   cls_loss   dfl_loss  Instances       Size\n"
     ]
    },
    {
     "name": "stderr",
     "output_type": "stream",
     "text": [
      "     49/100      2.06G      1.439      1.133       1.06         20        640: 100%|██████████| 63/63 [00:06<00:00,  9.73it/s]\n",
      "                 Class     Images  Instances      Box(P          R      mAP50  mAP50-95): 100%|██████████| 4/4 [00:00<00:00,  9.82it/s]"
     ]
    },
    {
     "name": "stdout",
     "output_type": "stream",
     "text": [
      "                   all        100         98      0.532      0.622      0.551      0.263\n"
     ]
    },
    {
     "name": "stderr",
     "output_type": "stream",
     "text": [
      "\n"
     ]
    },
    {
     "name": "stdout",
     "output_type": "stream",
     "text": [
      "\n",
      "      Epoch    GPU_mem   box_loss   cls_loss   dfl_loss  Instances       Size\n"
     ]
    },
    {
     "name": "stderr",
     "output_type": "stream",
     "text": [
      "     50/100      2.06G      1.441      1.082      1.062          9        640: 100%|██████████| 63/63 [00:06<00:00,  9.70it/s]\n",
      "                 Class     Images  Instances      Box(P          R      mAP50  mAP50-95): 100%|██████████| 4/4 [00:00<00:00, 10.10it/s]"
     ]
    },
    {
     "name": "stdout",
     "output_type": "stream",
     "text": [
      "                   all        100         98      0.627      0.602      0.592      0.296\n"
     ]
    },
    {
     "name": "stderr",
     "output_type": "stream",
     "text": [
      "\n"
     ]
    },
    {
     "name": "stdout",
     "output_type": "stream",
     "text": [
      "\n",
      "      Epoch    GPU_mem   box_loss   cls_loss   dfl_loss  Instances       Size\n"
     ]
    },
    {
     "name": "stderr",
     "output_type": "stream",
     "text": [
      "     51/100      2.06G      1.427      1.084      1.043         10        640: 100%|██████████| 63/63 [00:06<00:00,  9.63it/s]\n",
      "                 Class     Images  Instances      Box(P          R      mAP50  mAP50-95): 100%|██████████| 4/4 [00:00<00:00, 10.67it/s]"
     ]
    },
    {
     "name": "stdout",
     "output_type": "stream",
     "text": [
      "                   all        100         98      0.576      0.609      0.557      0.275\n"
     ]
    },
    {
     "name": "stderr",
     "output_type": "stream",
     "text": [
      "\n"
     ]
    },
    {
     "name": "stdout",
     "output_type": "stream",
     "text": [
      "\n",
      "      Epoch    GPU_mem   box_loss   cls_loss   dfl_loss  Instances       Size\n"
     ]
    },
    {
     "name": "stderr",
     "output_type": "stream",
     "text": [
      "     52/100      2.06G      1.432      1.098      1.071         10        640: 100%|██████████| 63/63 [00:06<00:00,  9.71it/s]\n",
      "                 Class     Images  Instances      Box(P          R      mAP50  mAP50-95): 100%|██████████| 4/4 [00:00<00:00, 10.11it/s]"
     ]
    },
    {
     "name": "stdout",
     "output_type": "stream",
     "text": [
      "                   all        100         98      0.586       0.51      0.539      0.272\n"
     ]
    },
    {
     "name": "stderr",
     "output_type": "stream",
     "text": [
      "\n"
     ]
    },
    {
     "name": "stdout",
     "output_type": "stream",
     "text": [
      "\n",
      "      Epoch    GPU_mem   box_loss   cls_loss   dfl_loss  Instances       Size\n"
     ]
    },
    {
     "name": "stderr",
     "output_type": "stream",
     "text": [
      "     53/100      2.06G       1.36      1.055       1.05         10        640: 100%|██████████| 63/63 [00:06<00:00,  9.61it/s]\n",
      "                 Class     Images  Instances      Box(P          R      mAP50  mAP50-95): 100%|██████████| 4/4 [00:00<00:00,  9.92it/s]"
     ]
    },
    {
     "name": "stdout",
     "output_type": "stream",
     "text": [
      "                   all        100         98      0.562      0.653      0.609      0.294\n"
     ]
    },
    {
     "name": "stderr",
     "output_type": "stream",
     "text": [
      "\n"
     ]
    },
    {
     "name": "stdout",
     "output_type": "stream",
     "text": [
      "\n",
      "      Epoch    GPU_mem   box_loss   cls_loss   dfl_loss  Instances       Size\n"
     ]
    },
    {
     "name": "stderr",
     "output_type": "stream",
     "text": [
      "     54/100      2.06G      1.444      1.076      1.066          8        640: 100%|██████████| 63/63 [00:06<00:00,  9.71it/s]\n",
      "                 Class     Images  Instances      Box(P          R      mAP50  mAP50-95): 100%|██████████| 4/4 [00:00<00:00, 10.42it/s]"
     ]
    },
    {
     "name": "stdout",
     "output_type": "stream",
     "text": [
      "                   all        100         98      0.584        0.6      0.549       0.27\n"
     ]
    },
    {
     "name": "stderr",
     "output_type": "stream",
     "text": [
      "\n"
     ]
    },
    {
     "name": "stdout",
     "output_type": "stream",
     "text": [
      "\n",
      "      Epoch    GPU_mem   box_loss   cls_loss   dfl_loss  Instances       Size\n"
     ]
    },
    {
     "name": "stderr",
     "output_type": "stream",
     "text": [
      "     55/100      2.06G      1.437      1.057      1.031         11        640: 100%|██████████| 63/63 [00:06<00:00,  9.65it/s]\n",
      "                 Class     Images  Instances      Box(P          R      mAP50  mAP50-95): 100%|██████████| 4/4 [00:00<00:00,  9.81it/s]"
     ]
    },
    {
     "name": "stdout",
     "output_type": "stream",
     "text": [
      "                   all        100         98      0.608      0.601      0.571      0.309\n"
     ]
    },
    {
     "name": "stderr",
     "output_type": "stream",
     "text": [
      "\n"
     ]
    },
    {
     "name": "stdout",
     "output_type": "stream",
     "text": [
      "\n",
      "      Epoch    GPU_mem   box_loss   cls_loss   dfl_loss  Instances       Size\n"
     ]
    },
    {
     "name": "stderr",
     "output_type": "stream",
     "text": [
      "     56/100      2.06G      1.408      1.037       1.05         10        640: 100%|██████████| 63/63 [00:06<00:00,  9.68it/s]\n",
      "                 Class     Images  Instances      Box(P          R      mAP50  mAP50-95): 100%|██████████| 4/4 [00:00<00:00, 10.16it/s]"
     ]
    },
    {
     "name": "stdout",
     "output_type": "stream",
     "text": [
      "                   all        100         98      0.627      0.633      0.581      0.305\n"
     ]
    },
    {
     "name": "stderr",
     "output_type": "stream",
     "text": [
      "\n"
     ]
    },
    {
     "name": "stdout",
     "output_type": "stream",
     "text": [
      "\n",
      "      Epoch    GPU_mem   box_loss   cls_loss   dfl_loss  Instances       Size\n"
     ]
    },
    {
     "name": "stderr",
     "output_type": "stream",
     "text": [
      "     57/100      2.06G      1.395      1.038      1.044         11        640: 100%|██████████| 63/63 [00:06<00:00,  9.69it/s]\n",
      "                 Class     Images  Instances      Box(P          R      mAP50  mAP50-95): 100%|██████████| 4/4 [00:00<00:00, 10.19it/s]"
     ]
    },
    {
     "name": "stdout",
     "output_type": "stream",
     "text": [
      "                   all        100         98      0.601      0.631      0.594      0.299\n"
     ]
    },
    {
     "name": "stderr",
     "output_type": "stream",
     "text": [
      "\n"
     ]
    },
    {
     "name": "stdout",
     "output_type": "stream",
     "text": [
      "\n",
      "      Epoch    GPU_mem   box_loss   cls_loss   dfl_loss  Instances       Size\n"
     ]
    },
    {
     "name": "stderr",
     "output_type": "stream",
     "text": [
      "     58/100      2.06G        1.4      1.017      1.037         14        640: 100%|██████████| 63/63 [00:06<00:00,  9.69it/s]\n",
      "                 Class     Images  Instances      Box(P          R      mAP50  mAP50-95): 100%|██████████| 4/4 [00:00<00:00, 10.61it/s]"
     ]
    },
    {
     "name": "stdout",
     "output_type": "stream",
     "text": [
      "                   all        100         98      0.576      0.602      0.611      0.294\n"
     ]
    },
    {
     "name": "stderr",
     "output_type": "stream",
     "text": [
      "\n"
     ]
    },
    {
     "name": "stdout",
     "output_type": "stream",
     "text": [
      "\n",
      "      Epoch    GPU_mem   box_loss   cls_loss   dfl_loss  Instances       Size\n"
     ]
    },
    {
     "name": "stderr",
     "output_type": "stream",
     "text": [
      "     59/100      2.06G      1.408      1.005      1.053         14        640: 100%|██████████| 63/63 [00:06<00:00,  9.69it/s]\n",
      "                 Class     Images  Instances      Box(P          R      mAP50  mAP50-95): 100%|██████████| 4/4 [00:00<00:00,  9.58it/s]"
     ]
    },
    {
     "name": "stdout",
     "output_type": "stream",
     "text": [
      "                   all        100         98      0.632      0.582      0.592      0.305\n"
     ]
    },
    {
     "name": "stderr",
     "output_type": "stream",
     "text": [
      "\n"
     ]
    },
    {
     "name": "stdout",
     "output_type": "stream",
     "text": [
      "\n",
      "      Epoch    GPU_mem   box_loss   cls_loss   dfl_loss  Instances       Size\n"
     ]
    },
    {
     "name": "stderr",
     "output_type": "stream",
     "text": [
      "     60/100      2.06G      1.415      1.016      1.046         13        640: 100%|██████████| 63/63 [00:06<00:00,  9.72it/s]\n",
      "                 Class     Images  Instances      Box(P          R      mAP50  mAP50-95): 100%|██████████| 4/4 [00:00<00:00, 10.84it/s]"
     ]
    },
    {
     "name": "stdout",
     "output_type": "stream",
     "text": [
      "                   all        100         98      0.588      0.602       0.53      0.262\n"
     ]
    },
    {
     "name": "stderr",
     "output_type": "stream",
     "text": [
      "\n"
     ]
    },
    {
     "name": "stdout",
     "output_type": "stream",
     "text": [
      "\n",
      "      Epoch    GPU_mem   box_loss   cls_loss   dfl_loss  Instances       Size\n"
     ]
    },
    {
     "name": "stderr",
     "output_type": "stream",
     "text": [
      "     61/100      2.06G      1.355      0.973      1.023         15        640: 100%|██████████| 63/63 [00:06<00:00,  9.66it/s]\n",
      "                 Class     Images  Instances      Box(P          R      mAP50  mAP50-95): 100%|██████████| 4/4 [00:00<00:00, 10.50it/s]"
     ]
    },
    {
     "name": "stdout",
     "output_type": "stream",
     "text": [
      "                   all        100         98      0.648      0.551      0.556      0.269\n"
     ]
    },
    {
     "name": "stderr",
     "output_type": "stream",
     "text": [
      "\n"
     ]
    },
    {
     "name": "stdout",
     "output_type": "stream",
     "text": [
      "\n",
      "      Epoch    GPU_mem   box_loss   cls_loss   dfl_loss  Instances       Size\n"
     ]
    },
    {
     "name": "stderr",
     "output_type": "stream",
     "text": [
      "     62/100      2.06G      1.333     0.9986      1.029         14        640: 100%|██████████| 63/63 [00:06<00:00,  9.18it/s]\n",
      "                 Class     Images  Instances      Box(P          R      mAP50  mAP50-95): 100%|██████████| 4/4 [00:00<00:00, 10.18it/s]"
     ]
    },
    {
     "name": "stdout",
     "output_type": "stream",
     "text": [
      "                   all        100         98      0.593      0.602      0.551      0.284\n"
     ]
    },
    {
     "name": "stderr",
     "output_type": "stream",
     "text": [
      "\n"
     ]
    },
    {
     "name": "stdout",
     "output_type": "stream",
     "text": [
      "\n",
      "      Epoch    GPU_mem   box_loss   cls_loss   dfl_loss  Instances       Size\n"
     ]
    },
    {
     "name": "stderr",
     "output_type": "stream",
     "text": [
      "     63/100      2.06G      1.364     0.9856      1.031         13        640: 100%|██████████| 63/63 [00:06<00:00,  9.36it/s]\n",
      "                 Class     Images  Instances      Box(P          R      mAP50  mAP50-95): 100%|██████████| 4/4 [00:00<00:00,  9.67it/s]"
     ]
    },
    {
     "name": "stdout",
     "output_type": "stream",
     "text": [
      "                   all        100         98      0.532      0.663       0.55      0.282\n"
     ]
    },
    {
     "name": "stderr",
     "output_type": "stream",
     "text": [
      "\n"
     ]
    },
    {
     "name": "stdout",
     "output_type": "stream",
     "text": [
      "\n",
      "      Epoch    GPU_mem   box_loss   cls_loss   dfl_loss  Instances       Size\n"
     ]
    },
    {
     "name": "stderr",
     "output_type": "stream",
     "text": [
      "     64/100      2.06G      1.361     0.9649       1.04         19        640: 100%|██████████| 63/63 [00:06<00:00,  9.79it/s]\n",
      "                 Class     Images  Instances      Box(P          R      mAP50  mAP50-95): 100%|██████████| 4/4 [00:00<00:00, 11.27it/s]"
     ]
    },
    {
     "name": "stdout",
     "output_type": "stream",
     "text": [
      "                   all        100         98      0.587       0.58      0.577      0.296\n"
     ]
    },
    {
     "name": "stderr",
     "output_type": "stream",
     "text": [
      "\n"
     ]
    },
    {
     "name": "stdout",
     "output_type": "stream",
     "text": [
      "\n",
      "      Epoch    GPU_mem   box_loss   cls_loss   dfl_loss  Instances       Size\n"
     ]
    },
    {
     "name": "stderr",
     "output_type": "stream",
     "text": [
      "     65/100      2.06G      1.322     0.9277      1.024         11        640: 100%|██████████| 63/63 [00:06<00:00,  9.66it/s]\n",
      "                 Class     Images  Instances      Box(P          R      mAP50  mAP50-95): 100%|██████████| 4/4 [00:00<00:00, 10.66it/s]"
     ]
    },
    {
     "name": "stdout",
     "output_type": "stream",
     "text": [
      "                   all        100         98      0.579      0.592      0.596      0.292\n"
     ]
    },
    {
     "name": "stderr",
     "output_type": "stream",
     "text": [
      "\n"
     ]
    },
    {
     "name": "stdout",
     "output_type": "stream",
     "text": [
      "\n",
      "      Epoch    GPU_mem   box_loss   cls_loss   dfl_loss  Instances       Size\n"
     ]
    },
    {
     "name": "stderr",
     "output_type": "stream",
     "text": [
      "     66/100      2.06G      1.304     0.9255       1.03         18        640: 100%|██████████| 63/63 [00:06<00:00,  9.30it/s]\n",
      "                 Class     Images  Instances      Box(P          R      mAP50  mAP50-95): 100%|██████████| 4/4 [00:00<00:00, 11.55it/s]"
     ]
    },
    {
     "name": "stdout",
     "output_type": "stream",
     "text": [
      "                   all        100         98      0.646      0.539      0.588      0.299\n"
     ]
    },
    {
     "name": "stderr",
     "output_type": "stream",
     "text": [
      "\n"
     ]
    },
    {
     "name": "stdout",
     "output_type": "stream",
     "text": [
      "\n",
      "      Epoch    GPU_mem   box_loss   cls_loss   dfl_loss  Instances       Size\n"
     ]
    },
    {
     "name": "stderr",
     "output_type": "stream",
     "text": [
      "     67/100      2.06G      1.319      0.942      1.004         13        640: 100%|██████████| 63/63 [00:06<00:00,  9.33it/s]\n",
      "                 Class     Images  Instances      Box(P          R      mAP50  mAP50-95): 100%|██████████| 4/4 [00:00<00:00, 10.59it/s]"
     ]
    },
    {
     "name": "stdout",
     "output_type": "stream",
     "text": [
      "                   all        100         98      0.634      0.655      0.614      0.311\n"
     ]
    },
    {
     "name": "stderr",
     "output_type": "stream",
     "text": [
      "\n"
     ]
    },
    {
     "name": "stdout",
     "output_type": "stream",
     "text": [
      "\n",
      "      Epoch    GPU_mem   box_loss   cls_loss   dfl_loss  Instances       Size\n"
     ]
    },
    {
     "name": "stderr",
     "output_type": "stream",
     "text": [
      "     68/100      2.06G      1.278     0.9015       0.99         21        640: 100%|██████████| 63/63 [00:06<00:00,  9.42it/s]\n",
      "                 Class     Images  Instances      Box(P          R      mAP50  mAP50-95): 100%|██████████| 4/4 [00:00<00:00, 10.47it/s]"
     ]
    },
    {
     "name": "stdout",
     "output_type": "stream",
     "text": [
      "                   all        100         98       0.59      0.663      0.601      0.308\n"
     ]
    },
    {
     "name": "stderr",
     "output_type": "stream",
     "text": [
      "\n"
     ]
    },
    {
     "name": "stdout",
     "output_type": "stream",
     "text": [
      "\n",
      "      Epoch    GPU_mem   box_loss   cls_loss   dfl_loss  Instances       Size\n"
     ]
    },
    {
     "name": "stderr",
     "output_type": "stream",
     "text": [
      "     69/100      2.06G      1.319     0.9682      1.002         14        640: 100%|██████████| 63/63 [00:06<00:00,  9.32it/s]\n",
      "                 Class     Images  Instances      Box(P          R      mAP50  mAP50-95): 100%|██████████| 4/4 [00:00<00:00, 10.28it/s]"
     ]
    },
    {
     "name": "stdout",
     "output_type": "stream",
     "text": [
      "                   all        100         98      0.649      0.585      0.583      0.301\n"
     ]
    },
    {
     "name": "stderr",
     "output_type": "stream",
     "text": [
      "\n"
     ]
    },
    {
     "name": "stdout",
     "output_type": "stream",
     "text": [
      "\n",
      "      Epoch    GPU_mem   box_loss   cls_loss   dfl_loss  Instances       Size\n"
     ]
    },
    {
     "name": "stderr",
     "output_type": "stream",
     "text": [
      "     70/100      2.06G        1.3     0.9163      1.018         11        640: 100%|██████████| 63/63 [00:06<00:00,  9.64it/s]\n",
      "                 Class     Images  Instances      Box(P          R      mAP50  mAP50-95): 100%|██████████| 4/4 [00:00<00:00, 10.40it/s]"
     ]
    },
    {
     "name": "stdout",
     "output_type": "stream",
     "text": [
      "                   all        100         98      0.681      0.643       0.61      0.332\n"
     ]
    },
    {
     "name": "stderr",
     "output_type": "stream",
     "text": [
      "\n"
     ]
    },
    {
     "name": "stdout",
     "output_type": "stream",
     "text": [
      "\n",
      "      Epoch    GPU_mem   box_loss   cls_loss   dfl_loss  Instances       Size\n"
     ]
    },
    {
     "name": "stderr",
     "output_type": "stream",
     "text": [
      "     71/100      2.06G      1.338     0.9286      1.039         12        640: 100%|██████████| 63/63 [00:06<00:00,  9.90it/s]\n",
      "                 Class     Images  Instances      Box(P          R      mAP50  mAP50-95): 100%|██████████| 4/4 [00:00<00:00, 10.44it/s]"
     ]
    },
    {
     "name": "stdout",
     "output_type": "stream",
     "text": [
      "                   all        100         98      0.677      0.602      0.613      0.339\n"
     ]
    },
    {
     "name": "stderr",
     "output_type": "stream",
     "text": [
      "\n"
     ]
    },
    {
     "name": "stdout",
     "output_type": "stream",
     "text": [
      "\n",
      "      Epoch    GPU_mem   box_loss   cls_loss   dfl_loss  Instances       Size\n"
     ]
    },
    {
     "name": "stderr",
     "output_type": "stream",
     "text": [
      "     72/100      2.06G       1.28     0.9003      1.005         14        640: 100%|██████████| 63/63 [00:06<00:00,  9.92it/s]\n",
      "                 Class     Images  Instances      Box(P          R      mAP50  mAP50-95): 100%|██████████| 4/4 [00:00<00:00, 10.27it/s]"
     ]
    },
    {
     "name": "stdout",
     "output_type": "stream",
     "text": [
      "                   all        100         98      0.664      0.604      0.625      0.323\n"
     ]
    },
    {
     "name": "stderr",
     "output_type": "stream",
     "text": [
      "\n"
     ]
    },
    {
     "name": "stdout",
     "output_type": "stream",
     "text": [
      "\n",
      "      Epoch    GPU_mem   box_loss   cls_loss   dfl_loss  Instances       Size\n"
     ]
    },
    {
     "name": "stderr",
     "output_type": "stream",
     "text": [
      "     73/100      2.06G      1.262     0.8838     0.9985         15        640: 100%|██████████| 63/63 [00:06<00:00,  9.27it/s]\n",
      "                 Class     Images  Instances      Box(P          R      mAP50  mAP50-95): 100%|██████████| 4/4 [00:00<00:00, 10.77it/s]"
     ]
    },
    {
     "name": "stdout",
     "output_type": "stream",
     "text": [
      "                   all        100         98      0.753      0.591      0.651      0.331\n"
     ]
    },
    {
     "name": "stderr",
     "output_type": "stream",
     "text": [
      "\n"
     ]
    },
    {
     "name": "stdout",
     "output_type": "stream",
     "text": [
      "\n",
      "      Epoch    GPU_mem   box_loss   cls_loss   dfl_loss  Instances       Size\n"
     ]
    },
    {
     "name": "stderr",
     "output_type": "stream",
     "text": [
      "     74/100      2.06G      1.299     0.9025          1         13        640: 100%|██████████| 63/63 [00:06<00:00,  9.33it/s]\n",
      "                 Class     Images  Instances      Box(P          R      mAP50  mAP50-95): 100%|██████████| 4/4 [00:00<00:00, 10.41it/s]"
     ]
    },
    {
     "name": "stdout",
     "output_type": "stream",
     "text": [
      "                   all        100         98      0.567      0.653      0.623      0.321\n"
     ]
    },
    {
     "name": "stderr",
     "output_type": "stream",
     "text": [
      "\n"
     ]
    },
    {
     "name": "stdout",
     "output_type": "stream",
     "text": [
      "\n",
      "      Epoch    GPU_mem   box_loss   cls_loss   dfl_loss  Instances       Size\n"
     ]
    },
    {
     "name": "stderr",
     "output_type": "stream",
     "text": [
      "     75/100      2.06G      1.267     0.8834      1.008         15        640: 100%|██████████| 63/63 [00:06<00:00,  9.80it/s]\n",
      "                 Class     Images  Instances      Box(P          R      mAP50  mAP50-95): 100%|██████████| 4/4 [00:00<00:00, 10.46it/s]"
     ]
    },
    {
     "name": "stdout",
     "output_type": "stream",
     "text": [
      "                   all        100         98      0.739      0.592      0.625      0.359\n"
     ]
    },
    {
     "name": "stderr",
     "output_type": "stream",
     "text": [
      "\n"
     ]
    },
    {
     "name": "stdout",
     "output_type": "stream",
     "text": [
      "\n",
      "      Epoch    GPU_mem   box_loss   cls_loss   dfl_loss  Instances       Size\n"
     ]
    },
    {
     "name": "stderr",
     "output_type": "stream",
     "text": [
      "     76/100      2.06G      1.309     0.9169      1.031          9        640: 100%|██████████| 63/63 [00:06<00:00,  9.60it/s]\n",
      "                 Class     Images  Instances      Box(P          R      mAP50  mAP50-95): 100%|██████████| 4/4 [00:00<00:00, 10.77it/s]"
     ]
    },
    {
     "name": "stdout",
     "output_type": "stream",
     "text": [
      "                   all        100         98      0.651      0.561      0.602      0.312\n"
     ]
    },
    {
     "name": "stderr",
     "output_type": "stream",
     "text": [
      "\n"
     ]
    },
    {
     "name": "stdout",
     "output_type": "stream",
     "text": [
      "\n",
      "      Epoch    GPU_mem   box_loss   cls_loss   dfl_loss  Instances       Size\n"
     ]
    },
    {
     "name": "stderr",
     "output_type": "stream",
     "text": [
      "     77/100      2.06G      1.259     0.8779      1.013         17        640: 100%|██████████| 63/63 [00:06<00:00,  9.37it/s]\n",
      "                 Class     Images  Instances      Box(P          R      mAP50  mAP50-95): 100%|██████████| 4/4 [00:00<00:00, 11.44it/s]"
     ]
    },
    {
     "name": "stdout",
     "output_type": "stream",
     "text": [
      "                   all        100         98      0.635      0.622      0.606      0.322\n"
     ]
    },
    {
     "name": "stderr",
     "output_type": "stream",
     "text": [
      "\n"
     ]
    },
    {
     "name": "stdout",
     "output_type": "stream",
     "text": [
      "\n",
      "      Epoch    GPU_mem   box_loss   cls_loss   dfl_loss  Instances       Size\n"
     ]
    },
    {
     "name": "stderr",
     "output_type": "stream",
     "text": [
      "     78/100      2.06G      1.219     0.8436     0.9772         12        640: 100%|██████████| 63/63 [00:06<00:00,  9.88it/s]\n",
      "                 Class     Images  Instances      Box(P          R      mAP50  mAP50-95): 100%|██████████| 4/4 [00:00<00:00, 11.11it/s]"
     ]
    },
    {
     "name": "stdout",
     "output_type": "stream",
     "text": [
      "                   all        100         98      0.719      0.495      0.578      0.332\n"
     ]
    },
    {
     "name": "stderr",
     "output_type": "stream",
     "text": [
      "\n"
     ]
    },
    {
     "name": "stdout",
     "output_type": "stream",
     "text": [
      "\n",
      "      Epoch    GPU_mem   box_loss   cls_loss   dfl_loss  Instances       Size\n"
     ]
    },
    {
     "name": "stderr",
     "output_type": "stream",
     "text": [
      "     79/100      2.06G       1.22     0.8517     0.9796         14        640: 100%|██████████| 63/63 [00:06<00:00,  9.87it/s]\n",
      "                 Class     Images  Instances      Box(P          R      mAP50  mAP50-95): 100%|██████████| 4/4 [00:00<00:00, 10.04it/s]"
     ]
    },
    {
     "name": "stdout",
     "output_type": "stream",
     "text": [
      "                   all        100         98      0.653      0.602      0.608      0.353\n"
     ]
    },
    {
     "name": "stderr",
     "output_type": "stream",
     "text": [
      "\n"
     ]
    },
    {
     "name": "stdout",
     "output_type": "stream",
     "text": [
      "\n",
      "      Epoch    GPU_mem   box_loss   cls_loss   dfl_loss  Instances       Size\n"
     ]
    },
    {
     "name": "stderr",
     "output_type": "stream",
     "text": [
      "     80/100      2.06G      1.209     0.8501      0.994         10        640: 100%|██████████| 63/63 [00:06<00:00,  9.37it/s]\n",
      "                 Class     Images  Instances      Box(P          R      mAP50  mAP50-95): 100%|██████████| 4/4 [00:00<00:00, 10.29it/s]"
     ]
    },
    {
     "name": "stdout",
     "output_type": "stream",
     "text": [
      "                   all        100         98      0.727      0.592      0.629      0.352\n"
     ]
    },
    {
     "name": "stderr",
     "output_type": "stream",
     "text": [
      "\n"
     ]
    },
    {
     "name": "stdout",
     "output_type": "stream",
     "text": [
      "\n",
      "      Epoch    GPU_mem   box_loss   cls_loss   dfl_loss  Instances       Size\n"
     ]
    },
    {
     "name": "stderr",
     "output_type": "stream",
     "text": [
      "     81/100      2.06G      1.236     0.8627     0.9834         14        640: 100%|██████████| 63/63 [00:06<00:00,  9.60it/s]\n",
      "                 Class     Images  Instances      Box(P          R      mAP50  mAP50-95): 100%|██████████| 4/4 [00:00<00:00, 10.77it/s]"
     ]
    },
    {
     "name": "stdout",
     "output_type": "stream",
     "text": [
      "                   all        100         98       0.66      0.551        0.6      0.328\n"
     ]
    },
    {
     "name": "stderr",
     "output_type": "stream",
     "text": [
      "\n"
     ]
    },
    {
     "name": "stdout",
     "output_type": "stream",
     "text": [
      "\n",
      "      Epoch    GPU_mem   box_loss   cls_loss   dfl_loss  Instances       Size\n"
     ]
    },
    {
     "name": "stderr",
     "output_type": "stream",
     "text": [
      "     82/100      2.06G      1.232      0.811     0.9808         16        640: 100%|██████████| 63/63 [00:06<00:00,  9.88it/s]\n",
      "                 Class     Images  Instances      Box(P          R      mAP50  mAP50-95): 100%|██████████| 4/4 [00:00<00:00, 11.53it/s]"
     ]
    },
    {
     "name": "stdout",
     "output_type": "stream",
     "text": [
      "                   all        100         98      0.611      0.612      0.617      0.331\n"
     ]
    },
    {
     "name": "stderr",
     "output_type": "stream",
     "text": [
      "\n"
     ]
    },
    {
     "name": "stdout",
     "output_type": "stream",
     "text": [
      "\n",
      "      Epoch    GPU_mem   box_loss   cls_loss   dfl_loss  Instances       Size\n"
     ]
    },
    {
     "name": "stderr",
     "output_type": "stream",
     "text": [
      "     83/100      2.06G       1.21      0.824     0.9848          8        640: 100%|██████████| 63/63 [00:06<00:00,  9.79it/s]\n",
      "                 Class     Images  Instances      Box(P          R      mAP50  mAP50-95): 100%|██████████| 4/4 [00:00<00:00, 11.05it/s]"
     ]
    },
    {
     "name": "stdout",
     "output_type": "stream",
     "text": [
      "                   all        100         98       0.69      0.592      0.643      0.345\n"
     ]
    },
    {
     "name": "stderr",
     "output_type": "stream",
     "text": [
      "\n"
     ]
    },
    {
     "name": "stdout",
     "output_type": "stream",
     "text": [
      "\n",
      "      Epoch    GPU_mem   box_loss   cls_loss   dfl_loss  Instances       Size\n"
     ]
    },
    {
     "name": "stderr",
     "output_type": "stream",
     "text": [
      "     84/100      2.06G      1.171     0.7841     0.9816         15        640: 100%|██████████| 63/63 [00:06<00:00,  9.81it/s]\n",
      "                 Class     Images  Instances      Box(P          R      mAP50  mAP50-95): 100%|██████████| 4/4 [00:00<00:00, 11.09it/s]"
     ]
    },
    {
     "name": "stdout",
     "output_type": "stream",
     "text": [
      "                   all        100         98      0.627      0.633      0.603      0.339\n"
     ]
    },
    {
     "name": "stderr",
     "output_type": "stream",
     "text": [
      "\n"
     ]
    },
    {
     "name": "stdout",
     "output_type": "stream",
     "text": [
      "\n",
      "      Epoch    GPU_mem   box_loss   cls_loss   dfl_loss  Instances       Size\n"
     ]
    },
    {
     "name": "stderr",
     "output_type": "stream",
     "text": [
      "     85/100      2.06G      1.219     0.8251      0.977         12        640: 100%|██████████| 63/63 [00:06<00:00,  9.82it/s]\n",
      "                 Class     Images  Instances      Box(P          R      mAP50  mAP50-95): 100%|██████████| 4/4 [00:00<00:00, 10.54it/s]"
     ]
    },
    {
     "name": "stdout",
     "output_type": "stream",
     "text": [
      "                   all        100         98       0.68      0.633      0.668      0.366\n"
     ]
    },
    {
     "name": "stderr",
     "output_type": "stream",
     "text": [
      "\n"
     ]
    },
    {
     "name": "stdout",
     "output_type": "stream",
     "text": [
      "\n",
      "      Epoch    GPU_mem   box_loss   cls_loss   dfl_loss  Instances       Size\n"
     ]
    },
    {
     "name": "stderr",
     "output_type": "stream",
     "text": [
      "     86/100      2.06G      1.194     0.7884     0.9731         19        640: 100%|██████████| 63/63 [00:06<00:00,  9.84it/s]\n",
      "                 Class     Images  Instances      Box(P          R      mAP50  mAP50-95): 100%|██████████| 4/4 [00:00<00:00, 10.26it/s]"
     ]
    },
    {
     "name": "stdout",
     "output_type": "stream",
     "text": [
      "                   all        100         98      0.744      0.571       0.65      0.367\n"
     ]
    },
    {
     "name": "stderr",
     "output_type": "stream",
     "text": [
      "\n"
     ]
    },
    {
     "name": "stdout",
     "output_type": "stream",
     "text": [
      "\n",
      "      Epoch    GPU_mem   box_loss   cls_loss   dfl_loss  Instances       Size\n"
     ]
    },
    {
     "name": "stderr",
     "output_type": "stream",
     "text": [
      "     87/100      2.06G      1.206      0.813     0.9731         12        640: 100%|██████████| 63/63 [00:06<00:00,  9.18it/s]\n",
      "                 Class     Images  Instances      Box(P          R      mAP50  mAP50-95): 100%|██████████| 4/4 [00:00<00:00, 10.35it/s]"
     ]
    },
    {
     "name": "stdout",
     "output_type": "stream",
     "text": [
      "                   all        100         98      0.621      0.684      0.666       0.37\n"
     ]
    },
    {
     "name": "stderr",
     "output_type": "stream",
     "text": [
      "\n"
     ]
    },
    {
     "name": "stdout",
     "output_type": "stream",
     "text": [
      "\n",
      "      Epoch    GPU_mem   box_loss   cls_loss   dfl_loss  Instances       Size\n"
     ]
    },
    {
     "name": "stderr",
     "output_type": "stream",
     "text": [
      "     88/100      2.06G      1.199     0.8238     0.9668         18        640: 100%|██████████| 63/63 [00:06<00:00,  9.52it/s]\n",
      "                 Class     Images  Instances      Box(P          R      mAP50  mAP50-95): 100%|██████████| 4/4 [00:00<00:00, 11.64it/s]"
     ]
    },
    {
     "name": "stdout",
     "output_type": "stream",
     "text": [
      "                   all        100         98      0.671      0.602      0.605      0.327\n"
     ]
    },
    {
     "name": "stderr",
     "output_type": "stream",
     "text": [
      "\n"
     ]
    },
    {
     "name": "stdout",
     "output_type": "stream",
     "text": [
      "\n",
      "      Epoch    GPU_mem   box_loss   cls_loss   dfl_loss  Instances       Size\n"
     ]
    },
    {
     "name": "stderr",
     "output_type": "stream",
     "text": [
      "     89/100      2.06G      1.213     0.8251     0.9755          5        640: 100%|██████████| 63/63 [00:06<00:00,  9.42it/s]\n",
      "                 Class     Images  Instances      Box(P          R      mAP50  mAP50-95): 100%|██████████| 4/4 [00:00<00:00,  9.41it/s]"
     ]
    },
    {
     "name": "stdout",
     "output_type": "stream",
     "text": [
      "                   all        100         98      0.735      0.621      0.632      0.347\n"
     ]
    },
    {
     "name": "stderr",
     "output_type": "stream",
     "text": [
      "\n"
     ]
    },
    {
     "name": "stdout",
     "output_type": "stream",
     "text": [
      "\n",
      "      Epoch    GPU_mem   box_loss   cls_loss   dfl_loss  Instances       Size\n"
     ]
    },
    {
     "name": "stderr",
     "output_type": "stream",
     "text": [
      "     90/100      2.06G      1.199     0.8121     0.9835         17        640: 100%|██████████| 63/63 [00:07<00:00,  8.78it/s]\n",
      "                 Class     Images  Instances      Box(P          R      mAP50  mAP50-95): 100%|██████████| 4/4 [00:00<00:00,  9.38it/s]"
     ]
    },
    {
     "name": "stdout",
     "output_type": "stream",
     "text": [
      "                   all        100         98      0.693      0.592      0.628      0.353\n"
     ]
    },
    {
     "name": "stderr",
     "output_type": "stream",
     "text": [
      "\n"
     ]
    },
    {
     "name": "stdout",
     "output_type": "stream",
     "text": [
      "Closing dataloader mosaic\n",
      "\n",
      "      Epoch    GPU_mem   box_loss   cls_loss   dfl_loss  Instances       Size\n"
     ]
    },
    {
     "name": "stderr",
     "output_type": "stream",
     "text": [
      "     91/100      2.06G      1.196     0.8433     0.9878         10        640: 100%|██████████| 63/63 [00:06<00:00,  9.56it/s]\n",
      "                 Class     Images  Instances      Box(P          R      mAP50  mAP50-95): 100%|██████████| 4/4 [00:00<00:00, 10.49it/s]"
     ]
    },
    {
     "name": "stdout",
     "output_type": "stream",
     "text": [
      "                   all        100         98      0.702      0.602       0.63      0.355\n"
     ]
    },
    {
     "name": "stderr",
     "output_type": "stream",
     "text": [
      "\n"
     ]
    },
    {
     "name": "stdout",
     "output_type": "stream",
     "text": [
      "\n",
      "      Epoch    GPU_mem   box_loss   cls_loss   dfl_loss  Instances       Size\n"
     ]
    },
    {
     "name": "stderr",
     "output_type": "stream",
     "text": [
      "     92/100      2.06G      1.147     0.7921     0.9551          8        640: 100%|██████████| 63/63 [00:06<00:00,  9.36it/s]\n",
      "                 Class     Images  Instances      Box(P          R      mAP50  mAP50-95): 100%|██████████| 4/4 [00:00<00:00, 10.30it/s]"
     ]
    },
    {
     "name": "stdout",
     "output_type": "stream",
     "text": [
      "                   all        100         98      0.617      0.622      0.597      0.336\n"
     ]
    },
    {
     "name": "stderr",
     "output_type": "stream",
     "text": [
      "\n"
     ]
    },
    {
     "name": "stdout",
     "output_type": "stream",
     "text": [
      "\n",
      "      Epoch    GPU_mem   box_loss   cls_loss   dfl_loss  Instances       Size\n"
     ]
    },
    {
     "name": "stderr",
     "output_type": "stream",
     "text": [
      "     93/100      2.06G       1.14      0.766      0.962         12        640: 100%|██████████| 63/63 [00:06<00:00,  9.53it/s]\n",
      "                 Class     Images  Instances      Box(P          R      mAP50  mAP50-95): 100%|██████████| 4/4 [00:00<00:00, 10.53it/s]"
     ]
    },
    {
     "name": "stdout",
     "output_type": "stream",
     "text": [
      "                   all        100         98      0.685      0.576        0.6      0.325\n"
     ]
    },
    {
     "name": "stderr",
     "output_type": "stream",
     "text": [
      "\n"
     ]
    },
    {
     "name": "stdout",
     "output_type": "stream",
     "text": [
      "\n",
      "      Epoch    GPU_mem   box_loss   cls_loss   dfl_loss  Instances       Size\n"
     ]
    },
    {
     "name": "stderr",
     "output_type": "stream",
     "text": [
      "     94/100      2.06G      1.149     0.7581     0.9684          6        640: 100%|██████████| 63/63 [00:06<00:00,  9.87it/s]\n",
      "                 Class     Images  Instances      Box(P          R      mAP50  mAP50-95): 100%|██████████| 4/4 [00:00<00:00, 10.28it/s]"
     ]
    },
    {
     "name": "stdout",
     "output_type": "stream",
     "text": [
      "                   all        100         98      0.612      0.643      0.626      0.338\n"
     ]
    },
    {
     "name": "stderr",
     "output_type": "stream",
     "text": [
      "\n"
     ]
    },
    {
     "name": "stdout",
     "output_type": "stream",
     "text": [
      "\n",
      "      Epoch    GPU_mem   box_loss   cls_loss   dfl_loss  Instances       Size\n"
     ]
    },
    {
     "name": "stderr",
     "output_type": "stream",
     "text": [
      "     95/100      2.06G      1.135     0.7532      0.967          6        640: 100%|██████████| 63/63 [00:06<00:00,  9.84it/s]\n",
      "                 Class     Images  Instances      Box(P          R      mAP50  mAP50-95): 100%|██████████| 4/4 [00:00<00:00, 10.97it/s]"
     ]
    },
    {
     "name": "stdout",
     "output_type": "stream",
     "text": [
      "                   all        100         98      0.656      0.603      0.601      0.332\n"
     ]
    },
    {
     "name": "stderr",
     "output_type": "stream",
     "text": [
      "\n"
     ]
    },
    {
     "name": "stdout",
     "output_type": "stream",
     "text": [
      "\n",
      "      Epoch    GPU_mem   box_loss   cls_loss   dfl_loss  Instances       Size\n"
     ]
    },
    {
     "name": "stderr",
     "output_type": "stream",
     "text": [
      "     96/100      2.06G      1.121     0.7608     0.9768          7        640: 100%|██████████| 63/63 [00:06<00:00,  9.94it/s]\n",
      "                 Class     Images  Instances      Box(P          R      mAP50  mAP50-95): 100%|██████████| 4/4 [00:00<00:00, 10.95it/s]"
     ]
    },
    {
     "name": "stdout",
     "output_type": "stream",
     "text": [
      "                   all        100         98      0.659      0.622      0.604      0.327\n"
     ]
    },
    {
     "name": "stderr",
     "output_type": "stream",
     "text": [
      "\n"
     ]
    },
    {
     "name": "stdout",
     "output_type": "stream",
     "text": [
      "\n",
      "      Epoch    GPU_mem   box_loss   cls_loss   dfl_loss  Instances       Size\n"
     ]
    },
    {
     "name": "stderr",
     "output_type": "stream",
     "text": [
      "     97/100      2.06G      1.105     0.7281     0.9395          5        640: 100%|██████████| 63/63 [00:06<00:00,  9.73it/s]\n",
      "                 Class     Images  Instances      Box(P          R      mAP50  mAP50-95): 100%|██████████| 4/4 [00:00<00:00, 11.04it/s]"
     ]
    },
    {
     "name": "stdout",
     "output_type": "stream",
     "text": [
      "                   all        100         98      0.683      0.602       0.61      0.335\n"
     ]
    },
    {
     "name": "stderr",
     "output_type": "stream",
     "text": [
      "\n"
     ]
    },
    {
     "name": "stdout",
     "output_type": "stream",
     "text": [
      "\n",
      "      Epoch    GPU_mem   box_loss   cls_loss   dfl_loss  Instances       Size\n"
     ]
    },
    {
     "name": "stderr",
     "output_type": "stream",
     "text": [
      "     98/100      2.06G      1.098     0.7012     0.9515          6        640: 100%|██████████| 63/63 [00:06<00:00,  9.96it/s]\n",
      "                 Class     Images  Instances      Box(P          R      mAP50  mAP50-95): 100%|██████████| 4/4 [00:00<00:00, 10.61it/s]"
     ]
    },
    {
     "name": "stdout",
     "output_type": "stream",
     "text": [
      "                   all        100         98      0.686      0.602      0.622      0.331\n"
     ]
    },
    {
     "name": "stderr",
     "output_type": "stream",
     "text": [
      "\n"
     ]
    },
    {
     "name": "stdout",
     "output_type": "stream",
     "text": [
      "\n",
      "      Epoch    GPU_mem   box_loss   cls_loss   dfl_loss  Instances       Size\n"
     ]
    },
    {
     "name": "stderr",
     "output_type": "stream",
     "text": [
      "     99/100      2.06G      1.093     0.7244     0.9591          5        640: 100%|██████████| 63/63 [00:06<00:00, 10.15it/s]\n",
      "                 Class     Images  Instances      Box(P          R      mAP50  mAP50-95): 100%|██████████| 4/4 [00:00<00:00, 11.34it/s]"
     ]
    },
    {
     "name": "stdout",
     "output_type": "stream",
     "text": [
      "                   all        100         98      0.647      0.633      0.615      0.332\n"
     ]
    },
    {
     "name": "stderr",
     "output_type": "stream",
     "text": [
      "\n"
     ]
    },
    {
     "name": "stdout",
     "output_type": "stream",
     "text": [
      "\n",
      "      Epoch    GPU_mem   box_loss   cls_loss   dfl_loss  Instances       Size\n"
     ]
    },
    {
     "name": "stderr",
     "output_type": "stream",
     "text": [
      "    100/100      2.06G      1.072     0.6874     0.9475          5        640: 100%|██████████| 63/63 [00:06<00:00,  9.97it/s]\n",
      "                 Class     Images  Instances      Box(P          R      mAP50  mAP50-95): 100%|██████████| 4/4 [00:00<00:00,  9.54it/s]"
     ]
    },
    {
     "name": "stdout",
     "output_type": "stream",
     "text": [
      "                   all        100         98      0.679      0.643      0.624      0.336\n"
     ]
    },
    {
     "name": "stderr",
     "output_type": "stream",
     "text": [
      "\n"
     ]
    },
    {
     "name": "stdout",
     "output_type": "stream",
     "text": [
      "\n",
      "100 epochs completed in 0.209 hours.\n",
      "Optimizer stripped from runs\\detect\\train\\weights\\last.pt, 6.2MB\n",
      "Optimizer stripped from runs\\detect\\train\\weights\\best.pt, 6.2MB\n",
      "\n",
      "Validating runs\\detect\\train\\weights\\best.pt...\n",
      "Ultralytics 8.3.107  Python-3.11.6 torch-2.5.1+cu121 CUDA:0 (NVIDIA GeForce RTX 3070, 8192MiB)\n",
      "Model summary (fused): 72 layers, 3,005,843 parameters, 0 gradients, 8.1 GFLOPs\n"
     ]
    },
    {
     "name": "stderr",
     "output_type": "stream",
     "text": [
      "                 Class     Images  Instances      Box(P          R      mAP50  mAP50-95): 100%|██████████| 4/4 [00:00<00:00,  7.04it/s]\n"
     ]
    },
    {
     "name": "stdout",
     "output_type": "stream",
     "text": [
      "                   all        100         98      0.626      0.684      0.666      0.368\n",
      "Speed: 0.2ms preprocess, 0.9ms inference, 0.0ms loss, 0.8ms postprocess per image\n",
      "Results saved to \u001b[1mruns\\detect\\train\u001b[0m\n"
     ]
    },
    {
     "data": {
      "text/plain": [
       "ultralytics.utils.metrics.DetMetrics object with attributes:\n",
       "\n",
       "ap_class_index: array([0])\n",
       "box: ultralytics.utils.metrics.Metric object\n",
       "confusion_matrix: <ultralytics.utils.metrics.ConfusionMatrix object at 0x000002503C4B7A50>\n",
       "curves: ['Precision-Recall(B)', 'F1-Confidence(B)', 'Precision-Confidence(B)', 'Recall-Confidence(B)']\n",
       "curves_results: [[array([          0,    0.001001,    0.002002,    0.003003,    0.004004,    0.005005,    0.006006,    0.007007,    0.008008,    0.009009,     0.01001,    0.011011,    0.012012,    0.013013,    0.014014,    0.015015,    0.016016,    0.017017,    0.018018,    0.019019,     0.02002,    0.021021,    0.022022,    0.023023,\n",
       "          0.024024,    0.025025,    0.026026,    0.027027,    0.028028,    0.029029,     0.03003,    0.031031,    0.032032,    0.033033,    0.034034,    0.035035,    0.036036,    0.037037,    0.038038,    0.039039,     0.04004,    0.041041,    0.042042,    0.043043,    0.044044,    0.045045,    0.046046,    0.047047,\n",
       "          0.048048,    0.049049,     0.05005,    0.051051,    0.052052,    0.053053,    0.054054,    0.055055,    0.056056,    0.057057,    0.058058,    0.059059,     0.06006,    0.061061,    0.062062,    0.063063,    0.064064,    0.065065,    0.066066,    0.067067,    0.068068,    0.069069,     0.07007,    0.071071,\n",
       "          0.072072,    0.073073,    0.074074,    0.075075,    0.076076,    0.077077,    0.078078,    0.079079,     0.08008,    0.081081,    0.082082,    0.083083,    0.084084,    0.085085,    0.086086,    0.087087,    0.088088,    0.089089,     0.09009,    0.091091,    0.092092,    0.093093,    0.094094,    0.095095,\n",
       "          0.096096,    0.097097,    0.098098,    0.099099,      0.1001,      0.1011,      0.1021,      0.1031,      0.1041,     0.10511,     0.10611,     0.10711,     0.10811,     0.10911,     0.11011,     0.11111,     0.11211,     0.11311,     0.11411,     0.11512,     0.11612,     0.11712,     0.11812,     0.11912,\n",
       "           0.12012,     0.12112,     0.12212,     0.12312,     0.12412,     0.12513,     0.12613,     0.12713,     0.12813,     0.12913,     0.13013,     0.13113,     0.13213,     0.13313,     0.13413,     0.13514,     0.13614,     0.13714,     0.13814,     0.13914,     0.14014,     0.14114,     0.14214,     0.14314,\n",
       "           0.14414,     0.14515,     0.14615,     0.14715,     0.14815,     0.14915,     0.15015,     0.15115,     0.15215,     0.15315,     0.15415,     0.15516,     0.15616,     0.15716,     0.15816,     0.15916,     0.16016,     0.16116,     0.16216,     0.16316,     0.16416,     0.16517,     0.16617,     0.16717,\n",
       "           0.16817,     0.16917,     0.17017,     0.17117,     0.17217,     0.17317,     0.17417,     0.17518,     0.17618,     0.17718,     0.17818,     0.17918,     0.18018,     0.18118,     0.18218,     0.18318,     0.18418,     0.18519,     0.18619,     0.18719,     0.18819,     0.18919,     0.19019,     0.19119,\n",
       "           0.19219,     0.19319,     0.19419,      0.1952,      0.1962,      0.1972,      0.1982,      0.1992,      0.2002,      0.2012,      0.2022,      0.2032,      0.2042,     0.20521,     0.20621,     0.20721,     0.20821,     0.20921,     0.21021,     0.21121,     0.21221,     0.21321,     0.21421,     0.21522,\n",
       "           0.21622,     0.21722,     0.21822,     0.21922,     0.22022,     0.22122,     0.22222,     0.22322,     0.22422,     0.22523,     0.22623,     0.22723,     0.22823,     0.22923,     0.23023,     0.23123,     0.23223,     0.23323,     0.23423,     0.23524,     0.23624,     0.23724,     0.23824,     0.23924,\n",
       "           0.24024,     0.24124,     0.24224,     0.24324,     0.24424,     0.24525,     0.24625,     0.24725,     0.24825,     0.24925,     0.25025,     0.25125,     0.25225,     0.25325,     0.25425,     0.25526,     0.25626,     0.25726,     0.25826,     0.25926,     0.26026,     0.26126,     0.26226,     0.26326,\n",
       "           0.26426,     0.26527,     0.26627,     0.26727,     0.26827,     0.26927,     0.27027,     0.27127,     0.27227,     0.27327,     0.27427,     0.27528,     0.27628,     0.27728,     0.27828,     0.27928,     0.28028,     0.28128,     0.28228,     0.28328,     0.28428,     0.28529,     0.28629,     0.28729,\n",
       "           0.28829,     0.28929,     0.29029,     0.29129,     0.29229,     0.29329,     0.29429,      0.2953,      0.2963,      0.2973,      0.2983,      0.2993,      0.3003,      0.3013,      0.3023,      0.3033,      0.3043,     0.30531,     0.30631,     0.30731,     0.30831,     0.30931,     0.31031,     0.31131,\n",
       "           0.31231,     0.31331,     0.31431,     0.31532,     0.31632,     0.31732,     0.31832,     0.31932,     0.32032,     0.32132,     0.32232,     0.32332,     0.32432,     0.32533,     0.32633,     0.32733,     0.32833,     0.32933,     0.33033,     0.33133,     0.33233,     0.33333,     0.33433,     0.33534,\n",
       "           0.33634,     0.33734,     0.33834,     0.33934,     0.34034,     0.34134,     0.34234,     0.34334,     0.34434,     0.34535,     0.34635,     0.34735,     0.34835,     0.34935,     0.35035,     0.35135,     0.35235,     0.35335,     0.35435,     0.35536,     0.35636,     0.35736,     0.35836,     0.35936,\n",
       "           0.36036,     0.36136,     0.36236,     0.36336,     0.36436,     0.36537,     0.36637,     0.36737,     0.36837,     0.36937,     0.37037,     0.37137,     0.37237,     0.37337,     0.37437,     0.37538,     0.37638,     0.37738,     0.37838,     0.37938,     0.38038,     0.38138,     0.38238,     0.38338,\n",
       "           0.38438,     0.38539,     0.38639,     0.38739,     0.38839,     0.38939,     0.39039,     0.39139,     0.39239,     0.39339,     0.39439,      0.3954,      0.3964,      0.3974,      0.3984,      0.3994,      0.4004,      0.4014,      0.4024,      0.4034,      0.4044,     0.40541,     0.40641,     0.40741,\n",
       "           0.40841,     0.40941,     0.41041,     0.41141,     0.41241,     0.41341,     0.41441,     0.41542,     0.41642,     0.41742,     0.41842,     0.41942,     0.42042,     0.42142,     0.42242,     0.42342,     0.42442,     0.42543,     0.42643,     0.42743,     0.42843,     0.42943,     0.43043,     0.43143,\n",
       "           0.43243,     0.43343,     0.43443,     0.43544,     0.43644,     0.43744,     0.43844,     0.43944,     0.44044,     0.44144,     0.44244,     0.44344,     0.44444,     0.44545,     0.44645,     0.44745,     0.44845,     0.44945,     0.45045,     0.45145,     0.45245,     0.45345,     0.45445,     0.45546,\n",
       "           0.45646,     0.45746,     0.45846,     0.45946,     0.46046,     0.46146,     0.46246,     0.46346,     0.46446,     0.46547,     0.46647,     0.46747,     0.46847,     0.46947,     0.47047,     0.47147,     0.47247,     0.47347,     0.47447,     0.47548,     0.47648,     0.47748,     0.47848,     0.47948,\n",
       "           0.48048,     0.48148,     0.48248,     0.48348,     0.48448,     0.48549,     0.48649,     0.48749,     0.48849,     0.48949,     0.49049,     0.49149,     0.49249,     0.49349,     0.49449,      0.4955,      0.4965,      0.4975,      0.4985,      0.4995,      0.5005,      0.5015,      0.5025,      0.5035,\n",
       "            0.5045,     0.50551,     0.50651,     0.50751,     0.50851,     0.50951,     0.51051,     0.51151,     0.51251,     0.51351,     0.51451,     0.51552,     0.51652,     0.51752,     0.51852,     0.51952,     0.52052,     0.52152,     0.52252,     0.52352,     0.52452,     0.52553,     0.52653,     0.52753,\n",
       "           0.52853,     0.52953,     0.53053,     0.53153,     0.53253,     0.53353,     0.53453,     0.53554,     0.53654,     0.53754,     0.53854,     0.53954,     0.54054,     0.54154,     0.54254,     0.54354,     0.54454,     0.54555,     0.54655,     0.54755,     0.54855,     0.54955,     0.55055,     0.55155,\n",
       "           0.55255,     0.55355,     0.55455,     0.55556,     0.55656,     0.55756,     0.55856,     0.55956,     0.56056,     0.56156,     0.56256,     0.56356,     0.56456,     0.56557,     0.56657,     0.56757,     0.56857,     0.56957,     0.57057,     0.57157,     0.57257,     0.57357,     0.57457,     0.57558,\n",
       "           0.57658,     0.57758,     0.57858,     0.57958,     0.58058,     0.58158,     0.58258,     0.58358,     0.58458,     0.58559,     0.58659,     0.58759,     0.58859,     0.58959,     0.59059,     0.59159,     0.59259,     0.59359,     0.59459,      0.5956,      0.5966,      0.5976,      0.5986,      0.5996,\n",
       "            0.6006,      0.6016,      0.6026,      0.6036,      0.6046,     0.60561,     0.60661,     0.60761,     0.60861,     0.60961,     0.61061,     0.61161,     0.61261,     0.61361,     0.61461,     0.61562,     0.61662,     0.61762,     0.61862,     0.61962,     0.62062,     0.62162,     0.62262,     0.62362,\n",
       "           0.62462,     0.62563,     0.62663,     0.62763,     0.62863,     0.62963,     0.63063,     0.63163,     0.63263,     0.63363,     0.63463,     0.63564,     0.63664,     0.63764,     0.63864,     0.63964,     0.64064,     0.64164,     0.64264,     0.64364,     0.64464,     0.64565,     0.64665,     0.64765,\n",
       "           0.64865,     0.64965,     0.65065,     0.65165,     0.65265,     0.65365,     0.65465,     0.65566,     0.65666,     0.65766,     0.65866,     0.65966,     0.66066,     0.66166,     0.66266,     0.66366,     0.66466,     0.66567,     0.66667,     0.66767,     0.66867,     0.66967,     0.67067,     0.67167,\n",
       "           0.67267,     0.67367,     0.67467,     0.67568,     0.67668,     0.67768,     0.67868,     0.67968,     0.68068,     0.68168,     0.68268,     0.68368,     0.68468,     0.68569,     0.68669,     0.68769,     0.68869,     0.68969,     0.69069,     0.69169,     0.69269,     0.69369,     0.69469,      0.6957,\n",
       "            0.6967,      0.6977,      0.6987,      0.6997,      0.7007,      0.7017,      0.7027,      0.7037,      0.7047,     0.70571,     0.70671,     0.70771,     0.70871,     0.70971,     0.71071,     0.71171,     0.71271,     0.71371,     0.71471,     0.71572,     0.71672,     0.71772,     0.71872,     0.71972,\n",
       "           0.72072,     0.72172,     0.72272,     0.72372,     0.72472,     0.72573,     0.72673,     0.72773,     0.72873,     0.72973,     0.73073,     0.73173,     0.73273,     0.73373,     0.73473,     0.73574,     0.73674,     0.73774,     0.73874,     0.73974,     0.74074,     0.74174,     0.74274,     0.74374,\n",
       "           0.74474,     0.74575,     0.74675,     0.74775,     0.74875,     0.74975,     0.75075,     0.75175,     0.75275,     0.75375,     0.75475,     0.75576,     0.75676,     0.75776,     0.75876,     0.75976,     0.76076,     0.76176,     0.76276,     0.76376,     0.76476,     0.76577,     0.76677,     0.76777,\n",
       "           0.76877,     0.76977,     0.77077,     0.77177,     0.77277,     0.77377,     0.77477,     0.77578,     0.77678,     0.77778,     0.77878,     0.77978,     0.78078,     0.78178,     0.78278,     0.78378,     0.78478,     0.78579,     0.78679,     0.78779,     0.78879,     0.78979,     0.79079,     0.79179,\n",
       "           0.79279,     0.79379,     0.79479,      0.7958,      0.7968,      0.7978,      0.7988,      0.7998,      0.8008,      0.8018,      0.8028,      0.8038,      0.8048,     0.80581,     0.80681,     0.80781,     0.80881,     0.80981,     0.81081,     0.81181,     0.81281,     0.81381,     0.81481,     0.81582,\n",
       "           0.81682,     0.81782,     0.81882,     0.81982,     0.82082,     0.82182,     0.82282,     0.82382,     0.82482,     0.82583,     0.82683,     0.82783,     0.82883,     0.82983,     0.83083,     0.83183,     0.83283,     0.83383,     0.83483,     0.83584,     0.83684,     0.83784,     0.83884,     0.83984,\n",
       "           0.84084,     0.84184,     0.84284,     0.84384,     0.84484,     0.84585,     0.84685,     0.84785,     0.84885,     0.84985,     0.85085,     0.85185,     0.85285,     0.85385,     0.85485,     0.85586,     0.85686,     0.85786,     0.85886,     0.85986,     0.86086,     0.86186,     0.86286,     0.86386,\n",
       "           0.86486,     0.86587,     0.86687,     0.86787,     0.86887,     0.86987,     0.87087,     0.87187,     0.87287,     0.87387,     0.87487,     0.87588,     0.87688,     0.87788,     0.87888,     0.87988,     0.88088,     0.88188,     0.88288,     0.88388,     0.88488,     0.88589,     0.88689,     0.88789,\n",
       "           0.88889,     0.88989,     0.89089,     0.89189,     0.89289,     0.89389,     0.89489,      0.8959,      0.8969,      0.8979,      0.8989,      0.8999,      0.9009,      0.9019,      0.9029,      0.9039,      0.9049,     0.90591,     0.90691,     0.90791,     0.90891,     0.90991,     0.91091,     0.91191,\n",
       "           0.91291,     0.91391,     0.91491,     0.91592,     0.91692,     0.91792,     0.91892,     0.91992,     0.92092,     0.92192,     0.92292,     0.92392,     0.92492,     0.92593,     0.92693,     0.92793,     0.92893,     0.92993,     0.93093,     0.93193,     0.93293,     0.93393,     0.93493,     0.93594,\n",
       "           0.93694,     0.93794,     0.93894,     0.93994,     0.94094,     0.94194,     0.94294,     0.94394,     0.94494,     0.94595,     0.94695,     0.94795,     0.94895,     0.94995,     0.95095,     0.95195,     0.95295,     0.95395,     0.95495,     0.95596,     0.95696,     0.95796,     0.95896,     0.95996,\n",
       "           0.96096,     0.96196,     0.96296,     0.96396,     0.96496,     0.96597,     0.96697,     0.96797,     0.96897,     0.96997,     0.97097,     0.97197,     0.97297,     0.97397,     0.97497,     0.97598,     0.97698,     0.97798,     0.97898,     0.97998,     0.98098,     0.98198,     0.98298,     0.98398,\n",
       "           0.98498,     0.98599,     0.98699,     0.98799,     0.98899,     0.98999,     0.99099,     0.99199,     0.99299,     0.99399,     0.99499,       0.996,       0.997,       0.998,       0.999,           1]), array([[          1,           1,           1,           1,           1,           1,           1,           1,           1,           1,           1,           1,           1,           1,           1,           1,           1,           1,           1,           1,           1,           1,           1,\n",
       "                  1,           1,           1,           1,           1,           1,           1,           1,           1,           1,           1,           1,           1,           1,           1,           1,           1,           1,           1,           1,           1,           1,           1,\n",
       "                  1,           1,           1,           1,           1,           1,           1,           1,           1,           1,           1,           1,           1,           1,           1,           1,           1,           1,           1,           1,           1,           1,           1,\n",
       "                  1,           1,           1,           1,           1,           1,           1,           1,           1,           1,           1,           1,           1,           1,           1,           1,           1,           1,           1,           1,           1,           1,           1,\n",
       "                  1,           1,           1,           1,           1,           1,           1,           1,           1,           1,           1,           1,           1,           1,           1,           1,           1,           1,           1,           1,           1,           1,           1,\n",
       "                  1,           1,           1,           1,           1,           1,           1,           1,           1,           1,           1,           1,           1,           1,           1,           1,           1,           1,           1,           1,           1,           1,           1,\n",
       "                  1,           1,           1,           1,           1,           1,           1,           1,           1,           1,           1,           1,           1,           1,           1,           1,           1,           1,           1,           1,           1,           1,           1,\n",
       "                  1,           1,           1,           1,           1,           1,           1,           1,           1,           1,           1,           1,           1,           1,           1,           1,           1,           1,           1,           1,           1,           1,           1,\n",
       "               0.95,        0.95,        0.95,        0.95,        0.95,        0.95,        0.95,        0.95,        0.95,        0.95,     0.91304,     0.91304,     0.91304,     0.91304,     0.91304,     0.91304,     0.91304,     0.91304,     0.91304,     0.91304,     0.91304,     0.91304,     0.91304,\n",
       "            0.91304,     0.91304,     0.91304,     0.91304,     0.91304,     0.91304,     0.91304,     0.91304,         0.9,         0.9,         0.9,         0.9,         0.9,         0.9,         0.9,         0.9,         0.9,         0.9,         0.9,         0.9,         0.9,         0.9,         0.9,\n",
       "                0.9,         0.9,         0.9,         0.9,         0.9,         0.9,         0.9,         0.9,         0.9,         0.9,         0.9,         0.9,         0.9,         0.9,         0.9,         0.9,         0.9,         0.9,         0.9,         0.9,         0.9,         0.9,         0.9,\n",
       "                0.9,         0.9,         0.9,         0.9,         0.9,         0.9,         0.9,         0.9,         0.9,         0.9,         0.9,         0.9,         0.9,         0.9,         0.9,         0.9,         0.9,         0.9,         0.9,         0.9,         0.9,         0.9,         0.9,\n",
       "                0.9,         0.9,         0.9,         0.9,         0.9,         0.9,         0.9,         0.9,         0.9,         0.9,         0.9,         0.9,         0.9,         0.9,         0.9,         0.9,         0.9,         0.9,         0.9,         0.9,         0.9,         0.9,         0.9,\n",
       "                0.9,         0.9,         0.9,         0.9,         0.9,         0.9,         0.9,         0.9,         0.9,         0.9,         0.9,         0.9,         0.9,         0.9,         0.9,         0.9,         0.9,         0.9,         0.9,         0.9,         0.9,         0.9,         0.9,\n",
       "                0.9,         0.9,         0.9,         0.9,         0.9,         0.9,         0.9,         0.9,         0.9,         0.9,         0.9,         0.9,         0.9,         0.9,         0.9,         0.9,         0.9,         0.9,         0.9,         0.9,         0.9,         0.9,         0.9,\n",
       "                0.9,         0.9,         0.9,         0.9,         0.9,         0.9,         0.9,         0.9,         0.9,         0.9,         0.9,         0.9,         0.9,         0.9,         0.9,         0.9,         0.9,         0.9,         0.9,         0.9,         0.9,         0.9,     0.86957,\n",
       "            0.86957,     0.86957,     0.86957,     0.86957,     0.86957,     0.86957,     0.86957,     0.86957,     0.86957,     0.86957,     0.86957,     0.86957,     0.86957,     0.86957,     0.86957,     0.86957,     0.86957,     0.86957,     0.86957,     0.86957,     0.86957,     0.86957,     0.86957,\n",
       "            0.86957,     0.86957,     0.86957,     0.86957,     0.86957,     0.86957,     0.86957,     0.86957,     0.86957,     0.86957,     0.86957,     0.86957,     0.86957,     0.86957,     0.86957,     0.86957,     0.86957,     0.82759,     0.82759,     0.82759,     0.82759,     0.82759,     0.82759,\n",
       "            0.82759,     0.82759,     0.82759,     0.82759,     0.82759,     0.82759,     0.82759,     0.82759,     0.82759,     0.82759,     0.82759,     0.82759,     0.82759,     0.82759,     0.82759,     0.82759,     0.82759,     0.82759,     0.82759,     0.82759,     0.82759,     0.82759,     0.82759,\n",
       "            0.82759,     0.82759,     0.82759,     0.82759,     0.82759,     0.82759,     0.82759,     0.82759,     0.82759,     0.82759,     0.82759,     0.82759,     0.82759,     0.82759,     0.82759,     0.82759,     0.82759,     0.82759,     0.82759,     0.82759,     0.82759,     0.82759,     0.82759,\n",
       "            0.82759,     0.82759,     0.82759,     0.82759,     0.82759,     0.82759,     0.82759,     0.82759,     0.82759,     0.82759,     0.82759,     0.82759,     0.82759,     0.82759,     0.82759,     0.82759,     0.82759,     0.82759,     0.82759,     0.82759,     0.82759,     0.82759,     0.82759,\n",
       "            0.82759,     0.82759,     0.82759,     0.82759,     0.82759,     0.82759,     0.82759,     0.81967,     0.81967,     0.81967,     0.81967,     0.81967,     0.81967,     0.81967,     0.81967,     0.81967,     0.81967,     0.81967,     0.81967,     0.81967,     0.81967,     0.81967,     0.81967,\n",
       "            0.81967,     0.81967,     0.81967,     0.81967,     0.79688,     0.79688,     0.79688,     0.79688,     0.79688,     0.79688,     0.79688,     0.79688,     0.79688,     0.79688,     0.77612,     0.77612,     0.77612,     0.77612,     0.77612,     0.77612,     0.77612,     0.77612,     0.77612,\n",
       "            0.77612,     0.77612,     0.75714,     0.75714,     0.75714,     0.75714,     0.75714,     0.75714,     0.75714,     0.75714,     0.75714,     0.75714,     0.75342,     0.75342,     0.75342,     0.75342,     0.75342,     0.75342,     0.75342,     0.75342,     0.75342,     0.75342,     0.75342,\n",
       "            0.75342,     0.75342,     0.75342,     0.75342,     0.75342,     0.75342,     0.75342,     0.75342,     0.75342,     0.69136,     0.69136,     0.69136,     0.69136,     0.69136,     0.69136,     0.69136,     0.69136,     0.69136,     0.69136,     0.67857,     0.67857,     0.67857,     0.67857,\n",
       "            0.67857,     0.67857,     0.67857,     0.67857,     0.67857,     0.67857,     0.67857,     0.67816,     0.67816,     0.67816,     0.67816,     0.67816,     0.67816,     0.67816,     0.67816,     0.67816,     0.67816,     0.67816,     0.67816,     0.67816,     0.67816,     0.67816,     0.67816,\n",
       "            0.67816,     0.67816,     0.67816,     0.67816,     0.67708,     0.67708,     0.67708,     0.67708,     0.67708,     0.67708,     0.67708,     0.67708,     0.67708,     0.67708,     0.67708,     0.67708,     0.67708,     0.67708,     0.67708,     0.67708,     0.67708,     0.67708,     0.67708,\n",
       "            0.67708,     0.67708,     0.67708,     0.67708,     0.67708,     0.67708,     0.67708,     0.67708,     0.67708,     0.67708,     0.67708,     0.67708,     0.67708,     0.67708,     0.67708,     0.67708,     0.67708,     0.67708,     0.67708,     0.67708,     0.67708,     0.67708,     0.67708,\n",
       "            0.67708,     0.67708,     0.67708,     0.67708,     0.67708,     0.67708,     0.67708,     0.67708,     0.67708,     0.67708,     0.67708,     0.67708,     0.67708,     0.67708,     0.67708,     0.67708,     0.67708,     0.67708,     0.67708,     0.65347,     0.65347,     0.65347,     0.65347,\n",
       "            0.65347,     0.65347,     0.65347,     0.65347,     0.65347,     0.65347,     0.64423,     0.64423,     0.64423,     0.64423,     0.64423,     0.64423,     0.64423,     0.64423,     0.64423,     0.64423,     0.62963,     0.62963,     0.62963,     0.62963,     0.62963,     0.62963,     0.62963,\n",
       "            0.62963,     0.62963,     0.62963,     0.62963,     0.60345,     0.60345,     0.60345,     0.60345,     0.60345,     0.60345,     0.60345,     0.60345,     0.60345,     0.60345,     0.60345,     0.60345,     0.60345,     0.60345,     0.60345,     0.60345,     0.60345,     0.60345,     0.60345,\n",
       "            0.60345,     0.60169,     0.60169,     0.60169,     0.60169,     0.60169,     0.60169,     0.60169,     0.60169,     0.60169,     0.60169,       0.576,       0.576,       0.576,       0.576,       0.576,       0.576,       0.576,       0.576,       0.576,       0.576,     0.56589,     0.56589,\n",
       "            0.56589,     0.56589,     0.56589,     0.56589,     0.56589,     0.56589,     0.56589,     0.56589,     0.56589,     0.48684,     0.48684,     0.48684,     0.48684,     0.48684,     0.48684,     0.48684,     0.48684,     0.48684,     0.48684,      0.4491,      0.4491,      0.4491,      0.4491,\n",
       "             0.4491,      0.4491,      0.4491,      0.4491,      0.4491,      0.4491,     0.43182,     0.43182,     0.43182,     0.43182,     0.43182,     0.43182,     0.43182,     0.43182,     0.43182,     0.43182,     0.41622,     0.41622,     0.41622,     0.41622,     0.41622,     0.41622,     0.41622,\n",
       "            0.41622,     0.41622,     0.41622,     0.29771,     0.29771,     0.29771,     0.29771,     0.29771,     0.29771,     0.29771,     0.29771,     0.29771,     0.29771,     0.29771,     0.29368,     0.29368,     0.29368,     0.29368,     0.29368,     0.29368,     0.29368,     0.29368,     0.29368,\n",
       "            0.29368,     0.18349,     0.18349,     0.18349,     0.18349,     0.18349,     0.18349,     0.18349,     0.18349,     0.18349,     0.18349,     0.15667,     0.15667,     0.15667,     0.15667,     0.15667,     0.15667,     0.15667,     0.15667,     0.15667,     0.15667,     0.12833,     0.12833,\n",
       "            0.12833,     0.12833,     0.12833,     0.12833,     0.12833,     0.12833,     0.12833,     0.12833,      0.1074,     0.10674,     0.10609,     0.10543,     0.10477,     0.10411,     0.10345,     0.10279,     0.10213,     0.10147,     0.10081,     0.10016,    0.099496,    0.098837,    0.098178,\n",
       "            0.09752,    0.096861,    0.096202,    0.095543,    0.094884,    0.094225,    0.093566,    0.092907,    0.092248,    0.091589,     0.09093,    0.090271,    0.089613,    0.088954,    0.088295,    0.087636,    0.086977,    0.086318,    0.085659,       0.085,    0.084341,    0.083682,    0.083023,\n",
       "           0.082364,    0.081706,    0.081047,    0.080388,    0.079729,     0.07907,    0.078411,    0.077752,    0.077093,    0.076434,    0.075775,    0.075116,    0.074457,    0.073799,     0.07314,    0.072481,    0.071822,    0.071163,    0.070504,    0.069845,    0.069186,    0.068527,    0.067868,\n",
       "           0.067209,     0.06655,    0.065892,    0.065233,    0.064574,    0.063915,    0.063256,    0.062597,    0.061938,    0.061279,     0.06062,    0.059961,    0.059302,    0.058644,    0.057985,    0.057326,    0.056667,    0.056008,    0.055349,     0.05469,    0.054031,    0.053372,    0.052713,\n",
       "           0.052054,    0.051395,    0.050737,    0.050078,    0.049419,     0.04876,    0.048101,    0.047442,    0.046783,    0.046124,    0.045465,    0.044806,    0.044147,    0.043488,     0.04283,    0.042171,    0.041512,    0.040853,    0.040194,    0.039535,    0.038876,    0.038217,    0.037558,\n",
       "           0.036899,     0.03624,    0.035581,    0.034923,    0.034264,    0.033605,    0.032946,    0.032287,    0.031628,    0.030969,     0.03031,    0.029651,    0.028992,    0.028333,    0.027674,    0.027016,    0.026357,    0.025698,    0.025039,     0.02438,    0.023721,    0.023062,    0.022403,\n",
       "           0.021744,    0.021085,    0.020426,    0.019767,    0.019109,     0.01845,    0.017791,    0.017132,    0.016473,    0.015814,    0.015155,    0.014496,    0.013837,    0.013178,    0.012519,     0.01186,    0.011202,    0.010543,   0.0098837,   0.0092248,   0.0085659,    0.007907,   0.0072481,\n",
       "          0.0065892,   0.0059302,   0.0052713,   0.0046124,   0.0039535,   0.0032946,   0.0026357,   0.0019767,   0.0013178,  0.00065892,           0]]), 'Recall', 'Precision'], [array([          0,    0.001001,    0.002002,    0.003003,    0.004004,    0.005005,    0.006006,    0.007007,    0.008008,    0.009009,     0.01001,    0.011011,    0.012012,    0.013013,    0.014014,    0.015015,    0.016016,    0.017017,    0.018018,    0.019019,     0.02002,    0.021021,    0.022022,    0.023023,\n",
       "          0.024024,    0.025025,    0.026026,    0.027027,    0.028028,    0.029029,     0.03003,    0.031031,    0.032032,    0.033033,    0.034034,    0.035035,    0.036036,    0.037037,    0.038038,    0.039039,     0.04004,    0.041041,    0.042042,    0.043043,    0.044044,    0.045045,    0.046046,    0.047047,\n",
       "          0.048048,    0.049049,     0.05005,    0.051051,    0.052052,    0.053053,    0.054054,    0.055055,    0.056056,    0.057057,    0.058058,    0.059059,     0.06006,    0.061061,    0.062062,    0.063063,    0.064064,    0.065065,    0.066066,    0.067067,    0.068068,    0.069069,     0.07007,    0.071071,\n",
       "          0.072072,    0.073073,    0.074074,    0.075075,    0.076076,    0.077077,    0.078078,    0.079079,     0.08008,    0.081081,    0.082082,    0.083083,    0.084084,    0.085085,    0.086086,    0.087087,    0.088088,    0.089089,     0.09009,    0.091091,    0.092092,    0.093093,    0.094094,    0.095095,\n",
       "          0.096096,    0.097097,    0.098098,    0.099099,      0.1001,      0.1011,      0.1021,      0.1031,      0.1041,     0.10511,     0.10611,     0.10711,     0.10811,     0.10911,     0.11011,     0.11111,     0.11211,     0.11311,     0.11411,     0.11512,     0.11612,     0.11712,     0.11812,     0.11912,\n",
       "           0.12012,     0.12112,     0.12212,     0.12312,     0.12412,     0.12513,     0.12613,     0.12713,     0.12813,     0.12913,     0.13013,     0.13113,     0.13213,     0.13313,     0.13413,     0.13514,     0.13614,     0.13714,     0.13814,     0.13914,     0.14014,     0.14114,     0.14214,     0.14314,\n",
       "           0.14414,     0.14515,     0.14615,     0.14715,     0.14815,     0.14915,     0.15015,     0.15115,     0.15215,     0.15315,     0.15415,     0.15516,     0.15616,     0.15716,     0.15816,     0.15916,     0.16016,     0.16116,     0.16216,     0.16316,     0.16416,     0.16517,     0.16617,     0.16717,\n",
       "           0.16817,     0.16917,     0.17017,     0.17117,     0.17217,     0.17317,     0.17417,     0.17518,     0.17618,     0.17718,     0.17818,     0.17918,     0.18018,     0.18118,     0.18218,     0.18318,     0.18418,     0.18519,     0.18619,     0.18719,     0.18819,     0.18919,     0.19019,     0.19119,\n",
       "           0.19219,     0.19319,     0.19419,      0.1952,      0.1962,      0.1972,      0.1982,      0.1992,      0.2002,      0.2012,      0.2022,      0.2032,      0.2042,     0.20521,     0.20621,     0.20721,     0.20821,     0.20921,     0.21021,     0.21121,     0.21221,     0.21321,     0.21421,     0.21522,\n",
       "           0.21622,     0.21722,     0.21822,     0.21922,     0.22022,     0.22122,     0.22222,     0.22322,     0.22422,     0.22523,     0.22623,     0.22723,     0.22823,     0.22923,     0.23023,     0.23123,     0.23223,     0.23323,     0.23423,     0.23524,     0.23624,     0.23724,     0.23824,     0.23924,\n",
       "           0.24024,     0.24124,     0.24224,     0.24324,     0.24424,     0.24525,     0.24625,     0.24725,     0.24825,     0.24925,     0.25025,     0.25125,     0.25225,     0.25325,     0.25425,     0.25526,     0.25626,     0.25726,     0.25826,     0.25926,     0.26026,     0.26126,     0.26226,     0.26326,\n",
       "           0.26426,     0.26527,     0.26627,     0.26727,     0.26827,     0.26927,     0.27027,     0.27127,     0.27227,     0.27327,     0.27427,     0.27528,     0.27628,     0.27728,     0.27828,     0.27928,     0.28028,     0.28128,     0.28228,     0.28328,     0.28428,     0.28529,     0.28629,     0.28729,\n",
       "           0.28829,     0.28929,     0.29029,     0.29129,     0.29229,     0.29329,     0.29429,      0.2953,      0.2963,      0.2973,      0.2983,      0.2993,      0.3003,      0.3013,      0.3023,      0.3033,      0.3043,     0.30531,     0.30631,     0.30731,     0.30831,     0.30931,     0.31031,     0.31131,\n",
       "           0.31231,     0.31331,     0.31431,     0.31532,     0.31632,     0.31732,     0.31832,     0.31932,     0.32032,     0.32132,     0.32232,     0.32332,     0.32432,     0.32533,     0.32633,     0.32733,     0.32833,     0.32933,     0.33033,     0.33133,     0.33233,     0.33333,     0.33433,     0.33534,\n",
       "           0.33634,     0.33734,     0.33834,     0.33934,     0.34034,     0.34134,     0.34234,     0.34334,     0.34434,     0.34535,     0.34635,     0.34735,     0.34835,     0.34935,     0.35035,     0.35135,     0.35235,     0.35335,     0.35435,     0.35536,     0.35636,     0.35736,     0.35836,     0.35936,\n",
       "           0.36036,     0.36136,     0.36236,     0.36336,     0.36436,     0.36537,     0.36637,     0.36737,     0.36837,     0.36937,     0.37037,     0.37137,     0.37237,     0.37337,     0.37437,     0.37538,     0.37638,     0.37738,     0.37838,     0.37938,     0.38038,     0.38138,     0.38238,     0.38338,\n",
       "           0.38438,     0.38539,     0.38639,     0.38739,     0.38839,     0.38939,     0.39039,     0.39139,     0.39239,     0.39339,     0.39439,      0.3954,      0.3964,      0.3974,      0.3984,      0.3994,      0.4004,      0.4014,      0.4024,      0.4034,      0.4044,     0.40541,     0.40641,     0.40741,\n",
       "           0.40841,     0.40941,     0.41041,     0.41141,     0.41241,     0.41341,     0.41441,     0.41542,     0.41642,     0.41742,     0.41842,     0.41942,     0.42042,     0.42142,     0.42242,     0.42342,     0.42442,     0.42543,     0.42643,     0.42743,     0.42843,     0.42943,     0.43043,     0.43143,\n",
       "           0.43243,     0.43343,     0.43443,     0.43544,     0.43644,     0.43744,     0.43844,     0.43944,     0.44044,     0.44144,     0.44244,     0.44344,     0.44444,     0.44545,     0.44645,     0.44745,     0.44845,     0.44945,     0.45045,     0.45145,     0.45245,     0.45345,     0.45445,     0.45546,\n",
       "           0.45646,     0.45746,     0.45846,     0.45946,     0.46046,     0.46146,     0.46246,     0.46346,     0.46446,     0.46547,     0.46647,     0.46747,     0.46847,     0.46947,     0.47047,     0.47147,     0.47247,     0.47347,     0.47447,     0.47548,     0.47648,     0.47748,     0.47848,     0.47948,\n",
       "           0.48048,     0.48148,     0.48248,     0.48348,     0.48448,     0.48549,     0.48649,     0.48749,     0.48849,     0.48949,     0.49049,     0.49149,     0.49249,     0.49349,     0.49449,      0.4955,      0.4965,      0.4975,      0.4985,      0.4995,      0.5005,      0.5015,      0.5025,      0.5035,\n",
       "            0.5045,     0.50551,     0.50651,     0.50751,     0.50851,     0.50951,     0.51051,     0.51151,     0.51251,     0.51351,     0.51451,     0.51552,     0.51652,     0.51752,     0.51852,     0.51952,     0.52052,     0.52152,     0.52252,     0.52352,     0.52452,     0.52553,     0.52653,     0.52753,\n",
       "           0.52853,     0.52953,     0.53053,     0.53153,     0.53253,     0.53353,     0.53453,     0.53554,     0.53654,     0.53754,     0.53854,     0.53954,     0.54054,     0.54154,     0.54254,     0.54354,     0.54454,     0.54555,     0.54655,     0.54755,     0.54855,     0.54955,     0.55055,     0.55155,\n",
       "           0.55255,     0.55355,     0.55455,     0.55556,     0.55656,     0.55756,     0.55856,     0.55956,     0.56056,     0.56156,     0.56256,     0.56356,     0.56456,     0.56557,     0.56657,     0.56757,     0.56857,     0.56957,     0.57057,     0.57157,     0.57257,     0.57357,     0.57457,     0.57558,\n",
       "           0.57658,     0.57758,     0.57858,     0.57958,     0.58058,     0.58158,     0.58258,     0.58358,     0.58458,     0.58559,     0.58659,     0.58759,     0.58859,     0.58959,     0.59059,     0.59159,     0.59259,     0.59359,     0.59459,      0.5956,      0.5966,      0.5976,      0.5986,      0.5996,\n",
       "            0.6006,      0.6016,      0.6026,      0.6036,      0.6046,     0.60561,     0.60661,     0.60761,     0.60861,     0.60961,     0.61061,     0.61161,     0.61261,     0.61361,     0.61461,     0.61562,     0.61662,     0.61762,     0.61862,     0.61962,     0.62062,     0.62162,     0.62262,     0.62362,\n",
       "           0.62462,     0.62563,     0.62663,     0.62763,     0.62863,     0.62963,     0.63063,     0.63163,     0.63263,     0.63363,     0.63463,     0.63564,     0.63664,     0.63764,     0.63864,     0.63964,     0.64064,     0.64164,     0.64264,     0.64364,     0.64464,     0.64565,     0.64665,     0.64765,\n",
       "           0.64865,     0.64965,     0.65065,     0.65165,     0.65265,     0.65365,     0.65465,     0.65566,     0.65666,     0.65766,     0.65866,     0.65966,     0.66066,     0.66166,     0.66266,     0.66366,     0.66466,     0.66567,     0.66667,     0.66767,     0.66867,     0.66967,     0.67067,     0.67167,\n",
       "           0.67267,     0.67367,     0.67467,     0.67568,     0.67668,     0.67768,     0.67868,     0.67968,     0.68068,     0.68168,     0.68268,     0.68368,     0.68468,     0.68569,     0.68669,     0.68769,     0.68869,     0.68969,     0.69069,     0.69169,     0.69269,     0.69369,     0.69469,      0.6957,\n",
       "            0.6967,      0.6977,      0.6987,      0.6997,      0.7007,      0.7017,      0.7027,      0.7037,      0.7047,     0.70571,     0.70671,     0.70771,     0.70871,     0.70971,     0.71071,     0.71171,     0.71271,     0.71371,     0.71471,     0.71572,     0.71672,     0.71772,     0.71872,     0.71972,\n",
       "           0.72072,     0.72172,     0.72272,     0.72372,     0.72472,     0.72573,     0.72673,     0.72773,     0.72873,     0.72973,     0.73073,     0.73173,     0.73273,     0.73373,     0.73473,     0.73574,     0.73674,     0.73774,     0.73874,     0.73974,     0.74074,     0.74174,     0.74274,     0.74374,\n",
       "           0.74474,     0.74575,     0.74675,     0.74775,     0.74875,     0.74975,     0.75075,     0.75175,     0.75275,     0.75375,     0.75475,     0.75576,     0.75676,     0.75776,     0.75876,     0.75976,     0.76076,     0.76176,     0.76276,     0.76376,     0.76476,     0.76577,     0.76677,     0.76777,\n",
       "           0.76877,     0.76977,     0.77077,     0.77177,     0.77277,     0.77377,     0.77477,     0.77578,     0.77678,     0.77778,     0.77878,     0.77978,     0.78078,     0.78178,     0.78278,     0.78378,     0.78478,     0.78579,     0.78679,     0.78779,     0.78879,     0.78979,     0.79079,     0.79179,\n",
       "           0.79279,     0.79379,     0.79479,      0.7958,      0.7968,      0.7978,      0.7988,      0.7998,      0.8008,      0.8018,      0.8028,      0.8038,      0.8048,     0.80581,     0.80681,     0.80781,     0.80881,     0.80981,     0.81081,     0.81181,     0.81281,     0.81381,     0.81481,     0.81582,\n",
       "           0.81682,     0.81782,     0.81882,     0.81982,     0.82082,     0.82182,     0.82282,     0.82382,     0.82482,     0.82583,     0.82683,     0.82783,     0.82883,     0.82983,     0.83083,     0.83183,     0.83283,     0.83383,     0.83483,     0.83584,     0.83684,     0.83784,     0.83884,     0.83984,\n",
       "           0.84084,     0.84184,     0.84284,     0.84384,     0.84484,     0.84585,     0.84685,     0.84785,     0.84885,     0.84985,     0.85085,     0.85185,     0.85285,     0.85385,     0.85485,     0.85586,     0.85686,     0.85786,     0.85886,     0.85986,     0.86086,     0.86186,     0.86286,     0.86386,\n",
       "           0.86486,     0.86587,     0.86687,     0.86787,     0.86887,     0.86987,     0.87087,     0.87187,     0.87287,     0.87387,     0.87487,     0.87588,     0.87688,     0.87788,     0.87888,     0.87988,     0.88088,     0.88188,     0.88288,     0.88388,     0.88488,     0.88589,     0.88689,     0.88789,\n",
       "           0.88889,     0.88989,     0.89089,     0.89189,     0.89289,     0.89389,     0.89489,      0.8959,      0.8969,      0.8979,      0.8989,      0.8999,      0.9009,      0.9019,      0.9029,      0.9039,      0.9049,     0.90591,     0.90691,     0.90791,     0.90891,     0.90991,     0.91091,     0.91191,\n",
       "           0.91291,     0.91391,     0.91491,     0.91592,     0.91692,     0.91792,     0.91892,     0.91992,     0.92092,     0.92192,     0.92292,     0.92392,     0.92492,     0.92593,     0.92693,     0.92793,     0.92893,     0.92993,     0.93093,     0.93193,     0.93293,     0.93393,     0.93493,     0.93594,\n",
       "           0.93694,     0.93794,     0.93894,     0.93994,     0.94094,     0.94194,     0.94294,     0.94394,     0.94494,     0.94595,     0.94695,     0.94795,     0.94895,     0.94995,     0.95095,     0.95195,     0.95295,     0.95395,     0.95495,     0.95596,     0.95696,     0.95796,     0.95896,     0.95996,\n",
       "           0.96096,     0.96196,     0.96296,     0.96396,     0.96496,     0.96597,     0.96697,     0.96797,     0.96897,     0.96997,     0.97097,     0.97197,     0.97297,     0.97397,     0.97497,     0.97598,     0.97698,     0.97798,     0.97898,     0.97998,     0.98098,     0.98198,     0.98298,     0.98398,\n",
       "           0.98498,     0.98599,     0.98699,     0.98799,     0.98899,     0.98999,     0.99099,     0.99199,     0.99299,     0.99399,     0.99499,       0.996,       0.997,       0.998,       0.999,           1]), array([[    0.19048,     0.19048,     0.24819,     0.28494,     0.31138,     0.33877,     0.35388,     0.37526,     0.38793,     0.39665,     0.40788,     0.41745,     0.42632,     0.42963,     0.43467,     0.43717,      0.4434,     0.44806,     0.45222,     0.45937,     0.46503,     0.47086,     0.47376,\n",
       "            0.48332,     0.48683,     0.48985,     0.49406,     0.49616,     0.49983,     0.50209,     0.50555,     0.50845,     0.51342,     0.51512,     0.51608,       0.519,     0.52168,     0.52319,      0.5247,     0.52695,     0.53502,     0.53816,     0.54104,      0.5395,     0.54323,     0.54877,\n",
       "            0.54982,     0.55085,     0.55171,     0.55258,      0.5497,     0.55331,      0.5543,     0.55512,     0.55672,     0.56407,     0.56401,     0.56137,     0.56264,      0.5655,     0.56675,     0.56765,     0.56845,     0.56924,      0.5701,     0.57096,     0.57396,     0.57549,     0.57968,\n",
       "            0.58759,     0.58863,     0.58972,      0.5896,     0.58791,     0.59207,     0.59391,      0.5944,     0.59488,     0.59537,     0.59585,     0.59741,     0.60019,     0.60154,     0.60239,     0.60324,      0.6075,      0.6117,     0.61286,     0.61688,     0.61886,     0.61923,     0.61959,\n",
       "            0.61996,     0.62032,     0.62069,     0.62105,     0.62146,     0.62191,     0.62236,     0.62282,     0.62327,     0.62372,     0.62472,     0.62619,     0.63059,     0.63296,     0.63446,     0.63593,      0.6374,     0.64086,     0.64143,     0.64201,     0.64258,     0.64315,     0.64009,\n",
       "            0.64063,     0.64118,     0.64172,     0.64227,     0.64281,     0.64376,     0.64475,     0.64573,       0.645,     0.64424,     0.64349,     0.64274,     0.64199,     0.64124,     0.64048,     0.63973,     0.64154,     0.64282,     0.64336,     0.64389,     0.64442,     0.64495,     0.64557,\n",
       "            0.64777,     0.64985,     0.65155,     0.65226,     0.65296,     0.65366,     0.65436,     0.65485,     0.65533,      0.6558,     0.65628,     0.65676,     0.65723,     0.65469,     0.65128,     0.65194,     0.65259,     0.65325,      0.6539,     0.65386,     0.65323,      0.6526,     0.65197,\n",
       "            0.65134,     0.65071,     0.65008,     0.64944,     0.64881,     0.64818,     0.64632,     0.64341,     0.64189,     0.64297,     0.64405,     0.64514,     0.64624,     0.64733,     0.64866,     0.65007,     0.65349,     0.65512,     0.65648,     0.65785,     0.65923,     0.65997,     0.65923,\n",
       "            0.65849,     0.65774,       0.657,     0.65625,     0.65551,     0.65476,     0.65402,     0.65732,     0.65821,     0.65909,     0.65997,     0.66164,     0.66331,     0.66121,     0.65911,     0.65701,     0.65722,     0.65781,     0.65839,     0.65898,     0.65956,     0.66008,      0.6604,\n",
       "            0.66072,     0.66104,     0.66136,     0.66168,       0.662,     0.66232,     0.66264,     0.66296,     0.66328,     0.65887,     0.65724,     0.65849,     0.65972,     0.66206,     0.66417,     0.66591,     0.66736,     0.66859,     0.66981,     0.66815,     0.66558,     0.66246,     0.65611,\n",
       "            0.65572,     0.65532,     0.65492,     0.65452,     0.65413,     0.65373,     0.65333,     0.65293,     0.65254,     0.65214,     0.65174,     0.65134,     0.65094,     0.65054,     0.65015,     0.64975,     0.64935,     0.64814,     0.64652,      0.6449,     0.64328,     0.64076,     0.63585,\n",
       "             0.6368,     0.63657,     0.63159,     0.63465,     0.63621,     0.63777,     0.63028,     0.62958,     0.62889,     0.62819,     0.62749,      0.6268,      0.6261,      0.6254,      0.6247,       0.624,      0.6233,     0.62311,     0.62343,     0.62375,     0.62407,     0.62439,     0.62471,\n",
       "            0.62503,     0.62535,     0.62566,     0.62598,      0.6263,     0.62566,     0.62472,     0.62377,     0.62283,     0.62189,     0.62094,        0.62,     0.61905,     0.61942,      0.6203,     0.62118,     0.62206,     0.62237,     0.62254,     0.62272,      0.6229,     0.62307,     0.62325,\n",
       "            0.62343,      0.6236,     0.62378,     0.62395,     0.62413,     0.62431,     0.62448,     0.62466,     0.62483,     0.62501,     0.62518,     0.62536,     0.62553,     0.62564,     0.62466,     0.62367,     0.62268,     0.62169,      0.6207,     0.61971,     0.61872,     0.61808,     0.61849,\n",
       "             0.6189,     0.61931,     0.61972,     0.62013,     0.62054,     0.62095,     0.62135,     0.62251,     0.62396,     0.62505,     0.62523,      0.6254,     0.62558,     0.62576,     0.62594,     0.62611,     0.62629,     0.62647,     0.62664,     0.62682,       0.627,     0.62717,     0.62735,\n",
       "            0.62752,      0.6277,     0.62788,     0.62805,     0.62823,      0.6284,     0.62869,      0.6322,      0.6324,     0.63261,     0.63282,     0.63302,     0.63323,     0.63343,     0.63364,     0.63384,     0.63405,     0.63425,     0.63446,     0.63466,     0.63487,     0.63507,     0.63528,\n",
       "            0.63548,     0.63569,     0.63601,     0.63667,     0.63733,     0.63799,     0.63865,      0.6393,     0.64006,     0.64087,     0.64168,     0.64248,     0.64327,     0.64241,     0.64155,     0.64069,     0.63983,     0.63897,     0.63811,     0.63724,     0.63638,     0.63552,     0.63457,\n",
       "             0.6336,     0.63263,     0.63166,     0.63068,     0.62971,     0.62873,     0.62776,     0.62785,     0.62924,     0.63063,     0.62988,     0.62849,     0.62709,     0.62569,     0.62428,     0.62288,     0.62306,      0.6234,     0.62373,     0.62407,     0.62441,     0.62474,     0.62507,\n",
       "            0.62541,     0.62574,     0.62607,      0.6264,     0.62719,     0.62816,     0.62913,      0.6301,     0.62206,     0.62221,     0.62235,     0.62249,     0.62264,     0.62278,     0.62292,     0.62307,     0.62321,     0.62335,     0.62349,     0.62364,     0.62378,     0.62392,     0.62406,\n",
       "            0.62421,     0.62435,     0.62449,     0.62463,     0.62477,     0.62491,     0.62506,      0.6252,     0.62534,     0.62548,     0.62562,     0.62576,     0.62704,     0.62836,     0.62955,     0.62723,      0.6249,     0.62257,      0.6215,      0.6225,     0.62349,     0.62448,     0.62524,\n",
       "            0.62575,     0.62625,     0.62676,     0.62726,     0.62777,     0.62827,     0.62877,     0.62298,     0.61714,     0.61263,     0.61172,     0.61205,     0.61239,     0.61273,     0.61306,      0.6134,     0.61373,     0.61407,      0.6144,     0.61473,     0.61507,     0.61506,     0.60641,\n",
       "            0.60564,     0.60487,     0.60409,     0.60332,     0.60255,     0.60178,       0.601,     0.60023,     0.59946,     0.59868,      0.5979,      0.5963,     0.59317,     0.59004,     0.58797,     0.58733,      0.5867,     0.58607,     0.58544,      0.5848,     0.58417,     0.58353,      0.5829,\n",
       "            0.58226,     0.58163,     0.58099,     0.58035,     0.57972,     0.57908,     0.57768,     0.57607,     0.57447,     0.57286,     0.57125,     0.56963,     0.56725,     0.56481,     0.56236,     0.56004,     0.56101,     0.56197,     0.56293,     0.56354,     0.56188,     0.56023,     0.55857,\n",
       "            0.55691,     0.55525,     0.55123,      0.5454,     0.54802,     0.54825,     0.54848,     0.54871,     0.54894,     0.54917,      0.5494,     0.54963,     0.54986,     0.55008,     0.55031,     0.55054,     0.55076,     0.55099,     0.55122,     0.55144,     0.55167,     0.55466,     0.55519,\n",
       "            0.55471,     0.55423,     0.55375,     0.55327,     0.55279,     0.55231,     0.55183,     0.55135,     0.55087,     0.55038,      0.5499,     0.54942,     0.54894,     0.54845,     0.54797,     0.54749,     0.54701,     0.54652,     0.54604,     0.54555,      0.5413,     0.53604,     0.53455,\n",
       "            0.53376,     0.53298,     0.53219,      0.5314,     0.53062,     0.52983,     0.52904,     0.52825,     0.52746,     0.52667,     0.52587,     0.52508,     0.52301,     0.52032,     0.51762,     0.51491,     0.51446,     0.51469,     0.51491,     0.51514,     0.51536,     0.51559,     0.51581,\n",
       "            0.51603,     0.51626,     0.51648,      0.5167,     0.51692,     0.51715,     0.51737,     0.51759,     0.51781,     0.51871,     0.51943,     0.51051,     0.50865,     0.50679,     0.50492,     0.50304,     0.50116,     0.49712,     0.48952,     0.48713,     0.48521,     0.48329,     0.48136,\n",
       "            0.47942,     0.47724,     0.47139,     0.46528,     0.45734,     0.45324,     0.45124,     0.44922,     0.44721,     0.44519,     0.44316,     0.43625,     0.42871,     0.42248,     0.41787,     0.41593,     0.41398,     0.41204,     0.41009,     0.40813,     0.40618,     0.40448,     0.40277,\n",
       "            0.40106,     0.39934,     0.39762,      0.3959,     0.39418,     0.39253,      0.3909,     0.38927,     0.38764,     0.38601,     0.38437,     0.38273,     0.38109,      0.3798,     0.37854,     0.37728,     0.37602,     0.37475,     0.37349,     0.37222,     0.37095,     0.36969,     0.36841,\n",
       "            0.36671,     0.36479,     0.36287,     0.36094,     0.35901,     0.35708,     0.35514,     0.34217,       0.343,     0.34381,     0.34601,     0.34345,     0.34089,     0.33832,     0.33575,     0.33315,     0.33029,     0.32743,     0.32456,     0.32168,     0.31948,     0.32029,     0.32109,\n",
       "            0.32186,     0.32128,     0.32031,     0.31933,     0.31836,     0.31738,      0.3164,     0.31542,     0.31444,     0.31346,     0.31248,      0.3115,     0.31051,     0.30953,     0.30854,     0.30772,     0.30789,     0.30806,     0.30823,      0.3084,     0.30857,     0.30873,      0.3089,\n",
       "            0.30906,     0.30923,     0.30939,     0.30955,     0.30971,     0.30988,     0.31003,     0.31019,     0.31033,     0.30987,     0.30941,     0.30895,     0.30849,     0.30803,     0.30756,      0.3071,     0.30664,     0.30618,     0.30572,     0.30526,     0.30479,     0.30433,     0.30387,\n",
       "            0.30341,     0.30294,     0.30248,     0.30202,     0.30155,     0.30109,     0.30062,     0.30016,     0.29969,     0.29923,     0.29876,      0.2983,     0.29783,     0.29736,      0.2969,     0.29643,     0.29596,     0.29452,     0.29113,     0.28773,     0.28432,     0.28089,     0.27745,\n",
       "            0.27399,     0.27052,     0.26704,     0.25964,     0.24985,     0.24825,     0.24664,     0.24503,     0.24342,     0.24181,     0.24019,     0.23857,     0.23694,     0.23532,     0.23389,     0.23287,     0.23185,     0.23083,      0.2298,     0.22878,     0.22775,     0.22673,      0.2257,\n",
       "            0.22467,     0.22364,     0.22261,     0.22157,     0.22054,      0.2195,     0.21847,     0.21725,     0.21597,     0.21469,     0.21341,     0.21212,     0.21084,     0.20955,     0.20826,     0.20697,     0.20567,     0.20438,     0.20308,     0.20154,     0.19475,      0.1879,      0.1831,\n",
       "            0.17964,     0.17617,     0.17268,     0.16918,     0.16311,     0.15602,      0.1504,     0.14852,     0.14663,     0.14473,     0.14284,     0.14094,     0.13903,     0.13712,     0.13521,     0.13332,     0.13277,     0.13222,     0.13166,     0.13111,     0.13056,        0.13,     0.12945,\n",
       "            0.12889,     0.12834,     0.12778,     0.12723,     0.12667,     0.12612,     0.12556,       0.125,     0.12444,     0.12389,     0.12333,     0.12277,     0.12221,     0.12165,     0.12109,     0.12053,     0.11997,     0.11941,     0.11885,     0.11829,     0.11773,     0.11717,     0.11661,\n",
       "            0.11605,     0.11548,     0.11154,     0.10687,     0.10217,     0.09745,     0.09619,    0.095218,    0.094244,     0.09327,    0.092294,    0.091318,     0.09034,    0.089361,    0.088382,    0.087401,     0.08642,    0.085437,    0.084454,    0.083469,    0.082484,    0.081497,    0.080509,\n",
       "           0.079521,    0.078531,    0.071459,    0.063647,    0.056812,    0.051153,    0.045461,    0.039932,    0.038442,    0.036951,    0.035457,     0.03396,    0.032462,    0.030961,    0.029458,    0.027953,    0.026445,    0.024935,    0.023423,    0.021908,    0.020391,           0,           0,\n",
       "                  0,           0,           0,           0,           0,           0,           0,           0,           0,           0,           0,           0,           0,           0,           0,           0,           0,           0,           0,           0,           0,           0,           0,\n",
       "                  0,           0,           0,           0,           0,           0,           0,           0,           0,           0,           0,           0,           0,           0,           0,           0,           0,           0,           0,           0,           0,           0,           0,\n",
       "                  0,           0,           0,           0,           0,           0,           0,           0,           0,           0,           0,           0,           0,           0,           0,           0,           0,           0,           0,           0,           0,           0,           0,\n",
       "                  0,           0,           0,           0,           0,           0,           0,           0,           0,           0,           0,           0,           0,           0,           0,           0,           0,           0,           0,           0,           0,           0,           0,\n",
       "                  0,           0,           0,           0,           0,           0,           0,           0,           0,           0,           0]]), 'Confidence', 'F1'], [array([          0,    0.001001,    0.002002,    0.003003,    0.004004,    0.005005,    0.006006,    0.007007,    0.008008,    0.009009,     0.01001,    0.011011,    0.012012,    0.013013,    0.014014,    0.015015,    0.016016,    0.017017,    0.018018,    0.019019,     0.02002,    0.021021,    0.022022,    0.023023,\n",
       "          0.024024,    0.025025,    0.026026,    0.027027,    0.028028,    0.029029,     0.03003,    0.031031,    0.032032,    0.033033,    0.034034,    0.035035,    0.036036,    0.037037,    0.038038,    0.039039,     0.04004,    0.041041,    0.042042,    0.043043,    0.044044,    0.045045,    0.046046,    0.047047,\n",
       "          0.048048,    0.049049,     0.05005,    0.051051,    0.052052,    0.053053,    0.054054,    0.055055,    0.056056,    0.057057,    0.058058,    0.059059,     0.06006,    0.061061,    0.062062,    0.063063,    0.064064,    0.065065,    0.066066,    0.067067,    0.068068,    0.069069,     0.07007,    0.071071,\n",
       "          0.072072,    0.073073,    0.074074,    0.075075,    0.076076,    0.077077,    0.078078,    0.079079,     0.08008,    0.081081,    0.082082,    0.083083,    0.084084,    0.085085,    0.086086,    0.087087,    0.088088,    0.089089,     0.09009,    0.091091,    0.092092,    0.093093,    0.094094,    0.095095,\n",
       "          0.096096,    0.097097,    0.098098,    0.099099,      0.1001,      0.1011,      0.1021,      0.1031,      0.1041,     0.10511,     0.10611,     0.10711,     0.10811,     0.10911,     0.11011,     0.11111,     0.11211,     0.11311,     0.11411,     0.11512,     0.11612,     0.11712,     0.11812,     0.11912,\n",
       "           0.12012,     0.12112,     0.12212,     0.12312,     0.12412,     0.12513,     0.12613,     0.12713,     0.12813,     0.12913,     0.13013,     0.13113,     0.13213,     0.13313,     0.13413,     0.13514,     0.13614,     0.13714,     0.13814,     0.13914,     0.14014,     0.14114,     0.14214,     0.14314,\n",
       "           0.14414,     0.14515,     0.14615,     0.14715,     0.14815,     0.14915,     0.15015,     0.15115,     0.15215,     0.15315,     0.15415,     0.15516,     0.15616,     0.15716,     0.15816,     0.15916,     0.16016,     0.16116,     0.16216,     0.16316,     0.16416,     0.16517,     0.16617,     0.16717,\n",
       "           0.16817,     0.16917,     0.17017,     0.17117,     0.17217,     0.17317,     0.17417,     0.17518,     0.17618,     0.17718,     0.17818,     0.17918,     0.18018,     0.18118,     0.18218,     0.18318,     0.18418,     0.18519,     0.18619,     0.18719,     0.18819,     0.18919,     0.19019,     0.19119,\n",
       "           0.19219,     0.19319,     0.19419,      0.1952,      0.1962,      0.1972,      0.1982,      0.1992,      0.2002,      0.2012,      0.2022,      0.2032,      0.2042,     0.20521,     0.20621,     0.20721,     0.20821,     0.20921,     0.21021,     0.21121,     0.21221,     0.21321,     0.21421,     0.21522,\n",
       "           0.21622,     0.21722,     0.21822,     0.21922,     0.22022,     0.22122,     0.22222,     0.22322,     0.22422,     0.22523,     0.22623,     0.22723,     0.22823,     0.22923,     0.23023,     0.23123,     0.23223,     0.23323,     0.23423,     0.23524,     0.23624,     0.23724,     0.23824,     0.23924,\n",
       "           0.24024,     0.24124,     0.24224,     0.24324,     0.24424,     0.24525,     0.24625,     0.24725,     0.24825,     0.24925,     0.25025,     0.25125,     0.25225,     0.25325,     0.25425,     0.25526,     0.25626,     0.25726,     0.25826,     0.25926,     0.26026,     0.26126,     0.26226,     0.26326,\n",
       "           0.26426,     0.26527,     0.26627,     0.26727,     0.26827,     0.26927,     0.27027,     0.27127,     0.27227,     0.27327,     0.27427,     0.27528,     0.27628,     0.27728,     0.27828,     0.27928,     0.28028,     0.28128,     0.28228,     0.28328,     0.28428,     0.28529,     0.28629,     0.28729,\n",
       "           0.28829,     0.28929,     0.29029,     0.29129,     0.29229,     0.29329,     0.29429,      0.2953,      0.2963,      0.2973,      0.2983,      0.2993,      0.3003,      0.3013,      0.3023,      0.3033,      0.3043,     0.30531,     0.30631,     0.30731,     0.30831,     0.30931,     0.31031,     0.31131,\n",
       "           0.31231,     0.31331,     0.31431,     0.31532,     0.31632,     0.31732,     0.31832,     0.31932,     0.32032,     0.32132,     0.32232,     0.32332,     0.32432,     0.32533,     0.32633,     0.32733,     0.32833,     0.32933,     0.33033,     0.33133,     0.33233,     0.33333,     0.33433,     0.33534,\n",
       "           0.33634,     0.33734,     0.33834,     0.33934,     0.34034,     0.34134,     0.34234,     0.34334,     0.34434,     0.34535,     0.34635,     0.34735,     0.34835,     0.34935,     0.35035,     0.35135,     0.35235,     0.35335,     0.35435,     0.35536,     0.35636,     0.35736,     0.35836,     0.35936,\n",
       "           0.36036,     0.36136,     0.36236,     0.36336,     0.36436,     0.36537,     0.36637,     0.36737,     0.36837,     0.36937,     0.37037,     0.37137,     0.37237,     0.37337,     0.37437,     0.37538,     0.37638,     0.37738,     0.37838,     0.37938,     0.38038,     0.38138,     0.38238,     0.38338,\n",
       "           0.38438,     0.38539,     0.38639,     0.38739,     0.38839,     0.38939,     0.39039,     0.39139,     0.39239,     0.39339,     0.39439,      0.3954,      0.3964,      0.3974,      0.3984,      0.3994,      0.4004,      0.4014,      0.4024,      0.4034,      0.4044,     0.40541,     0.40641,     0.40741,\n",
       "           0.40841,     0.40941,     0.41041,     0.41141,     0.41241,     0.41341,     0.41441,     0.41542,     0.41642,     0.41742,     0.41842,     0.41942,     0.42042,     0.42142,     0.42242,     0.42342,     0.42442,     0.42543,     0.42643,     0.42743,     0.42843,     0.42943,     0.43043,     0.43143,\n",
       "           0.43243,     0.43343,     0.43443,     0.43544,     0.43644,     0.43744,     0.43844,     0.43944,     0.44044,     0.44144,     0.44244,     0.44344,     0.44444,     0.44545,     0.44645,     0.44745,     0.44845,     0.44945,     0.45045,     0.45145,     0.45245,     0.45345,     0.45445,     0.45546,\n",
       "           0.45646,     0.45746,     0.45846,     0.45946,     0.46046,     0.46146,     0.46246,     0.46346,     0.46446,     0.46547,     0.46647,     0.46747,     0.46847,     0.46947,     0.47047,     0.47147,     0.47247,     0.47347,     0.47447,     0.47548,     0.47648,     0.47748,     0.47848,     0.47948,\n",
       "           0.48048,     0.48148,     0.48248,     0.48348,     0.48448,     0.48549,     0.48649,     0.48749,     0.48849,     0.48949,     0.49049,     0.49149,     0.49249,     0.49349,     0.49449,      0.4955,      0.4965,      0.4975,      0.4985,      0.4995,      0.5005,      0.5015,      0.5025,      0.5035,\n",
       "            0.5045,     0.50551,     0.50651,     0.50751,     0.50851,     0.50951,     0.51051,     0.51151,     0.51251,     0.51351,     0.51451,     0.51552,     0.51652,     0.51752,     0.51852,     0.51952,     0.52052,     0.52152,     0.52252,     0.52352,     0.52452,     0.52553,     0.52653,     0.52753,\n",
       "           0.52853,     0.52953,     0.53053,     0.53153,     0.53253,     0.53353,     0.53453,     0.53554,     0.53654,     0.53754,     0.53854,     0.53954,     0.54054,     0.54154,     0.54254,     0.54354,     0.54454,     0.54555,     0.54655,     0.54755,     0.54855,     0.54955,     0.55055,     0.55155,\n",
       "           0.55255,     0.55355,     0.55455,     0.55556,     0.55656,     0.55756,     0.55856,     0.55956,     0.56056,     0.56156,     0.56256,     0.56356,     0.56456,     0.56557,     0.56657,     0.56757,     0.56857,     0.56957,     0.57057,     0.57157,     0.57257,     0.57357,     0.57457,     0.57558,\n",
       "           0.57658,     0.57758,     0.57858,     0.57958,     0.58058,     0.58158,     0.58258,     0.58358,     0.58458,     0.58559,     0.58659,     0.58759,     0.58859,     0.58959,     0.59059,     0.59159,     0.59259,     0.59359,     0.59459,      0.5956,      0.5966,      0.5976,      0.5986,      0.5996,\n",
       "            0.6006,      0.6016,      0.6026,      0.6036,      0.6046,     0.60561,     0.60661,     0.60761,     0.60861,     0.60961,     0.61061,     0.61161,     0.61261,     0.61361,     0.61461,     0.61562,     0.61662,     0.61762,     0.61862,     0.61962,     0.62062,     0.62162,     0.62262,     0.62362,\n",
       "           0.62462,     0.62563,     0.62663,     0.62763,     0.62863,     0.62963,     0.63063,     0.63163,     0.63263,     0.63363,     0.63463,     0.63564,     0.63664,     0.63764,     0.63864,     0.63964,     0.64064,     0.64164,     0.64264,     0.64364,     0.64464,     0.64565,     0.64665,     0.64765,\n",
       "           0.64865,     0.64965,     0.65065,     0.65165,     0.65265,     0.65365,     0.65465,     0.65566,     0.65666,     0.65766,     0.65866,     0.65966,     0.66066,     0.66166,     0.66266,     0.66366,     0.66466,     0.66567,     0.66667,     0.66767,     0.66867,     0.66967,     0.67067,     0.67167,\n",
       "           0.67267,     0.67367,     0.67467,     0.67568,     0.67668,     0.67768,     0.67868,     0.67968,     0.68068,     0.68168,     0.68268,     0.68368,     0.68468,     0.68569,     0.68669,     0.68769,     0.68869,     0.68969,     0.69069,     0.69169,     0.69269,     0.69369,     0.69469,      0.6957,\n",
       "            0.6967,      0.6977,      0.6987,      0.6997,      0.7007,      0.7017,      0.7027,      0.7037,      0.7047,     0.70571,     0.70671,     0.70771,     0.70871,     0.70971,     0.71071,     0.71171,     0.71271,     0.71371,     0.71471,     0.71572,     0.71672,     0.71772,     0.71872,     0.71972,\n",
       "           0.72072,     0.72172,     0.72272,     0.72372,     0.72472,     0.72573,     0.72673,     0.72773,     0.72873,     0.72973,     0.73073,     0.73173,     0.73273,     0.73373,     0.73473,     0.73574,     0.73674,     0.73774,     0.73874,     0.73974,     0.74074,     0.74174,     0.74274,     0.74374,\n",
       "           0.74474,     0.74575,     0.74675,     0.74775,     0.74875,     0.74975,     0.75075,     0.75175,     0.75275,     0.75375,     0.75475,     0.75576,     0.75676,     0.75776,     0.75876,     0.75976,     0.76076,     0.76176,     0.76276,     0.76376,     0.76476,     0.76577,     0.76677,     0.76777,\n",
       "           0.76877,     0.76977,     0.77077,     0.77177,     0.77277,     0.77377,     0.77477,     0.77578,     0.77678,     0.77778,     0.77878,     0.77978,     0.78078,     0.78178,     0.78278,     0.78378,     0.78478,     0.78579,     0.78679,     0.78779,     0.78879,     0.78979,     0.79079,     0.79179,\n",
       "           0.79279,     0.79379,     0.79479,      0.7958,      0.7968,      0.7978,      0.7988,      0.7998,      0.8008,      0.8018,      0.8028,      0.8038,      0.8048,     0.80581,     0.80681,     0.80781,     0.80881,     0.80981,     0.81081,     0.81181,     0.81281,     0.81381,     0.81481,     0.81582,\n",
       "           0.81682,     0.81782,     0.81882,     0.81982,     0.82082,     0.82182,     0.82282,     0.82382,     0.82482,     0.82583,     0.82683,     0.82783,     0.82883,     0.82983,     0.83083,     0.83183,     0.83283,     0.83383,     0.83483,     0.83584,     0.83684,     0.83784,     0.83884,     0.83984,\n",
       "           0.84084,     0.84184,     0.84284,     0.84384,     0.84484,     0.84585,     0.84685,     0.84785,     0.84885,     0.84985,     0.85085,     0.85185,     0.85285,     0.85385,     0.85485,     0.85586,     0.85686,     0.85786,     0.85886,     0.85986,     0.86086,     0.86186,     0.86286,     0.86386,\n",
       "           0.86486,     0.86587,     0.86687,     0.86787,     0.86887,     0.86987,     0.87087,     0.87187,     0.87287,     0.87387,     0.87487,     0.87588,     0.87688,     0.87788,     0.87888,     0.87988,     0.88088,     0.88188,     0.88288,     0.88388,     0.88488,     0.88589,     0.88689,     0.88789,\n",
       "           0.88889,     0.88989,     0.89089,     0.89189,     0.89289,     0.89389,     0.89489,      0.8959,      0.8969,      0.8979,      0.8989,      0.8999,      0.9009,      0.9019,      0.9029,      0.9039,      0.9049,     0.90591,     0.90691,     0.90791,     0.90891,     0.90991,     0.91091,     0.91191,\n",
       "           0.91291,     0.91391,     0.91491,     0.91592,     0.91692,     0.91792,     0.91892,     0.91992,     0.92092,     0.92192,     0.92292,     0.92392,     0.92492,     0.92593,     0.92693,     0.92793,     0.92893,     0.92993,     0.93093,     0.93193,     0.93293,     0.93393,     0.93493,     0.93594,\n",
       "           0.93694,     0.93794,     0.93894,     0.93994,     0.94094,     0.94194,     0.94294,     0.94394,     0.94494,     0.94595,     0.94695,     0.94795,     0.94895,     0.94995,     0.95095,     0.95195,     0.95295,     0.95395,     0.95495,     0.95596,     0.95696,     0.95796,     0.95896,     0.95996,\n",
       "           0.96096,     0.96196,     0.96296,     0.96396,     0.96496,     0.96597,     0.96697,     0.96797,     0.96897,     0.96997,     0.97097,     0.97197,     0.97297,     0.97397,     0.97497,     0.97598,     0.97698,     0.97798,     0.97898,     0.97998,     0.98098,     0.98198,     0.98298,     0.98398,\n",
       "           0.98498,     0.98599,     0.98699,     0.98799,     0.98899,     0.98999,     0.99099,     0.99199,     0.99299,     0.99399,     0.99499,       0.996,       0.997,       0.998,       0.999,           1]), array([[    0.10747,     0.10747,     0.14602,     0.17259,     0.19296,     0.21444,      0.2267,     0.24455,     0.25542,     0.26304,       0.273,     0.28166,     0.28979,     0.29422,     0.30044,     0.30283,     0.30885,     0.31339,     0.31747,     0.32457,     0.33024,     0.33616,     0.33912,\n",
       "              0.349,     0.35268,     0.35586,     0.36032,     0.36255,     0.36649,     0.36892,     0.37267,     0.37583,     0.38128,     0.38316,     0.38423,     0.38747,     0.39047,     0.39216,     0.39386,      0.3964,     0.40561,     0.40923,     0.41257,     0.41363,     0.41802,     0.42462,\n",
       "            0.42588,     0.42711,     0.42815,      0.4292,     0.42887,     0.43329,      0.4345,     0.43551,     0.43749,     0.44663,     0.44786,     0.44675,     0.44836,     0.45201,      0.4536,     0.45476,     0.45578,     0.45681,     0.45791,     0.45902,     0.46292,      0.4649,      0.4704,\n",
       "            0.48091,      0.4823,     0.48376,      0.4854,     0.48557,     0.49128,     0.49382,     0.49449,     0.49516,     0.49583,      0.4965,     0.49867,     0.50256,     0.50446,     0.50565,     0.50684,     0.51289,     0.51891,     0.52059,     0.52641,      0.5293,     0.52984,     0.53037,\n",
       "            0.53091,     0.53145,     0.53198,     0.53252,     0.53311,     0.53378,     0.53445,     0.53512,     0.53579,     0.53646,     0.53794,     0.54011,      0.5467,     0.55026,     0.55254,     0.55478,     0.55701,     0.56233,     0.56321,     0.56409,     0.56497,     0.56585,     0.56707,\n",
       "            0.56793,     0.56878,     0.56964,      0.5705,     0.57136,     0.57286,     0.57442,     0.57599,     0.57558,     0.57516,     0.57474,     0.57432,      0.5739,     0.57347,     0.57305,     0.57263,     0.57564,      0.5777,     0.57856,     0.57943,     0.58029,     0.58115,     0.58215,\n",
       "            0.58574,     0.58915,     0.59195,     0.59312,     0.59428,     0.59545,     0.59661,     0.59742,     0.59822,     0.59901,     0.59981,     0.60061,     0.60141,     0.60021,     0.59848,      0.5996,     0.60071,     0.60182,     0.60294,     0.60326,     0.60292,     0.60257,     0.60223,\n",
       "            0.60188,     0.60154,     0.60119,     0.60085,      0.6005,     0.60016,     0.59914,     0.59754,     0.59714,     0.59902,     0.60091,     0.60281,     0.60472,     0.60664,     0.60898,     0.61147,     0.61755,     0.62046,     0.62291,     0.62538,     0.62788,     0.62951,     0.62912,\n",
       "            0.62872,     0.62833,     0.62794,     0.62754,     0.62715,     0.62675,     0.62636,     0.63293,     0.63457,     0.63622,     0.63786,     0.64097,      0.6442,     0.64311,     0.64202,     0.64093,     0.64174,     0.64286,     0.64398,      0.6451,     0.64622,     0.64721,     0.64783,\n",
       "            0.64845,     0.64907,     0.64968,      0.6503,     0.65092,     0.65154,     0.65216,     0.65278,     0.65339,     0.65118,     0.65133,     0.65377,     0.65622,     0.66086,     0.66508,     0.66858,     0.67151,       0.674,     0.67649,     0.67612,     0.67485,     0.67331,     0.67014,\n",
       "            0.66994,     0.66974,     0.66954,     0.66934,     0.66914,     0.66894,     0.66874,     0.66854,     0.66834,     0.66814,     0.66794,     0.66774,     0.66754,     0.66734,     0.66714,     0.66693,     0.66673,     0.66612,     0.66529,     0.66447,     0.66364,     0.66235,     0.65982,\n",
       "             0.6634,     0.66578,     0.66322,     0.67099,      0.6745,     0.67801,     0.67434,     0.67398,     0.67362,     0.67327,     0.67291,     0.67255,      0.6722,     0.67184,     0.67148,     0.67113,     0.67077,     0.67096,      0.6717,     0.67244,     0.67319,     0.67393,     0.67468,\n",
       "            0.67542,     0.67616,     0.67691,     0.67765,      0.6784,      0.6782,     0.67772,     0.67724,     0.67676,     0.67628,      0.6758,     0.67532,     0.67484,     0.67621,     0.67831,     0.68042,     0.68253,     0.68327,      0.6837,     0.68413,     0.68455,     0.68498,     0.68541,\n",
       "            0.68583,     0.68626,     0.68669,     0.68711,     0.68754,     0.68797,     0.68839,     0.68882,     0.68925,     0.68967,      0.6901,     0.69053,     0.69096,     0.69133,     0.69084,     0.69034,     0.68985,     0.68935,     0.68886,     0.68836,     0.68787,     0.68776,     0.68878,\n",
       "             0.6898,     0.69082,     0.69183,     0.69285,     0.69387,     0.69489,     0.69591,     0.69882,     0.70248,     0.70525,     0.70571,     0.70616,     0.70661,     0.70706,     0.70752,     0.70797,     0.70842,     0.70887,     0.70932,     0.70978,     0.71023,     0.71068,     0.71113,\n",
       "            0.71159,     0.71204,     0.71249,     0.71294,      0.7134,     0.71385,      0.7146,     0.72372,     0.72426,      0.7248,     0.72534,     0.72588,     0.72643,     0.72697,     0.72751,     0.72805,     0.72859,     0.72913,     0.72968,     0.73022,     0.73076,      0.7313,     0.73184,\n",
       "            0.73239,     0.73293,     0.73378,     0.73555,     0.73731,     0.73908,     0.74085,     0.74261,     0.74466,     0.74685,     0.74905,     0.75125,     0.75342,     0.75305,     0.75268,     0.75231,     0.75194,     0.75157,      0.7512,     0.75083,     0.75047,      0.7501,     0.74969,\n",
       "            0.74926,     0.74884,     0.74841,     0.74799,     0.74756,     0.74714,     0.74671,     0.74826,     0.75224,     0.75621,     0.75668,     0.75608,     0.75548,     0.75488,     0.75428,     0.75368,     0.75452,     0.75551,      0.7565,     0.75749,     0.75848,     0.75946,     0.76045,\n",
       "            0.76144,     0.76243,     0.76341,      0.7644,     0.76673,     0.76966,     0.77258,     0.77551,     0.77308,     0.77352,     0.77396,     0.77441,     0.77485,     0.77529,     0.77574,     0.77618,     0.77662,     0.77707,     0.77751,     0.77795,      0.7784,     0.77884,     0.77928,\n",
       "            0.77972,     0.78017,     0.78061,     0.78105,      0.7815,     0.78194,     0.78238,     0.78283,     0.78327,     0.78371,     0.78416,      0.7846,     0.78865,     0.79283,     0.79684,     0.79596,     0.79508,      0.7942,     0.79489,     0.79817,     0.80145,     0.80473,     0.80726,\n",
       "            0.80895,     0.81064,     0.81234,     0.81403,     0.81573,     0.81742,     0.81911,     0.81761,     0.81556,     0.81397,     0.81445,     0.81565,     0.81685,     0.81804,     0.81924,     0.82044,     0.82164,     0.82284,     0.82404,     0.82523,     0.82643,     0.82747,     0.82455,\n",
       "            0.82428,     0.82401,     0.82374,     0.82347,     0.82321,     0.82294,     0.82267,      0.8224,     0.82214,     0.82187,      0.8216,     0.82104,     0.81993,     0.81882,     0.81808,     0.81785,     0.81762,     0.81739,     0.81716,     0.81693,      0.8167,     0.81647,     0.81624,\n",
       "            0.81601,     0.81578,     0.81555,     0.81532,     0.81509,     0.81486,     0.81434,     0.81374,     0.81315,     0.81255,     0.81195,     0.81136,     0.81045,     0.80952,     0.80859,     0.80784,      0.8119,     0.81596,     0.82002,     0.82345,     0.82285,     0.82224,     0.82164,\n",
       "            0.82104,     0.82043,     0.81894,     0.82165,     0.83369,     0.83476,     0.83582,     0.83689,     0.83796,     0.83903,      0.8401,     0.84117,     0.84224,     0.84331,     0.84438,     0.84545,     0.84652,     0.84758,     0.84865,     0.84972,     0.85079,     0.86519,     0.86946,\n",
       "            0.86932,     0.86918,     0.86904,     0.86891,     0.86877,     0.86863,     0.86849,     0.86835,     0.86822,     0.86808,     0.86794,      0.8678,     0.86766,     0.86752,     0.86739,     0.86725,     0.86711,     0.86697,     0.86683,      0.8667,     0.86543,     0.86388,     0.86343,\n",
       "            0.86319,     0.86295,     0.86271,     0.86247,     0.86223,     0.86199,     0.86175,     0.86151,     0.86127,     0.86103,     0.86078,     0.86054,     0.85989,     0.85904,     0.85819,     0.85734,     0.85811,     0.85937,     0.86064,      0.8619,     0.86316,     0.86442,     0.86568,\n",
       "            0.86694,      0.8682,     0.86946,     0.87072,     0.87198,     0.87324,      0.8745,     0.87576,     0.87702,     0.88222,     0.89945,     0.89733,     0.89687,     0.89641,     0.89594,     0.89548,     0.89502,       0.894,     0.89205,     0.89142,     0.89091,      0.8904,     0.88988,\n",
       "            0.88937,     0.88878,     0.88716,     0.88546,     0.88316,     0.88196,     0.88135,     0.88074,     0.88013,     0.87952,     0.87891,     0.87673,     0.87431,     0.87225,     0.87071,     0.87003,     0.86935,     0.86867,       0.868,     0.86732,     0.86664,     0.86601,     0.86538,\n",
       "            0.86476,     0.86413,      0.8635,     0.86287,     0.86224,     0.86161,     0.86098,     0.86035,     0.85972,     0.85909,     0.85846,     0.85783,     0.85719,     0.85667,     0.85615,     0.85564,     0.85512,      0.8546,     0.85409,     0.85357,     0.85305,     0.85254,     0.85202,\n",
       "            0.85129,     0.85045,     0.84962,     0.84879,     0.84795,     0.84712,     0.84628,     0.84867,     0.85892,     0.86917,     0.91273,     0.91199,     0.91125,     0.91052,     0.90978,     0.90903,     0.90815,     0.90726,     0.90637,     0.90548,     0.90725,     0.92049,     0.93374,\n",
       "            0.94699,     0.94986,     0.94968,      0.9495,     0.94932,     0.94914,     0.94896,     0.94878,      0.9486,     0.94842,     0.94824,     0.94806,     0.94788,      0.9477,     0.94752,     0.94782,     0.95109,     0.95436,     0.95763,      0.9609,     0.96417,     0.96744,     0.97071,\n",
       "            0.97398,     0.97725,     0.98052,     0.98379,     0.98706,     0.99033,      0.9936,     0.99687,           1,           1,           1,           1,           1,           1,           1,           1,           1,           1,           1,           1,           1,           1,           1,\n",
       "                  1,           1,           1,           1,           1,           1,           1,           1,           1,           1,           1,           1,           1,           1,           1,           1,           1,           1,           1,           1,           1,           1,           1,\n",
       "                  1,           1,           1,           1,           1,           1,           1,           1,           1,           1,           1,           1,           1,           1,           1,           1,           1,           1,           1,           1,           1,           1,           1,\n",
       "                  1,           1,           1,           1,           1,           1,           1,           1,           1,           1,           1,           1,           1,           1,           1,           1,           1,           1,           1,           1,           1,           1,           1,\n",
       "                  1,           1,           1,           1,           1,           1,           1,           1,           1,           1,           1,           1,           1,           1,           1,           1,           1,           1,           1,           1,           1,           1,           1,\n",
       "                  1,           1,           1,           1,           1,           1,           1,           1,           1,           1,           1,           1,           1,           1,           1,           1,           1,           1,           1,           1,           1,           1,           1,\n",
       "                  1,           1,           1,           1,           1,           1,           1,           1,           1,           1,           1,           1,           1,           1,           1,           1,           1,           1,           1,           1,           1,           1,           1,\n",
       "                  1,           1,           1,           1,           1,           1,           1,           1,           1,           1,           1,           1,           1,           1,           1,           1,           1,           1,           1,           1,           1,           1,           1,\n",
       "                  1,           1,           1,           1,           1,           1,           1,           1,           1,           1,           1,           1,           1,           1,           1,           1,           1,           1,           1,           1,           1,           1,           1,\n",
       "                  1,           1,           1,           1,           1,           1,           1,           1,           1,           1,           1,           1,           1,           1,           1,           1,           1,           1,           1,           1,           1,           1,           1,\n",
       "                  1,           1,           1,           1,           1,           1,           1,           1,           1,           1,           1,           1,           1,           1,           1,           1,           1,           1,           1,           1,           1,           1,           1,\n",
       "                  1,           1,           1,           1,           1,           1,           1,           1,           1,           1,           1,           1,           1,           1,           1,           1,           1,           1,           1,           1,           1,           1,           1,\n",
       "                  1,           1,           1,           1,           1,           1,           1,           1,           1,           1,           1]]), 'Confidence', 'Precision'], [array([          0,    0.001001,    0.002002,    0.003003,    0.004004,    0.005005,    0.006006,    0.007007,    0.008008,    0.009009,     0.01001,    0.011011,    0.012012,    0.013013,    0.014014,    0.015015,    0.016016,    0.017017,    0.018018,    0.019019,     0.02002,    0.021021,    0.022022,    0.023023,\n",
       "          0.024024,    0.025025,    0.026026,    0.027027,    0.028028,    0.029029,     0.03003,    0.031031,    0.032032,    0.033033,    0.034034,    0.035035,    0.036036,    0.037037,    0.038038,    0.039039,     0.04004,    0.041041,    0.042042,    0.043043,    0.044044,    0.045045,    0.046046,    0.047047,\n",
       "          0.048048,    0.049049,     0.05005,    0.051051,    0.052052,    0.053053,    0.054054,    0.055055,    0.056056,    0.057057,    0.058058,    0.059059,     0.06006,    0.061061,    0.062062,    0.063063,    0.064064,    0.065065,    0.066066,    0.067067,    0.068068,    0.069069,     0.07007,    0.071071,\n",
       "          0.072072,    0.073073,    0.074074,    0.075075,    0.076076,    0.077077,    0.078078,    0.079079,     0.08008,    0.081081,    0.082082,    0.083083,    0.084084,    0.085085,    0.086086,    0.087087,    0.088088,    0.089089,     0.09009,    0.091091,    0.092092,    0.093093,    0.094094,    0.095095,\n",
       "          0.096096,    0.097097,    0.098098,    0.099099,      0.1001,      0.1011,      0.1021,      0.1031,      0.1041,     0.10511,     0.10611,     0.10711,     0.10811,     0.10911,     0.11011,     0.11111,     0.11211,     0.11311,     0.11411,     0.11512,     0.11612,     0.11712,     0.11812,     0.11912,\n",
       "           0.12012,     0.12112,     0.12212,     0.12312,     0.12412,     0.12513,     0.12613,     0.12713,     0.12813,     0.12913,     0.13013,     0.13113,     0.13213,     0.13313,     0.13413,     0.13514,     0.13614,     0.13714,     0.13814,     0.13914,     0.14014,     0.14114,     0.14214,     0.14314,\n",
       "           0.14414,     0.14515,     0.14615,     0.14715,     0.14815,     0.14915,     0.15015,     0.15115,     0.15215,     0.15315,     0.15415,     0.15516,     0.15616,     0.15716,     0.15816,     0.15916,     0.16016,     0.16116,     0.16216,     0.16316,     0.16416,     0.16517,     0.16617,     0.16717,\n",
       "           0.16817,     0.16917,     0.17017,     0.17117,     0.17217,     0.17317,     0.17417,     0.17518,     0.17618,     0.17718,     0.17818,     0.17918,     0.18018,     0.18118,     0.18218,     0.18318,     0.18418,     0.18519,     0.18619,     0.18719,     0.18819,     0.18919,     0.19019,     0.19119,\n",
       "           0.19219,     0.19319,     0.19419,      0.1952,      0.1962,      0.1972,      0.1982,      0.1992,      0.2002,      0.2012,      0.2022,      0.2032,      0.2042,     0.20521,     0.20621,     0.20721,     0.20821,     0.20921,     0.21021,     0.21121,     0.21221,     0.21321,     0.21421,     0.21522,\n",
       "           0.21622,     0.21722,     0.21822,     0.21922,     0.22022,     0.22122,     0.22222,     0.22322,     0.22422,     0.22523,     0.22623,     0.22723,     0.22823,     0.22923,     0.23023,     0.23123,     0.23223,     0.23323,     0.23423,     0.23524,     0.23624,     0.23724,     0.23824,     0.23924,\n",
       "           0.24024,     0.24124,     0.24224,     0.24324,     0.24424,     0.24525,     0.24625,     0.24725,     0.24825,     0.24925,     0.25025,     0.25125,     0.25225,     0.25325,     0.25425,     0.25526,     0.25626,     0.25726,     0.25826,     0.25926,     0.26026,     0.26126,     0.26226,     0.26326,\n",
       "           0.26426,     0.26527,     0.26627,     0.26727,     0.26827,     0.26927,     0.27027,     0.27127,     0.27227,     0.27327,     0.27427,     0.27528,     0.27628,     0.27728,     0.27828,     0.27928,     0.28028,     0.28128,     0.28228,     0.28328,     0.28428,     0.28529,     0.28629,     0.28729,\n",
       "           0.28829,     0.28929,     0.29029,     0.29129,     0.29229,     0.29329,     0.29429,      0.2953,      0.2963,      0.2973,      0.2983,      0.2993,      0.3003,      0.3013,      0.3023,      0.3033,      0.3043,     0.30531,     0.30631,     0.30731,     0.30831,     0.30931,     0.31031,     0.31131,\n",
       "           0.31231,     0.31331,     0.31431,     0.31532,     0.31632,     0.31732,     0.31832,     0.31932,     0.32032,     0.32132,     0.32232,     0.32332,     0.32432,     0.32533,     0.32633,     0.32733,     0.32833,     0.32933,     0.33033,     0.33133,     0.33233,     0.33333,     0.33433,     0.33534,\n",
       "           0.33634,     0.33734,     0.33834,     0.33934,     0.34034,     0.34134,     0.34234,     0.34334,     0.34434,     0.34535,     0.34635,     0.34735,     0.34835,     0.34935,     0.35035,     0.35135,     0.35235,     0.35335,     0.35435,     0.35536,     0.35636,     0.35736,     0.35836,     0.35936,\n",
       "           0.36036,     0.36136,     0.36236,     0.36336,     0.36436,     0.36537,     0.36637,     0.36737,     0.36837,     0.36937,     0.37037,     0.37137,     0.37237,     0.37337,     0.37437,     0.37538,     0.37638,     0.37738,     0.37838,     0.37938,     0.38038,     0.38138,     0.38238,     0.38338,\n",
       "           0.38438,     0.38539,     0.38639,     0.38739,     0.38839,     0.38939,     0.39039,     0.39139,     0.39239,     0.39339,     0.39439,      0.3954,      0.3964,      0.3974,      0.3984,      0.3994,      0.4004,      0.4014,      0.4024,      0.4034,      0.4044,     0.40541,     0.40641,     0.40741,\n",
       "           0.40841,     0.40941,     0.41041,     0.41141,     0.41241,     0.41341,     0.41441,     0.41542,     0.41642,     0.41742,     0.41842,     0.41942,     0.42042,     0.42142,     0.42242,     0.42342,     0.42442,     0.42543,     0.42643,     0.42743,     0.42843,     0.42943,     0.43043,     0.43143,\n",
       "           0.43243,     0.43343,     0.43443,     0.43544,     0.43644,     0.43744,     0.43844,     0.43944,     0.44044,     0.44144,     0.44244,     0.44344,     0.44444,     0.44545,     0.44645,     0.44745,     0.44845,     0.44945,     0.45045,     0.45145,     0.45245,     0.45345,     0.45445,     0.45546,\n",
       "           0.45646,     0.45746,     0.45846,     0.45946,     0.46046,     0.46146,     0.46246,     0.46346,     0.46446,     0.46547,     0.46647,     0.46747,     0.46847,     0.46947,     0.47047,     0.47147,     0.47247,     0.47347,     0.47447,     0.47548,     0.47648,     0.47748,     0.47848,     0.47948,\n",
       "           0.48048,     0.48148,     0.48248,     0.48348,     0.48448,     0.48549,     0.48649,     0.48749,     0.48849,     0.48949,     0.49049,     0.49149,     0.49249,     0.49349,     0.49449,      0.4955,      0.4965,      0.4975,      0.4985,      0.4995,      0.5005,      0.5015,      0.5025,      0.5035,\n",
       "            0.5045,     0.50551,     0.50651,     0.50751,     0.50851,     0.50951,     0.51051,     0.51151,     0.51251,     0.51351,     0.51451,     0.51552,     0.51652,     0.51752,     0.51852,     0.51952,     0.52052,     0.52152,     0.52252,     0.52352,     0.52452,     0.52553,     0.52653,     0.52753,\n",
       "           0.52853,     0.52953,     0.53053,     0.53153,     0.53253,     0.53353,     0.53453,     0.53554,     0.53654,     0.53754,     0.53854,     0.53954,     0.54054,     0.54154,     0.54254,     0.54354,     0.54454,     0.54555,     0.54655,     0.54755,     0.54855,     0.54955,     0.55055,     0.55155,\n",
       "           0.55255,     0.55355,     0.55455,     0.55556,     0.55656,     0.55756,     0.55856,     0.55956,     0.56056,     0.56156,     0.56256,     0.56356,     0.56456,     0.56557,     0.56657,     0.56757,     0.56857,     0.56957,     0.57057,     0.57157,     0.57257,     0.57357,     0.57457,     0.57558,\n",
       "           0.57658,     0.57758,     0.57858,     0.57958,     0.58058,     0.58158,     0.58258,     0.58358,     0.58458,     0.58559,     0.58659,     0.58759,     0.58859,     0.58959,     0.59059,     0.59159,     0.59259,     0.59359,     0.59459,      0.5956,      0.5966,      0.5976,      0.5986,      0.5996,\n",
       "            0.6006,      0.6016,      0.6026,      0.6036,      0.6046,     0.60561,     0.60661,     0.60761,     0.60861,     0.60961,     0.61061,     0.61161,     0.61261,     0.61361,     0.61461,     0.61562,     0.61662,     0.61762,     0.61862,     0.61962,     0.62062,     0.62162,     0.62262,     0.62362,\n",
       "           0.62462,     0.62563,     0.62663,     0.62763,     0.62863,     0.62963,     0.63063,     0.63163,     0.63263,     0.63363,     0.63463,     0.63564,     0.63664,     0.63764,     0.63864,     0.63964,     0.64064,     0.64164,     0.64264,     0.64364,     0.64464,     0.64565,     0.64665,     0.64765,\n",
       "           0.64865,     0.64965,     0.65065,     0.65165,     0.65265,     0.65365,     0.65465,     0.65566,     0.65666,     0.65766,     0.65866,     0.65966,     0.66066,     0.66166,     0.66266,     0.66366,     0.66466,     0.66567,     0.66667,     0.66767,     0.66867,     0.66967,     0.67067,     0.67167,\n",
       "           0.67267,     0.67367,     0.67467,     0.67568,     0.67668,     0.67768,     0.67868,     0.67968,     0.68068,     0.68168,     0.68268,     0.68368,     0.68468,     0.68569,     0.68669,     0.68769,     0.68869,     0.68969,     0.69069,     0.69169,     0.69269,     0.69369,     0.69469,      0.6957,\n",
       "            0.6967,      0.6977,      0.6987,      0.6997,      0.7007,      0.7017,      0.7027,      0.7037,      0.7047,     0.70571,     0.70671,     0.70771,     0.70871,     0.70971,     0.71071,     0.71171,     0.71271,     0.71371,     0.71471,     0.71572,     0.71672,     0.71772,     0.71872,     0.71972,\n",
       "           0.72072,     0.72172,     0.72272,     0.72372,     0.72472,     0.72573,     0.72673,     0.72773,     0.72873,     0.72973,     0.73073,     0.73173,     0.73273,     0.73373,     0.73473,     0.73574,     0.73674,     0.73774,     0.73874,     0.73974,     0.74074,     0.74174,     0.74274,     0.74374,\n",
       "           0.74474,     0.74575,     0.74675,     0.74775,     0.74875,     0.74975,     0.75075,     0.75175,     0.75275,     0.75375,     0.75475,     0.75576,     0.75676,     0.75776,     0.75876,     0.75976,     0.76076,     0.76176,     0.76276,     0.76376,     0.76476,     0.76577,     0.76677,     0.76777,\n",
       "           0.76877,     0.76977,     0.77077,     0.77177,     0.77277,     0.77377,     0.77477,     0.77578,     0.77678,     0.77778,     0.77878,     0.77978,     0.78078,     0.78178,     0.78278,     0.78378,     0.78478,     0.78579,     0.78679,     0.78779,     0.78879,     0.78979,     0.79079,     0.79179,\n",
       "           0.79279,     0.79379,     0.79479,      0.7958,      0.7968,      0.7978,      0.7988,      0.7998,      0.8008,      0.8018,      0.8028,      0.8038,      0.8048,     0.80581,     0.80681,     0.80781,     0.80881,     0.80981,     0.81081,     0.81181,     0.81281,     0.81381,     0.81481,     0.81582,\n",
       "           0.81682,     0.81782,     0.81882,     0.81982,     0.82082,     0.82182,     0.82282,     0.82382,     0.82482,     0.82583,     0.82683,     0.82783,     0.82883,     0.82983,     0.83083,     0.83183,     0.83283,     0.83383,     0.83483,     0.83584,     0.83684,     0.83784,     0.83884,     0.83984,\n",
       "           0.84084,     0.84184,     0.84284,     0.84384,     0.84484,     0.84585,     0.84685,     0.84785,     0.84885,     0.84985,     0.85085,     0.85185,     0.85285,     0.85385,     0.85485,     0.85586,     0.85686,     0.85786,     0.85886,     0.85986,     0.86086,     0.86186,     0.86286,     0.86386,\n",
       "           0.86486,     0.86587,     0.86687,     0.86787,     0.86887,     0.86987,     0.87087,     0.87187,     0.87287,     0.87387,     0.87487,     0.87588,     0.87688,     0.87788,     0.87888,     0.87988,     0.88088,     0.88188,     0.88288,     0.88388,     0.88488,     0.88589,     0.88689,     0.88789,\n",
       "           0.88889,     0.88989,     0.89089,     0.89189,     0.89289,     0.89389,     0.89489,      0.8959,      0.8969,      0.8979,      0.8989,      0.8999,      0.9009,      0.9019,      0.9029,      0.9039,      0.9049,     0.90591,     0.90691,     0.90791,     0.90891,     0.90991,     0.91091,     0.91191,\n",
       "           0.91291,     0.91391,     0.91491,     0.91592,     0.91692,     0.91792,     0.91892,     0.91992,     0.92092,     0.92192,     0.92292,     0.92392,     0.92492,     0.92593,     0.92693,     0.92793,     0.92893,     0.92993,     0.93093,     0.93193,     0.93293,     0.93393,     0.93493,     0.93594,\n",
       "           0.93694,     0.93794,     0.93894,     0.93994,     0.94094,     0.94194,     0.94294,     0.94394,     0.94494,     0.94595,     0.94695,     0.94795,     0.94895,     0.94995,     0.95095,     0.95195,     0.95295,     0.95395,     0.95495,     0.95596,     0.95696,     0.95796,     0.95896,     0.95996,\n",
       "           0.96096,     0.96196,     0.96296,     0.96396,     0.96496,     0.96597,     0.96697,     0.96797,     0.96897,     0.96997,     0.97097,     0.97197,     0.97297,     0.97397,     0.97497,     0.97598,     0.97698,     0.97798,     0.97898,     0.97998,     0.98098,     0.98198,     0.98298,     0.98398,\n",
       "           0.98498,     0.98599,     0.98699,     0.98799,     0.98899,     0.98999,     0.99099,     0.99199,     0.99299,     0.99399,     0.99499,       0.996,       0.997,       0.998,       0.999,           1]), array([[    0.83673,     0.83673,     0.82653,     0.81633,     0.80612,     0.80612,     0.80612,     0.80612,     0.80612,     0.80612,     0.80612,     0.80612,     0.80612,     0.79592,     0.78571,     0.78571,     0.78571,     0.78571,     0.78571,     0.78571,     0.78571,     0.78571,     0.78571,\n",
       "            0.78571,     0.78571,     0.78571,     0.78571,     0.78571,     0.78571,     0.78571,     0.78571,     0.78571,     0.78571,     0.78571,     0.78571,     0.78571,     0.78571,     0.78571,     0.78571,     0.78571,     0.78571,     0.78571,     0.78571,     0.77551,     0.77551,     0.77551,\n",
       "            0.77551,     0.77551,     0.77551,     0.77551,     0.76531,     0.76531,     0.76531,     0.76531,     0.76531,     0.76531,     0.76149,      0.7551,      0.7551,      0.7551,      0.7551,      0.7551,      0.7551,      0.7551,      0.7551,      0.7551,      0.7551,      0.7551,      0.7551,\n",
       "             0.7551,      0.7551,      0.7551,     0.75076,      0.7449,      0.7449,      0.7449,      0.7449,      0.7449,      0.7449,      0.7449,      0.7449,      0.7449,      0.7449,      0.7449,      0.7449,      0.7449,      0.7449,      0.7449,      0.7449,      0.7449,      0.7449,      0.7449,\n",
       "             0.7449,      0.7449,      0.7449,      0.7449,      0.7449,      0.7449,      0.7449,      0.7449,      0.7449,      0.7449,      0.7449,      0.7449,      0.7449,      0.7449,      0.7449,      0.7449,      0.7449,      0.7449,      0.7449,      0.7449,      0.7449,      0.7449,     0.73469,\n",
       "            0.73469,     0.73469,     0.73469,     0.73469,     0.73469,     0.73469,     0.73469,     0.73469,     0.73345,     0.73219,     0.73093,     0.72967,     0.72841,     0.72716,      0.7259,     0.72464,     0.72449,     0.72449,     0.72449,     0.72449,     0.72449,     0.72449,     0.72449,\n",
       "            0.72449,     0.72449,     0.72449,     0.72449,     0.72449,     0.72449,     0.72449,     0.72449,     0.72449,     0.72449,     0.72449,     0.72449,     0.72449,     0.72004,     0.71429,     0.71429,     0.71429,     0.71429,     0.71429,     0.71373,     0.71271,     0.71169,     0.71067,\n",
       "            0.70965,     0.70863,     0.70761,     0.70659,     0.70557,     0.70455,     0.70157,     0.69692,     0.69388,     0.69388,     0.69388,     0.69388,     0.69388,     0.69388,     0.69388,     0.69388,     0.69388,     0.69388,     0.69388,     0.69388,     0.69388,     0.69353,     0.69237,\n",
       "            0.69121,     0.69005,     0.68888,     0.68772,     0.68656,      0.6854,     0.68423,     0.68367,     0.68367,     0.68367,     0.68367,     0.68367,     0.68358,     0.68036,     0.67714,     0.67392,     0.67347,     0.67347,     0.67347,     0.67347,     0.67347,     0.67347,     0.67347,\n",
       "            0.67347,     0.67347,     0.67347,     0.67347,     0.67347,     0.67347,     0.67347,     0.67347,     0.67347,     0.66675,     0.66327,     0.66327,     0.66327,     0.66327,     0.66327,     0.66327,     0.66327,     0.66327,     0.66327,     0.66037,     0.65657,     0.65196,     0.64266,\n",
       "            0.64208,      0.6415,     0.64093,     0.64035,     0.63977,     0.63919,     0.63862,     0.63804,     0.63746,     0.63689,     0.63631,     0.63573,     0.63515,     0.63458,       0.634,     0.63342,     0.63285,     0.63111,     0.62878,     0.62646,     0.62414,     0.62054,     0.61356,\n",
       "            0.61224,     0.60982,     0.60285,     0.60204,     0.60204,     0.60204,     0.59162,     0.59067,     0.58972,     0.58877,     0.58782,     0.58687,     0.58592,     0.58497,     0.58402,     0.58306,     0.58211,     0.58163,     0.58163,     0.58163,     0.58163,     0.58163,     0.58163,\n",
       "            0.58163,     0.58163,     0.58163,     0.58163,     0.58163,     0.58067,      0.5794,     0.57813,     0.57686,     0.57559,     0.57433,     0.57306,     0.57179,     0.57143,     0.57143,     0.57143,     0.57143,     0.57143,     0.57143,     0.57143,     0.57143,     0.57143,     0.57143,\n",
       "            0.57143,     0.57143,     0.57143,     0.57143,     0.57143,     0.57143,     0.57143,     0.57143,     0.57143,     0.57143,     0.57143,     0.57143,     0.57143,     0.57135,     0.57005,     0.56874,     0.56743,     0.56613,     0.56482,     0.56351,      0.5622,     0.56122,     0.56122,\n",
       "            0.56122,     0.56122,     0.56122,     0.56122,     0.56122,     0.56122,     0.56122,     0.56122,     0.56122,     0.56122,     0.56122,     0.56122,     0.56122,     0.56122,     0.56122,     0.56122,     0.56122,     0.56122,     0.56122,     0.56122,     0.56122,     0.56122,     0.56122,\n",
       "            0.56122,     0.56122,     0.56122,     0.56122,     0.56122,     0.56122,     0.56122,     0.56122,     0.56122,     0.56122,     0.56122,     0.56122,     0.56122,     0.56122,     0.56122,     0.56122,     0.56122,     0.56122,     0.56122,     0.56122,     0.56122,     0.56122,     0.56122,\n",
       "            0.56122,     0.56122,     0.56122,     0.56122,     0.56122,     0.56122,     0.56122,     0.56122,     0.56122,     0.56122,     0.56122,     0.56122,     0.56121,     0.56011,     0.55901,     0.55791,     0.55681,     0.55571,     0.55461,     0.55351,     0.55241,     0.55131,     0.55011,\n",
       "            0.54888,     0.54765,     0.54642,     0.54519,     0.54396,     0.54273,     0.54149,     0.54082,     0.54082,     0.54082,     0.53948,     0.53774,     0.53599,     0.53425,     0.53251,     0.53077,     0.53061,     0.53061,     0.53061,     0.53061,     0.53061,     0.53061,     0.53061,\n",
       "            0.53061,     0.53061,     0.53061,     0.53061,     0.53061,     0.53061,     0.53061,     0.53061,     0.52041,     0.52041,     0.52041,     0.52041,     0.52041,     0.52041,     0.52041,     0.52041,     0.52041,     0.52041,     0.52041,     0.52041,     0.52041,     0.52041,     0.52041,\n",
       "            0.52041,     0.52041,     0.52041,     0.52041,     0.52041,     0.52041,     0.52041,     0.52041,     0.52041,     0.52041,     0.52041,     0.52041,     0.52041,     0.52041,     0.52031,     0.51752,     0.51473,     0.51194,      0.5102,      0.5102,      0.5102,      0.5102,      0.5102,\n",
       "             0.5102,      0.5102,      0.5102,      0.5102,      0.5102,      0.5102,      0.5102,      0.5032,     0.49637,     0.49114,      0.4898,      0.4898,      0.4898,      0.4898,      0.4898,      0.4898,      0.4898,      0.4898,      0.4898,      0.4898,      0.4898,     0.48942,     0.47954,\n",
       "            0.47867,      0.4778,     0.47692,     0.47605,     0.47518,     0.47431,     0.47344,     0.47257,     0.47169,     0.47082,     0.46995,     0.46816,     0.46467,     0.46118,     0.45889,     0.45819,     0.45749,     0.45679,      0.4561,      0.4554,      0.4547,     0.45401,     0.45331,\n",
       "            0.45261,     0.45191,     0.45122,     0.45052,     0.44982,     0.44912,      0.4476,     0.44585,     0.44411,     0.44237,     0.44062,     0.43888,     0.43632,      0.4337,     0.43109,     0.42857,     0.42857,     0.42857,     0.42857,     0.42834,     0.42659,     0.42485,     0.42311,\n",
       "            0.42136,     0.41962,     0.41543,     0.40816,     0.40816,     0.40816,     0.40816,     0.40816,     0.40816,     0.40816,     0.40816,     0.40816,     0.40816,     0.40816,     0.40816,     0.40816,     0.40816,     0.40816,     0.40816,     0.40816,     0.40816,     0.40816,     0.40779,\n",
       "             0.4073,     0.40682,     0.40633,     0.40584,     0.40536,     0.40487,     0.40438,      0.4039,     0.40341,     0.40292,     0.40244,     0.40195,     0.40146,     0.40098,     0.40049,     0.40001,     0.39952,     0.39903,     0.39855,     0.39806,      0.3938,     0.38857,      0.3871,\n",
       "            0.38633,     0.38555,     0.38478,       0.384,     0.38323,     0.38245,     0.38168,      0.3809,     0.38013,     0.37935,     0.37858,      0.3778,     0.37579,     0.37318,     0.37056,     0.36795,     0.36735,     0.36735,     0.36735,     0.36735,     0.36735,     0.36735,     0.36735,\n",
       "            0.36735,     0.36735,     0.36735,     0.36735,     0.36735,     0.36735,     0.36735,     0.36735,     0.36735,     0.36735,     0.36515,     0.35673,     0.35499,     0.35325,      0.3515,     0.34976,     0.34802,     0.34428,     0.33731,     0.33514,     0.33339,     0.33165,     0.32991,\n",
       "            0.32816,      0.3262,     0.32097,     0.31554,     0.30857,     0.30499,     0.30325,      0.3015,     0.29976,     0.29802,     0.29627,     0.29037,     0.28398,     0.27875,      0.2749,     0.27329,     0.27168,     0.27007,     0.26846,     0.26685,     0.26525,     0.26386,     0.26246,\n",
       "            0.26107,     0.25967,     0.25828,     0.25688,     0.25549,     0.25416,     0.25285,     0.25154,     0.25023,     0.24893,     0.24762,     0.24631,       0.245,     0.24398,     0.24299,     0.24199,     0.24099,        0.24,       0.239,     0.23801,     0.23701,     0.23601,     0.23502,\n",
       "            0.23369,     0.23219,      0.2307,      0.2292,     0.22771,     0.22621,     0.22472,     0.21429,     0.21429,     0.21429,     0.21347,     0.21156,     0.20966,     0.20776,     0.20586,     0.20394,     0.20185,     0.19976,     0.19767,     0.19558,     0.19388,     0.19388,     0.19388,\n",
       "            0.19388,     0.19334,     0.19264,     0.19194,     0.19125,     0.19055,     0.18985,     0.18915,     0.18846,     0.18776,     0.18706,     0.18637,     0.18567,     0.18497,     0.18427,     0.18367,     0.18367,     0.18367,     0.18367,     0.18367,     0.18367,     0.18367,     0.18367,\n",
       "            0.18367,     0.18367,     0.18367,     0.18367,     0.18367,     0.18367,     0.18367,     0.18367,     0.18366,     0.18334,     0.18302,     0.18269,     0.18237,     0.18205,     0.18173,     0.18141,     0.18109,     0.18076,     0.18044,     0.18012,      0.1798,     0.17948,     0.17915,\n",
       "            0.17883,     0.17851,     0.17819,     0.17787,     0.17755,     0.17722,      0.1769,     0.17658,     0.17626,     0.17594,     0.17561,     0.17529,     0.17497,     0.17465,     0.17433,     0.17401,     0.17368,     0.17269,     0.17037,     0.16804,     0.16572,     0.16339,     0.16107,\n",
       "            0.15874,     0.15642,      0.1541,     0.14919,     0.14276,     0.14172,     0.14067,     0.13962,     0.13858,     0.13753,     0.13649,     0.13544,     0.13439,     0.13335,     0.13243,     0.13178,     0.13113,     0.13047,     0.12982,     0.12916,     0.12851,     0.12786,      0.1272,\n",
       "            0.12655,      0.1259,     0.12524,     0.12459,     0.12394,     0.12328,     0.12263,     0.12186,     0.12106,     0.12026,     0.11945,     0.11865,     0.11784,     0.11704,     0.11623,     0.11543,     0.11462,     0.11382,     0.11301,     0.11206,     0.10788,     0.10369,     0.10078,\n",
       "           0.098683,    0.096591,      0.0945,    0.092408,    0.088795,    0.084611,    0.081315,    0.080214,    0.079113,    0.078012,    0.076911,    0.075811,     0.07471,    0.073609,    0.072508,    0.071422,    0.071105,    0.070788,    0.070471,    0.070154,    0.069837,    0.069521,    0.069204,\n",
       "           0.068887,     0.06857,    0.068253,    0.067936,    0.067619,    0.067302,    0.066985,    0.066668,    0.066351,    0.066034,    0.065717,      0.0654,    0.065083,    0.064766,    0.064449,    0.064132,    0.063815,    0.063498,    0.063181,    0.062865,    0.062548,    0.062231,    0.061914,\n",
       "           0.061597,     0.06128,    0.059065,    0.056451,    0.053836,    0.051221,    0.050525,    0.049989,    0.049452,    0.048916,     0.04838,    0.047843,    0.047307,     0.04677,    0.046234,    0.045698,    0.045161,    0.044625,    0.044089,    0.043552,    0.043016,    0.042479,    0.041943,\n",
       "           0.041407,     0.04087,    0.037053,     0.03287,    0.029236,    0.026248,    0.023259,    0.020373,    0.019598,    0.018823,    0.018048,    0.017274,    0.016499,    0.015724,    0.014949,    0.014174,      0.0134,    0.012625,     0.01185,    0.011075,    0.010301,           0,           0,\n",
       "                  0,           0,           0,           0,           0,           0,           0,           0,           0,           0,           0,           0,           0,           0,           0,           0,           0,           0,           0,           0,           0,           0,           0,\n",
       "                  0,           0,           0,           0,           0,           0,           0,           0,           0,           0,           0,           0,           0,           0,           0,           0,           0,           0,           0,           0,           0,           0,           0,\n",
       "                  0,           0,           0,           0,           0,           0,           0,           0,           0,           0,           0,           0,           0,           0,           0,           0,           0,           0,           0,           0,           0,           0,           0,\n",
       "                  0,           0,           0,           0,           0,           0,           0,           0,           0,           0,           0,           0,           0,           0,           0,           0,           0,           0,           0,           0,           0,           0,           0,\n",
       "                  0,           0,           0,           0,           0,           0,           0,           0,           0,           0,           0]]), 'Confidence', 'Recall']]\n",
       "fitness: np.float64(0.39818190652632546)\n",
       "keys: ['metrics/precision(B)', 'metrics/recall(B)', 'metrics/mAP50(B)', 'metrics/mAP50-95(B)']\n",
       "maps: array([    0.36845])\n",
       "names: {0: 'fire'}\n",
       "plot: True\n",
       "results_dict: {'metrics/precision(B)': np.float64(0.626358695913713), 'metrics/recall(B)': np.float64(0.6842349719333847), 'metrics/mAP50(B)': np.float64(0.6657668316730734), 'metrics/mAP50-95(B)': np.float64(0.36845024817668676), 'fitness': np.float64(0.39818190652632546)}\n",
       "save_dir: WindowsPath('runs/detect/train')\n",
       "speed: {'preprocess': 0.2395280000200728, 'inference': 0.9419499999967229, 'loss': 0.00024000000848900527, 'postprocess': 0.8159809999960999}\n",
       "task: 'detect'"
      ]
     },
     "execution_count": 9,
     "metadata": {},
     "output_type": "execute_result"
    }
   ],
   "source": [
    "from ultralytics import YOLO\n",
    "\n",
    "# Load YOLOv8 model (you can try 'yolov8n.pt', 'yolov8s.pt', etc.)\n",
    "model = YOLO('yolov8n.pt')  # 'n' is the nano model — fastest for prototyping\n",
    "\n",
    "# Train the model\n",
    "model.train(\n",
    "    data=\"farfield.yaml\",\n",
    "    epochs=100,\n",
    "    imgsz=640,\n",
    "    batch=16,\n",
    "    device = 0\n",
    "\n",
    ")\n"
   ]
  },
  {
   "cell_type": "code",
   "execution_count": 11,
   "id": "9a1ff097",
   "metadata": {},
   "outputs": [
    {
     "name": "stdout",
     "output_type": "stream",
     "text": [
      "Test set size: 50\n"
     ]
    }
   ],
   "source": [
    "import random\n",
    "\n",
    "# Set a seed for reproducibility\n",
    "random.seed(42)\n",
    "\n",
    "# Select 50 random samples from the validation set\n",
    "test_subset = ds['val'].shuffle(seed=42).select(range(50))\n",
    "\n",
    "# If you want to save the test set, for instance as image paths and annotations\n",
    "test_images = test_subset['image']\n",
    "test_annotations = test_subset['annotations']\n",
    "\n",
    "# You can print or inspect the selected samples\n",
    "print(f\"Test set size: {len(test_images)}\")\n"
   ]
  },
  {
   "cell_type": "code",
   "execution_count": 16,
   "id": "c61210a1",
   "metadata": {},
   "outputs": [
    {
     "name": "stdout",
     "output_type": "stream",
     "text": [
      "Test images have been saved to test/images\n"
     ]
    }
   ],
   "source": [
    "import os\n",
    "import shutil\n",
    "from PIL import Image\n",
    "\n",
    "# Define the path where the test images will be saved\n",
    "test_dir = 'test/images'\n",
    "\n",
    "# Create the directory if it doesn't exist\n",
    "os.makedirs(test_dir, exist_ok=True)\n",
    "\n",
    "# Save the test images to the test/images directory\n",
    "for idx, img in enumerate(test_images):\n",
    "    img.save(os.path.join(test_dir, f\"test_image_{idx+1}.jpg\"))  # Save with a new name\n",
    "\n",
    "print(f\"Test images have been saved to {test_dir}\")"
   ]
  },
  {
   "cell_type": "markdown",
   "id": "654896a8",
   "metadata": {},
   "source": [
    "##  Inference on Far-Field Test Images using Trained YOLOv8 Model\n",
    "\n",
    "We perform inference using the **best trained YOLOv8 model** to evaluate its performance on the **test set** of far-field fire scenarios.\n",
    "\n",
    "- 🎯 **Model Weights**: `best.pt` from the training run\n",
    "- 💾 **Output**: Predictions will be saved automatically by YOLO\n",
    "\n",
    "This step visually validates how well the model generalizes to unseen far-field fire detection cases.\n"
   ]
  },
  {
   "cell_type": "code",
   "execution_count": 17,
   "id": "f61b622e",
   "metadata": {},
   "outputs": [],
   "source": [
    "from ultralytics import YOLO\n",
    "\n",
    "# Load your trained weights\n",
    "model = YOLO(\"runs/detect/train/weights/best.pt\")\n"
   ]
  },
  {
   "cell_type": "code",
   "execution_count": 18,
   "id": "21534e6c",
   "metadata": {},
   "outputs": [
    {
     "name": "stdout",
     "output_type": "stream",
     "text": [
      "\n",
      "image 1/50 C:\\Users\\pc\\Desktop\\DL\\Project\\FarField\\test\\images\\test_image_1.jpg: 384x640 1 fire, 47.0ms\n",
      "image 2/50 C:\\Users\\pc\\Desktop\\DL\\Project\\FarField\\test\\images\\test_image_10.jpg: 384x640 1 fire, 7.5ms\n",
      "image 3/50 C:\\Users\\pc\\Desktop\\DL\\Project\\FarField\\test\\images\\test_image_11.jpg: 384x640 1 fire, 6.5ms\n",
      "image 4/50 C:\\Users\\pc\\Desktop\\DL\\Project\\FarField\\test\\images\\test_image_12.jpg: 384x640 1 fire, 5.4ms\n",
      "image 5/50 C:\\Users\\pc\\Desktop\\DL\\Project\\FarField\\test\\images\\test_image_13.jpg: 384x640 2 fires, 5.0ms\n",
      "image 6/50 C:\\Users\\pc\\Desktop\\DL\\Project\\FarField\\test\\images\\test_image_14.jpg: 384x640 1 fire, 6.7ms\n",
      "image 7/50 C:\\Users\\pc\\Desktop\\DL\\Project\\FarField\\test\\images\\test_image_15.jpg: 384x640 1 fire, 5.5ms\n",
      "image 8/50 C:\\Users\\pc\\Desktop\\DL\\Project\\FarField\\test\\images\\test_image_16.jpg: 384x640 (no detections), 6.7ms\n",
      "image 9/50 C:\\Users\\pc\\Desktop\\DL\\Project\\FarField\\test\\images\\test_image_17.jpg: 384x640 (no detections), 8.6ms\n",
      "image 10/50 C:\\Users\\pc\\Desktop\\DL\\Project\\FarField\\test\\images\\test_image_18.jpg: 384x640 1 fire, 11.3ms\n",
      "image 11/50 C:\\Users\\pc\\Desktop\\DL\\Project\\FarField\\test\\images\\test_image_19.jpg: 384x640 1 fire, 5.1ms\n",
      "image 12/50 C:\\Users\\pc\\Desktop\\DL\\Project\\FarField\\test\\images\\test_image_2.jpg: 384x640 (no detections), 5.6ms\n",
      "image 13/50 C:\\Users\\pc\\Desktop\\DL\\Project\\FarField\\test\\images\\test_image_20.jpg: 384x640 1 fire, 5.2ms\n",
      "image 14/50 C:\\Users\\pc\\Desktop\\DL\\Project\\FarField\\test\\images\\test_image_21.jpg: 384x640 1 fire, 10.2ms\n",
      "image 15/50 C:\\Users\\pc\\Desktop\\DL\\Project\\FarField\\test\\images\\test_image_22.jpg: 384x640 1 fire, 4.8ms\n",
      "image 16/50 C:\\Users\\pc\\Desktop\\DL\\Project\\FarField\\test\\images\\test_image_23.jpg: 384x640 1 fire, 9.0ms\n",
      "image 17/50 C:\\Users\\pc\\Desktop\\DL\\Project\\FarField\\test\\images\\test_image_24.jpg: 384x640 1 fire, 7.3ms\n",
      "image 18/50 C:\\Users\\pc\\Desktop\\DL\\Project\\FarField\\test\\images\\test_image_25.jpg: 384x640 1 fire, 4.9ms\n",
      "image 19/50 C:\\Users\\pc\\Desktop\\DL\\Project\\FarField\\test\\images\\test_image_26.jpg: 384x640 2 fires, 4.6ms\n",
      "image 20/50 C:\\Users\\pc\\Desktop\\DL\\Project\\FarField\\test\\images\\test_image_27.jpg: 384x640 (no detections), 5.4ms\n",
      "image 21/50 C:\\Users\\pc\\Desktop\\DL\\Project\\FarField\\test\\images\\test_image_28.jpg: 384x640 (no detections), 9.8ms\n",
      "image 22/50 C:\\Users\\pc\\Desktop\\DL\\Project\\FarField\\test\\images\\test_image_29.jpg: 384x640 2 fires, 5.9ms\n",
      "image 23/50 C:\\Users\\pc\\Desktop\\DL\\Project\\FarField\\test\\images\\test_image_3.jpg: 384x640 1 fire, 5.7ms\n",
      "image 24/50 C:\\Users\\pc\\Desktop\\DL\\Project\\FarField\\test\\images\\test_image_30.jpg: 384x640 1 fire, 4.9ms\n",
      "image 25/50 C:\\Users\\pc\\Desktop\\DL\\Project\\FarField\\test\\images\\test_image_31.jpg: 384x640 1 fire, 5.9ms\n",
      "image 26/50 C:\\Users\\pc\\Desktop\\DL\\Project\\FarField\\test\\images\\test_image_32.jpg: 384x640 2 fires, 5.5ms\n",
      "image 27/50 C:\\Users\\pc\\Desktop\\DL\\Project\\FarField\\test\\images\\test_image_33.jpg: 384x640 2 fires, 6.3ms\n",
      "image 28/50 C:\\Users\\pc\\Desktop\\DL\\Project\\FarField\\test\\images\\test_image_34.jpg: 384x640 1 fire, 10.9ms\n",
      "image 29/50 C:\\Users\\pc\\Desktop\\DL\\Project\\FarField\\test\\images\\test_image_35.jpg: 384x640 1 fire, 8.3ms\n",
      "image 30/50 C:\\Users\\pc\\Desktop\\DL\\Project\\FarField\\test\\images\\test_image_36.jpg: 384x640 1 fire, 5.7ms\n",
      "image 31/50 C:\\Users\\pc\\Desktop\\DL\\Project\\FarField\\test\\images\\test_image_37.jpg: 384x640 1 fire, 4.8ms\n",
      "image 32/50 C:\\Users\\pc\\Desktop\\DL\\Project\\FarField\\test\\images\\test_image_38.jpg: 384x640 2 fires, 7.7ms\n",
      "image 33/50 C:\\Users\\pc\\Desktop\\DL\\Project\\FarField\\test\\images\\test_image_39.jpg: 384x640 2 fires, 6.2ms\n",
      "image 34/50 C:\\Users\\pc\\Desktop\\DL\\Project\\FarField\\test\\images\\test_image_4.jpg: 384x640 2 fires, 8.1ms\n",
      "image 35/50 C:\\Users\\pc\\Desktop\\DL\\Project\\FarField\\test\\images\\test_image_40.jpg: 384x640 (no detections), 5.7ms\n",
      "image 36/50 C:\\Users\\pc\\Desktop\\DL\\Project\\FarField\\test\\images\\test_image_41.jpg: 384x640 1 fire, 4.7ms\n",
      "image 37/50 C:\\Users\\pc\\Desktop\\DL\\Project\\FarField\\test\\images\\test_image_42.jpg: 384x640 1 fire, 8.3ms\n",
      "image 38/50 C:\\Users\\pc\\Desktop\\DL\\Project\\FarField\\test\\images\\test_image_43.jpg: 384x640 1 fire, 11.9ms\n",
      "image 39/50 C:\\Users\\pc\\Desktop\\DL\\Project\\FarField\\test\\images\\test_image_44.jpg: 384x640 1 fire, 6.3ms\n",
      "image 40/50 C:\\Users\\pc\\Desktop\\DL\\Project\\FarField\\test\\images\\test_image_45.jpg: 384x640 (no detections), 5.1ms\n",
      "image 41/50 C:\\Users\\pc\\Desktop\\DL\\Project\\FarField\\test\\images\\test_image_46.jpg: 384x640 1 fire, 7.3ms\n",
      "image 42/50 C:\\Users\\pc\\Desktop\\DL\\Project\\FarField\\test\\images\\test_image_47.jpg: 384x640 (no detections), 5.0ms\n",
      "image 43/50 C:\\Users\\pc\\Desktop\\DL\\Project\\FarField\\test\\images\\test_image_48.jpg: 384x640 1 fire, 4.8ms\n",
      "image 44/50 C:\\Users\\pc\\Desktop\\DL\\Project\\FarField\\test\\images\\test_image_49.jpg: 384x640 (no detections), 4.8ms\n",
      "image 45/50 C:\\Users\\pc\\Desktop\\DL\\Project\\FarField\\test\\images\\test_image_5.jpg: 384x640 1 fire, 4.7ms\n",
      "image 46/50 C:\\Users\\pc\\Desktop\\DL\\Project\\FarField\\test\\images\\test_image_50.jpg: 384x640 2 fires, 7.1ms\n",
      "image 47/50 C:\\Users\\pc\\Desktop\\DL\\Project\\FarField\\test\\images\\test_image_6.jpg: 384x640 1 fire, 6.5ms\n",
      "image 48/50 C:\\Users\\pc\\Desktop\\DL\\Project\\FarField\\test\\images\\test_image_7.jpg: 384x640 1 fire, 5.0ms\n",
      "image 49/50 C:\\Users\\pc\\Desktop\\DL\\Project\\FarField\\test\\images\\test_image_8.jpg: 384x640 1 fire, 5.4ms\n",
      "image 50/50 C:\\Users\\pc\\Desktop\\DL\\Project\\FarField\\test\\images\\test_image_9.jpg: 384x640 1 fire, 9.9ms\n",
      "Speed: 1.1ms preprocess, 7.4ms inference, 1.2ms postprocess per image at shape (1, 3, 384, 640)\n",
      "Results saved to \u001b[1mruns\\detect\\predict\u001b[0m\n"
     ]
    }
   ],
   "source": [
    "results = model.predict(source=\"C:/Users/pc/Desktop/DL/Project/FarField/test/images\", save=True)\n"
   ]
  },
  {
   "cell_type": "code",
   "execution_count": 20,
   "id": "c96ea09c",
   "metadata": {},
   "outputs": [
    {
     "name": "stdout",
     "output_type": "stream",
     "text": [
      "Ultralytics 8.3.107  Python-3.11.6 torch-2.5.1+cu121 CUDA:0 (NVIDIA GeForce RTX 3070, 8192MiB)\n"
     ]
    },
    {
     "name": "stderr",
     "output_type": "stream",
     "text": [
      "\u001b[34m\u001b[1mval: \u001b[0mScanning C:\\Users\\pc\\Desktop\\DL\\Project\\FarField\\pyro_subset_yolo\\labels\\val.cache... 100 images, 17 backgrounds, 0 corrupt: 100%|██████████| 100/100 [00:00<?, ?it/s]\n",
      "                 Class     Images  Instances      Box(P          R      mAP50  mAP50-95): 100%|██████████| 7/7 [00:06<00:00,  1.09it/s]\n"
     ]
    },
    {
     "name": "stdout",
     "output_type": "stream",
     "text": [
      "                   all        100         98      0.633      0.685      0.667       0.37\n",
      "Speed: 1.5ms preprocess, 4.6ms inference, 0.0ms loss, 1.7ms postprocess per image\n",
      "Results saved to \u001b[1mruns\\detect\\val2\u001b[0m\n",
      "\n",
      "🔍 Test Data Evaluation Metrics:\n",
      "Precision:      0.6327\n",
      "Recall:         0.6855\n",
      "mAP@0.5:        0.6674\n",
      "mAP@0.5:0.95:   0.3701\n"
     ]
    }
   ],
   "source": [
    "val_metrics = model.val(data=\"farfield.yaml\", imgsz=640)\n",
    "\n",
    "# Print or log test metrics\n",
    "print(\"\\n🔍 Test Data Evaluation Metrics:\")\n",
    "print(f\"Precision:      {val_metrics.box.p.mean():.4f}\")\n",
    "print(f\"Recall:         {val_metrics.box.r.mean():.4f}\")\n",
    "print(f\"mAP@0.5:        {val_metrics.box.map50.mean():.4f}\")\n",
    "print(f\"mAP@0.5:0.95:   {val_metrics.box.map.mean():.4f}\")"
   ]
  }
 ],
 "metadata": {
  "kernelspec": {
   "display_name": "Python 3",
   "language": "python",
   "name": "python3"
  },
  "language_info": {
   "codemirror_mode": {
    "name": "ipython",
    "version": 3
   },
   "file_extension": ".py",
   "mimetype": "text/x-python",
   "name": "python",
   "nbconvert_exporter": "python",
   "pygments_lexer": "ipython3",
   "version": "3.11.6"
  }
 },
 "nbformat": 4,
 "nbformat_minor": 5
}
