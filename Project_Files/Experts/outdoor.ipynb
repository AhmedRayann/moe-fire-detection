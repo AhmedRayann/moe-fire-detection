{
 "cells": [
  {
   "cell_type": "markdown",
   "id": "443788df",
   "metadata": {},
   "source": [
    "#  Training YOLO on Fire Detection for outdoor Scenario\n",
    "\n",
    "## Overview\n",
    "In this notebook, we train a **YOLOv8** model on a custom dataset designed for detecting **fire scenarios** in **outdoor images**. This dataset represents one of the specific scenarios for our **Mixture of Experts (MoE)** model, where each expert specializes in a different scenario (e.g., fire detection in outdoor, indoor, satellite, or far-field environments).\n",
    "\n",
    "### Key Steps:\n",
    "- **Dataset**: The model is trained using a **outdoor fire detection dataset**, which consists of images with fire-related features captured in street view or general pictures in the outdoor.\n",
    "- **YOLOv8 Training**: The YOLOv8 model is fine-tuned on this dataset, learning to identify fire-related objects.\n",
    "- **Scenario Expert**: This trained model acts as an expert specifically for detecting fire in outdoor images and is part of a broader MoE-based approach for multi-scenario detection.\n",
    "\n"
   ]
  },
  {
   "cell_type": "markdown",
   "id": "9e27e513",
   "metadata": {},
   "source": [
    "##  Data Loading & Preprocessing\n"
   ]
  },
  {
   "cell_type": "code",
   "execution_count": 1,
   "id": "794085a8",
   "metadata": {},
   "outputs": [
    {
     "name": "stdout",
     "output_type": "stream",
     "text": [
      "Moved 300 images and their labels to the validation set.\n"
     ]
    }
   ],
   "source": [
    "import os\n",
    "import random\n",
    "import shutil\n",
    "\n",
    "# Set paths\n",
    "test_images_dir = 'test/images'\n",
    "test_labels_dir = 'test/labels'\n",
    "val_images_dir = 'valid/images'\n",
    "val_labels_dir = 'valid/labels'\n",
    "\n",
    "# Create destination directories if they don't exist\n",
    "os.makedirs(val_images_dir, exist_ok=True)\n",
    "os.makedirs(val_labels_dir, exist_ok=True)\n",
    "\n",
    "# Set random seed for reproducibility\n",
    "random.seed(42)\n",
    "\n",
    "# List of test image filenames\n",
    "test_images = [f for f in os.listdir(test_images_dir) if f.endswith('.jpg') or f.endswith('.png')]\n",
    "\n",
    "# Randomly select 300 for validation\n",
    "val_images = random.sample(test_images, 300)\n",
    "\n",
    "# Move selected images and their labels to `valid/`\n",
    "for img_file in val_images:\n",
    "    # Corresponding label file (YOLO format: same name with .txt extension)\n",
    "    label_file = os.path.splitext(img_file)[0] + '.txt'\n",
    "    \n",
    "    # Move image\n",
    "    shutil.move(os.path.join(test_images_dir, img_file), os.path.join(val_images_dir, img_file))\n",
    "    \n",
    "    # Move label (only if it exists)\n",
    "    label_path = os.path.join(test_labels_dir, label_file)\n",
    "    if os.path.exists(label_path):\n",
    "        shutil.move(label_path, os.path.join(val_labels_dir, label_file))\n",
    "\n",
    "print(f\"Moved {len(val_images)} images and their labels to the validation set.\")\n"
   ]
  },
  {
   "cell_type": "markdown",
   "id": "a0cea787",
   "metadata": {},
   "source": [
    "##  Training YOLOv8 on Outdoor Fire Detection\n",
    "\n",
    "We utilize the **YOLOv8** object detection model to train on a custom dataset defined in `outdoor.yaml`. The configuration for training is as follows:\n",
    "\n",
    "- 🧠 **Model**: `yolov8n.pt` (Nano variant — optimized for speed and prototyping)\n",
    "- 📁 **Dataset**: Defined in `outdoor.yaml`\n",
    "- 🖼️ **Image Size**: 640×640\n",
    "- 🔁 **Epochs**: 100\n",
    "- 📦 **Batch Size**: 16\n",
    "- 💻 **Device**: GPU (device 0)\n",
    "\n",
    "\n"
   ]
  },
  {
   "cell_type": "code",
   "execution_count": 2,
   "id": "392803ea",
   "metadata": {},
   "outputs": [
    {
     "name": "stdout",
     "output_type": "stream",
     "text": [
      "GPU available: True\n",
      "Current device: NVIDIA GeForce RTX 3070\n"
     ]
    }
   ],
   "source": [
    "import torch\n",
    "print(\"GPU available:\", torch.cuda.is_available())\n",
    "print(\"Current device:\", torch.cuda.get_device_name(0))"
   ]
  },
  {
   "cell_type": "code",
   "execution_count": 4,
   "id": "562034c4",
   "metadata": {},
   "outputs": [
    {
     "name": "stdout",
     "output_type": "stream",
     "text": [
      "Ultralytics 8.3.107  Python-3.11.6 torch-2.5.1+cu121 CUDA:0 (NVIDIA GeForce RTX 3070, 8192MiB)\n",
      "\u001b[34m\u001b[1mengine\\trainer: \u001b[0mtask=detect, mode=train, model=yolov8n.pt, data=outdoor.yaml, epochs=100, time=None, patience=100, batch=16, imgsz=640, save=True, save_period=-1, cache=False, device=0, workers=8, project=None, name=train, exist_ok=False, pretrained=True, optimizer=auto, verbose=True, seed=0, deterministic=True, single_cls=False, rect=False, cos_lr=False, close_mosaic=10, resume=False, amp=True, fraction=1.0, profile=False, freeze=None, multi_scale=False, overlap_mask=True, mask_ratio=4, dropout=0.0, val=True, split=val, save_json=False, conf=None, iou=0.7, max_det=300, half=False, dnn=False, plots=True, source=None, vid_stride=1, stream_buffer=False, visualize=False, augment=False, agnostic_nms=False, classes=None, retina_masks=False, embed=None, show=False, save_frames=False, save_txt=False, save_conf=False, save_crop=False, show_labels=True, show_conf=True, show_boxes=True, line_width=None, format=torchscript, keras=False, optimize=False, int8=False, dynamic=False, simplify=True, opset=None, workspace=None, nms=False, lr0=0.01, lrf=0.01, momentum=0.937, weight_decay=0.0005, warmup_epochs=3.0, warmup_momentum=0.8, warmup_bias_lr=0.1, box=7.5, cls=0.5, dfl=1.5, pose=12.0, kobj=1.0, nbs=64, hsv_h=0.015, hsv_s=0.7, hsv_v=0.4, degrees=0.0, translate=0.1, scale=0.5, shear=0.0, perspective=0.0, flipud=0.0, fliplr=0.5, bgr=0.0, mosaic=1.0, mixup=0.0, copy_paste=0.0, copy_paste_mode=flip, auto_augment=randaugment, erasing=0.4, crop_fraction=1.0, cfg=None, tracker=botsort.yaml, save_dir=runs\\detect\\train\n",
      "Overriding model.yaml nc=80 with nc=1\n",
      "\n",
      "                   from  n    params  module                                       arguments                     \n",
      "  0                  -1  1       464  ultralytics.nn.modules.conv.Conv             [3, 16, 3, 2]                 \n",
      "  1                  -1  1      4672  ultralytics.nn.modules.conv.Conv             [16, 32, 3, 2]                \n",
      "  2                  -1  1      7360  ultralytics.nn.modules.block.C2f             [32, 32, 1, True]             \n",
      "  3                  -1  1     18560  ultralytics.nn.modules.conv.Conv             [32, 64, 3, 2]                \n",
      "  4                  -1  2     49664  ultralytics.nn.modules.block.C2f             [64, 64, 2, True]             \n",
      "  5                  -1  1     73984  ultralytics.nn.modules.conv.Conv             [64, 128, 3, 2]               \n",
      "  6                  -1  2    197632  ultralytics.nn.modules.block.C2f             [128, 128, 2, True]           \n",
      "  7                  -1  1    295424  ultralytics.nn.modules.conv.Conv             [128, 256, 3, 2]              \n",
      "  8                  -1  1    460288  ultralytics.nn.modules.block.C2f             [256, 256, 1, True]           \n",
      "  9                  -1  1    164608  ultralytics.nn.modules.block.SPPF            [256, 256, 5]                 \n",
      " 10                  -1  1         0  torch.nn.modules.upsampling.Upsample         [None, 2, 'nearest']          \n",
      " 11             [-1, 6]  1         0  ultralytics.nn.modules.conv.Concat           [1]                           \n",
      " 12                  -1  1    148224  ultralytics.nn.modules.block.C2f             [384, 128, 1]                 \n",
      " 13                  -1  1         0  torch.nn.modules.upsampling.Upsample         [None, 2, 'nearest']          \n",
      " 14             [-1, 4]  1         0  ultralytics.nn.modules.conv.Concat           [1]                           \n",
      " 15                  -1  1     37248  ultralytics.nn.modules.block.C2f             [192, 64, 1]                  \n",
      " 16                  -1  1     36992  ultralytics.nn.modules.conv.Conv             [64, 64, 3, 2]                \n",
      " 17            [-1, 12]  1         0  ultralytics.nn.modules.conv.Concat           [1]                           \n",
      " 18                  -1  1    123648  ultralytics.nn.modules.block.C2f             [192, 128, 1]                 \n",
      " 19                  -1  1    147712  ultralytics.nn.modules.conv.Conv             [128, 128, 3, 2]              \n",
      " 20             [-1, 9]  1         0  ultralytics.nn.modules.conv.Concat           [1]                           \n",
      " 21                  -1  1    493056  ultralytics.nn.modules.block.C2f             [384, 256, 1]                 \n",
      " 22        [15, 18, 21]  1    751507  ultralytics.nn.modules.head.Detect           [1, [64, 128, 256]]           \n",
      "Model summary: 129 layers, 3,011,043 parameters, 3,011,027 gradients, 8.2 GFLOPs\n",
      "\n",
      "Transferred 319/355 items from pretrained weights\n",
      "\u001b[34m\u001b[1mTensorBoard: \u001b[0mStart with 'tensorboard --logdir runs\\detect\\train', view at http://localhost:6006/\n",
      "Freezing layer 'model.22.dfl.conv.weight'\n",
      "\u001b[34m\u001b[1mAMP: \u001b[0mrunning Automatic Mixed Precision (AMP) checks...\n",
      "Downloading https://github.com/ultralytics/assets/releases/download/v8.3.0/yolo11n.pt to 'yolo11n.pt'...\n"
     ]
    },
    {
     "name": "stderr",
     "output_type": "stream",
     "text": [
      "100%|██████████| 5.35M/5.35M [00:01<00:00, 2.86MB/s]\n"
     ]
    },
    {
     "name": "stdout",
     "output_type": "stream",
     "text": [
      "\u001b[34m\u001b[1mAMP: \u001b[0mchecks passed \n"
     ]
    },
    {
     "name": "stderr",
     "output_type": "stream",
     "text": [
      "\u001b[34m\u001b[1mtrain: \u001b[0mScanning C:\\Users\\pc\\Desktop\\DL\\Project\\Outdoor\\train\\labels... 2621 images, 0 backgrounds, 0 corrupt: 100%|██████████| 2621/2621 [00:02<00:00, 885.37it/s]\n"
     ]
    },
    {
     "name": "stdout",
     "output_type": "stream",
     "text": [
      "\u001b[34m\u001b[1mtrain: \u001b[0mNew cache created: C:\\Users\\pc\\Desktop\\DL\\Project\\Outdoor\\train\\labels.cache\n"
     ]
    },
    {
     "name": "stderr",
     "output_type": "stream",
     "text": [
      "\u001b[34m\u001b[1mval: \u001b[0mScanning C:\\Users\\pc\\Desktop\\DL\\Project\\Outdoor\\valid\\labels... 300 images, 0 backgrounds, 0 corrupt: 100%|██████████| 300/300 [00:00<00:00, 481.92it/s]"
     ]
    },
    {
     "name": "stdout",
     "output_type": "stream",
     "text": [
      "\u001b[34m\u001b[1mval: \u001b[0mNew cache created: C:\\Users\\pc\\Desktop\\DL\\Project\\Outdoor\\valid\\labels.cache\n"
     ]
    },
    {
     "name": "stderr",
     "output_type": "stream",
     "text": [
      "\n"
     ]
    },
    {
     "name": "stdout",
     "output_type": "stream",
     "text": [
      "Plotting labels to runs\\detect\\train\\labels.jpg... \n",
      "\u001b[34m\u001b[1moptimizer:\u001b[0m 'optimizer=auto' found, ignoring 'lr0=0.01' and 'momentum=0.937' and determining best 'optimizer', 'lr0' and 'momentum' automatically... \n",
      "\u001b[34m\u001b[1moptimizer:\u001b[0m AdamW(lr=0.002, momentum=0.9) with parameter groups 57 weight(decay=0.0), 64 weight(decay=0.0005), 63 bias(decay=0.0)\n",
      "\u001b[34m\u001b[1mTensorBoard: \u001b[0mmodel graph visualization added \n",
      "Image sizes 640 train, 640 val\n",
      "Using 8 dataloader workers\n",
      "Logging results to \u001b[1mruns\\detect\\train\u001b[0m\n",
      "Starting training for 100 epochs...\n",
      "\n",
      "      Epoch    GPU_mem   box_loss   cls_loss   dfl_loss  Instances       Size\n"
     ]
    },
    {
     "name": "stderr",
     "output_type": "stream",
     "text": [
      "      1/100      2.09G      1.848      2.507      1.521         49        640: 100%|██████████| 164/164 [00:20<00:00,  7.83it/s]\n",
      "                 Class     Images  Instances      Box(P          R      mAP50  mAP50-95): 100%|██████████| 10/10 [00:01<00:00,  6.69it/s]"
     ]
    },
    {
     "name": "stdout",
     "output_type": "stream",
     "text": [
      "                   all        300        774      0.285      0.292       0.23     0.0851\n"
     ]
    },
    {
     "name": "stderr",
     "output_type": "stream",
     "text": [
      "\n"
     ]
    },
    {
     "name": "stdout",
     "output_type": "stream",
     "text": [
      "\n",
      "      Epoch    GPU_mem   box_loss   cls_loss   dfl_loss  Instances       Size\n"
     ]
    },
    {
     "name": "stderr",
     "output_type": "stream",
     "text": [
      "      2/100      2.39G      1.937      2.084      1.553         61        640: 100%|██████████| 164/164 [00:17<00:00,  9.43it/s]\n",
      "                 Class     Images  Instances      Box(P          R      mAP50  mAP50-95): 100%|██████████| 10/10 [00:01<00:00,  8.55it/s]"
     ]
    },
    {
     "name": "stdout",
     "output_type": "stream",
     "text": [
      "                   all        300        774      0.336      0.388      0.282      0.106\n"
     ]
    },
    {
     "name": "stderr",
     "output_type": "stream",
     "text": [
      "\n"
     ]
    },
    {
     "name": "stdout",
     "output_type": "stream",
     "text": [
      "\n",
      "      Epoch    GPU_mem   box_loss   cls_loss   dfl_loss  Instances       Size\n"
     ]
    },
    {
     "name": "stderr",
     "output_type": "stream",
     "text": [
      "      3/100      2.39G      1.926      1.948      1.574         70        640: 100%|██████████| 164/164 [00:17<00:00,  9.60it/s]\n",
      "                 Class     Images  Instances      Box(P          R      mAP50  mAP50-95): 100%|██████████| 10/10 [00:01<00:00,  8.41it/s]"
     ]
    },
    {
     "name": "stdout",
     "output_type": "stream",
     "text": [
      "                   all        300        774      0.246      0.297      0.189     0.0677\n"
     ]
    },
    {
     "name": "stderr",
     "output_type": "stream",
     "text": [
      "\n"
     ]
    },
    {
     "name": "stdout",
     "output_type": "stream",
     "text": [
      "\n",
      "      Epoch    GPU_mem   box_loss   cls_loss   dfl_loss  Instances       Size\n"
     ]
    },
    {
     "name": "stderr",
     "output_type": "stream",
     "text": [
      "      4/100      2.39G      1.918      1.913      1.572         67        640: 100%|██████████| 164/164 [00:17<00:00,  9.47it/s]\n",
      "                 Class     Images  Instances      Box(P          R      mAP50  mAP50-95): 100%|██████████| 10/10 [00:01<00:00,  8.89it/s]"
     ]
    },
    {
     "name": "stdout",
     "output_type": "stream",
     "text": [
      "                   all        300        774      0.343      0.387      0.269     0.0975\n"
     ]
    },
    {
     "name": "stderr",
     "output_type": "stream",
     "text": [
      "\n"
     ]
    },
    {
     "name": "stdout",
     "output_type": "stream",
     "text": [
      "\n",
      "      Epoch    GPU_mem   box_loss   cls_loss   dfl_loss  Instances       Size\n"
     ]
    },
    {
     "name": "stderr",
     "output_type": "stream",
     "text": [
      "      5/100      2.39G      1.876      1.842      1.528         53        640: 100%|██████████| 164/164 [00:17<00:00,  9.54it/s]\n",
      "                 Class     Images  Instances      Box(P          R      mAP50  mAP50-95): 100%|██████████| 10/10 [00:01<00:00,  8.32it/s]"
     ]
    },
    {
     "name": "stdout",
     "output_type": "stream",
     "text": [
      "                   all        300        774      0.414      0.426      0.374      0.157\n"
     ]
    },
    {
     "name": "stderr",
     "output_type": "stream",
     "text": [
      "\n"
     ]
    },
    {
     "name": "stdout",
     "output_type": "stream",
     "text": [
      "\n",
      "      Epoch    GPU_mem   box_loss   cls_loss   dfl_loss  Instances       Size\n"
     ]
    },
    {
     "name": "stderr",
     "output_type": "stream",
     "text": [
      "      6/100      2.39G      1.859      1.785      1.499         41        640: 100%|██████████| 164/164 [00:17<00:00,  9.61it/s]\n",
      "                 Class     Images  Instances      Box(P          R      mAP50  mAP50-95): 100%|██████████| 10/10 [00:01<00:00,  8.93it/s]"
     ]
    },
    {
     "name": "stdout",
     "output_type": "stream",
     "text": [
      "                   all        300        774      0.476      0.427      0.404      0.177\n"
     ]
    },
    {
     "name": "stderr",
     "output_type": "stream",
     "text": [
      "\n"
     ]
    },
    {
     "name": "stdout",
     "output_type": "stream",
     "text": [
      "\n",
      "      Epoch    GPU_mem   box_loss   cls_loss   dfl_loss  Instances       Size\n"
     ]
    },
    {
     "name": "stderr",
     "output_type": "stream",
     "text": [
      "      7/100      2.39G      1.823      1.762      1.508         60        640: 100%|██████████| 164/164 [00:17<00:00,  9.60it/s]\n",
      "                 Class     Images  Instances      Box(P          R      mAP50  mAP50-95): 100%|██████████| 10/10 [00:01<00:00,  8.47it/s]"
     ]
    },
    {
     "name": "stdout",
     "output_type": "stream",
     "text": [
      "                   all        300        774      0.385      0.447      0.353      0.136\n"
     ]
    },
    {
     "name": "stderr",
     "output_type": "stream",
     "text": [
      "\n"
     ]
    },
    {
     "name": "stdout",
     "output_type": "stream",
     "text": [
      "\n",
      "      Epoch    GPU_mem   box_loss   cls_loss   dfl_loss  Instances       Size\n"
     ]
    },
    {
     "name": "stderr",
     "output_type": "stream",
     "text": [
      "      8/100      2.39G      1.811      1.734      1.491         65        640: 100%|██████████| 164/164 [00:17<00:00,  9.61it/s]\n",
      "                 Class     Images  Instances      Box(P          R      mAP50  mAP50-95): 100%|██████████| 10/10 [00:01<00:00,  8.68it/s]"
     ]
    },
    {
     "name": "stdout",
     "output_type": "stream",
     "text": [
      "                   all        300        774      0.442      0.475      0.402       0.16\n"
     ]
    },
    {
     "name": "stderr",
     "output_type": "stream",
     "text": [
      "\n"
     ]
    },
    {
     "name": "stdout",
     "output_type": "stream",
     "text": [
      "\n",
      "      Epoch    GPU_mem   box_loss   cls_loss   dfl_loss  Instances       Size\n"
     ]
    },
    {
     "name": "stderr",
     "output_type": "stream",
     "text": [
      "      9/100      2.39G      1.785      1.692      1.473         69        640: 100%|██████████| 164/164 [00:16<00:00,  9.76it/s]\n",
      "                 Class     Images  Instances      Box(P          R      mAP50  mAP50-95): 100%|██████████| 10/10 [00:01<00:00,  8.68it/s]"
     ]
    },
    {
     "name": "stdout",
     "output_type": "stream",
     "text": [
      "                   all        300        774      0.473      0.456      0.425      0.175\n"
     ]
    },
    {
     "name": "stderr",
     "output_type": "stream",
     "text": [
      "\n"
     ]
    },
    {
     "name": "stdout",
     "output_type": "stream",
     "text": [
      "\n",
      "      Epoch    GPU_mem   box_loss   cls_loss   dfl_loss  Instances       Size\n"
     ]
    },
    {
     "name": "stderr",
     "output_type": "stream",
     "text": [
      "     10/100      2.39G      1.778      1.666      1.461         48        640: 100%|██████████| 164/164 [00:17<00:00,  9.47it/s]\n",
      "                 Class     Images  Instances      Box(P          R      mAP50  mAP50-95): 100%|██████████| 10/10 [00:01<00:00,  8.89it/s]"
     ]
    },
    {
     "name": "stdout",
     "output_type": "stream",
     "text": [
      "                   all        300        774      0.469      0.461      0.416      0.168\n"
     ]
    },
    {
     "name": "stderr",
     "output_type": "stream",
     "text": [
      "\n"
     ]
    },
    {
     "name": "stdout",
     "output_type": "stream",
     "text": [
      "\n",
      "      Epoch    GPU_mem   box_loss   cls_loss   dfl_loss  Instances       Size\n"
     ]
    },
    {
     "name": "stderr",
     "output_type": "stream",
     "text": [
      "     11/100      2.39G      1.775       1.67      1.465         66        640: 100%|██████████| 164/164 [00:17<00:00,  9.42it/s]\n",
      "                 Class     Images  Instances      Box(P          R      mAP50  mAP50-95): 100%|██████████| 10/10 [00:01<00:00,  8.96it/s]\n"
     ]
    },
    {
     "name": "stdout",
     "output_type": "stream",
     "text": [
      "                   all        300        774      0.471      0.478      0.448      0.199\n",
      "\n",
      "      Epoch    GPU_mem   box_loss   cls_loss   dfl_loss  Instances       Size\n"
     ]
    },
    {
     "name": "stderr",
     "output_type": "stream",
     "text": [
      "     12/100      2.39G      1.754      1.632      1.448         81        640: 100%|██████████| 164/164 [00:16<00:00,  9.69it/s]\n",
      "                 Class     Images  Instances      Box(P          R      mAP50  mAP50-95): 100%|██████████| 10/10 [00:01<00:00,  8.50it/s]"
     ]
    },
    {
     "name": "stdout",
     "output_type": "stream",
     "text": [
      "                   all        300        774       0.51      0.514      0.483      0.203\n"
     ]
    },
    {
     "name": "stderr",
     "output_type": "stream",
     "text": [
      "\n"
     ]
    },
    {
     "name": "stdout",
     "output_type": "stream",
     "text": [
      "\n",
      "      Epoch    GPU_mem   box_loss   cls_loss   dfl_loss  Instances       Size\n"
     ]
    },
    {
     "name": "stderr",
     "output_type": "stream",
     "text": [
      "     13/100      2.39G      1.749      1.609      1.451         60        640: 100%|██████████| 164/164 [00:17<00:00,  9.43it/s]\n",
      "                 Class     Images  Instances      Box(P          R      mAP50  mAP50-95): 100%|██████████| 10/10 [00:01<00:00,  8.53it/s]"
     ]
    },
    {
     "name": "stdout",
     "output_type": "stream",
     "text": [
      "                   all        300        774      0.515      0.474      0.467      0.205\n"
     ]
    },
    {
     "name": "stderr",
     "output_type": "stream",
     "text": [
      "\n"
     ]
    },
    {
     "name": "stdout",
     "output_type": "stream",
     "text": [
      "\n",
      "      Epoch    GPU_mem   box_loss   cls_loss   dfl_loss  Instances       Size\n"
     ]
    },
    {
     "name": "stderr",
     "output_type": "stream",
     "text": [
      "     14/100      2.39G      1.728      1.601      1.438         56        640: 100%|██████████| 164/164 [00:16<00:00,  9.66it/s]\n",
      "                 Class     Images  Instances      Box(P          R      mAP50  mAP50-95): 100%|██████████| 10/10 [00:01<00:00,  8.46it/s]"
     ]
    },
    {
     "name": "stdout",
     "output_type": "stream",
     "text": [
      "                   all        300        774      0.517      0.539      0.513      0.237\n"
     ]
    },
    {
     "name": "stderr",
     "output_type": "stream",
     "text": [
      "\n"
     ]
    },
    {
     "name": "stdout",
     "output_type": "stream",
     "text": [
      "\n",
      "      Epoch    GPU_mem   box_loss   cls_loss   dfl_loss  Instances       Size\n"
     ]
    },
    {
     "name": "stderr",
     "output_type": "stream",
     "text": [
      "     15/100      2.39G      1.714      1.536      1.417         63        640: 100%|██████████| 164/164 [00:16<00:00,  9.74it/s]\n",
      "                 Class     Images  Instances      Box(P          R      mAP50  mAP50-95): 100%|██████████| 10/10 [00:01<00:00,  8.73it/s]"
     ]
    },
    {
     "name": "stdout",
     "output_type": "stream",
     "text": [
      "                   all        300        774      0.511      0.552      0.514      0.231\n"
     ]
    },
    {
     "name": "stderr",
     "output_type": "stream",
     "text": [
      "\n"
     ]
    },
    {
     "name": "stdout",
     "output_type": "stream",
     "text": [
      "\n",
      "      Epoch    GPU_mem   box_loss   cls_loss   dfl_loss  Instances       Size\n"
     ]
    },
    {
     "name": "stderr",
     "output_type": "stream",
     "text": [
      "     16/100      2.39G      1.731       1.58      1.428         71        640: 100%|██████████| 164/164 [00:17<00:00,  9.32it/s]\n",
      "                 Class     Images  Instances      Box(P          R      mAP50  mAP50-95): 100%|██████████| 10/10 [00:01<00:00,  8.86it/s]"
     ]
    },
    {
     "name": "stdout",
     "output_type": "stream",
     "text": [
      "                   all        300        774       0.52      0.544      0.505      0.227\n"
     ]
    },
    {
     "name": "stderr",
     "output_type": "stream",
     "text": [
      "\n"
     ]
    },
    {
     "name": "stdout",
     "output_type": "stream",
     "text": [
      "\n",
      "      Epoch    GPU_mem   box_loss   cls_loss   dfl_loss  Instances       Size\n"
     ]
    },
    {
     "name": "stderr",
     "output_type": "stream",
     "text": [
      "     17/100      2.39G      1.688      1.554      1.398         64        640: 100%|██████████| 164/164 [00:16<00:00,  9.68it/s]\n",
      "                 Class     Images  Instances      Box(P          R      mAP50  mAP50-95): 100%|██████████| 10/10 [00:01<00:00,  8.86it/s]\n"
     ]
    },
    {
     "name": "stdout",
     "output_type": "stream",
     "text": [
      "                   all        300        774      0.572      0.508      0.521       0.24\n",
      "\n",
      "      Epoch    GPU_mem   box_loss   cls_loss   dfl_loss  Instances       Size\n"
     ]
    },
    {
     "name": "stderr",
     "output_type": "stream",
     "text": [
      "     18/100      2.39G      1.677      1.527      1.416         72        640: 100%|██████████| 164/164 [00:16<00:00,  9.67it/s]\n",
      "                 Class     Images  Instances      Box(P          R      mAP50  mAP50-95): 100%|██████████| 10/10 [00:01<00:00,  8.53it/s]"
     ]
    },
    {
     "name": "stdout",
     "output_type": "stream",
     "text": [
      "                   all        300        774      0.584      0.482      0.513      0.236\n"
     ]
    },
    {
     "name": "stderr",
     "output_type": "stream",
     "text": [
      "\n"
     ]
    },
    {
     "name": "stdout",
     "output_type": "stream",
     "text": [
      "\n",
      "      Epoch    GPU_mem   box_loss   cls_loss   dfl_loss  Instances       Size\n"
     ]
    },
    {
     "name": "stderr",
     "output_type": "stream",
     "text": [
      "     19/100      2.39G      1.673      1.518      1.391         49        640: 100%|██████████| 164/164 [00:17<00:00,  9.41it/s]\n",
      "                 Class     Images  Instances      Box(P          R      mAP50  mAP50-95): 100%|██████████| 10/10 [00:01<00:00,  9.22it/s]"
     ]
    },
    {
     "name": "stdout",
     "output_type": "stream",
     "text": [
      "                   all        300        774      0.566      0.516      0.535       0.25\n"
     ]
    },
    {
     "name": "stderr",
     "output_type": "stream",
     "text": [
      "\n"
     ]
    },
    {
     "name": "stdout",
     "output_type": "stream",
     "text": [
      "\n",
      "      Epoch    GPU_mem   box_loss   cls_loss   dfl_loss  Instances       Size\n"
     ]
    },
    {
     "name": "stderr",
     "output_type": "stream",
     "text": [
      "     20/100      2.39G      1.646      1.467      1.372         57        640: 100%|██████████| 164/164 [00:16<00:00,  9.74it/s]\n",
      "                 Class     Images  Instances      Box(P          R      mAP50  mAP50-95): 100%|██████████| 10/10 [00:01<00:00,  8.66it/s]"
     ]
    },
    {
     "name": "stdout",
     "output_type": "stream",
     "text": [
      "                   all        300        774      0.587      0.504      0.532      0.243\n"
     ]
    },
    {
     "name": "stderr",
     "output_type": "stream",
     "text": [
      "\n"
     ]
    },
    {
     "name": "stdout",
     "output_type": "stream",
     "text": [
      "\n",
      "      Epoch    GPU_mem   box_loss   cls_loss   dfl_loss  Instances       Size\n"
     ]
    },
    {
     "name": "stderr",
     "output_type": "stream",
     "text": [
      "     21/100      2.39G      1.662      1.475      1.387         71        640: 100%|██████████| 164/164 [00:16<00:00,  9.73it/s]\n",
      "                 Class     Images  Instances      Box(P          R      mAP50  mAP50-95): 100%|██████████| 10/10 [00:01<00:00,  8.65it/s]"
     ]
    },
    {
     "name": "stdout",
     "output_type": "stream",
     "text": [
      "                   all        300        774      0.632      0.532      0.572      0.267\n"
     ]
    },
    {
     "name": "stderr",
     "output_type": "stream",
     "text": [
      "\n"
     ]
    },
    {
     "name": "stdout",
     "output_type": "stream",
     "text": [
      "\n",
      "      Epoch    GPU_mem   box_loss   cls_loss   dfl_loss  Instances       Size\n"
     ]
    },
    {
     "name": "stderr",
     "output_type": "stream",
     "text": [
      "     22/100      2.39G      1.658      1.477      1.388         53        640: 100%|██████████| 164/164 [00:16<00:00,  9.70it/s]\n",
      "                 Class     Images  Instances      Box(P          R      mAP50  mAP50-95): 100%|██████████| 10/10 [00:01<00:00,  8.98it/s]\n"
     ]
    },
    {
     "name": "stdout",
     "output_type": "stream",
     "text": [
      "                   all        300        774      0.525      0.549      0.521      0.251\n",
      "\n",
      "      Epoch    GPU_mem   box_loss   cls_loss   dfl_loss  Instances       Size\n"
     ]
    },
    {
     "name": "stderr",
     "output_type": "stream",
     "text": [
      "     23/100      2.39G      1.634      1.446      1.373         81        640: 100%|██████████| 164/164 [00:16<00:00,  9.70it/s]\n",
      "                 Class     Images  Instances      Box(P          R      mAP50  mAP50-95): 100%|██████████| 10/10 [00:01<00:00,  8.70it/s]"
     ]
    },
    {
     "name": "stdout",
     "output_type": "stream",
     "text": [
      "                   all        300        774      0.555       0.55      0.546       0.25\n"
     ]
    },
    {
     "name": "stderr",
     "output_type": "stream",
     "text": [
      "\n"
     ]
    },
    {
     "name": "stdout",
     "output_type": "stream",
     "text": [
      "\n",
      "      Epoch    GPU_mem   box_loss   cls_loss   dfl_loss  Instances       Size\n"
     ]
    },
    {
     "name": "stderr",
     "output_type": "stream",
     "text": [
      "     24/100      2.39G      1.627       1.42      1.364         51        640: 100%|██████████| 164/164 [00:16<00:00,  9.79it/s]\n",
      "                 Class     Images  Instances      Box(P          R      mAP50  mAP50-95): 100%|██████████| 10/10 [00:01<00:00,  8.73it/s]"
     ]
    },
    {
     "name": "stdout",
     "output_type": "stream",
     "text": [
      "                   all        300        774      0.567      0.527      0.548      0.258\n"
     ]
    },
    {
     "name": "stderr",
     "output_type": "stream",
     "text": [
      "\n"
     ]
    },
    {
     "name": "stdout",
     "output_type": "stream",
     "text": [
      "\n",
      "      Epoch    GPU_mem   box_loss   cls_loss   dfl_loss  Instances       Size\n"
     ]
    },
    {
     "name": "stderr",
     "output_type": "stream",
     "text": [
      "     25/100      2.39G      1.632      1.432      1.378         62        640: 100%|██████████| 164/164 [00:17<00:00,  9.38it/s]\n",
      "                 Class     Images  Instances      Box(P          R      mAP50  mAP50-95): 100%|██████████| 10/10 [00:01<00:00,  8.62it/s]\n"
     ]
    },
    {
     "name": "stdout",
     "output_type": "stream",
     "text": [
      "                   all        300        774      0.556      0.526      0.522      0.251\n",
      "\n",
      "      Epoch    GPU_mem   box_loss   cls_loss   dfl_loss  Instances       Size\n"
     ]
    },
    {
     "name": "stderr",
     "output_type": "stream",
     "text": [
      "     26/100      2.39G        1.6      1.406      1.358         54        640: 100%|██████████| 164/164 [00:16<00:00,  9.67it/s]\n",
      "                 Class     Images  Instances      Box(P          R      mAP50  mAP50-95): 100%|██████████| 10/10 [00:01<00:00,  8.76it/s]\n"
     ]
    },
    {
     "name": "stdout",
     "output_type": "stream",
     "text": [
      "                   all        300        774        0.6      0.528      0.545      0.256\n",
      "\n",
      "      Epoch    GPU_mem   box_loss   cls_loss   dfl_loss  Instances       Size\n"
     ]
    },
    {
     "name": "stderr",
     "output_type": "stream",
     "text": [
      "     27/100      2.39G      1.606      1.381      1.356         62        640: 100%|██████████| 164/164 [00:16<00:00,  9.73it/s]\n",
      "                 Class     Images  Instances      Box(P          R      mAP50  mAP50-95): 100%|██████████| 10/10 [00:01<00:00,  9.00it/s]"
     ]
    },
    {
     "name": "stdout",
     "output_type": "stream",
     "text": [
      "                   all        300        774        0.6      0.518      0.544      0.251\n"
     ]
    },
    {
     "name": "stderr",
     "output_type": "stream",
     "text": [
      "\n"
     ]
    },
    {
     "name": "stdout",
     "output_type": "stream",
     "text": [
      "\n",
      "      Epoch    GPU_mem   box_loss   cls_loss   dfl_loss  Instances       Size\n"
     ]
    },
    {
     "name": "stderr",
     "output_type": "stream",
     "text": [
      "     28/100      2.39G      1.609      1.388      1.347         70        640: 100%|██████████| 164/164 [00:17<00:00,  9.37it/s]\n",
      "                 Class     Images  Instances      Box(P          R      mAP50  mAP50-95): 100%|██████████| 10/10 [00:01<00:00,  9.11it/s]\n"
     ]
    },
    {
     "name": "stdout",
     "output_type": "stream",
     "text": [
      "                   all        300        774      0.596      0.558      0.567      0.268\n",
      "\n",
      "      Epoch    GPU_mem   box_loss   cls_loss   dfl_loss  Instances       Size\n"
     ]
    },
    {
     "name": "stderr",
     "output_type": "stream",
     "text": [
      "     29/100      2.39G      1.568      1.343      1.331         38        640: 100%|██████████| 164/164 [00:16<00:00,  9.74it/s]\n",
      "                 Class     Images  Instances      Box(P          R      mAP50  mAP50-95): 100%|██████████| 10/10 [00:01<00:00,  8.86it/s]"
     ]
    },
    {
     "name": "stdout",
     "output_type": "stream",
     "text": [
      "                   all        300        774      0.612      0.555      0.604       0.28\n"
     ]
    },
    {
     "name": "stderr",
     "output_type": "stream",
     "text": [
      "\n"
     ]
    },
    {
     "name": "stdout",
     "output_type": "stream",
     "text": [
      "\n",
      "      Epoch    GPU_mem   box_loss   cls_loss   dfl_loss  Instances       Size\n"
     ]
    },
    {
     "name": "stderr",
     "output_type": "stream",
     "text": [
      "     30/100      2.39G       1.59      1.363      1.347         48        640: 100%|██████████| 164/164 [00:17<00:00,  9.40it/s]\n",
      "                 Class     Images  Instances      Box(P          R      mAP50  mAP50-95): 100%|██████████| 10/10 [00:01<00:00,  9.07it/s]"
     ]
    },
    {
     "name": "stdout",
     "output_type": "stream",
     "text": [
      "                   all        300        774      0.604      0.568      0.576      0.279\n"
     ]
    },
    {
     "name": "stderr",
     "output_type": "stream",
     "text": [
      "\n"
     ]
    },
    {
     "name": "stdout",
     "output_type": "stream",
     "text": [
      "\n",
      "      Epoch    GPU_mem   box_loss   cls_loss   dfl_loss  Instances       Size\n"
     ]
    },
    {
     "name": "stderr",
     "output_type": "stream",
     "text": [
      "     31/100      2.39G      1.591      1.349      1.361         95        640: 100%|██████████| 164/164 [00:16<00:00,  9.65it/s]\n",
      "                 Class     Images  Instances      Box(P          R      mAP50  mAP50-95): 100%|██████████| 10/10 [00:01<00:00,  8.62it/s]"
     ]
    },
    {
     "name": "stdout",
     "output_type": "stream",
     "text": [
      "                   all        300        774      0.653      0.571      0.606      0.291\n"
     ]
    },
    {
     "name": "stderr",
     "output_type": "stream",
     "text": [
      "\n"
     ]
    },
    {
     "name": "stdout",
     "output_type": "stream",
     "text": [
      "\n",
      "      Epoch    GPU_mem   box_loss   cls_loss   dfl_loss  Instances       Size\n"
     ]
    },
    {
     "name": "stderr",
     "output_type": "stream",
     "text": [
      "     32/100      2.39G      1.563       1.33      1.334         77        640: 100%|██████████| 164/164 [00:17<00:00,  9.28it/s]\n",
      "                 Class     Images  Instances      Box(P          R      mAP50  mAP50-95): 100%|██████████| 10/10 [00:01<00:00,  8.96it/s]"
     ]
    },
    {
     "name": "stdout",
     "output_type": "stream",
     "text": [
      "                   all        300        774      0.623      0.587      0.611      0.306\n"
     ]
    },
    {
     "name": "stderr",
     "output_type": "stream",
     "text": [
      "\n"
     ]
    },
    {
     "name": "stdout",
     "output_type": "stream",
     "text": [
      "\n",
      "      Epoch    GPU_mem   box_loss   cls_loss   dfl_loss  Instances       Size\n"
     ]
    },
    {
     "name": "stderr",
     "output_type": "stream",
     "text": [
      "     33/100      2.39G      1.558      1.319      1.326         48        640: 100%|██████████| 164/164 [00:17<00:00,  9.64it/s]\n",
      "                 Class     Images  Instances      Box(P          R      mAP50  mAP50-95): 100%|██████████| 10/10 [00:01<00:00,  8.80it/s]"
     ]
    },
    {
     "name": "stdout",
     "output_type": "stream",
     "text": [
      "                   all        300        774      0.638      0.548      0.608       0.29\n"
     ]
    },
    {
     "name": "stderr",
     "output_type": "stream",
     "text": [
      "\n"
     ]
    },
    {
     "name": "stdout",
     "output_type": "stream",
     "text": [
      "\n",
      "      Epoch    GPU_mem   box_loss   cls_loss   dfl_loss  Instances       Size\n"
     ]
    },
    {
     "name": "stderr",
     "output_type": "stream",
     "text": [
      "     34/100      2.39G      1.568      1.324      1.326         61        640: 100%|██████████| 164/164 [00:17<00:00,  9.45it/s]\n",
      "                 Class     Images  Instances      Box(P          R      mAP50  mAP50-95): 100%|██████████| 10/10 [00:01<00:00,  8.89it/s]"
     ]
    },
    {
     "name": "stdout",
     "output_type": "stream",
     "text": [
      "                   all        300        774      0.618      0.579        0.6        0.3\n"
     ]
    },
    {
     "name": "stderr",
     "output_type": "stream",
     "text": [
      "\n"
     ]
    },
    {
     "name": "stdout",
     "output_type": "stream",
     "text": [
      "\n",
      "      Epoch    GPU_mem   box_loss   cls_loss   dfl_loss  Instances       Size\n"
     ]
    },
    {
     "name": "stderr",
     "output_type": "stream",
     "text": [
      "     35/100      2.39G      1.544      1.288      1.316         53        640: 100%|██████████| 164/164 [00:16<00:00,  9.71it/s]\n",
      "                 Class     Images  Instances      Box(P          R      mAP50  mAP50-95): 100%|██████████| 10/10 [00:01<00:00,  8.60it/s]"
     ]
    },
    {
     "name": "stdout",
     "output_type": "stream",
     "text": [
      "                   all        300        774      0.638      0.621      0.646      0.314\n"
     ]
    },
    {
     "name": "stderr",
     "output_type": "stream",
     "text": [
      "\n"
     ]
    },
    {
     "name": "stdout",
     "output_type": "stream",
     "text": [
      "\n",
      "      Epoch    GPU_mem   box_loss   cls_loss   dfl_loss  Instances       Size\n"
     ]
    },
    {
     "name": "stderr",
     "output_type": "stream",
     "text": [
      "     36/100      2.39G      1.534      1.275      1.309         64        640: 100%|██████████| 164/164 [00:16<00:00,  9.67it/s]\n",
      "                 Class     Images  Instances      Box(P          R      mAP50  mAP50-95): 100%|██████████| 10/10 [00:01<00:00,  9.13it/s]"
     ]
    },
    {
     "name": "stdout",
     "output_type": "stream",
     "text": [
      "                   all        300        774      0.635       0.58      0.617      0.298\n"
     ]
    },
    {
     "name": "stderr",
     "output_type": "stream",
     "text": [
      "\n"
     ]
    },
    {
     "name": "stdout",
     "output_type": "stream",
     "text": [
      "\n",
      "      Epoch    GPU_mem   box_loss   cls_loss   dfl_loss  Instances       Size\n"
     ]
    },
    {
     "name": "stderr",
     "output_type": "stream",
     "text": [
      "     37/100      2.39G      1.551      1.274      1.323         60        640: 100%|██████████| 164/164 [00:16<00:00,  9.68it/s]\n",
      "                 Class     Images  Instances      Box(P          R      mAP50  mAP50-95): 100%|██████████| 10/10 [00:01<00:00,  9.10it/s]\n"
     ]
    },
    {
     "name": "stdout",
     "output_type": "stream",
     "text": [
      "                   all        300        774      0.676      0.549      0.614      0.307\n",
      "\n",
      "      Epoch    GPU_mem   box_loss   cls_loss   dfl_loss  Instances       Size\n"
     ]
    },
    {
     "name": "stderr",
     "output_type": "stream",
     "text": [
      "     38/100      2.39G       1.52      1.226      1.296         53        640: 100%|██████████| 164/164 [00:17<00:00,  9.50it/s]\n",
      "                 Class     Images  Instances      Box(P          R      mAP50  mAP50-95): 100%|██████████| 10/10 [00:01<00:00,  8.73it/s]"
     ]
    },
    {
     "name": "stdout",
     "output_type": "stream",
     "text": [
      "                   all        300        774      0.685      0.552      0.622      0.308\n"
     ]
    },
    {
     "name": "stderr",
     "output_type": "stream",
     "text": [
      "\n"
     ]
    },
    {
     "name": "stdout",
     "output_type": "stream",
     "text": [
      "\n",
      "      Epoch    GPU_mem   box_loss   cls_loss   dfl_loss  Instances       Size\n"
     ]
    },
    {
     "name": "stderr",
     "output_type": "stream",
     "text": [
      "     39/100      2.39G      1.535      1.265      1.312         44        640: 100%|██████████| 164/164 [00:16<00:00,  9.72it/s]\n",
      "                 Class     Images  Instances      Box(P          R      mAP50  mAP50-95): 100%|██████████| 10/10 [00:01<00:00,  8.67it/s]"
     ]
    },
    {
     "name": "stdout",
     "output_type": "stream",
     "text": [
      "                   all        300        774      0.629      0.564      0.606      0.309\n"
     ]
    },
    {
     "name": "stderr",
     "output_type": "stream",
     "text": [
      "\n"
     ]
    },
    {
     "name": "stdout",
     "output_type": "stream",
     "text": [
      "\n",
      "      Epoch    GPU_mem   box_loss   cls_loss   dfl_loss  Instances       Size\n"
     ]
    },
    {
     "name": "stderr",
     "output_type": "stream",
     "text": [
      "     40/100      2.39G      1.528      1.255      1.302         52        640: 100%|██████████| 164/164 [00:16<00:00,  9.67it/s]\n",
      "                 Class     Images  Instances      Box(P          R      mAP50  mAP50-95): 100%|██████████| 10/10 [00:01<00:00,  8.81it/s]"
     ]
    },
    {
     "name": "stdout",
     "output_type": "stream",
     "text": [
      "                   all        300        774      0.642      0.567      0.594        0.3\n"
     ]
    },
    {
     "name": "stderr",
     "output_type": "stream",
     "text": [
      "\n"
     ]
    },
    {
     "name": "stdout",
     "output_type": "stream",
     "text": [
      "\n",
      "      Epoch    GPU_mem   box_loss   cls_loss   dfl_loss  Instances       Size\n"
     ]
    },
    {
     "name": "stderr",
     "output_type": "stream",
     "text": [
      "     41/100      2.39G      1.505      1.213      1.289         52        640: 100%|██████████| 164/164 [00:17<00:00,  9.48it/s]\n",
      "                 Class     Images  Instances      Box(P          R      mAP50  mAP50-95): 100%|██████████| 10/10 [00:01<00:00,  8.48it/s]"
     ]
    },
    {
     "name": "stdout",
     "output_type": "stream",
     "text": [
      "                   all        300        774      0.664      0.583      0.622       0.32\n"
     ]
    },
    {
     "name": "stderr",
     "output_type": "stream",
     "text": [
      "\n"
     ]
    },
    {
     "name": "stdout",
     "output_type": "stream",
     "text": [
      "\n",
      "      Epoch    GPU_mem   box_loss   cls_loss   dfl_loss  Instances       Size\n"
     ]
    },
    {
     "name": "stderr",
     "output_type": "stream",
     "text": [
      "     42/100      2.39G      1.502      1.193      1.279         58        640: 100%|██████████| 164/164 [00:16<00:00,  9.71it/s]\n",
      "                 Class     Images  Instances      Box(P          R      mAP50  mAP50-95): 100%|██████████| 10/10 [00:01<00:00,  8.70it/s]"
     ]
    },
    {
     "name": "stdout",
     "output_type": "stream",
     "text": [
      "                   all        300        774       0.65      0.588       0.63      0.319\n"
     ]
    },
    {
     "name": "stderr",
     "output_type": "stream",
     "text": [
      "\n"
     ]
    },
    {
     "name": "stdout",
     "output_type": "stream",
     "text": [
      "\n",
      "      Epoch    GPU_mem   box_loss   cls_loss   dfl_loss  Instances       Size\n"
     ]
    },
    {
     "name": "stderr",
     "output_type": "stream",
     "text": [
      "     43/100      2.39G      1.496      1.196      1.277         40        640: 100%|██████████| 164/164 [00:17<00:00,  9.64it/s]\n",
      "                 Class     Images  Instances      Box(P          R      mAP50  mAP50-95): 100%|██████████| 10/10 [00:01<00:00,  8.39it/s]"
     ]
    },
    {
     "name": "stdout",
     "output_type": "stream",
     "text": [
      "                   all        300        774      0.708      0.573      0.648       0.33\n"
     ]
    },
    {
     "name": "stderr",
     "output_type": "stream",
     "text": [
      "\n"
     ]
    },
    {
     "name": "stdout",
     "output_type": "stream",
     "text": [
      "\n",
      "      Epoch    GPU_mem   box_loss   cls_loss   dfl_loss  Instances       Size\n"
     ]
    },
    {
     "name": "stderr",
     "output_type": "stream",
     "text": [
      "     44/100      2.39G       1.47      1.172       1.27         57        640: 100%|██████████| 164/164 [00:16<00:00,  9.76it/s]\n",
      "                 Class     Images  Instances      Box(P          R      mAP50  mAP50-95): 100%|██████████| 10/10 [00:01<00:00,  8.77it/s]"
     ]
    },
    {
     "name": "stdout",
     "output_type": "stream",
     "text": [
      "                   all        300        774      0.652      0.609      0.642      0.325\n"
     ]
    },
    {
     "name": "stderr",
     "output_type": "stream",
     "text": [
      "\n"
     ]
    },
    {
     "name": "stdout",
     "output_type": "stream",
     "text": [
      "\n",
      "      Epoch    GPU_mem   box_loss   cls_loss   dfl_loss  Instances       Size\n"
     ]
    },
    {
     "name": "stderr",
     "output_type": "stream",
     "text": [
      "     45/100      2.39G      1.476      1.161      1.271         52        640: 100%|██████████| 164/164 [00:17<00:00,  9.40it/s]\n",
      "                 Class     Images  Instances      Box(P          R      mAP50  mAP50-95): 100%|██████████| 10/10 [00:01<00:00,  8.44it/s]"
     ]
    },
    {
     "name": "stdout",
     "output_type": "stream",
     "text": [
      "                   all        300        774      0.652      0.596      0.635      0.321\n"
     ]
    },
    {
     "name": "stderr",
     "output_type": "stream",
     "text": [
      "\n"
     ]
    },
    {
     "name": "stdout",
     "output_type": "stream",
     "text": [
      "\n",
      "      Epoch    GPU_mem   box_loss   cls_loss   dfl_loss  Instances       Size\n"
     ]
    },
    {
     "name": "stderr",
     "output_type": "stream",
     "text": [
      "     46/100      2.39G      1.478      1.161      1.273         76        640: 100%|██████████| 164/164 [00:16<00:00,  9.71it/s]\n",
      "                 Class     Images  Instances      Box(P          R      mAP50  mAP50-95): 100%|██████████| 10/10 [00:01<00:00,  8.52it/s]"
     ]
    },
    {
     "name": "stdout",
     "output_type": "stream",
     "text": [
      "                   all        300        774      0.676      0.609       0.66       0.34\n"
     ]
    },
    {
     "name": "stderr",
     "output_type": "stream",
     "text": [
      "\n"
     ]
    },
    {
     "name": "stdout",
     "output_type": "stream",
     "text": [
      "\n",
      "      Epoch    GPU_mem   box_loss   cls_loss   dfl_loss  Instances       Size\n"
     ]
    },
    {
     "name": "stderr",
     "output_type": "stream",
     "text": [
      "     47/100      2.39G      1.466      1.151      1.262         45        640: 100%|██████████| 164/164 [00:17<00:00,  9.43it/s]\n",
      "                 Class     Images  Instances      Box(P          R      mAP50  mAP50-95): 100%|██████████| 10/10 [00:01<00:00,  8.43it/s]"
     ]
    },
    {
     "name": "stdout",
     "output_type": "stream",
     "text": [
      "                   all        300        774      0.655      0.634      0.666      0.338\n"
     ]
    },
    {
     "name": "stderr",
     "output_type": "stream",
     "text": [
      "\n"
     ]
    },
    {
     "name": "stdout",
     "output_type": "stream",
     "text": [
      "\n",
      "      Epoch    GPU_mem   box_loss   cls_loss   dfl_loss  Instances       Size\n"
     ]
    },
    {
     "name": "stderr",
     "output_type": "stream",
     "text": [
      "     48/100      2.39G      1.484      1.168       1.28         68        640: 100%|██████████| 164/164 [00:17<00:00,  9.64it/s]\n",
      "                 Class     Images  Instances      Box(P          R      mAP50  mAP50-95): 100%|██████████| 10/10 [00:01<00:00,  8.89it/s]"
     ]
    },
    {
     "name": "stdout",
     "output_type": "stream",
     "text": [
      "                   all        300        774      0.615      0.618      0.641      0.335\n"
     ]
    },
    {
     "name": "stderr",
     "output_type": "stream",
     "text": [
      "\n"
     ]
    },
    {
     "name": "stdout",
     "output_type": "stream",
     "text": [
      "\n",
      "      Epoch    GPU_mem   box_loss   cls_loss   dfl_loss  Instances       Size\n"
     ]
    },
    {
     "name": "stderr",
     "output_type": "stream",
     "text": [
      "     49/100      2.39G      1.452      1.143       1.26         54        640: 100%|██████████| 164/164 [00:16<00:00,  9.68it/s]\n",
      "                 Class     Images  Instances      Box(P          R      mAP50  mAP50-95): 100%|██████████| 10/10 [00:01<00:00,  8.81it/s]\n"
     ]
    },
    {
     "name": "stdout",
     "output_type": "stream",
     "text": [
      "                   all        300        774      0.684      0.632      0.658      0.343\n",
      "\n",
      "      Epoch    GPU_mem   box_loss   cls_loss   dfl_loss  Instances       Size\n"
     ]
    },
    {
     "name": "stderr",
     "output_type": "stream",
     "text": [
      "     50/100      2.39G      1.441      1.135      1.252         87        640: 100%|██████████| 164/164 [00:16<00:00,  9.73it/s]\n",
      "                 Class     Images  Instances      Box(P          R      mAP50  mAP50-95): 100%|██████████| 10/10 [00:01<00:00,  9.05it/s]"
     ]
    },
    {
     "name": "stdout",
     "output_type": "stream",
     "text": [
      "                   all        300        774      0.668      0.637       0.66       0.34\n"
     ]
    },
    {
     "name": "stderr",
     "output_type": "stream",
     "text": [
      "\n"
     ]
    },
    {
     "name": "stdout",
     "output_type": "stream",
     "text": [
      "\n",
      "      Epoch    GPU_mem   box_loss   cls_loss   dfl_loss  Instances       Size\n"
     ]
    },
    {
     "name": "stderr",
     "output_type": "stream",
     "text": [
      "     51/100      2.39G      1.445      1.116      1.253         47        640: 100%|██████████| 164/164 [00:17<00:00,  9.54it/s]\n",
      "                 Class     Images  Instances      Box(P          R      mAP50  mAP50-95): 100%|██████████| 10/10 [00:01<00:00,  8.35it/s]"
     ]
    },
    {
     "name": "stdout",
     "output_type": "stream",
     "text": [
      "                   all        300        774      0.669      0.604      0.652      0.344\n"
     ]
    },
    {
     "name": "stderr",
     "output_type": "stream",
     "text": [
      "\n"
     ]
    },
    {
     "name": "stdout",
     "output_type": "stream",
     "text": [
      "\n",
      "      Epoch    GPU_mem   box_loss   cls_loss   dfl_loss  Instances       Size\n"
     ]
    },
    {
     "name": "stderr",
     "output_type": "stream",
     "text": [
      "     52/100      2.39G      1.429      1.094      1.247         67        640: 100%|██████████| 164/164 [00:17<00:00,  9.54it/s]\n",
      "                 Class     Images  Instances      Box(P          R      mAP50  mAP50-95): 100%|██████████| 10/10 [00:01<00:00,  8.81it/s]"
     ]
    },
    {
     "name": "stdout",
     "output_type": "stream",
     "text": [
      "                   all        300        774      0.667      0.603      0.669       0.35\n"
     ]
    },
    {
     "name": "stderr",
     "output_type": "stream",
     "text": [
      "\n"
     ]
    },
    {
     "name": "stdout",
     "output_type": "stream",
     "text": [
      "\n",
      "      Epoch    GPU_mem   box_loss   cls_loss   dfl_loss  Instances       Size\n"
     ]
    },
    {
     "name": "stderr",
     "output_type": "stream",
     "text": [
      "     53/100      2.39G      1.425      1.099      1.238         68        640: 100%|██████████| 164/164 [00:16<00:00,  9.68it/s]\n",
      "                 Class     Images  Instances      Box(P          R      mAP50  mAP50-95): 100%|██████████| 10/10 [00:01<00:00,  8.71it/s]"
     ]
    },
    {
     "name": "stdout",
     "output_type": "stream",
     "text": [
      "                   all        300        774      0.634      0.623      0.655       0.34\n"
     ]
    },
    {
     "name": "stderr",
     "output_type": "stream",
     "text": [
      "\n"
     ]
    },
    {
     "name": "stdout",
     "output_type": "stream",
     "text": [
      "\n",
      "      Epoch    GPU_mem   box_loss   cls_loss   dfl_loss  Instances       Size\n"
     ]
    },
    {
     "name": "stderr",
     "output_type": "stream",
     "text": [
      "     54/100      2.39G      1.416      1.093      1.245         84        640: 100%|██████████| 164/164 [00:17<00:00,  9.45it/s]\n",
      "                 Class     Images  Instances      Box(P          R      mAP50  mAP50-95): 100%|██████████| 10/10 [00:01<00:00,  8.71it/s]"
     ]
    },
    {
     "name": "stdout",
     "output_type": "stream",
     "text": [
      "                   all        300        774      0.668      0.636      0.672      0.353\n"
     ]
    },
    {
     "name": "stderr",
     "output_type": "stream",
     "text": [
      "\n"
     ]
    },
    {
     "name": "stdout",
     "output_type": "stream",
     "text": [
      "\n",
      "      Epoch    GPU_mem   box_loss   cls_loss   dfl_loss  Instances       Size\n"
     ]
    },
    {
     "name": "stderr",
     "output_type": "stream",
     "text": [
      "     55/100      2.39G      1.404      1.058      1.234         54        640: 100%|██████████| 164/164 [00:17<00:00,  9.55it/s]\n",
      "                 Class     Images  Instances      Box(P          R      mAP50  mAP50-95): 100%|██████████| 10/10 [00:01<00:00,  9.21it/s]"
     ]
    },
    {
     "name": "stdout",
     "output_type": "stream",
     "text": [
      "                   all        300        774      0.703      0.611      0.669      0.347\n"
     ]
    },
    {
     "name": "stderr",
     "output_type": "stream",
     "text": [
      "\n"
     ]
    },
    {
     "name": "stdout",
     "output_type": "stream",
     "text": [
      "\n",
      "      Epoch    GPU_mem   box_loss   cls_loss   dfl_loss  Instances       Size\n"
     ]
    },
    {
     "name": "stderr",
     "output_type": "stream",
     "text": [
      "     56/100      2.39G      1.397      1.047      1.212         48        640: 100%|██████████| 164/164 [00:16<00:00,  9.67it/s]\n",
      "                 Class     Images  Instances      Box(P          R      mAP50  mAP50-95): 100%|██████████| 10/10 [00:01<00:00,  8.89it/s]"
     ]
    },
    {
     "name": "stdout",
     "output_type": "stream",
     "text": [
      "                   all        300        774        0.7      0.601      0.666      0.351\n"
     ]
    },
    {
     "name": "stderr",
     "output_type": "stream",
     "text": [
      "\n"
     ]
    },
    {
     "name": "stdout",
     "output_type": "stream",
     "text": [
      "\n",
      "      Epoch    GPU_mem   box_loss   cls_loss   dfl_loss  Instances       Size\n"
     ]
    },
    {
     "name": "stderr",
     "output_type": "stream",
     "text": [
      "     57/100      2.39G      1.384       1.03      1.218         61        640: 100%|██████████| 164/164 [00:16<00:00,  9.70it/s]\n",
      "                 Class     Images  Instances      Box(P          R      mAP50  mAP50-95): 100%|██████████| 10/10 [00:01<00:00,  9.26it/s]"
     ]
    },
    {
     "name": "stdout",
     "output_type": "stream",
     "text": [
      "                   all        300        774      0.705      0.607      0.668      0.342\n"
     ]
    },
    {
     "name": "stderr",
     "output_type": "stream",
     "text": [
      "\n"
     ]
    },
    {
     "name": "stdout",
     "output_type": "stream",
     "text": [
      "\n",
      "      Epoch    GPU_mem   box_loss   cls_loss   dfl_loss  Instances       Size\n"
     ]
    },
    {
     "name": "stderr",
     "output_type": "stream",
     "text": [
      "     58/100      2.39G      1.399      1.046      1.223         56        640: 100%|██████████| 164/164 [00:16<00:00,  9.70it/s]\n",
      "                 Class     Images  Instances      Box(P          R      mAP50  mAP50-95): 100%|██████████| 10/10 [00:01<00:00,  8.72it/s]"
     ]
    },
    {
     "name": "stdout",
     "output_type": "stream",
     "text": [
      "                   all        300        774      0.715      0.613      0.671      0.349\n"
     ]
    },
    {
     "name": "stderr",
     "output_type": "stream",
     "text": [
      "\n"
     ]
    },
    {
     "name": "stdout",
     "output_type": "stream",
     "text": [
      "\n",
      "      Epoch    GPU_mem   box_loss   cls_loss   dfl_loss  Instances       Size\n"
     ]
    },
    {
     "name": "stderr",
     "output_type": "stream",
     "text": [
      "     59/100      2.39G       1.38      1.016      1.217         55        640: 100%|██████████| 164/164 [00:16<00:00,  9.76it/s]\n",
      "                 Class     Images  Instances      Box(P          R      mAP50  mAP50-95): 100%|██████████| 10/10 [00:01<00:00,  8.50it/s]"
     ]
    },
    {
     "name": "stdout",
     "output_type": "stream",
     "text": [
      "                   all        300        774      0.701       0.62      0.674      0.358\n"
     ]
    },
    {
     "name": "stderr",
     "output_type": "stream",
     "text": [
      "\n"
     ]
    },
    {
     "name": "stdout",
     "output_type": "stream",
     "text": [
      "\n",
      "      Epoch    GPU_mem   box_loss   cls_loss   dfl_loss  Instances       Size\n"
     ]
    },
    {
     "name": "stderr",
     "output_type": "stream",
     "text": [
      "     60/100      2.39G      1.385      1.028      1.218         54        640: 100%|██████████| 164/164 [00:17<00:00,  9.61it/s]\n",
      "                 Class     Images  Instances      Box(P          R      mAP50  mAP50-95): 100%|██████████| 10/10 [00:01<00:00,  8.38it/s]"
     ]
    },
    {
     "name": "stdout",
     "output_type": "stream",
     "text": [
      "                   all        300        774      0.702      0.638      0.679      0.351\n"
     ]
    },
    {
     "name": "stderr",
     "output_type": "stream",
     "text": [
      "\n"
     ]
    },
    {
     "name": "stdout",
     "output_type": "stream",
     "text": [
      "\n",
      "      Epoch    GPU_mem   box_loss   cls_loss   dfl_loss  Instances       Size\n"
     ]
    },
    {
     "name": "stderr",
     "output_type": "stream",
     "text": [
      "     61/100      2.39G      1.368      1.015      1.204         64        640: 100%|██████████| 164/164 [00:18<00:00,  9.06it/s]\n",
      "                 Class     Images  Instances      Box(P          R      mAP50  mAP50-95): 100%|██████████| 10/10 [00:01<00:00,  7.86it/s]"
     ]
    },
    {
     "name": "stdout",
     "output_type": "stream",
     "text": [
      "                   all        300        774      0.669      0.628      0.663      0.348\n"
     ]
    },
    {
     "name": "stderr",
     "output_type": "stream",
     "text": [
      "\n"
     ]
    },
    {
     "name": "stdout",
     "output_type": "stream",
     "text": [
      "\n",
      "      Epoch    GPU_mem   box_loss   cls_loss   dfl_loss  Instances       Size\n"
     ]
    },
    {
     "name": "stderr",
     "output_type": "stream",
     "text": [
      "     62/100      2.39G      1.383      1.005      1.211         46        640: 100%|██████████| 164/164 [00:18<00:00,  8.82it/s]\n",
      "                 Class     Images  Instances      Box(P          R      mAP50  mAP50-95): 100%|██████████| 10/10 [00:01<00:00,  7.52it/s]"
     ]
    },
    {
     "name": "stdout",
     "output_type": "stream",
     "text": [
      "                   all        300        774      0.718       0.59      0.663       0.35\n"
     ]
    },
    {
     "name": "stderr",
     "output_type": "stream",
     "text": [
      "\n"
     ]
    },
    {
     "name": "stdout",
     "output_type": "stream",
     "text": [
      "\n",
      "      Epoch    GPU_mem   box_loss   cls_loss   dfl_loss  Instances       Size\n"
     ]
    },
    {
     "name": "stderr",
     "output_type": "stream",
     "text": [
      "     63/100      2.39G      1.344     0.9855      1.193         70        640: 100%|██████████| 164/164 [00:17<00:00,  9.25it/s]\n",
      "                 Class     Images  Instances      Box(P          R      mAP50  mAP50-95): 100%|██████████| 10/10 [00:01<00:00,  8.85it/s]"
     ]
    },
    {
     "name": "stdout",
     "output_type": "stream",
     "text": [
      "                   all        300        774      0.691      0.627      0.665      0.352\n"
     ]
    },
    {
     "name": "stderr",
     "output_type": "stream",
     "text": [
      "\n"
     ]
    },
    {
     "name": "stdout",
     "output_type": "stream",
     "text": [
      "\n",
      "      Epoch    GPU_mem   box_loss   cls_loss   dfl_loss  Instances       Size\n"
     ]
    },
    {
     "name": "stderr",
     "output_type": "stream",
     "text": [
      "     64/100      2.39G      1.363     0.9855      1.201         63        640: 100%|██████████| 164/164 [00:16<00:00,  9.75it/s]\n",
      "                 Class     Images  Instances      Box(P          R      mAP50  mAP50-95): 100%|██████████| 10/10 [00:01<00:00,  8.75it/s]"
     ]
    },
    {
     "name": "stdout",
     "output_type": "stream",
     "text": [
      "                   all        300        774      0.721      0.624      0.686      0.358\n"
     ]
    },
    {
     "name": "stderr",
     "output_type": "stream",
     "text": [
      "\n"
     ]
    },
    {
     "name": "stdout",
     "output_type": "stream",
     "text": [
      "\n",
      "      Epoch    GPU_mem   box_loss   cls_loss   dfl_loss  Instances       Size\n"
     ]
    },
    {
     "name": "stderr",
     "output_type": "stream",
     "text": [
      "     65/100      2.39G      1.347     0.9858      1.193         50        640: 100%|██████████| 164/164 [00:16<00:00,  9.74it/s]\n",
      "                 Class     Images  Instances      Box(P          R      mAP50  mAP50-95): 100%|██████████| 10/10 [00:01<00:00,  8.45it/s]"
     ]
    },
    {
     "name": "stdout",
     "output_type": "stream",
     "text": [
      "                   all        300        774      0.708      0.633      0.687      0.366\n"
     ]
    },
    {
     "name": "stderr",
     "output_type": "stream",
     "text": [
      "\n"
     ]
    },
    {
     "name": "stdout",
     "output_type": "stream",
     "text": [
      "\n",
      "      Epoch    GPU_mem   box_loss   cls_loss   dfl_loss  Instances       Size\n"
     ]
    },
    {
     "name": "stderr",
     "output_type": "stream",
     "text": [
      "     66/100      2.39G      1.357      0.985      1.199         63        640: 100%|██████████| 164/164 [00:17<00:00,  9.59it/s]\n",
      "                 Class     Images  Instances      Box(P          R      mAP50  mAP50-95): 100%|██████████| 10/10 [00:01<00:00,  8.83it/s]"
     ]
    },
    {
     "name": "stdout",
     "output_type": "stream",
     "text": [
      "                   all        300        774      0.718      0.616      0.679      0.367\n"
     ]
    },
    {
     "name": "stderr",
     "output_type": "stream",
     "text": [
      "\n"
     ]
    },
    {
     "name": "stdout",
     "output_type": "stream",
     "text": [
      "\n",
      "      Epoch    GPU_mem   box_loss   cls_loss   dfl_loss  Instances       Size\n"
     ]
    },
    {
     "name": "stderr",
     "output_type": "stream",
     "text": [
      "     67/100      2.39G      1.332     0.9583      1.182         58        640: 100%|██████████| 164/164 [00:17<00:00,  9.30it/s]\n",
      "                 Class     Images  Instances      Box(P          R      mAP50  mAP50-95): 100%|██████████| 10/10 [00:01<00:00,  7.98it/s]"
     ]
    },
    {
     "name": "stdout",
     "output_type": "stream",
     "text": [
      "                   all        300        774      0.702      0.635      0.678      0.363\n"
     ]
    },
    {
     "name": "stderr",
     "output_type": "stream",
     "text": [
      "\n"
     ]
    },
    {
     "name": "stdout",
     "output_type": "stream",
     "text": [
      "\n",
      "      Epoch    GPU_mem   box_loss   cls_loss   dfl_loss  Instances       Size\n"
     ]
    },
    {
     "name": "stderr",
     "output_type": "stream",
     "text": [
      "     68/100      2.39G       1.32     0.9523      1.182         61        640: 100%|██████████| 164/164 [00:16<00:00,  9.74it/s]\n",
      "                 Class     Images  Instances      Box(P          R      mAP50  mAP50-95): 100%|██████████| 10/10 [00:01<00:00,  8.57it/s]"
     ]
    },
    {
     "name": "stdout",
     "output_type": "stream",
     "text": [
      "                   all        300        774      0.745      0.619      0.695      0.363\n"
     ]
    },
    {
     "name": "stderr",
     "output_type": "stream",
     "text": [
      "\n"
     ]
    },
    {
     "name": "stdout",
     "output_type": "stream",
     "text": [
      "\n",
      "      Epoch    GPU_mem   box_loss   cls_loss   dfl_loss  Instances       Size\n"
     ]
    },
    {
     "name": "stderr",
     "output_type": "stream",
     "text": [
      "     69/100      2.39G      1.318     0.9464      1.179         70        640: 100%|██████████| 164/164 [00:17<00:00,  9.31it/s]\n",
      "                 Class     Images  Instances      Box(P          R      mAP50  mAP50-95): 100%|██████████| 10/10 [00:01<00:00,  8.01it/s]"
     ]
    },
    {
     "name": "stdout",
     "output_type": "stream",
     "text": [
      "                   all        300        774      0.671      0.643      0.667      0.352\n"
     ]
    },
    {
     "name": "stderr",
     "output_type": "stream",
     "text": [
      "\n"
     ]
    },
    {
     "name": "stdout",
     "output_type": "stream",
     "text": [
      "\n",
      "      Epoch    GPU_mem   box_loss   cls_loss   dfl_loss  Instances       Size\n"
     ]
    },
    {
     "name": "stderr",
     "output_type": "stream",
     "text": [
      "     70/100      2.39G      1.304     0.9275      1.172         38        640: 100%|██████████| 164/164 [00:18<00:00,  8.99it/s]\n",
      "                 Class     Images  Instances      Box(P          R      mAP50  mAP50-95): 100%|██████████| 10/10 [00:01<00:00,  8.54it/s]"
     ]
    },
    {
     "name": "stdout",
     "output_type": "stream",
     "text": [
      "                   all        300        774      0.714      0.633      0.686       0.37\n"
     ]
    },
    {
     "name": "stderr",
     "output_type": "stream",
     "text": [
      "\n"
     ]
    },
    {
     "name": "stdout",
     "output_type": "stream",
     "text": [
      "\n",
      "      Epoch    GPU_mem   box_loss   cls_loss   dfl_loss  Instances       Size\n"
     ]
    },
    {
     "name": "stderr",
     "output_type": "stream",
     "text": [
      "     71/100      2.39G      1.297     0.9096      1.164         46        640: 100%|██████████| 164/164 [00:17<00:00,  9.35it/s]\n",
      "                 Class     Images  Instances      Box(P          R      mAP50  mAP50-95): 100%|██████████| 10/10 [00:01<00:00,  8.93it/s]"
     ]
    },
    {
     "name": "stdout",
     "output_type": "stream",
     "text": [
      "                   all        300        774      0.735      0.612      0.694      0.367\n"
     ]
    },
    {
     "name": "stderr",
     "output_type": "stream",
     "text": [
      "\n"
     ]
    },
    {
     "name": "stdout",
     "output_type": "stream",
     "text": [
      "\n",
      "      Epoch    GPU_mem   box_loss   cls_loss   dfl_loss  Instances       Size\n"
     ]
    },
    {
     "name": "stderr",
     "output_type": "stream",
     "text": [
      "     72/100      2.39G      1.301     0.9141      1.161         66        640: 100%|██████████| 164/164 [00:17<00:00,  9.23it/s]\n",
      "                 Class     Images  Instances      Box(P          R      mAP50  mAP50-95): 100%|██████████| 10/10 [00:01<00:00,  8.31it/s]"
     ]
    },
    {
     "name": "stdout",
     "output_type": "stream",
     "text": [
      "                   all        300        774      0.713      0.616      0.684      0.369\n"
     ]
    },
    {
     "name": "stderr",
     "output_type": "stream",
     "text": [
      "\n"
     ]
    },
    {
     "name": "stdout",
     "output_type": "stream",
     "text": [
      "\n",
      "      Epoch    GPU_mem   box_loss   cls_loss   dfl_loss  Instances       Size\n"
     ]
    },
    {
     "name": "stderr",
     "output_type": "stream",
     "text": [
      "     73/100      2.39G      1.294     0.9057      1.163         59        640: 100%|██████████| 164/164 [00:18<00:00,  9.04it/s]\n",
      "                 Class     Images  Instances      Box(P          R      mAP50  mAP50-95): 100%|██████████| 10/10 [00:01<00:00,  8.29it/s]"
     ]
    },
    {
     "name": "stdout",
     "output_type": "stream",
     "text": [
      "                   all        300        774      0.716      0.637      0.689      0.373\n"
     ]
    },
    {
     "name": "stderr",
     "output_type": "stream",
     "text": [
      "\n"
     ]
    },
    {
     "name": "stdout",
     "output_type": "stream",
     "text": [
      "\n",
      "      Epoch    GPU_mem   box_loss   cls_loss   dfl_loss  Instances       Size\n"
     ]
    },
    {
     "name": "stderr",
     "output_type": "stream",
     "text": [
      "     74/100      2.39G      1.287     0.8981      1.155         83        640: 100%|██████████| 164/164 [00:18<00:00,  8.78it/s]\n",
      "                 Class     Images  Instances      Box(P          R      mAP50  mAP50-95): 100%|██████████| 10/10 [00:01<00:00,  6.66it/s]"
     ]
    },
    {
     "name": "stdout",
     "output_type": "stream",
     "text": [
      "                   all        300        774      0.697      0.629      0.688      0.373\n"
     ]
    },
    {
     "name": "stderr",
     "output_type": "stream",
     "text": [
      "\n"
     ]
    },
    {
     "name": "stdout",
     "output_type": "stream",
     "text": [
      "\n",
      "      Epoch    GPU_mem   box_loss   cls_loss   dfl_loss  Instances       Size\n"
     ]
    },
    {
     "name": "stderr",
     "output_type": "stream",
     "text": [
      "     75/100      2.39G       1.28     0.8978       1.16         37        640: 100%|██████████| 164/164 [00:20<00:00,  8.08it/s]\n",
      "                 Class     Images  Instances      Box(P          R      mAP50  mAP50-95): 100%|██████████| 10/10 [00:01<00:00,  6.62it/s]"
     ]
    },
    {
     "name": "stdout",
     "output_type": "stream",
     "text": [
      "                   all        300        774      0.687      0.649      0.695      0.375\n"
     ]
    },
    {
     "name": "stderr",
     "output_type": "stream",
     "text": [
      "\n"
     ]
    },
    {
     "name": "stdout",
     "output_type": "stream",
     "text": [
      "\n",
      "      Epoch    GPU_mem   box_loss   cls_loss   dfl_loss  Instances       Size\n"
     ]
    },
    {
     "name": "stderr",
     "output_type": "stream",
     "text": [
      "     76/100      2.39G      1.268     0.8753      1.155         49        640: 100%|██████████| 164/164 [00:19<00:00,  8.30it/s]\n",
      "                 Class     Images  Instances      Box(P          R      mAP50  mAP50-95): 100%|██████████| 10/10 [00:01<00:00,  7.43it/s]"
     ]
    },
    {
     "name": "stdout",
     "output_type": "stream",
     "text": [
      "                   all        300        774      0.698      0.652      0.692      0.366\n"
     ]
    },
    {
     "name": "stderr",
     "output_type": "stream",
     "text": [
      "\n"
     ]
    },
    {
     "name": "stdout",
     "output_type": "stream",
     "text": [
      "\n",
      "      Epoch    GPU_mem   box_loss   cls_loss   dfl_loss  Instances       Size\n"
     ]
    },
    {
     "name": "stderr",
     "output_type": "stream",
     "text": [
      "     77/100      2.39G      1.257     0.8784      1.147         58        640: 100%|██████████| 164/164 [00:18<00:00,  8.95it/s]\n",
      "                 Class     Images  Instances      Box(P          R      mAP50  mAP50-95): 100%|██████████| 10/10 [00:01<00:00,  7.41it/s]"
     ]
    },
    {
     "name": "stdout",
     "output_type": "stream",
     "text": [
      "                   all        300        774      0.715      0.651      0.701      0.386\n"
     ]
    },
    {
     "name": "stderr",
     "output_type": "stream",
     "text": [
      "\n"
     ]
    },
    {
     "name": "stdout",
     "output_type": "stream",
     "text": [
      "\n",
      "      Epoch    GPU_mem   box_loss   cls_loss   dfl_loss  Instances       Size\n"
     ]
    },
    {
     "name": "stderr",
     "output_type": "stream",
     "text": [
      "     78/100      2.39G      1.263     0.8802      1.147         90        640: 100%|██████████| 164/164 [00:18<00:00,  8.91it/s]\n",
      "                 Class     Images  Instances      Box(P          R      mAP50  mAP50-95): 100%|██████████| 10/10 [00:01<00:00,  7.91it/s]"
     ]
    },
    {
     "name": "stdout",
     "output_type": "stream",
     "text": [
      "                   all        300        774      0.699      0.651      0.697      0.382\n"
     ]
    },
    {
     "name": "stderr",
     "output_type": "stream",
     "text": [
      "\n"
     ]
    },
    {
     "name": "stdout",
     "output_type": "stream",
     "text": [
      "\n",
      "      Epoch    GPU_mem   box_loss   cls_loss   dfl_loss  Instances       Size\n"
     ]
    },
    {
     "name": "stderr",
     "output_type": "stream",
     "text": [
      "     79/100      2.39G      1.259     0.8672      1.144         52        640: 100%|██████████| 164/164 [00:18<00:00,  8.99it/s]\n",
      "                 Class     Images  Instances      Box(P          R      mAP50  mAP50-95): 100%|██████████| 10/10 [00:01<00:00,  7.73it/s]"
     ]
    },
    {
     "name": "stdout",
     "output_type": "stream",
     "text": [
      "                   all        300        774       0.68      0.658      0.695      0.379\n"
     ]
    },
    {
     "name": "stderr",
     "output_type": "stream",
     "text": [
      "\n"
     ]
    },
    {
     "name": "stdout",
     "output_type": "stream",
     "text": [
      "\n",
      "      Epoch    GPU_mem   box_loss   cls_loss   dfl_loss  Instances       Size\n"
     ]
    },
    {
     "name": "stderr",
     "output_type": "stream",
     "text": [
      "     80/100      2.39G      1.258      0.874      1.148         43        640: 100%|██████████| 164/164 [00:17<00:00,  9.15it/s]\n",
      "                 Class     Images  Instances      Box(P          R      mAP50  mAP50-95): 100%|██████████| 10/10 [00:01<00:00,  7.54it/s]"
     ]
    },
    {
     "name": "stdout",
     "output_type": "stream",
     "text": [
      "                   all        300        774       0.72       0.63       0.69      0.377\n"
     ]
    },
    {
     "name": "stderr",
     "output_type": "stream",
     "text": [
      "\n"
     ]
    },
    {
     "name": "stdout",
     "output_type": "stream",
     "text": [
      "\n",
      "      Epoch    GPU_mem   box_loss   cls_loss   dfl_loss  Instances       Size\n"
     ]
    },
    {
     "name": "stderr",
     "output_type": "stream",
     "text": [
      "     81/100      2.39G      1.256      0.854      1.143         53        640: 100%|██████████| 164/164 [00:18<00:00,  8.88it/s]\n",
      "                 Class     Images  Instances      Box(P          R      mAP50  mAP50-95): 100%|██████████| 10/10 [00:01<00:00,  7.59it/s]"
     ]
    },
    {
     "name": "stdout",
     "output_type": "stream",
     "text": [
      "                   all        300        774      0.685      0.652      0.691      0.384\n"
     ]
    },
    {
     "name": "stderr",
     "output_type": "stream",
     "text": [
      "\n"
     ]
    },
    {
     "name": "stdout",
     "output_type": "stream",
     "text": [
      "\n",
      "      Epoch    GPU_mem   box_loss   cls_loss   dfl_loss  Instances       Size\n"
     ]
    },
    {
     "name": "stderr",
     "output_type": "stream",
     "text": [
      "     82/100      2.39G      1.228     0.8497      1.132         57        640: 100%|██████████| 164/164 [00:18<00:00,  9.10it/s]\n",
      "                 Class     Images  Instances      Box(P          R      mAP50  mAP50-95): 100%|██████████| 10/10 [00:01<00:00,  7.38it/s]"
     ]
    },
    {
     "name": "stdout",
     "output_type": "stream",
     "text": [
      "                   all        300        774      0.688      0.649      0.675       0.37\n"
     ]
    },
    {
     "name": "stderr",
     "output_type": "stream",
     "text": [
      "\n"
     ]
    },
    {
     "name": "stdout",
     "output_type": "stream",
     "text": [
      "\n",
      "      Epoch    GPU_mem   box_loss   cls_loss   dfl_loss  Instances       Size\n"
     ]
    },
    {
     "name": "stderr",
     "output_type": "stream",
     "text": [
      "     83/100      2.39G      1.227     0.8413      1.122         70        640: 100%|██████████| 164/164 [00:18<00:00,  8.91it/s]\n",
      "                 Class     Images  Instances      Box(P          R      mAP50  mAP50-95): 100%|██████████| 10/10 [00:01<00:00,  7.24it/s]"
     ]
    },
    {
     "name": "stdout",
     "output_type": "stream",
     "text": [
      "                   all        300        774      0.738       0.63      0.693      0.385\n"
     ]
    },
    {
     "name": "stderr",
     "output_type": "stream",
     "text": [
      "\n"
     ]
    },
    {
     "name": "stdout",
     "output_type": "stream",
     "text": [
      "\n",
      "      Epoch    GPU_mem   box_loss   cls_loss   dfl_loss  Instances       Size\n"
     ]
    },
    {
     "name": "stderr",
     "output_type": "stream",
     "text": [
      "     84/100      2.39G      1.208     0.8161      1.123         65        640: 100%|██████████| 164/164 [00:18<00:00,  8.94it/s]\n",
      "                 Class     Images  Instances      Box(P          R      mAP50  mAP50-95): 100%|██████████| 10/10 [00:01<00:00,  7.94it/s]"
     ]
    },
    {
     "name": "stdout",
     "output_type": "stream",
     "text": [
      "                   all        300        774      0.717      0.659      0.696      0.384\n"
     ]
    },
    {
     "name": "stderr",
     "output_type": "stream",
     "text": [
      "\n"
     ]
    },
    {
     "name": "stdout",
     "output_type": "stream",
     "text": [
      "\n",
      "      Epoch    GPU_mem   box_loss   cls_loss   dfl_loss  Instances       Size\n"
     ]
    },
    {
     "name": "stderr",
     "output_type": "stream",
     "text": [
      "     85/100      2.39G      1.236     0.8419      1.128         54        640: 100%|██████████| 164/164 [00:18<00:00,  8.86it/s]\n",
      "                 Class     Images  Instances      Box(P          R      mAP50  mAP50-95): 100%|██████████| 10/10 [00:01<00:00,  7.21it/s]"
     ]
    },
    {
     "name": "stdout",
     "output_type": "stream",
     "text": [
      "                   all        300        774      0.711       0.66      0.699      0.382\n"
     ]
    },
    {
     "name": "stderr",
     "output_type": "stream",
     "text": [
      "\n"
     ]
    },
    {
     "name": "stdout",
     "output_type": "stream",
     "text": [
      "\n",
      "      Epoch    GPU_mem   box_loss   cls_loss   dfl_loss  Instances       Size\n"
     ]
    },
    {
     "name": "stderr",
     "output_type": "stream",
     "text": [
      "     86/100      2.39G      1.216     0.8165      1.117         75        640: 100%|██████████| 164/164 [00:18<00:00,  9.07it/s]\n",
      "                 Class     Images  Instances      Box(P          R      mAP50  mAP50-95): 100%|██████████| 10/10 [00:01<00:00,  7.83it/s]"
     ]
    },
    {
     "name": "stdout",
     "output_type": "stream",
     "text": [
      "                   all        300        774      0.753      0.641      0.713      0.393\n"
     ]
    },
    {
     "name": "stderr",
     "output_type": "stream",
     "text": [
      "\n"
     ]
    },
    {
     "name": "stdout",
     "output_type": "stream",
     "text": [
      "\n",
      "      Epoch    GPU_mem   box_loss   cls_loss   dfl_loss  Instances       Size\n"
     ]
    },
    {
     "name": "stderr",
     "output_type": "stream",
     "text": [
      "     87/100      2.39G      1.216      0.829      1.127         55        640: 100%|██████████| 164/164 [00:18<00:00,  8.91it/s]\n",
      "                 Class     Images  Instances      Box(P          R      mAP50  mAP50-95): 100%|██████████| 10/10 [00:01<00:00,  7.89it/s]"
     ]
    },
    {
     "name": "stdout",
     "output_type": "stream",
     "text": [
      "                   all        300        774      0.738      0.663       0.71      0.392\n"
     ]
    },
    {
     "name": "stderr",
     "output_type": "stream",
     "text": [
      "\n"
     ]
    },
    {
     "name": "stdout",
     "output_type": "stream",
     "text": [
      "\n",
      "      Epoch    GPU_mem   box_loss   cls_loss   dfl_loss  Instances       Size\n"
     ]
    },
    {
     "name": "stderr",
     "output_type": "stream",
     "text": [
      "     88/100      2.39G      1.204     0.8171       1.12         71        640: 100%|██████████| 164/164 [00:18<00:00,  8.81it/s]\n",
      "                 Class     Images  Instances      Box(P          R      mAP50  mAP50-95): 100%|██████████| 10/10 [00:01<00:00,  7.58it/s]"
     ]
    },
    {
     "name": "stdout",
     "output_type": "stream",
     "text": [
      "                   all        300        774      0.744      0.651      0.697      0.391\n"
     ]
    },
    {
     "name": "stderr",
     "output_type": "stream",
     "text": [
      "\n"
     ]
    },
    {
     "name": "stdout",
     "output_type": "stream",
     "text": [
      "\n",
      "      Epoch    GPU_mem   box_loss   cls_loss   dfl_loss  Instances       Size\n"
     ]
    },
    {
     "name": "stderr",
     "output_type": "stream",
     "text": [
      "     89/100      2.39G      1.184      0.791      1.114         59        640: 100%|██████████| 164/164 [00:19<00:00,  8.62it/s]\n",
      "                 Class     Images  Instances      Box(P          R      mAP50  mAP50-95): 100%|██████████| 10/10 [00:01<00:00,  7.39it/s]"
     ]
    },
    {
     "name": "stdout",
     "output_type": "stream",
     "text": [
      "                   all        300        774      0.741      0.655      0.711      0.388\n"
     ]
    },
    {
     "name": "stderr",
     "output_type": "stream",
     "text": [
      "\n"
     ]
    },
    {
     "name": "stdout",
     "output_type": "stream",
     "text": [
      "\n",
      "      Epoch    GPU_mem   box_loss   cls_loss   dfl_loss  Instances       Size\n"
     ]
    },
    {
     "name": "stderr",
     "output_type": "stream",
     "text": [
      "     90/100      2.39G      1.194     0.8079      1.109         56        640: 100%|██████████| 164/164 [00:19<00:00,  8.57it/s]\n",
      "                 Class     Images  Instances      Box(P          R      mAP50  mAP50-95): 100%|██████████| 10/10 [00:01<00:00,  7.40it/s]"
     ]
    },
    {
     "name": "stdout",
     "output_type": "stream",
     "text": [
      "                   all        300        774      0.742      0.658      0.705      0.392\n"
     ]
    },
    {
     "name": "stderr",
     "output_type": "stream",
     "text": [
      "\n"
     ]
    },
    {
     "name": "stdout",
     "output_type": "stream",
     "text": [
      "Closing dataloader mosaic\n",
      "\n",
      "      Epoch    GPU_mem   box_loss   cls_loss   dfl_loss  Instances       Size\n"
     ]
    },
    {
     "name": "stderr",
     "output_type": "stream",
     "text": [
      "     91/100      2.39G      1.174     0.7397      1.088         37        640: 100%|██████████| 164/164 [00:18<00:00,  8.68it/s]\n",
      "                 Class     Images  Instances      Box(P          R      mAP50  mAP50-95): 100%|██████████| 10/10 [00:01<00:00,  7.63it/s]"
     ]
    },
    {
     "name": "stdout",
     "output_type": "stream",
     "text": [
      "                   all        300        774      0.754      0.632      0.697      0.384\n"
     ]
    },
    {
     "name": "stderr",
     "output_type": "stream",
     "text": [
      "\n"
     ]
    },
    {
     "name": "stdout",
     "output_type": "stream",
     "text": [
      "\n",
      "      Epoch    GPU_mem   box_loss   cls_loss   dfl_loss  Instances       Size\n"
     ]
    },
    {
     "name": "stderr",
     "output_type": "stream",
     "text": [
      "     92/100      2.39G      1.144     0.7074      1.073         35        640: 100%|██████████| 164/164 [00:18<00:00,  9.06it/s]\n",
      "                 Class     Images  Instances      Box(P          R      mAP50  mAP50-95): 100%|██████████| 10/10 [00:01<00:00,  7.91it/s]"
     ]
    },
    {
     "name": "stdout",
     "output_type": "stream",
     "text": [
      "                   all        300        774      0.739      0.649      0.711      0.399\n"
     ]
    },
    {
     "name": "stderr",
     "output_type": "stream",
     "text": [
      "\n"
     ]
    },
    {
     "name": "stdout",
     "output_type": "stream",
     "text": [
      "\n",
      "      Epoch    GPU_mem   box_loss   cls_loss   dfl_loss  Instances       Size\n"
     ]
    },
    {
     "name": "stderr",
     "output_type": "stream",
     "text": [
      "     93/100      2.39G      1.129     0.6844      1.068         32        640: 100%|██████████| 164/164 [00:17<00:00,  9.26it/s]\n",
      "                 Class     Images  Instances      Box(P          R      mAP50  mAP50-95): 100%|██████████| 10/10 [00:01<00:00,  7.93it/s]"
     ]
    },
    {
     "name": "stdout",
     "output_type": "stream",
     "text": [
      "                   all        300        774      0.726      0.652      0.705      0.398\n"
     ]
    },
    {
     "name": "stderr",
     "output_type": "stream",
     "text": [
      "\n"
     ]
    },
    {
     "name": "stdout",
     "output_type": "stream",
     "text": [
      "\n",
      "      Epoch    GPU_mem   box_loss   cls_loss   dfl_loss  Instances       Size\n"
     ]
    },
    {
     "name": "stderr",
     "output_type": "stream",
     "text": [
      "     94/100      2.39G      1.123     0.6798      1.068         26        640: 100%|██████████| 164/164 [00:17<00:00,  9.25it/s]\n",
      "                 Class     Images  Instances      Box(P          R      mAP50  mAP50-95): 100%|██████████| 10/10 [00:01<00:00,  7.91it/s]"
     ]
    },
    {
     "name": "stdout",
     "output_type": "stream",
     "text": [
      "                   all        300        774       0.74      0.659      0.719      0.404\n"
     ]
    },
    {
     "name": "stderr",
     "output_type": "stream",
     "text": [
      "\n"
     ]
    },
    {
     "name": "stdout",
     "output_type": "stream",
     "text": [
      "\n",
      "      Epoch    GPU_mem   box_loss   cls_loss   dfl_loss  Instances       Size\n"
     ]
    },
    {
     "name": "stderr",
     "output_type": "stream",
     "text": [
      "     95/100      2.39G      1.121     0.6726      1.064         33        640: 100%|██████████| 164/164 [00:18<00:00,  9.08it/s]\n",
      "                 Class     Images  Instances      Box(P          R      mAP50  mAP50-95): 100%|██████████| 10/10 [00:01<00:00,  7.81it/s]"
     ]
    },
    {
     "name": "stdout",
     "output_type": "stream",
     "text": [
      "                   all        300        774      0.752      0.655      0.718      0.399\n"
     ]
    },
    {
     "name": "stderr",
     "output_type": "stream",
     "text": [
      "\n"
     ]
    },
    {
     "name": "stdout",
     "output_type": "stream",
     "text": [
      "\n",
      "      Epoch    GPU_mem   box_loss   cls_loss   dfl_loss  Instances       Size\n"
     ]
    },
    {
     "name": "stderr",
     "output_type": "stream",
     "text": [
      "     96/100      2.39G      1.114     0.6699      1.059         29        640: 100%|██████████| 164/164 [00:18<00:00,  9.11it/s]\n",
      "                 Class     Images  Instances      Box(P          R      mAP50  mAP50-95): 100%|██████████| 10/10 [00:01<00:00,  8.47it/s]\n"
     ]
    },
    {
     "name": "stdout",
     "output_type": "stream",
     "text": [
      "                   all        300        774      0.746      0.654      0.713      0.404\n",
      "\n",
      "      Epoch    GPU_mem   box_loss   cls_loss   dfl_loss  Instances       Size\n"
     ]
    },
    {
     "name": "stderr",
     "output_type": "stream",
     "text": [
      "     97/100      2.39G        1.1     0.6617       1.05         18        640: 100%|██████████| 164/164 [00:18<00:00,  9.05it/s]\n",
      "                 Class     Images  Instances      Box(P          R      mAP50  mAP50-95): 100%|██████████| 10/10 [00:01<00:00,  7.42it/s]"
     ]
    },
    {
     "name": "stdout",
     "output_type": "stream",
     "text": [
      "                   all        300        774      0.773       0.64      0.725      0.411\n"
     ]
    },
    {
     "name": "stderr",
     "output_type": "stream",
     "text": [
      "\n"
     ]
    },
    {
     "name": "stdout",
     "output_type": "stream",
     "text": [
      "\n",
      "      Epoch    GPU_mem   box_loss   cls_loss   dfl_loss  Instances       Size\n"
     ]
    },
    {
     "name": "stderr",
     "output_type": "stream",
     "text": [
      "     98/100      2.39G      1.093     0.6542      1.047         38        640: 100%|██████████| 164/164 [00:17<00:00,  9.15it/s]\n",
      "                 Class     Images  Instances      Box(P          R      mAP50  mAP50-95): 100%|██████████| 10/10 [00:01<00:00,  8.00it/s]"
     ]
    },
    {
     "name": "stdout",
     "output_type": "stream",
     "text": [
      "                   all        300        774      0.769      0.642      0.723       0.41\n"
     ]
    },
    {
     "name": "stderr",
     "output_type": "stream",
     "text": [
      "\n"
     ]
    },
    {
     "name": "stdout",
     "output_type": "stream",
     "text": [
      "\n",
      "      Epoch    GPU_mem   box_loss   cls_loss   dfl_loss  Instances       Size\n"
     ]
    },
    {
     "name": "stderr",
     "output_type": "stream",
     "text": [
      "     99/100      2.39G      1.089     0.6542      1.051         31        640: 100%|██████████| 164/164 [00:18<00:00,  9.08it/s]\n",
      "                 Class     Images  Instances      Box(P          R      mAP50  mAP50-95): 100%|██████████| 10/10 [00:01<00:00,  7.62it/s]"
     ]
    },
    {
     "name": "stdout",
     "output_type": "stream",
     "text": [
      "                   all        300        774       0.75       0.65      0.716       0.41\n"
     ]
    },
    {
     "name": "stderr",
     "output_type": "stream",
     "text": [
      "\n"
     ]
    },
    {
     "name": "stdout",
     "output_type": "stream",
     "text": [
      "\n",
      "      Epoch    GPU_mem   box_loss   cls_loss   dfl_loss  Instances       Size\n"
     ]
    },
    {
     "name": "stderr",
     "output_type": "stream",
     "text": [
      "    100/100      2.39G      1.082      0.649      1.046         22        640: 100%|██████████| 164/164 [00:17<00:00,  9.23it/s]\n",
      "                 Class     Images  Instances      Box(P          R      mAP50  mAP50-95): 100%|██████████| 10/10 [00:01<00:00,  7.95it/s]"
     ]
    },
    {
     "name": "stdout",
     "output_type": "stream",
     "text": [
      "                   all        300        774      0.747      0.664      0.729      0.411\n"
     ]
    },
    {
     "name": "stderr",
     "output_type": "stream",
     "text": [
      "\n"
     ]
    },
    {
     "name": "stdout",
     "output_type": "stream",
     "text": [
      "\n",
      "100 epochs completed in 0.535 hours.\n",
      "Optimizer stripped from runs\\detect\\train\\weights\\last.pt, 6.2MB\n",
      "Optimizer stripped from runs\\detect\\train\\weights\\best.pt, 6.2MB\n",
      "\n",
      "Validating runs\\detect\\train\\weights\\best.pt...\n",
      "Ultralytics 8.3.107  Python-3.11.6 torch-2.5.1+cu121 CUDA:0 (NVIDIA GeForce RTX 3070, 8192MiB)\n",
      "Model summary (fused): 72 layers, 3,005,843 parameters, 0 gradients, 8.1 GFLOPs\n"
     ]
    },
    {
     "name": "stderr",
     "output_type": "stream",
     "text": [
      "                 Class     Images  Instances      Box(P          R      mAP50  mAP50-95): 100%|██████████| 10/10 [00:01<00:00,  6.07it/s]\n"
     ]
    },
    {
     "name": "stdout",
     "output_type": "stream",
     "text": [
      "                   all        300        774      0.741      0.669      0.729      0.413\n",
      "Speed: 0.1ms preprocess, 0.9ms inference, 0.0ms loss, 0.8ms postprocess per image\n",
      "Results saved to \u001b[1mruns\\detect\\train\u001b[0m\n"
     ]
    },
    {
     "data": {
      "text/plain": [
       "ultralytics.utils.metrics.DetMetrics object with attributes:\n",
       "\n",
       "ap_class_index: array([0])\n",
       "box: ultralytics.utils.metrics.Metric object\n",
       "confusion_matrix: <ultralytics.utils.metrics.ConfusionMatrix object at 0x0000024B02593750>\n",
       "curves: ['Precision-Recall(B)', 'F1-Confidence(B)', 'Precision-Confidence(B)', 'Recall-Confidence(B)']\n",
       "curves_results: [[array([          0,    0.001001,    0.002002,    0.003003,    0.004004,    0.005005,    0.006006,    0.007007,    0.008008,    0.009009,     0.01001,    0.011011,    0.012012,    0.013013,    0.014014,    0.015015,    0.016016,    0.017017,    0.018018,    0.019019,     0.02002,    0.021021,    0.022022,    0.023023,\n",
       "          0.024024,    0.025025,    0.026026,    0.027027,    0.028028,    0.029029,     0.03003,    0.031031,    0.032032,    0.033033,    0.034034,    0.035035,    0.036036,    0.037037,    0.038038,    0.039039,     0.04004,    0.041041,    0.042042,    0.043043,    0.044044,    0.045045,    0.046046,    0.047047,\n",
       "          0.048048,    0.049049,     0.05005,    0.051051,    0.052052,    0.053053,    0.054054,    0.055055,    0.056056,    0.057057,    0.058058,    0.059059,     0.06006,    0.061061,    0.062062,    0.063063,    0.064064,    0.065065,    0.066066,    0.067067,    0.068068,    0.069069,     0.07007,    0.071071,\n",
       "          0.072072,    0.073073,    0.074074,    0.075075,    0.076076,    0.077077,    0.078078,    0.079079,     0.08008,    0.081081,    0.082082,    0.083083,    0.084084,    0.085085,    0.086086,    0.087087,    0.088088,    0.089089,     0.09009,    0.091091,    0.092092,    0.093093,    0.094094,    0.095095,\n",
       "          0.096096,    0.097097,    0.098098,    0.099099,      0.1001,      0.1011,      0.1021,      0.1031,      0.1041,     0.10511,     0.10611,     0.10711,     0.10811,     0.10911,     0.11011,     0.11111,     0.11211,     0.11311,     0.11411,     0.11512,     0.11612,     0.11712,     0.11812,     0.11912,\n",
       "           0.12012,     0.12112,     0.12212,     0.12312,     0.12412,     0.12513,     0.12613,     0.12713,     0.12813,     0.12913,     0.13013,     0.13113,     0.13213,     0.13313,     0.13413,     0.13514,     0.13614,     0.13714,     0.13814,     0.13914,     0.14014,     0.14114,     0.14214,     0.14314,\n",
       "           0.14414,     0.14515,     0.14615,     0.14715,     0.14815,     0.14915,     0.15015,     0.15115,     0.15215,     0.15315,     0.15415,     0.15516,     0.15616,     0.15716,     0.15816,     0.15916,     0.16016,     0.16116,     0.16216,     0.16316,     0.16416,     0.16517,     0.16617,     0.16717,\n",
       "           0.16817,     0.16917,     0.17017,     0.17117,     0.17217,     0.17317,     0.17417,     0.17518,     0.17618,     0.17718,     0.17818,     0.17918,     0.18018,     0.18118,     0.18218,     0.18318,     0.18418,     0.18519,     0.18619,     0.18719,     0.18819,     0.18919,     0.19019,     0.19119,\n",
       "           0.19219,     0.19319,     0.19419,      0.1952,      0.1962,      0.1972,      0.1982,      0.1992,      0.2002,      0.2012,      0.2022,      0.2032,      0.2042,     0.20521,     0.20621,     0.20721,     0.20821,     0.20921,     0.21021,     0.21121,     0.21221,     0.21321,     0.21421,     0.21522,\n",
       "           0.21622,     0.21722,     0.21822,     0.21922,     0.22022,     0.22122,     0.22222,     0.22322,     0.22422,     0.22523,     0.22623,     0.22723,     0.22823,     0.22923,     0.23023,     0.23123,     0.23223,     0.23323,     0.23423,     0.23524,     0.23624,     0.23724,     0.23824,     0.23924,\n",
       "           0.24024,     0.24124,     0.24224,     0.24324,     0.24424,     0.24525,     0.24625,     0.24725,     0.24825,     0.24925,     0.25025,     0.25125,     0.25225,     0.25325,     0.25425,     0.25526,     0.25626,     0.25726,     0.25826,     0.25926,     0.26026,     0.26126,     0.26226,     0.26326,\n",
       "           0.26426,     0.26527,     0.26627,     0.26727,     0.26827,     0.26927,     0.27027,     0.27127,     0.27227,     0.27327,     0.27427,     0.27528,     0.27628,     0.27728,     0.27828,     0.27928,     0.28028,     0.28128,     0.28228,     0.28328,     0.28428,     0.28529,     0.28629,     0.28729,\n",
       "           0.28829,     0.28929,     0.29029,     0.29129,     0.29229,     0.29329,     0.29429,      0.2953,      0.2963,      0.2973,      0.2983,      0.2993,      0.3003,      0.3013,      0.3023,      0.3033,      0.3043,     0.30531,     0.30631,     0.30731,     0.30831,     0.30931,     0.31031,     0.31131,\n",
       "           0.31231,     0.31331,     0.31431,     0.31532,     0.31632,     0.31732,     0.31832,     0.31932,     0.32032,     0.32132,     0.32232,     0.32332,     0.32432,     0.32533,     0.32633,     0.32733,     0.32833,     0.32933,     0.33033,     0.33133,     0.33233,     0.33333,     0.33433,     0.33534,\n",
       "           0.33634,     0.33734,     0.33834,     0.33934,     0.34034,     0.34134,     0.34234,     0.34334,     0.34434,     0.34535,     0.34635,     0.34735,     0.34835,     0.34935,     0.35035,     0.35135,     0.35235,     0.35335,     0.35435,     0.35536,     0.35636,     0.35736,     0.35836,     0.35936,\n",
       "           0.36036,     0.36136,     0.36236,     0.36336,     0.36436,     0.36537,     0.36637,     0.36737,     0.36837,     0.36937,     0.37037,     0.37137,     0.37237,     0.37337,     0.37437,     0.37538,     0.37638,     0.37738,     0.37838,     0.37938,     0.38038,     0.38138,     0.38238,     0.38338,\n",
       "           0.38438,     0.38539,     0.38639,     0.38739,     0.38839,     0.38939,     0.39039,     0.39139,     0.39239,     0.39339,     0.39439,      0.3954,      0.3964,      0.3974,      0.3984,      0.3994,      0.4004,      0.4014,      0.4024,      0.4034,      0.4044,     0.40541,     0.40641,     0.40741,\n",
       "           0.40841,     0.40941,     0.41041,     0.41141,     0.41241,     0.41341,     0.41441,     0.41542,     0.41642,     0.41742,     0.41842,     0.41942,     0.42042,     0.42142,     0.42242,     0.42342,     0.42442,     0.42543,     0.42643,     0.42743,     0.42843,     0.42943,     0.43043,     0.43143,\n",
       "           0.43243,     0.43343,     0.43443,     0.43544,     0.43644,     0.43744,     0.43844,     0.43944,     0.44044,     0.44144,     0.44244,     0.44344,     0.44444,     0.44545,     0.44645,     0.44745,     0.44845,     0.44945,     0.45045,     0.45145,     0.45245,     0.45345,     0.45445,     0.45546,\n",
       "           0.45646,     0.45746,     0.45846,     0.45946,     0.46046,     0.46146,     0.46246,     0.46346,     0.46446,     0.46547,     0.46647,     0.46747,     0.46847,     0.46947,     0.47047,     0.47147,     0.47247,     0.47347,     0.47447,     0.47548,     0.47648,     0.47748,     0.47848,     0.47948,\n",
       "           0.48048,     0.48148,     0.48248,     0.48348,     0.48448,     0.48549,     0.48649,     0.48749,     0.48849,     0.48949,     0.49049,     0.49149,     0.49249,     0.49349,     0.49449,      0.4955,      0.4965,      0.4975,      0.4985,      0.4995,      0.5005,      0.5015,      0.5025,      0.5035,\n",
       "            0.5045,     0.50551,     0.50651,     0.50751,     0.50851,     0.50951,     0.51051,     0.51151,     0.51251,     0.51351,     0.51451,     0.51552,     0.51652,     0.51752,     0.51852,     0.51952,     0.52052,     0.52152,     0.52252,     0.52352,     0.52452,     0.52553,     0.52653,     0.52753,\n",
       "           0.52853,     0.52953,     0.53053,     0.53153,     0.53253,     0.53353,     0.53453,     0.53554,     0.53654,     0.53754,     0.53854,     0.53954,     0.54054,     0.54154,     0.54254,     0.54354,     0.54454,     0.54555,     0.54655,     0.54755,     0.54855,     0.54955,     0.55055,     0.55155,\n",
       "           0.55255,     0.55355,     0.55455,     0.55556,     0.55656,     0.55756,     0.55856,     0.55956,     0.56056,     0.56156,     0.56256,     0.56356,     0.56456,     0.56557,     0.56657,     0.56757,     0.56857,     0.56957,     0.57057,     0.57157,     0.57257,     0.57357,     0.57457,     0.57558,\n",
       "           0.57658,     0.57758,     0.57858,     0.57958,     0.58058,     0.58158,     0.58258,     0.58358,     0.58458,     0.58559,     0.58659,     0.58759,     0.58859,     0.58959,     0.59059,     0.59159,     0.59259,     0.59359,     0.59459,      0.5956,      0.5966,      0.5976,      0.5986,      0.5996,\n",
       "            0.6006,      0.6016,      0.6026,      0.6036,      0.6046,     0.60561,     0.60661,     0.60761,     0.60861,     0.60961,     0.61061,     0.61161,     0.61261,     0.61361,     0.61461,     0.61562,     0.61662,     0.61762,     0.61862,     0.61962,     0.62062,     0.62162,     0.62262,     0.62362,\n",
       "           0.62462,     0.62563,     0.62663,     0.62763,     0.62863,     0.62963,     0.63063,     0.63163,     0.63263,     0.63363,     0.63463,     0.63564,     0.63664,     0.63764,     0.63864,     0.63964,     0.64064,     0.64164,     0.64264,     0.64364,     0.64464,     0.64565,     0.64665,     0.64765,\n",
       "           0.64865,     0.64965,     0.65065,     0.65165,     0.65265,     0.65365,     0.65465,     0.65566,     0.65666,     0.65766,     0.65866,     0.65966,     0.66066,     0.66166,     0.66266,     0.66366,     0.66466,     0.66567,     0.66667,     0.66767,     0.66867,     0.66967,     0.67067,     0.67167,\n",
       "           0.67267,     0.67367,     0.67467,     0.67568,     0.67668,     0.67768,     0.67868,     0.67968,     0.68068,     0.68168,     0.68268,     0.68368,     0.68468,     0.68569,     0.68669,     0.68769,     0.68869,     0.68969,     0.69069,     0.69169,     0.69269,     0.69369,     0.69469,      0.6957,\n",
       "            0.6967,      0.6977,      0.6987,      0.6997,      0.7007,      0.7017,      0.7027,      0.7037,      0.7047,     0.70571,     0.70671,     0.70771,     0.70871,     0.70971,     0.71071,     0.71171,     0.71271,     0.71371,     0.71471,     0.71572,     0.71672,     0.71772,     0.71872,     0.71972,\n",
       "           0.72072,     0.72172,     0.72272,     0.72372,     0.72472,     0.72573,     0.72673,     0.72773,     0.72873,     0.72973,     0.73073,     0.73173,     0.73273,     0.73373,     0.73473,     0.73574,     0.73674,     0.73774,     0.73874,     0.73974,     0.74074,     0.74174,     0.74274,     0.74374,\n",
       "           0.74474,     0.74575,     0.74675,     0.74775,     0.74875,     0.74975,     0.75075,     0.75175,     0.75275,     0.75375,     0.75475,     0.75576,     0.75676,     0.75776,     0.75876,     0.75976,     0.76076,     0.76176,     0.76276,     0.76376,     0.76476,     0.76577,     0.76677,     0.76777,\n",
       "           0.76877,     0.76977,     0.77077,     0.77177,     0.77277,     0.77377,     0.77477,     0.77578,     0.77678,     0.77778,     0.77878,     0.77978,     0.78078,     0.78178,     0.78278,     0.78378,     0.78478,     0.78579,     0.78679,     0.78779,     0.78879,     0.78979,     0.79079,     0.79179,\n",
       "           0.79279,     0.79379,     0.79479,      0.7958,      0.7968,      0.7978,      0.7988,      0.7998,      0.8008,      0.8018,      0.8028,      0.8038,      0.8048,     0.80581,     0.80681,     0.80781,     0.80881,     0.80981,     0.81081,     0.81181,     0.81281,     0.81381,     0.81481,     0.81582,\n",
       "           0.81682,     0.81782,     0.81882,     0.81982,     0.82082,     0.82182,     0.82282,     0.82382,     0.82482,     0.82583,     0.82683,     0.82783,     0.82883,     0.82983,     0.83083,     0.83183,     0.83283,     0.83383,     0.83483,     0.83584,     0.83684,     0.83784,     0.83884,     0.83984,\n",
       "           0.84084,     0.84184,     0.84284,     0.84384,     0.84484,     0.84585,     0.84685,     0.84785,     0.84885,     0.84985,     0.85085,     0.85185,     0.85285,     0.85385,     0.85485,     0.85586,     0.85686,     0.85786,     0.85886,     0.85986,     0.86086,     0.86186,     0.86286,     0.86386,\n",
       "           0.86486,     0.86587,     0.86687,     0.86787,     0.86887,     0.86987,     0.87087,     0.87187,     0.87287,     0.87387,     0.87487,     0.87588,     0.87688,     0.87788,     0.87888,     0.87988,     0.88088,     0.88188,     0.88288,     0.88388,     0.88488,     0.88589,     0.88689,     0.88789,\n",
       "           0.88889,     0.88989,     0.89089,     0.89189,     0.89289,     0.89389,     0.89489,      0.8959,      0.8969,      0.8979,      0.8989,      0.8999,      0.9009,      0.9019,      0.9029,      0.9039,      0.9049,     0.90591,     0.90691,     0.90791,     0.90891,     0.90991,     0.91091,     0.91191,\n",
       "           0.91291,     0.91391,     0.91491,     0.91592,     0.91692,     0.91792,     0.91892,     0.91992,     0.92092,     0.92192,     0.92292,     0.92392,     0.92492,     0.92593,     0.92693,     0.92793,     0.92893,     0.92993,     0.93093,     0.93193,     0.93293,     0.93393,     0.93493,     0.93594,\n",
       "           0.93694,     0.93794,     0.93894,     0.93994,     0.94094,     0.94194,     0.94294,     0.94394,     0.94494,     0.94595,     0.94695,     0.94795,     0.94895,     0.94995,     0.95095,     0.95195,     0.95295,     0.95395,     0.95495,     0.95596,     0.95696,     0.95796,     0.95896,     0.95996,\n",
       "           0.96096,     0.96196,     0.96296,     0.96396,     0.96496,     0.96597,     0.96697,     0.96797,     0.96897,     0.96997,     0.97097,     0.97197,     0.97297,     0.97397,     0.97497,     0.97598,     0.97698,     0.97798,     0.97898,     0.97998,     0.98098,     0.98198,     0.98298,     0.98398,\n",
       "           0.98498,     0.98599,     0.98699,     0.98799,     0.98899,     0.98999,     0.99099,     0.99199,     0.99299,     0.99399,     0.99499,       0.996,       0.997,       0.998,       0.999,           1]), array([[          1,           1,           1,           1,           1,           1,           1,           1,           1,           1,           1,           1,           1,           1,           1,           1,           1,           1,           1,           1,      0.9759,      0.9759,      0.9759,\n",
       "             0.9759,      0.9759,      0.9759,      0.9759,      0.9759,      0.9759,      0.9759,      0.9759,      0.9759,      0.9759,      0.9759,      0.9759,      0.9759,      0.9759,      0.9759,      0.9759,      0.9759,      0.9759,      0.9759,      0.9759,      0.9759,      0.9759,      0.9759,\n",
       "             0.9759,      0.9759,      0.9759,      0.9759,      0.9759,      0.9759,      0.9759,      0.9759,      0.9759,      0.9759,      0.9759,      0.9759,      0.9759,      0.9759,      0.9759,      0.9759,      0.9759,      0.9759,      0.9759,      0.9759,      0.9759,      0.9759,      0.9759,\n",
       "             0.9759,      0.9759,      0.9759,      0.9759,      0.9759,      0.9759,      0.9759,      0.9759,      0.9759,      0.9759,      0.9759,      0.9759,      0.9759,      0.9759,      0.9759,      0.9759,      0.9759,      0.9759,      0.9759,      0.9759,      0.9759,      0.9759,      0.9759,\n",
       "             0.9759,      0.9759,      0.9759,      0.9759,      0.9759,      0.9759,      0.9759,      0.9759,      0.9759,      0.9759,      0.9759,      0.9759,      0.9759,     0.97248,     0.97248,     0.97248,     0.97248,     0.97248,     0.97248,     0.97248,     0.97248,     0.97248,     0.97248,\n",
       "            0.97248,     0.97248,     0.97248,     0.97248,     0.97248,     0.97248,     0.97248,     0.97248,     0.97248,     0.97248,     0.97248,     0.97248,     0.97248,     0.97248,     0.97248,     0.97248,     0.97248,     0.97248,     0.97248,     0.97248,     0.97248,     0.97248,     0.97024,\n",
       "            0.97024,     0.97024,     0.97024,     0.97024,     0.97024,     0.97024,     0.97024,     0.97024,     0.97024,     0.97024,     0.97024,     0.97024,     0.97024,     0.97024,     0.97024,     0.97024,     0.97024,     0.97024,     0.97024,     0.97024,     0.97024,     0.97024,     0.97024,\n",
       "            0.97024,     0.97024,     0.97024,     0.97024,     0.97024,     0.97024,     0.97024,     0.97024,     0.97024,     0.97024,     0.97024,     0.97024,     0.97024,     0.97024,     0.97024,     0.97024,     0.97024,     0.97024,     0.97024,     0.97024,     0.97024,     0.97024,     0.97024,\n",
       "            0.97024,     0.97024,     0.97024,     0.97024,     0.97024,     0.97024,     0.97024,     0.97024,     0.97024,     0.97024,     0.97024,     0.97024,     0.97024,     0.97024,     0.97024,     0.97024,     0.97024,     0.97024,     0.97024,     0.97024,     0.97024,     0.97024,     0.97024,\n",
       "            0.97024,     0.97024,     0.97024,     0.97024,     0.96629,     0.96629,     0.96629,     0.96629,     0.96629,     0.96629,     0.96629,     0.96629,     0.96629,     0.96629,     0.96629,     0.96175,     0.96175,     0.96175,     0.96175,     0.96175,     0.96175,     0.95767,     0.95767,\n",
       "            0.95767,     0.95767,     0.95767,     0.95767,     0.95694,     0.95694,     0.95694,     0.95694,     0.95694,     0.95694,     0.95694,     0.95694,     0.95694,     0.95694,     0.95694,     0.95694,     0.95694,     0.95694,     0.95694,     0.95694,     0.95694,     0.95694,     0.95694,\n",
       "            0.95694,     0.95694,     0.95694,     0.95694,     0.95694,     0.95694,     0.95392,     0.95392,     0.95392,     0.95392,     0.95392,     0.95392,     0.95392,     0.95392,     0.95392,     0.95089,     0.95089,     0.95089,     0.95089,     0.95089,     0.95089,     0.95089,     0.94828,\n",
       "            0.94828,     0.94828,     0.94828,     0.94828,     0.94828,     0.94828,     0.94828,     0.94828,     0.94779,     0.94779,     0.94779,     0.94779,     0.94779,     0.94779,     0.94779,     0.94779,     0.94779,     0.94779,     0.94779,     0.94779,     0.94779,     0.94779,     0.94779,\n",
       "            0.94779,     0.94779,     0.94779,     0.94779,     0.94779,     0.94779,     0.94574,     0.94574,     0.94574,     0.94574,     0.94574,     0.94574,     0.94574,     0.94574,     0.94574,     0.94574,     0.94275,     0.94275,     0.94275,     0.94275,     0.93939,     0.93939,     0.93609,\n",
       "            0.93333,     0.93333,     0.93333,     0.93333,      0.9304,      0.9304,      0.9278,      0.9278,      0.9278,      0.9278,      0.9258,      0.9258,      0.9258,      0.9258,      0.9258,      0.9258,      0.9258,     0.92308,     0.92308,     0.92123,     0.92123,     0.92123,     0.92123,\n",
       "            0.92123,     0.92123,     0.92123,      0.9183,      0.9183,      0.9183,      0.9183,      0.9183,      0.9183,      0.9183,      0.9183,      0.9183,      0.9183,      0.9183,      0.9183,      0.9183,      0.9183,      0.9183,     0.90881,     0.90881,     0.90881,     0.90881,     0.90881,\n",
       "            0.90881,     0.90881,     0.90881,     0.90881,     0.90881,     0.90881,     0.90712,     0.90712,     0.90712,     0.90712,     0.90712,     0.90491,     0.90491,     0.90407,     0.90407,     0.90407,     0.90407,     0.90407,     0.90407,     0.90407,     0.90407,     0.90407,     0.90407,\n",
       "            0.90407,     0.90407,     0.90407,     0.90407,     0.90407,     0.90407,     0.90407,     0.90407,     0.90407,     0.90407,     0.90407,     0.90286,     0.90286,     0.90286,     0.90286,     0.90286,     0.90286,     0.90141,     0.90141,     0.90141,     0.90141,     0.90141,     0.90141,\n",
       "            0.89751,     0.89751,     0.89751,     0.89751,     0.89751,     0.89674,     0.89674,     0.89674,     0.89674,     0.89674,     0.89674,     0.89674,     0.89247,     0.89247,     0.89247,     0.89067,     0.89067,     0.89067,     0.88918,     0.88918,     0.88918,     0.88714,     0.88714,\n",
       "            0.88512,     0.88312,      0.8801,      0.8801,      0.8801,      0.8801,      0.8801,      0.8801,      0.8801,      0.8797,      0.8797,      0.8797,      0.8797,      0.8797,      0.8797,      0.8797,      0.8797,     0.87781,     0.87775,     0.87775,     0.87775,     0.87775,     0.87775,\n",
       "            0.87775,     0.87775,     0.87775,     0.87775,     0.87167,     0.86988,     0.86744,     0.86744,     0.86744,     0.86744,     0.86744,     0.86744,     0.86744,     0.86744,     0.86744,     0.86744,     0.86744,     0.86744,     0.86744,     0.86744,     0.86744,     0.86744,     0.86636,\n",
       "            0.86636,     0.86636,     0.86636,      0.8627,     0.86136,     0.86136,     0.86136,     0.85586,     0.85459,     0.85459,     0.85459,     0.85398,     0.85398,     0.85398,     0.85398,     0.85398,     0.85275,     0.85275,     0.85217,     0.85217,     0.85217,     0.85217,     0.85217,\n",
       "            0.84797,     0.84797,     0.84797,     0.84797,     0.84797,     0.84797,     0.84681,     0.84681,     0.84567,     0.84567,     0.84567,     0.84454,     0.84454,     0.84134,     0.84134,     0.84058,     0.84058,     0.84058,     0.84058,     0.83984,     0.83984,     0.83984,     0.83845,\n",
       "            0.83845,     0.83629,     0.83629,     0.83629,     0.83629,     0.83629,     0.83629,     0.83629,     0.83629,     0.83629,     0.83629,     0.83629,     0.83629,     0.83629,     0.83629,     0.83629,     0.83629,     0.83629,     0.83629,     0.83622,     0.83622,     0.83622,     0.83622,\n",
       "            0.83622,     0.83622,     0.83622,     0.83622,     0.83622,     0.83622,     0.83622,     0.83622,     0.83622,     0.83619,     0.83619,     0.83619,     0.83619,     0.83619,     0.83619,     0.83523,     0.83523,     0.83523,      0.8324,      0.8324,      0.8324,      0.8324,      0.8324,\n",
       "             0.8324,      0.8324,     0.83088,     0.83088,     0.83088,     0.83088,     0.83088,     0.83088,     0.83088,     0.82967,      0.8279,      0.8279,      0.8279,      0.8279,      0.8279,     0.82671,     0.82671,     0.82469,     0.82469,     0.82469,     0.82469,     0.82353,     0.81947,\n",
       "            0.81866,     0.81866,     0.81866,     0.81786,     0.81786,     0.81597,     0.81597,     0.81597,     0.81597,     0.81347,     0.81304,     0.81304,     0.81304,     0.81304,     0.81058,     0.81058,     0.80471,     0.80471,     0.80471,     0.80435,     0.80435,     0.80435,     0.80435,\n",
       "            0.79967,     0.79967,     0.79967,     0.79736,     0.79119,     0.79024,     0.79024,     0.78812,     0.78812,     0.78812,     0.78812,     0.78812,     0.78812,     0.78594,     0.78594,     0.78503,     0.78199,     0.78199,     0.77865,     0.77865,     0.77812,     0.77812,     0.77795,\n",
       "            0.77795,     0.77795,     0.77795,     0.77589,     0.77573,     0.77573,     0.77573,     0.77573,      0.7737,      0.7737,     0.77052,     0.76737,      0.7597,     0.75893,     0.75893,     0.75592,     0.75405,      0.7533,      0.7533,     0.74927,     0.74746,     0.74674,     0.74603,\n",
       "            0.74603,     0.74106,     0.73864,     0.73864,     0.73864,     0.73625,     0.73625,     0.73596,     0.73596,     0.73596,     0.73259,     0.73259,     0.73093,     0.73093,      0.7304,      0.7304,      0.7304,      0.7304,      0.7304,     0.72977,     0.72554,     0.72554,     0.72554,\n",
       "            0.72102,     0.71888,     0.71888,     0.71888,     0.71733,     0.71713,     0.71713,     0.71184,     0.71184,      0.7085,     0.70703,     0.69923,     0.69923,     0.69872,     0.69732,     0.69504,     0.69504,     0.69231,     0.69231,     0.69182,     0.68789,     0.68789,     0.68401,\n",
       "            0.67193,     0.65952,     0.65952,     0.65643,     0.65643,     0.64918,     0.64733,     0.64733,     0.64475,     0.64368,     0.64335,     0.64335,     0.63719,     0.63616,     0.63371,     0.62988,     0.62988,     0.62791,     0.62791,     0.62118,     0.62118,     0.62118,     0.62024,\n",
       "            0.61572,     0.61572,     0.61572,     0.61547,     0.61325,     0.60888,     0.60888,     0.60888,      0.6046,      0.6046,      0.6046,     0.60166,     0.60166,     0.60145,     0.59692,     0.59692,     0.59551,     0.58576,     0.58325,     0.58325,      0.5825,     0.57493,     0.57379,\n",
       "            0.57379,     0.57379,     0.57379,     0.57379,     0.56978,     0.56978,     0.56801,     0.56679,     0.56505,     0.56493,     0.56493,     0.56481,     0.56309,     0.56191,     0.56191,       0.557,       0.557,     0.55638,     0.55576,     0.55576,     0.55515,     0.55495,     0.55495,\n",
       "            0.55495,     0.55484,     0.55072,     0.54865,     0.54865,     0.54758,     0.53833,     0.53264,     0.53258,     0.53258,     0.52885,     0.52251,     0.51205,     0.51205,     0.50615,     0.50408,     0.49799,     0.49245,     0.49245,     0.49091,     0.47923,     0.47923,     0.47923,\n",
       "            0.47525,     0.47099,     0.46682,     0.46103,     0.46103,     0.45873,     0.45712,     0.45685,     0.45685,     0.45625,     0.45533,     0.45441,     0.45441,     0.45253,      0.4494,     0.44694,     0.44175,     0.44175,        0.44,     0.43948,      0.4261,      0.4261,      0.4206,\n",
       "            0.41404,     0.41404,     0.41282,     0.41282,     0.41083,     0.40938,     0.40463,     0.40463,     0.40399,     0.40111,     0.39634,     0.38995,     0.38995,     0.38995,     0.38367,     0.36013,     0.36013,     0.34693,     0.34202,     0.32932,     0.32736,     0.32736,     0.32256,\n",
       "            0.31746,     0.31627,     0.31627,     0.31434,     0.30967,     0.30543,     0.30543,     0.30009,     0.29839,     0.29324,     0.29324,     0.29324,     0.26643,     0.26162,     0.25455,     0.25455,     0.24543,     0.23925,     0.23649,     0.23429,     0.23429,     0.21828,     0.21782,\n",
       "            0.21585,     0.21585,     0.20452,     0.20451,     0.19722,     0.19521,     0.19521,     0.19521,     0.19521,     0.18845,     0.18845,     0.18288,     0.18017,     0.17343,     0.17165,     0.17165,     0.16129,     0.15984,     0.15956,     0.15956,     0.15862,      0.1583,     0.14759,\n",
       "            0.14759,     0.14458,     0.14061,     0.10745,      0.1068,      0.1068,    0.097779,    0.097321,    0.095345,    0.094331,    0.093316,    0.092302,    0.091288,    0.090274,    0.089259,    0.088245,    0.087231,    0.086216,    0.085202,    0.084188,    0.083173,    0.082159,    0.081145,\n",
       "            0.08013,    0.079116,    0.078102,    0.077088,    0.076073,    0.075059,    0.074045,     0.07303,    0.072016,    0.071002,    0.069987,    0.068973,    0.067959,    0.066944,     0.06593,    0.064916,    0.063902,    0.062887,    0.061873,    0.060859,    0.059844,     0.05883,    0.057816,\n",
       "           0.056801,    0.055787,    0.054773,    0.053758,    0.052744,     0.05173,    0.050715,    0.049701,    0.048687,    0.047673,    0.046658,    0.045644,     0.04463,    0.043615,    0.042601,    0.041587,    0.040572,    0.039558,    0.038544,    0.037529,    0.036515,    0.035501,    0.034487,\n",
       "           0.033472,    0.032458,    0.031444,    0.030429,    0.029415,    0.028401,    0.027386,    0.026372,    0.025358,    0.024343,    0.023329,    0.022315,    0.021301,    0.020286,    0.019272,    0.018258,    0.017243,    0.016229,    0.015215,      0.0142,    0.013186,    0.012172,    0.011157,\n",
       "           0.010143,   0.0091288,   0.0081145,   0.0071002,   0.0060859,   0.0050715,   0.0040572,   0.0030429,   0.0020286,   0.0010143,           0]]), 'Recall', 'Precision'], [array([          0,    0.001001,    0.002002,    0.003003,    0.004004,    0.005005,    0.006006,    0.007007,    0.008008,    0.009009,     0.01001,    0.011011,    0.012012,    0.013013,    0.014014,    0.015015,    0.016016,    0.017017,    0.018018,    0.019019,     0.02002,    0.021021,    0.022022,    0.023023,\n",
       "          0.024024,    0.025025,    0.026026,    0.027027,    0.028028,    0.029029,     0.03003,    0.031031,    0.032032,    0.033033,    0.034034,    0.035035,    0.036036,    0.037037,    0.038038,    0.039039,     0.04004,    0.041041,    0.042042,    0.043043,    0.044044,    0.045045,    0.046046,    0.047047,\n",
       "          0.048048,    0.049049,     0.05005,    0.051051,    0.052052,    0.053053,    0.054054,    0.055055,    0.056056,    0.057057,    0.058058,    0.059059,     0.06006,    0.061061,    0.062062,    0.063063,    0.064064,    0.065065,    0.066066,    0.067067,    0.068068,    0.069069,     0.07007,    0.071071,\n",
       "          0.072072,    0.073073,    0.074074,    0.075075,    0.076076,    0.077077,    0.078078,    0.079079,     0.08008,    0.081081,    0.082082,    0.083083,    0.084084,    0.085085,    0.086086,    0.087087,    0.088088,    0.089089,     0.09009,    0.091091,    0.092092,    0.093093,    0.094094,    0.095095,\n",
       "          0.096096,    0.097097,    0.098098,    0.099099,      0.1001,      0.1011,      0.1021,      0.1031,      0.1041,     0.10511,     0.10611,     0.10711,     0.10811,     0.10911,     0.11011,     0.11111,     0.11211,     0.11311,     0.11411,     0.11512,     0.11612,     0.11712,     0.11812,     0.11912,\n",
       "           0.12012,     0.12112,     0.12212,     0.12312,     0.12412,     0.12513,     0.12613,     0.12713,     0.12813,     0.12913,     0.13013,     0.13113,     0.13213,     0.13313,     0.13413,     0.13514,     0.13614,     0.13714,     0.13814,     0.13914,     0.14014,     0.14114,     0.14214,     0.14314,\n",
       "           0.14414,     0.14515,     0.14615,     0.14715,     0.14815,     0.14915,     0.15015,     0.15115,     0.15215,     0.15315,     0.15415,     0.15516,     0.15616,     0.15716,     0.15816,     0.15916,     0.16016,     0.16116,     0.16216,     0.16316,     0.16416,     0.16517,     0.16617,     0.16717,\n",
       "           0.16817,     0.16917,     0.17017,     0.17117,     0.17217,     0.17317,     0.17417,     0.17518,     0.17618,     0.17718,     0.17818,     0.17918,     0.18018,     0.18118,     0.18218,     0.18318,     0.18418,     0.18519,     0.18619,     0.18719,     0.18819,     0.18919,     0.19019,     0.19119,\n",
       "           0.19219,     0.19319,     0.19419,      0.1952,      0.1962,      0.1972,      0.1982,      0.1992,      0.2002,      0.2012,      0.2022,      0.2032,      0.2042,     0.20521,     0.20621,     0.20721,     0.20821,     0.20921,     0.21021,     0.21121,     0.21221,     0.21321,     0.21421,     0.21522,\n",
       "           0.21622,     0.21722,     0.21822,     0.21922,     0.22022,     0.22122,     0.22222,     0.22322,     0.22422,     0.22523,     0.22623,     0.22723,     0.22823,     0.22923,     0.23023,     0.23123,     0.23223,     0.23323,     0.23423,     0.23524,     0.23624,     0.23724,     0.23824,     0.23924,\n",
       "           0.24024,     0.24124,     0.24224,     0.24324,     0.24424,     0.24525,     0.24625,     0.24725,     0.24825,     0.24925,     0.25025,     0.25125,     0.25225,     0.25325,     0.25425,     0.25526,     0.25626,     0.25726,     0.25826,     0.25926,     0.26026,     0.26126,     0.26226,     0.26326,\n",
       "           0.26426,     0.26527,     0.26627,     0.26727,     0.26827,     0.26927,     0.27027,     0.27127,     0.27227,     0.27327,     0.27427,     0.27528,     0.27628,     0.27728,     0.27828,     0.27928,     0.28028,     0.28128,     0.28228,     0.28328,     0.28428,     0.28529,     0.28629,     0.28729,\n",
       "           0.28829,     0.28929,     0.29029,     0.29129,     0.29229,     0.29329,     0.29429,      0.2953,      0.2963,      0.2973,      0.2983,      0.2993,      0.3003,      0.3013,      0.3023,      0.3033,      0.3043,     0.30531,     0.30631,     0.30731,     0.30831,     0.30931,     0.31031,     0.31131,\n",
       "           0.31231,     0.31331,     0.31431,     0.31532,     0.31632,     0.31732,     0.31832,     0.31932,     0.32032,     0.32132,     0.32232,     0.32332,     0.32432,     0.32533,     0.32633,     0.32733,     0.32833,     0.32933,     0.33033,     0.33133,     0.33233,     0.33333,     0.33433,     0.33534,\n",
       "           0.33634,     0.33734,     0.33834,     0.33934,     0.34034,     0.34134,     0.34234,     0.34334,     0.34434,     0.34535,     0.34635,     0.34735,     0.34835,     0.34935,     0.35035,     0.35135,     0.35235,     0.35335,     0.35435,     0.35536,     0.35636,     0.35736,     0.35836,     0.35936,\n",
       "           0.36036,     0.36136,     0.36236,     0.36336,     0.36436,     0.36537,     0.36637,     0.36737,     0.36837,     0.36937,     0.37037,     0.37137,     0.37237,     0.37337,     0.37437,     0.37538,     0.37638,     0.37738,     0.37838,     0.37938,     0.38038,     0.38138,     0.38238,     0.38338,\n",
       "           0.38438,     0.38539,     0.38639,     0.38739,     0.38839,     0.38939,     0.39039,     0.39139,     0.39239,     0.39339,     0.39439,      0.3954,      0.3964,      0.3974,      0.3984,      0.3994,      0.4004,      0.4014,      0.4024,      0.4034,      0.4044,     0.40541,     0.40641,     0.40741,\n",
       "           0.40841,     0.40941,     0.41041,     0.41141,     0.41241,     0.41341,     0.41441,     0.41542,     0.41642,     0.41742,     0.41842,     0.41942,     0.42042,     0.42142,     0.42242,     0.42342,     0.42442,     0.42543,     0.42643,     0.42743,     0.42843,     0.42943,     0.43043,     0.43143,\n",
       "           0.43243,     0.43343,     0.43443,     0.43544,     0.43644,     0.43744,     0.43844,     0.43944,     0.44044,     0.44144,     0.44244,     0.44344,     0.44444,     0.44545,     0.44645,     0.44745,     0.44845,     0.44945,     0.45045,     0.45145,     0.45245,     0.45345,     0.45445,     0.45546,\n",
       "           0.45646,     0.45746,     0.45846,     0.45946,     0.46046,     0.46146,     0.46246,     0.46346,     0.46446,     0.46547,     0.46647,     0.46747,     0.46847,     0.46947,     0.47047,     0.47147,     0.47247,     0.47347,     0.47447,     0.47548,     0.47648,     0.47748,     0.47848,     0.47948,\n",
       "           0.48048,     0.48148,     0.48248,     0.48348,     0.48448,     0.48549,     0.48649,     0.48749,     0.48849,     0.48949,     0.49049,     0.49149,     0.49249,     0.49349,     0.49449,      0.4955,      0.4965,      0.4975,      0.4985,      0.4995,      0.5005,      0.5015,      0.5025,      0.5035,\n",
       "            0.5045,     0.50551,     0.50651,     0.50751,     0.50851,     0.50951,     0.51051,     0.51151,     0.51251,     0.51351,     0.51451,     0.51552,     0.51652,     0.51752,     0.51852,     0.51952,     0.52052,     0.52152,     0.52252,     0.52352,     0.52452,     0.52553,     0.52653,     0.52753,\n",
       "           0.52853,     0.52953,     0.53053,     0.53153,     0.53253,     0.53353,     0.53453,     0.53554,     0.53654,     0.53754,     0.53854,     0.53954,     0.54054,     0.54154,     0.54254,     0.54354,     0.54454,     0.54555,     0.54655,     0.54755,     0.54855,     0.54955,     0.55055,     0.55155,\n",
       "           0.55255,     0.55355,     0.55455,     0.55556,     0.55656,     0.55756,     0.55856,     0.55956,     0.56056,     0.56156,     0.56256,     0.56356,     0.56456,     0.56557,     0.56657,     0.56757,     0.56857,     0.56957,     0.57057,     0.57157,     0.57257,     0.57357,     0.57457,     0.57558,\n",
       "           0.57658,     0.57758,     0.57858,     0.57958,     0.58058,     0.58158,     0.58258,     0.58358,     0.58458,     0.58559,     0.58659,     0.58759,     0.58859,     0.58959,     0.59059,     0.59159,     0.59259,     0.59359,     0.59459,      0.5956,      0.5966,      0.5976,      0.5986,      0.5996,\n",
       "            0.6006,      0.6016,      0.6026,      0.6036,      0.6046,     0.60561,     0.60661,     0.60761,     0.60861,     0.60961,     0.61061,     0.61161,     0.61261,     0.61361,     0.61461,     0.61562,     0.61662,     0.61762,     0.61862,     0.61962,     0.62062,     0.62162,     0.62262,     0.62362,\n",
       "           0.62462,     0.62563,     0.62663,     0.62763,     0.62863,     0.62963,     0.63063,     0.63163,     0.63263,     0.63363,     0.63463,     0.63564,     0.63664,     0.63764,     0.63864,     0.63964,     0.64064,     0.64164,     0.64264,     0.64364,     0.64464,     0.64565,     0.64665,     0.64765,\n",
       "           0.64865,     0.64965,     0.65065,     0.65165,     0.65265,     0.65365,     0.65465,     0.65566,     0.65666,     0.65766,     0.65866,     0.65966,     0.66066,     0.66166,     0.66266,     0.66366,     0.66466,     0.66567,     0.66667,     0.66767,     0.66867,     0.66967,     0.67067,     0.67167,\n",
       "           0.67267,     0.67367,     0.67467,     0.67568,     0.67668,     0.67768,     0.67868,     0.67968,     0.68068,     0.68168,     0.68268,     0.68368,     0.68468,     0.68569,     0.68669,     0.68769,     0.68869,     0.68969,     0.69069,     0.69169,     0.69269,     0.69369,     0.69469,      0.6957,\n",
       "            0.6967,      0.6977,      0.6987,      0.6997,      0.7007,      0.7017,      0.7027,      0.7037,      0.7047,     0.70571,     0.70671,     0.70771,     0.70871,     0.70971,     0.71071,     0.71171,     0.71271,     0.71371,     0.71471,     0.71572,     0.71672,     0.71772,     0.71872,     0.71972,\n",
       "           0.72072,     0.72172,     0.72272,     0.72372,     0.72472,     0.72573,     0.72673,     0.72773,     0.72873,     0.72973,     0.73073,     0.73173,     0.73273,     0.73373,     0.73473,     0.73574,     0.73674,     0.73774,     0.73874,     0.73974,     0.74074,     0.74174,     0.74274,     0.74374,\n",
       "           0.74474,     0.74575,     0.74675,     0.74775,     0.74875,     0.74975,     0.75075,     0.75175,     0.75275,     0.75375,     0.75475,     0.75576,     0.75676,     0.75776,     0.75876,     0.75976,     0.76076,     0.76176,     0.76276,     0.76376,     0.76476,     0.76577,     0.76677,     0.76777,\n",
       "           0.76877,     0.76977,     0.77077,     0.77177,     0.77277,     0.77377,     0.77477,     0.77578,     0.77678,     0.77778,     0.77878,     0.77978,     0.78078,     0.78178,     0.78278,     0.78378,     0.78478,     0.78579,     0.78679,     0.78779,     0.78879,     0.78979,     0.79079,     0.79179,\n",
       "           0.79279,     0.79379,     0.79479,      0.7958,      0.7968,      0.7978,      0.7988,      0.7998,      0.8008,      0.8018,      0.8028,      0.8038,      0.8048,     0.80581,     0.80681,     0.80781,     0.80881,     0.80981,     0.81081,     0.81181,     0.81281,     0.81381,     0.81481,     0.81582,\n",
       "           0.81682,     0.81782,     0.81882,     0.81982,     0.82082,     0.82182,     0.82282,     0.82382,     0.82482,     0.82583,     0.82683,     0.82783,     0.82883,     0.82983,     0.83083,     0.83183,     0.83283,     0.83383,     0.83483,     0.83584,     0.83684,     0.83784,     0.83884,     0.83984,\n",
       "           0.84084,     0.84184,     0.84284,     0.84384,     0.84484,     0.84585,     0.84685,     0.84785,     0.84885,     0.84985,     0.85085,     0.85185,     0.85285,     0.85385,     0.85485,     0.85586,     0.85686,     0.85786,     0.85886,     0.85986,     0.86086,     0.86186,     0.86286,     0.86386,\n",
       "           0.86486,     0.86587,     0.86687,     0.86787,     0.86887,     0.86987,     0.87087,     0.87187,     0.87287,     0.87387,     0.87487,     0.87588,     0.87688,     0.87788,     0.87888,     0.87988,     0.88088,     0.88188,     0.88288,     0.88388,     0.88488,     0.88589,     0.88689,     0.88789,\n",
       "           0.88889,     0.88989,     0.89089,     0.89189,     0.89289,     0.89389,     0.89489,      0.8959,      0.8969,      0.8979,      0.8989,      0.8999,      0.9009,      0.9019,      0.9029,      0.9039,      0.9049,     0.90591,     0.90691,     0.90791,     0.90891,     0.90991,     0.91091,     0.91191,\n",
       "           0.91291,     0.91391,     0.91491,     0.91592,     0.91692,     0.91792,     0.91892,     0.91992,     0.92092,     0.92192,     0.92292,     0.92392,     0.92492,     0.92593,     0.92693,     0.92793,     0.92893,     0.92993,     0.93093,     0.93193,     0.93293,     0.93393,     0.93493,     0.93594,\n",
       "           0.93694,     0.93794,     0.93894,     0.93994,     0.94094,     0.94194,     0.94294,     0.94394,     0.94494,     0.94595,     0.94695,     0.94795,     0.94895,     0.94995,     0.95095,     0.95195,     0.95295,     0.95395,     0.95495,     0.95596,     0.95696,     0.95796,     0.95896,     0.95996,\n",
       "           0.96096,     0.96196,     0.96296,     0.96396,     0.96496,     0.96597,     0.96697,     0.96797,     0.96897,     0.96997,     0.97097,     0.97197,     0.97297,     0.97397,     0.97497,     0.97598,     0.97698,     0.97798,     0.97898,     0.97998,     0.98098,     0.98198,     0.98298,     0.98398,\n",
       "           0.98498,     0.98599,     0.98699,     0.98799,     0.98899,     0.98999,     0.99099,     0.99199,     0.99299,     0.99399,     0.99499,       0.996,       0.997,       0.998,       0.999,           1]), array([[    0.17289,     0.17289,     0.22325,     0.25746,     0.28278,     0.30311,     0.32033,     0.33365,     0.34702,     0.35854,     0.37043,     0.38015,     0.38916,     0.39713,     0.40658,     0.41362,     0.42358,     0.43063,     0.43743,     0.44474,     0.45194,     0.45631,     0.46155,\n",
       "            0.46457,     0.46914,     0.47329,     0.47734,     0.48455,     0.48813,     0.49172,     0.49786,     0.50137,     0.50416,     0.50861,     0.51138,     0.51595,     0.52082,     0.52448,     0.52925,     0.53029,     0.53291,     0.53469,     0.53669,     0.53883,     0.54123,     0.54489,\n",
       "            0.54564,     0.54903,     0.55127,     0.55283,     0.55486,      0.5571,     0.55849,      0.5622,     0.56382,     0.56594,      0.5693,     0.57129,     0.57339,     0.57422,     0.57529,      0.5775,     0.57817,     0.58091,     0.58271,     0.58397,      0.5845,     0.58525,      0.5875,\n",
       "            0.58839,      0.5914,     0.59159,     0.59269,     0.59457,     0.59679,     0.59776,     0.59777,     0.59949,      0.6003,     0.60197,     0.60291,     0.60531,     0.60722,     0.60814,     0.60863,     0.60993,      0.6112,     0.61309,     0.61321,     0.61518,       0.618,     0.61856,\n",
       "            0.61946,     0.62011,     0.62137,     0.62308,     0.62412,     0.62473,     0.62692,     0.62976,     0.63029,     0.63285,     0.63413,     0.63429,     0.63539,     0.63575,     0.63659,     0.63617,     0.63737,       0.639,      0.6398,     0.63996,     0.64118,     0.64208,     0.64368,\n",
       "            0.64528,      0.6456,     0.64644,     0.64727,     0.64775,     0.64878,      0.6493,     0.64906,      0.6486,     0.64867,      0.6487,     0.64806,     0.64905,     0.64986,     0.65027,     0.65128,     0.65073,     0.65178,     0.65106,     0.65089,     0.65123,     0.65169,     0.65149,\n",
       "            0.65221,     0.65179,     0.65252,     0.65291,     0.65236,     0.65266,     0.65375,     0.65485,      0.6537,     0.65337,     0.65392,     0.65424,     0.65553,      0.6567,     0.65742,      0.6579,      0.6577,     0.65793,     0.65837,     0.65853,     0.65876,     0.65924,     0.65947,\n",
       "            0.66008,     0.66048,      0.6609,     0.66182,     0.66258,     0.66403,     0.66472,     0.66466,     0.66498,     0.66714,     0.66753,     0.66744,     0.66733,      0.6665,     0.66713,     0.66746,     0.66752,     0.66678,     0.66836,     0.66961,     0.66855,      0.6691,      0.6698,\n",
       "            0.66991,     0.67002,     0.67013,     0.67057,     0.67079,     0.67103,     0.67118,      0.6709,     0.67195,     0.67141,     0.67116,     0.67061,      0.6706,     0.67092,     0.67222,     0.67276,     0.67276,     0.67336,     0.67296,     0.67254,     0.67189,     0.67236,     0.67335,\n",
       "            0.67369,     0.67504,     0.67563,     0.67607,     0.67489,     0.67605,     0.67574,     0.67651,      0.6774,     0.67836,      0.6787,     0.67848,     0.67828,     0.67891,     0.67953,     0.68028,     0.68115,     0.68091,      0.6812,     0.68081,     0.68101,     0.68053,     0.68156,\n",
       "            0.68135,     0.68195,     0.68237,     0.68191,     0.68253,     0.68276,     0.68291,      0.6839,     0.68409,     0.68428,     0.68559,     0.68574,     0.68589,     0.68483,     0.68502,     0.68533,     0.68557,     0.68645,     0.68624,     0.68687,     0.68711,      0.6873,      0.6877,\n",
       "            0.68871,     0.68918,     0.68944,     0.68975,      0.6902,     0.69122,      0.6923,     0.69202,     0.69348,     0.69488,     0.69585,     0.69645,     0.69705,     0.69765,     0.69754,     0.69771,     0.69805,     0.69912,     0.69946,     0.69966,     0.70029,     0.70048,     0.70094,\n",
       "            0.70025,     0.69931,     0.70021,     0.70048,     0.70062,     0.70076,     0.70093,     0.70098,     0.70091,     0.70096,     0.70047,     0.70076,     0.70102,     0.70199,     0.70337,     0.70361,     0.70373,     0.70389,     0.70423,      0.7046,     0.70514,     0.70458,     0.70586,\n",
       "            0.70618,     0.70691,     0.70712,     0.70714,      0.7067,     0.70567,     0.70594,     0.70593,     0.70576,      0.7056,     0.70543,     0.70527,     0.70535,     0.70568,     0.70517,     0.70458,     0.70511,     0.70565,     0.70537,     0.70586,     0.70708,     0.70699,     0.70564,\n",
       "            0.70578,     0.70592,     0.70609,     0.70747,     0.70766,     0.70786,     0.70731,     0.70669,     0.70531,     0.70507,     0.70506,     0.70482,     0.70472,     0.70421,     0.70352,       0.704,     0.70481,     0.70499,     0.70516,     0.70463,     0.70367,     0.70303,     0.70228,\n",
       "            0.70326,     0.70262,     0.70222,      0.7021,      0.7032,     0.70294,     0.70294,     0.70344,     0.70404,     0.70466,     0.70414,     0.70385,     0.70343,      0.7036,     0.70346,     0.70371,     0.70446,     0.70468,     0.70443,     0.70419,     0.70394,     0.70424,     0.70412,\n",
       "            0.70441,     0.70489,     0.70462,     0.70473,     0.70424,      0.7048,     0.70571,     0.70596,     0.70637,     0.70673,     0.70702,     0.70751,       0.707,     0.70676,     0.70727,     0.70769,     0.70794,     0.70731,      0.7076,     0.70836,     0.70861,     0.70802,     0.70828,\n",
       "            0.70874,     0.70781,     0.70695,     0.70681,     0.70667,     0.70653,     0.70639,     0.70626,     0.70612,     0.70642,     0.70617,     0.70592,     0.70567,     0.70606,     0.70629,     0.70648,     0.70555,     0.70475,     0.70452,     0.70429,     0.70405,     0.70404,     0.70341,\n",
       "            0.70325,     0.70309,     0.70292,     0.70276,      0.7026,     0.70271,     0.70224,     0.70302,     0.70353,      0.7032,     0.70241,      0.7025,     0.70186,     0.70099,     0.70051,     0.70003,     0.69956,     0.69894,     0.69843,     0.69886,     0.69912,     0.69954,     0.69947,\n",
       "            0.69899,     0.69903,     0.69928,      0.6988,     0.69955,     0.69973,      0.6999,     0.70036,     0.70088,     0.70023,     0.70049,       0.701,     0.70009,     0.69989,     0.70066,     0.70093,     0.70108,     0.69834,     0.69853,     0.69872,     0.69842,     0.69648,     0.69661,\n",
       "            0.69687,     0.69764,      0.6979,     0.69839,     0.69814,      0.6979,     0.69765,     0.69769,     0.69786,     0.69804,     0.69848,     0.69688,     0.69584,     0.69534,     0.69549,     0.69575,     0.69602,     0.69628,     0.69537,     0.69388,      0.6934,     0.69366,     0.69392,\n",
       "            0.69405,     0.69418,     0.69431,     0.69252,     0.69279,     0.69181,     0.69117,      0.6913,     0.69063,     0.69081,     0.69099,     0.69129,     0.69176,     0.69127,     0.69026,     0.68948,     0.68897,     0.68951,     0.68923,     0.68906,     0.68772,      0.6867,     0.68569,\n",
       "            0.68619,     0.68568,     0.68218,     0.68152,       0.681,     0.68129,     0.68161,     0.68188,     0.67904,       0.678,     0.67766,      0.6774,     0.67714,     0.67688,     0.67587,     0.67613,     0.67641,     0.67695,     0.67637,     0.67611,     0.67585,     0.67559,     0.67544,\n",
       "            0.67571,     0.67564,     0.67357,     0.67268,     0.67215,     0.67163,      0.6711,       0.671,     0.66983,     0.66877,     0.66796,     0.66744,     0.66691,     0.66637,     0.66377,     0.66324,     0.66289,     0.66182,     0.66022,     0.65742,     0.65688,     0.65594,     0.65485,\n",
       "            0.65442,     0.65415,     0.65387,      0.6536,     0.65155,     0.64993,     0.64884,     0.64852,     0.64904,     0.64901,     0.64864,     0.64699,     0.64588,     0.64529,     0.64311,     0.64288,     0.64233,     0.64307,     0.64237,     0.64168,     0.64113,     0.64146,     0.64107,\n",
       "            0.64051,     0.63983,     0.63884,     0.63818,     0.63711,     0.63555,      0.6351,     0.63458,     0.63402,     0.63411,     0.63463,     0.63516,     0.63508,      0.6347,     0.63432,     0.63227,     0.63113,     0.63131,     0.63047,      0.6294,     0.62966,     0.62699,     0.62616,\n",
       "            0.62578,      0.6254,      0.6244,     0.62401,     0.62363,     0.62361,     0.62388,     0.62403,      0.6243,     0.62314,     0.62256,     0.62224,     0.62162,     0.62243,     0.62214,     0.62185,     0.62156,     0.62108,      0.6203,     0.61957,     0.61849,     0.61817,     0.61787,\n",
       "            0.61758,     0.61723,     0.61608,      0.6153,     0.61426,     0.61307,     0.61229,     0.61169,     0.60943,     0.60903,     0.60863,     0.60686,     0.60623,     0.60614,      0.6056,     0.60599,      0.6062,     0.60641,     0.60576,     0.60515,     0.60456,     0.60429,     0.60402,\n",
       "            0.60375,     0.60348,      0.6026,     0.60069,      0.6002,     0.59954,     0.59878,      0.5988,     0.59809,     0.59711,     0.59662,     0.59612,     0.59443,     0.59394,     0.59311,     0.59151,     0.59145,     0.59084,     0.58572,     0.58598,     0.58627,     0.58654,     0.58555,\n",
       "            0.58589,     0.58512,     0.58492,     0.58442,     0.58297,     0.58184,       0.581,     0.58102,     0.58119,     0.58136,      0.5806,     0.57985,     0.57922,     0.57774,     0.57693,     0.57708,     0.57723,     0.57737,     0.57753,     0.57689,     0.57534,     0.57483,     0.57432,\n",
       "            0.57245,     0.57181,     0.57147,     0.57122,     0.57096,      0.5707,     0.57044,     0.56974,     0.56918,     0.56866,     0.56797,     0.56708,     0.56589,     0.56624,      0.5665,      0.5667,     0.56666,     0.56511,     0.56279,     0.56242,     0.56205,     0.56181,     0.56191,\n",
       "            0.56201,     0.56211,     0.56222,     0.56064,     0.55976,     0.55889,     0.55598,     0.55623,     0.55612,     0.55568,     0.55523,     0.55452,     0.55364,     0.55275,     0.55157,     0.54979,     0.54946,     0.54913,     0.54879,     0.54815,     0.54565,     0.54475,     0.54385,\n",
       "            0.54194,     0.54088,     0.54021,     0.53655,     0.53634,     0.53501,     0.53446,     0.53391,      0.5339,      0.5338,     0.53195,     0.52904,     0.52737,     0.52635,     0.52601,     0.52566,     0.52531,     0.52313,      0.5188,     0.51914,     0.51939,     0.51971,     0.52004,\n",
       "            0.52037,     0.51944,     0.51135,     0.51019,     0.50767,     0.50625,     0.50578,      0.5053,     0.50396,     0.50443,     0.50033,     0.49975,     0.49917,     0.49624,      0.4956,     0.49248,     0.49199,      0.4915,     0.48901,     0.48622,     0.48327,     0.48231,     0.48236,\n",
       "            0.48162,     0.47898,     0.47641,     0.47673,     0.47634,     0.47559,     0.47324,     0.47177,     0.46374,     0.46297,     0.46212,     0.46109,     0.45658,     0.45581,     0.45407,     0.45186,     0.45082,     0.44518,     0.44386,     0.44102,     0.43838,     0.43575,     0.43495,\n",
       "            0.43415,     0.43335,     0.42659,     0.42141,     0.41934,     0.41766,     0.41264,     0.41154,      0.4058,     0.40164,     0.40052,      0.3974,     0.39005,     0.38892,     0.38225,     0.37998,     0.37873,     0.37059,     0.36863,     0.36776,     0.36218,     0.35413,     0.35252,\n",
       "            0.35163,      0.3466,     0.34119,     0.34039,     0.33987,     0.33935,      0.3377,     0.33298,     0.33115,     0.32959,     0.32836,     0.32294,     0.31726,     0.31679,     0.31633,     0.31586,     0.31272,     0.30818,     0.30693,     0.30074,     0.29947,     0.29262,     0.28569,\n",
       "             0.2844,     0.27723,      0.2663,     0.26485,     0.26353,     0.25674,     0.25277,     0.24983,     0.24579,     0.23807,      0.2367,     0.22574,     0.22157,     0.21866,     0.21524,     0.20897,     0.20617,     0.19691,     0.19548,     0.19194,      0.1905,     0.18906,     0.18237,\n",
       "             0.1815,     0.18063,      0.1723,     0.16571,     0.15908,     0.15349,     0.14352,     0.14238,       0.141,     0.13776,     0.13182,     0.12866,     0.12635,     0.12175,     0.11942,     0.11708,       0.109,     0.10363,    0.098453,    0.092552,    0.088085,    0.086475,     0.08058,\n",
       "           0.078782,    0.077807,     0.07683,    0.067139,    0.063957,    0.054784,    0.050012,    0.047678,    0.046671,    0.045662,    0.043621,    0.039688,    0.038673,    0.037929,     0.03794,     0.03795,    0.037959,    0.037969,    0.037995,    0.035917,    0.032247,    0.031392,    0.030536,\n",
       "           0.029252,    0.027784,     0.02527,    0.024839,    0.024409,    0.023978,    0.023547,    0.023116,    0.021161,    0.017383,    0.016639,    0.015895,    0.013738,    0.011971,    0.010924,    0.010028,   0.0093723,   0.0087161,   0.0080595,   0.0075942,   0.0073313,   0.0070683,   0.0068053,\n",
       "          0.0065422,    0.006279,   0.0060158,   0.0057525,   0.0054891,   0.0052257,   0.0046733,    0.004014,   0.0033543,   0.0026942,           0,           0,           0,           0,           0,           0,           0,           0,           0,           0,           0,           0,           0,\n",
       "                  0,           0,           0,           0,           0,           0,           0,           0,           0,           0,           0,           0,           0,           0,           0,           0,           0,           0,           0,           0,           0,           0,           0,\n",
       "                  0,           0,           0,           0,           0,           0,           0,           0,           0,           0,           0]]), 'Confidence', 'F1'], [array([          0,    0.001001,    0.002002,    0.003003,    0.004004,    0.005005,    0.006006,    0.007007,    0.008008,    0.009009,     0.01001,    0.011011,    0.012012,    0.013013,    0.014014,    0.015015,    0.016016,    0.017017,    0.018018,    0.019019,     0.02002,    0.021021,    0.022022,    0.023023,\n",
       "          0.024024,    0.025025,    0.026026,    0.027027,    0.028028,    0.029029,     0.03003,    0.031031,    0.032032,    0.033033,    0.034034,    0.035035,    0.036036,    0.037037,    0.038038,    0.039039,     0.04004,    0.041041,    0.042042,    0.043043,    0.044044,    0.045045,    0.046046,    0.047047,\n",
       "          0.048048,    0.049049,     0.05005,    0.051051,    0.052052,    0.053053,    0.054054,    0.055055,    0.056056,    0.057057,    0.058058,    0.059059,     0.06006,    0.061061,    0.062062,    0.063063,    0.064064,    0.065065,    0.066066,    0.067067,    0.068068,    0.069069,     0.07007,    0.071071,\n",
       "          0.072072,    0.073073,    0.074074,    0.075075,    0.076076,    0.077077,    0.078078,    0.079079,     0.08008,    0.081081,    0.082082,    0.083083,    0.084084,    0.085085,    0.086086,    0.087087,    0.088088,    0.089089,     0.09009,    0.091091,    0.092092,    0.093093,    0.094094,    0.095095,\n",
       "          0.096096,    0.097097,    0.098098,    0.099099,      0.1001,      0.1011,      0.1021,      0.1031,      0.1041,     0.10511,     0.10611,     0.10711,     0.10811,     0.10911,     0.11011,     0.11111,     0.11211,     0.11311,     0.11411,     0.11512,     0.11612,     0.11712,     0.11812,     0.11912,\n",
       "           0.12012,     0.12112,     0.12212,     0.12312,     0.12412,     0.12513,     0.12613,     0.12713,     0.12813,     0.12913,     0.13013,     0.13113,     0.13213,     0.13313,     0.13413,     0.13514,     0.13614,     0.13714,     0.13814,     0.13914,     0.14014,     0.14114,     0.14214,     0.14314,\n",
       "           0.14414,     0.14515,     0.14615,     0.14715,     0.14815,     0.14915,     0.15015,     0.15115,     0.15215,     0.15315,     0.15415,     0.15516,     0.15616,     0.15716,     0.15816,     0.15916,     0.16016,     0.16116,     0.16216,     0.16316,     0.16416,     0.16517,     0.16617,     0.16717,\n",
       "           0.16817,     0.16917,     0.17017,     0.17117,     0.17217,     0.17317,     0.17417,     0.17518,     0.17618,     0.17718,     0.17818,     0.17918,     0.18018,     0.18118,     0.18218,     0.18318,     0.18418,     0.18519,     0.18619,     0.18719,     0.18819,     0.18919,     0.19019,     0.19119,\n",
       "           0.19219,     0.19319,     0.19419,      0.1952,      0.1962,      0.1972,      0.1982,      0.1992,      0.2002,      0.2012,      0.2022,      0.2032,      0.2042,     0.20521,     0.20621,     0.20721,     0.20821,     0.20921,     0.21021,     0.21121,     0.21221,     0.21321,     0.21421,     0.21522,\n",
       "           0.21622,     0.21722,     0.21822,     0.21922,     0.22022,     0.22122,     0.22222,     0.22322,     0.22422,     0.22523,     0.22623,     0.22723,     0.22823,     0.22923,     0.23023,     0.23123,     0.23223,     0.23323,     0.23423,     0.23524,     0.23624,     0.23724,     0.23824,     0.23924,\n",
       "           0.24024,     0.24124,     0.24224,     0.24324,     0.24424,     0.24525,     0.24625,     0.24725,     0.24825,     0.24925,     0.25025,     0.25125,     0.25225,     0.25325,     0.25425,     0.25526,     0.25626,     0.25726,     0.25826,     0.25926,     0.26026,     0.26126,     0.26226,     0.26326,\n",
       "           0.26426,     0.26527,     0.26627,     0.26727,     0.26827,     0.26927,     0.27027,     0.27127,     0.27227,     0.27327,     0.27427,     0.27528,     0.27628,     0.27728,     0.27828,     0.27928,     0.28028,     0.28128,     0.28228,     0.28328,     0.28428,     0.28529,     0.28629,     0.28729,\n",
       "           0.28829,     0.28929,     0.29029,     0.29129,     0.29229,     0.29329,     0.29429,      0.2953,      0.2963,      0.2973,      0.2983,      0.2993,      0.3003,      0.3013,      0.3023,      0.3033,      0.3043,     0.30531,     0.30631,     0.30731,     0.30831,     0.30931,     0.31031,     0.31131,\n",
       "           0.31231,     0.31331,     0.31431,     0.31532,     0.31632,     0.31732,     0.31832,     0.31932,     0.32032,     0.32132,     0.32232,     0.32332,     0.32432,     0.32533,     0.32633,     0.32733,     0.32833,     0.32933,     0.33033,     0.33133,     0.33233,     0.33333,     0.33433,     0.33534,\n",
       "           0.33634,     0.33734,     0.33834,     0.33934,     0.34034,     0.34134,     0.34234,     0.34334,     0.34434,     0.34535,     0.34635,     0.34735,     0.34835,     0.34935,     0.35035,     0.35135,     0.35235,     0.35335,     0.35435,     0.35536,     0.35636,     0.35736,     0.35836,     0.35936,\n",
       "           0.36036,     0.36136,     0.36236,     0.36336,     0.36436,     0.36537,     0.36637,     0.36737,     0.36837,     0.36937,     0.37037,     0.37137,     0.37237,     0.37337,     0.37437,     0.37538,     0.37638,     0.37738,     0.37838,     0.37938,     0.38038,     0.38138,     0.38238,     0.38338,\n",
       "           0.38438,     0.38539,     0.38639,     0.38739,     0.38839,     0.38939,     0.39039,     0.39139,     0.39239,     0.39339,     0.39439,      0.3954,      0.3964,      0.3974,      0.3984,      0.3994,      0.4004,      0.4014,      0.4024,      0.4034,      0.4044,     0.40541,     0.40641,     0.40741,\n",
       "           0.40841,     0.40941,     0.41041,     0.41141,     0.41241,     0.41341,     0.41441,     0.41542,     0.41642,     0.41742,     0.41842,     0.41942,     0.42042,     0.42142,     0.42242,     0.42342,     0.42442,     0.42543,     0.42643,     0.42743,     0.42843,     0.42943,     0.43043,     0.43143,\n",
       "           0.43243,     0.43343,     0.43443,     0.43544,     0.43644,     0.43744,     0.43844,     0.43944,     0.44044,     0.44144,     0.44244,     0.44344,     0.44444,     0.44545,     0.44645,     0.44745,     0.44845,     0.44945,     0.45045,     0.45145,     0.45245,     0.45345,     0.45445,     0.45546,\n",
       "           0.45646,     0.45746,     0.45846,     0.45946,     0.46046,     0.46146,     0.46246,     0.46346,     0.46446,     0.46547,     0.46647,     0.46747,     0.46847,     0.46947,     0.47047,     0.47147,     0.47247,     0.47347,     0.47447,     0.47548,     0.47648,     0.47748,     0.47848,     0.47948,\n",
       "           0.48048,     0.48148,     0.48248,     0.48348,     0.48448,     0.48549,     0.48649,     0.48749,     0.48849,     0.48949,     0.49049,     0.49149,     0.49249,     0.49349,     0.49449,      0.4955,      0.4965,      0.4975,      0.4985,      0.4995,      0.5005,      0.5015,      0.5025,      0.5035,\n",
       "            0.5045,     0.50551,     0.50651,     0.50751,     0.50851,     0.50951,     0.51051,     0.51151,     0.51251,     0.51351,     0.51451,     0.51552,     0.51652,     0.51752,     0.51852,     0.51952,     0.52052,     0.52152,     0.52252,     0.52352,     0.52452,     0.52553,     0.52653,     0.52753,\n",
       "           0.52853,     0.52953,     0.53053,     0.53153,     0.53253,     0.53353,     0.53453,     0.53554,     0.53654,     0.53754,     0.53854,     0.53954,     0.54054,     0.54154,     0.54254,     0.54354,     0.54454,     0.54555,     0.54655,     0.54755,     0.54855,     0.54955,     0.55055,     0.55155,\n",
       "           0.55255,     0.55355,     0.55455,     0.55556,     0.55656,     0.55756,     0.55856,     0.55956,     0.56056,     0.56156,     0.56256,     0.56356,     0.56456,     0.56557,     0.56657,     0.56757,     0.56857,     0.56957,     0.57057,     0.57157,     0.57257,     0.57357,     0.57457,     0.57558,\n",
       "           0.57658,     0.57758,     0.57858,     0.57958,     0.58058,     0.58158,     0.58258,     0.58358,     0.58458,     0.58559,     0.58659,     0.58759,     0.58859,     0.58959,     0.59059,     0.59159,     0.59259,     0.59359,     0.59459,      0.5956,      0.5966,      0.5976,      0.5986,      0.5996,\n",
       "            0.6006,      0.6016,      0.6026,      0.6036,      0.6046,     0.60561,     0.60661,     0.60761,     0.60861,     0.60961,     0.61061,     0.61161,     0.61261,     0.61361,     0.61461,     0.61562,     0.61662,     0.61762,     0.61862,     0.61962,     0.62062,     0.62162,     0.62262,     0.62362,\n",
       "           0.62462,     0.62563,     0.62663,     0.62763,     0.62863,     0.62963,     0.63063,     0.63163,     0.63263,     0.63363,     0.63463,     0.63564,     0.63664,     0.63764,     0.63864,     0.63964,     0.64064,     0.64164,     0.64264,     0.64364,     0.64464,     0.64565,     0.64665,     0.64765,\n",
       "           0.64865,     0.64965,     0.65065,     0.65165,     0.65265,     0.65365,     0.65465,     0.65566,     0.65666,     0.65766,     0.65866,     0.65966,     0.66066,     0.66166,     0.66266,     0.66366,     0.66466,     0.66567,     0.66667,     0.66767,     0.66867,     0.66967,     0.67067,     0.67167,\n",
       "           0.67267,     0.67367,     0.67467,     0.67568,     0.67668,     0.67768,     0.67868,     0.67968,     0.68068,     0.68168,     0.68268,     0.68368,     0.68468,     0.68569,     0.68669,     0.68769,     0.68869,     0.68969,     0.69069,     0.69169,     0.69269,     0.69369,     0.69469,      0.6957,\n",
       "            0.6967,      0.6977,      0.6987,      0.6997,      0.7007,      0.7017,      0.7027,      0.7037,      0.7047,     0.70571,     0.70671,     0.70771,     0.70871,     0.70971,     0.71071,     0.71171,     0.71271,     0.71371,     0.71471,     0.71572,     0.71672,     0.71772,     0.71872,     0.71972,\n",
       "           0.72072,     0.72172,     0.72272,     0.72372,     0.72472,     0.72573,     0.72673,     0.72773,     0.72873,     0.72973,     0.73073,     0.73173,     0.73273,     0.73373,     0.73473,     0.73574,     0.73674,     0.73774,     0.73874,     0.73974,     0.74074,     0.74174,     0.74274,     0.74374,\n",
       "           0.74474,     0.74575,     0.74675,     0.74775,     0.74875,     0.74975,     0.75075,     0.75175,     0.75275,     0.75375,     0.75475,     0.75576,     0.75676,     0.75776,     0.75876,     0.75976,     0.76076,     0.76176,     0.76276,     0.76376,     0.76476,     0.76577,     0.76677,     0.76777,\n",
       "           0.76877,     0.76977,     0.77077,     0.77177,     0.77277,     0.77377,     0.77477,     0.77578,     0.77678,     0.77778,     0.77878,     0.77978,     0.78078,     0.78178,     0.78278,     0.78378,     0.78478,     0.78579,     0.78679,     0.78779,     0.78879,     0.78979,     0.79079,     0.79179,\n",
       "           0.79279,     0.79379,     0.79479,      0.7958,      0.7968,      0.7978,      0.7988,      0.7998,      0.8008,      0.8018,      0.8028,      0.8038,      0.8048,     0.80581,     0.80681,     0.80781,     0.80881,     0.80981,     0.81081,     0.81181,     0.81281,     0.81381,     0.81481,     0.81582,\n",
       "           0.81682,     0.81782,     0.81882,     0.81982,     0.82082,     0.82182,     0.82282,     0.82382,     0.82482,     0.82583,     0.82683,     0.82783,     0.82883,     0.82983,     0.83083,     0.83183,     0.83283,     0.83383,     0.83483,     0.83584,     0.83684,     0.83784,     0.83884,     0.83984,\n",
       "           0.84084,     0.84184,     0.84284,     0.84384,     0.84484,     0.84585,     0.84685,     0.84785,     0.84885,     0.84985,     0.85085,     0.85185,     0.85285,     0.85385,     0.85485,     0.85586,     0.85686,     0.85786,     0.85886,     0.85986,     0.86086,     0.86186,     0.86286,     0.86386,\n",
       "           0.86486,     0.86587,     0.86687,     0.86787,     0.86887,     0.86987,     0.87087,     0.87187,     0.87287,     0.87387,     0.87487,     0.87588,     0.87688,     0.87788,     0.87888,     0.87988,     0.88088,     0.88188,     0.88288,     0.88388,     0.88488,     0.88589,     0.88689,     0.88789,\n",
       "           0.88889,     0.88989,     0.89089,     0.89189,     0.89289,     0.89389,     0.89489,      0.8959,      0.8969,      0.8979,      0.8989,      0.8999,      0.9009,      0.9019,      0.9029,      0.9039,      0.9049,     0.90591,     0.90691,     0.90791,     0.90891,     0.90991,     0.91091,     0.91191,\n",
       "           0.91291,     0.91391,     0.91491,     0.91592,     0.91692,     0.91792,     0.91892,     0.91992,     0.92092,     0.92192,     0.92292,     0.92392,     0.92492,     0.92593,     0.92693,     0.92793,     0.92893,     0.92993,     0.93093,     0.93193,     0.93293,     0.93393,     0.93493,     0.93594,\n",
       "           0.93694,     0.93794,     0.93894,     0.93994,     0.94094,     0.94194,     0.94294,     0.94394,     0.94494,     0.94595,     0.94695,     0.94795,     0.94895,     0.94995,     0.95095,     0.95195,     0.95295,     0.95395,     0.95495,     0.95596,     0.95696,     0.95796,     0.95896,     0.95996,\n",
       "           0.96096,     0.96196,     0.96296,     0.96396,     0.96496,     0.96597,     0.96697,     0.96797,     0.96897,     0.96997,     0.97097,     0.97197,     0.97297,     0.97397,     0.97497,     0.97598,     0.97698,     0.97798,     0.97898,     0.97998,     0.98098,     0.98198,     0.98298,     0.98398,\n",
       "           0.98498,     0.98599,     0.98699,     0.98799,     0.98899,     0.98999,     0.99099,     0.99199,     0.99299,     0.99399,     0.99499,       0.996,       0.997,       0.998,       0.999,           1]), array([[   0.095569,    0.095569,     0.12742,     0.15031,     0.16809,     0.18287,     0.19581,     0.20607,     0.21644,     0.22565,     0.23525,     0.24335,     0.25089,     0.25767,     0.26581,     0.27199,     0.28066,     0.28689,     0.29325,     0.30004,     0.30695,     0.31116,     0.31623,\n",
       "            0.31943,     0.32396,     0.32812,     0.33222,     0.33925,     0.34298,     0.34676,      0.3529,     0.35643,     0.35926,     0.36403,     0.36688,      0.3716,     0.37668,     0.38052,     0.38583,     0.38693,     0.38983,      0.3922,     0.39435,     0.39696,     0.39958,     0.40393,\n",
       "            0.40531,     0.40906,     0.41218,      0.4149,     0.41718,     0.41972,     0.42163,     0.42588,     0.42809,     0.43054,     0.43443,     0.43676,     0.43959,     0.44093,     0.44257,     0.44519,     0.44598,     0.45004,      0.4526,     0.45452,     0.45556,      0.4577,     0.46087,\n",
       "            0.46239,     0.46612,     0.46678,     0.46815,     0.47051,     0.47374,     0.47496,     0.47543,      0.4776,     0.47955,     0.48168,      0.4829,     0.48597,     0.48844,     0.48964,     0.49027,     0.49245,      0.4946,     0.49707,     0.49774,     0.50033,     0.50408,     0.50535,\n",
       "            0.50707,     0.50794,     0.50963,       0.512,     0.51389,      0.5147,     0.51769,     0.52158,     0.52286,     0.52639,     0.52816,     0.52897,     0.53049,     0.53099,     0.53241,     0.53276,     0.53444,     0.53673,     0.53786,      0.5387,     0.54043,     0.54171,     0.54399,\n",
       "            0.54627,     0.54724,     0.54857,     0.55059,     0.55172,     0.55323,     0.55451,     0.55468,     0.55505,     0.55566,     0.55637,     0.55742,     0.55889,     0.56008,      0.5607,     0.56301,     0.56271,     0.56433,     0.56463,      0.5648,     0.56558,     0.56628,     0.56668,\n",
       "            0.56792,     0.56784,     0.56896,     0.56969,     0.56939,     0.56989,     0.57154,     0.57323,     0.57295,     0.57316,     0.57486,     0.57598,     0.57798,      0.5798,     0.58094,     0.58168,     0.58213,     0.58249,     0.58323,      0.5842,     0.58457,      0.5861,     0.58648,\n",
       "            0.58744,     0.58806,     0.58873,      0.5902,      0.5914,     0.59372,     0.59483,     0.59553,     0.59686,     0.60035,     0.60098,     0.60125,     0.60149,     0.60181,     0.60284,     0.60338,     0.60424,     0.60384,     0.60655,     0.60879,      0.6086,     0.60952,     0.61067,\n",
       "            0.61086,     0.61104,     0.61123,     0.61196,     0.61232,     0.61273,     0.61316,     0.61339,     0.61537,     0.61514,      0.6154,     0.61511,     0.61557,     0.61611,     0.61831,     0.61992,     0.62014,     0.62117,     0.62096,     0.62074,      0.6204,     0.62131,     0.62299,\n",
       "            0.62359,      0.6259,     0.62691,     0.62784,     0.62753,     0.62978,     0.62998,     0.63131,     0.63286,     0.63553,     0.63612,     0.63705,     0.63736,     0.63847,     0.63957,     0.64091,     0.64245,     0.64305,     0.64356,     0.64345,     0.64424,     0.64442,     0.64626,\n",
       "            0.64693,     0.64801,     0.64877,     0.64898,     0.65012,     0.65053,      0.6508,      0.6526,     0.65295,      0.6533,      0.6557,     0.65597,     0.65625,     0.65585,     0.65682,     0.65739,     0.65781,     0.65945,     0.66016,     0.66133,     0.66178,     0.66212,     0.66286,\n",
       "            0.66475,     0.66563,      0.6661,     0.66669,     0.66753,     0.66944,     0.67181,     0.67209,     0.67484,     0.67749,     0.67934,     0.68048,     0.68163,     0.68278,     0.68366,     0.68409,     0.68474,     0.68763,     0.68866,     0.68905,     0.69029,     0.69065,     0.69176,\n",
       "             0.6921,     0.69165,     0.69507,      0.6956,     0.69588,     0.69616,      0.6965,     0.69715,     0.69848,     0.69909,     0.69939,     0.69997,     0.70049,     0.70244,      0.7052,       0.707,     0.70821,     0.70889,     0.70958,     0.71033,     0.71141,      0.7115,     0.71425,\n",
       "            0.71491,     0.71639,     0.71683,     0.71707,     0.71688,     0.71657,     0.71713,     0.71729,     0.71721,     0.71714,     0.71707,     0.71699,      0.7173,     0.71797,     0.71846,     0.71847,     0.71958,     0.72069,     0.72153,     0.72256,     0.72511,     0.72542,     0.72495,\n",
       "            0.72524,     0.72553,     0.72589,     0.72882,     0.72923,     0.72964,      0.7295,     0.73004,     0.72944,     0.72957,     0.73014,     0.73051,      0.7308,     0.73058,     0.73191,     0.73324,       0.735,     0.73539,     0.73577,     0.73569,     0.73528,     0.73584,     0.73562,\n",
       "            0.73778,      0.7382,     0.73803,     0.73833,     0.74078,      0.7409,     0.74179,      0.7429,     0.74424,     0.74596,     0.74574,      0.7465,     0.74721,     0.74812,     0.74944,     0.75001,     0.75172,     0.75402,     0.75392,     0.75382,     0.75372,     0.75568,     0.75599,\n",
       "            0.75665,     0.75873,     0.75886,      0.7596,     0.75969,     0.76099,     0.76311,      0.7637,     0.76467,     0.76551,     0.76619,     0.76735,     0.76717,     0.76735,     0.76854,     0.76954,     0.77014,     0.77043,     0.77111,     0.77292,     0.77353,     0.77345,     0.77455,\n",
       "            0.77572,     0.77536,     0.77503,     0.77498,     0.77493,     0.77488,     0.77482,     0.77477,     0.77472,     0.77584,     0.77575,     0.77565,     0.77556,     0.77658,     0.77713,     0.77758,     0.77754,     0.77724,     0.77715,     0.77706,     0.77697,     0.77729,     0.77776,\n",
       "             0.7777,     0.77763,     0.77757,     0.77751,     0.77745,     0.77852,     0.77834,     0.78049,     0.78176,       0.785,     0.78483,     0.78703,     0.78773,     0.78741,     0.78723,     0.78706,     0.78688,     0.78665,      0.7868,      0.7879,     0.78855,     0.78962,     0.79013,\n",
       "            0.78996,     0.79036,     0.79102,     0.79183,     0.79378,     0.79423,     0.79467,     0.79587,     0.79721,     0.79763,     0.79831,     0.79962,     0.79934,     0.80101,     0.80303,     0.80372,     0.80432,     0.80342,     0.80392,     0.80442,     0.80457,      0.8039,     0.80542,\n",
       "            0.80612,     0.80819,      0.8089,     0.81053,     0.81045,     0.81037,     0.81028,     0.81057,     0.81105,     0.81152,      0.8127,     0.81246,     0.81334,     0.81318,     0.81376,     0.81448,      0.8152,     0.81593,     0.81566,     0.81517,     0.81502,     0.81575,     0.81646,\n",
       "            0.81682,     0.81719,     0.81755,     0.81734,     0.81808,     0.81827,     0.81836,     0.81939,     0.81929,     0.81979,     0.82028,     0.82113,     0.82341,     0.82456,     0.82423,     0.82398,     0.82382,     0.82599,     0.82655,     0.82724,      0.8274,     0.82708,     0.82676,\n",
       "            0.82916,     0.82946,     0.82972,     0.82951,     0.82935,     0.83053,     0.83148,     0.83228,      0.8315,     0.83118,     0.83107,     0.83099,     0.83091,     0.83083,     0.83052,     0.83132,     0.83217,     0.83379,     0.83491,     0.83483,     0.83474,     0.83466,     0.83477,\n",
       "            0.83558,     0.83611,     0.83547,      0.8352,     0.83504,     0.83488,     0.83471,     0.83528,     0.83577,     0.83544,     0.83519,     0.83503,     0.83486,      0.8347,     0.83389,     0.83372,     0.83509,     0.83475,     0.83574,     0.83487,      0.8347,     0.83441,     0.83407,\n",
       "            0.83393,     0.83385,     0.83376,     0.83368,     0.83303,     0.83251,     0.83217,     0.83281,     0.83454,     0.83766,     0.83826,     0.83931,     0.83897,     0.84037,      0.8397,     0.84122,     0.84105,     0.84408,     0.84429,     0.84408,     0.84391,     0.84538,     0.84552,\n",
       "            0.84536,     0.84665,      0.8465,      0.8479,     0.84764,     0.84718,     0.84704,     0.84689,     0.84672,     0.84778,     0.84966,     0.85155,      0.8521,     0.85199,     0.85188,     0.85128,     0.85095,      0.8524,     0.85247,     0.85291,     0.85388,      0.8532,     0.85296,\n",
       "            0.85285,     0.85273,      0.8542,     0.85409,     0.85398,      0.8545,     0.85549,     0.86004,     0.86104,     0.86102,     0.86086,      0.8612,     0.86291,     0.86634,     0.86626,     0.86618,      0.8661,     0.86597,     0.86576,     0.86732,     0.86714,     0.86706,     0.86698,\n",
       "             0.8669,      0.8668,     0.86649,     0.86628,       0.866,     0.86567,     0.86546,     0.86529,     0.86659,     0.86648,     0.86637,     0.86978,     0.87028,     0.87156,     0.87219,     0.87383,     0.87471,     0.87558,     0.87745,      0.8773,     0.87715,     0.87708,     0.87701,\n",
       "            0.87694,     0.87687,     0.87664,     0.87615,     0.87603,     0.87586,      0.8762,     0.87772,      0.8796,     0.87936,     0.87923,     0.87911,     0.87868,     0.87855,     0.87834,     0.87896,     0.88002,     0.87987,     0.87863,      0.8798,      0.8811,     0.88307,     0.88307,\n",
       "            0.88464,      0.8849,     0.88705,     0.88693,      0.8888,     0.88853,     0.88833,     0.88898,     0.88979,      0.8906,     0.89048,     0.89031,     0.89016,     0.89208,     0.89192,     0.89263,     0.89334,     0.89404,     0.89665,      0.8965,     0.89615,     0.89604,     0.89592,\n",
       "            0.89549,     0.89535,     0.89527,     0.89521,     0.89515,     0.89509,     0.89503,     0.89724,     0.89711,     0.89699,     0.89684,     0.89664,     0.89647,     0.89819,      0.8995,     0.90054,     0.90136,     0.90102,     0.90051,     0.90043,     0.90034,     0.90044,     0.90096,\n",
       "            0.90149,     0.90202,     0.90254,      0.9025,     0.90231,     0.90212,      0.9021,     0.90344,     0.90402,     0.90392,     0.90383,     0.90367,     0.90348,     0.90329,     0.90303,     0.90264,     0.90257,     0.90249,     0.90242,     0.90227,     0.90172,     0.90152,     0.90132,\n",
       "            0.90349,     0.90326,     0.90311,     0.90229,      0.9049,     0.90461,     0.90449,     0.90437,     0.90548,     0.90704,     0.90664,     0.90727,     0.90839,     0.90817,      0.9081,     0.90802,     0.90795,     0.90748,     0.90862,      0.9107,     0.91222,     0.91421,     0.91624,\n",
       "            0.91829,     0.91812,     0.91652,     0.91628,     0.91577,     0.91548,     0.91538,     0.91529,     0.91641,     0.91947,     0.92039,     0.92027,     0.92016,     0.92272,     0.92478,     0.92519,      0.9251,     0.92501,     0.92743,     0.92728,     0.93006,     0.93002,     0.93327,\n",
       "            0.93314,     0.93269,     0.93945,      0.9419,     0.94267,     0.94256,     0.94221,     0.94558,     0.94441,      0.9443,     0.94418,     0.94402,     0.94711,       0.947,     0.94676,     0.94644,     0.94629,     0.94546,     0.94526,     0.94483,     0.94443,     0.94804,     0.94793,\n",
       "            0.94781,     0.94769,     0.94832,     0.95013,     0.94983,     0.95291,     0.95323,     0.95308,     0.95679,     0.95626,     0.95611,      0.9557,     0.95471,     0.95455,     0.95361,     0.95328,      0.9531,     0.95696,     0.95669,     0.95657,     0.96105,     0.96548,      0.9653,\n",
       "            0.96519,      0.9646,     0.96974,     0.96965,      0.9696,     0.96955,     0.96937,     0.96887,     0.96867,     0.96849,     0.96836,     0.96774,     0.96708,     0.96702,     0.96697,     0.96691,     0.96653,     0.96596,      0.9658,       0.965,     0.96483,      0.9639,     0.96291,\n",
       "            0.96272,     0.96164,     0.95989,     0.96741,     0.96723,     0.96627,     0.96568,     0.96523,      0.9646,     0.97222,     0.97204,     0.97055,     0.96994,      0.9695,     0.96898,     0.96797,      0.9675,     0.96585,     0.96558,     0.96491,     0.96462,     0.96434,     0.97496,\n",
       "            0.97483,      0.9747,     0.97339,     0.97226,     0.97104,     0.96992,     0.96774,     0.96747,     0.96713,     0.96633,     0.96476,     0.96387,     0.96318,     0.96176,     0.96099,      0.9602,     0.95719,     0.95495,     0.95258,     0.94955,     0.94702,     0.94604,     0.94215,\n",
       "            0.94086,     0.94013,      0.9394,     0.93092,     0.92761,     0.91614,     0.90867,     0.90453,     0.90258,     0.90062,     0.89633,       0.887,     0.88432,     0.88536,     0.89667,     0.90797,     0.91928,     0.93058,     0.96237,           1,           1,           1,           1,\n",
       "                  1,           1,           1,           1,           1,           1,           1,           1,           1,           1,           1,           1,           1,           1,           1,           1,           1,           1,           1,           1,           1,           1,           1,\n",
       "                  1,           1,           1,           1,           1,           1,           1,           1,           1,           1,           1,           1,           1,           1,           1,           1,           1,           1,           1,           1,           1,           1,           1,\n",
       "                  1,           1,           1,           1,           1,           1,           1,           1,           1,           1,           1,           1,           1,           1,           1,           1,           1,           1,           1,           1,           1,           1,           1,\n",
       "                  1,           1,           1,           1,           1,           1,           1,           1,           1,           1,           1]]), 'Confidence', 'Precision'], [array([          0,    0.001001,    0.002002,    0.003003,    0.004004,    0.005005,    0.006006,    0.007007,    0.008008,    0.009009,     0.01001,    0.011011,    0.012012,    0.013013,    0.014014,    0.015015,    0.016016,    0.017017,    0.018018,    0.019019,     0.02002,    0.021021,    0.022022,    0.023023,\n",
       "          0.024024,    0.025025,    0.026026,    0.027027,    0.028028,    0.029029,     0.03003,    0.031031,    0.032032,    0.033033,    0.034034,    0.035035,    0.036036,    0.037037,    0.038038,    0.039039,     0.04004,    0.041041,    0.042042,    0.043043,    0.044044,    0.045045,    0.046046,    0.047047,\n",
       "          0.048048,    0.049049,     0.05005,    0.051051,    0.052052,    0.053053,    0.054054,    0.055055,    0.056056,    0.057057,    0.058058,    0.059059,     0.06006,    0.061061,    0.062062,    0.063063,    0.064064,    0.065065,    0.066066,    0.067067,    0.068068,    0.069069,     0.07007,    0.071071,\n",
       "          0.072072,    0.073073,    0.074074,    0.075075,    0.076076,    0.077077,    0.078078,    0.079079,     0.08008,    0.081081,    0.082082,    0.083083,    0.084084,    0.085085,    0.086086,    0.087087,    0.088088,    0.089089,     0.09009,    0.091091,    0.092092,    0.093093,    0.094094,    0.095095,\n",
       "          0.096096,    0.097097,    0.098098,    0.099099,      0.1001,      0.1011,      0.1021,      0.1031,      0.1041,     0.10511,     0.10611,     0.10711,     0.10811,     0.10911,     0.11011,     0.11111,     0.11211,     0.11311,     0.11411,     0.11512,     0.11612,     0.11712,     0.11812,     0.11912,\n",
       "           0.12012,     0.12112,     0.12212,     0.12312,     0.12412,     0.12513,     0.12613,     0.12713,     0.12813,     0.12913,     0.13013,     0.13113,     0.13213,     0.13313,     0.13413,     0.13514,     0.13614,     0.13714,     0.13814,     0.13914,     0.14014,     0.14114,     0.14214,     0.14314,\n",
       "           0.14414,     0.14515,     0.14615,     0.14715,     0.14815,     0.14915,     0.15015,     0.15115,     0.15215,     0.15315,     0.15415,     0.15516,     0.15616,     0.15716,     0.15816,     0.15916,     0.16016,     0.16116,     0.16216,     0.16316,     0.16416,     0.16517,     0.16617,     0.16717,\n",
       "           0.16817,     0.16917,     0.17017,     0.17117,     0.17217,     0.17317,     0.17417,     0.17518,     0.17618,     0.17718,     0.17818,     0.17918,     0.18018,     0.18118,     0.18218,     0.18318,     0.18418,     0.18519,     0.18619,     0.18719,     0.18819,     0.18919,     0.19019,     0.19119,\n",
       "           0.19219,     0.19319,     0.19419,      0.1952,      0.1962,      0.1972,      0.1982,      0.1992,      0.2002,      0.2012,      0.2022,      0.2032,      0.2042,     0.20521,     0.20621,     0.20721,     0.20821,     0.20921,     0.21021,     0.21121,     0.21221,     0.21321,     0.21421,     0.21522,\n",
       "           0.21622,     0.21722,     0.21822,     0.21922,     0.22022,     0.22122,     0.22222,     0.22322,     0.22422,     0.22523,     0.22623,     0.22723,     0.22823,     0.22923,     0.23023,     0.23123,     0.23223,     0.23323,     0.23423,     0.23524,     0.23624,     0.23724,     0.23824,     0.23924,\n",
       "           0.24024,     0.24124,     0.24224,     0.24324,     0.24424,     0.24525,     0.24625,     0.24725,     0.24825,     0.24925,     0.25025,     0.25125,     0.25225,     0.25325,     0.25425,     0.25526,     0.25626,     0.25726,     0.25826,     0.25926,     0.26026,     0.26126,     0.26226,     0.26326,\n",
       "           0.26426,     0.26527,     0.26627,     0.26727,     0.26827,     0.26927,     0.27027,     0.27127,     0.27227,     0.27327,     0.27427,     0.27528,     0.27628,     0.27728,     0.27828,     0.27928,     0.28028,     0.28128,     0.28228,     0.28328,     0.28428,     0.28529,     0.28629,     0.28729,\n",
       "           0.28829,     0.28929,     0.29029,     0.29129,     0.29229,     0.29329,     0.29429,      0.2953,      0.2963,      0.2973,      0.2983,      0.2993,      0.3003,      0.3013,      0.3023,      0.3033,      0.3043,     0.30531,     0.30631,     0.30731,     0.30831,     0.30931,     0.31031,     0.31131,\n",
       "           0.31231,     0.31331,     0.31431,     0.31532,     0.31632,     0.31732,     0.31832,     0.31932,     0.32032,     0.32132,     0.32232,     0.32332,     0.32432,     0.32533,     0.32633,     0.32733,     0.32833,     0.32933,     0.33033,     0.33133,     0.33233,     0.33333,     0.33433,     0.33534,\n",
       "           0.33634,     0.33734,     0.33834,     0.33934,     0.34034,     0.34134,     0.34234,     0.34334,     0.34434,     0.34535,     0.34635,     0.34735,     0.34835,     0.34935,     0.35035,     0.35135,     0.35235,     0.35335,     0.35435,     0.35536,     0.35636,     0.35736,     0.35836,     0.35936,\n",
       "           0.36036,     0.36136,     0.36236,     0.36336,     0.36436,     0.36537,     0.36637,     0.36737,     0.36837,     0.36937,     0.37037,     0.37137,     0.37237,     0.37337,     0.37437,     0.37538,     0.37638,     0.37738,     0.37838,     0.37938,     0.38038,     0.38138,     0.38238,     0.38338,\n",
       "           0.38438,     0.38539,     0.38639,     0.38739,     0.38839,     0.38939,     0.39039,     0.39139,     0.39239,     0.39339,     0.39439,      0.3954,      0.3964,      0.3974,      0.3984,      0.3994,      0.4004,      0.4014,      0.4024,      0.4034,      0.4044,     0.40541,     0.40641,     0.40741,\n",
       "           0.40841,     0.40941,     0.41041,     0.41141,     0.41241,     0.41341,     0.41441,     0.41542,     0.41642,     0.41742,     0.41842,     0.41942,     0.42042,     0.42142,     0.42242,     0.42342,     0.42442,     0.42543,     0.42643,     0.42743,     0.42843,     0.42943,     0.43043,     0.43143,\n",
       "           0.43243,     0.43343,     0.43443,     0.43544,     0.43644,     0.43744,     0.43844,     0.43944,     0.44044,     0.44144,     0.44244,     0.44344,     0.44444,     0.44545,     0.44645,     0.44745,     0.44845,     0.44945,     0.45045,     0.45145,     0.45245,     0.45345,     0.45445,     0.45546,\n",
       "           0.45646,     0.45746,     0.45846,     0.45946,     0.46046,     0.46146,     0.46246,     0.46346,     0.46446,     0.46547,     0.46647,     0.46747,     0.46847,     0.46947,     0.47047,     0.47147,     0.47247,     0.47347,     0.47447,     0.47548,     0.47648,     0.47748,     0.47848,     0.47948,\n",
       "           0.48048,     0.48148,     0.48248,     0.48348,     0.48448,     0.48549,     0.48649,     0.48749,     0.48849,     0.48949,     0.49049,     0.49149,     0.49249,     0.49349,     0.49449,      0.4955,      0.4965,      0.4975,      0.4985,      0.4995,      0.5005,      0.5015,      0.5025,      0.5035,\n",
       "            0.5045,     0.50551,     0.50651,     0.50751,     0.50851,     0.50951,     0.51051,     0.51151,     0.51251,     0.51351,     0.51451,     0.51552,     0.51652,     0.51752,     0.51852,     0.51952,     0.52052,     0.52152,     0.52252,     0.52352,     0.52452,     0.52553,     0.52653,     0.52753,\n",
       "           0.52853,     0.52953,     0.53053,     0.53153,     0.53253,     0.53353,     0.53453,     0.53554,     0.53654,     0.53754,     0.53854,     0.53954,     0.54054,     0.54154,     0.54254,     0.54354,     0.54454,     0.54555,     0.54655,     0.54755,     0.54855,     0.54955,     0.55055,     0.55155,\n",
       "           0.55255,     0.55355,     0.55455,     0.55556,     0.55656,     0.55756,     0.55856,     0.55956,     0.56056,     0.56156,     0.56256,     0.56356,     0.56456,     0.56557,     0.56657,     0.56757,     0.56857,     0.56957,     0.57057,     0.57157,     0.57257,     0.57357,     0.57457,     0.57558,\n",
       "           0.57658,     0.57758,     0.57858,     0.57958,     0.58058,     0.58158,     0.58258,     0.58358,     0.58458,     0.58559,     0.58659,     0.58759,     0.58859,     0.58959,     0.59059,     0.59159,     0.59259,     0.59359,     0.59459,      0.5956,      0.5966,      0.5976,      0.5986,      0.5996,\n",
       "            0.6006,      0.6016,      0.6026,      0.6036,      0.6046,     0.60561,     0.60661,     0.60761,     0.60861,     0.60961,     0.61061,     0.61161,     0.61261,     0.61361,     0.61461,     0.61562,     0.61662,     0.61762,     0.61862,     0.61962,     0.62062,     0.62162,     0.62262,     0.62362,\n",
       "           0.62462,     0.62563,     0.62663,     0.62763,     0.62863,     0.62963,     0.63063,     0.63163,     0.63263,     0.63363,     0.63463,     0.63564,     0.63664,     0.63764,     0.63864,     0.63964,     0.64064,     0.64164,     0.64264,     0.64364,     0.64464,     0.64565,     0.64665,     0.64765,\n",
       "           0.64865,     0.64965,     0.65065,     0.65165,     0.65265,     0.65365,     0.65465,     0.65566,     0.65666,     0.65766,     0.65866,     0.65966,     0.66066,     0.66166,     0.66266,     0.66366,     0.66466,     0.66567,     0.66667,     0.66767,     0.66867,     0.66967,     0.67067,     0.67167,\n",
       "           0.67267,     0.67367,     0.67467,     0.67568,     0.67668,     0.67768,     0.67868,     0.67968,     0.68068,     0.68168,     0.68268,     0.68368,     0.68468,     0.68569,     0.68669,     0.68769,     0.68869,     0.68969,     0.69069,     0.69169,     0.69269,     0.69369,     0.69469,      0.6957,\n",
       "            0.6967,      0.6977,      0.6987,      0.6997,      0.7007,      0.7017,      0.7027,      0.7037,      0.7047,     0.70571,     0.70671,     0.70771,     0.70871,     0.70971,     0.71071,     0.71171,     0.71271,     0.71371,     0.71471,     0.71572,     0.71672,     0.71772,     0.71872,     0.71972,\n",
       "           0.72072,     0.72172,     0.72272,     0.72372,     0.72472,     0.72573,     0.72673,     0.72773,     0.72873,     0.72973,     0.73073,     0.73173,     0.73273,     0.73373,     0.73473,     0.73574,     0.73674,     0.73774,     0.73874,     0.73974,     0.74074,     0.74174,     0.74274,     0.74374,\n",
       "           0.74474,     0.74575,     0.74675,     0.74775,     0.74875,     0.74975,     0.75075,     0.75175,     0.75275,     0.75375,     0.75475,     0.75576,     0.75676,     0.75776,     0.75876,     0.75976,     0.76076,     0.76176,     0.76276,     0.76376,     0.76476,     0.76577,     0.76677,     0.76777,\n",
       "           0.76877,     0.76977,     0.77077,     0.77177,     0.77277,     0.77377,     0.77477,     0.77578,     0.77678,     0.77778,     0.77878,     0.77978,     0.78078,     0.78178,     0.78278,     0.78378,     0.78478,     0.78579,     0.78679,     0.78779,     0.78879,     0.78979,     0.79079,     0.79179,\n",
       "           0.79279,     0.79379,     0.79479,      0.7958,      0.7968,      0.7978,      0.7988,      0.7998,      0.8008,      0.8018,      0.8028,      0.8038,      0.8048,     0.80581,     0.80681,     0.80781,     0.80881,     0.80981,     0.81081,     0.81181,     0.81281,     0.81381,     0.81481,     0.81582,\n",
       "           0.81682,     0.81782,     0.81882,     0.81982,     0.82082,     0.82182,     0.82282,     0.82382,     0.82482,     0.82583,     0.82683,     0.82783,     0.82883,     0.82983,     0.83083,     0.83183,     0.83283,     0.83383,     0.83483,     0.83584,     0.83684,     0.83784,     0.83884,     0.83984,\n",
       "           0.84084,     0.84184,     0.84284,     0.84384,     0.84484,     0.84585,     0.84685,     0.84785,     0.84885,     0.84985,     0.85085,     0.85185,     0.85285,     0.85385,     0.85485,     0.85586,     0.85686,     0.85786,     0.85886,     0.85986,     0.86086,     0.86186,     0.86286,     0.86386,\n",
       "           0.86486,     0.86587,     0.86687,     0.86787,     0.86887,     0.86987,     0.87087,     0.87187,     0.87287,     0.87387,     0.87487,     0.87588,     0.87688,     0.87788,     0.87888,     0.87988,     0.88088,     0.88188,     0.88288,     0.88388,     0.88488,     0.88589,     0.88689,     0.88789,\n",
       "           0.88889,     0.88989,     0.89089,     0.89189,     0.89289,     0.89389,     0.89489,      0.8959,      0.8969,      0.8979,      0.8989,      0.8999,      0.9009,      0.9019,      0.9029,      0.9039,      0.9049,     0.90591,     0.90691,     0.90791,     0.90891,     0.90991,     0.91091,     0.91191,\n",
       "           0.91291,     0.91391,     0.91491,     0.91592,     0.91692,     0.91792,     0.91892,     0.91992,     0.92092,     0.92192,     0.92292,     0.92392,     0.92492,     0.92593,     0.92693,     0.92793,     0.92893,     0.92993,     0.93093,     0.93193,     0.93293,     0.93393,     0.93493,     0.93594,\n",
       "           0.93694,     0.93794,     0.93894,     0.93994,     0.94094,     0.94194,     0.94294,     0.94394,     0.94494,     0.94595,     0.94695,     0.94795,     0.94895,     0.94995,     0.95095,     0.95195,     0.95295,     0.95395,     0.95495,     0.95596,     0.95696,     0.95796,     0.95896,     0.95996,\n",
       "           0.96096,     0.96196,     0.96296,     0.96396,     0.96496,     0.96597,     0.96697,     0.96797,     0.96897,     0.96997,     0.97097,     0.97197,     0.97297,     0.97397,     0.97497,     0.97598,     0.97698,     0.97798,     0.97898,     0.97998,     0.98098,     0.98198,     0.98298,     0.98398,\n",
       "           0.98498,     0.98599,     0.98699,     0.98799,     0.98899,     0.98999,     0.99099,     0.99199,     0.99299,     0.99399,     0.99499,       0.996,       0.997,       0.998,       0.999,           1]), array([[    0.90568,     0.90568,     0.90052,     0.89664,     0.89018,     0.88501,     0.87984,     0.87597,     0.87468,     0.87209,      0.8708,     0.86822,     0.86693,     0.86563,     0.86434,     0.86305,     0.86305,     0.86305,     0.86047,     0.85899,     0.85659,      0.8553,     0.85401,\n",
       "            0.85142,     0.85013,     0.84884,     0.84755,     0.84755,     0.84625,     0.84496,     0.84496,     0.84496,     0.84496,     0.84367,     0.84367,     0.84367,     0.84367,     0.84367,     0.84238,     0.84238,     0.84193,     0.83979,     0.83979,      0.8385,      0.8385,     0.83699,\n",
       "            0.83463,     0.83463,     0.83204,     0.82817,     0.82817,     0.82817,     0.82687,     0.82687,     0.82558,     0.82558,     0.82558,     0.82558,     0.82429,       0.823,     0.82171,     0.82171,     0.82171,     0.81912,     0.81783,     0.81654,     0.81525,     0.81137,     0.81008,\n",
       "            0.80879,     0.80879,     0.80749,     0.80749,     0.80749,      0.8062,      0.8062,     0.80491,     0.80491,     0.80233,     0.80233,     0.80233,     0.80233,     0.80233,     0.80233,     0.80233,     0.80102,     0.79974,     0.79974,     0.79845,     0.79845,     0.79844,     0.79716,\n",
       "            0.79587,     0.79587,     0.79587,      0.7957,     0.79457,     0.79457,     0.79457,     0.79457,     0.79328,     0.79328,     0.79328,     0.79199,     0.79199,     0.79199,     0.79146,     0.78941,     0.78941,     0.78941,     0.78941,     0.78811,     0.78811,     0.78811,     0.78811,\n",
       "            0.78811,     0.78706,     0.78682,     0.78511,     0.78424,     0.78424,     0.78318,     0.78212,     0.78006,     0.77907,     0.77777,      0.7739,      0.7739,      0.7739,      0.7739,     0.77237,     0.77141,     0.77132,     0.76873,     0.76795,     0.76744,     0.76744,     0.76615,\n",
       "            0.76589,     0.76486,     0.76486,      0.7646,     0.76363,     0.76357,     0.76357,     0.76357,     0.76094,     0.75969,     0.75819,     0.75711,     0.75711,     0.75711,     0.75711,     0.75711,     0.75581,     0.75581,     0.75574,     0.75452,     0.75452,     0.75323,     0.75323,\n",
       "            0.75323,     0.75323,     0.75323,     0.75323,     0.75323,     0.75323,     0.75323,     0.75194,     0.75065,     0.75065,     0.75065,     0.75001,     0.74935,     0.74677,     0.74677,     0.74677,     0.74562,     0.74438,     0.74419,     0.74392,      0.7416,      0.7416,      0.7416,\n",
       "             0.7416,      0.7416,      0.7416,      0.7416,      0.7416,      0.7416,     0.74133,     0.74031,        0.74,     0.73902,     0.73803,     0.73712,     0.73643,     0.73643,     0.73643,     0.73544,     0.73514,     0.73512,     0.73446,     0.73377,     0.73271,     0.73256,     0.73256,\n",
       "            0.73256,     0.73256,     0.73256,     0.73233,     0.72997,     0.72966,     0.72868,     0.72868,     0.72868,     0.72739,     0.72739,     0.72567,     0.72481,     0.72481,     0.72481,     0.72481,     0.72481,     0.72351,     0.72351,     0.72278,     0.72222,     0.72093,     0.72093,\n",
       "            0.71964,     0.71964,     0.71964,     0.71835,     0.71835,     0.71835,     0.71835,     0.71835,     0.71835,     0.71835,     0.71835,     0.71835,     0.71835,     0.71648,     0.71576,     0.71576,     0.71576,     0.71576,     0.71447,     0.71447,     0.71447,     0.71447,     0.71447,\n",
       "            0.71447,     0.71447,     0.71447,     0.71447,     0.71447,     0.71447,     0.71407,     0.71318,     0.71318,     0.71318,     0.71318,     0.71318,     0.71318,     0.71318,       0.712,     0.71189,     0.71189,     0.71101,     0.71059,     0.71059,     0.71059,     0.71059,     0.71037,\n",
       "             0.7086,     0.70713,     0.70543,     0.70543,     0.70543,     0.70543,     0.70543,     0.70485,     0.70335,     0.70284,     0.70155,     0.70155,     0.70155,     0.70155,     0.70155,     0.70026,      0.6993,     0.69897,     0.69897,     0.69897,     0.69897,     0.69779,     0.69767,\n",
       "            0.69767,     0.69767,     0.69767,     0.69748,     0.69681,     0.69509,     0.69509,     0.69493,     0.69468,     0.69442,     0.69417,     0.69392,      0.6938,      0.6938,     0.69236,     0.69121,     0.69121,     0.69121,     0.68992,     0.68992,     0.68992,     0.68948,     0.68734,\n",
       "            0.68734,     0.68734,     0.68734,     0.68734,     0.68734,     0.68734,     0.68642,     0.68478,     0.68272,     0.68217,     0.68164,     0.68088,     0.68043,     0.67967,     0.67724,       0.677,       0.677,       0.677,       0.677,     0.67608,     0.67467,     0.67302,     0.67183,\n",
       "            0.67183,     0.67031,     0.66972,     0.66925,     0.66925,     0.66869,     0.66796,     0.66796,     0.66796,     0.66769,     0.66694,     0.66582,     0.66449,     0.66408,     0.66279,     0.66279,     0.66279,     0.66139,     0.66104,     0.66069,     0.66033,     0.65936,     0.65891,\n",
       "            0.65891,     0.65819,     0.65762,     0.65726,     0.65633,     0.65633,     0.65633,     0.65633,     0.65633,     0.65633,     0.65633,     0.65633,     0.65559,     0.65504,     0.65504,     0.65504,     0.65504,     0.65375,     0.65375,     0.65375,     0.65375,      0.6528,     0.65245,\n",
       "            0.65241,     0.65109,     0.64985,     0.64966,     0.64946,     0.64927,     0.64907,     0.64887,     0.64868,      0.6484,     0.64805,      0.6477,     0.64734,     0.64729,     0.64729,     0.64729,     0.64576,     0.64463,      0.6443,     0.64397,     0.64364,     0.64341,     0.64204,\n",
       "            0.64181,     0.64158,     0.64135,     0.64112,     0.64089,     0.64035,     0.63969,     0.63953,     0.63953,     0.63684,     0.63566,     0.63437,     0.63287,     0.63166,       0.631,     0.63034,     0.62968,     0.62883,     0.62791,     0.62791,     0.62791,     0.62791,     0.62748,\n",
       "            0.62682,     0.62661,     0.62661,     0.62532,     0.62532,     0.62532,     0.62532,     0.62532,     0.62532,     0.62403,     0.62403,     0.62403,     0.62276,     0.62145,     0.62145,     0.62145,     0.62134,     0.61757,     0.61757,     0.61757,     0.61701,     0.61439,      0.6137,\n",
       "             0.6137,      0.6137,      0.6137,     0.61351,     0.61317,     0.61284,     0.61251,      0.6124,      0.6124,      0.6124,      0.6124,     0.61009,       0.608,     0.60734,     0.60724,     0.60724,     0.60724,     0.60724,     0.60599,     0.60401,     0.60336,     0.60336,     0.60336,\n",
       "            0.60336,     0.60336,     0.60336,     0.60078,     0.60078,     0.59921,     0.59819,     0.59785,      0.5969,      0.5969,      0.5969,      0.5969,      0.5964,     0.59507,     0.59375,     0.59272,     0.59206,     0.59173,     0.59104,     0.59044,     0.58839,     0.58706,     0.58574,\n",
       "            0.58527,     0.58438,     0.57918,     0.57833,     0.57767,     0.57752,     0.57752,     0.57752,     0.57382,      0.5725,     0.57206,     0.57173,     0.57139,     0.57106,     0.56977,     0.56977,     0.56977,     0.56977,     0.56844,     0.56811,     0.56778,     0.56745,     0.56718,\n",
       "            0.56718,     0.56684,     0.56423,     0.56311,     0.56244,     0.56178,     0.56112,     0.56072,     0.55887,     0.55754,     0.55653,     0.55587,     0.55521,     0.55455,      0.5513,     0.55064,     0.54956,     0.54824,     0.54562,     0.54217,     0.54151,     0.54036,     0.53903,\n",
       "             0.5385,     0.53817,     0.53783,      0.5375,     0.53499,     0.53302,      0.5317,     0.53101,     0.53101,     0.52972,     0.52899,     0.52637,     0.52505,     0.52372,     0.52111,     0.52023,     0.51956,     0.51938,     0.51839,     0.51758,     0.51692,      0.5168,     0.51624,\n",
       "            0.51558,     0.51421,       0.513,     0.51163,     0.51035,     0.50852,     0.50799,     0.50739,     0.50673,     0.50646,     0.50646,     0.50646,     0.50616,     0.50572,     0.50528,     0.50289,     0.50156,     0.50129,     0.50021,     0.49871,     0.49871,     0.49559,     0.49464,\n",
       "             0.4942,     0.49376,     0.49203,     0.49158,     0.49114,     0.49096,     0.49096,     0.48966,     0.48966,     0.48825,     0.48759,     0.48708,     0.48579,     0.48569,     0.48536,     0.48503,      0.4847,     0.48416,     0.48328,     0.48191,     0.48066,      0.4803,     0.47997,\n",
       "            0.47964,     0.47924,     0.47796,     0.47708,     0.47592,     0.47459,     0.47371,     0.47305,     0.46997,     0.46952,     0.46908,       0.466,     0.46512,     0.46464,     0.46382,     0.46382,     0.46382,     0.46382,     0.46254,     0.46188,     0.46123,     0.46093,     0.46064,\n",
       "            0.46035,     0.46005,     0.45909,     0.45701,     0.45648,     0.45576,     0.45478,      0.4544,     0.45308,     0.45202,     0.45149,     0.45096,     0.44914,     0.44861,     0.44772,     0.44574,      0.4454,     0.44474,     0.43928,     0.43928,     0.43928,     0.43909,     0.43798,\n",
       "            0.43798,     0.43706,     0.43631,     0.43578,     0.43373,     0.43254,     0.43166,     0.43152,     0.43152,     0.43152,     0.43071,     0.42993,     0.42927,      0.4272,     0.42636,     0.42636,     0.42636,     0.42636,     0.42594,     0.42528,     0.42367,     0.42314,     0.42261,\n",
       "            0.42069,     0.42003,     0.41969,     0.41942,     0.41916,     0.41889,     0.41863,     0.41739,     0.41681,     0.41628,     0.41557,     0.41467,     0.41344,     0.41344,     0.41344,     0.41344,     0.41322,     0.41165,      0.4093,     0.40892,     0.40854,     0.40827,     0.40827,\n",
       "            0.40827,     0.40827,     0.40827,     0.40662,     0.40573,     0.40485,     0.40181,     0.40181,     0.40157,     0.40113,     0.40069,     0.39998,      0.3991,     0.39822,     0.39704,     0.39528,     0.39495,     0.39462,     0.39429,     0.39365,     0.39118,     0.39029,     0.38941,\n",
       "            0.38706,     0.38602,     0.38536,     0.38179,     0.38111,     0.37982,     0.37929,     0.37876,     0.37855,     0.37818,      0.3764,     0.37339,     0.37153,     0.37056,     0.37023,      0.3699,     0.36957,     0.36749,     0.36305,     0.36305,     0.36305,     0.36305,     0.36305,\n",
       "            0.36305,     0.36217,     0.35459,     0.35352,     0.35118,     0.34986,     0.34942,     0.34898,     0.34755,     0.34755,     0.34354,     0.34301,     0.34248,     0.33938,      0.3385,     0.33554,      0.3351,     0.33466,     0.33204,      0.3295,     0.32645,     0.32558,     0.32523,\n",
       "            0.32457,     0.32223,     0.31912,     0.31912,     0.31869,     0.31803,     0.31597,     0.31428,     0.30732,     0.30666,     0.30593,     0.30504,     0.30079,     0.30013,     0.29866,     0.29677,     0.29589,     0.29113,     0.29003,     0.28764,     0.28544,     0.28288,     0.28222,\n",
       "            0.28156,      0.2809,     0.27519,     0.27075,     0.26906,     0.26744,     0.26331,     0.26243,     0.25751,      0.2542,     0.25332,     0.25085,     0.24509,     0.24421,     0.23903,     0.23728,     0.23632,     0.22979,      0.2283,     0.22764,     0.22314,     0.21683,     0.21564,\n",
       "            0.21497,     0.21125,     0.20701,     0.20642,     0.20605,     0.20567,     0.20447,     0.20104,     0.19971,     0.19858,      0.1977,     0.19381,     0.18975,     0.18942,     0.18909,     0.18876,     0.18654,     0.18334,     0.18245,     0.17813,     0.17724,     0.17249,     0.16773,\n",
       "            0.16684,     0.16196,     0.15459,     0.15343,     0.15254,     0.14803,     0.14542,     0.14348,     0.14084,     0.13564,     0.13476,     0.12772,     0.12507,     0.12323,     0.12107,     0.11713,     0.11538,     0.10963,     0.10875,     0.10657,     0.10569,      0.1048,      0.1006,\n",
       "            0.10007,    0.099536,    0.094517,    0.090576,    0.086636,    0.083337,    0.077505,    0.076843,    0.076041,    0.074164,    0.070744,    0.068931,    0.067607,    0.064991,    0.063666,    0.062342,    0.057788,    0.054787,    0.051909,    0.048647,    0.046191,    0.045308,     0.04209,\n",
       "           0.041112,    0.040583,    0.040053,    0.034826,     0.03312,    0.028236,    0.025714,    0.024484,    0.023955,    0.023425,    0.022354,    0.020298,    0.019769,     0.01938,     0.01938,     0.01938,     0.01938,     0.01938,     0.01938,    0.018287,    0.016388,    0.015946,    0.015505,\n",
       "           0.014843,    0.014088,    0.012796,    0.012576,    0.012355,    0.012134,    0.011914,    0.011693,    0.010694,   0.0087677,   0.0083893,    0.008011,   0.0069165,   0.0060215,   0.0054918,   0.0050393,   0.0047082,   0.0043771,    0.004046,   0.0038116,   0.0036791,   0.0035467,   0.0034143,\n",
       "          0.0032818,   0.0031494,    0.003017,   0.0028845,   0.0027521,   0.0026197,   0.0023421,   0.0020111,     0.00168,   0.0013489,           0,           0,           0,           0,           0,           0,           0,           0,           0,           0,           0,           0,           0,\n",
       "                  0,           0,           0,           0,           0,           0,           0,           0,           0,           0,           0,           0,           0,           0,           0,           0,           0,           0,           0,           0,           0,           0,           0,\n",
       "                  0,           0,           0,           0,           0,           0,           0,           0,           0,           0,           0]]), 'Confidence', 'Recall']]\n",
       "fitness: np.float64(0.4443420285307894)\n",
       "keys: ['metrics/precision(B)', 'metrics/recall(B)', 'metrics/mAP50(B)', 'metrics/mAP50-95(B)']\n",
       "maps: array([     0.4127])\n",
       "names: {0: 'Fire'}\n",
       "plot: True\n",
       "results_dict: {'metrics/precision(B)': np.float64(0.7408978087106072), 'metrics/recall(B)': np.float64(0.6686904697240615), 'metrics/mAP50(B)': np.float64(0.729153938464275), 'metrics/mAP50-95(B)': np.float64(0.4126962607604021), 'fitness': np.float64(0.4443420285307894)}\n",
       "save_dir: WindowsPath('runs/detect/train')\n",
       "speed: {'preprocess': 0.08998733334010467, 'inference': 0.9184953333169688, 'loss': 0.00023066660408706716, 'postprocess': 0.8025369999571315}\n",
       "task: 'detect'"
      ]
     },
     "execution_count": 4,
     "metadata": {},
     "output_type": "execute_result"
    }
   ],
   "source": [
    "from ultralytics import YOLO\n",
    "\n",
    "# Load a YOLOv8 model (choose from yolov8n, yolov8s, yolov8m, etc.)\n",
    "model = YOLO(\"yolov8n.pt\")  # you can replace with 'yolov8s.pt' for better accuracy\n",
    "\n",
    "# Train the model\n",
    "model.train(\n",
    "    data=\"outdoor.yaml\",     # Path to your custom dataset YAML\n",
    "    epochs=100,                # Number of training epochs\n",
    "    imgsz=640,                 # Image size\n",
    "    batch=16,                  # Batch size (adjust based on your GPU memory)\n",
    "    device = 0\n",
    ")\n"
   ]
  },
  {
   "cell_type": "markdown",
   "id": "d4bcd98b",
   "metadata": {},
   "source": [
    "##  Inference on Outdoor Test Images using Trained YOLOv8 Model\n",
    "\n",
    "We perform inference using the **best trained YOLOv8 model** to evaluate its performance on the **test set** of outdoor fire scenarios.\n",
    "\n",
    "- 🎯 **Model Weights**: `best.pt` from the training run\n",
    "- 💾 **Output**: Predictions will be saved automatically by YOLO\n",
    "\n",
    "This step visually validates how well the model generalizes to unseen indoor fire detection cases.\n"
   ]
  },
  {
   "cell_type": "code",
   "execution_count": 5,
   "id": "eb423395",
   "metadata": {},
   "outputs": [],
   "source": [
    "from ultralytics import YOLO\n",
    "\n",
    "# Load your trained weights\n",
    "model = YOLO(\"runs/detect/train/weights/best.pt\")\n"
   ]
  },
  {
   "cell_type": "code",
   "execution_count": 6,
   "id": "797909db",
   "metadata": {},
   "outputs": [
    {
     "name": "stdout",
     "output_type": "stream",
     "text": [
      "\n",
      "image 1/363 C:\\Users\\pc\\Desktop\\DL\\Project\\Outdoor\\test\\images\\084d8e970b8d456a_jpg.rf.00a44feed93ffa5716c81d5cdb3f8f57.jpg: 480x640 1 Fire, 74.3ms\n",
      "image 2/363 C:\\Users\\pc\\Desktop\\DL\\Project\\Outdoor\\test\\images\\0d1db917073dd5b8_jpg.rf.0e31edc3f90d9ac9b89278c7a8e50a9f.jpg: 640x512 1 Fire, 43.9ms\n",
      "image 3/363 C:\\Users\\pc\\Desktop\\DL\\Project\\Outdoor\\test\\images\\0d4b3896f938d981_jpg.rf.1b3d0ee1ae27514c3abe54175453539d.jpg: 448x640 1 Fire, 53.8ms\n",
      "image 4/363 C:\\Users\\pc\\Desktop\\DL\\Project\\Outdoor\\test\\images\\10-image_jpg.rf.6eb3e1f0a10cb894cecad1bc7fef93f4.jpg: 416x640 3 Fires, 45.9ms\n",
      "image 5/363 C:\\Users\\pc\\Desktop\\DL\\Project\\Outdoor\\test\\images\\1019_jpg.rf.f897077937ec7b1b3c8f2881009423f7.jpg: 384x640 4 Fires, 41.2ms\n",
      "image 6/363 C:\\Users\\pc\\Desktop\\DL\\Project\\Outdoor\\test\\images\\1072_jpg.rf.c88e346bc0652df15bac08585204d115.jpg: 448x640 1 Fire, 9.1ms\n",
      "image 7/363 C:\\Users\\pc\\Desktop\\DL\\Project\\Outdoor\\test\\images\\1079_jpg.rf.6ebb45fe41c736d70711dfa5d44876ec.jpg: 480x640 4 Fires, 4.8ms\n",
      "image 8/363 C:\\Users\\pc\\Desktop\\DL\\Project\\Outdoor\\test\\images\\10a4234031144d02_jpg.rf.22235e6c0b66d3e592e3c8ecf693bb23.jpg: 480x640 2 Fires, 7.5ms\n",
      "image 9/363 C:\\Users\\pc\\Desktop\\DL\\Project\\Outdoor\\test\\images\\11-_106638522_capt324ure_jpg.rf.24999213454cf9457b955ded3399cf57.jpg: 640x640 3 Fires, 5.1ms\n",
      "image 10/363 C:\\Users\\pc\\Desktop\\DL\\Project\\Outdoor\\test\\images\\1135_jpg.rf.cdca50abdf838f669b6961a6394e5fe9.jpg: 416x640 1 Fire, 5.8ms\n",
      "image 11/363 C:\\Users\\pc\\Desktop\\DL\\Project\\Outdoor\\test\\images\\1167_jpg.rf.71a11762847e741b8c00d9177296f868.jpg: 640x640 3 Fires, 7.5ms\n",
      "image 12/363 C:\\Users\\pc\\Desktop\\DL\\Project\\Outdoor\\test\\images\\1217_jpg.rf.f3ee00073c026025d969b9005db118ab.jpg: 384x640 2 Fires, 7.5ms\n",
      "image 13/363 C:\\Users\\pc\\Desktop\\DL\\Project\\Outdoor\\test\\images\\1236_jpg.rf.043fbe38ca58e856e6e277b86e623fb4.jpg: 480x640 1 Fire, 5.2ms\n",
      "image 14/363 C:\\Users\\pc\\Desktop\\DL\\Project\\Outdoor\\test\\images\\1245_jpg.rf.9ad86adc18909c97043d2b2344f4a646.jpg: 384x640 1 Fire, 6.8ms\n",
      "image 15/363 C:\\Users\\pc\\Desktop\\DL\\Project\\Outdoor\\test\\images\\1248_jpg.rf.6e861dd3c9da99f27d96bc74d364c1d7.jpg: 384x640 3 Fires, 6.2ms\n",
      "image 16/363 C:\\Users\\pc\\Desktop\\DL\\Project\\Outdoor\\test\\images\\1280_jpg.rf.f4cc2c5e0e92c2f4e798aeb5c6029683.jpg: 512x640 5 Fires, 49.9ms\n",
      "image 17/363 C:\\Users\\pc\\Desktop\\DL\\Project\\Outdoor\\test\\images\\1317_jpg.rf.272c88e4ff0ab919ecac9fb21b0f12d1.jpg: 448x640 (no detections), 11.7ms\n",
      "image 18/363 C:\\Users\\pc\\Desktop\\DL\\Project\\Outdoor\\test\\images\\133_jpg.rf.8ef824eba3cadb4ff77e36ae00c0c276.jpg: 384x640 3 Fires, 6.3ms\n",
      "image 19/363 C:\\Users\\pc\\Desktop\\DL\\Project\\Outdoor\\test\\images\\15-Firefighters-try-to-extinguish-a-fire-at-a-petrochemical-plant-in-Zhangzhou_jpg.rf.d7b86fb7a14cbee68cf6713c67a66f23.jpg: 416x640 2 Fires, 5.2ms\n",
      "image 20/363 C:\\Users\\pc\\Desktop\\DL\\Project\\Outdoor\\test\\images\\1854e0df0210495d_jpg.rf.b96e6a87855abe5b74a10b1a0f5e4415.jpg: 640x448 1 Fire, 43.1ms\n",
      "image 21/363 C:\\Users\\pc\\Desktop\\DL\\Project\\Outdoor\\test\\images\\1f990b331e554127_jpg.rf.8e4a35d061832d13c29b7f262559dda6.jpg: 640x640 1 Fire, 9.7ms\n",
      "image 22/363 C:\\Users\\pc\\Desktop\\DL\\Project\\Outdoor\\test\\images\\203_jpg.rf.6d8495847f77ff7554958e2284335a7f.jpg: 384x640 1 Fire, 5.4ms\n",
      "image 23/363 C:\\Users\\pc\\Desktop\\DL\\Project\\Outdoor\\test\\images\\217_jpg.rf.4dd0599fd84bf6c47c47c59d7a6c935d.jpg: 640x640 1 Fire, 7.7ms\n",
      "image 24/363 C:\\Users\\pc\\Desktop\\DL\\Project\\Outdoor\\test\\images\\236413eba58a6dea_jpg.rf.6e8385ac26ea49efe19c7da2f0f926d8.jpg: 480x640 1 Fire, 6.7ms\n",
      "image 25/363 C:\\Users\\pc\\Desktop\\DL\\Project\\Outdoor\\test\\images\\29108aa95d8a9f42_jpg.rf.01694fdfb054321f898561bfdbb7f16d.jpg: 448x640 1 Fire, 6.0ms\n",
      "image 26/363 C:\\Users\\pc\\Desktop\\DL\\Project\\Outdoor\\test\\images\\331_jpg.rf.d5864a7baae8f83b1952ccd73b91502c.jpg: 480x640 1 Fire, 5.2ms\n",
      "image 27/363 C:\\Users\\pc\\Desktop\\DL\\Project\\Outdoor\\test\\images\\338_jpg.rf.5a9a4bdb30589351c74e38a6c2a8e48b.jpg: 416x640 1 Fire, 5.2ms\n",
      "image 28/363 C:\\Users\\pc\\Desktop\\DL\\Project\\Outdoor\\test\\images\\34---Copy_jpg.rf.e1765a06f321eb8f4ff325cb2102b419.jpg: 480x640 1 Fire, 6.9ms\n",
      "image 29/363 C:\\Users\\pc\\Desktop\\DL\\Project\\Outdoor\\test\\images\\341_jpg.rf.c82b7a2dae6774249473980cec281717.jpg: 512x640 4 Fires, 5.7ms\n",
      "image 30/363 C:\\Users\\pc\\Desktop\\DL\\Project\\Outdoor\\test\\images\\355_jpg.rf.9da3dd574853b68135a6ab5503b945b7.jpg: 384x640 1 Fire, 7.9ms\n",
      "image 31/363 C:\\Users\\pc\\Desktop\\DL\\Project\\Outdoor\\test\\images\\37-APTOPIX-Petrochemical-Fire-Texas-1-1553128135_jpg.rf.e81bc752394b71a6daa0ba2b33d8d47b.jpg: 448x640 3 Fires, 5.8ms\n",
      "image 32/363 C:\\Users\\pc\\Desktop\\DL\\Project\\Outdoor\\test\\images\\403_jpg.rf.d048e8eb5d98bf16dccf360ad931eb44.jpg: 384x640 5 Fires, 5.0ms\n",
      "image 33/363 C:\\Users\\pc\\Desktop\\DL\\Project\\Outdoor\\test\\images\\423_jpg.rf.33a08677f393e39c28da12168afd7e3c.jpg: 512x640 5 Fires, 10.4ms\n",
      "image 34/363 C:\\Users\\pc\\Desktop\\DL\\Project\\Outdoor\\test\\images\\425_jpg.rf.51c1d0d8e5fb874cb037cd889cb09429.jpg: 384x640 1 Fire, 9.1ms\n",
      "image 35/363 C:\\Users\\pc\\Desktop\\DL\\Project\\Outdoor\\test\\images\\436_jpg.rf.704a2ff22fecba5389abc16921f00851.jpg: 448x640 1 Fire, 4.7ms\n",
      "image 36/363 C:\\Users\\pc\\Desktop\\DL\\Project\\Outdoor\\test\\images\\456_jpg.rf.ecdc6d85c9be098887d15daa0591b1b6.jpg: 448x640 2 Fires, 8.1ms\n",
      "image 37/363 C:\\Users\\pc\\Desktop\\DL\\Project\\Outdoor\\test\\images\\462_jpg.rf.b0274c6ffb59a1ad9e54e50d9a7f9d4e.jpg: 384x640 3 Fires, 5.3ms\n",
      "image 38/363 C:\\Users\\pc\\Desktop\\DL\\Project\\Outdoor\\test\\images\\479_jpg.rf.b9dcfd90d711483cdc220f70f57dde63.jpg: 480x640 1 Fire, 7.1ms\n",
      "image 39/363 C:\\Users\\pc\\Desktop\\DL\\Project\\Outdoor\\test\\images\\490_jpg.rf.3d1a887176b0d43343deb53b67bf7b20.jpg: 384x640 (no detections), 5.5ms\n",
      "image 40/363 C:\\Users\\pc\\Desktop\\DL\\Project\\Outdoor\\test\\images\\498_jpg.rf.5e201f52701c71c9c731d9c3c9b2a2e5.jpg: 448x640 2 Fires, 5.2ms\n",
      "image 41/363 C:\\Users\\pc\\Desktop\\DL\\Project\\Outdoor\\test\\images\\509_jpg.rf.e7943bdfac501c716558a63051ae45fd.jpg: 480x640 2 Fires, 4.7ms\n",
      "image 42/363 C:\\Users\\pc\\Desktop\\DL\\Project\\Outdoor\\test\\images\\515_jpg.rf.ab339218257ef0c3581c4cb00c7215e5.jpg: 384x640 2 Fires, 5.3ms\n",
      "image 43/363 C:\\Users\\pc\\Desktop\\DL\\Project\\Outdoor\\test\\images\\5300db8c1b20796f_jpg.rf.47989d62b06e1a4f02e9e42b3f0fa58e.jpg: 480x640 1 Fire, 8.0ms\n",
      "image 44/363 C:\\Users\\pc\\Desktop\\DL\\Project\\Outdoor\\test\\images\\534_jpg.rf.c61256a72125ff3637b2c34cbdd814ff.jpg: 384x640 1 Fire, 5.7ms\n",
      "image 45/363 C:\\Users\\pc\\Desktop\\DL\\Project\\Outdoor\\test\\images\\60---Copy_jpg.rf.59d2f3e2c2809379c301e05914603111.jpg: 384x640 5 Fires, 9.0ms\n",
      "image 46/363 C:\\Users\\pc\\Desktop\\DL\\Project\\Outdoor\\test\\images\\604_jpg.rf.873342a50f3d9cd18dcb9d93e8cdc16c.jpg: 384x640 2 Fires, 8.7ms\n",
      "image 47/363 C:\\Users\\pc\\Desktop\\DL\\Project\\Outdoor\\test\\images\\628_jpg.rf.01bb842642e4d76723c209e33af8b795.jpg: 448x640 3 Fires, 5.2ms\n",
      "image 48/363 C:\\Users\\pc\\Desktop\\DL\\Project\\Outdoor\\test\\images\\635_jpg.rf.42d64fe86f8e1c34c9e68032616a6090.jpg: 480x640 2 Fires, 8.4ms\n",
      "image 49/363 C:\\Users\\pc\\Desktop\\DL\\Project\\Outdoor\\test\\images\\639_jpg.rf.0c02bfd79359f61d50e235ae98f37446.jpg: 448x640 5 Fires, 6.9ms\n",
      "image 50/363 C:\\Users\\pc\\Desktop\\DL\\Project\\Outdoor\\test\\images\\660_jpg.rf.8a0527f7380caf926f2b849c076d51ef.jpg: 448x640 2 Fires, 8.1ms\n",
      "image 51/363 C:\\Users\\pc\\Desktop\\DL\\Project\\Outdoor\\test\\images\\664_jpg.rf.3190f56771780e59efa589aa03bd8eea.jpg: 416x640 3 Fires, 5.2ms\n",
      "image 52/363 C:\\Users\\pc\\Desktop\\DL\\Project\\Outdoor\\test\\images\\6660ead275b92c0b_jpg.rf.1001d2e65f1f203bcea41c00c92095a4.jpg: 480x640 1 Fire, 4.6ms\n",
      "image 53/363 C:\\Users\\pc\\Desktop\\DL\\Project\\Outdoor\\test\\images\\6a085bfcc9969ac9_jpg.rf.94c76f320523aa5977b108cfe3d03741.jpg: 640x480 1 Fire, 34.4ms\n",
      "image 54/363 C:\\Users\\pc\\Desktop\\DL\\Project\\Outdoor\\test\\images\\749_jpg.rf.329a7710573545edc35ad69daf44eb57.jpg: 448x640 2 Fires, 7.3ms\n",
      "image 55/363 C:\\Users\\pc\\Desktop\\DL\\Project\\Outdoor\\test\\images\\750_jpg.rf.3e35b806bf5ab86ae6e1864b905f2f7a.jpg: 448x640 2 Fires, 7.5ms\n",
      "image 56/363 C:\\Users\\pc\\Desktop\\DL\\Project\\Outdoor\\test\\images\\766_jpg.rf.e0e3fdfa1a58594e681c586f80a67308.jpg: 384x640 4 Fires, 8.9ms\n",
      "image 57/363 C:\\Users\\pc\\Desktop\\DL\\Project\\Outdoor\\test\\images\\776_jpg.rf.ef154131879c39e00f546e9f7045adcc.jpg: 480x640 1 Fire, 4.9ms\n",
      "image 58/363 C:\\Users\\pc\\Desktop\\DL\\Project\\Outdoor\\test\\images\\782_jpg.rf.0841d6bdd30f6fe29f676b84c0bf43cc.jpg: 640x448 1 Fire, 4.8ms\n",
      "image 59/363 C:\\Users\\pc\\Desktop\\DL\\Project\\Outdoor\\test\\images\\7c73e718948fa89d_jpg.rf.010d05688721f6aceeb83261e146ab48.jpg: 480x640 2 Fires, 5.2ms\n",
      "image 60/363 C:\\Users\\pc\\Desktop\\DL\\Project\\Outdoor\\test\\images\\815_jpg.rf.45e60dcdaf8553dace7103f569d99250.jpg: 416x640 1 Fire, 7.2ms\n",
      "image 61/363 C:\\Users\\pc\\Desktop\\DL\\Project\\Outdoor\\test\\images\\83_jpg.rf.17fed216e16628c295e45fb2c8ad9d36.jpg: 384x640 (no detections), 5.7ms\n",
      "image 62/363 C:\\Users\\pc\\Desktop\\DL\\Project\\Outdoor\\test\\images\\859_jpg.rf.4017d5c8da4792759eb56cfc5db8b977.jpg: 608x640 2 Fires, 37.0ms\n",
      "image 63/363 C:\\Users\\pc\\Desktop\\DL\\Project\\Outdoor\\test\\images\\871_jpg.rf.6b6a9025494b1a9c2c3cc3105d0ee55b.jpg: 448x640 4 Fires, 9.7ms\n",
      "image 64/363 C:\\Users\\pc\\Desktop\\DL\\Project\\Outdoor\\test\\images\\880_jpg.rf.1a46cd03cf109d300e73c89d75c18421.jpg: 448x640 1 Fire, 5.0ms\n",
      "image 65/363 C:\\Users\\pc\\Desktop\\DL\\Project\\Outdoor\\test\\images\\884_jpg.rf.489913be82158ead1fc3a542b1704ecc.jpg: 384x640 1 Fire, 7.0ms\n",
      "image 66/363 C:\\Users\\pc\\Desktop\\DL\\Project\\Outdoor\\test\\images\\8a8dbe592f008e40_jpg.rf.54b46dc0423f2b7fd348a7b6154dc7cb.jpg: 448x640 1 Fire, 10.0ms\n",
      "image 67/363 C:\\Users\\pc\\Desktop\\DL\\Project\\Outdoor\\test\\images\\903_jpg.rf.827d4aca2f761484c70a4731127e4f2e.jpg: 512x640 1 Fire, 4.6ms\n",
      "image 68/363 C:\\Users\\pc\\Desktop\\DL\\Project\\Outdoor\\test\\images\\917_jpg.rf.d00f3020d379bbca9146223fd562d020.jpg: 480x640 1 Fire, 5.5ms\n",
      "image 69/363 C:\\Users\\pc\\Desktop\\DL\\Project\\Outdoor\\test\\images\\93---Copy_jpg.rf.c72b9475aaafdbc904bd6818f09f9561.jpg: 416x640 2 Fires, 5.8ms\n",
      "image 70/363 C:\\Users\\pc\\Desktop\\DL\\Project\\Outdoor\\test\\images\\930_jpg.rf.3f70431fcc1129466241e212fc4db13a.jpg: 480x640 2 Fires, 5.2ms\n",
      "image 71/363 C:\\Users\\pc\\Desktop\\DL\\Project\\Outdoor\\test\\images\\931_jpg.rf.f833cf0d147357e5cd2fa85761317950.jpg: 416x640 3 Fires, 5.8ms\n",
      "image 72/363 C:\\Users\\pc\\Desktop\\DL\\Project\\Outdoor\\test\\images\\937_jpg.rf.840fe73f53708b4bcf462a2ef5262227.jpg: 576x640 1 Fire, 38.8ms\n",
      "image 73/363 C:\\Users\\pc\\Desktop\\DL\\Project\\Outdoor\\test\\images\\940_jpg.rf.9ab2a9071e1f3bb3b751f46d77cb677f.jpg: 384x640 1 Fire, 7.8ms\n",
      "image 74/363 C:\\Users\\pc\\Desktop\\DL\\Project\\Outdoor\\test\\images\\949_jpg.rf.c2fd9b87f7dda96d68b0f4ff0c6368d5.jpg: 416x640 1 Fire, 6.4ms\n",
      "image 75/363 C:\\Users\\pc\\Desktop\\DL\\Project\\Outdoor\\test\\images\\951_jpg.rf.de9d4806408a021e2551347baf78aca7.jpg: 416x640 1 Fire, 7.8ms\n",
      "image 76/363 C:\\Users\\pc\\Desktop\\DL\\Project\\Outdoor\\test\\images\\953_jpg.rf.8ad1062a28a34e9895e3da0945d4c82e.jpg: 384x640 3 Fires, 7.0ms\n",
      "image 77/363 C:\\Users\\pc\\Desktop\\DL\\Project\\Outdoor\\test\\images\\981_jpg.rf.a6cbb25adcf8b9b788fc01e3457d8a01.jpg: 384x640 1 Fire, 6.1ms\n",
      "image 78/363 C:\\Users\\pc\\Desktop\\DL\\Project\\Outdoor\\test\\images\\982_jpg.rf.7be3e97e77d772a3dc5597bc427380b1.jpg: 448x640 2 Fires, 5.1ms\n",
      "image 79/363 C:\\Users\\pc\\Desktop\\DL\\Project\\Outdoor\\test\\images\\984_jpg.rf.e5aa6f8aff2186db287d4fe06c1216e6.jpg: 480x640 1 Fire, 5.8ms\n",
      "image 80/363 C:\\Users\\pc\\Desktop\\DL\\Project\\Outdoor\\test\\images\\FireDetectionImage_MirrorWEBFire1346_jpg.rf.57bd0988de41bd3ddfda54cfc4b5ffc6.jpg: 416x640 1 Fire, 5.2ms\n",
      "image 81/363 C:\\Users\\pc\\Desktop\\DL\\Project\\Outdoor\\test\\images\\FireDetectionImage_NoiseWEBFire1137_jpg.rf.ab3ad3afdf9345439165b4762d5a022a.jpg: 480x640 1 Fire, 6.8ms\n",
      "image 82/363 C:\\Users\\pc\\Desktop\\DL\\Project\\Outdoor\\test\\images\\FireDetectionImage_WEBFire089_jpg.rf.88a689b981d90bde042672c524f6b262.jpg: 480x640 1 Fire, 6.3ms\n",
      "image 83/363 C:\\Users\\pc\\Desktop\\DL\\Project\\Outdoor\\test\\images\\FireDetectionImage_WEBFire1104_jpg.rf.3acd5d692cc68763438f2a7b28549482.jpg: 640x640 2 Fires, 4.5ms\n",
      "image 84/363 C:\\Users\\pc\\Desktop\\DL\\Project\\Outdoor\\test\\images\\FireDetectionImage_WEBFire1346_jpg.rf.f72d3448cf6f111900c4c285e8cece1f.jpg: 416x640 1 Fire, 7.6ms\n",
      "image 85/363 C:\\Users\\pc\\Desktop\\DL\\Project\\Outdoor\\test\\images\\MirrorWEBFP1274_jpg.rf.023125f38f54d70ebc50ad3ac0d47932.jpg: 384x640 1 Fire, 6.2ms\n",
      "image 86/363 C:\\Users\\pc\\Desktop\\DL\\Project\\Outdoor\\test\\images\\MirrorWEBFire070_jpg.rf.5ce32a1a3cf8215a72afaab391a23ad5.jpg: 480x640 3 Fires, 6.9ms\n",
      "image 87/363 C:\\Users\\pc\\Desktop\\DL\\Project\\Outdoor\\test\\images\\MirrorWEBFire1046_jpg.rf.6d50174a6ad509af64b1a34139fe9ae1.jpg: 384x640 1 Fire, 7.4ms\n",
      "image 88/363 C:\\Users\\pc\\Desktop\\DL\\Project\\Outdoor\\test\\images\\MirrorWEBFire1048_jpg.rf.8660f26b9c891c349ee3fd9bdbf316c8.jpg: 384x640 6 Fires, 12.9ms\n",
      "image 89/363 C:\\Users\\pc\\Desktop\\DL\\Project\\Outdoor\\test\\images\\MirrorWEBFire1050_jpg.rf.a3c0527bd373f693909f2eeb6f52ecca.jpg: 384x640 3 Fires, 5.4ms\n",
      "image 90/363 C:\\Users\\pc\\Desktop\\DL\\Project\\Outdoor\\test\\images\\MirrorWEBFire1067_jpg.rf.034f8fe81cbc1f6b07e9d8b29be338b4.jpg: 384x640 6 Fires, 4.7ms\n",
      "image 91/363 C:\\Users\\pc\\Desktop\\DL\\Project\\Outdoor\\test\\images\\MirrorWEBFire1095_jpg.rf.43bc804b2d6433345644bcaa203df640.jpg: 384x640 1 Fire, 4.8ms\n",
      "image 92/363 C:\\Users\\pc\\Desktop\\DL\\Project\\Outdoor\\test\\images\\MirrorWEBFire1096_jpg.rf.1e1e9ade1f0cfb0a0e2b1d4d7ec58e48.jpg: 384x640 1 Fire, 5.7ms\n",
      "image 93/363 C:\\Users\\pc\\Desktop\\DL\\Project\\Outdoor\\test\\images\\MirrorWEBFire1105_jpg.rf.9e4b3a43f58294f0992c2ff492191c99.jpg: 384x640 2 Fires, 7.6ms\n",
      "image 94/363 C:\\Users\\pc\\Desktop\\DL\\Project\\Outdoor\\test\\images\\MirrorWEBFire1113_jpg.rf.f1d623c1644c9522441c858291b89c15.jpg: 384x640 2 Fires, 7.3ms\n",
      "image 95/363 C:\\Users\\pc\\Desktop\\DL\\Project\\Outdoor\\test\\images\\MirrorWEBFire1116_jpg.rf.439c5edb3b86f81d62c2ffbf4df7fe99.jpg: 384x640 3 Fires, 5.4ms\n",
      "image 96/363 C:\\Users\\pc\\Desktop\\DL\\Project\\Outdoor\\test\\images\\MirrorWEBFire1130_jpg.rf.c1ed967295199739fac0b23c0fe06c2b.jpg: 480x640 9 Fires, 7.1ms\n",
      "image 97/363 C:\\Users\\pc\\Desktop\\DL\\Project\\Outdoor\\test\\images\\MirrorWEBFire1139_jpg.rf.f1c810219008dfb708cc2fdad7640846.jpg: 384x640 4 Fires, 9.3ms\n",
      "image 98/363 C:\\Users\\pc\\Desktop\\DL\\Project\\Outdoor\\test\\images\\MirrorWEBFire1143_jpg.rf.f10494e196081b7d9099fd023dee502b.jpg: 384x640 1 Fire, 4.7ms\n",
      "image 99/363 C:\\Users\\pc\\Desktop\\DL\\Project\\Outdoor\\test\\images\\MirrorWEBFire1195_jpg.rf.9eb0538a0c280576855bbe2154046a54.jpg: 384x640 1 Fire, 4.7ms\n",
      "image 100/363 C:\\Users\\pc\\Desktop\\DL\\Project\\Outdoor\\test\\images\\MirrorWEBFire1209_jpg.rf.49584991c7aa07210ce2331abe0cac83.jpg: 384x640 1 Fire, 9.6ms\n",
      "image 101/363 C:\\Users\\pc\\Desktop\\DL\\Project\\Outdoor\\test\\images\\MirrorWEBFire1219_jpg.rf.45fed2defeabd2bd81b8b2381b0e779b.jpg: 384x640 2 Fires, 5.1ms\n",
      "image 102/363 C:\\Users\\pc\\Desktop\\DL\\Project\\Outdoor\\test\\images\\MirrorWEBFire1227_jpg.rf.3909d17f96d1b312499976fec29712a8.jpg: 384x640 1 Fire, 4.6ms\n",
      "image 103/363 C:\\Users\\pc\\Desktop\\DL\\Project\\Outdoor\\test\\images\\MirrorWEBFire1232_jpg.rf.4083ab0d7aa1a3adc827788655f8ceb9.jpg: 384x640 1 Fire, 5.2ms\n",
      "image 104/363 C:\\Users\\pc\\Desktop\\DL\\Project\\Outdoor\\test\\images\\MirrorWEBFire1278_jpg.rf.a6bbb9b4eaf57b9db88bb399efa1bdbe.jpg: 320x640 4 Fires, 39.9ms\n",
      "image 105/363 C:\\Users\\pc\\Desktop\\DL\\Project\\Outdoor\\test\\images\\MirrorWEBFire1304_jpg.rf.5d786bb210f822f8e13f9242cfe3fbf7.jpg: 384x640 4 Fires, 5.3ms\n",
      "image 106/363 C:\\Users\\pc\\Desktop\\DL\\Project\\Outdoor\\test\\images\\MirrorWEBFire1324_jpg.rf.6fc48302bddafd18c4e479a0fc4ebd4b.jpg: 480x640 6 Fires, 5.3ms\n",
      "image 107/363 C:\\Users\\pc\\Desktop\\DL\\Project\\Outdoor\\test\\images\\MirrorWEBFire1370_jpg.rf.c1873dffb09a6e48a34bfed79521f8c1.jpg: 448x640 3 Fires, 6.3ms\n",
      "image 108/363 C:\\Users\\pc\\Desktop\\DL\\Project\\Outdoor\\test\\images\\MirrorWEBFire1373_jpg.rf.5bad7d4969038bfac224f7208b6fde02.jpg: 448x640 3 Fires, 5.2ms\n",
      "image 109/363 C:\\Users\\pc\\Desktop\\DL\\Project\\Outdoor\\test\\images\\MirrorWEBFire1418_jpg.rf.cb534c2a3443dc6696341ea21294aaa1.jpg: 320x640 2 Fires, 6.3ms\n",
      "image 110/363 C:\\Users\\pc\\Desktop\\DL\\Project\\Outdoor\\test\\images\\MirrorWEBFire1423_jpg.rf.50d9e74c327557e024ab6837e4030219.jpg: 480x640 1 Fire, 5.9ms\n",
      "image 111/363 C:\\Users\\pc\\Desktop\\DL\\Project\\Outdoor\\test\\images\\MirrorWEBFire1430_jpg.rf.d095a36994c7991650464fc701c05d74.jpg: 640x640 2 Fires, 5.2ms\n",
      "image 112/363 C:\\Users\\pc\\Desktop\\DL\\Project\\Outdoor\\test\\images\\MirrorWEBFire1441_jpg.rf.c6890250fe2c97d95964960987dae01b.jpg: 384x640 1 Fire, 8.8ms\n",
      "image 113/363 C:\\Users\\pc\\Desktop\\DL\\Project\\Outdoor\\test\\images\\MirrorWEBFire1542_jpg.rf.a7cf27f82b64f0408a780d8c15bd1da7.jpg: 384x640 2 Fires, 5.5ms\n",
      "image 114/363 C:\\Users\\pc\\Desktop\\DL\\Project\\Outdoor\\test\\images\\MirrorWEBFire1643_jpg.rf.702cce3e93fa4a138ae441849788abbe.jpg: 416x640 4 Fires, 9.5ms\n",
      "image 115/363 C:\\Users\\pc\\Desktop\\DL\\Project\\Outdoor\\test\\images\\MirrorWEBFire1696_jpg.rf.7e098d1f8da2b35c36d7a6a8dee41939.jpg: 384x640 2 Fires, 5.0ms\n",
      "image 116/363 C:\\Users\\pc\\Desktop\\DL\\Project\\Outdoor\\test\\images\\MirrorWEBFire1719_jpg.rf.4e11728363bd8e588cb5152f4c6cea31.jpg: 512x640 1 Fire, 7.1ms\n",
      "image 117/363 C:\\Users\\pc\\Desktop\\DL\\Project\\Outdoor\\test\\images\\MirrorWEBFire1905_jpg.rf.df57d56d8c32fc95265d4b55142beea3.jpg: 352x640 2 Fires, 41.6ms\n",
      "image 118/363 C:\\Users\\pc\\Desktop\\DL\\Project\\Outdoor\\test\\images\\MirrorWEBFire2053_jpg.rf.cf9724a17aaca974ef362831c97b229b.jpg: 480x640 1 Fire, 8.3ms\n",
      "image 119/363 C:\\Users\\pc\\Desktop\\DL\\Project\\Outdoor\\test\\images\\MirrorWEBFire389_jpg.rf.87b2cc9b98f8867c555369c8e57098a7.jpg: 384x640 5 Fires, 6.2ms\n",
      "image 120/363 C:\\Users\\pc\\Desktop\\DL\\Project\\Outdoor\\test\\images\\MirrorWEBFire394_jpg.rf.683847cf7c927b6cdaba8ff997989290.jpg: 384x640 4 Fires, 8.5ms\n",
      "image 121/363 C:\\Users\\pc\\Desktop\\DL\\Project\\Outdoor\\test\\images\\MirrorWEBSmoke100_jpg.rf.bca43516e62f1977d05c24601cdffeea.jpg: 640x480 1 Fire, 6.3ms\n",
      "image 122/363 C:\\Users\\pc\\Desktop\\DL\\Project\\Outdoor\\test\\images\\MirrorWEBSmoke1082_jpg.rf.3ed803afa72fa18702e1066e94884f30.jpg: 448x640 4 Fires, 6.0ms\n",
      "image 123/363 C:\\Users\\pc\\Desktop\\DL\\Project\\Outdoor\\test\\images\\MirrorWEBSmoke1995_jpg.rf.fd30220d27165e0407167b6e4ce2b2ee.jpg: 448x640 4 Fires, 10.7ms\n",
      "image 124/363 C:\\Users\\pc\\Desktop\\DL\\Project\\Outdoor\\test\\images\\MirrorWEBSmoke2270_jpg.rf.beae775123cf9b652bb95394be3b06f3.jpg: 384x640 1 Fire, 7.5ms\n",
      "image 125/363 C:\\Users\\pc\\Desktop\\DL\\Project\\Outdoor\\test\\images\\MirrorWEBSmoke2280_jpg.rf.716379a9fa3ec6035666c71c081ab615.jpg: 384x640 1 Fire, 6.3ms\n",
      "image 126/363 C:\\Users\\pc\\Desktop\\DL\\Project\\Outdoor\\test\\images\\MirrorWEBSmoke2378_jpg.rf.310be7d03fa4e53e9f0fb8d1497d6bed.jpg: 384x640 3 Fires, 6.0ms\n",
      "image 127/363 C:\\Users\\pc\\Desktop\\DL\\Project\\Outdoor\\test\\images\\MirrorWEBSmoke2383_jpg.rf.b6c05f4515a850f8c90b1f5d602b9121.jpg: 384x640 2 Fires, 9.5ms\n",
      "image 128/363 C:\\Users\\pc\\Desktop\\DL\\Project\\Outdoor\\test\\images\\MirrorWEBSmoke2509_jpg.rf.cfeaf357f140a5946e510007e9730b1e.jpg: 384x640 1 Fire, 6.0ms\n",
      "image 129/363 C:\\Users\\pc\\Desktop\\DL\\Project\\Outdoor\\test\\images\\MirrorWEBSmoke2605_jpg.rf.1898449c99000afdf8af060c17b0de08.jpg: 384x640 1 Fire, 5.0ms\n",
      "image 130/363 C:\\Users\\pc\\Desktop\\DL\\Project\\Outdoor\\test\\images\\MirrorWEBSmoke2813_jpg.rf.8eb998a0ac79ee5f62ee5ce323cecdda.jpg: 416x640 2 Fires, 6.0ms\n",
      "image 131/363 C:\\Users\\pc\\Desktop\\DL\\Project\\Outdoor\\test\\images\\MirrorWEBSmoke2858_jpg.rf.e3de07946a644b2ae20d731d74426cba.jpg: 384x640 2 Fires, 7.3ms\n",
      "image 132/363 C:\\Users\\pc\\Desktop\\DL\\Project\\Outdoor\\test\\images\\MirrorWEBSmoke329_jpg.rf.3ce30c0149fbe3af64a37ccc82fc7027.jpg: 640x640 2 Fires, 5.6ms\n",
      "image 133/363 C:\\Users\\pc\\Desktop\\DL\\Project\\Outdoor\\test\\images\\MirrorWEBSmoke3327_jpg.rf.013eb468538740f1ede219fcacb1d4e0.jpg: 480x640 4 Fires, 6.3ms\n",
      "image 134/363 C:\\Users\\pc\\Desktop\\DL\\Project\\Outdoor\\test\\images\\MirrorWEBSmoke3534_jpg.rf.21ab4b00bf6f19c35bc0b1fa66ad3598.jpg: 384x640 2 Fires, 5.8ms\n",
      "image 135/363 C:\\Users\\pc\\Desktop\\DL\\Project\\Outdoor\\test\\images\\MirrorWEBSmoke373_jpg.rf.0105c191cdc143f96df4431e9219ab3e.jpg: 480x640 5 Fires, 9.4ms\n",
      "image 136/363 C:\\Users\\pc\\Desktop\\DL\\Project\\Outdoor\\test\\images\\MirrorWEBSmoke709_jpg.rf.0c2e555b7cd613e2beb50f87f9e28276.jpg: 416x640 1 Fire, 8.5ms\n",
      "image 137/363 C:\\Users\\pc\\Desktop\\DL\\Project\\Outdoor\\test\\images\\MirrorWEBSmoke867_jpg.rf.fa1f33ee718933c7195b3db5c9bb4959.jpg: 640x640 1 Fire, 14.8ms\n",
      "image 138/363 C:\\Users\\pc\\Desktop\\DL\\Project\\Outdoor\\test\\images\\NoiseWEBFire1092_jpg.rf.25a4b0d484acf9c06f7c71f2f5dfeee3.jpg: 384x640 5 Fires, 6.7ms\n",
      "image 139/363 C:\\Users\\pc\\Desktop\\DL\\Project\\Outdoor\\test\\images\\NoiseWEBFire1097_jpg.rf.00cafd8ad4014360db4b35dc255bfd9d.jpg: 384x640 1 Fire, 6.3ms\n",
      "image 140/363 C:\\Users\\pc\\Desktop\\DL\\Project\\Outdoor\\test\\images\\NoiseWEBFire1157_jpg.rf.3e3fce5a61f5c6749e49339b8785d4f4.jpg: 448x640 1 Fire, 7.3ms\n",
      "image 141/363 C:\\Users\\pc\\Desktop\\DL\\Project\\Outdoor\\test\\images\\NoiseWEBFire1169_jpg.rf.83a84ce2d57d7becff322468fe9fb403.jpg: 384x640 5 Fires, 11.8ms\n",
      "image 142/363 C:\\Users\\pc\\Desktop\\DL\\Project\\Outdoor\\test\\images\\NoiseWEBFire1202_jpg.rf.a7b1c00bac0ed45259edddf006b5d02c.jpg: 384x640 1 Fire, 5.7ms\n",
      "image 143/363 C:\\Users\\pc\\Desktop\\DL\\Project\\Outdoor\\test\\images\\NoiseWEBFire1294_jpg.rf.afd5b393e97cfe02720fcfccbc225e60.jpg: 448x640 2 Fires, 8.3ms\n",
      "image 144/363 C:\\Users\\pc\\Desktop\\DL\\Project\\Outdoor\\test\\images\\NoiseWEBFire1342_jpg.rf.e58df3a5c2bace7f573454e3cc721c51.jpg: 512x640 3 Fires, 6.3ms\n",
      "image 145/363 C:\\Users\\pc\\Desktop\\DL\\Project\\Outdoor\\test\\images\\NoiseWEBFire1343_jpg.rf.faca3ec21e4002adf97c76ef6cc28ad6.jpg: 512x640 5 Fires, 7.2ms\n",
      "image 146/363 C:\\Users\\pc\\Desktop\\DL\\Project\\Outdoor\\test\\images\\NoiseWEBFire1365_jpg.rf.340294349672c32f4339a362dbacf52f.jpg: 544x640 2 Fires, 38.2ms\n",
      "image 147/363 C:\\Users\\pc\\Desktop\\DL\\Project\\Outdoor\\test\\images\\NoiseWEBFire1370_jpg.rf.1d68f8989b733b8d712c5b420cdc09c4.jpg: 448x640 3 Fires, 6.2ms\n",
      "image 148/363 C:\\Users\\pc\\Desktop\\DL\\Project\\Outdoor\\test\\images\\NoiseWEBFire1380_jpg.rf.c419f5fd78339b71fd24efc4e167c925.jpg: 288x640 2 Fires, 36.4ms\n",
      "image 149/363 C:\\Users\\pc\\Desktop\\DL\\Project\\Outdoor\\test\\images\\NoiseWEBFire1407_jpg.rf.26454af373956a5232f67ff077495bf8.jpg: 288x640 1 Fire, 4.7ms\n",
      "image 150/363 C:\\Users\\pc\\Desktop\\DL\\Project\\Outdoor\\test\\images\\NoiseWEBFire140_jpg.rf.ae72d8b56aafa9b95a2635fa672e4247.jpg: 480x640 2 Fires, 5.5ms\n",
      "image 151/363 C:\\Users\\pc\\Desktop\\DL\\Project\\Outdoor\\test\\images\\NoiseWEBFire1427_jpg.rf.8feb9b5a56decb70eed3da89fe045b54.jpg: 448x640 4 Fires, 5.0ms\n",
      "image 152/363 C:\\Users\\pc\\Desktop\\DL\\Project\\Outdoor\\test\\images\\NoiseWEBFire1430_jpg.rf.851bf869de159f07f241b49e568072af.jpg: 640x640 2 Fires, 5.9ms\n",
      "image 153/363 C:\\Users\\pc\\Desktop\\DL\\Project\\Outdoor\\test\\images\\NoiseWEBFire1441_jpg.rf.deb5cb18ecde1161de55768e9751618c.jpg: 384x640 1 Fire, 6.4ms\n",
      "image 154/363 C:\\Users\\pc\\Desktop\\DL\\Project\\Outdoor\\test\\images\\NoiseWEBFire1443_jpg.rf.9920bea89c6402ffaef2c794d014026a.jpg: 384x640 3 Fires, 4.7ms\n",
      "image 155/363 C:\\Users\\pc\\Desktop\\DL\\Project\\Outdoor\\test\\images\\NoiseWEBFire1449_jpg.rf.67eb48c6f32d15448c355700f759e772.jpg: 384x640 4 Fires, 5.1ms\n",
      "image 156/363 C:\\Users\\pc\\Desktop\\DL\\Project\\Outdoor\\test\\images\\NoiseWEBFire148_jpg.rf.9eb4028c97d62c60220d18b1c44c7d14.jpg: 448x640 2 Fires, 5.7ms\n",
      "image 157/363 C:\\Users\\pc\\Desktop\\DL\\Project\\Outdoor\\test\\images\\NoiseWEBFire187_jpg.rf.4f069e4156e204f0fb54750e954ab3bf.jpg: 640x384 2 Fires, 48.2ms\n",
      "image 158/363 C:\\Users\\pc\\Desktop\\DL\\Project\\Outdoor\\test\\images\\NoiseWEBFire2050_jpg.rf.15fc5e10ede652477cd206d245964b7f.jpg: 448x640 2 Fires, 5.3ms\n",
      "image 159/363 C:\\Users\\pc\\Desktop\\DL\\Project\\Outdoor\\test\\images\\NoiseWEBFire2200_jpg.rf.969b1e1a7c7107ef7859f309ff8adcf2.jpg: 416x640 3 Fires, 5.2ms\n",
      "image 160/363 C:\\Users\\pc\\Desktop\\DL\\Project\\Outdoor\\test\\images\\NoiseWEBFire878_jpg.rf.a5e2f823515ad6625251c0055b40cf71.jpg: 384x640 7 Fires, 5.6ms\n",
      "image 161/363 C:\\Users\\pc\\Desktop\\DL\\Project\\Outdoor\\test\\images\\NoiseWEBFire879_jpg.rf.8369375a8d42878ef7932b0af1a10960.jpg: 384x640 6 Fires, 5.2ms\n",
      "image 162/363 C:\\Users\\pc\\Desktop\\DL\\Project\\Outdoor\\test\\images\\NoiseWEBFire880_jpg.rf.aba6eceadd4e1171b74f138dd9522c31.jpg: 384x640 6 Fires, 8.4ms\n",
      "image 163/363 C:\\Users\\pc\\Desktop\\DL\\Project\\Outdoor\\test\\images\\NoiseWEBSmoke1113_jpg.rf.7964137fbaae9e88da3c45f1fa85efa4.jpg: 320x640 (no detections), 4.9ms\n",
      "image 164/363 C:\\Users\\pc\\Desktop\\DL\\Project\\Outdoor\\test\\images\\NoiseWEBSmoke1218_jpg.rf.ea3f327856aae97f207f2a6cfae465da.jpg: 384x640 5 Fires, 6.6ms\n",
      "image 165/363 C:\\Users\\pc\\Desktop\\DL\\Project\\Outdoor\\test\\images\\NoiseWEBSmoke1334_jpg.rf.773eae2a40b51b20fb9db45d775dc9b0.jpg: 448x640 1 Fire, 7.0ms\n",
      "image 166/363 C:\\Users\\pc\\Desktop\\DL\\Project\\Outdoor\\test\\images\\NoiseWEBSmoke1938_jpg.rf.400f594f48b7ef0fdd6bf1a4e7dd2e0e.jpg: 384x640 4 Fires, 7.8ms\n",
      "image 167/363 C:\\Users\\pc\\Desktop\\DL\\Project\\Outdoor\\test\\images\\NoiseWEBSmoke1941_jpg.rf.11cfbab554e8f7ea1c72c8bb481d67f3.jpg: 384x640 (no detections), 4.5ms\n",
      "image 168/363 C:\\Users\\pc\\Desktop\\DL\\Project\\Outdoor\\test\\images\\NoiseWEBSmoke2141_jpg.rf.1104b2f9adf4977ca308e953b753fe86.jpg: 384x640 3 Fires, 8.3ms\n",
      "image 169/363 C:\\Users\\pc\\Desktop\\DL\\Project\\Outdoor\\test\\images\\NoiseWEBSmoke2154_jpg.rf.1cf883852ba8d2cd84bf699e1bcd9d14.jpg: 384x640 2 Fires, 6.6ms\n",
      "image 170/363 C:\\Users\\pc\\Desktop\\DL\\Project\\Outdoor\\test\\images\\NoiseWEBSmoke2159_jpg.rf.71da470e9eb8f7692741382223d18aec.jpg: 384x640 4 Fires, 6.3ms\n",
      "image 171/363 C:\\Users\\pc\\Desktop\\DL\\Project\\Outdoor\\test\\images\\NoiseWEBSmoke2160_jpg.rf.7805b28f7e2979b324db9647cde47e8e.jpg: 384x640 5 Fires, 7.2ms\n",
      "image 172/363 C:\\Users\\pc\\Desktop\\DL\\Project\\Outdoor\\test\\images\\NoiseWEBSmoke2200_jpg.rf.1e2989681d687079df4fe532c900bc33.jpg: 384x640 4 Fires, 5.6ms\n",
      "image 173/363 C:\\Users\\pc\\Desktop\\DL\\Project\\Outdoor\\test\\images\\NoiseWEBSmoke2262_jpg.rf.c1d060659a7b51f87e7ea5a19ba55f88.jpg: 384x640 3 Fires, 6.0ms\n",
      "image 174/363 C:\\Users\\pc\\Desktop\\DL\\Project\\Outdoor\\test\\images\\NoiseWEBSmoke2478_jpg.rf.b48574434ba4684dfb5a99db5821e7ec.jpg: 448x640 1 Fire, 7.2ms\n",
      "image 175/363 C:\\Users\\pc\\Desktop\\DL\\Project\\Outdoor\\test\\images\\NoiseWEBSmoke2491_jpg.rf.df6bd9aef25c1bc985aeb3292834d05e.jpg: 448x640 6 Fires, 8.6ms\n",
      "image 176/363 C:\\Users\\pc\\Desktop\\DL\\Project\\Outdoor\\test\\images\\NoiseWEBSmoke280_jpg.rf.73c4ee839c357b75b8f3ea37ff259984.jpg: 608x640 2 Fires, 6.2ms\n",
      "image 177/363 C:\\Users\\pc\\Desktop\\DL\\Project\\Outdoor\\test\\images\\NoiseWEBSmoke2847_jpg.rf.06fef94f1f41f1491e76a30d7828bc28.jpg: 384x640 2 Fires, 6.0ms\n",
      "image 178/363 C:\\Users\\pc\\Desktop\\DL\\Project\\Outdoor\\test\\images\\NoiseWEBSmoke2852_jpg.rf.915c6371a06a9c42c5b70fb5df58648b.jpg: 448x640 (no detections), 5.6ms\n",
      "image 179/363 C:\\Users\\pc\\Desktop\\DL\\Project\\Outdoor\\test\\images\\NoiseWEBSmoke2954_jpg.rf.86da468775a6bbcb4dc9a6c515c15052.jpg: 416x640 3 Fires, 6.6ms\n",
      "image 180/363 C:\\Users\\pc\\Desktop\\DL\\Project\\Outdoor\\test\\images\\NoiseWEBSmoke3017_jpg.rf.47dcce395d7408b28ae2915b4c6aaf89.jpg: 384x640 2 Fires, 6.6ms\n",
      "image 181/363 C:\\Users\\pc\\Desktop\\DL\\Project\\Outdoor\\test\\images\\NoiseWEBSmoke3220_jpg.rf.60aacaaffe624af67dad081bc99afa2b.jpg: 384x640 3 Fires, 8.2ms\n",
      "image 182/363 C:\\Users\\pc\\Desktop\\DL\\Project\\Outdoor\\test\\images\\NoiseWEBSmoke3327_jpg.rf.09afbfc12f04f4a1f9d0730bdaa8769a.jpg: 480x640 4 Fires, 5.4ms\n",
      "image 183/363 C:\\Users\\pc\\Desktop\\DL\\Project\\Outdoor\\test\\images\\NoiseWEBSmoke3355_jpg.rf.c1e66aff126316955545a7c2cd9e80ed.jpg: 384x640 (no detections), 7.0ms\n",
      "image 184/363 C:\\Users\\pc\\Desktop\\DL\\Project\\Outdoor\\test\\images\\NoiseWEBSmoke3591_jpg.rf.348bf468108b1b4b67eaa0f615950c98.jpg: 352x640 2 Fires, 5.2ms\n",
      "image 185/363 C:\\Users\\pc\\Desktop\\DL\\Project\\Outdoor\\test\\images\\NoiseWEBSmoke373_jpg.rf.11ee93d544b58e386332dc4eb57473ad.jpg: 480x640 4 Fires, 5.6ms\n",
      "image 186/363 C:\\Users\\pc\\Desktop\\DL\\Project\\Outdoor\\test\\images\\NoiseWEBSmoke381_jpg.rf.fd442bbf5d435fdf193c490d10659b4f.jpg: 448x640 2 Fires, 5.9ms\n",
      "image 187/363 C:\\Users\\pc\\Desktop\\DL\\Project\\Outdoor\\test\\images\\NoiseWEBSmoke409_jpg.rf.efaded765ff8b8551441f5b7158981a6.jpg: 384x640 2 Fires, 6.6ms\n",
      "image 188/363 C:\\Users\\pc\\Desktop\\DL\\Project\\Outdoor\\test\\images\\NoiseWEBSmoke573_jpg.rf.189427565ca80ddd6bb0ccd91bde9507.jpg: 320x640 1 Fire, 7.0ms\n",
      "image 189/363 C:\\Users\\pc\\Desktop\\DL\\Project\\Outdoor\\test\\images\\NoiseWEBSmoke623_jpg.rf.a2d570db34bea58df7d290bf13025e83.jpg: 448x640 1 Fire, 5.4ms\n",
      "image 190/363 C:\\Users\\pc\\Desktop\\DL\\Project\\Outdoor\\test\\images\\NoiseWEBSmoke633_jpg.rf.528ee22c042b4d6c40eb513584fbf2d9.jpg: 352x640 2 Fires, 7.3ms\n",
      "image 191/363 C:\\Users\\pc\\Desktop\\DL\\Project\\Outdoor\\test\\images\\NoiseWEBSmoke709_jpg.rf.38c18535594cbe518dfb134143a6eb4d.jpg: 416x640 1 Fire, 6.5ms\n",
      "image 192/363 C:\\Users\\pc\\Desktop\\DL\\Project\\Outdoor\\test\\images\\WEBFP1272_jpg.rf.dc3bf25d566f648e490ec3b1fe8f8534.jpg: 384x640 1 Fire, 9.7ms\n",
      "image 193/363 C:\\Users\\pc\\Desktop\\DL\\Project\\Outdoor\\test\\images\\WEBFP1274_jpg.rf.a813db99e99ecd61d3bc1dcc47a2ac84.jpg: 384x640 1 Fire, 5.4ms\n",
      "image 194/363 C:\\Users\\pc\\Desktop\\DL\\Project\\Outdoor\\test\\images\\WEBFire052_jpg.rf.754d87bad5730c4376fe9ca086ff7aed.jpg: 448x640 1 Fire, 6.8ms\n",
      "image 195/363 C:\\Users\\pc\\Desktop\\DL\\Project\\Outdoor\\test\\images\\WEBFire1000_jpg.rf.0cb8d4491b79bc3651866e8a64589e91.jpg: 384x640 4 Fires, 9.8ms\n",
      "image 196/363 C:\\Users\\pc\\Desktop\\DL\\Project\\Outdoor\\test\\images\\WEBFire1011_jpg.rf.6bd41a88950f7a0c669f845c6170831e.jpg: 384x640 1 Fire, 5.1ms\n",
      "image 197/363 C:\\Users\\pc\\Desktop\\DL\\Project\\Outdoor\\test\\images\\WEBFire1055_jpg.rf.92a9598975633b54c3c94f95e3482861.jpg: 384x640 2 Fires, 5.0ms\n",
      "image 198/363 C:\\Users\\pc\\Desktop\\DL\\Project\\Outdoor\\test\\images\\WEBFire1057_jpg.rf.fec1b0ffc22ef569c4b2061a9fd77c75.jpg: 384x640 6 Fires, 4.9ms\n",
      "image 199/363 C:\\Users\\pc\\Desktop\\DL\\Project\\Outdoor\\test\\images\\WEBFire1065_jpg.rf.7d170346faaa1dc10e8660c8a094bd36.jpg: 384x640 1 Fire, 6.6ms\n",
      "image 200/363 C:\\Users\\pc\\Desktop\\DL\\Project\\Outdoor\\test\\images\\WEBFire1087_jpg.rf.0316b28f9d3365b0e4adbdf8f7c330d0.jpg: 384x640 5 Fires, 9.1ms\n",
      "image 201/363 C:\\Users\\pc\\Desktop\\DL\\Project\\Outdoor\\test\\images\\WEBFire1092_jpg.rf.0a01144a4bbdd90be4e6a79a3ece6f7e.jpg: 384x640 4 Fires, 5.1ms\n",
      "image 202/363 C:\\Users\\pc\\Desktop\\DL\\Project\\Outdoor\\test\\images\\WEBFire1095_jpg.rf.61d555e3e850d869ec2b6fad2ca0f15a.jpg: 384x640 1 Fire, 4.5ms\n",
      "image 203/363 C:\\Users\\pc\\Desktop\\DL\\Project\\Outdoor\\test\\images\\WEBFire1152_jpg.rf.0ac247f3c535c16dbb2ee9c9e5a445f5.jpg: 544x640 5 Fires, 9.2ms\n",
      "image 204/363 C:\\Users\\pc\\Desktop\\DL\\Project\\Outdoor\\test\\images\\WEBFire1171_jpg.rf.3a8755dfb5d0c72fa5ad7c09056b35bc.jpg: 640x640 2 Fires, 8.9ms\n",
      "image 205/363 C:\\Users\\pc\\Desktop\\DL\\Project\\Outdoor\\test\\images\\WEBFire1187_jpg.rf.465ffea2624e22fd25ccff126ee29377.jpg: 384x640 2 Fires, 5.5ms\n",
      "image 206/363 C:\\Users\\pc\\Desktop\\DL\\Project\\Outdoor\\test\\images\\WEBFire1191_jpg.rf.55d3f0beacca05bbfd3a8ef7c9d61e1a.jpg: 384x640 1 Fire, 6.3ms\n",
      "image 207/363 C:\\Users\\pc\\Desktop\\DL\\Project\\Outdoor\\test\\images\\WEBFire1201_jpg.rf.d6c39609916739899ae98075b53402f7.jpg: 384x640 1 Fire, 7.2ms\n",
      "image 208/363 C:\\Users\\pc\\Desktop\\DL\\Project\\Outdoor\\test\\images\\WEBFire1207_jpg.rf.8eaa3554cc462afcb1f1eec9deb40226.jpg: 384x640 1 Fire, 4.6ms\n",
      "image 209/363 C:\\Users\\pc\\Desktop\\DL\\Project\\Outdoor\\test\\images\\WEBFire1209_jpg.rf.9b1cca751557d97934680ce500220ea7.jpg: 384x640 1 Fire, 5.7ms\n",
      "image 210/363 C:\\Users\\pc\\Desktop\\DL\\Project\\Outdoor\\test\\images\\WEBFire1210_jpg.rf.633579bf2bedfd646a1d5854e9f3d2f6.jpg: 384x640 1 Fire, 5.4ms\n",
      "image 211/363 C:\\Users\\pc\\Desktop\\DL\\Project\\Outdoor\\test\\images\\WEBFire1223_jpg.rf.14ac40fd9939c5377ceb36b409988533.jpg: 384x640 2 Fires, 5.5ms\n",
      "image 212/363 C:\\Users\\pc\\Desktop\\DL\\Project\\Outdoor\\test\\images\\WEBFire1262_jpg.rf.18a628284b957566fbcfedb455f8dc25.jpg: 448x640 2 Fires, 8.7ms\n",
      "image 213/363 C:\\Users\\pc\\Desktop\\DL\\Project\\Outdoor\\test\\images\\WEBFire1307_jpg.rf.532d1e8d617102718f738dbc3b698330.jpg: 640x640 1 Fire, 8.4ms\n",
      "image 214/363 C:\\Users\\pc\\Desktop\\DL\\Project\\Outdoor\\test\\images\\WEBFire1313_jpg.rf.594e58401159ad9860c3857b2cad2804.jpg: 448x640 1 Fire, 5.7ms\n",
      "image 215/363 C:\\Users\\pc\\Desktop\\DL\\Project\\Outdoor\\test\\images\\WEBFire1347_jpg.rf.2c5a8ce1d5bec91f0a5ae2a70c30bd2b.jpg: 640x480 3 Fires, 11.6ms\n",
      "image 216/363 C:\\Users\\pc\\Desktop\\DL\\Project\\Outdoor\\test\\images\\WEBFire1368_jpg.rf.d769920b373e479004dbec1f98fdc72f.jpg: 640x608 2 Fires, 34.3ms\n",
      "image 217/363 C:\\Users\\pc\\Desktop\\DL\\Project\\Outdoor\\test\\images\\WEBFire1387_jpg.rf.a341a6faaea9c6f4cc410a8d5998cfc5.jpg: 352x640 1 Fire, 10.2ms\n",
      "image 218/363 C:\\Users\\pc\\Desktop\\DL\\Project\\Outdoor\\test\\images\\WEBFire1389_jpg.rf.7d1b162c38dbe5de35496f20851df807.jpg: 384x640 6 Fires, 8.8ms\n",
      "image 219/363 C:\\Users\\pc\\Desktop\\DL\\Project\\Outdoor\\test\\images\\WEBFire1394_jpg.rf.31283d14ba0075d53d5a5d04fe5a978a.jpg: 288x640 2 Fires, 8.6ms\n",
      "image 220/363 C:\\Users\\pc\\Desktop\\DL\\Project\\Outdoor\\test\\images\\WEBFire1401_jpg.rf.1b957b8485f0093317d98145ec2c69ca.jpg: 416x640 1 Fire, 7.3ms\n",
      "image 221/363 C:\\Users\\pc\\Desktop\\DL\\Project\\Outdoor\\test\\images\\WEBFire1404_jpg.rf.5be53ca19d5c4dcbc85d6ce620555697.jpg: 320x640 2 Fires, 10.6ms\n",
      "image 222/363 C:\\Users\\pc\\Desktop\\DL\\Project\\Outdoor\\test\\images\\WEBFire1409_jpg.rf.9932ac94c1a4f2181fecee471b19aff0.jpg: 352x640 4 Fires, 7.0ms\n",
      "image 223/363 C:\\Users\\pc\\Desktop\\DL\\Project\\Outdoor\\test\\images\\WEBFire1414_jpg.rf.29487bd74303ec2d62c93c597faa9b4c.jpg: 448x640 1 Fire, 8.4ms\n",
      "image 224/363 C:\\Users\\pc\\Desktop\\DL\\Project\\Outdoor\\test\\images\\WEBFire1419_jpg.rf.4632e6f092de9a462bd5650d6985388e.jpg: 320x640 3 Fires, 6.1ms\n",
      "image 225/363 C:\\Users\\pc\\Desktop\\DL\\Project\\Outdoor\\test\\images\\WEBFire1421_jpg.rf.ae180bcbe99ed6c46e705c41cb5b7407.jpg: 416x640 2 Fires, 7.2ms\n",
      "image 226/363 C:\\Users\\pc\\Desktop\\DL\\Project\\Outdoor\\test\\images\\WEBFire1431_jpg.rf.d3711f34ded755b9962371ccc11152fb.jpg: 448x640 2 Fires, 11.0ms\n",
      "image 227/363 C:\\Users\\pc\\Desktop\\DL\\Project\\Outdoor\\test\\images\\WEBFire1443_jpg.rf.8656bb77c66c80c8e654bf682398c711.jpg: 384x640 3 Fires, 10.5ms\n",
      "image 228/363 C:\\Users\\pc\\Desktop\\DL\\Project\\Outdoor\\test\\images\\WEBFire1480_jpg.rf.af94fdfeb174e41c4fd6ddc9fac1c65e.jpg: 384x640 1 Fire, 8.4ms\n",
      "image 229/363 C:\\Users\\pc\\Desktop\\DL\\Project\\Outdoor\\test\\images\\WEBFire148_jpg.rf.8ea830714d0821e3f28d438450f90263.jpg: 448x640 2 Fires, 7.7ms\n",
      "image 230/363 C:\\Users\\pc\\Desktop\\DL\\Project\\Outdoor\\test\\images\\WEBFire1520_jpg.rf.27ac2651527f597c945647bbf1811de6.jpg: 384x640 2 Fires, 7.1ms\n",
      "image 231/363 C:\\Users\\pc\\Desktop\\DL\\Project\\Outdoor\\test\\images\\WEBFire1534_jpg.rf.3c48c6ab1403472641decd9b830952bc.jpg: 384x640 1 Fire, 8.9ms\n",
      "image 232/363 C:\\Users\\pc\\Desktop\\DL\\Project\\Outdoor\\test\\images\\WEBFire1540_jpg.rf.65ab7f764fcc271ba5fde6df46a263b5.jpg: 384x640 1 Fire, 9.1ms\n",
      "image 233/363 C:\\Users\\pc\\Desktop\\DL\\Project\\Outdoor\\test\\images\\WEBFire155_jpg.rf.592831a6e046701aa102204bdda76245.jpg: 480x640 4 Fires, 8.8ms\n",
      "image 234/363 C:\\Users\\pc\\Desktop\\DL\\Project\\Outdoor\\test\\images\\WEBFire1603_jpg.rf.29cde6fa008f96012f8f22dc2edfefda.jpg: 416x640 2 Fires, 7.4ms\n",
      "image 235/363 C:\\Users\\pc\\Desktop\\DL\\Project\\Outdoor\\test\\images\\WEBFire1631_jpg.rf.eadd22892820afcd0fad3dbf8feb5dc9.jpg: 448x640 1 Fire, 8.6ms\n",
      "image 236/363 C:\\Users\\pc\\Desktop\\DL\\Project\\Outdoor\\test\\images\\WEBFire1676_jpg.rf.559ba00d5a362469db3c40b6a6da22c0.jpg: 608x640 1 Fire, 13.5ms\n",
      "image 237/363 C:\\Users\\pc\\Desktop\\DL\\Project\\Outdoor\\test\\images\\WEBFire1695_jpg.rf.ea1249bacca8fa1b88701401d8d8f940.jpg: 480x640 2 Fires, 8.1ms\n",
      "image 238/363 C:\\Users\\pc\\Desktop\\DL\\Project\\Outdoor\\test\\images\\WEBFire1704_jpg.rf.db3072ace91e74b7c0709bc3fcab9e7c.jpg: 352x640 6 Fires, 5.9ms\n",
      "image 239/363 C:\\Users\\pc\\Desktop\\DL\\Project\\Outdoor\\test\\images\\WEBFire1734_jpg.rf.6cb2191837a0af8e70c4d350d7644312.jpg: 512x640 1 Fire, 8.1ms\n",
      "image 240/363 C:\\Users\\pc\\Desktop\\DL\\Project\\Outdoor\\test\\images\\WEBFire1761_jpg.rf.6ed417525848bc0638d7c76b744f6e04.jpg: 448x640 5 Fires, 10.6ms\n",
      "image 241/363 C:\\Users\\pc\\Desktop\\DL\\Project\\Outdoor\\test\\images\\WEBFire1770_jpg.rf.e2ee13c9c5b0716202a945401ac06438.jpg: 448x640 1 Fire, 8.8ms\n",
      "image 242/363 C:\\Users\\pc\\Desktop\\DL\\Project\\Outdoor\\test\\images\\WEBFire1771_jpg.rf.ee33acf31e1be20254e160ac4146911f.jpg: 448x640 5 Fires, 6.7ms\n",
      "image 243/363 C:\\Users\\pc\\Desktop\\DL\\Project\\Outdoor\\test\\images\\WEBFire1773_jpg.rf.9f15474b44332409a7eaab31ea115f58.jpg: 384x640 1 Fire, 8.6ms\n",
      "image 244/363 C:\\Users\\pc\\Desktop\\DL\\Project\\Outdoor\\test\\images\\WEBFire178_jpg.rf.06ee6395bcb42eddaaf700728b1f72fa.jpg: 480x640 5 Fires, 11.0ms\n",
      "image 245/363 C:\\Users\\pc\\Desktop\\DL\\Project\\Outdoor\\test\\images\\WEBFire184_jpg.rf.789ec13fae3f5dd81fc556151f00ad79.jpg: 384x640 13 Fires, 5.9ms\n",
      "image 246/363 C:\\Users\\pc\\Desktop\\DL\\Project\\Outdoor\\test\\images\\WEBFire1869_jpg.rf.c41ad3191ac9d229823e3df8c4bad0e8.jpg: 384x640 2 Fires, 4.9ms\n",
      "image 247/363 C:\\Users\\pc\\Desktop\\DL\\Project\\Outdoor\\test\\images\\WEBFire1892_jpg.rf.97022190d9be211077918b6d50983158.jpg: 384x640 2 Fires, 6.6ms\n",
      "image 248/363 C:\\Users\\pc\\Desktop\\DL\\Project\\Outdoor\\test\\images\\WEBFire1904_jpg.rf.491b329f6fa043814ebc61bf23f99893.jpg: 352x640 1 Fire, 6.1ms\n",
      "image 249/363 C:\\Users\\pc\\Desktop\\DL\\Project\\Outdoor\\test\\images\\WEBFire1907_jpg.rf.02c924b1a51cd88ae03743545cf667bc.jpg: 320x640 2 Fires, 6.4ms\n",
      "image 250/363 C:\\Users\\pc\\Desktop\\DL\\Project\\Outdoor\\test\\images\\WEBFire1910_jpg.rf.9c3c696b01189274bb071581fb87aabc.jpg: 320x640 1 Fire, 6.4ms\n",
      "image 251/363 C:\\Users\\pc\\Desktop\\DL\\Project\\Outdoor\\test\\images\\WEBFire1985_jpg.rf.8b5b74d6e405d9a12c1bdf1bd7ff9007.jpg: 448x640 4 Fires, 8.2ms\n",
      "image 252/363 C:\\Users\\pc\\Desktop\\DL\\Project\\Outdoor\\test\\images\\WEBFire2036_jpg.rf.8bfde332b2528aff2c84e7d5719161b1.jpg: 448x640 2 Fires, 6.7ms\n",
      "image 253/363 C:\\Users\\pc\\Desktop\\DL\\Project\\Outdoor\\test\\images\\WEBFire2057_jpg.rf.50b71f297b231f24c09dfc83712616ee.jpg: 480x640 3 Fires, 5.8ms\n",
      "image 254/363 C:\\Users\\pc\\Desktop\\DL\\Project\\Outdoor\\test\\images\\WEBFire2074_jpg.rf.ca396e040bab33e68a576add03a44209.jpg: 608x640 1 Fire, 5.3ms\n",
      "image 255/363 C:\\Users\\pc\\Desktop\\DL\\Project\\Outdoor\\test\\images\\WEBFire2131_jpg.rf.dcad3d9387d31bb12a8b0a587dae0f67.jpg: 512x640 3 Fires, 8.1ms\n",
      "image 256/363 C:\\Users\\pc\\Desktop\\DL\\Project\\Outdoor\\test\\images\\WEBFire2138_jpg.rf.7292d985e9a4322947803bd659b72e05.jpg: 448x640 5 Fires, 6.3ms\n",
      "image 257/363 C:\\Users\\pc\\Desktop\\DL\\Project\\Outdoor\\test\\images\\WEBFire2154_jpg.rf.fe25c31e13eca6f9cde0933c8686acd8.jpg: 416x640 3 Fires, 5.9ms\n",
      "image 258/363 C:\\Users\\pc\\Desktop\\DL\\Project\\Outdoor\\test\\images\\WEBFire2155_jpg.rf.0b6266d556c0a4e4bb56510b232cbea9.jpg: 416x640 3 Fires, 4.8ms\n",
      "image 259/363 C:\\Users\\pc\\Desktop\\DL\\Project\\Outdoor\\test\\images\\WEBFire244_jpg.rf.a297e2a92df7425e8e35e829d29274f9.jpg: 384x640 10 Fires, 7.2ms\n",
      "image 260/363 C:\\Users\\pc\\Desktop\\DL\\Project\\Outdoor\\test\\images\\WEBFire250_jpg.rf.42106697f931c3aea946f0dde856c9a6.jpg: 384x640 4 Fires, 5.2ms\n",
      "image 261/363 C:\\Users\\pc\\Desktop\\DL\\Project\\Outdoor\\test\\images\\WEBFire292_jpg.rf.f47ae6dd0bccc80448fcbe873a344445.jpg: 384x640 3 Fires, 8.5ms\n",
      "image 262/363 C:\\Users\\pc\\Desktop\\DL\\Project\\Outdoor\\test\\images\\WEBFire334_jpg.rf.71392f195409c417d802af951d71fb87.jpg: 384x640 3 Fires, 5.9ms\n",
      "image 263/363 C:\\Users\\pc\\Desktop\\DL\\Project\\Outdoor\\test\\images\\WEBFire344_jpg.rf.77e71b197a9e44be306118c8a7d2dafc.jpg: 384x640 6 Fires, 6.9ms\n",
      "image 264/363 C:\\Users\\pc\\Desktop\\DL\\Project\\Outdoor\\test\\images\\WEBFire346_jpg.rf.b085437265ff6567b1bae26d224ae006.jpg: 384x640 3 Fires, 5.9ms\n",
      "image 265/363 C:\\Users\\pc\\Desktop\\DL\\Project\\Outdoor\\test\\images\\WEBFire357_jpg.rf.c17340edb4a0d0aaa6fb4b82c92a5cb8.jpg: 384x640 4 Fires, 4.8ms\n",
      "image 266/363 C:\\Users\\pc\\Desktop\\DL\\Project\\Outdoor\\test\\images\\WEBFire360_jpg.rf.f92d1af3346b8bee1f68f904aee3b753.jpg: 384x640 5 Fires, 4.8ms\n",
      "image 267/363 C:\\Users\\pc\\Desktop\\DL\\Project\\Outdoor\\test\\images\\WEBFire386_jpg.rf.fba45e435485a72d6c0d4c8c2f1b9234.jpg: 384x640 3 Fires, 6.4ms\n",
      "image 268/363 C:\\Users\\pc\\Desktop\\DL\\Project\\Outdoor\\test\\images\\WEBFire399_jpg.rf.15b5415464c62e28ee9b6b3f895d89d7.jpg: 384x640 4 Fires, 5.3ms\n",
      "image 269/363 C:\\Users\\pc\\Desktop\\DL\\Project\\Outdoor\\test\\images\\WEBFire407_jpg.rf.3160e2a621c268ffab7ae470dbc8f695.jpg: 384x640 4 Fires, 8.6ms\n",
      "image 270/363 C:\\Users\\pc\\Desktop\\DL\\Project\\Outdoor\\test\\images\\WEBFire412_jpg.rf.250f6b402a006b0b6e69c919eb49747e.jpg: 384x640 5 Fires, 4.9ms\n",
      "image 271/363 C:\\Users\\pc\\Desktop\\DL\\Project\\Outdoor\\test\\images\\WEBFire423_jpg.rf.c12dc9f3afd885f28e227e51f4e144fa.jpg: 384x640 1 Fire, 6.5ms\n",
      "image 272/363 C:\\Users\\pc\\Desktop\\DL\\Project\\Outdoor\\test\\images\\WEBFire534_jpg.rf.0cd1d7f62e81e0b8c0ef230d5d0f4b49.jpg: 384x640 10 Fires, 5.4ms\n",
      "image 273/363 C:\\Users\\pc\\Desktop\\DL\\Project\\Outdoor\\test\\images\\WEBFire561_jpg.rf.037458b926064b99a2e48da93d96b35d.jpg: 384x640 1 Fire, 4.8ms\n",
      "image 274/363 C:\\Users\\pc\\Desktop\\DL\\Project\\Outdoor\\test\\images\\WEBFire565_jpg.rf.bcc78e425314a2b9c8d836cdad52895b.jpg: 384x640 1 Fire, 4.8ms\n",
      "image 275/363 C:\\Users\\pc\\Desktop\\DL\\Project\\Outdoor\\test\\images\\WEBFire596_jpg.rf.8110a37ec889e6adaa43aa0a98f39e02.jpg: 384x640 7 Fires, 6.8ms\n",
      "image 276/363 C:\\Users\\pc\\Desktop\\DL\\Project\\Outdoor\\test\\images\\WEBFire607_jpg.rf.3aedbe20a574271d337de42f3e7402ea.jpg: 384x640 5 Fires, 8.5ms\n",
      "image 277/363 C:\\Users\\pc\\Desktop\\DL\\Project\\Outdoor\\test\\images\\WEBFire793_jpg.rf.37d6b721b7486984d71e519a0c976faa.jpg: 384x640 12 Fires, 5.7ms\n",
      "image 278/363 C:\\Users\\pc\\Desktop\\DL\\Project\\Outdoor\\test\\images\\WEBFire888_jpg.rf.2c016ceaaeb7189cba7bfdf9b7005d18.jpg: 384x640 1 Fire, 4.5ms\n",
      "image 279/363 C:\\Users\\pc\\Desktop\\DL\\Project\\Outdoor\\test\\images\\WEBFire889_jpg.rf.7a1541871c9e1f2f7fe606a5bdbe0ae4.jpg: 384x640 6 Fires, 8.3ms\n",
      "image 280/363 C:\\Users\\pc\\Desktop\\DL\\Project\\Outdoor\\test\\images\\WEBFire893_jpg.rf.b79a9a6f3d7f34d47211e596c476d20a.jpg: 384x640 4 Fires, 6.3ms\n",
      "image 281/363 C:\\Users\\pc\\Desktop\\DL\\Project\\Outdoor\\test\\images\\WEBFire905_jpg.rf.9e9f4b220ce4cc7b89cbe3544baefaf7.jpg: 384x640 1 Fire, 5.4ms\n",
      "image 282/363 C:\\Users\\pc\\Desktop\\DL\\Project\\Outdoor\\test\\images\\WEBFire941_jpg.rf.9a979b23a4d22636bd3465e43b771148.jpg: 384x640 5 Fires, 5.4ms\n",
      "image 283/363 C:\\Users\\pc\\Desktop\\DL\\Project\\Outdoor\\test\\images\\WEBFire945_jpg.rf.819cc951a38a74c1aab62ab17f297727.jpg: 384x640 3 Fires, 8.3ms\n",
      "image 284/363 C:\\Users\\pc\\Desktop\\DL\\Project\\Outdoor\\test\\images\\WEBFire949_jpg.rf.eb1914ad043f0aeed9bca33e4d29e971.jpg: 384x640 3 Fires, 7.6ms\n",
      "image 285/363 C:\\Users\\pc\\Desktop\\DL\\Project\\Outdoor\\test\\images\\WEBFire951_jpg.rf.52bef315edd00f929ac5d98a15edba0b.jpg: 384x640 3 Fires, 5.5ms\n",
      "image 286/363 C:\\Users\\pc\\Desktop\\DL\\Project\\Outdoor\\test\\images\\WEBSmoke1068_jpg.rf.8291db8662d398dcbb123db8d1f5f3f5.jpg: 480x640 2 Fires, 7.0ms\n",
      "image 287/363 C:\\Users\\pc\\Desktop\\DL\\Project\\Outdoor\\test\\images\\WEBSmoke1089_jpg.rf.023e9821d3910e029a3d63cbcd1e025d.jpg: 480x640 2 Fires, 5.2ms\n",
      "image 288/363 C:\\Users\\pc\\Desktop\\DL\\Project\\Outdoor\\test\\images\\WEBSmoke1258_jpg.rf.63b707b067540c8e47bfa2ee78fe4776.jpg: 384x640 1 Fire, 5.4ms\n",
      "image 289/363 C:\\Users\\pc\\Desktop\\DL\\Project\\Outdoor\\test\\images\\WEBSmoke1310_jpg.rf.1220a11911e7e58fcd615ba2a7ef557a.jpg: 480x640 3 Fires, 7.8ms\n",
      "image 290/363 C:\\Users\\pc\\Desktop\\DL\\Project\\Outdoor\\test\\images\\WEBSmoke1795_jpg.rf.1aaf2de8ce2a84b7ec0492f88f8f95b8.jpg: 480x640 1 Fire, 4.3ms\n",
      "image 291/363 C:\\Users\\pc\\Desktop\\DL\\Project\\Outdoor\\test\\images\\WEBSmoke2277_jpg.rf.0545e4709dda79f6d2b8fb2a81d66fbc.jpg: 384x640 1 Fire, 5.5ms\n",
      "image 292/363 C:\\Users\\pc\\Desktop\\DL\\Project\\Outdoor\\test\\images\\WEBSmoke2333_jpg.rf.e826ede56a80883572f32654a92347e0.jpg: 384x640 2 Fires, 4.3ms\n",
      "image 293/363 C:\\Users\\pc\\Desktop\\DL\\Project\\Outdoor\\test\\images\\WEBSmoke2334_jpg.rf.28d8ea6904830efaa987abde5d635441.jpg: 384x640 1 Fire, 7.1ms\n",
      "image 294/363 C:\\Users\\pc\\Desktop\\DL\\Project\\Outdoor\\test\\images\\WEBSmoke2385_jpg.rf.0e3800d64dbec52aea6b9acf5fbc1147.jpg: 384x640 6 Fires, 4.9ms\n",
      "image 295/363 C:\\Users\\pc\\Desktop\\DL\\Project\\Outdoor\\test\\images\\WEBSmoke2474_jpg.rf.e431e08a0f50ccd99ae8a36a65c5c847.jpg: 384x640 1 Fire, 5.8ms\n",
      "image 296/363 C:\\Users\\pc\\Desktop\\DL\\Project\\Outdoor\\test\\images\\WEBSmoke2535_jpg.rf.e6e238a70b8fc9fa5795d71bf3015ccd.jpg: 640x384 3 Fires, 5.1ms\n",
      "image 297/363 C:\\Users\\pc\\Desktop\\DL\\Project\\Outdoor\\test\\images\\WEBSmoke2944_jpg.rf.34f6f047b2bc2a397978e42a8fbb5240.jpg: 384x640 2 Fires, 6.8ms\n",
      "image 298/363 C:\\Users\\pc\\Desktop\\DL\\Project\\Outdoor\\test\\images\\WEBSmoke3015_jpg.rf.1d5a51366e4c6c76ce4420670e876ca0.jpg: 384x640 1 Fire, 5.8ms\n",
      "image 299/363 C:\\Users\\pc\\Desktop\\DL\\Project\\Outdoor\\test\\images\\WEBSmoke3096_jpg.rf.ef20ae0109845f9006346c31bd2c5a3d.jpg: 384x640 5 Fires, 4.7ms\n",
      "image 300/363 C:\\Users\\pc\\Desktop\\DL\\Project\\Outdoor\\test\\images\\WEBSmoke3201_jpg.rf.2e97d04874c009b06a9e544ce14b7156.jpg: 448x640 4 Fires, 6.2ms\n",
      "image 301/363 C:\\Users\\pc\\Desktop\\DL\\Project\\Outdoor\\test\\images\\WEBSmoke3220_jpg.rf.e8a08d09309b81ad57f1a11c09f98b32.jpg: 384x640 3 Fires, 5.7ms\n",
      "image 302/363 C:\\Users\\pc\\Desktop\\DL\\Project\\Outdoor\\test\\images\\WEBSmoke3591_jpg.rf.d18a704919bb7752bf025edc518c5d80.jpg: 352x640 2 Fires, 4.6ms\n",
      "image 303/363 C:\\Users\\pc\\Desktop\\DL\\Project\\Outdoor\\test\\images\\WEBSmoke371_jpg.rf.8d975cbb02e8dcbacb133716ef34d42f.jpg: 416x640 1 Fire, 6.4ms\n",
      "image 304/363 C:\\Users\\pc\\Desktop\\DL\\Project\\Outdoor\\test\\images\\WEBSmoke468_jpg.rf.63dae3a5ab1d279b5daf6a52b8f86346.jpg: 480x640 3 Fires, 5.1ms\n",
      "image 305/363 C:\\Users\\pc\\Desktop\\DL\\Project\\Outdoor\\test\\images\\WEBSmoke469_jpg.rf.914bdd73be51c16e06f3add552559a88.jpg: 448x640 (no detections), 7.0ms\n",
      "image 306/363 C:\\Users\\pc\\Desktop\\DL\\Project\\Outdoor\\test\\images\\WEBSmoke552_jpg.rf.d79aa70a57a37ee0c9fcd260a25ecf45.jpg: 480x640 9 Fires, 6.1ms\n",
      "image 307/363 C:\\Users\\pc\\Desktop\\DL\\Project\\Outdoor\\test\\images\\WEBSmoke670_jpg.rf.203c32afd356a353aba4746e58a53c33.jpg: 384x640 (no detections), 6.0ms\n",
      "image 308/363 C:\\Users\\pc\\Desktop\\DL\\Project\\Outdoor\\test\\images\\c2b3af5943e47f2a_jpg.rf.0ea8470b286f91ba4bc635f6e39732df.jpg: 480x640 1 Fire, 7.6ms\n",
      "image 309/363 C:\\Users\\pc\\Desktop\\DL\\Project\\Outdoor\\test\\images\\c5b2cd9f94f45817_jpg.rf.208fe000b97a4248764e464fdd55d1ff.jpg: 640x480 1 Fire, 8.8ms\n",
      "image 310/363 C:\\Users\\pc\\Desktop\\DL\\Project\\Outdoor\\test\\images\\da180caa6d3ab45d_jpg.rf.1e1502b180eaeaa05995eddefec07a96.jpg: 480x640 1 Fire, 6.4ms\n",
      "image 311/363 C:\\Users\\pc\\Desktop\\DL\\Project\\Outdoor\\test\\images\\eba3a1d53df842a0_jpg.rf.f181cfae8e9185411823c982069d35d3.jpg: 480x640 2 Fires, 8.6ms\n",
      "image 312/363 C:\\Users\\pc\\Desktop\\DL\\Project\\Outdoor\\test\\images\\ef363d252b76a301_jpg.rf.28082b82e9b272803255cbdbcc68d297.jpg: 448x640 1 Fire, 6.4ms\n",
      "image 313/363 C:\\Users\\pc\\Desktop\\DL\\Project\\Outdoor\\test\\images\\fire-153_png.rf.a9ab1b75cf5581876102b8f6f77cd84e.jpg: 448x640 1 Fire, 6.4ms\n",
      "image 314/363 C:\\Users\\pc\\Desktop\\DL\\Project\\Outdoor\\test\\images\\fire-21_png.rf.38ed94b18f4e14283d451b50edd0fe36.jpg: 384x640 2 Fires, 6.1ms\n",
      "image 315/363 C:\\Users\\pc\\Desktop\\DL\\Project\\Outdoor\\test\\images\\fire-408_png.rf.bd715096bd48241dab2410fa11819010.jpg: 448x640 4 Fires, 6.2ms\n",
      "image 316/363 C:\\Users\\pc\\Desktop\\DL\\Project\\Outdoor\\test\\images\\fire-410_png.rf.a793078efcac12def5fe85574625e785.jpg: 448x640 5 Fires, 8.3ms\n",
      "image 317/363 C:\\Users\\pc\\Desktop\\DL\\Project\\Outdoor\\test\\images\\fire-415_png.rf.8b2af015521605969d7e342c70f87781.jpg: 352x640 5 Fires, 6.8ms\n",
      "image 318/363 C:\\Users\\pc\\Desktop\\DL\\Project\\Outdoor\\test\\images\\fire-475_png.rf.91e2e3882c64415c5d7b8ee3fafc2aaf.jpg: 448x640 5 Fires, 6.4ms\n",
      "image 319/363 C:\\Users\\pc\\Desktop\\DL\\Project\\Outdoor\\test\\images\\fire-571_png.rf.69c49d02329be15bc8a1b1824b7ff8b1.jpg: 480x640 1 Fire, 7.2ms\n",
      "image 320/363 C:\\Users\\pc\\Desktop\\DL\\Project\\Outdoor\\test\\images\\fire-574_png.rf.b7299abe19c6815023e1e6542335ce03.jpg: 448x640 2 Fires, 8.0ms\n",
      "image 321/363 C:\\Users\\pc\\Desktop\\DL\\Project\\Outdoor\\test\\images\\fire-597_png.rf.39c139c7f9369fc8ac4e1b540fbd7620.jpg: 352x640 1 Fire, 6.9ms\n",
      "image 322/363 C:\\Users\\pc\\Desktop\\DL\\Project\\Outdoor\\test\\images\\fire-61_png.rf.6f39a66656f75f100e878d5203bee59e.jpg: 448x640 1 Fire, 7.9ms\n",
      "image 323/363 C:\\Users\\pc\\Desktop\\DL\\Project\\Outdoor\\test\\images\\fire-9_png.rf.f0470760744510adcc0718fe16a2fb1d.jpg: 448x640 5 Fires, 13.9ms\n",
      "image 324/363 C:\\Users\\pc\\Desktop\\DL\\Project\\Outdoor\\test\\images\\new_fire_12_jpg.rf.d030a3b45d53d7550b3a724f433f1806.jpg: 384x640 2 Fires, 10.2ms\n",
      "image 325/363 C:\\Users\\pc\\Desktop\\DL\\Project\\Outdoor\\test\\images\\new_fire_3_jpg.rf.a4ff7baf8615bd3153bb421e4c71735f.jpg: 448x640 3 Fires, 9.4ms\n",
      "image 326/363 C:\\Users\\pc\\Desktop\\DL\\Project\\Outdoor\\test\\images\\new_fire_51_jpg.rf.8a8ad48429fa6aeaea83c746b3fe050e.jpg: 448x640 1 Fire, 9.0ms\n",
      "image 327/363 C:\\Users\\pc\\Desktop\\DL\\Project\\Outdoor\\test\\images\\new_fire_55_jpg.rf.e8ccac98f6b59070d4a1eb1fa1bb5de2.jpg: 448x640 1 Fire, 9.6ms\n",
      "image 328/363 C:\\Users\\pc\\Desktop\\DL\\Project\\Outdoor\\test\\images\\new_fire_68_jpg.rf.e0eaea01319679740d1716c4e8696866.jpg: 352x640 5 Fires, 7.1ms\n",
      "image 329/363 C:\\Users\\pc\\Desktop\\DL\\Project\\Outdoor\\test\\images\\new_fire_72_jpg.rf.e8bb7d82dfa2b9a361fd1e72280b849e.jpg: 384x640 1 Fire, 7.2ms\n",
      "image 330/363 C:\\Users\\pc\\Desktop\\DL\\Project\\Outdoor\\test\\images\\new_fire_fire-106_png.rf.f124da7ec01da73df4cf489c258baa2b.jpg: 384x640 8 Fires, 10.0ms\n",
      "image 331/363 C:\\Users\\pc\\Desktop\\DL\\Project\\Outdoor\\test\\images\\new_fire_fire-125_png.rf.267840dad1b837cdd97567adf8e2df43.jpg: 352x640 8 Fires, 11.6ms\n",
      "image 332/363 C:\\Users\\pc\\Desktop\\DL\\Project\\Outdoor\\test\\images\\new_fire_fire-147_png.rf.22a0aab2039ab9b96bd298f6fb33d0e4.jpg: 384x640 1 Fire, 7.9ms\n",
      "image 333/363 C:\\Users\\pc\\Desktop\\DL\\Project\\Outdoor\\test\\images\\new_fire_fire-185_png.rf.3b918e5897364443a71109b9bbb17c57.jpg: 288x640 3 Fires, 6.5ms\n",
      "image 334/363 C:\\Users\\pc\\Desktop\\DL\\Project\\Outdoor\\test\\images\\new_fire_fire-211_png.rf.33e18e6b1a7ecf0a4849f3cffba410bd.jpg: 384x640 2 Fires, 13.4ms\n",
      "image 335/363 C:\\Users\\pc\\Desktop\\DL\\Project\\Outdoor\\test\\images\\new_fire_fire-240_png.rf.1b11c945ee163c3dc62327980ebfebc7.jpg: 640x480 1 Fire, 14.5ms\n",
      "image 336/363 C:\\Users\\pc\\Desktop\\DL\\Project\\Outdoor\\test\\images\\new_fire_fire-316_png.rf.596c3332d247a37cb6f4d961ac3cd60b.jpg: 480x640 1 Fire, 9.2ms\n",
      "image 337/363 C:\\Users\\pc\\Desktop\\DL\\Project\\Outdoor\\test\\images\\new_fire_fire-336_png.rf.ad99c802d13e1dece74fe800d5975845.jpg: 448x640 5 Fires, 8.4ms\n",
      "image 338/363 C:\\Users\\pc\\Desktop\\DL\\Project\\Outdoor\\test\\images\\new_fire_fire-34_png.rf.60d730bc30ff0d74a12ecb4b10dd0abf.jpg: 480x640 1 Fire, 13.1ms\n",
      "image 339/363 C:\\Users\\pc\\Desktop\\DL\\Project\\Outdoor\\test\\images\\new_fire_fire-386_png.rf.dc715e303a0260a0221049b0285e45dd.jpg: 480x640 4 Fires, 11.4ms\n",
      "image 340/363 C:\\Users\\pc\\Desktop\\DL\\Project\\Outdoor\\test\\images\\new_fire_fire-393_png.rf.b184fa134a708961e7e1f9d57c221e60.jpg: 448x640 1 Fire, 8.3ms\n",
      "image 341/363 C:\\Users\\pc\\Desktop\\DL\\Project\\Outdoor\\test\\images\\new_fire_fire-419_png.rf.e2fd51219b97b4d64d12477807387613.jpg: 448x640 3 Fires, 11.7ms\n",
      "image 342/363 C:\\Users\\pc\\Desktop\\DL\\Project\\Outdoor\\test\\images\\new_fire_fire-420_png.rf.7d8f233904f6fc99073072bf2b2f8f7b.jpg: 480x640 2 Fires, 14.2ms\n",
      "image 343/363 C:\\Users\\pc\\Desktop\\DL\\Project\\Outdoor\\test\\images\\new_fire_fire-447_png.rf.f949933fd1bbf74287c0362505e3b3b8.jpg: 384x640 7 Fires, 11.6ms\n",
      "image 344/363 C:\\Users\\pc\\Desktop\\DL\\Project\\Outdoor\\test\\images\\new_fire_fire-466_png.rf.2c7219a9bc56fd6463f32ce7fee59dee.jpg: 448x640 2 Fires, 8.0ms\n",
      "image 345/363 C:\\Users\\pc\\Desktop\\DL\\Project\\Outdoor\\test\\images\\new_fire_fire-470_png.rf.4aae568490557cfba95ce1da88a56910.jpg: 448x640 (no detections), 8.8ms\n",
      "image 346/363 C:\\Users\\pc\\Desktop\\DL\\Project\\Outdoor\\test\\images\\new_fire_fire-484_png.rf.534a42c46888c221d4e14fff1bd5e50f.jpg: 384x640 5 Fires, 11.7ms\n",
      "image 347/363 C:\\Users\\pc\\Desktop\\DL\\Project\\Outdoor\\test\\images\\new_fire_fire-485_png.rf.d0e0ea855b117fb097e2050f2add1a76.jpg: 480x640 5 Fires, 8.8ms\n",
      "image 348/363 C:\\Users\\pc\\Desktop\\DL\\Project\\Outdoor\\test\\images\\new_fire_fire-526_png.rf.03c12378fcdb8ab6c36b82e2c69bdc88.jpg: 480x640 2 Fires, 8.2ms\n",
      "image 349/363 C:\\Users\\pc\\Desktop\\DL\\Project\\Outdoor\\test\\images\\new_fire_fire-536_png.rf.b882c309a26e80ed0a5c826572ddba50.jpg: 640x416 1 Fire, 56.3ms\n",
      "image 350/363 C:\\Users\\pc\\Desktop\\DL\\Project\\Outdoor\\test\\images\\new_fire_fire-556_png.rf.44edf5767d3147982ce80716e559addb.jpg: 480x640 1 Fire, 10.3ms\n",
      "image 351/363 C:\\Users\\pc\\Desktop\\DL\\Project\\Outdoor\\test\\images\\new_fire_fire-591_png.rf.1640dc1fc7f4904ee5be8e396217e7b2.jpg: 448x640 5 Fires, 8.9ms\n",
      "image 352/363 C:\\Users\\pc\\Desktop\\DL\\Project\\Outdoor\\test\\images\\new_fire_fire-617_png.rf.fc97f3a24d6ba8275148274960ccfd0f.jpg: 320x640 2 Fires, 7.5ms\n",
      "image 353/363 C:\\Users\\pc\\Desktop\\DL\\Project\\Outdoor\\test\\images\\new_fire_fire-620_png.rf.16ea8d4e0b0430262227435b94a95d58.jpg: 480x640 2 Fires, 10.6ms\n",
      "image 354/363 C:\\Users\\pc\\Desktop\\DL\\Project\\Outdoor\\test\\images\\new_fire_fire-627_png.rf.41ce2403b57b41615f262b0cdbbfde6c.jpg: 448x640 3 Fires, 10.8ms\n",
      "image 355/363 C:\\Users\\pc\\Desktop\\DL\\Project\\Outdoor\\test\\images\\new_fire_fire-631_png.rf.a46c1db707d850ee3551fabe55798bd0.jpg: 448x640 4 Fires, 9.5ms\n",
      "image 356/363 C:\\Users\\pc\\Desktop\\DL\\Project\\Outdoor\\test\\images\\new_fire_fire-647_png.rf.60cb7a3cce80defa60eda337a720c774.jpg: 448x640 3 Fires, 9.1ms\n",
      "image 357/363 C:\\Users\\pc\\Desktop\\DL\\Project\\Outdoor\\test\\images\\new_fire_fire-673_png.rf.342372406a30849ac5cc5e82c8508121.jpg: 384x640 1 Fire, 9.9ms\n",
      "image 358/363 C:\\Users\\pc\\Desktop\\DL\\Project\\Outdoor\\test\\images\\new_fire_fire-687_png.rf.af8731ad07e42335d1683e77ec16f3b9.jpg: 448x640 9 Fires, 8.9ms\n",
      "image 359/363 C:\\Users\\pc\\Desktop\\DL\\Project\\Outdoor\\test\\images\\new_fire_fire-708_png.rf.132d8d174918416f1ffe055c08b2f8a1.jpg: 352x640 1 Fire, 7.7ms\n",
      "image 360/363 C:\\Users\\pc\\Desktop\\DL\\Project\\Outdoor\\test\\images\\new_fire_fire-730_png.rf.982b725239644ee98491ffb9fdfe4c83.jpg: 384x640 3 Fires, 12.4ms\n",
      "image 361/363 C:\\Users\\pc\\Desktop\\DL\\Project\\Outdoor\\test\\images\\new_fire_fire-752_png.rf.a71891be691b0f9d48485020702a855d.jpg: 384x640 1 Fire, 9.2ms\n",
      "image 362/363 C:\\Users\\pc\\Desktop\\DL\\Project\\Outdoor\\test\\images\\new_fire_fire-753_png.rf.a713dfabc25d7c47dabd289f5ad30683.jpg: 384x640 2 Fires, 8.2ms\n",
      "image 363/363 C:\\Users\\pc\\Desktop\\DL\\Project\\Outdoor\\test\\images\\new_fire_fire-93_png.rf.041075b7c2775f489e8e4d752694d272.jpg: 480x640 4 Fires, 8.6ms\n",
      "Speed: 1.6ms preprocess, 8.9ms inference, 1.2ms postprocess per image at shape (1, 3, 480, 640)\n",
      "Results saved to \u001b[1mruns\\detect\\predict\u001b[0m\n"
     ]
    }
   ],
   "source": [
    "results = model.predict(source=\"C:/Users/pc/Desktop/DL/Project/Outdoor/test/images\", save=True)\n"
   ]
  }
 ],
 "metadata": {
  "kernelspec": {
   "display_name": "Python 3",
   "language": "python",
   "name": "python3"
  },
  "language_info": {
   "codemirror_mode": {
    "name": "ipython",
    "version": 3
   },
   "file_extension": ".py",
   "mimetype": "text/x-python",
   "name": "python",
   "nbconvert_exporter": "python",
   "pygments_lexer": "ipython3",
   "version": "3.11.6"
  }
 },
 "nbformat": 4,
 "nbformat_minor": 5
}
