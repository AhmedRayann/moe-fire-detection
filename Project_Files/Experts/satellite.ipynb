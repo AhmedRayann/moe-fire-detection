{
 "cells": [
  {
   "cell_type": "markdown",
   "id": "bdc05afe",
   "metadata": {},
   "source": [
    "#  Training YOLO on Fire Detection for Satellite Scenario\n",
    "\n",
    "## Overview\n",
    "In this notebook, we train a **YOLOv8** model on a custom dataset designed for detecting **fire scenarios** in **satellite images**. This dataset represents one of the specific scenarios for our **Mixture of Experts (MoE)** model, where each expert specializes in a different scenario (e.g., fire detection in indoor, indoor, satellite, or far-field environments).\n",
    "\n",
    "### Key Steps:\n",
    "- **Dataset**: The model is trained using a **satellite fire detection dataset**, which consists of images with fire-related features captured from satellite imagery.\n",
    "- **YOLOv8 Training**: The YOLOv8 model is fine-tuned on this dataset, learning to identify fire-related objects.\n",
    "- **Scenario Expert**: This trained model acts as an expert specifically for detecting fire in satellite images and is part of a broader MoE-based approach for multi-scenario detection.\n",
    "\n"
   ]
  },
  {
   "cell_type": "markdown",
   "id": "51f60c4e",
   "metadata": {},
   "source": [
    "##  Data Loading & Preprocessing\n"
   ]
  },
  {
   "cell_type": "code",
   "execution_count": 1,
   "id": "630b6c4f",
   "metadata": {},
   "outputs": [
    {
     "name": "stdout",
     "output_type": "stream",
     "text": [
      "✅ Sampled 3000 training and 100 test images and labels from original training set.\n"
     ]
    }
   ],
   "source": [
    "import os\n",
    "import random\n",
    "import shutil\n",
    "\n",
    "# Set seed for reproducibility\n",
    "random.seed(42)\n",
    "\n",
    "# Paths\n",
    "original_images_dir = \"train/images\"\n",
    "original_labels_dir = \"train/labels\"\n",
    "\n",
    "train_subset_images_dir = \"satellite_fire_dataset/images/train_subset\"\n",
    "train_subset_labels_dir = \"satellite_fire_dataset/labels/train_subset\"\n",
    "\n",
    "test_subset_images_dir = \"satellite_fire_dataset/images/test_subset\"\n",
    "test_subset_labels_dir = \"satellite_fire_dataset/labels/test_subset\"\n",
    "\n",
    "# Create directories if they don't exist\n",
    "os.makedirs(train_subset_images_dir, exist_ok=True)\n",
    "os.makedirs(train_subset_labels_dir, exist_ok=True)\n",
    "os.makedirs(test_subset_images_dir, exist_ok=True)\n",
    "os.makedirs(test_subset_labels_dir, exist_ok=True)\n",
    "\n",
    "# List all image files\n",
    "all_images = [f for f in os.listdir(original_images_dir) if f.lower().endswith(('.jpg', '.jpeg', '.png'))]\n",
    "\n",
    "# Randomly select 3100 images total\n",
    "sampled_images = random.sample(all_images, 3100)\n",
    "\n",
    "# Split into 3000 train, 100 test\n",
    "train_images = sampled_images[:3000]\n",
    "test_images = sampled_images[3000:]\n",
    "\n",
    "# Helper function to copy images and labels\n",
    "def copy_data(img_list, img_dest, label_dest):\n",
    "    for img_file in img_list:\n",
    "        # Copy image\n",
    "        shutil.copy(\n",
    "            os.path.join(original_images_dir, img_file),\n",
    "            os.path.join(img_dest, img_file)\n",
    "        )\n",
    "\n",
    "        # Get corresponding label file\n",
    "        label_file = os.path.splitext(img_file)[0] + \".txt\"\n",
    "        original_label_path = os.path.join(original_labels_dir, label_file)\n",
    "\n",
    "        # Copy label if it exists\n",
    "        if os.path.exists(original_label_path):\n",
    "            shutil.copy(original_label_path, os.path.join(label_dest, label_file))\n",
    "\n",
    "# Copy training data\n",
    "copy_data(train_images, train_subset_images_dir, train_subset_labels_dir)\n",
    "\n",
    "# Copy test data\n",
    "copy_data(test_images, test_subset_images_dir, test_subset_labels_dir)\n",
    "\n",
    "print(\"✅ Sampled 3000 training and 100 test images and labels from original training set.\")\n"
   ]
  },
  {
   "cell_type": "markdown",
   "id": "db82e97c",
   "metadata": {},
   "source": [
    "##  Training YOLOv8 on Satellite Fire Detection\n",
    "\n",
    "We utilize the **YOLOv8** object detection model to train on a custom dataset defined in `satellite.yaml`. The configuration for training is as follows:\n",
    "\n",
    "- 🧠 **Model**: `yolov8n.pt` (Nano variant — optimized for speed and prototyping)\n",
    "- 📁 **Dataset**: Defined in `satellite.yaml`\n",
    "- 🖼️ **Image Size**: 640×640\n",
    "- 🔁 **Epochs**: 100\n",
    "- 📦 **Batch Size**: 16\n",
    "- 💻 **Device**: GPU (device 0)\n",
    "\n",
    "\n"
   ]
  },
  {
   "cell_type": "code",
   "execution_count": 6,
   "id": "e7e53943",
   "metadata": {},
   "outputs": [
    {
     "name": "stdout",
     "output_type": "stream",
     "text": [
      "GPU available: True\n",
      "Current device: NVIDIA GeForce RTX 3070\n"
     ]
    }
   ],
   "source": [
    "import torch\n",
    "print(\"GPU available:\", torch.cuda.is_available())\n",
    "print(\"Current device:\", torch.cuda.get_device_name(0))"
   ]
  },
  {
   "cell_type": "code",
   "execution_count": 7,
   "id": "724250c2",
   "metadata": {},
   "outputs": [
    {
     "name": "stdout",
     "output_type": "stream",
     "text": [
      "Ultralytics 8.3.107  Python-3.11.6 torch-2.5.1+cu121 CUDA:0 (NVIDIA GeForce RTX 3070, 8192MiB)\n",
      "\u001b[34m\u001b[1mengine\\trainer: \u001b[0mtask=detect, mode=train, model=yolov8n.pt, data=satellite.yaml, epochs=100, time=None, patience=100, batch=16, imgsz=640, save=True, save_period=-1, cache=False, device=0, workers=8, project=None, name=train, exist_ok=False, pretrained=True, optimizer=auto, verbose=True, seed=0, deterministic=True, single_cls=False, rect=False, cos_lr=False, close_mosaic=10, resume=False, amp=True, fraction=1.0, profile=False, freeze=None, multi_scale=False, overlap_mask=True, mask_ratio=4, dropout=0.0, val=True, split=val, save_json=False, conf=None, iou=0.7, max_det=300, half=False, dnn=False, plots=True, source=None, vid_stride=1, stream_buffer=False, visualize=False, augment=False, agnostic_nms=False, classes=None, retina_masks=False, embed=None, show=False, save_frames=False, save_txt=False, save_conf=False, save_crop=False, show_labels=True, show_conf=True, show_boxes=True, line_width=None, format=torchscript, keras=False, optimize=False, int8=False, dynamic=False, simplify=True, opset=None, workspace=None, nms=False, lr0=0.01, lrf=0.01, momentum=0.937, weight_decay=0.0005, warmup_epochs=3.0, warmup_momentum=0.8, warmup_bias_lr=0.1, box=7.5, cls=0.5, dfl=1.5, pose=12.0, kobj=1.0, nbs=64, hsv_h=0.015, hsv_s=0.7, hsv_v=0.4, degrees=0.0, translate=0.1, scale=0.5, shear=0.0, perspective=0.0, flipud=0.0, fliplr=0.5, bgr=0.0, mosaic=1.0, mixup=0.0, copy_paste=0.0, copy_paste_mode=flip, auto_augment=randaugment, erasing=0.4, crop_fraction=1.0, cfg=None, tracker=botsort.yaml, save_dir=runs\\detect\\train\n",
      "Overriding model.yaml nc=80 with nc=1\n",
      "\n",
      "                   from  n    params  module                                       arguments                     \n",
      "  0                  -1  1       464  ultralytics.nn.modules.conv.Conv             [3, 16, 3, 2]                 \n",
      "  1                  -1  1      4672  ultralytics.nn.modules.conv.Conv             [16, 32, 3, 2]                \n",
      "  2                  -1  1      7360  ultralytics.nn.modules.block.C2f             [32, 32, 1, True]             \n",
      "  3                  -1  1     18560  ultralytics.nn.modules.conv.Conv             [32, 64, 3, 2]                \n",
      "  4                  -1  2     49664  ultralytics.nn.modules.block.C2f             [64, 64, 2, True]             \n",
      "  5                  -1  1     73984  ultralytics.nn.modules.conv.Conv             [64, 128, 3, 2]               \n",
      "  6                  -1  2    197632  ultralytics.nn.modules.block.C2f             [128, 128, 2, True]           \n",
      "  7                  -1  1    295424  ultralytics.nn.modules.conv.Conv             [128, 256, 3, 2]              \n",
      "  8                  -1  1    460288  ultralytics.nn.modules.block.C2f             [256, 256, 1, True]           \n",
      "  9                  -1  1    164608  ultralytics.nn.modules.block.SPPF            [256, 256, 5]                 \n",
      " 10                  -1  1         0  torch.nn.modules.upsampling.Upsample         [None, 2, 'nearest']          \n",
      " 11             [-1, 6]  1         0  ultralytics.nn.modules.conv.Concat           [1]                           \n",
      " 12                  -1  1    148224  ultralytics.nn.modules.block.C2f             [384, 128, 1]                 \n",
      " 13                  -1  1         0  torch.nn.modules.upsampling.Upsample         [None, 2, 'nearest']          \n",
      " 14             [-1, 4]  1         0  ultralytics.nn.modules.conv.Concat           [1]                           \n",
      " 15                  -1  1     37248  ultralytics.nn.modules.block.C2f             [192, 64, 1]                  \n",
      " 16                  -1  1     36992  ultralytics.nn.modules.conv.Conv             [64, 64, 3, 2]                \n",
      " 17            [-1, 12]  1         0  ultralytics.nn.modules.conv.Concat           [1]                           \n",
      " 18                  -1  1    123648  ultralytics.nn.modules.block.C2f             [192, 128, 1]                 \n",
      " 19                  -1  1    147712  ultralytics.nn.modules.conv.Conv             [128, 128, 3, 2]              \n",
      " 20             [-1, 9]  1         0  ultralytics.nn.modules.conv.Concat           [1]                           \n",
      " 21                  -1  1    493056  ultralytics.nn.modules.block.C2f             [384, 256, 1]                 \n",
      " 22        [15, 18, 21]  1    751507  ultralytics.nn.modules.head.Detect           [1, [64, 128, 256]]           \n",
      "Model summary: 129 layers, 3,011,043 parameters, 3,011,027 gradients, 8.2 GFLOPs\n",
      "\n",
      "Transferred 319/355 items from pretrained weights\n",
      "\u001b[34m\u001b[1mTensorBoard: \u001b[0mStart with 'tensorboard --logdir runs\\detect\\train', view at http://localhost:6006/\n",
      "Freezing layer 'model.22.dfl.conv.weight'\n",
      "\u001b[34m\u001b[1mAMP: \u001b[0mrunning Automatic Mixed Precision (AMP) checks...\n",
      "\u001b[34m\u001b[1mAMP: \u001b[0mchecks passed \n"
     ]
    },
    {
     "name": "stderr",
     "output_type": "stream",
     "text": [
      "\u001b[34m\u001b[1mtrain: \u001b[0mScanning C:\\Users\\pc\\Desktop\\DL\\Project\\Satellite\\satellite_fire_dataset\\labels\\train_subset... 3000 images, 60 backgrounds, 0 corrupt: 100%|██████████| 3000/3000 [00:04<00:00, 740.73it/s]\n"
     ]
    },
    {
     "name": "stdout",
     "output_type": "stream",
     "text": [
      "\u001b[34m\u001b[1mtrain: \u001b[0mNew cache created: C:\\Users\\pc\\Desktop\\DL\\Project\\Satellite\\satellite_fire_dataset\\labels\\train_subset.cache\n"
     ]
    },
    {
     "name": "stderr",
     "output_type": "stream",
     "text": [
      "\u001b[34m\u001b[1mval: \u001b[0mScanning C:\\Users\\pc\\Desktop\\DL\\Project\\Satellite\\valid\\labels... 200 images, 1 backgrounds, 0 corrupt: 100%|██████████| 200/200 [00:00<00:00, 1446.28it/s]"
     ]
    },
    {
     "name": "stdout",
     "output_type": "stream",
     "text": [
      "\u001b[34m\u001b[1mval: \u001b[0mNew cache created: C:\\Users\\pc\\Desktop\\DL\\Project\\Satellite\\valid\\labels.cache\n"
     ]
    },
    {
     "name": "stderr",
     "output_type": "stream",
     "text": [
      "\n"
     ]
    },
    {
     "name": "stdout",
     "output_type": "stream",
     "text": [
      "Plotting labels to runs\\detect\\train\\labels.jpg... \n",
      "\u001b[34m\u001b[1moptimizer:\u001b[0m 'optimizer=auto' found, ignoring 'lr0=0.01' and 'momentum=0.937' and determining best 'optimizer', 'lr0' and 'momentum' automatically... \n",
      "\u001b[34m\u001b[1moptimizer:\u001b[0m AdamW(lr=0.002, momentum=0.9) with parameter groups 57 weight(decay=0.0), 64 weight(decay=0.0005), 63 bias(decay=0.0)\n",
      "\u001b[34m\u001b[1mTensorBoard: \u001b[0mmodel graph visualization added \n",
      "Image sizes 640 train, 640 val\n",
      "Using 8 dataloader workers\n",
      "Logging results to \u001b[1mruns\\detect\\train\u001b[0m\n",
      "Starting training for 100 epochs...\n",
      "\n",
      "      Epoch    GPU_mem   box_loss   cls_loss   dfl_loss  Instances       Size\n"
     ]
    },
    {
     "name": "stderr",
     "output_type": "stream",
     "text": [
      "      1/100      2.07G       1.83      2.764      1.832         26        640: 100%|██████████| 188/188 [00:22<00:00,  8.52it/s]\n",
      "                 Class     Images  Instances      Box(P          R      mAP50  mAP50-95): 100%|██████████| 7/7 [00:00<00:00,  7.47it/s]"
     ]
    },
    {
     "name": "stdout",
     "output_type": "stream",
     "text": [
      "                   all        200        317      0.182      0.161      0.106     0.0316\n"
     ]
    },
    {
     "name": "stderr",
     "output_type": "stream",
     "text": [
      "\n"
     ]
    },
    {
     "name": "stdout",
     "output_type": "stream",
     "text": [
      "\n",
      "      Epoch    GPU_mem   box_loss   cls_loss   dfl_loss  Instances       Size\n"
     ]
    },
    {
     "name": "stderr",
     "output_type": "stream",
     "text": [
      "      2/100      2.37G       1.86      2.503      1.855         36        640: 100%|██████████| 188/188 [00:19<00:00,  9.57it/s]\n",
      "                 Class     Images  Instances      Box(P          R      mAP50  mAP50-95): 100%|██████████| 7/7 [00:00<00:00,  7.77it/s]"
     ]
    },
    {
     "name": "stdout",
     "output_type": "stream",
     "text": [
      "                   all        200        317      0.129      0.293      0.107     0.0459\n"
     ]
    },
    {
     "name": "stderr",
     "output_type": "stream",
     "text": [
      "\n"
     ]
    },
    {
     "name": "stdout",
     "output_type": "stream",
     "text": [
      "\n",
      "      Epoch    GPU_mem   box_loss   cls_loss   dfl_loss  Instances       Size\n"
     ]
    },
    {
     "name": "stderr",
     "output_type": "stream",
     "text": [
      "      3/100      2.38G      1.894      2.401      1.855         39        640: 100%|██████████| 188/188 [00:19<00:00,  9.65it/s]\n",
      "                 Class     Images  Instances      Box(P          R      mAP50  mAP50-95): 100%|██████████| 7/7 [00:00<00:00,  8.34it/s]"
     ]
    },
    {
     "name": "stdout",
     "output_type": "stream",
     "text": [
      "                   all        200        317      0.276      0.265      0.174     0.0697\n"
     ]
    },
    {
     "name": "stderr",
     "output_type": "stream",
     "text": [
      "\n"
     ]
    },
    {
     "name": "stdout",
     "output_type": "stream",
     "text": [
      "\n",
      "      Epoch    GPU_mem   box_loss   cls_loss   dfl_loss  Instances       Size\n"
     ]
    },
    {
     "name": "stderr",
     "output_type": "stream",
     "text": [
      "      4/100      2.38G      1.849      2.357       1.85         39        640: 100%|██████████| 188/188 [00:19<00:00,  9.72it/s]\n",
      "                 Class     Images  Instances      Box(P          R      mAP50  mAP50-95): 100%|██████████| 7/7 [00:00<00:00,  8.24it/s]\n"
     ]
    },
    {
     "name": "stdout",
     "output_type": "stream",
     "text": [
      "                   all        200        317      0.275      0.303      0.171     0.0668\n",
      "\n",
      "      Epoch    GPU_mem   box_loss   cls_loss   dfl_loss  Instances       Size\n"
     ]
    },
    {
     "name": "stderr",
     "output_type": "stream",
     "text": [
      "      5/100      2.38G      1.797      2.284      1.796         32        640: 100%|██████████| 188/188 [00:19<00:00,  9.78it/s]\n",
      "                 Class     Images  Instances      Box(P          R      mAP50  mAP50-95): 100%|██████████| 7/7 [00:00<00:00,  8.45it/s]"
     ]
    },
    {
     "name": "stdout",
     "output_type": "stream",
     "text": [
      "                   all        200        317      0.279      0.282      0.201     0.0856\n"
     ]
    },
    {
     "name": "stderr",
     "output_type": "stream",
     "text": [
      "\n"
     ]
    },
    {
     "name": "stdout",
     "output_type": "stream",
     "text": [
      "\n",
      "      Epoch    GPU_mem   box_loss   cls_loss   dfl_loss  Instances       Size\n"
     ]
    },
    {
     "name": "stderr",
     "output_type": "stream",
     "text": [
      "      6/100      2.38G      1.758      2.213      1.762         25        640: 100%|██████████| 188/188 [00:19<00:00,  9.84it/s]\n",
      "                 Class     Images  Instances      Box(P          R      mAP50  mAP50-95): 100%|██████████| 7/7 [00:00<00:00,  8.29it/s]\n"
     ]
    },
    {
     "name": "stdout",
     "output_type": "stream",
     "text": [
      "                   all        200        317      0.377      0.322      0.286      0.131\n",
      "\n",
      "      Epoch    GPU_mem   box_loss   cls_loss   dfl_loss  Instances       Size\n"
     ]
    },
    {
     "name": "stderr",
     "output_type": "stream",
     "text": [
      "      7/100      2.38G      1.739      2.163      1.765         29        640: 100%|██████████| 188/188 [00:18<00:00,  9.90it/s]\n",
      "                 Class     Images  Instances      Box(P          R      mAP50  mAP50-95): 100%|██████████| 7/7 [00:00<00:00,  8.48it/s]\n"
     ]
    },
    {
     "name": "stdout",
     "output_type": "stream",
     "text": [
      "                   all        200        317      0.196      0.388      0.194     0.0901\n",
      "\n",
      "      Epoch    GPU_mem   box_loss   cls_loss   dfl_loss  Instances       Size\n"
     ]
    },
    {
     "name": "stderr",
     "output_type": "stream",
     "text": [
      "      8/100      2.38G      1.698      2.116       1.72         29        640: 100%|██████████| 188/188 [00:19<00:00,  9.63it/s]\n",
      "                 Class     Images  Instances      Box(P          R      mAP50  mAP50-95): 100%|██████████| 7/7 [00:00<00:00,  8.30it/s]\n"
     ]
    },
    {
     "name": "stdout",
     "output_type": "stream",
     "text": [
      "                   all        200        317       0.29      0.397      0.272      0.125\n",
      "\n",
      "      Epoch    GPU_mem   box_loss   cls_loss   dfl_loss  Instances       Size\n"
     ]
    },
    {
     "name": "stderr",
     "output_type": "stream",
     "text": [
      "      9/100      2.38G      1.671      2.084      1.709         32        640: 100%|██████████| 188/188 [00:19<00:00,  9.64it/s]\n",
      "                 Class     Images  Instances      Box(P          R      mAP50  mAP50-95): 100%|██████████| 7/7 [00:00<00:00,  8.28it/s]\n"
     ]
    },
    {
     "name": "stdout",
     "output_type": "stream",
     "text": [
      "                   all        200        317      0.336      0.379      0.269      0.121\n",
      "\n",
      "      Epoch    GPU_mem   box_loss   cls_loss   dfl_loss  Instances       Size\n"
     ]
    },
    {
     "name": "stderr",
     "output_type": "stream",
     "text": [
      "     10/100      2.38G      1.663      2.055        1.7         37        640: 100%|██████████| 188/188 [00:19<00:00,  9.49it/s]\n",
      "                 Class     Images  Instances      Box(P          R      mAP50  mAP50-95): 100%|██████████| 7/7 [00:00<00:00,  8.35it/s]\n"
     ]
    },
    {
     "name": "stdout",
     "output_type": "stream",
     "text": [
      "                   all        200        317      0.377       0.41      0.333      0.156\n",
      "\n",
      "      Epoch    GPU_mem   box_loss   cls_loss   dfl_loss  Instances       Size\n"
     ]
    },
    {
     "name": "stderr",
     "output_type": "stream",
     "text": [
      "     11/100      2.38G      1.654      2.035      1.681         29        640: 100%|██████████| 188/188 [00:19<00:00,  9.62it/s]\n",
      "                 Class     Images  Instances      Box(P          R      mAP50  mAP50-95): 100%|██████████| 7/7 [00:00<00:00,  7.92it/s]"
     ]
    },
    {
     "name": "stdout",
     "output_type": "stream",
     "text": [
      "                   all        200        317      0.416      0.426      0.378      0.175\n"
     ]
    },
    {
     "name": "stderr",
     "output_type": "stream",
     "text": [
      "\n"
     ]
    },
    {
     "name": "stdout",
     "output_type": "stream",
     "text": [
      "\n",
      "      Epoch    GPU_mem   box_loss   cls_loss   dfl_loss  Instances       Size\n"
     ]
    },
    {
     "name": "stderr",
     "output_type": "stream",
     "text": [
      "     12/100      2.38G      1.648      2.006      1.686         21        640: 100%|██████████| 188/188 [00:19<00:00,  9.81it/s]\n",
      "                 Class     Images  Instances      Box(P          R      mAP50  mAP50-95): 100%|██████████| 7/7 [00:00<00:00,  8.48it/s]\n"
     ]
    },
    {
     "name": "stdout",
     "output_type": "stream",
     "text": [
      "                   all        200        317      0.322      0.423      0.306      0.131\n",
      "\n",
      "      Epoch    GPU_mem   box_loss   cls_loss   dfl_loss  Instances       Size\n"
     ]
    },
    {
     "name": "stderr",
     "output_type": "stream",
     "text": [
      "     13/100      2.38G      1.631      1.995      1.671         52        640: 100%|██████████| 188/188 [00:20<00:00,  9.29it/s]\n",
      "                 Class     Images  Instances      Box(P          R      mAP50  mAP50-95): 100%|██████████| 7/7 [00:00<00:00,  7.83it/s]"
     ]
    },
    {
     "name": "stdout",
     "output_type": "stream",
     "text": [
      "                   all        200        317      0.434       0.41      0.392      0.185\n"
     ]
    },
    {
     "name": "stderr",
     "output_type": "stream",
     "text": [
      "\n"
     ]
    },
    {
     "name": "stdout",
     "output_type": "stream",
     "text": [
      "\n",
      "      Epoch    GPU_mem   box_loss   cls_loss   dfl_loss  Instances       Size\n"
     ]
    },
    {
     "name": "stderr",
     "output_type": "stream",
     "text": [
      "     14/100      2.38G      1.606      1.957      1.653         34        640: 100%|██████████| 188/188 [00:19<00:00,  9.70it/s]\n",
      "                 Class     Images  Instances      Box(P          R      mAP50  mAP50-95): 100%|██████████| 7/7 [00:00<00:00,  8.22it/s]\n"
     ]
    },
    {
     "name": "stdout",
     "output_type": "stream",
     "text": [
      "                   all        200        317      0.399       0.41      0.339      0.162\n",
      "\n",
      "      Epoch    GPU_mem   box_loss   cls_loss   dfl_loss  Instances       Size\n"
     ]
    },
    {
     "name": "stderr",
     "output_type": "stream",
     "text": [
      "     15/100      2.38G      1.593      1.949      1.643         19        640: 100%|██████████| 188/188 [00:20<00:00,  9.34it/s]\n",
      "                 Class     Images  Instances      Box(P          R      mAP50  mAP50-95): 100%|██████████| 7/7 [00:00<00:00,  8.25it/s]"
     ]
    },
    {
     "name": "stdout",
     "output_type": "stream",
     "text": [
      "                   all        200        317      0.459      0.397      0.385      0.165\n"
     ]
    },
    {
     "name": "stderr",
     "output_type": "stream",
     "text": [
      "\n"
     ]
    },
    {
     "name": "stdout",
     "output_type": "stream",
     "text": [
      "\n",
      "      Epoch    GPU_mem   box_loss   cls_loss   dfl_loss  Instances       Size\n"
     ]
    },
    {
     "name": "stderr",
     "output_type": "stream",
     "text": [
      "     16/100      2.38G       1.61      1.949      1.638         34        640: 100%|██████████| 188/188 [00:19<00:00,  9.80it/s]\n",
      "                 Class     Images  Instances      Box(P          R      mAP50  mAP50-95): 100%|██████████| 7/7 [00:00<00:00,  8.50it/s]"
     ]
    },
    {
     "name": "stdout",
     "output_type": "stream",
     "text": [
      "                   all        200        317      0.456      0.413      0.368      0.169\n"
     ]
    },
    {
     "name": "stderr",
     "output_type": "stream",
     "text": [
      "\n"
     ]
    },
    {
     "name": "stdout",
     "output_type": "stream",
     "text": [
      "\n",
      "      Epoch    GPU_mem   box_loss   cls_loss   dfl_loss  Instances       Size\n"
     ]
    },
    {
     "name": "stderr",
     "output_type": "stream",
     "text": [
      "     17/100      2.38G      1.585      1.919      1.619         25        640: 100%|██████████| 188/188 [00:19<00:00,  9.88it/s]\n",
      "                 Class     Images  Instances      Box(P          R      mAP50  mAP50-95): 100%|██████████| 7/7 [00:00<00:00,  8.20it/s]\n"
     ]
    },
    {
     "name": "stdout",
     "output_type": "stream",
     "text": [
      "                   all        200        317      0.469      0.344      0.356      0.169\n",
      "\n",
      "      Epoch    GPU_mem   box_loss   cls_loss   dfl_loss  Instances       Size\n"
     ]
    },
    {
     "name": "stderr",
     "output_type": "stream",
     "text": [
      "     18/100      2.38G      1.574      1.901       1.62         32        640: 100%|██████████| 188/188 [00:19<00:00,  9.60it/s]\n",
      "                 Class     Images  Instances      Box(P          R      mAP50  mAP50-95): 100%|██████████| 7/7 [00:00<00:00,  8.28it/s]"
     ]
    },
    {
     "name": "stdout",
     "output_type": "stream",
     "text": [
      "                   all        200        317      0.473      0.375      0.385      0.175\n"
     ]
    },
    {
     "name": "stderr",
     "output_type": "stream",
     "text": [
      "\n"
     ]
    },
    {
     "name": "stdout",
     "output_type": "stream",
     "text": [
      "\n",
      "      Epoch    GPU_mem   box_loss   cls_loss   dfl_loss  Instances       Size\n"
     ]
    },
    {
     "name": "stderr",
     "output_type": "stream",
     "text": [
      "     19/100      2.38G      1.581       1.89      1.627         12        640: 100%|██████████| 188/188 [00:18<00:00, 10.14it/s]\n",
      "                 Class     Images  Instances      Box(P          R      mAP50  mAP50-95): 100%|██████████| 7/7 [00:00<00:00,  9.00it/s]\n"
     ]
    },
    {
     "name": "stdout",
     "output_type": "stream",
     "text": [
      "                   all        200        317      0.453      0.397      0.327      0.154\n",
      "\n",
      "      Epoch    GPU_mem   box_loss   cls_loss   dfl_loss  Instances       Size\n"
     ]
    },
    {
     "name": "stderr",
     "output_type": "stream",
     "text": [
      "     20/100      2.38G      1.554      1.879      1.606         23        640: 100%|██████████| 188/188 [00:18<00:00, 10.34it/s]\n",
      "                 Class     Images  Instances      Box(P          R      mAP50  mAP50-95): 100%|██████████| 7/7 [00:00<00:00,  8.74it/s]"
     ]
    },
    {
     "name": "stdout",
     "output_type": "stream",
     "text": [
      "                   all        200        317      0.393      0.372       0.34      0.168\n"
     ]
    },
    {
     "name": "stderr",
     "output_type": "stream",
     "text": [
      "\n"
     ]
    },
    {
     "name": "stdout",
     "output_type": "stream",
     "text": [
      "\n",
      "      Epoch    GPU_mem   box_loss   cls_loss   dfl_loss  Instances       Size\n"
     ]
    },
    {
     "name": "stderr",
     "output_type": "stream",
     "text": [
      "     21/100      2.38G      1.558      1.861      1.601         35        640: 100%|██████████| 188/188 [00:18<00:00, 10.24it/s]\n",
      "                 Class     Images  Instances      Box(P          R      mAP50  mAP50-95): 100%|██████████| 7/7 [00:00<00:00,  9.30it/s]"
     ]
    },
    {
     "name": "stdout",
     "output_type": "stream",
     "text": [
      "                   all        200        317      0.517      0.382      0.427       0.21\n"
     ]
    },
    {
     "name": "stderr",
     "output_type": "stream",
     "text": [
      "\n"
     ]
    },
    {
     "name": "stdout",
     "output_type": "stream",
     "text": [
      "\n",
      "      Epoch    GPU_mem   box_loss   cls_loss   dfl_loss  Instances       Size\n"
     ]
    },
    {
     "name": "stderr",
     "output_type": "stream",
     "text": [
      "     22/100      2.38G      1.537      1.845      1.597         33        640: 100%|██████████| 188/188 [00:18<00:00, 10.37it/s]\n",
      "                 Class     Images  Instances      Box(P          R      mAP50  mAP50-95): 100%|██████████| 7/7 [00:00<00:00,  9.19it/s]"
     ]
    },
    {
     "name": "stdout",
     "output_type": "stream",
     "text": [
      "                   all        200        317      0.336      0.435      0.337      0.156\n"
     ]
    },
    {
     "name": "stderr",
     "output_type": "stream",
     "text": [
      "\n"
     ]
    },
    {
     "name": "stdout",
     "output_type": "stream",
     "text": [
      "\n",
      "      Epoch    GPU_mem   box_loss   cls_loss   dfl_loss  Instances       Size\n"
     ]
    },
    {
     "name": "stderr",
     "output_type": "stream",
     "text": [
      "     23/100      2.38G      1.532      1.818      1.586         26        640: 100%|██████████| 188/188 [00:18<00:00, 10.37it/s]\n",
      "                 Class     Images  Instances      Box(P          R      mAP50  mAP50-95): 100%|██████████| 7/7 [00:00<00:00,  9.27it/s]"
     ]
    },
    {
     "name": "stdout",
     "output_type": "stream",
     "text": [
      "                   all        200        317      0.543      0.382      0.424      0.213\n"
     ]
    },
    {
     "name": "stderr",
     "output_type": "stream",
     "text": [
      "\n"
     ]
    },
    {
     "name": "stdout",
     "output_type": "stream",
     "text": [
      "\n",
      "      Epoch    GPU_mem   box_loss   cls_loss   dfl_loss  Instances       Size\n"
     ]
    },
    {
     "name": "stderr",
     "output_type": "stream",
     "text": [
      "     24/100      2.38G      1.545      1.814      1.592         21        640: 100%|██████████| 188/188 [00:18<00:00, 10.35it/s]\n",
      "                 Class     Images  Instances      Box(P          R      mAP50  mAP50-95): 100%|██████████| 7/7 [00:00<00:00,  9.41it/s]"
     ]
    },
    {
     "name": "stdout",
     "output_type": "stream",
     "text": [
      "                   all        200        317      0.438      0.419      0.371      0.152\n"
     ]
    },
    {
     "name": "stderr",
     "output_type": "stream",
     "text": [
      "\n"
     ]
    },
    {
     "name": "stdout",
     "output_type": "stream",
     "text": [
      "\n",
      "      Epoch    GPU_mem   box_loss   cls_loss   dfl_loss  Instances       Size\n"
     ]
    },
    {
     "name": "stderr",
     "output_type": "stream",
     "text": [
      "     25/100      2.38G      1.525      1.802      1.584         25        640: 100%|██████████| 188/188 [00:17<00:00, 10.48it/s]\n",
      "                 Class     Images  Instances      Box(P          R      mAP50  mAP50-95): 100%|██████████| 7/7 [00:00<00:00,  9.04it/s]\n"
     ]
    },
    {
     "name": "stdout",
     "output_type": "stream",
     "text": [
      "                   all        200        317      0.463      0.457      0.392      0.209\n",
      "\n",
      "      Epoch    GPU_mem   box_loss   cls_loss   dfl_loss  Instances       Size\n"
     ]
    },
    {
     "name": "stderr",
     "output_type": "stream",
     "text": [
      "     26/100      2.38G      1.514      1.804      1.576         17        640: 100%|██████████| 188/188 [00:18<00:00, 10.42it/s]\n",
      "                 Class     Images  Instances      Box(P          R      mAP50  mAP50-95): 100%|██████████| 7/7 [00:00<00:00,  8.92it/s]\n"
     ]
    },
    {
     "name": "stdout",
     "output_type": "stream",
     "text": [
      "                   all        200        317       0.42       0.42      0.399      0.203\n",
      "\n",
      "      Epoch    GPU_mem   box_loss   cls_loss   dfl_loss  Instances       Size\n"
     ]
    },
    {
     "name": "stderr",
     "output_type": "stream",
     "text": [
      "     27/100      2.38G       1.51      1.779      1.582         24        640: 100%|██████████| 188/188 [00:18<00:00, 10.38it/s]\n",
      "                 Class     Images  Instances      Box(P          R      mAP50  mAP50-95): 100%|██████████| 7/7 [00:00<00:00,  9.40it/s]"
     ]
    },
    {
     "name": "stdout",
     "output_type": "stream",
     "text": [
      "                   all        200        317      0.452      0.454      0.393      0.188\n"
     ]
    },
    {
     "name": "stderr",
     "output_type": "stream",
     "text": [
      "\n"
     ]
    },
    {
     "name": "stdout",
     "output_type": "stream",
     "text": [
      "\n",
      "      Epoch    GPU_mem   box_loss   cls_loss   dfl_loss  Instances       Size\n"
     ]
    },
    {
     "name": "stderr",
     "output_type": "stream",
     "text": [
      "     28/100      2.38G      1.521      1.782      1.586         31        640: 100%|██████████| 188/188 [00:18<00:00, 10.34it/s]\n",
      "                 Class     Images  Instances      Box(P          R      mAP50  mAP50-95): 100%|██████████| 7/7 [00:00<00:00,  8.81it/s]\n"
     ]
    },
    {
     "name": "stdout",
     "output_type": "stream",
     "text": [
      "                   all        200        317      0.449      0.461      0.393      0.193\n",
      "\n",
      "      Epoch    GPU_mem   box_loss   cls_loss   dfl_loss  Instances       Size\n"
     ]
    },
    {
     "name": "stderr",
     "output_type": "stream",
     "text": [
      "     29/100      2.38G      1.487      1.763      1.563         28        640: 100%|██████████| 188/188 [00:18<00:00, 10.35it/s]\n",
      "                 Class     Images  Instances      Box(P          R      mAP50  mAP50-95): 100%|██████████| 7/7 [00:00<00:00,  8.82it/s]\n"
     ]
    },
    {
     "name": "stdout",
     "output_type": "stream",
     "text": [
      "                   all        200        317      0.474      0.438      0.408      0.215\n",
      "\n",
      "      Epoch    GPU_mem   box_loss   cls_loss   dfl_loss  Instances       Size\n"
     ]
    },
    {
     "name": "stderr",
     "output_type": "stream",
     "text": [
      "     30/100      2.38G      1.488      1.729       1.56         26        640: 100%|██████████| 188/188 [00:18<00:00, 10.38it/s]\n",
      "                 Class     Images  Instances      Box(P          R      mAP50  mAP50-95): 100%|██████████| 7/7 [00:00<00:00,  9.29it/s]"
     ]
    },
    {
     "name": "stdout",
     "output_type": "stream",
     "text": [
      "                   all        200        317      0.454      0.451      0.432      0.228\n"
     ]
    },
    {
     "name": "stderr",
     "output_type": "stream",
     "text": [
      "\n"
     ]
    },
    {
     "name": "stdout",
     "output_type": "stream",
     "text": [
      "\n",
      "      Epoch    GPU_mem   box_loss   cls_loss   dfl_loss  Instances       Size\n"
     ]
    },
    {
     "name": "stderr",
     "output_type": "stream",
     "text": [
      "     31/100      2.38G      1.478       1.75      1.562         18        640: 100%|██████████| 188/188 [00:18<00:00, 10.43it/s]\n",
      "                 Class     Images  Instances      Box(P          R      mAP50  mAP50-95): 100%|██████████| 7/7 [00:00<00:00,  9.24it/s]\n"
     ]
    },
    {
     "name": "stdout",
     "output_type": "stream",
     "text": [
      "                   all        200        317      0.528      0.391      0.399      0.207\n",
      "\n",
      "      Epoch    GPU_mem   box_loss   cls_loss   dfl_loss  Instances       Size\n"
     ]
    },
    {
     "name": "stderr",
     "output_type": "stream",
     "text": [
      "     32/100      2.38G      1.483      1.741      1.551         29        640: 100%|██████████| 188/188 [00:18<00:00, 10.35it/s]\n",
      "                 Class     Images  Instances      Box(P          R      mAP50  mAP50-95): 100%|██████████| 7/7 [00:00<00:00,  8.83it/s]"
     ]
    },
    {
     "name": "stdout",
     "output_type": "stream",
     "text": [
      "                   all        200        317      0.512      0.457      0.407      0.205\n"
     ]
    },
    {
     "name": "stderr",
     "output_type": "stream",
     "text": [
      "\n"
     ]
    },
    {
     "name": "stdout",
     "output_type": "stream",
     "text": [
      "\n",
      "      Epoch    GPU_mem   box_loss   cls_loss   dfl_loss  Instances       Size\n"
     ]
    },
    {
     "name": "stderr",
     "output_type": "stream",
     "text": [
      "     33/100      2.38G      1.476      1.717      1.548         33        640: 100%|██████████| 188/188 [00:18<00:00, 10.41it/s]\n",
      "                 Class     Images  Instances      Box(P          R      mAP50  mAP50-95): 100%|██████████| 7/7 [00:00<00:00,  8.89it/s]"
     ]
    },
    {
     "name": "stdout",
     "output_type": "stream",
     "text": [
      "                   all        200        317      0.442      0.489      0.392      0.208\n"
     ]
    },
    {
     "name": "stderr",
     "output_type": "stream",
     "text": [
      "\n"
     ]
    },
    {
     "name": "stdout",
     "output_type": "stream",
     "text": [
      "\n",
      "      Epoch    GPU_mem   box_loss   cls_loss   dfl_loss  Instances       Size\n"
     ]
    },
    {
     "name": "stderr",
     "output_type": "stream",
     "text": [
      "     34/100      2.38G      1.463       1.72      1.539         21        640: 100%|██████████| 188/188 [00:18<00:00, 10.37it/s]\n",
      "                 Class     Images  Instances      Box(P          R      mAP50  mAP50-95): 100%|██████████| 7/7 [00:00<00:00,  8.74it/s]\n"
     ]
    },
    {
     "name": "stdout",
     "output_type": "stream",
     "text": [
      "                   all        200        317      0.461      0.401      0.378      0.183\n",
      "\n",
      "      Epoch    GPU_mem   box_loss   cls_loss   dfl_loss  Instances       Size\n"
     ]
    },
    {
     "name": "stderr",
     "output_type": "stream",
     "text": [
      "     35/100      2.38G      1.474        1.7      1.546         29        640: 100%|██████████| 188/188 [00:18<00:00, 10.42it/s]\n",
      "                 Class     Images  Instances      Box(P          R      mAP50  mAP50-95): 100%|██████████| 7/7 [00:00<00:00,  8.85it/s]"
     ]
    },
    {
     "name": "stdout",
     "output_type": "stream",
     "text": [
      "                   all        200        317      0.503      0.375      0.394      0.216\n"
     ]
    },
    {
     "name": "stderr",
     "output_type": "stream",
     "text": [
      "\n"
     ]
    },
    {
     "name": "stdout",
     "output_type": "stream",
     "text": [
      "\n",
      "      Epoch    GPU_mem   box_loss   cls_loss   dfl_loss  Instances       Size\n"
     ]
    },
    {
     "name": "stderr",
     "output_type": "stream",
     "text": [
      "     36/100      2.38G      1.463      1.696      1.542         19        640: 100%|██████████| 188/188 [00:18<00:00, 10.40it/s]\n",
      "                 Class     Images  Instances      Box(P          R      mAP50  mAP50-95): 100%|██████████| 7/7 [00:00<00:00,  8.94it/s]\n"
     ]
    },
    {
     "name": "stdout",
     "output_type": "stream",
     "text": [
      "                   all        200        317      0.492      0.456      0.433      0.215\n",
      "\n",
      "      Epoch    GPU_mem   box_loss   cls_loss   dfl_loss  Instances       Size\n"
     ]
    },
    {
     "name": "stderr",
     "output_type": "stream",
     "text": [
      "     37/100      2.38G      1.452      1.656      1.521         29        640: 100%|██████████| 188/188 [00:18<00:00, 10.29it/s]\n",
      "                 Class     Images  Instances      Box(P          R      mAP50  mAP50-95): 100%|██████████| 7/7 [00:00<00:00,  9.06it/s]"
     ]
    },
    {
     "name": "stdout",
     "output_type": "stream",
     "text": [
      "                   all        200        317      0.401      0.369      0.342      0.164\n"
     ]
    },
    {
     "name": "stderr",
     "output_type": "stream",
     "text": [
      "\n"
     ]
    },
    {
     "name": "stdout",
     "output_type": "stream",
     "text": [
      "\n",
      "      Epoch    GPU_mem   box_loss   cls_loss   dfl_loss  Instances       Size\n"
     ]
    },
    {
     "name": "stderr",
     "output_type": "stream",
     "text": [
      "     38/100      2.38G      1.446       1.68       1.54         16        640: 100%|██████████| 188/188 [00:18<00:00, 10.34it/s]\n",
      "                 Class     Images  Instances      Box(P          R      mAP50  mAP50-95): 100%|██████████| 7/7 [00:00<00:00,  9.25it/s]"
     ]
    },
    {
     "name": "stdout",
     "output_type": "stream",
     "text": [
      "                   all        200        317      0.503      0.435       0.43      0.236\n"
     ]
    },
    {
     "name": "stderr",
     "output_type": "stream",
     "text": [
      "\n"
     ]
    },
    {
     "name": "stdout",
     "output_type": "stream",
     "text": [
      "\n",
      "      Epoch    GPU_mem   box_loss   cls_loss   dfl_loss  Instances       Size\n"
     ]
    },
    {
     "name": "stderr",
     "output_type": "stream",
     "text": [
      "     39/100      2.38G      1.462      1.657      1.536         18        640: 100%|██████████| 188/188 [00:18<00:00, 10.36it/s]\n",
      "                 Class     Images  Instances      Box(P          R      mAP50  mAP50-95): 100%|██████████| 7/7 [00:00<00:00,  9.20it/s]"
     ]
    },
    {
     "name": "stdout",
     "output_type": "stream",
     "text": [
      "                   all        200        317      0.402      0.508      0.418      0.214\n"
     ]
    },
    {
     "name": "stderr",
     "output_type": "stream",
     "text": [
      "\n"
     ]
    },
    {
     "name": "stdout",
     "output_type": "stream",
     "text": [
      "\n",
      "      Epoch    GPU_mem   box_loss   cls_loss   dfl_loss  Instances       Size\n"
     ]
    },
    {
     "name": "stderr",
     "output_type": "stream",
     "text": [
      "     40/100      2.38G       1.44      1.653       1.52         26        640: 100%|██████████| 188/188 [00:18<00:00, 10.39it/s]\n",
      "                 Class     Images  Instances      Box(P          R      mAP50  mAP50-95): 100%|██████████| 7/7 [00:00<00:00,  8.95it/s]\n"
     ]
    },
    {
     "name": "stdout",
     "output_type": "stream",
     "text": [
      "                   all        200        317      0.389       0.47      0.368      0.199\n",
      "\n",
      "      Epoch    GPU_mem   box_loss   cls_loss   dfl_loss  Instances       Size\n"
     ]
    },
    {
     "name": "stderr",
     "output_type": "stream",
     "text": [
      "     41/100      2.38G      1.445      1.669      1.532         35        640: 100%|██████████| 188/188 [00:18<00:00, 10.40it/s]\n",
      "                 Class     Images  Instances      Box(P          R      mAP50  mAP50-95): 100%|██████████| 7/7 [00:00<00:00,  8.86it/s]"
     ]
    },
    {
     "name": "stdout",
     "output_type": "stream",
     "text": [
      "                   all        200        317      0.555      0.407      0.442      0.233\n"
     ]
    },
    {
     "name": "stderr",
     "output_type": "stream",
     "text": [
      "\n"
     ]
    },
    {
     "name": "stdout",
     "output_type": "stream",
     "text": [
      "\n",
      "      Epoch    GPU_mem   box_loss   cls_loss   dfl_loss  Instances       Size\n"
     ]
    },
    {
     "name": "stderr",
     "output_type": "stream",
     "text": [
      "     42/100      2.38G      1.426      1.627       1.51         15        640: 100%|██████████| 188/188 [00:18<00:00, 10.39it/s]\n",
      "                 Class     Images  Instances      Box(P          R      mAP50  mAP50-95): 100%|██████████| 7/7 [00:00<00:00,  8.76it/s]\n"
     ]
    },
    {
     "name": "stdout",
     "output_type": "stream",
     "text": [
      "                   all        200        317      0.464      0.435      0.391      0.201\n",
      "\n",
      "      Epoch    GPU_mem   box_loss   cls_loss   dfl_loss  Instances       Size\n"
     ]
    },
    {
     "name": "stderr",
     "output_type": "stream",
     "text": [
      "     43/100      2.38G      1.441      1.636      1.523         38        640: 100%|██████████| 188/188 [00:18<00:00, 10.39it/s]\n",
      "                 Class     Images  Instances      Box(P          R      mAP50  mAP50-95): 100%|██████████| 7/7 [00:00<00:00,  8.84it/s]"
     ]
    },
    {
     "name": "stdout",
     "output_type": "stream",
     "text": [
      "                   all        200        317      0.434      0.479      0.397      0.188\n"
     ]
    },
    {
     "name": "stderr",
     "output_type": "stream",
     "text": [
      "\n"
     ]
    },
    {
     "name": "stdout",
     "output_type": "stream",
     "text": [
      "\n",
      "      Epoch    GPU_mem   box_loss   cls_loss   dfl_loss  Instances       Size\n"
     ]
    },
    {
     "name": "stderr",
     "output_type": "stream",
     "text": [
      "     44/100      2.38G      1.429      1.616      1.505         22        640: 100%|██████████| 188/188 [00:18<00:00, 10.36it/s]\n",
      "                 Class     Images  Instances      Box(P          R      mAP50  mAP50-95): 100%|██████████| 7/7 [00:00<00:00,  9.38it/s]"
     ]
    },
    {
     "name": "stdout",
     "output_type": "stream",
     "text": [
      "                   all        200        317      0.424      0.539      0.445      0.233\n"
     ]
    },
    {
     "name": "stderr",
     "output_type": "stream",
     "text": [
      "\n"
     ]
    },
    {
     "name": "stdout",
     "output_type": "stream",
     "text": [
      "\n",
      "      Epoch    GPU_mem   box_loss   cls_loss   dfl_loss  Instances       Size\n"
     ]
    },
    {
     "name": "stderr",
     "output_type": "stream",
     "text": [
      "     45/100      2.38G      1.414      1.592      1.496         22        640: 100%|██████████| 188/188 [00:18<00:00, 10.43it/s]\n",
      "                 Class     Images  Instances      Box(P          R      mAP50  mAP50-95): 100%|██████████| 7/7 [00:00<00:00,  9.10it/s]\n"
     ]
    },
    {
     "name": "stdout",
     "output_type": "stream",
     "text": [
      "                   all        200        317      0.454      0.451      0.401      0.215\n",
      "\n",
      "      Epoch    GPU_mem   box_loss   cls_loss   dfl_loss  Instances       Size\n"
     ]
    },
    {
     "name": "stderr",
     "output_type": "stream",
     "text": [
      "     46/100      2.38G      1.433      1.605      1.499         22        640: 100%|██████████| 188/188 [00:18<00:00, 10.44it/s]\n",
      "                 Class     Images  Instances      Box(P          R      mAP50  mAP50-95): 100%|██████████| 7/7 [00:00<00:00,  9.21it/s]\n"
     ]
    },
    {
     "name": "stdout",
     "output_type": "stream",
     "text": [
      "                   all        200        317      0.457      0.505      0.432      0.226\n",
      "\n",
      "      Epoch    GPU_mem   box_loss   cls_loss   dfl_loss  Instances       Size\n"
     ]
    },
    {
     "name": "stderr",
     "output_type": "stream",
     "text": [
      "     47/100      2.38G      1.395      1.601      1.495         30        640: 100%|██████████| 188/188 [00:18<00:00, 10.36it/s]\n",
      "                 Class     Images  Instances      Box(P          R      mAP50  mAP50-95): 100%|██████████| 7/7 [00:00<00:00,  9.19it/s]"
     ]
    },
    {
     "name": "stdout",
     "output_type": "stream",
     "text": [
      "                   all        200        317      0.441      0.473       0.42      0.225\n"
     ]
    },
    {
     "name": "stderr",
     "output_type": "stream",
     "text": [
      "\n"
     ]
    },
    {
     "name": "stdout",
     "output_type": "stream",
     "text": [
      "\n",
      "      Epoch    GPU_mem   box_loss   cls_loss   dfl_loss  Instances       Size\n"
     ]
    },
    {
     "name": "stderr",
     "output_type": "stream",
     "text": [
      "     48/100      2.38G      1.404      1.592       1.51         28        640: 100%|██████████| 188/188 [00:18<00:00, 10.39it/s]\n",
      "                 Class     Images  Instances      Box(P          R      mAP50  mAP50-95): 100%|██████████| 7/7 [00:00<00:00,  9.28it/s]"
     ]
    },
    {
     "name": "stdout",
     "output_type": "stream",
     "text": [
      "                   all        200        317      0.388      0.483      0.389      0.199\n"
     ]
    },
    {
     "name": "stderr",
     "output_type": "stream",
     "text": [
      "\n"
     ]
    },
    {
     "name": "stdout",
     "output_type": "stream",
     "text": [
      "\n",
      "      Epoch    GPU_mem   box_loss   cls_loss   dfl_loss  Instances       Size\n"
     ]
    },
    {
     "name": "stderr",
     "output_type": "stream",
     "text": [
      "     49/100      2.38G      1.401      1.565      1.483         30        640: 100%|██████████| 188/188 [00:18<00:00, 10.37it/s]\n",
      "                 Class     Images  Instances      Box(P          R      mAP50  mAP50-95): 100%|██████████| 7/7 [00:00<00:00,  9.42it/s]"
     ]
    },
    {
     "name": "stdout",
     "output_type": "stream",
     "text": [
      "                   all        200        317      0.497      0.457      0.425      0.237\n"
     ]
    },
    {
     "name": "stderr",
     "output_type": "stream",
     "text": [
      "\n"
     ]
    },
    {
     "name": "stdout",
     "output_type": "stream",
     "text": [
      "\n",
      "      Epoch    GPU_mem   box_loss   cls_loss   dfl_loss  Instances       Size\n"
     ]
    },
    {
     "name": "stderr",
     "output_type": "stream",
     "text": [
      "     50/100      2.38G      1.391      1.556      1.486         26        640: 100%|██████████| 188/188 [00:18<00:00, 10.36it/s]\n",
      "                 Class     Images  Instances      Box(P          R      mAP50  mAP50-95): 100%|██████████| 7/7 [00:00<00:00,  9.37it/s]"
     ]
    },
    {
     "name": "stdout",
     "output_type": "stream",
     "text": [
      "                   all        200        317      0.468      0.502      0.437      0.237\n"
     ]
    },
    {
     "name": "stderr",
     "output_type": "stream",
     "text": [
      "\n"
     ]
    },
    {
     "name": "stdout",
     "output_type": "stream",
     "text": [
      "\n",
      "      Epoch    GPU_mem   box_loss   cls_loss   dfl_loss  Instances       Size\n"
     ]
    },
    {
     "name": "stderr",
     "output_type": "stream",
     "text": [
      "     51/100      2.38G      1.374      1.536      1.475         28        640: 100%|██████████| 188/188 [00:18<00:00, 10.33it/s]\n",
      "                 Class     Images  Instances      Box(P          R      mAP50  mAP50-95): 100%|██████████| 7/7 [00:00<00:00,  9.40it/s]"
     ]
    },
    {
     "name": "stdout",
     "output_type": "stream",
     "text": [
      "                   all        200        317      0.606      0.363      0.423      0.218\n"
     ]
    },
    {
     "name": "stderr",
     "output_type": "stream",
     "text": [
      "\n"
     ]
    },
    {
     "name": "stdout",
     "output_type": "stream",
     "text": [
      "\n",
      "      Epoch    GPU_mem   box_loss   cls_loss   dfl_loss  Instances       Size\n"
     ]
    },
    {
     "name": "stderr",
     "output_type": "stream",
     "text": [
      "     52/100      2.38G      1.377      1.513      1.467         24        640: 100%|██████████| 188/188 [00:18<00:00, 10.38it/s]\n",
      "                 Class     Images  Instances      Box(P          R      mAP50  mAP50-95): 100%|██████████| 7/7 [00:00<00:00,  9.23it/s]"
     ]
    },
    {
     "name": "stdout",
     "output_type": "stream",
     "text": [
      "                   all        200        317      0.415      0.489      0.424      0.226\n"
     ]
    },
    {
     "name": "stderr",
     "output_type": "stream",
     "text": [
      "\n"
     ]
    },
    {
     "name": "stdout",
     "output_type": "stream",
     "text": [
      "\n",
      "      Epoch    GPU_mem   box_loss   cls_loss   dfl_loss  Instances       Size\n"
     ]
    },
    {
     "name": "stderr",
     "output_type": "stream",
     "text": [
      "     53/100      2.38G       1.36      1.529      1.477         37        640: 100%|██████████| 188/188 [00:18<00:00, 10.37it/s]\n",
      "                 Class     Images  Instances      Box(P          R      mAP50  mAP50-95): 100%|██████████| 7/7 [00:00<00:00,  9.40it/s]\n"
     ]
    },
    {
     "name": "stdout",
     "output_type": "stream",
     "text": [
      "                   all        200        317       0.45      0.444      0.392      0.221\n",
      "\n",
      "      Epoch    GPU_mem   box_loss   cls_loss   dfl_loss  Instances       Size\n"
     ]
    },
    {
     "name": "stderr",
     "output_type": "stream",
     "text": [
      "     54/100      2.38G      1.398       1.53      1.484         19        640: 100%|██████████| 188/188 [00:18<00:00, 10.37it/s]\n",
      "                 Class     Images  Instances      Box(P          R      mAP50  mAP50-95): 100%|██████████| 7/7 [00:00<00:00,  8.95it/s]"
     ]
    },
    {
     "name": "stdout",
     "output_type": "stream",
     "text": [
      "                   all        200        317      0.441      0.445      0.386      0.218\n"
     ]
    },
    {
     "name": "stderr",
     "output_type": "stream",
     "text": [
      "\n"
     ]
    },
    {
     "name": "stdout",
     "output_type": "stream",
     "text": [
      "\n",
      "      Epoch    GPU_mem   box_loss   cls_loss   dfl_loss  Instances       Size\n"
     ]
    },
    {
     "name": "stderr",
     "output_type": "stream",
     "text": [
      "     55/100      2.38G      1.356      1.484      1.458         14        640: 100%|██████████| 188/188 [00:18<00:00, 10.41it/s]\n",
      "                 Class     Images  Instances      Box(P          R      mAP50  mAP50-95): 100%|██████████| 7/7 [00:00<00:00,  9.20it/s]"
     ]
    },
    {
     "name": "stdout",
     "output_type": "stream",
     "text": [
      "                   all        200        317      0.511      0.426       0.42      0.233\n"
     ]
    },
    {
     "name": "stderr",
     "output_type": "stream",
     "text": [
      "\n"
     ]
    },
    {
     "name": "stdout",
     "output_type": "stream",
     "text": [
      "\n",
      "      Epoch    GPU_mem   box_loss   cls_loss   dfl_loss  Instances       Size\n"
     ]
    },
    {
     "name": "stderr",
     "output_type": "stream",
     "text": [
      "     56/100      2.38G      1.365      1.498      1.465         19        640: 100%|██████████| 188/188 [00:18<00:00, 10.38it/s]\n",
      "                 Class     Images  Instances      Box(P          R      mAP50  mAP50-95): 100%|██████████| 7/7 [00:00<00:00,  9.15it/s]"
     ]
    },
    {
     "name": "stdout",
     "output_type": "stream",
     "text": [
      "                   all        200        317      0.472      0.442      0.397      0.215\n"
     ]
    },
    {
     "name": "stderr",
     "output_type": "stream",
     "text": [
      "\n"
     ]
    },
    {
     "name": "stdout",
     "output_type": "stream",
     "text": [
      "\n",
      "      Epoch    GPU_mem   box_loss   cls_loss   dfl_loss  Instances       Size\n"
     ]
    },
    {
     "name": "stderr",
     "output_type": "stream",
     "text": [
      "     57/100      2.38G       1.36      1.498      1.462         23        640: 100%|██████████| 188/188 [00:18<00:00, 10.29it/s]\n",
      "                 Class     Images  Instances      Box(P          R      mAP50  mAP50-95): 100%|██████████| 7/7 [00:00<00:00,  8.77it/s]"
     ]
    },
    {
     "name": "stdout",
     "output_type": "stream",
     "text": [
      "                   all        200        317      0.508       0.47      0.431      0.247\n"
     ]
    },
    {
     "name": "stderr",
     "output_type": "stream",
     "text": [
      "\n"
     ]
    },
    {
     "name": "stdout",
     "output_type": "stream",
     "text": [
      "\n",
      "      Epoch    GPU_mem   box_loss   cls_loss   dfl_loss  Instances       Size\n"
     ]
    },
    {
     "name": "stderr",
     "output_type": "stream",
     "text": [
      "     58/100      2.38G      1.348      1.477       1.46         36        640: 100%|██████████| 188/188 [00:18<00:00, 10.37it/s]\n",
      "                 Class     Images  Instances      Box(P          R      mAP50  mAP50-95): 100%|██████████| 7/7 [00:00<00:00,  9.44it/s]"
     ]
    },
    {
     "name": "stdout",
     "output_type": "stream",
     "text": [
      "                   all        200        317      0.447      0.495      0.436      0.224\n"
     ]
    },
    {
     "name": "stderr",
     "output_type": "stream",
     "text": [
      "\n"
     ]
    },
    {
     "name": "stdout",
     "output_type": "stream",
     "text": [
      "\n",
      "      Epoch    GPU_mem   box_loss   cls_loss   dfl_loss  Instances       Size\n"
     ]
    },
    {
     "name": "stderr",
     "output_type": "stream",
     "text": [
      "     59/100      2.38G      1.358      1.464      1.448         31        640: 100%|██████████| 188/188 [00:18<00:00, 10.41it/s]\n",
      "                 Class     Images  Instances      Box(P          R      mAP50  mAP50-95): 100%|██████████| 7/7 [00:00<00:00,  9.15it/s]"
     ]
    },
    {
     "name": "stdout",
     "output_type": "stream",
     "text": [
      "                   all        200        317      0.474       0.47      0.424      0.225\n"
     ]
    },
    {
     "name": "stderr",
     "output_type": "stream",
     "text": [
      "\n"
     ]
    },
    {
     "name": "stdout",
     "output_type": "stream",
     "text": [
      "\n",
      "      Epoch    GPU_mem   box_loss   cls_loss   dfl_loss  Instances       Size\n"
     ]
    },
    {
     "name": "stderr",
     "output_type": "stream",
     "text": [
      "     60/100      2.38G      1.334      1.459      1.451         34        640: 100%|██████████| 188/188 [00:18<00:00, 10.38it/s]\n",
      "                 Class     Images  Instances      Box(P          R      mAP50  mAP50-95): 100%|██████████| 7/7 [00:00<00:00,  9.35it/s]"
     ]
    },
    {
     "name": "stdout",
     "output_type": "stream",
     "text": [
      "                   all        200        317      0.564      0.394      0.427      0.237\n"
     ]
    },
    {
     "name": "stderr",
     "output_type": "stream",
     "text": [
      "\n"
     ]
    },
    {
     "name": "stdout",
     "output_type": "stream",
     "text": [
      "\n",
      "      Epoch    GPU_mem   box_loss   cls_loss   dfl_loss  Instances       Size\n"
     ]
    },
    {
     "name": "stderr",
     "output_type": "stream",
     "text": [
      "     61/100      2.38G      1.361       1.47      1.466         28        640: 100%|██████████| 188/188 [00:18<00:00, 10.36it/s]\n",
      "                 Class     Images  Instances      Box(P          R      mAP50  mAP50-95): 100%|██████████| 7/7 [00:00<00:00,  9.56it/s]"
     ]
    },
    {
     "name": "stdout",
     "output_type": "stream",
     "text": [
      "                   all        200        317      0.517      0.448      0.447      0.253\n"
     ]
    },
    {
     "name": "stderr",
     "output_type": "stream",
     "text": [
      "\n"
     ]
    },
    {
     "name": "stdout",
     "output_type": "stream",
     "text": [
      "\n",
      "      Epoch    GPU_mem   box_loss   cls_loss   dfl_loss  Instances       Size\n"
     ]
    },
    {
     "name": "stderr",
     "output_type": "stream",
     "text": [
      "     62/100      2.38G      1.336      1.439      1.437         33        640: 100%|██████████| 188/188 [00:18<00:00, 10.38it/s]\n",
      "                 Class     Images  Instances      Box(P          R      mAP50  mAP50-95): 100%|██████████| 7/7 [00:00<00:00,  8.82it/s]\n"
     ]
    },
    {
     "name": "stdout",
     "output_type": "stream",
     "text": [
      "                   all        200        317      0.441       0.42      0.384      0.218\n",
      "\n",
      "      Epoch    GPU_mem   box_loss   cls_loss   dfl_loss  Instances       Size\n"
     ]
    },
    {
     "name": "stderr",
     "output_type": "stream",
     "text": [
      "     63/100      2.38G      1.332      1.445      1.443         30        640: 100%|██████████| 188/188 [00:18<00:00, 10.38it/s]\n",
      "                 Class     Images  Instances      Box(P          R      mAP50  mAP50-95): 100%|██████████| 7/7 [00:00<00:00,  9.56it/s]"
     ]
    },
    {
     "name": "stdout",
     "output_type": "stream",
     "text": [
      "                   all        200        317      0.482      0.406      0.402      0.226\n"
     ]
    },
    {
     "name": "stderr",
     "output_type": "stream",
     "text": [
      "\n"
     ]
    },
    {
     "name": "stdout",
     "output_type": "stream",
     "text": [
      "\n",
      "      Epoch    GPU_mem   box_loss   cls_loss   dfl_loss  Instances       Size\n"
     ]
    },
    {
     "name": "stderr",
     "output_type": "stream",
     "text": [
      "     64/100      2.38G      1.317      1.402      1.438         19        640: 100%|██████████| 188/188 [00:18<00:00, 10.39it/s]\n",
      "                 Class     Images  Instances      Box(P          R      mAP50  mAP50-95): 100%|██████████| 7/7 [00:00<00:00,  8.94it/s]"
     ]
    },
    {
     "name": "stdout",
     "output_type": "stream",
     "text": [
      "                   all        200        317      0.471      0.416      0.392       0.22\n"
     ]
    },
    {
     "name": "stderr",
     "output_type": "stream",
     "text": [
      "\n"
     ]
    },
    {
     "name": "stdout",
     "output_type": "stream",
     "text": [
      "\n",
      "      Epoch    GPU_mem   box_loss   cls_loss   dfl_loss  Instances       Size\n"
     ]
    },
    {
     "name": "stderr",
     "output_type": "stream",
     "text": [
      "     65/100      2.38G      1.321      1.419       1.43         10        640: 100%|██████████| 188/188 [00:18<00:00, 10.35it/s]\n",
      "                 Class     Images  Instances      Box(P          R      mAP50  mAP50-95): 100%|██████████| 7/7 [00:00<00:00,  8.98it/s]"
     ]
    },
    {
     "name": "stdout",
     "output_type": "stream",
     "text": [
      "                   all        200        317      0.454      0.416      0.388       0.22\n"
     ]
    },
    {
     "name": "stderr",
     "output_type": "stream",
     "text": [
      "\n"
     ]
    },
    {
     "name": "stdout",
     "output_type": "stream",
     "text": [
      "\n",
      "      Epoch    GPU_mem   box_loss   cls_loss   dfl_loss  Instances       Size\n"
     ]
    },
    {
     "name": "stderr",
     "output_type": "stream",
     "text": [
      "     66/100      2.38G      1.317      1.402      1.428         22        640: 100%|██████████| 188/188 [00:18<00:00, 10.41it/s]\n",
      "                 Class     Images  Instances      Box(P          R      mAP50  mAP50-95): 100%|██████████| 7/7 [00:00<00:00,  8.97it/s]"
     ]
    },
    {
     "name": "stdout",
     "output_type": "stream",
     "text": [
      "                   all        200        317      0.496      0.432      0.432      0.238\n"
     ]
    },
    {
     "name": "stderr",
     "output_type": "stream",
     "text": [
      "\n"
     ]
    },
    {
     "name": "stdout",
     "output_type": "stream",
     "text": [
      "\n",
      "      Epoch    GPU_mem   box_loss   cls_loss   dfl_loss  Instances       Size\n"
     ]
    },
    {
     "name": "stderr",
     "output_type": "stream",
     "text": [
      "     67/100      2.38G      1.297      1.373       1.41         32        640: 100%|██████████| 188/188 [00:18<00:00, 10.33it/s]\n",
      "                 Class     Images  Instances      Box(P          R      mAP50  mAP50-95): 100%|██████████| 7/7 [00:00<00:00,  9.15it/s]"
     ]
    },
    {
     "name": "stdout",
     "output_type": "stream",
     "text": [
      "                   all        200        317      0.473      0.461      0.416      0.232\n"
     ]
    },
    {
     "name": "stderr",
     "output_type": "stream",
     "text": [
      "\n"
     ]
    },
    {
     "name": "stdout",
     "output_type": "stream",
     "text": [
      "\n",
      "      Epoch    GPU_mem   box_loss   cls_loss   dfl_loss  Instances       Size\n"
     ]
    },
    {
     "name": "stderr",
     "output_type": "stream",
     "text": [
      "     68/100      2.38G      1.316      1.373      1.421         38        640: 100%|██████████| 188/188 [00:17<00:00, 10.47it/s]\n",
      "                 Class     Images  Instances      Box(P          R      mAP50  mAP50-95): 100%|██████████| 7/7 [00:00<00:00,  9.28it/s]"
     ]
    },
    {
     "name": "stdout",
     "output_type": "stream",
     "text": [
      "                   all        200        317      0.444      0.448        0.4      0.234\n"
     ]
    },
    {
     "name": "stderr",
     "output_type": "stream",
     "text": [
      "\n"
     ]
    },
    {
     "name": "stdout",
     "output_type": "stream",
     "text": [
      "\n",
      "      Epoch    GPU_mem   box_loss   cls_loss   dfl_loss  Instances       Size\n"
     ]
    },
    {
     "name": "stderr",
     "output_type": "stream",
     "text": [
      "     69/100      2.38G      1.291      1.355      1.409         22        640: 100%|██████████| 188/188 [00:17<00:00, 10.48it/s]\n",
      "                 Class     Images  Instances      Box(P          R      mAP50  mAP50-95): 100%|██████████| 7/7 [00:00<00:00,  9.59it/s]"
     ]
    },
    {
     "name": "stdout",
     "output_type": "stream",
     "text": [
      "                   all        200        317      0.466      0.391      0.371      0.208\n"
     ]
    },
    {
     "name": "stderr",
     "output_type": "stream",
     "text": [
      "\n"
     ]
    },
    {
     "name": "stdout",
     "output_type": "stream",
     "text": [
      "\n",
      "      Epoch    GPU_mem   box_loss   cls_loss   dfl_loss  Instances       Size\n"
     ]
    },
    {
     "name": "stderr",
     "output_type": "stream",
     "text": [
      "     70/100      2.38G        1.3      1.373      1.421         17        640: 100%|██████████| 188/188 [00:17<00:00, 10.46it/s]\n",
      "                 Class     Images  Instances      Box(P          R      mAP50  mAP50-95): 100%|██████████| 7/7 [00:00<00:00,  9.82it/s]"
     ]
    },
    {
     "name": "stdout",
     "output_type": "stream",
     "text": [
      "                   all        200        317       0.41      0.514      0.403      0.226\n"
     ]
    },
    {
     "name": "stderr",
     "output_type": "stream",
     "text": [
      "\n"
     ]
    },
    {
     "name": "stdout",
     "output_type": "stream",
     "text": [
      "\n",
      "      Epoch    GPU_mem   box_loss   cls_loss   dfl_loss  Instances       Size\n"
     ]
    },
    {
     "name": "stderr",
     "output_type": "stream",
     "text": [
      "     71/100      2.38G      1.281      1.339      1.405         23        640: 100%|██████████| 188/188 [00:17<00:00, 10.47it/s]\n",
      "                 Class     Images  Instances      Box(P          R      mAP50  mAP50-95): 100%|██████████| 7/7 [00:00<00:00,  9.44it/s]"
     ]
    },
    {
     "name": "stdout",
     "output_type": "stream",
     "text": [
      "                   all        200        317      0.486      0.454      0.398      0.227\n"
     ]
    },
    {
     "name": "stderr",
     "output_type": "stream",
     "text": [
      "\n"
     ]
    },
    {
     "name": "stdout",
     "output_type": "stream",
     "text": [
      "\n",
      "      Epoch    GPU_mem   box_loss   cls_loss   dfl_loss  Instances       Size\n"
     ]
    },
    {
     "name": "stderr",
     "output_type": "stream",
     "text": [
      "     72/100      2.38G      1.269      1.322      1.399         30        640: 100%|██████████| 188/188 [00:18<00:00, 10.39it/s]\n",
      "                 Class     Images  Instances      Box(P          R      mAP50  mAP50-95): 100%|██████████| 7/7 [00:00<00:00,  9.86it/s]"
     ]
    },
    {
     "name": "stdout",
     "output_type": "stream",
     "text": [
      "                   all        200        317      0.508      0.459      0.427      0.244\n"
     ]
    },
    {
     "name": "stderr",
     "output_type": "stream",
     "text": [
      "\n"
     ]
    },
    {
     "name": "stdout",
     "output_type": "stream",
     "text": [
      "\n",
      "      Epoch    GPU_mem   box_loss   cls_loss   dfl_loss  Instances       Size\n"
     ]
    },
    {
     "name": "stderr",
     "output_type": "stream",
     "text": [
      "     73/100      2.38G      1.277      1.336      1.403         28        640: 100%|██████████| 188/188 [00:18<00:00, 10.15it/s]\n",
      "                 Class     Images  Instances      Box(P          R      mAP50  mAP50-95): 100%|██████████| 7/7 [00:00<00:00,  9.00it/s]\n"
     ]
    },
    {
     "name": "stdout",
     "output_type": "stream",
     "text": [
      "                   all        200        317      0.487      0.442      0.401      0.223\n",
      "\n",
      "      Epoch    GPU_mem   box_loss   cls_loss   dfl_loss  Instances       Size\n"
     ]
    },
    {
     "name": "stderr",
     "output_type": "stream",
     "text": [
      "     74/100      2.38G      1.277       1.32      1.395         20        640: 100%|██████████| 188/188 [00:18<00:00, 10.08it/s]\n",
      "                 Class     Images  Instances      Box(P          R      mAP50  mAP50-95): 100%|██████████| 7/7 [00:00<00:00,  9.50it/s]"
     ]
    },
    {
     "name": "stdout",
     "output_type": "stream",
     "text": [
      "                   all        200        317       0.47      0.457        0.4      0.219\n"
     ]
    },
    {
     "name": "stderr",
     "output_type": "stream",
     "text": [
      "\n"
     ]
    },
    {
     "name": "stdout",
     "output_type": "stream",
     "text": [
      "\n",
      "      Epoch    GPU_mem   box_loss   cls_loss   dfl_loss  Instances       Size\n"
     ]
    },
    {
     "name": "stderr",
     "output_type": "stream",
     "text": [
      "     75/100      2.38G      1.281      1.313      1.386         23        640: 100%|██████████| 188/188 [00:18<00:00, 10.10it/s]\n",
      "                 Class     Images  Instances      Box(P          R      mAP50  mAP50-95): 100%|██████████| 7/7 [00:00<00:00,  9.13it/s]"
     ]
    },
    {
     "name": "stdout",
     "output_type": "stream",
     "text": [
      "                   all        200        317      0.445      0.473      0.376      0.204\n"
     ]
    },
    {
     "name": "stderr",
     "output_type": "stream",
     "text": [
      "\n"
     ]
    },
    {
     "name": "stdout",
     "output_type": "stream",
     "text": [
      "\n",
      "      Epoch    GPU_mem   box_loss   cls_loss   dfl_loss  Instances       Size\n"
     ]
    },
    {
     "name": "stderr",
     "output_type": "stream",
     "text": [
      "     76/100      2.38G      1.255      1.296      1.387         12        640: 100%|██████████| 188/188 [00:18<00:00, 10.30it/s]\n",
      "                 Class     Images  Instances      Box(P          R      mAP50  mAP50-95): 100%|██████████| 7/7 [00:00<00:00,  9.24it/s]"
     ]
    },
    {
     "name": "stdout",
     "output_type": "stream",
     "text": [
      "                   all        200        317        0.5      0.467      0.415      0.229\n"
     ]
    },
    {
     "name": "stderr",
     "output_type": "stream",
     "text": [
      "\n"
     ]
    },
    {
     "name": "stdout",
     "output_type": "stream",
     "text": [
      "\n",
      "      Epoch    GPU_mem   box_loss   cls_loss   dfl_loss  Instances       Size\n"
     ]
    },
    {
     "name": "stderr",
     "output_type": "stream",
     "text": [
      "     77/100      2.38G      1.259      1.294      1.396         32        640: 100%|██████████| 188/188 [00:18<00:00, 10.32it/s]\n",
      "                 Class     Images  Instances      Box(P          R      mAP50  mAP50-95): 100%|██████████| 7/7 [00:00<00:00,  9.41it/s]"
     ]
    },
    {
     "name": "stdout",
     "output_type": "stream",
     "text": [
      "                   all        200        317      0.501      0.475       0.42      0.226\n"
     ]
    },
    {
     "name": "stderr",
     "output_type": "stream",
     "text": [
      "\n"
     ]
    },
    {
     "name": "stdout",
     "output_type": "stream",
     "text": [
      "\n",
      "      Epoch    GPU_mem   box_loss   cls_loss   dfl_loss  Instances       Size\n"
     ]
    },
    {
     "name": "stderr",
     "output_type": "stream",
     "text": [
      "     78/100      2.38G      1.254        1.3      1.382         24        640: 100%|██████████| 188/188 [00:18<00:00, 10.39it/s]\n",
      "                 Class     Images  Instances      Box(P          R      mAP50  mAP50-95): 100%|██████████| 7/7 [00:00<00:00,  9.26it/s]"
     ]
    },
    {
     "name": "stdout",
     "output_type": "stream",
     "text": [
      "                   all        200        317      0.441      0.505      0.421      0.233\n"
     ]
    },
    {
     "name": "stderr",
     "output_type": "stream",
     "text": [
      "\n"
     ]
    },
    {
     "name": "stdout",
     "output_type": "stream",
     "text": [
      "\n",
      "      Epoch    GPU_mem   box_loss   cls_loss   dfl_loss  Instances       Size\n"
     ]
    },
    {
     "name": "stderr",
     "output_type": "stream",
     "text": [
      "     79/100      2.38G      1.255      1.285      1.386         27        640: 100%|██████████| 188/188 [00:18<00:00, 10.39it/s]\n",
      "                 Class     Images  Instances      Box(P          R      mAP50  mAP50-95): 100%|██████████| 7/7 [00:00<00:00,  9.36it/s]"
     ]
    },
    {
     "name": "stdout",
     "output_type": "stream",
     "text": [
      "                   all        200        317      0.526      0.461      0.416      0.234\n"
     ]
    },
    {
     "name": "stderr",
     "output_type": "stream",
     "text": [
      "\n"
     ]
    },
    {
     "name": "stdout",
     "output_type": "stream",
     "text": [
      "\n",
      "      Epoch    GPU_mem   box_loss   cls_loss   dfl_loss  Instances       Size\n"
     ]
    },
    {
     "name": "stderr",
     "output_type": "stream",
     "text": [
      "     80/100      2.38G       1.25      1.256      1.376         31        640: 100%|██████████| 188/188 [00:18<00:00, 10.39it/s]\n",
      "                 Class     Images  Instances      Box(P          R      mAP50  mAP50-95): 100%|██████████| 7/7 [00:00<00:00,  9.52it/s]"
     ]
    },
    {
     "name": "stdout",
     "output_type": "stream",
     "text": [
      "                   all        200        317      0.462       0.47      0.424      0.243\n"
     ]
    },
    {
     "name": "stderr",
     "output_type": "stream",
     "text": [
      "\n"
     ]
    },
    {
     "name": "stdout",
     "output_type": "stream",
     "text": [
      "\n",
      "      Epoch    GPU_mem   box_loss   cls_loss   dfl_loss  Instances       Size\n"
     ]
    },
    {
     "name": "stderr",
     "output_type": "stream",
     "text": [
      "     81/100      2.38G      1.238      1.263      1.376         26        640: 100%|██████████| 188/188 [00:18<00:00, 10.41it/s]\n",
      "                 Class     Images  Instances      Box(P          R      mAP50  mAP50-95): 100%|██████████| 7/7 [00:00<00:00,  9.50it/s]"
     ]
    },
    {
     "name": "stdout",
     "output_type": "stream",
     "text": [
      "                   all        200        317       0.49      0.454      0.422      0.241\n"
     ]
    },
    {
     "name": "stderr",
     "output_type": "stream",
     "text": [
      "\n"
     ]
    },
    {
     "name": "stdout",
     "output_type": "stream",
     "text": [
      "\n",
      "      Epoch    GPU_mem   box_loss   cls_loss   dfl_loss  Instances       Size\n"
     ]
    },
    {
     "name": "stderr",
     "output_type": "stream",
     "text": [
      "     82/100      2.38G      1.231      1.254      1.371         13        640: 100%|██████████| 188/188 [00:18<00:00, 10.38it/s]\n",
      "                 Class     Images  Instances      Box(P          R      mAP50  mAP50-95): 100%|██████████| 7/7 [00:00<00:00,  9.03it/s]"
     ]
    },
    {
     "name": "stdout",
     "output_type": "stream",
     "text": [
      "                   all        200        317      0.472      0.448      0.404      0.227\n"
     ]
    },
    {
     "name": "stderr",
     "output_type": "stream",
     "text": [
      "\n"
     ]
    },
    {
     "name": "stdout",
     "output_type": "stream",
     "text": [
      "\n",
      "      Epoch    GPU_mem   box_loss   cls_loss   dfl_loss  Instances       Size\n"
     ]
    },
    {
     "name": "stderr",
     "output_type": "stream",
     "text": [
      "     83/100      2.38G      1.231      1.259      1.369         22        640: 100%|██████████| 188/188 [00:18<00:00, 10.34it/s]\n",
      "                 Class     Images  Instances      Box(P          R      mAP50  mAP50-95): 100%|██████████| 7/7 [00:00<00:00,  9.55it/s]"
     ]
    },
    {
     "name": "stdout",
     "output_type": "stream",
     "text": [
      "                   all        200        317       0.51      0.451      0.422      0.238\n"
     ]
    },
    {
     "name": "stderr",
     "output_type": "stream",
     "text": [
      "\n"
     ]
    },
    {
     "name": "stdout",
     "output_type": "stream",
     "text": [
      "\n",
      "      Epoch    GPU_mem   box_loss   cls_loss   dfl_loss  Instances       Size\n"
     ]
    },
    {
     "name": "stderr",
     "output_type": "stream",
     "text": [
      "     84/100      2.38G      1.245       1.25      1.367         28        640: 100%|██████████| 188/188 [00:18<00:00, 10.41it/s]\n",
      "                 Class     Images  Instances      Box(P          R      mAP50  mAP50-95): 100%|██████████| 7/7 [00:00<00:00,  9.37it/s]"
     ]
    },
    {
     "name": "stdout",
     "output_type": "stream",
     "text": [
      "                   all        200        317      0.462      0.441      0.405      0.232\n"
     ]
    },
    {
     "name": "stderr",
     "output_type": "stream",
     "text": [
      "\n"
     ]
    },
    {
     "name": "stdout",
     "output_type": "stream",
     "text": [
      "\n",
      "      Epoch    GPU_mem   box_loss   cls_loss   dfl_loss  Instances       Size\n"
     ]
    },
    {
     "name": "stderr",
     "output_type": "stream",
     "text": [
      "     85/100      2.38G       1.23       1.24      1.363         21        640: 100%|██████████| 188/188 [00:18<00:00, 10.35it/s]\n",
      "                 Class     Images  Instances      Box(P          R      mAP50  mAP50-95): 100%|██████████| 7/7 [00:00<00:00,  9.27it/s]"
     ]
    },
    {
     "name": "stdout",
     "output_type": "stream",
     "text": [
      "                   all        200        317      0.452      0.486      0.406      0.232\n"
     ]
    },
    {
     "name": "stderr",
     "output_type": "stream",
     "text": [
      "\n"
     ]
    },
    {
     "name": "stdout",
     "output_type": "stream",
     "text": [
      "\n",
      "      Epoch    GPU_mem   box_loss   cls_loss   dfl_loss  Instances       Size\n"
     ]
    },
    {
     "name": "stderr",
     "output_type": "stream",
     "text": [
      "     86/100      2.38G      1.217      1.208      1.359         35        640: 100%|██████████| 188/188 [00:18<00:00, 10.40it/s]\n",
      "                 Class     Images  Instances      Box(P          R      mAP50  mAP50-95): 100%|██████████| 7/7 [00:00<00:00,  9.00it/s]"
     ]
    },
    {
     "name": "stdout",
     "output_type": "stream",
     "text": [
      "                   all        200        317        0.5      0.435      0.397      0.223\n"
     ]
    },
    {
     "name": "stderr",
     "output_type": "stream",
     "text": [
      "\n"
     ]
    },
    {
     "name": "stdout",
     "output_type": "stream",
     "text": [
      "\n",
      "      Epoch    GPU_mem   box_loss   cls_loss   dfl_loss  Instances       Size\n"
     ]
    },
    {
     "name": "stderr",
     "output_type": "stream",
     "text": [
      "     87/100      2.38G      1.208      1.212      1.354         28        640: 100%|██████████| 188/188 [00:18<00:00, 10.36it/s]\n",
      "                 Class     Images  Instances      Box(P          R      mAP50  mAP50-95): 100%|██████████| 7/7 [00:00<00:00,  9.17it/s]"
     ]
    },
    {
     "name": "stdout",
     "output_type": "stream",
     "text": [
      "                   all        200        317      0.482      0.401      0.401      0.224\n"
     ]
    },
    {
     "name": "stderr",
     "output_type": "stream",
     "text": [
      "\n"
     ]
    },
    {
     "name": "stdout",
     "output_type": "stream",
     "text": [
      "\n",
      "      Epoch    GPU_mem   box_loss   cls_loss   dfl_loss  Instances       Size\n"
     ]
    },
    {
     "name": "stderr",
     "output_type": "stream",
     "text": [
      "     88/100      2.38G      1.219      1.223      1.352         27        640: 100%|██████████| 188/188 [00:18<00:00, 10.37it/s]\n",
      "                 Class     Images  Instances      Box(P          R      mAP50  mAP50-95): 100%|██████████| 7/7 [00:00<00:00,  9.09it/s]"
     ]
    },
    {
     "name": "stdout",
     "output_type": "stream",
     "text": [
      "                   all        200        317      0.467      0.438      0.406      0.224\n"
     ]
    },
    {
     "name": "stderr",
     "output_type": "stream",
     "text": [
      "\n"
     ]
    },
    {
     "name": "stdout",
     "output_type": "stream",
     "text": [
      "\n",
      "      Epoch    GPU_mem   box_loss   cls_loss   dfl_loss  Instances       Size\n"
     ]
    },
    {
     "name": "stderr",
     "output_type": "stream",
     "text": [
      "     89/100      2.38G      1.198       1.19      1.348         27        640: 100%|██████████| 188/188 [00:18<00:00, 10.39it/s]\n",
      "                 Class     Images  Instances      Box(P          R      mAP50  mAP50-95): 100%|██████████| 7/7 [00:00<00:00,  9.60it/s]"
     ]
    },
    {
     "name": "stdout",
     "output_type": "stream",
     "text": [
      "                   all        200        317      0.505      0.425      0.405      0.222\n"
     ]
    },
    {
     "name": "stderr",
     "output_type": "stream",
     "text": [
      "\n"
     ]
    },
    {
     "name": "stdout",
     "output_type": "stream",
     "text": [
      "\n",
      "      Epoch    GPU_mem   box_loss   cls_loss   dfl_loss  Instances       Size\n"
     ]
    },
    {
     "name": "stderr",
     "output_type": "stream",
     "text": [
      "     90/100      2.38G      1.214      1.197       1.35         26        640: 100%|██████████| 188/188 [00:18<00:00, 10.35it/s]\n",
      "                 Class     Images  Instances      Box(P          R      mAP50  mAP50-95): 100%|██████████| 7/7 [00:00<00:00,  9.50it/s]"
     ]
    },
    {
     "name": "stdout",
     "output_type": "stream",
     "text": [
      "                   all        200        317      0.464      0.461      0.403      0.223\n"
     ]
    },
    {
     "name": "stderr",
     "output_type": "stream",
     "text": [
      "\n"
     ]
    },
    {
     "name": "stdout",
     "output_type": "stream",
     "text": [
      "Closing dataloader mosaic\n",
      "\n",
      "      Epoch    GPU_mem   box_loss   cls_loss   dfl_loss  Instances       Size\n"
     ]
    },
    {
     "name": "stderr",
     "output_type": "stream",
     "text": [
      "     91/100      2.38G      1.192      1.124      1.344         20        640: 100%|██████████| 188/188 [00:18<00:00, 10.33it/s]\n",
      "                 Class     Images  Instances      Box(P          R      mAP50  mAP50-95): 100%|██████████| 7/7 [00:00<00:00,  9.34it/s]"
     ]
    },
    {
     "name": "stdout",
     "output_type": "stream",
     "text": [
      "                   all        200        317       0.39      0.483      0.383      0.212\n"
     ]
    },
    {
     "name": "stderr",
     "output_type": "stream",
     "text": [
      "\n"
     ]
    },
    {
     "name": "stdout",
     "output_type": "stream",
     "text": [
      "\n",
      "      Epoch    GPU_mem   box_loss   cls_loss   dfl_loss  Instances       Size\n"
     ]
    },
    {
     "name": "stderr",
     "output_type": "stream",
     "text": [
      "     92/100      2.38G      1.158      1.085      1.319         19        640: 100%|██████████| 188/188 [00:17<00:00, 10.45it/s]\n",
      "                 Class     Images  Instances      Box(P          R      mAP50  mAP50-95): 100%|██████████| 7/7 [00:00<00:00,  9.32it/s]"
     ]
    },
    {
     "name": "stdout",
     "output_type": "stream",
     "text": [
      "                   all        200        317      0.473      0.401      0.387      0.222\n"
     ]
    },
    {
     "name": "stderr",
     "output_type": "stream",
     "text": [
      "\n"
     ]
    },
    {
     "name": "stdout",
     "output_type": "stream",
     "text": [
      "\n",
      "      Epoch    GPU_mem   box_loss   cls_loss   dfl_loss  Instances       Size\n"
     ]
    },
    {
     "name": "stderr",
     "output_type": "stream",
     "text": [
      "     93/100      2.38G      1.148      1.038      1.312         16        640: 100%|██████████| 188/188 [00:18<00:00, 10.43it/s]\n",
      "                 Class     Images  Instances      Box(P          R      mAP50  mAP50-95): 100%|██████████| 7/7 [00:00<00:00,  9.03it/s]"
     ]
    },
    {
     "name": "stdout",
     "output_type": "stream",
     "text": [
      "                   all        200        317      0.493      0.412      0.377      0.218\n"
     ]
    },
    {
     "name": "stderr",
     "output_type": "stream",
     "text": [
      "\n"
     ]
    },
    {
     "name": "stdout",
     "output_type": "stream",
     "text": [
      "\n",
      "      Epoch    GPU_mem   box_loss   cls_loss   dfl_loss  Instances       Size\n"
     ]
    },
    {
     "name": "stderr",
     "output_type": "stream",
     "text": [
      "     94/100      2.38G       1.15       1.04      1.309         13        640: 100%|██████████| 188/188 [00:17<00:00, 10.47it/s]\n",
      "                 Class     Images  Instances      Box(P          R      mAP50  mAP50-95): 100%|██████████| 7/7 [00:00<00:00,  9.31it/s]"
     ]
    },
    {
     "name": "stdout",
     "output_type": "stream",
     "text": [
      "                   all        200        317      0.519      0.407      0.378      0.216\n"
     ]
    },
    {
     "name": "stderr",
     "output_type": "stream",
     "text": [
      "\n"
     ]
    },
    {
     "name": "stdout",
     "output_type": "stream",
     "text": [
      "\n",
      "      Epoch    GPU_mem   box_loss   cls_loss   dfl_loss  Instances       Size\n"
     ]
    },
    {
     "name": "stderr",
     "output_type": "stream",
     "text": [
      "     95/100      2.38G      1.125      1.024      1.294         16        640: 100%|██████████| 188/188 [00:17<00:00, 10.46it/s]\n",
      "                 Class     Images  Instances      Box(P          R      mAP50  mAP50-95): 100%|██████████| 7/7 [00:00<00:00,  9.30it/s]"
     ]
    },
    {
     "name": "stdout",
     "output_type": "stream",
     "text": [
      "                   all        200        317      0.481      0.407      0.375      0.214\n"
     ]
    },
    {
     "name": "stderr",
     "output_type": "stream",
     "text": [
      "\n"
     ]
    },
    {
     "name": "stdout",
     "output_type": "stream",
     "text": [
      "\n",
      "      Epoch    GPU_mem   box_loss   cls_loss   dfl_loss  Instances       Size\n"
     ]
    },
    {
     "name": "stderr",
     "output_type": "stream",
     "text": [
      "     96/100      2.38G      1.126      1.005      1.291         10        640: 100%|██████████| 188/188 [00:18<00:00, 10.40it/s]\n",
      "                 Class     Images  Instances      Box(P          R      mAP50  mAP50-95): 100%|██████████| 7/7 [00:00<00:00,  9.22it/s]"
     ]
    },
    {
     "name": "stdout",
     "output_type": "stream",
     "text": [
      "                   all        200        317      0.415      0.438      0.361       0.21\n"
     ]
    },
    {
     "name": "stderr",
     "output_type": "stream",
     "text": [
      "\n"
     ]
    },
    {
     "name": "stdout",
     "output_type": "stream",
     "text": [
      "\n",
      "      Epoch    GPU_mem   box_loss   cls_loss   dfl_loss  Instances       Size\n"
     ]
    },
    {
     "name": "stderr",
     "output_type": "stream",
     "text": [
      "     97/100      2.38G      1.129      1.008      1.295         30        640: 100%|██████████| 188/188 [00:17<00:00, 10.47it/s]\n",
      "                 Class     Images  Instances      Box(P          R      mAP50  mAP50-95): 100%|██████████| 7/7 [00:00<00:00,  9.46it/s]"
     ]
    },
    {
     "name": "stdout",
     "output_type": "stream",
     "text": [
      "                   all        200        317      0.416      0.454       0.37      0.214\n"
     ]
    },
    {
     "name": "stderr",
     "output_type": "stream",
     "text": [
      "\n"
     ]
    },
    {
     "name": "stdout",
     "output_type": "stream",
     "text": [
      "\n",
      "      Epoch    GPU_mem   box_loss   cls_loss   dfl_loss  Instances       Size\n"
     ]
    },
    {
     "name": "stderr",
     "output_type": "stream",
     "text": [
      "     98/100      2.38G      1.116      1.003      1.293         14        640: 100%|██████████| 188/188 [00:18<00:00, 10.44it/s]\n",
      "                 Class     Images  Instances      Box(P          R      mAP50  mAP50-95): 100%|██████████| 7/7 [00:00<00:00,  9.34it/s]"
     ]
    },
    {
     "name": "stdout",
     "output_type": "stream",
     "text": [
      "                   all        200        317       0.42      0.467       0.37      0.209\n"
     ]
    },
    {
     "name": "stderr",
     "output_type": "stream",
     "text": [
      "\n"
     ]
    },
    {
     "name": "stdout",
     "output_type": "stream",
     "text": [
      "\n",
      "      Epoch    GPU_mem   box_loss   cls_loss   dfl_loss  Instances       Size\n"
     ]
    },
    {
     "name": "stderr",
     "output_type": "stream",
     "text": [
      "     99/100      2.38G      1.118     0.9921      1.288         10        640: 100%|██████████| 188/188 [00:17<00:00, 10.48it/s]\n",
      "                 Class     Images  Instances      Box(P          R      mAP50  mAP50-95): 100%|██████████| 7/7 [00:00<00:00,  9.21it/s]\n"
     ]
    },
    {
     "name": "stdout",
     "output_type": "stream",
     "text": [
      "                   all        200        317      0.424      0.467      0.372      0.212\n",
      "\n",
      "      Epoch    GPU_mem   box_loss   cls_loss   dfl_loss  Instances       Size\n"
     ]
    },
    {
     "name": "stderr",
     "output_type": "stream",
     "text": [
      "    100/100      2.38G      1.105     0.9843      1.281         15        640: 100%|██████████| 188/188 [00:17<00:00, 10.49it/s]\n",
      "                 Class     Images  Instances      Box(P          R      mAP50  mAP50-95): 100%|██████████| 7/7 [00:00<00:00,  9.75it/s]"
     ]
    },
    {
     "name": "stdout",
     "output_type": "stream",
     "text": [
      "                   all        200        317      0.446      0.441      0.379      0.214\n"
     ]
    },
    {
     "name": "stderr",
     "output_type": "stream",
     "text": [
      "\n"
     ]
    },
    {
     "name": "stdout",
     "output_type": "stream",
     "text": [
      "\n",
      "100 epochs completed in 0.546 hours.\n",
      "Optimizer stripped from runs\\detect\\train\\weights\\last.pt, 6.3MB\n",
      "Optimizer stripped from runs\\detect\\train\\weights\\best.pt, 6.3MB\n",
      "\n",
      "Validating runs\\detect\\train\\weights\\best.pt...\n",
      "Ultralytics 8.3.107  Python-3.11.6 torch-2.5.1+cu121 CUDA:0 (NVIDIA GeForce RTX 3070, 8192MiB)\n",
      "Model summary (fused): 72 layers, 3,005,843 parameters, 0 gradients, 8.1 GFLOPs\n"
     ]
    },
    {
     "name": "stderr",
     "output_type": "stream",
     "text": [
      "                 Class     Images  Instances      Box(P          R      mAP50  mAP50-95): 100%|██████████| 7/7 [00:01<00:00,  6.36it/s]\n"
     ]
    },
    {
     "name": "stdout",
     "output_type": "stream",
     "text": [
      "                   all        200        317      0.517      0.448      0.447      0.253\n",
      "Speed: 0.2ms preprocess, 1.2ms inference, 0.0ms loss, 1.2ms postprocess per image\n",
      "Results saved to \u001b[1mruns\\detect\\train\u001b[0m\n"
     ]
    },
    {
     "data": {
      "text/plain": [
       "ultralytics.utils.metrics.DetMetrics object with attributes:\n",
       "\n",
       "ap_class_index: array([0])\n",
       "box: ultralytics.utils.metrics.Metric object\n",
       "confusion_matrix: <ultralytics.utils.metrics.ConfusionMatrix object at 0x000001E389B82350>\n",
       "curves: ['Precision-Recall(B)', 'F1-Confidence(B)', 'Precision-Confidence(B)', 'Recall-Confidence(B)']\n",
       "curves_results: [[array([          0,    0.001001,    0.002002,    0.003003,    0.004004,    0.005005,    0.006006,    0.007007,    0.008008,    0.009009,     0.01001,    0.011011,    0.012012,    0.013013,    0.014014,    0.015015,    0.016016,    0.017017,    0.018018,    0.019019,     0.02002,    0.021021,    0.022022,    0.023023,\n",
       "          0.024024,    0.025025,    0.026026,    0.027027,    0.028028,    0.029029,     0.03003,    0.031031,    0.032032,    0.033033,    0.034034,    0.035035,    0.036036,    0.037037,    0.038038,    0.039039,     0.04004,    0.041041,    0.042042,    0.043043,    0.044044,    0.045045,    0.046046,    0.047047,\n",
       "          0.048048,    0.049049,     0.05005,    0.051051,    0.052052,    0.053053,    0.054054,    0.055055,    0.056056,    0.057057,    0.058058,    0.059059,     0.06006,    0.061061,    0.062062,    0.063063,    0.064064,    0.065065,    0.066066,    0.067067,    0.068068,    0.069069,     0.07007,    0.071071,\n",
       "          0.072072,    0.073073,    0.074074,    0.075075,    0.076076,    0.077077,    0.078078,    0.079079,     0.08008,    0.081081,    0.082082,    0.083083,    0.084084,    0.085085,    0.086086,    0.087087,    0.088088,    0.089089,     0.09009,    0.091091,    0.092092,    0.093093,    0.094094,    0.095095,\n",
       "          0.096096,    0.097097,    0.098098,    0.099099,      0.1001,      0.1011,      0.1021,      0.1031,      0.1041,     0.10511,     0.10611,     0.10711,     0.10811,     0.10911,     0.11011,     0.11111,     0.11211,     0.11311,     0.11411,     0.11512,     0.11612,     0.11712,     0.11812,     0.11912,\n",
       "           0.12012,     0.12112,     0.12212,     0.12312,     0.12412,     0.12513,     0.12613,     0.12713,     0.12813,     0.12913,     0.13013,     0.13113,     0.13213,     0.13313,     0.13413,     0.13514,     0.13614,     0.13714,     0.13814,     0.13914,     0.14014,     0.14114,     0.14214,     0.14314,\n",
       "           0.14414,     0.14515,     0.14615,     0.14715,     0.14815,     0.14915,     0.15015,     0.15115,     0.15215,     0.15315,     0.15415,     0.15516,     0.15616,     0.15716,     0.15816,     0.15916,     0.16016,     0.16116,     0.16216,     0.16316,     0.16416,     0.16517,     0.16617,     0.16717,\n",
       "           0.16817,     0.16917,     0.17017,     0.17117,     0.17217,     0.17317,     0.17417,     0.17518,     0.17618,     0.17718,     0.17818,     0.17918,     0.18018,     0.18118,     0.18218,     0.18318,     0.18418,     0.18519,     0.18619,     0.18719,     0.18819,     0.18919,     0.19019,     0.19119,\n",
       "           0.19219,     0.19319,     0.19419,      0.1952,      0.1962,      0.1972,      0.1982,      0.1992,      0.2002,      0.2012,      0.2022,      0.2032,      0.2042,     0.20521,     0.20621,     0.20721,     0.20821,     0.20921,     0.21021,     0.21121,     0.21221,     0.21321,     0.21421,     0.21522,\n",
       "           0.21622,     0.21722,     0.21822,     0.21922,     0.22022,     0.22122,     0.22222,     0.22322,     0.22422,     0.22523,     0.22623,     0.22723,     0.22823,     0.22923,     0.23023,     0.23123,     0.23223,     0.23323,     0.23423,     0.23524,     0.23624,     0.23724,     0.23824,     0.23924,\n",
       "           0.24024,     0.24124,     0.24224,     0.24324,     0.24424,     0.24525,     0.24625,     0.24725,     0.24825,     0.24925,     0.25025,     0.25125,     0.25225,     0.25325,     0.25425,     0.25526,     0.25626,     0.25726,     0.25826,     0.25926,     0.26026,     0.26126,     0.26226,     0.26326,\n",
       "           0.26426,     0.26527,     0.26627,     0.26727,     0.26827,     0.26927,     0.27027,     0.27127,     0.27227,     0.27327,     0.27427,     0.27528,     0.27628,     0.27728,     0.27828,     0.27928,     0.28028,     0.28128,     0.28228,     0.28328,     0.28428,     0.28529,     0.28629,     0.28729,\n",
       "           0.28829,     0.28929,     0.29029,     0.29129,     0.29229,     0.29329,     0.29429,      0.2953,      0.2963,      0.2973,      0.2983,      0.2993,      0.3003,      0.3013,      0.3023,      0.3033,      0.3043,     0.30531,     0.30631,     0.30731,     0.30831,     0.30931,     0.31031,     0.31131,\n",
       "           0.31231,     0.31331,     0.31431,     0.31532,     0.31632,     0.31732,     0.31832,     0.31932,     0.32032,     0.32132,     0.32232,     0.32332,     0.32432,     0.32533,     0.32633,     0.32733,     0.32833,     0.32933,     0.33033,     0.33133,     0.33233,     0.33333,     0.33433,     0.33534,\n",
       "           0.33634,     0.33734,     0.33834,     0.33934,     0.34034,     0.34134,     0.34234,     0.34334,     0.34434,     0.34535,     0.34635,     0.34735,     0.34835,     0.34935,     0.35035,     0.35135,     0.35235,     0.35335,     0.35435,     0.35536,     0.35636,     0.35736,     0.35836,     0.35936,\n",
       "           0.36036,     0.36136,     0.36236,     0.36336,     0.36436,     0.36537,     0.36637,     0.36737,     0.36837,     0.36937,     0.37037,     0.37137,     0.37237,     0.37337,     0.37437,     0.37538,     0.37638,     0.37738,     0.37838,     0.37938,     0.38038,     0.38138,     0.38238,     0.38338,\n",
       "           0.38438,     0.38539,     0.38639,     0.38739,     0.38839,     0.38939,     0.39039,     0.39139,     0.39239,     0.39339,     0.39439,      0.3954,      0.3964,      0.3974,      0.3984,      0.3994,      0.4004,      0.4014,      0.4024,      0.4034,      0.4044,     0.40541,     0.40641,     0.40741,\n",
       "           0.40841,     0.40941,     0.41041,     0.41141,     0.41241,     0.41341,     0.41441,     0.41542,     0.41642,     0.41742,     0.41842,     0.41942,     0.42042,     0.42142,     0.42242,     0.42342,     0.42442,     0.42543,     0.42643,     0.42743,     0.42843,     0.42943,     0.43043,     0.43143,\n",
       "           0.43243,     0.43343,     0.43443,     0.43544,     0.43644,     0.43744,     0.43844,     0.43944,     0.44044,     0.44144,     0.44244,     0.44344,     0.44444,     0.44545,     0.44645,     0.44745,     0.44845,     0.44945,     0.45045,     0.45145,     0.45245,     0.45345,     0.45445,     0.45546,\n",
       "           0.45646,     0.45746,     0.45846,     0.45946,     0.46046,     0.46146,     0.46246,     0.46346,     0.46446,     0.46547,     0.46647,     0.46747,     0.46847,     0.46947,     0.47047,     0.47147,     0.47247,     0.47347,     0.47447,     0.47548,     0.47648,     0.47748,     0.47848,     0.47948,\n",
       "           0.48048,     0.48148,     0.48248,     0.48348,     0.48448,     0.48549,     0.48649,     0.48749,     0.48849,     0.48949,     0.49049,     0.49149,     0.49249,     0.49349,     0.49449,      0.4955,      0.4965,      0.4975,      0.4985,      0.4995,      0.5005,      0.5015,      0.5025,      0.5035,\n",
       "            0.5045,     0.50551,     0.50651,     0.50751,     0.50851,     0.50951,     0.51051,     0.51151,     0.51251,     0.51351,     0.51451,     0.51552,     0.51652,     0.51752,     0.51852,     0.51952,     0.52052,     0.52152,     0.52252,     0.52352,     0.52452,     0.52553,     0.52653,     0.52753,\n",
       "           0.52853,     0.52953,     0.53053,     0.53153,     0.53253,     0.53353,     0.53453,     0.53554,     0.53654,     0.53754,     0.53854,     0.53954,     0.54054,     0.54154,     0.54254,     0.54354,     0.54454,     0.54555,     0.54655,     0.54755,     0.54855,     0.54955,     0.55055,     0.55155,\n",
       "           0.55255,     0.55355,     0.55455,     0.55556,     0.55656,     0.55756,     0.55856,     0.55956,     0.56056,     0.56156,     0.56256,     0.56356,     0.56456,     0.56557,     0.56657,     0.56757,     0.56857,     0.56957,     0.57057,     0.57157,     0.57257,     0.57357,     0.57457,     0.57558,\n",
       "           0.57658,     0.57758,     0.57858,     0.57958,     0.58058,     0.58158,     0.58258,     0.58358,     0.58458,     0.58559,     0.58659,     0.58759,     0.58859,     0.58959,     0.59059,     0.59159,     0.59259,     0.59359,     0.59459,      0.5956,      0.5966,      0.5976,      0.5986,      0.5996,\n",
       "            0.6006,      0.6016,      0.6026,      0.6036,      0.6046,     0.60561,     0.60661,     0.60761,     0.60861,     0.60961,     0.61061,     0.61161,     0.61261,     0.61361,     0.61461,     0.61562,     0.61662,     0.61762,     0.61862,     0.61962,     0.62062,     0.62162,     0.62262,     0.62362,\n",
       "           0.62462,     0.62563,     0.62663,     0.62763,     0.62863,     0.62963,     0.63063,     0.63163,     0.63263,     0.63363,     0.63463,     0.63564,     0.63664,     0.63764,     0.63864,     0.63964,     0.64064,     0.64164,     0.64264,     0.64364,     0.64464,     0.64565,     0.64665,     0.64765,\n",
       "           0.64865,     0.64965,     0.65065,     0.65165,     0.65265,     0.65365,     0.65465,     0.65566,     0.65666,     0.65766,     0.65866,     0.65966,     0.66066,     0.66166,     0.66266,     0.66366,     0.66466,     0.66567,     0.66667,     0.66767,     0.66867,     0.66967,     0.67067,     0.67167,\n",
       "           0.67267,     0.67367,     0.67467,     0.67568,     0.67668,     0.67768,     0.67868,     0.67968,     0.68068,     0.68168,     0.68268,     0.68368,     0.68468,     0.68569,     0.68669,     0.68769,     0.68869,     0.68969,     0.69069,     0.69169,     0.69269,     0.69369,     0.69469,      0.6957,\n",
       "            0.6967,      0.6977,      0.6987,      0.6997,      0.7007,      0.7017,      0.7027,      0.7037,      0.7047,     0.70571,     0.70671,     0.70771,     0.70871,     0.70971,     0.71071,     0.71171,     0.71271,     0.71371,     0.71471,     0.71572,     0.71672,     0.71772,     0.71872,     0.71972,\n",
       "           0.72072,     0.72172,     0.72272,     0.72372,     0.72472,     0.72573,     0.72673,     0.72773,     0.72873,     0.72973,     0.73073,     0.73173,     0.73273,     0.73373,     0.73473,     0.73574,     0.73674,     0.73774,     0.73874,     0.73974,     0.74074,     0.74174,     0.74274,     0.74374,\n",
       "           0.74474,     0.74575,     0.74675,     0.74775,     0.74875,     0.74975,     0.75075,     0.75175,     0.75275,     0.75375,     0.75475,     0.75576,     0.75676,     0.75776,     0.75876,     0.75976,     0.76076,     0.76176,     0.76276,     0.76376,     0.76476,     0.76577,     0.76677,     0.76777,\n",
       "           0.76877,     0.76977,     0.77077,     0.77177,     0.77277,     0.77377,     0.77477,     0.77578,     0.77678,     0.77778,     0.77878,     0.77978,     0.78078,     0.78178,     0.78278,     0.78378,     0.78478,     0.78579,     0.78679,     0.78779,     0.78879,     0.78979,     0.79079,     0.79179,\n",
       "           0.79279,     0.79379,     0.79479,      0.7958,      0.7968,      0.7978,      0.7988,      0.7998,      0.8008,      0.8018,      0.8028,      0.8038,      0.8048,     0.80581,     0.80681,     0.80781,     0.80881,     0.80981,     0.81081,     0.81181,     0.81281,     0.81381,     0.81481,     0.81582,\n",
       "           0.81682,     0.81782,     0.81882,     0.81982,     0.82082,     0.82182,     0.82282,     0.82382,     0.82482,     0.82583,     0.82683,     0.82783,     0.82883,     0.82983,     0.83083,     0.83183,     0.83283,     0.83383,     0.83483,     0.83584,     0.83684,     0.83784,     0.83884,     0.83984,\n",
       "           0.84084,     0.84184,     0.84284,     0.84384,     0.84484,     0.84585,     0.84685,     0.84785,     0.84885,     0.84985,     0.85085,     0.85185,     0.85285,     0.85385,     0.85485,     0.85586,     0.85686,     0.85786,     0.85886,     0.85986,     0.86086,     0.86186,     0.86286,     0.86386,\n",
       "           0.86486,     0.86587,     0.86687,     0.86787,     0.86887,     0.86987,     0.87087,     0.87187,     0.87287,     0.87387,     0.87487,     0.87588,     0.87688,     0.87788,     0.87888,     0.87988,     0.88088,     0.88188,     0.88288,     0.88388,     0.88488,     0.88589,     0.88689,     0.88789,\n",
       "           0.88889,     0.88989,     0.89089,     0.89189,     0.89289,     0.89389,     0.89489,      0.8959,      0.8969,      0.8979,      0.8989,      0.8999,      0.9009,      0.9019,      0.9029,      0.9039,      0.9049,     0.90591,     0.90691,     0.90791,     0.90891,     0.90991,     0.91091,     0.91191,\n",
       "           0.91291,     0.91391,     0.91491,     0.91592,     0.91692,     0.91792,     0.91892,     0.91992,     0.92092,     0.92192,     0.92292,     0.92392,     0.92492,     0.92593,     0.92693,     0.92793,     0.92893,     0.92993,     0.93093,     0.93193,     0.93293,     0.93393,     0.93493,     0.93594,\n",
       "           0.93694,     0.93794,     0.93894,     0.93994,     0.94094,     0.94194,     0.94294,     0.94394,     0.94494,     0.94595,     0.94695,     0.94795,     0.94895,     0.94995,     0.95095,     0.95195,     0.95295,     0.95395,     0.95495,     0.95596,     0.95696,     0.95796,     0.95896,     0.95996,\n",
       "           0.96096,     0.96196,     0.96296,     0.96396,     0.96496,     0.96597,     0.96697,     0.96797,     0.96897,     0.96997,     0.97097,     0.97197,     0.97297,     0.97397,     0.97497,     0.97598,     0.97698,     0.97798,     0.97898,     0.97998,     0.98098,     0.98198,     0.98298,     0.98398,\n",
       "           0.98498,     0.98599,     0.98699,     0.98799,     0.98899,     0.98999,     0.99099,     0.99199,     0.99299,     0.99399,     0.99499,       0.996,       0.997,       0.998,       0.999,           1]), array([[          1,           1,           1,           1,           1,           1,           1,           1,           1,           1,           1,           1,           1,           1,           1,           1,           1,           1,           1,           1,           1,           1,           1,\n",
       "                  1,           1,           1,           1,           1,           1,           1,           1,           1,           1,           1,           1,           1,           1,           1,        0.95,        0.95,        0.95,        0.95,        0.95,        0.95,        0.95,        0.95,\n",
       "               0.95,        0.95,        0.95,        0.95,        0.95,        0.95,        0.95,        0.95,        0.95,        0.95,        0.95,        0.95,        0.95,        0.95,        0.84,        0.84,        0.84,        0.84,        0.84,        0.84,        0.84,     0.82353,     0.82353,\n",
       "            0.82353,     0.82353,     0.82353,     0.82353,     0.82353,     0.82353,     0.82353,     0.82353,     0.82353,     0.82353,     0.82353,     0.82353,     0.82353,     0.82353,     0.82353,     0.82353,     0.82353,     0.82353,     0.82353,     0.82353,     0.80556,     0.80556,     0.80556,\n",
       "            0.79592,     0.79592,     0.79592,     0.79592,     0.79592,     0.79592,     0.79592,     0.79592,     0.79592,     0.79592,     0.79592,     0.79592,     0.79592,     0.79592,     0.79592,     0.79592,     0.79592,     0.79592,     0.79592,     0.79592,     0.79592,     0.79592,     0.79592,\n",
       "            0.79592,     0.79592,     0.79592,     0.79592,     0.79592,     0.79592,     0.79592,     0.79592,     0.78431,     0.78431,     0.78431,     0.78431,     0.77193,     0.77193,     0.77193,     0.77193,     0.77193,     0.77193,     0.77193,     0.77193,     0.77193,     0.77193,     0.77193,\n",
       "            0.77193,     0.77143,     0.77143,     0.77143,     0.77143,     0.77143,     0.77143,     0.77143,     0.77143,     0.77143,     0.77143,     0.77143,     0.77143,     0.77143,     0.77143,     0.77143,     0.77143,     0.77143,     0.77143,     0.77143,     0.77143,     0.77143,     0.77143,\n",
       "            0.77143,     0.77143,     0.77143,     0.77143,     0.77143,     0.77143,     0.77143,     0.77143,     0.77143,     0.77143,     0.76389,     0.76389,     0.76389,     0.75949,     0.75949,     0.75949,     0.75949,     0.75949,     0.75949,     0.75949,     0.75949,     0.75949,     0.75949,\n",
       "            0.75949,     0.75949,     0.75949,     0.75949,     0.75949,     0.75949,     0.75904,     0.75904,     0.75904,     0.75904,     0.75904,     0.75904,     0.75904,     0.75904,     0.75904,     0.75789,     0.75789,     0.75789,     0.75789,     0.75789,     0.75789,     0.75789,     0.75789,\n",
       "            0.75789,     0.75789,     0.75789,     0.75789,     0.75789,     0.75789,     0.75789,     0.75789,     0.75789,     0.75789,     0.75789,     0.75789,     0.75789,     0.75789,     0.75789,     0.75789,     0.75789,     0.75789,     0.75789,     0.75789,      0.7551,      0.7551,      0.7551,\n",
       "             0.7551,      0.7551,      0.7551,      0.7551,     0.75455,     0.75455,     0.75455,     0.75455,     0.75455,     0.75455,     0.75455,     0.75455,     0.75455,     0.75455,     0.75455,     0.75455,     0.75455,     0.75455,     0.75455,     0.75455,     0.75455,     0.75455,     0.75455,\n",
       "            0.75455,     0.75455,     0.75455,     0.75455,     0.75455,     0.75455,     0.75455,     0.75455,     0.75455,        0.75,        0.75,        0.75,     0.74561,     0.74561,     0.74561,      0.7395,      0.7395,      0.7395,      0.7395,      0.7395,      0.7395,      0.7395,      0.7395,\n",
       "             0.7395,      0.7395,     0.73684,     0.73684,     0.73684,     0.73684,     0.73684,     0.73684,     0.73684,     0.73684,     0.73684,     0.73684,     0.73684,     0.73684,     0.73684,     0.73684,     0.73684,     0.73684,     0.73684,     0.73684,     0.73684,     0.73684,     0.73684,\n",
       "            0.73684,     0.73684,     0.73684,     0.73684,     0.73684,     0.73684,     0.73684,     0.73684,     0.73684,     0.73684,     0.73333,     0.73333,     0.73333,     0.72993,     0.72993,     0.72993,     0.72993,     0.72789,     0.72789,     0.72789,     0.72789,     0.72789,     0.72789,\n",
       "            0.72789,     0.72789,     0.72789,     0.72789,     0.72789,     0.72789,     0.72789,     0.72789,     0.72789,     0.72789,     0.72789,     0.72789,     0.72789,     0.72789,     0.72789,     0.72789,     0.71053,     0.71053,     0.71053,     0.68987,     0.68987,     0.68987,      0.6875,\n",
       "             0.6875,      0.6875,     0.68072,     0.68072,     0.68072,     0.68072,     0.68072,     0.68072,     0.68072,     0.68072,     0.68072,     0.68072,     0.66092,     0.66092,     0.66092,     0.66092,     0.66092,     0.66092,     0.65909,     0.65909,     0.65909,     0.62903,     0.62903,\n",
       "            0.62903,     0.61979,     0.61979,     0.61979,     0.61979,     0.61979,     0.61979,     0.61979,     0.61224,     0.61224,     0.61224,     0.60891,     0.60891,     0.60891,     0.60891,     0.60891,     0.60891,     0.60891,     0.60891,     0.60891,     0.60386,     0.60386,     0.60386,\n",
       "            0.60386,     0.60386,     0.60386,     0.58333,     0.58333,     0.58333,     0.58333,     0.58257,     0.58257,     0.58257,     0.57919,     0.57919,     0.57919,      0.5708,      0.5708,      0.5708,     0.56277,     0.56277,     0.56277,     0.55932,     0.55932,     0.55932,     0.55932,\n",
       "            0.55932,     0.55932,     0.55417,     0.55417,     0.55417,     0.55417,     0.55372,     0.55372,     0.55372,     0.55102,     0.55102,     0.55102,     0.55061,     0.55061,     0.55061,      0.5502,      0.5502,      0.5502,      0.5498,      0.5498,      0.5498,     0.54941,     0.54941,\n",
       "            0.54941,     0.54941,     0.54264,     0.54264,     0.54264,     0.52416,     0.52416,     0.52416,     0.52015,     0.52015,     0.52015,     0.50523,     0.50523,     0.50523,     0.50523,     0.50523,     0.50523,     0.50523,     0.50523,     0.50523,     0.49346,     0.49346,     0.49346,\n",
       "            0.49346,     0.49346,     0.49346,     0.49346,     0.49346,     0.49346,     0.49346,     0.49346,     0.49346,     0.49346,     0.49346,     0.49346,     0.49346,     0.49346,     0.49346,     0.49346,     0.48562,     0.48562,     0.48562,     0.48562,     0.48418,     0.48418,     0.48418,\n",
       "            0.48276,     0.48276,     0.48276,     0.46547,     0.46547,     0.46547,     0.46291,     0.46291,     0.46291,     0.46041,     0.46041,     0.46041,     0.44972,     0.44972,     0.44972,     0.44972,     0.44972,     0.44972,     0.44972,     0.44972,     0.44972,     0.44972,     0.44972,\n",
       "            0.44972,     0.44972,     0.44505,     0.44505,     0.44505,     0.43583,     0.43583,     0.43583,     0.43501,     0.43501,     0.43501,     0.42969,     0.42969,     0.42969,     0.42564,     0.42564,     0.42564,     0.42564,     0.42172,     0.42172,     0.42172,     0.41895,     0.41895,\n",
       "            0.41895,     0.39302,     0.39302,     0.39302,     0.38991,     0.38991,     0.38991,     0.38307,     0.38307,     0.38307,     0.38307,     0.38307,     0.38307,     0.38307,     0.36809,     0.36809,     0.36809,     0.36478,     0.36478,     0.36478,     0.36008,     0.36008,     0.36008,\n",
       "            0.35484,     0.35484,     0.35484,     0.34236,     0.34236,     0.34236,     0.33905,     0.33905,     0.33905,     0.33271,     0.33271,     0.33271,     0.33271,      0.3315,      0.3315,      0.3315,      0.3315,      0.3315,      0.3315,     0.33092,     0.33092,     0.33092,     0.33092,\n",
       "            0.33092,     0.33092,     0.32975,     0.32975,     0.32975,      0.3286,      0.3286,      0.3286,      0.3286,     0.32517,     0.32517,     0.32517,     0.30606,     0.30606,     0.30606,     0.30207,     0.30207,     0.30207,     0.30207,     0.30207,     0.30207,     0.30207,     0.30207,\n",
       "            0.30207,      0.2963,      0.2963,      0.2963,      0.2963,      0.2963,      0.2963,      0.2963,     0.29601,     0.29601,     0.29601,     0.29217,     0.29217,     0.29217,     0.28932,     0.28932,     0.28932,     0.28264,     0.28264,     0.28264,     0.28264,     0.28264,     0.28264,\n",
       "            0.27538,     0.27538,     0.27538,     0.27038,     0.27038,     0.27038,     0.27038,      0.2681,      0.2681,      0.2681,     0.25031,     0.25031,     0.25031,     0.24817,     0.24817,     0.24817,     0.24817,     0.24817,     0.24817,     0.24638,     0.24638,     0.24638,     0.24347,\n",
       "            0.24347,     0.24347,     0.24347,     0.23678,     0.23678,     0.23678,     0.23496,     0.23496,     0.23496,     0.22933,     0.22933,     0.22933,     0.22595,     0.22595,     0.22595,     0.22581,     0.22581,     0.22581,     0.22543,     0.22543,     0.22543,     0.22292,     0.22292,\n",
       "            0.22292,     0.22292,     0.21515,     0.21515,     0.21515,     0.21315,     0.21315,     0.21315,     0.19283,     0.19283,     0.19283,     0.19251,     0.19251,     0.19251,      0.1914,      0.1914,      0.1914,      0.1914,      0.1914,      0.1914,      0.1914,     0.18961,     0.18961,\n",
       "            0.18961,       0.189,       0.189,       0.189,     0.18293,     0.18293,     0.18293,     0.18293,     0.18293,     0.18293,     0.18293,     0.18293,     0.18293,     0.18293,     0.18293,     0.18293,     0.18293,     0.18293,     0.18293,     0.18293,     0.18226,     0.18226,     0.18226,\n",
       "            0.17679,     0.17679,     0.17679,     0.17441,     0.17441,     0.17441,     0.17441,     0.17441,     0.17441,     0.17437,     0.17437,     0.17437,     0.17181,     0.17181,     0.17181,     0.17181,     0.17181,     0.17181,     0.17181,     0.17181,     0.17181,     0.17181,     0.17181,\n",
       "            0.17181,     0.17181,     0.16129,     0.16129,     0.16129,        0.16,        0.16,        0.16,     0.15623,     0.15623,     0.15623,     0.15576,     0.15576,     0.15576,     0.15576,     0.15041,     0.15041,     0.15041,     0.14907,     0.14907,     0.14907,     0.14749,     0.14749,\n",
       "            0.14749,     0.14622,     0.14622,     0.14622,     0.14387,     0.14387,     0.14387,      0.1437,      0.1437,      0.1437,     0.14294,     0.14294,     0.14294,     0.14294,     0.14171,     0.14171,     0.14171,     0.14083,     0.14083,     0.14083,     0.14083,     0.14083,     0.14083,\n",
       "            0.13266,     0.13266,     0.13266,     0.12768,     0.12768,     0.12768,     0.12506,     0.12506,     0.12506,     0.12506,     0.12046,     0.12046,     0.12046,      0.1121,      0.1121,      0.1121,     0.10275,     0.10275,     0.10275,    0.096518,    0.096518,    0.096518,     0.09457,\n",
       "            0.09457,     0.09457,    0.094001,    0.094001,    0.094001,    0.091587,    0.091587,    0.091587,    0.091587,    0.088699,    0.088699,    0.088699,    0.088415,    0.088415,    0.088415,    0.088415,    0.088415,    0.088415,    0.087684,    0.087684,    0.087684,    0.084484,    0.084484,\n",
       "           0.084484,    0.082371,    0.082371,    0.082371,    0.078495,    0.078495,    0.078495,    0.078495,    0.076327,    0.076327,    0.076327,    0.075899,    0.075899,    0.075899,    0.075899,    0.075899,    0.075899,    0.071315,    0.071315,    0.071315,    0.071315,    0.071315,    0.071315,\n",
       "           0.061788,    0.061788,    0.061788,    0.061788,    0.061497,    0.061497,    0.061497,    0.059542,    0.059542,    0.059542,    0.057454,    0.057454,    0.057454,    0.056806,    0.056806,    0.056806,    0.055112,    0.055112,    0.055112,    0.054007,    0.054007,    0.054007,    0.052922,\n",
       "           0.052922,    0.052922,    0.052922,    0.051859,    0.051859,    0.051859,    0.051058,    0.051058,    0.051058,    0.049169,    0.049169,    0.049169,    0.048379,    0.048379,    0.048379,    0.043903,    0.043903,    0.043903,    0.039308,    0.039308,    0.039308,    0.039308,    0.037449,\n",
       "           0.037449,    0.037449,    0.037449,    0.037449,    0.037449,    0.035875,    0.035875,    0.035875,    0.031383,    0.031383,    0.031383,    0.031236,    0.031236,    0.031236,    0.028065,    0.028065,    0.028065,    0.027887,    0.027887,    0.027887,    0.027887,    0.027305,    0.027305,\n",
       "           0.027305,    0.025614,    0.025614,    0.025614,    0.022711,    0.022711,    0.022711,    0.020479,    0.020479,    0.020479,    0.019377,    0.019377,    0.019377,    0.019336,    0.019336,    0.019336,     0.01906,     0.01906,     0.01906,     0.01906,    0.018568,    0.018568,    0.018568,\n",
       "           0.018568,    0.018568,    0.018568,    0.018563,    0.018563,    0.018563,    0.018129,    0.017766,    0.017404,    0.017041,    0.016679,    0.016316,    0.015954,    0.015591,    0.015228,    0.014866,    0.014503,    0.014141,    0.013778,    0.013415,    0.013053,     0.01269,    0.012328,\n",
       "           0.011965,    0.011603,     0.01124,    0.010877,    0.010515,    0.010152,   0.0097897,   0.0094271,   0.0090645,   0.0087019,   0.0083394,   0.0079768,   0.0076142,   0.0072516,    0.006889,   0.0065265,   0.0061639,   0.0058013,   0.0054387,   0.0050761,   0.0047136,    0.004351,   0.0039884,\n",
       "          0.0036258,   0.0032632,   0.0029006,   0.0025381,   0.0021755,   0.0018129,   0.0014503,   0.0010877,  0.00072516,  0.00036258,           0]]), 'Recall', 'Precision'], [array([          0,    0.001001,    0.002002,    0.003003,    0.004004,    0.005005,    0.006006,    0.007007,    0.008008,    0.009009,     0.01001,    0.011011,    0.012012,    0.013013,    0.014014,    0.015015,    0.016016,    0.017017,    0.018018,    0.019019,     0.02002,    0.021021,    0.022022,    0.023023,\n",
       "          0.024024,    0.025025,    0.026026,    0.027027,    0.028028,    0.029029,     0.03003,    0.031031,    0.032032,    0.033033,    0.034034,    0.035035,    0.036036,    0.037037,    0.038038,    0.039039,     0.04004,    0.041041,    0.042042,    0.043043,    0.044044,    0.045045,    0.046046,    0.047047,\n",
       "          0.048048,    0.049049,     0.05005,    0.051051,    0.052052,    0.053053,    0.054054,    0.055055,    0.056056,    0.057057,    0.058058,    0.059059,     0.06006,    0.061061,    0.062062,    0.063063,    0.064064,    0.065065,    0.066066,    0.067067,    0.068068,    0.069069,     0.07007,    0.071071,\n",
       "          0.072072,    0.073073,    0.074074,    0.075075,    0.076076,    0.077077,    0.078078,    0.079079,     0.08008,    0.081081,    0.082082,    0.083083,    0.084084,    0.085085,    0.086086,    0.087087,    0.088088,    0.089089,     0.09009,    0.091091,    0.092092,    0.093093,    0.094094,    0.095095,\n",
       "          0.096096,    0.097097,    0.098098,    0.099099,      0.1001,      0.1011,      0.1021,      0.1031,      0.1041,     0.10511,     0.10611,     0.10711,     0.10811,     0.10911,     0.11011,     0.11111,     0.11211,     0.11311,     0.11411,     0.11512,     0.11612,     0.11712,     0.11812,     0.11912,\n",
       "           0.12012,     0.12112,     0.12212,     0.12312,     0.12412,     0.12513,     0.12613,     0.12713,     0.12813,     0.12913,     0.13013,     0.13113,     0.13213,     0.13313,     0.13413,     0.13514,     0.13614,     0.13714,     0.13814,     0.13914,     0.14014,     0.14114,     0.14214,     0.14314,\n",
       "           0.14414,     0.14515,     0.14615,     0.14715,     0.14815,     0.14915,     0.15015,     0.15115,     0.15215,     0.15315,     0.15415,     0.15516,     0.15616,     0.15716,     0.15816,     0.15916,     0.16016,     0.16116,     0.16216,     0.16316,     0.16416,     0.16517,     0.16617,     0.16717,\n",
       "           0.16817,     0.16917,     0.17017,     0.17117,     0.17217,     0.17317,     0.17417,     0.17518,     0.17618,     0.17718,     0.17818,     0.17918,     0.18018,     0.18118,     0.18218,     0.18318,     0.18418,     0.18519,     0.18619,     0.18719,     0.18819,     0.18919,     0.19019,     0.19119,\n",
       "           0.19219,     0.19319,     0.19419,      0.1952,      0.1962,      0.1972,      0.1982,      0.1992,      0.2002,      0.2012,      0.2022,      0.2032,      0.2042,     0.20521,     0.20621,     0.20721,     0.20821,     0.20921,     0.21021,     0.21121,     0.21221,     0.21321,     0.21421,     0.21522,\n",
       "           0.21622,     0.21722,     0.21822,     0.21922,     0.22022,     0.22122,     0.22222,     0.22322,     0.22422,     0.22523,     0.22623,     0.22723,     0.22823,     0.22923,     0.23023,     0.23123,     0.23223,     0.23323,     0.23423,     0.23524,     0.23624,     0.23724,     0.23824,     0.23924,\n",
       "           0.24024,     0.24124,     0.24224,     0.24324,     0.24424,     0.24525,     0.24625,     0.24725,     0.24825,     0.24925,     0.25025,     0.25125,     0.25225,     0.25325,     0.25425,     0.25526,     0.25626,     0.25726,     0.25826,     0.25926,     0.26026,     0.26126,     0.26226,     0.26326,\n",
       "           0.26426,     0.26527,     0.26627,     0.26727,     0.26827,     0.26927,     0.27027,     0.27127,     0.27227,     0.27327,     0.27427,     0.27528,     0.27628,     0.27728,     0.27828,     0.27928,     0.28028,     0.28128,     0.28228,     0.28328,     0.28428,     0.28529,     0.28629,     0.28729,\n",
       "           0.28829,     0.28929,     0.29029,     0.29129,     0.29229,     0.29329,     0.29429,      0.2953,      0.2963,      0.2973,      0.2983,      0.2993,      0.3003,      0.3013,      0.3023,      0.3033,      0.3043,     0.30531,     0.30631,     0.30731,     0.30831,     0.30931,     0.31031,     0.31131,\n",
       "           0.31231,     0.31331,     0.31431,     0.31532,     0.31632,     0.31732,     0.31832,     0.31932,     0.32032,     0.32132,     0.32232,     0.32332,     0.32432,     0.32533,     0.32633,     0.32733,     0.32833,     0.32933,     0.33033,     0.33133,     0.33233,     0.33333,     0.33433,     0.33534,\n",
       "           0.33634,     0.33734,     0.33834,     0.33934,     0.34034,     0.34134,     0.34234,     0.34334,     0.34434,     0.34535,     0.34635,     0.34735,     0.34835,     0.34935,     0.35035,     0.35135,     0.35235,     0.35335,     0.35435,     0.35536,     0.35636,     0.35736,     0.35836,     0.35936,\n",
       "           0.36036,     0.36136,     0.36236,     0.36336,     0.36436,     0.36537,     0.36637,     0.36737,     0.36837,     0.36937,     0.37037,     0.37137,     0.37237,     0.37337,     0.37437,     0.37538,     0.37638,     0.37738,     0.37838,     0.37938,     0.38038,     0.38138,     0.38238,     0.38338,\n",
       "           0.38438,     0.38539,     0.38639,     0.38739,     0.38839,     0.38939,     0.39039,     0.39139,     0.39239,     0.39339,     0.39439,      0.3954,      0.3964,      0.3974,      0.3984,      0.3994,      0.4004,      0.4014,      0.4024,      0.4034,      0.4044,     0.40541,     0.40641,     0.40741,\n",
       "           0.40841,     0.40941,     0.41041,     0.41141,     0.41241,     0.41341,     0.41441,     0.41542,     0.41642,     0.41742,     0.41842,     0.41942,     0.42042,     0.42142,     0.42242,     0.42342,     0.42442,     0.42543,     0.42643,     0.42743,     0.42843,     0.42943,     0.43043,     0.43143,\n",
       "           0.43243,     0.43343,     0.43443,     0.43544,     0.43644,     0.43744,     0.43844,     0.43944,     0.44044,     0.44144,     0.44244,     0.44344,     0.44444,     0.44545,     0.44645,     0.44745,     0.44845,     0.44945,     0.45045,     0.45145,     0.45245,     0.45345,     0.45445,     0.45546,\n",
       "           0.45646,     0.45746,     0.45846,     0.45946,     0.46046,     0.46146,     0.46246,     0.46346,     0.46446,     0.46547,     0.46647,     0.46747,     0.46847,     0.46947,     0.47047,     0.47147,     0.47247,     0.47347,     0.47447,     0.47548,     0.47648,     0.47748,     0.47848,     0.47948,\n",
       "           0.48048,     0.48148,     0.48248,     0.48348,     0.48448,     0.48549,     0.48649,     0.48749,     0.48849,     0.48949,     0.49049,     0.49149,     0.49249,     0.49349,     0.49449,      0.4955,      0.4965,      0.4975,      0.4985,      0.4995,      0.5005,      0.5015,      0.5025,      0.5035,\n",
       "            0.5045,     0.50551,     0.50651,     0.50751,     0.50851,     0.50951,     0.51051,     0.51151,     0.51251,     0.51351,     0.51451,     0.51552,     0.51652,     0.51752,     0.51852,     0.51952,     0.52052,     0.52152,     0.52252,     0.52352,     0.52452,     0.52553,     0.52653,     0.52753,\n",
       "           0.52853,     0.52953,     0.53053,     0.53153,     0.53253,     0.53353,     0.53453,     0.53554,     0.53654,     0.53754,     0.53854,     0.53954,     0.54054,     0.54154,     0.54254,     0.54354,     0.54454,     0.54555,     0.54655,     0.54755,     0.54855,     0.54955,     0.55055,     0.55155,\n",
       "           0.55255,     0.55355,     0.55455,     0.55556,     0.55656,     0.55756,     0.55856,     0.55956,     0.56056,     0.56156,     0.56256,     0.56356,     0.56456,     0.56557,     0.56657,     0.56757,     0.56857,     0.56957,     0.57057,     0.57157,     0.57257,     0.57357,     0.57457,     0.57558,\n",
       "           0.57658,     0.57758,     0.57858,     0.57958,     0.58058,     0.58158,     0.58258,     0.58358,     0.58458,     0.58559,     0.58659,     0.58759,     0.58859,     0.58959,     0.59059,     0.59159,     0.59259,     0.59359,     0.59459,      0.5956,      0.5966,      0.5976,      0.5986,      0.5996,\n",
       "            0.6006,      0.6016,      0.6026,      0.6036,      0.6046,     0.60561,     0.60661,     0.60761,     0.60861,     0.60961,     0.61061,     0.61161,     0.61261,     0.61361,     0.61461,     0.61562,     0.61662,     0.61762,     0.61862,     0.61962,     0.62062,     0.62162,     0.62262,     0.62362,\n",
       "           0.62462,     0.62563,     0.62663,     0.62763,     0.62863,     0.62963,     0.63063,     0.63163,     0.63263,     0.63363,     0.63463,     0.63564,     0.63664,     0.63764,     0.63864,     0.63964,     0.64064,     0.64164,     0.64264,     0.64364,     0.64464,     0.64565,     0.64665,     0.64765,\n",
       "           0.64865,     0.64965,     0.65065,     0.65165,     0.65265,     0.65365,     0.65465,     0.65566,     0.65666,     0.65766,     0.65866,     0.65966,     0.66066,     0.66166,     0.66266,     0.66366,     0.66466,     0.66567,     0.66667,     0.66767,     0.66867,     0.66967,     0.67067,     0.67167,\n",
       "           0.67267,     0.67367,     0.67467,     0.67568,     0.67668,     0.67768,     0.67868,     0.67968,     0.68068,     0.68168,     0.68268,     0.68368,     0.68468,     0.68569,     0.68669,     0.68769,     0.68869,     0.68969,     0.69069,     0.69169,     0.69269,     0.69369,     0.69469,      0.6957,\n",
       "            0.6967,      0.6977,      0.6987,      0.6997,      0.7007,      0.7017,      0.7027,      0.7037,      0.7047,     0.70571,     0.70671,     0.70771,     0.70871,     0.70971,     0.71071,     0.71171,     0.71271,     0.71371,     0.71471,     0.71572,     0.71672,     0.71772,     0.71872,     0.71972,\n",
       "           0.72072,     0.72172,     0.72272,     0.72372,     0.72472,     0.72573,     0.72673,     0.72773,     0.72873,     0.72973,     0.73073,     0.73173,     0.73273,     0.73373,     0.73473,     0.73574,     0.73674,     0.73774,     0.73874,     0.73974,     0.74074,     0.74174,     0.74274,     0.74374,\n",
       "           0.74474,     0.74575,     0.74675,     0.74775,     0.74875,     0.74975,     0.75075,     0.75175,     0.75275,     0.75375,     0.75475,     0.75576,     0.75676,     0.75776,     0.75876,     0.75976,     0.76076,     0.76176,     0.76276,     0.76376,     0.76476,     0.76577,     0.76677,     0.76777,\n",
       "           0.76877,     0.76977,     0.77077,     0.77177,     0.77277,     0.77377,     0.77477,     0.77578,     0.77678,     0.77778,     0.77878,     0.77978,     0.78078,     0.78178,     0.78278,     0.78378,     0.78478,     0.78579,     0.78679,     0.78779,     0.78879,     0.78979,     0.79079,     0.79179,\n",
       "           0.79279,     0.79379,     0.79479,      0.7958,      0.7968,      0.7978,      0.7988,      0.7998,      0.8008,      0.8018,      0.8028,      0.8038,      0.8048,     0.80581,     0.80681,     0.80781,     0.80881,     0.80981,     0.81081,     0.81181,     0.81281,     0.81381,     0.81481,     0.81582,\n",
       "           0.81682,     0.81782,     0.81882,     0.81982,     0.82082,     0.82182,     0.82282,     0.82382,     0.82482,     0.82583,     0.82683,     0.82783,     0.82883,     0.82983,     0.83083,     0.83183,     0.83283,     0.83383,     0.83483,     0.83584,     0.83684,     0.83784,     0.83884,     0.83984,\n",
       "           0.84084,     0.84184,     0.84284,     0.84384,     0.84484,     0.84585,     0.84685,     0.84785,     0.84885,     0.84985,     0.85085,     0.85185,     0.85285,     0.85385,     0.85485,     0.85586,     0.85686,     0.85786,     0.85886,     0.85986,     0.86086,     0.86186,     0.86286,     0.86386,\n",
       "           0.86486,     0.86587,     0.86687,     0.86787,     0.86887,     0.86987,     0.87087,     0.87187,     0.87287,     0.87387,     0.87487,     0.87588,     0.87688,     0.87788,     0.87888,     0.87988,     0.88088,     0.88188,     0.88288,     0.88388,     0.88488,     0.88589,     0.88689,     0.88789,\n",
       "           0.88889,     0.88989,     0.89089,     0.89189,     0.89289,     0.89389,     0.89489,      0.8959,      0.8969,      0.8979,      0.8989,      0.8999,      0.9009,      0.9019,      0.9029,      0.9039,      0.9049,     0.90591,     0.90691,     0.90791,     0.90891,     0.90991,     0.91091,     0.91191,\n",
       "           0.91291,     0.91391,     0.91491,     0.91592,     0.91692,     0.91792,     0.91892,     0.91992,     0.92092,     0.92192,     0.92292,     0.92392,     0.92492,     0.92593,     0.92693,     0.92793,     0.92893,     0.92993,     0.93093,     0.93193,     0.93293,     0.93393,     0.93493,     0.93594,\n",
       "           0.93694,     0.93794,     0.93894,     0.93994,     0.94094,     0.94194,     0.94294,     0.94394,     0.94494,     0.94595,     0.94695,     0.94795,     0.94895,     0.94995,     0.95095,     0.95195,     0.95295,     0.95395,     0.95495,     0.95596,     0.95696,     0.95796,     0.95896,     0.95996,\n",
       "           0.96096,     0.96196,     0.96296,     0.96396,     0.96496,     0.96597,     0.96697,     0.96797,     0.96897,     0.96997,     0.97097,     0.97197,     0.97297,     0.97397,     0.97497,     0.97598,     0.97698,     0.97798,     0.97898,     0.97998,     0.98098,     0.98198,     0.98298,     0.98398,\n",
       "           0.98498,     0.98599,     0.98699,     0.98799,     0.98899,     0.98999,     0.99099,     0.99199,     0.99299,     0.99399,     0.99499,       0.996,       0.997,       0.998,       0.999,           1]), array([[   0.035874,    0.035874,    0.057655,    0.076207,    0.093425,     0.10757,      0.1203,     0.13231,     0.14337,     0.15383,     0.16201,     0.16963,     0.17881,     0.18547,     0.19455,      0.2016,     0.20907,     0.21569,     0.21976,     0.22628,     0.23407,     0.23811,     0.24167,\n",
       "            0.24616,      0.2501,      0.2545,     0.25761,     0.26274,     0.26717,     0.27191,     0.27656,      0.2773,     0.28043,     0.28254,     0.28803,     0.28896,     0.28879,     0.29312,     0.29739,     0.29808,     0.29926,     0.30111,     0.30565,     0.31084,     0.31296,     0.31641,\n",
       "            0.32174,     0.32327,      0.3252,     0.32819,     0.33334,     0.33384,     0.33628,     0.33614,      0.3375,     0.33946,     0.34077,     0.34297,      0.3443,     0.34645,     0.34976,     0.35367,     0.35472,     0.35691,     0.35696,     0.35885,      0.3593,     0.36229,     0.36464,\n",
       "            0.36641,       0.369,     0.37111,     0.37361,     0.37612,     0.37754,     0.37808,     0.37966,     0.38221,     0.38269,     0.38594,     0.38818,      0.3875,     0.38689,      0.3889,     0.39014,     0.39108,     0.39269,     0.39195,     0.39404,     0.39484,     0.39489,     0.39673,\n",
       "            0.39764,     0.39769,     0.39681,     0.39799,     0.39935,     0.40054,     0.40071,      0.3985,     0.39972,     0.40265,     0.40215,     0.40353,     0.40488,     0.40515,     0.40594,     0.40898,     0.41094,     0.41331,     0.41367,     0.41488,     0.41606,     0.41711,     0.41849,\n",
       "            0.41883,     0.41948,     0.42013,     0.41824,     0.41846,     0.41604,     0.41765,      0.4169,     0.41922,     0.42076,     0.42276,     0.42249,      0.4234,     0.42375,     0.42541,     0.42682,     0.42742,     0.42861,     0.42975,     0.43017,     0.43112,     0.43291,     0.43107,\n",
       "            0.43178,     0.43333,     0.43425,     0.43573,     0.43562,     0.43607,     0.43714,     0.43633,     0.43814,     0.43847,     0.43941,     0.43945,     0.44025,     0.44166,     0.44208,     0.44681,     0.44804,     0.44883,     0.44504,     0.44564,     0.44617,     0.44774,     0.44877,\n",
       "            0.44908,     0.44962,     0.45004,     0.45077,      0.4498,     0.45191,     0.45064,     0.45107,     0.45219,     0.45324,     0.45434,     0.45596,     0.45697,     0.45842,     0.45872,     0.45903,      0.4596,     0.46096,     0.46177,     0.46303,     0.46436,     0.46577,     0.46688,\n",
       "            0.46795,     0.46632,     0.46695,     0.46819,     0.46743,     0.46887,     0.46747,     0.46783,     0.46841,     0.46945,     0.46987,     0.47063,     0.47202,      0.4723,     0.47258,     0.47094,     0.47053,     0.47165,     0.47315,     0.47447,     0.47561,     0.47478,     0.47364,\n",
       "            0.47418,     0.47464,     0.47533,     0.47691,     0.47594,     0.47496,      0.4729,      0.4718,     0.47157,     0.47114,     0.47302,     0.47471,     0.47692,     0.47502,     0.47556,     0.47669,     0.47513,     0.47591,     0.47662,     0.47473,     0.47549,     0.47592,     0.47794,\n",
       "            0.47926,     0.48009,     0.48084,     0.48209,     0.48253,      0.4831,     0.48393,     0.48363,     0.48265,     0.48236,      0.4814,     0.48232,     0.48018,     0.48173,     0.48197,      0.4822,     0.48244,     0.48297,     0.48409,     0.48467,     0.48268,     0.48307,     0.48235,\n",
       "            0.48164,     0.48092,     0.47852,     0.47913,     0.47832,     0.47494,     0.47323,     0.47386,     0.47492,     0.47576,     0.47629,     0.47662,     0.47694,      0.4784,     0.47784,     0.47569,      0.4734,     0.47358,     0.47383,     0.47408,     0.47465,     0.47556,     0.47603,\n",
       "            0.47639,     0.47682,     0.47729,     0.47851,     0.47894,     0.48009,     0.48057,     0.48113,     0.48101,     0.48042,     0.47983,     0.47925,     0.47883,     0.47911,     0.47939,      0.4799,      0.4805,     0.48067,     0.48084,       0.481,     0.48117,     0.47887,     0.47908,\n",
       "            0.47983,     0.48048,     0.48077,     0.48105,     0.48131,     0.48157,     0.48183,     0.48224,     0.48273,     0.48308,     0.48342,     0.48462,       0.485,      0.4869,     0.48592,     0.48494,     0.48458,     0.48543,       0.487,     0.48732,     0.48764,     0.48611,      0.4858,\n",
       "            0.48336,     0.48375,     0.48405,     0.48357,     0.48309,     0.48261,     0.48214,     0.48166,     0.48042,     0.47989,     0.47937,     0.47884,     0.47831,     0.47778,      0.4772,     0.47572,     0.47595,     0.47619,     0.47642,     0.47583,     0.47208,     0.47287,     0.47185,\n",
       "            0.47442,     0.47472,     0.47367,     0.47262,     0.47384,     0.47446,     0.47498,     0.47574,     0.47408,     0.47318,      0.4737,     0.47396,     0.47408,      0.4742,     0.47432,     0.47444,     0.47456,     0.47468,     0.47451,     0.47373,     0.47295,     0.47217,     0.47226,\n",
       "            0.47277,     0.47118,        0.47,      0.4703,     0.47061,     0.47092,     0.47125,     0.47158,     0.47229,     0.47281,     0.47315,     0.47348,     0.47529,     0.47582,     0.47633,      0.4768,      0.4765,      0.4748,     0.47355,     0.47255,     0.47155,     0.47138,     0.47154,\n",
       "             0.4717,     0.47186,     0.47203,     0.47313,     0.47367,     0.47278,      0.4704,     0.46888,     0.46853,     0.46628,     0.46682,     0.46766,     0.46522,     0.46569,     0.46491,     0.46299,     0.46171,     0.46251,     0.46283,     0.46314,     0.46363,     0.46435,     0.46455,\n",
       "            0.46475,     0.46494,     0.46514,     0.46247,     0.46294,     0.46342,     0.46389,     0.46473,     0.46569,     0.46777,     0.46809,     0.46842,     0.46876,     0.46925,     0.46969,     0.46993,     0.47017,     0.47042,     0.46763,     0.46812,      0.4673,     0.46369,     0.46223,\n",
       "            0.46233,     0.46243,     0.46252,     0.46262,     0.46272,     0.46281,     0.46291,     0.46301,      0.4631,      0.4634,     0.46373,     0.46405,     0.46501,     0.46526,     0.46551,     0.46576,     0.46603,     0.46659,     0.46732,     0.46747,     0.46639,      0.4653,     0.46318,\n",
       "            0.46072,     0.45908,     0.45887,     0.45957,     0.46007,     0.46087,     0.45862,     0.45783,     0.45617,     0.45581,     0.45598,     0.45614,     0.45631,     0.45647,     0.45664,     0.45903,     0.45953,     0.46003,     0.46054,     0.45947,     0.45835,      0.4573,     0.45827,\n",
       "            0.45878,     0.45934,     0.46026,      0.4606,     0.46094,     0.46085,     0.45915,     0.45774,     0.45717,      0.4566,     0.45603,     0.45546,     0.45489,     0.45316,     0.45125,     0.45137,      0.4515,     0.45162,     0.45175,     0.45188,       0.452,     0.45213,      0.4511,\n",
       "            0.44937,     0.44647,      0.4442,     0.44246,      0.4422,     0.44245,      0.4427,     0.44294,     0.44003,     0.44042,     0.43739,     0.43727,     0.43747,     0.43767,     0.43786,     0.43552,     0.43463,     0.43374,     0.43284,     0.42853,     0.42823,     0.42793,     0.42763,\n",
       "            0.42733,     0.42703,     0.42673,     0.42643,     0.42613,     0.42583,     0.42553,     0.42523,     0.42454,     0.42333,     0.42213,     0.42169,     0.42201,     0.42233,     0.41516,     0.41482,     0.41449,     0.41416,     0.41382,     0.41349,     0.41315,     0.41282,     0.41249,\n",
       "            0.41215,     0.41182,     0.40865,     0.40688,     0.40539,     0.40187,     0.40198,     0.40208,     0.40219,     0.40229,      0.4024,      0.4025,     0.40261,     0.40271,     0.40305,     0.40353,     0.40105,     0.39909,     0.39783,     0.39657,     0.39556,     0.39461,     0.39366,\n",
       "            0.39271,     0.39303,     0.39349,     0.39372,     0.39392,     0.39413,     0.39434,     0.39121,     0.38839,     0.38818,     0.38721,     0.38624,     0.38527,     0.38362,     0.38167,     0.38045,     0.37947,     0.37849,     0.37751,      0.3757,     0.37373,     0.37117,     0.36948,\n",
       "            0.36904,      0.3686,     0.36816,     0.36772,     0.36728,     0.36683,     0.36639,     0.36595,     0.36476,     0.36317,     0.36192,     0.36197,     0.36202,     0.36207,     0.36213,     0.36218,     0.36223,     0.36228,     0.36233,     0.36239,     0.36244,     0.36249,     0.36254,\n",
       "            0.36259,     0.36265,      0.3627,     0.36275,     0.35913,     0.35957,     0.35699,     0.35597,     0.35627,     0.35656,     0.35614,     0.35552,     0.35489,     0.35427,     0.35364,     0.35301,     0.35149,     0.34876,     0.34895,     0.34924,     0.34943,     0.34738,     0.34138,\n",
       "            0.34046,     0.33954,     0.33861,     0.33769,     0.33658,     0.33538,     0.33419,     0.33274,     0.33064,     0.32567,     0.32473,     0.32332,      0.3219,     0.32229,     0.32228,     0.32162,     0.32097,     0.32031,     0.31965,     0.31899,      0.3183,     0.31735,     0.31639,\n",
       "            0.31544,     0.31448,     0.31375,     0.31202,     0.30954,     0.30563,     0.30272,     0.30293,     0.30112,     0.29891,     0.29757,     0.29631,     0.29504,     0.29352,     0.29174,     0.28978,     0.28576,     0.28626,     0.28532,     0.28352,     0.28219,     0.28264,     0.28199,\n",
       "            0.28134,      0.2807,     0.28005,      0.2794,     0.27875,     0.27846,     0.27876,     0.27905,     0.27439,     0.27391,     0.27343,     0.27294,     0.27246,     0.27198,     0.27149,     0.27101,     0.27052,     0.26541,     0.26425,     0.26309,     0.26193,     0.25977,     0.25596,\n",
       "            0.25409,     0.25221,     0.24992,     0.24756,     0.24751,     0.24766,      0.2478,     0.24795,     0.24635,     0.24334,     0.24266,     0.24198,      0.2413,     0.24061,     0.23993,     0.23925,     0.23856,     0.23788,     0.23719,     0.23651,     0.23582,     0.23514,     0.23445,\n",
       "            0.23415,     0.23441,     0.23466,     0.23506,     0.23458,     0.23409,     0.23361,     0.23312,     0.23264,     0.23215,     0.23167,     0.23118,      0.2307,     0.22703,     0.22476,     0.22336,     0.22196,     0.21937,     0.21665,     0.21716,     0.21638,     0.21389,      0.2126,\n",
       "            0.21275,      0.2129,     0.21305,     0.21242,     0.21117,     0.20991,     0.20866,     0.19999,     0.19605,      0.1884,     0.18855,     0.18871,     0.18886,     0.18682,     0.18424,     0.17241,      0.1689,     0.16791,      0.1672,      0.1665,     0.16579,     0.16509,     0.16438,\n",
       "            0.16368,     0.16366,     0.16419,     0.16322,     0.16225,     0.16128,     0.16031,     0.15933,     0.15144,     0.14618,     0.13747,     0.13471,     0.13297,     0.13304,     0.13311,     0.13317,     0.13324,      0.1333,     0.13282,     0.13181,      0.1308,     0.12979,     0.12878,\n",
       "            0.12783,     0.12727,     0.12671,     0.12615,     0.12559,     0.12503,     0.12447,     0.12391,     0.12335,     0.12279,     0.12248,     0.12254,     0.12261,     0.12268,     0.12274,     0.12279,     0.12209,     0.12138,     0.12068,     0.11997,     0.11927,     0.11856,     0.11786,\n",
       "             0.1169,     0.11501,     0.11311,     0.11181,     0.11194,     0.11207,     0.11219,     0.11231,     0.11242,     0.11026,     0.10182,    0.095831,    0.089547,    0.088476,    0.087405,    0.086332,    0.085259,    0.083775,    0.079821,    0.076932,    0.074545,    0.072738,    0.072781,\n",
       "           0.072824,    0.072865,    0.072905,    0.072944,     0.07261,    0.072222,    0.071834,    0.071446,    0.071058,     0.07067,    0.070282,    0.069893,    0.069505,    0.069116,    0.068727,    0.068338,    0.067948,    0.067559,    0.067169,    0.066594,    0.065958,    0.065321,    0.064684,\n",
       "           0.064046,    0.063408,     0.06277,    0.062131,    0.061492,    0.060671,    0.059657,    0.058642,    0.057626,    0.056609,     0.05559,    0.054513,    0.053399,    0.052285,    0.051169,    0.050052,    0.047595,    0.043021,    0.042369,    0.041716,    0.041064,     0.04041,    0.039757,\n",
       "           0.039102,    0.038448,    0.037793,     0.03706,    0.032899,    0.030589,    0.029753,    0.028915,    0.028077,    0.027239,      0.0264,     0.02556,    0.024777,    0.024176,    0.023575,    0.022973,    0.022371,    0.021769,    0.021166,    0.020563,    0.019959,    0.019355,    0.018751,\n",
       "           0.018448,    0.018146,    0.017844,    0.017541,    0.017238,    0.016936,    0.016633,     0.01633,    0.016027,    0.015724,    0.015421,    0.015117,    0.014814,    0.014511,    0.014207,    0.013903,      0.0136,    0.013296,    0.012992,    0.012688,    0.012267,    0.011735,    0.011202,\n",
       "           0.010669,    0.010136,   0.0096021,   0.0090682,    0.008534,   0.0079996,   0.0074648,   0.0069298,   0.0063944,           0,           0,           0,           0,           0,           0,           0,           0,           0,           0,           0,           0,           0,           0,\n",
       "                  0,           0,           0,           0,           0,           0,           0,           0,           0,           0,           0,           0,           0,           0,           0,           0,           0,           0,           0,           0,           0,           0,           0,\n",
       "                  0,           0,           0,           0,           0,           0,           0,           0,           0,           0,           0]]), 'Confidence', 'F1'], [array([          0,    0.001001,    0.002002,    0.003003,    0.004004,    0.005005,    0.006006,    0.007007,    0.008008,    0.009009,     0.01001,    0.011011,    0.012012,    0.013013,    0.014014,    0.015015,    0.016016,    0.017017,    0.018018,    0.019019,     0.02002,    0.021021,    0.022022,    0.023023,\n",
       "          0.024024,    0.025025,    0.026026,    0.027027,    0.028028,    0.029029,     0.03003,    0.031031,    0.032032,    0.033033,    0.034034,    0.035035,    0.036036,    0.037037,    0.038038,    0.039039,     0.04004,    0.041041,    0.042042,    0.043043,    0.044044,    0.045045,    0.046046,    0.047047,\n",
       "          0.048048,    0.049049,     0.05005,    0.051051,    0.052052,    0.053053,    0.054054,    0.055055,    0.056056,    0.057057,    0.058058,    0.059059,     0.06006,    0.061061,    0.062062,    0.063063,    0.064064,    0.065065,    0.066066,    0.067067,    0.068068,    0.069069,     0.07007,    0.071071,\n",
       "          0.072072,    0.073073,    0.074074,    0.075075,    0.076076,    0.077077,    0.078078,    0.079079,     0.08008,    0.081081,    0.082082,    0.083083,    0.084084,    0.085085,    0.086086,    0.087087,    0.088088,    0.089089,     0.09009,    0.091091,    0.092092,    0.093093,    0.094094,    0.095095,\n",
       "          0.096096,    0.097097,    0.098098,    0.099099,      0.1001,      0.1011,      0.1021,      0.1031,      0.1041,     0.10511,     0.10611,     0.10711,     0.10811,     0.10911,     0.11011,     0.11111,     0.11211,     0.11311,     0.11411,     0.11512,     0.11612,     0.11712,     0.11812,     0.11912,\n",
       "           0.12012,     0.12112,     0.12212,     0.12312,     0.12412,     0.12513,     0.12613,     0.12713,     0.12813,     0.12913,     0.13013,     0.13113,     0.13213,     0.13313,     0.13413,     0.13514,     0.13614,     0.13714,     0.13814,     0.13914,     0.14014,     0.14114,     0.14214,     0.14314,\n",
       "           0.14414,     0.14515,     0.14615,     0.14715,     0.14815,     0.14915,     0.15015,     0.15115,     0.15215,     0.15315,     0.15415,     0.15516,     0.15616,     0.15716,     0.15816,     0.15916,     0.16016,     0.16116,     0.16216,     0.16316,     0.16416,     0.16517,     0.16617,     0.16717,\n",
       "           0.16817,     0.16917,     0.17017,     0.17117,     0.17217,     0.17317,     0.17417,     0.17518,     0.17618,     0.17718,     0.17818,     0.17918,     0.18018,     0.18118,     0.18218,     0.18318,     0.18418,     0.18519,     0.18619,     0.18719,     0.18819,     0.18919,     0.19019,     0.19119,\n",
       "           0.19219,     0.19319,     0.19419,      0.1952,      0.1962,      0.1972,      0.1982,      0.1992,      0.2002,      0.2012,      0.2022,      0.2032,      0.2042,     0.20521,     0.20621,     0.20721,     0.20821,     0.20921,     0.21021,     0.21121,     0.21221,     0.21321,     0.21421,     0.21522,\n",
       "           0.21622,     0.21722,     0.21822,     0.21922,     0.22022,     0.22122,     0.22222,     0.22322,     0.22422,     0.22523,     0.22623,     0.22723,     0.22823,     0.22923,     0.23023,     0.23123,     0.23223,     0.23323,     0.23423,     0.23524,     0.23624,     0.23724,     0.23824,     0.23924,\n",
       "           0.24024,     0.24124,     0.24224,     0.24324,     0.24424,     0.24525,     0.24625,     0.24725,     0.24825,     0.24925,     0.25025,     0.25125,     0.25225,     0.25325,     0.25425,     0.25526,     0.25626,     0.25726,     0.25826,     0.25926,     0.26026,     0.26126,     0.26226,     0.26326,\n",
       "           0.26426,     0.26527,     0.26627,     0.26727,     0.26827,     0.26927,     0.27027,     0.27127,     0.27227,     0.27327,     0.27427,     0.27528,     0.27628,     0.27728,     0.27828,     0.27928,     0.28028,     0.28128,     0.28228,     0.28328,     0.28428,     0.28529,     0.28629,     0.28729,\n",
       "           0.28829,     0.28929,     0.29029,     0.29129,     0.29229,     0.29329,     0.29429,      0.2953,      0.2963,      0.2973,      0.2983,      0.2993,      0.3003,      0.3013,      0.3023,      0.3033,      0.3043,     0.30531,     0.30631,     0.30731,     0.30831,     0.30931,     0.31031,     0.31131,\n",
       "           0.31231,     0.31331,     0.31431,     0.31532,     0.31632,     0.31732,     0.31832,     0.31932,     0.32032,     0.32132,     0.32232,     0.32332,     0.32432,     0.32533,     0.32633,     0.32733,     0.32833,     0.32933,     0.33033,     0.33133,     0.33233,     0.33333,     0.33433,     0.33534,\n",
       "           0.33634,     0.33734,     0.33834,     0.33934,     0.34034,     0.34134,     0.34234,     0.34334,     0.34434,     0.34535,     0.34635,     0.34735,     0.34835,     0.34935,     0.35035,     0.35135,     0.35235,     0.35335,     0.35435,     0.35536,     0.35636,     0.35736,     0.35836,     0.35936,\n",
       "           0.36036,     0.36136,     0.36236,     0.36336,     0.36436,     0.36537,     0.36637,     0.36737,     0.36837,     0.36937,     0.37037,     0.37137,     0.37237,     0.37337,     0.37437,     0.37538,     0.37638,     0.37738,     0.37838,     0.37938,     0.38038,     0.38138,     0.38238,     0.38338,\n",
       "           0.38438,     0.38539,     0.38639,     0.38739,     0.38839,     0.38939,     0.39039,     0.39139,     0.39239,     0.39339,     0.39439,      0.3954,      0.3964,      0.3974,      0.3984,      0.3994,      0.4004,      0.4014,      0.4024,      0.4034,      0.4044,     0.40541,     0.40641,     0.40741,\n",
       "           0.40841,     0.40941,     0.41041,     0.41141,     0.41241,     0.41341,     0.41441,     0.41542,     0.41642,     0.41742,     0.41842,     0.41942,     0.42042,     0.42142,     0.42242,     0.42342,     0.42442,     0.42543,     0.42643,     0.42743,     0.42843,     0.42943,     0.43043,     0.43143,\n",
       "           0.43243,     0.43343,     0.43443,     0.43544,     0.43644,     0.43744,     0.43844,     0.43944,     0.44044,     0.44144,     0.44244,     0.44344,     0.44444,     0.44545,     0.44645,     0.44745,     0.44845,     0.44945,     0.45045,     0.45145,     0.45245,     0.45345,     0.45445,     0.45546,\n",
       "           0.45646,     0.45746,     0.45846,     0.45946,     0.46046,     0.46146,     0.46246,     0.46346,     0.46446,     0.46547,     0.46647,     0.46747,     0.46847,     0.46947,     0.47047,     0.47147,     0.47247,     0.47347,     0.47447,     0.47548,     0.47648,     0.47748,     0.47848,     0.47948,\n",
       "           0.48048,     0.48148,     0.48248,     0.48348,     0.48448,     0.48549,     0.48649,     0.48749,     0.48849,     0.48949,     0.49049,     0.49149,     0.49249,     0.49349,     0.49449,      0.4955,      0.4965,      0.4975,      0.4985,      0.4995,      0.5005,      0.5015,      0.5025,      0.5035,\n",
       "            0.5045,     0.50551,     0.50651,     0.50751,     0.50851,     0.50951,     0.51051,     0.51151,     0.51251,     0.51351,     0.51451,     0.51552,     0.51652,     0.51752,     0.51852,     0.51952,     0.52052,     0.52152,     0.52252,     0.52352,     0.52452,     0.52553,     0.52653,     0.52753,\n",
       "           0.52853,     0.52953,     0.53053,     0.53153,     0.53253,     0.53353,     0.53453,     0.53554,     0.53654,     0.53754,     0.53854,     0.53954,     0.54054,     0.54154,     0.54254,     0.54354,     0.54454,     0.54555,     0.54655,     0.54755,     0.54855,     0.54955,     0.55055,     0.55155,\n",
       "           0.55255,     0.55355,     0.55455,     0.55556,     0.55656,     0.55756,     0.55856,     0.55956,     0.56056,     0.56156,     0.56256,     0.56356,     0.56456,     0.56557,     0.56657,     0.56757,     0.56857,     0.56957,     0.57057,     0.57157,     0.57257,     0.57357,     0.57457,     0.57558,\n",
       "           0.57658,     0.57758,     0.57858,     0.57958,     0.58058,     0.58158,     0.58258,     0.58358,     0.58458,     0.58559,     0.58659,     0.58759,     0.58859,     0.58959,     0.59059,     0.59159,     0.59259,     0.59359,     0.59459,      0.5956,      0.5966,      0.5976,      0.5986,      0.5996,\n",
       "            0.6006,      0.6016,      0.6026,      0.6036,      0.6046,     0.60561,     0.60661,     0.60761,     0.60861,     0.60961,     0.61061,     0.61161,     0.61261,     0.61361,     0.61461,     0.61562,     0.61662,     0.61762,     0.61862,     0.61962,     0.62062,     0.62162,     0.62262,     0.62362,\n",
       "           0.62462,     0.62563,     0.62663,     0.62763,     0.62863,     0.62963,     0.63063,     0.63163,     0.63263,     0.63363,     0.63463,     0.63564,     0.63664,     0.63764,     0.63864,     0.63964,     0.64064,     0.64164,     0.64264,     0.64364,     0.64464,     0.64565,     0.64665,     0.64765,\n",
       "           0.64865,     0.64965,     0.65065,     0.65165,     0.65265,     0.65365,     0.65465,     0.65566,     0.65666,     0.65766,     0.65866,     0.65966,     0.66066,     0.66166,     0.66266,     0.66366,     0.66466,     0.66567,     0.66667,     0.66767,     0.66867,     0.66967,     0.67067,     0.67167,\n",
       "           0.67267,     0.67367,     0.67467,     0.67568,     0.67668,     0.67768,     0.67868,     0.67968,     0.68068,     0.68168,     0.68268,     0.68368,     0.68468,     0.68569,     0.68669,     0.68769,     0.68869,     0.68969,     0.69069,     0.69169,     0.69269,     0.69369,     0.69469,      0.6957,\n",
       "            0.6967,      0.6977,      0.6987,      0.6997,      0.7007,      0.7017,      0.7027,      0.7037,      0.7047,     0.70571,     0.70671,     0.70771,     0.70871,     0.70971,     0.71071,     0.71171,     0.71271,     0.71371,     0.71471,     0.71572,     0.71672,     0.71772,     0.71872,     0.71972,\n",
       "           0.72072,     0.72172,     0.72272,     0.72372,     0.72472,     0.72573,     0.72673,     0.72773,     0.72873,     0.72973,     0.73073,     0.73173,     0.73273,     0.73373,     0.73473,     0.73574,     0.73674,     0.73774,     0.73874,     0.73974,     0.74074,     0.74174,     0.74274,     0.74374,\n",
       "           0.74474,     0.74575,     0.74675,     0.74775,     0.74875,     0.74975,     0.75075,     0.75175,     0.75275,     0.75375,     0.75475,     0.75576,     0.75676,     0.75776,     0.75876,     0.75976,     0.76076,     0.76176,     0.76276,     0.76376,     0.76476,     0.76577,     0.76677,     0.76777,\n",
       "           0.76877,     0.76977,     0.77077,     0.77177,     0.77277,     0.77377,     0.77477,     0.77578,     0.77678,     0.77778,     0.77878,     0.77978,     0.78078,     0.78178,     0.78278,     0.78378,     0.78478,     0.78579,     0.78679,     0.78779,     0.78879,     0.78979,     0.79079,     0.79179,\n",
       "           0.79279,     0.79379,     0.79479,      0.7958,      0.7968,      0.7978,      0.7988,      0.7998,      0.8008,      0.8018,      0.8028,      0.8038,      0.8048,     0.80581,     0.80681,     0.80781,     0.80881,     0.80981,     0.81081,     0.81181,     0.81281,     0.81381,     0.81481,     0.81582,\n",
       "           0.81682,     0.81782,     0.81882,     0.81982,     0.82082,     0.82182,     0.82282,     0.82382,     0.82482,     0.82583,     0.82683,     0.82783,     0.82883,     0.82983,     0.83083,     0.83183,     0.83283,     0.83383,     0.83483,     0.83584,     0.83684,     0.83784,     0.83884,     0.83984,\n",
       "           0.84084,     0.84184,     0.84284,     0.84384,     0.84484,     0.84585,     0.84685,     0.84785,     0.84885,     0.84985,     0.85085,     0.85185,     0.85285,     0.85385,     0.85485,     0.85586,     0.85686,     0.85786,     0.85886,     0.85986,     0.86086,     0.86186,     0.86286,     0.86386,\n",
       "           0.86486,     0.86587,     0.86687,     0.86787,     0.86887,     0.86987,     0.87087,     0.87187,     0.87287,     0.87387,     0.87487,     0.87588,     0.87688,     0.87788,     0.87888,     0.87988,     0.88088,     0.88188,     0.88288,     0.88388,     0.88488,     0.88589,     0.88689,     0.88789,\n",
       "           0.88889,     0.88989,     0.89089,     0.89189,     0.89289,     0.89389,     0.89489,      0.8959,      0.8969,      0.8979,      0.8989,      0.8999,      0.9009,      0.9019,      0.9029,      0.9039,      0.9049,     0.90591,     0.90691,     0.90791,     0.90891,     0.90991,     0.91091,     0.91191,\n",
       "           0.91291,     0.91391,     0.91491,     0.91592,     0.91692,     0.91792,     0.91892,     0.91992,     0.92092,     0.92192,     0.92292,     0.92392,     0.92492,     0.92593,     0.92693,     0.92793,     0.92893,     0.92993,     0.93093,     0.93193,     0.93293,     0.93393,     0.93493,     0.93594,\n",
       "           0.93694,     0.93794,     0.93894,     0.93994,     0.94094,     0.94194,     0.94294,     0.94394,     0.94494,     0.94595,     0.94695,     0.94795,     0.94895,     0.94995,     0.95095,     0.95195,     0.95295,     0.95395,     0.95495,     0.95596,     0.95696,     0.95796,     0.95896,     0.95996,\n",
       "           0.96096,     0.96196,     0.96296,     0.96396,     0.96496,     0.96597,     0.96697,     0.96797,     0.96897,     0.96997,     0.97097,     0.97197,     0.97297,     0.97397,     0.97497,     0.97598,     0.97698,     0.97798,     0.97898,     0.97998,     0.98098,     0.98198,     0.98298,     0.98398,\n",
       "           0.98498,     0.98599,     0.98699,     0.98799,     0.98899,     0.98999,     0.99099,     0.99199,     0.99299,     0.99399,     0.99499,       0.996,       0.997,       0.998,       0.999,           1]), array([[   0.018282,    0.018282,    0.029769,    0.039803,    0.049321,    0.057367,    0.064718,     0.07177,    0.078406,    0.084809,    0.089958,    0.094815,     0.10064,     0.10493,     0.11078,     0.11544,     0.12044,     0.12485,     0.12775,     0.13218,     0.13763,     0.14063,     0.14334,\n",
       "            0.14686,     0.14991,     0.15322,     0.15575,     0.15967,      0.1631,     0.16665,     0.17015,     0.17141,     0.17399,     0.17618,     0.18047,     0.18182,     0.18233,      0.1858,     0.18951,     0.19077,     0.19193,     0.19377,     0.19755,      0.2019,      0.2037,     0.20663,\n",
       "             0.2112,     0.21283,      0.2147,     0.21745,     0.22199,     0.22279,     0.22497,     0.22558,     0.22718,     0.22895,     0.23054,     0.23255,     0.23419,      0.2366,      0.2397,     0.24338,     0.24484,     0.24739,      0.2484,     0.25024,     0.25117,      0.2541,     0.25642,\n",
       "            0.25817,     0.26076,     0.26286,     0.26538,     0.26798,     0.26995,     0.27109,     0.27271,     0.27535,     0.27647,     0.27988,     0.28224,     0.28227,     0.28219,     0.28433,     0.28566,     0.28667,     0.28839,     0.28828,     0.29056,     0.29143,     0.29221,     0.29423,\n",
       "            0.29523,     0.29603,     0.29658,      0.2979,     0.29943,     0.30077,     0.30183,     0.30078,     0.30227,     0.30563,     0.30591,     0.30751,     0.30908,     0.30939,     0.31031,     0.31389,     0.31619,     0.31901,     0.31944,     0.32089,      0.3223,     0.32429,      0.3262,\n",
       "            0.32752,     0.32902,     0.33023,     0.32997,     0.33083,     0.32935,     0.33137,      0.3315,     0.33447,     0.33642,     0.33902,      0.3398,     0.34099,     0.34262,      0.3448,     0.34665,     0.34746,     0.34902,     0.35055,      0.3511,     0.35236,      0.3548,     0.35358,\n",
       "            0.35454,     0.35664,     0.35788,     0.35989,      0.3611,     0.36172,     0.36319,     0.36346,     0.36598,     0.36644,     0.36776,     0.36926,     0.37039,     0.37238,     0.37299,     0.37978,     0.38155,      0.3827,     0.38034,     0.38121,     0.38199,      0.3843,     0.38582,\n",
       "            0.38627,     0.38707,     0.38769,     0.38939,     0.38901,     0.39216,     0.39177,     0.39262,     0.39432,     0.39592,      0.3976,     0.40008,     0.40165,     0.40389,     0.40436,     0.40484,     0.40574,     0.40786,     0.40913,     0.41111,     0.41321,     0.41544,     0.41721,\n",
       "            0.41892,     0.41829,     0.41931,      0.4213,      0.4221,     0.42446,     0.42424,     0.42484,     0.42579,     0.42752,     0.42822,     0.42947,     0.43399,     0.43446,     0.43493,      0.4344,     0.43596,     0.43789,     0.44048,     0.44278,     0.44477,     0.44438,      0.4436,\n",
       "            0.44467,     0.44548,     0.44669,     0.44964,     0.44897,     0.44831,     0.44689,     0.44692,     0.44833,     0.44925,     0.45269,      0.4558,     0.45989,     0.45908,     0.46008,      0.4622,     0.46206,     0.46355,     0.46526,     0.46415,      0.4656,     0.46643,     0.47033,\n",
       "            0.47288,      0.4745,     0.47598,     0.47844,     0.47931,     0.48042,     0.48207,     0.48232,     0.48165,     0.48207,     0.48332,     0.48517,     0.48409,     0.48725,     0.48773,     0.48821,     0.48871,     0.48979,      0.4921,      0.4933,     0.49256,     0.49341,     0.49292,\n",
       "            0.49243,     0.49194,     0.49075,     0.49204,     0.49236,     0.49003,     0.49017,     0.49154,     0.49383,     0.49564,      0.4968,      0.4975,      0.4982,     0.50141,     0.50365,     0.50311,     0.50181,     0.50232,     0.50288,     0.50344,     0.50474,      0.5068,     0.50786,\n",
       "            0.50868,     0.50967,     0.51075,     0.51355,     0.51455,     0.51721,     0.51832,     0.51962,     0.51991,     0.51951,      0.5191,      0.5187,     0.51851,     0.51917,     0.51982,     0.52102,     0.52244,     0.52284,     0.52323,     0.52363,     0.52403,     0.52255,     0.52346,\n",
       "            0.52526,     0.52682,      0.5275,     0.52817,     0.52881,     0.52945,     0.53008,     0.53106,     0.53224,      0.5331,     0.53393,     0.53686,      0.5378,      0.5426,     0.54193,     0.54127,      0.5415,     0.54364,     0.54758,     0.54839,      0.5492,     0.54832,     0.54972,\n",
       "             0.5483,      0.5493,     0.55017,     0.54984,     0.54952,      0.5492,     0.54887,     0.54855,     0.55102,     0.55066,      0.5503,     0.54994,     0.54958,     0.54922,     0.55221,     0.55474,     0.55538,     0.55602,     0.55666,     0.55826,     0.55614,     0.55834,      0.5614,\n",
       "            0.56873,     0.57051,      0.5698,     0.56909,     0.57331,     0.57511,     0.57666,     0.57912,       0.578,     0.57781,     0.57936,     0.58014,     0.58051,     0.58087,     0.58123,      0.5816,     0.58196,     0.58232,      0.5824,     0.58187,     0.58135,     0.58082,      0.5817,\n",
       "            0.58327,     0.58224,     0.58163,     0.58256,     0.58349,     0.58445,     0.58547,     0.58649,     0.58868,     0.59032,     0.59136,      0.5924,      0.5981,     0.59979,     0.60141,      0.6029,     0.60347,     0.60234,     0.60151,     0.60085,     0.60019,     0.60038,      0.6009,\n",
       "            0.60142,     0.60195,     0.60247,      0.6061,     0.60786,     0.60811,     0.60654,     0.60553,     0.60647,     0.60696,     0.60876,     0.61165,     0.61157,     0.61318,     0.61803,     0.61675,     0.61639,     0.61928,      0.6204,     0.62153,     0.62329,     0.62589,     0.62661,\n",
       "            0.62734,     0.62807,     0.62879,     0.62819,     0.62994,      0.6317,     0.63347,     0.63662,     0.64022,     0.64815,     0.64939,     0.65064,     0.65198,     0.65387,     0.65556,     0.65652,     0.65747,     0.65843,     0.65773,     0.65967,     0.66021,     0.65794,     0.65723,\n",
       "            0.65762,     0.65802,     0.65841,     0.65881,      0.6592,     0.65959,     0.65999,     0.66038,     0.66077,       0.662,     0.66333,     0.66466,     0.66858,     0.66965,     0.67067,     0.67169,     0.67282,     0.67518,     0.67822,     0.68046,      0.6798,     0.67914,     0.67784,\n",
       "            0.67632,     0.67531,     0.67719,     0.68025,     0.68241,     0.68595,     0.68841,      0.6892,     0.68818,     0.68844,     0.68919,     0.68995,      0.6907,     0.69145,     0.69221,     0.70333,     0.70568,     0.70806,     0.71044,      0.7099,     0.70924,     0.70878,     0.71348,\n",
       "            0.71594,     0.71866,      0.7232,     0.72488,     0.72656,     0.72769,     0.72674,     0.72594,     0.72562,      0.7253,     0.72498,     0.72465,     0.72433,     0.72335,      0.7225,     0.72315,     0.72379,     0.72444,     0.72509,     0.72573,     0.72638,     0.72703,     0.72666,\n",
       "            0.72568,     0.72401,      0.7227,     0.72169,     0.72242,     0.72375,     0.72508,     0.72641,     0.72491,     0.72933,     0.72811,     0.72895,     0.73006,     0.73116,     0.73227,     0.73682,     0.73631,      0.7358,     0.73529,      0.7328,     0.73263,     0.73245,     0.73227,\n",
       "             0.7321,     0.73192,     0.73175,     0.73157,      0.7314,     0.73122,     0.73105,     0.73087,     0.73046,     0.72975,     0.72904,     0.72966,      0.7316,     0.73355,     0.73004,     0.72984,     0.72964,     0.72944,     0.72924,     0.72904,     0.72884,     0.72864,     0.72843,\n",
       "            0.72823,     0.72803,     0.72611,     0.72501,      0.7241,     0.72757,     0.72826,     0.72895,     0.72964,     0.73033,     0.73102,     0.73171,      0.7324,     0.73309,     0.73538,     0.73854,     0.73792,     0.73673,     0.73597,      0.7352,     0.73458,     0.73399,     0.73341,\n",
       "            0.73282,     0.73567,     0.73894,     0.74052,       0.742,     0.74347,     0.74495,     0.74711,     0.75176,      0.7542,     0.75362,     0.75305,     0.75247,     0.75147,      0.7503,     0.74955,     0.74895,     0.74836,     0.74776,     0.74663,     0.74541,      0.7438,     0.74274,\n",
       "            0.74245,     0.74217,     0.74189,     0.74161,     0.74133,     0.74105,     0.74077,     0.74048,     0.73971,     0.73868,     0.73796,     0.73839,     0.73883,     0.73926,      0.7397,     0.74014,     0.74057,     0.74101,     0.74145,     0.74188,     0.74232,     0.74275,     0.74319,\n",
       "            0.74363,     0.74406,      0.7445,     0.74493,     0.74495,     0.74876,     0.74826,     0.74929,      0.7519,     0.75451,     0.75479,      0.7544,       0.754,      0.7536,      0.7532,      0.7528,     0.75182,     0.75006,     0.75261,     0.75531,     0.75784,     0.75652,     0.75263,\n",
       "            0.75202,     0.75141,      0.7508,     0.75018,     0.74944,     0.74863,     0.74783,     0.74684,      0.7454,     0.74733,     0.74917,     0.74819,     0.74721,     0.75258,     0.75561,     0.75515,      0.7547,     0.75425,      0.7538,     0.75334,     0.75286,      0.7522,     0.75153,\n",
       "            0.75086,     0.75019,     0.75816,     0.75696,     0.75522,     0.75243,     0.75033,     0.75823,     0.75812,     0.75654,     0.75556,     0.75463,     0.75371,     0.75258,     0.75124,     0.74978,     0.74729,     0.75418,      0.7559,     0.75453,     0.75544,     0.76379,      0.7633,\n",
       "            0.76281,     0.76232,     0.76184,     0.76135,     0.76086,     0.76227,     0.76672,     0.77118,     0.76795,     0.76758,     0.76721,     0.76684,     0.76648,     0.76611,     0.76574,     0.76537,       0.765,     0.76102,     0.76009,     0.75917,     0.75824,     0.75648,     0.75336,\n",
       "            0.75178,      0.7502,     0.74823,     0.74619,     0.74855,     0.75129,     0.75403,     0.75678,     0.75663,     0.75406,     0.75346,     0.75286,     0.75226,     0.75166,     0.75106,     0.75046,     0.74985,     0.74923,     0.74861,     0.74799,     0.74737,     0.74675,     0.74613,\n",
       "            0.74791,     0.75319,     0.75846,     0.77173,     0.77131,     0.77089,     0.77048,     0.77006,     0.76964,     0.76922,     0.76881,     0.76839,     0.76797,     0.76472,     0.76267,     0.76139,     0.76011,      0.7577,     0.76542,     0.77822,     0.78341,      0.7812,     0.78187,\n",
       "            0.78595,     0.79002,      0.7941,     0.79531,     0.79422,     0.79313,     0.79204,     0.78414,     0.78037,     0.77385,     0.77912,     0.78438,     0.78964,     0.78866,      0.7861,     0.77358,     0.76964,     0.76849,     0.76766,     0.76683,       0.766,     0.76517,     0.76434,\n",
       "            0.76351,     0.77542,     0.80543,      0.8044,     0.80336,     0.80233,     0.80129,     0.80026,     0.81512,      0.8093,      0.7989,     0.79536,     0.79485,     0.79969,     0.80453,     0.80937,     0.81421,     0.81904,      0.8208,     0.81957,     0.81834,     0.81711,     0.81587,\n",
       "            0.81471,     0.81398,     0.81325,     0.81252,     0.81179,     0.81106,     0.81033,      0.8096,     0.80887,     0.80814,     0.81001,     0.81604,     0.82206,     0.82808,      0.8341,     0.83998,     0.83913,     0.83827,     0.83742,     0.83657,     0.83571,     0.83486,       0.834,\n",
       "             0.8328,     0.83032,     0.82785,     0.83053,     0.84593,     0.86132,     0.87557,     0.88963,     0.90368,     0.94883,     0.94461,     0.94119,     0.93711,     0.93633,     0.93555,     0.93478,       0.934,     0.93287,     0.92962,     0.92704,     0.92479,     0.92652,     0.94086,\n",
       "            0.95519,     0.96953,     0.98386,      0.9982,           1,           1,           1,           1,           1,           1,           1,           1,           1,           1,           1,           1,           1,           1,           1,           1,           1,           1,           1,\n",
       "                  1,           1,           1,           1,           1,           1,           1,           1,           1,           1,           1,           1,           1,           1,           1,           1,           1,           1,           1,           1,           1,           1,           1,\n",
       "                  1,           1,           1,           1,           1,           1,           1,           1,           1,           1,           1,           1,           1,           1,           1,           1,           1,           1,           1,           1,           1,           1,           1,\n",
       "                  1,           1,           1,           1,           1,           1,           1,           1,           1,           1,           1,           1,           1,           1,           1,           1,           1,           1,           1,           1,           1,           1,           1,\n",
       "                  1,           1,           1,           1,           1,           1,           1,           1,           1,           1,           1,           1,           1,           1,           1,           1,           1,           1,           1,           1,           1,           1,           1,\n",
       "                  1,           1,           1,           1,           1,           1,           1,           1,           1,           1,           1,           1,           1,           1,           1,           1,           1,           1,           1,           1,           1,           1,           1,\n",
       "                  1,           1,           1,           1,           1,           1,           1,           1,           1,           1,           1]]), 'Confidence', 'Precision'], [array([          0,    0.001001,    0.002002,    0.003003,    0.004004,    0.005005,    0.006006,    0.007007,    0.008008,    0.009009,     0.01001,    0.011011,    0.012012,    0.013013,    0.014014,    0.015015,    0.016016,    0.017017,    0.018018,    0.019019,     0.02002,    0.021021,    0.022022,    0.023023,\n",
       "          0.024024,    0.025025,    0.026026,    0.027027,    0.028028,    0.029029,     0.03003,    0.031031,    0.032032,    0.033033,    0.034034,    0.035035,    0.036036,    0.037037,    0.038038,    0.039039,     0.04004,    0.041041,    0.042042,    0.043043,    0.044044,    0.045045,    0.046046,    0.047047,\n",
       "          0.048048,    0.049049,     0.05005,    0.051051,    0.052052,    0.053053,    0.054054,    0.055055,    0.056056,    0.057057,    0.058058,    0.059059,     0.06006,    0.061061,    0.062062,    0.063063,    0.064064,    0.065065,    0.066066,    0.067067,    0.068068,    0.069069,     0.07007,    0.071071,\n",
       "          0.072072,    0.073073,    0.074074,    0.075075,    0.076076,    0.077077,    0.078078,    0.079079,     0.08008,    0.081081,    0.082082,    0.083083,    0.084084,    0.085085,    0.086086,    0.087087,    0.088088,    0.089089,     0.09009,    0.091091,    0.092092,    0.093093,    0.094094,    0.095095,\n",
       "          0.096096,    0.097097,    0.098098,    0.099099,      0.1001,      0.1011,      0.1021,      0.1031,      0.1041,     0.10511,     0.10611,     0.10711,     0.10811,     0.10911,     0.11011,     0.11111,     0.11211,     0.11311,     0.11411,     0.11512,     0.11612,     0.11712,     0.11812,     0.11912,\n",
       "           0.12012,     0.12112,     0.12212,     0.12312,     0.12412,     0.12513,     0.12613,     0.12713,     0.12813,     0.12913,     0.13013,     0.13113,     0.13213,     0.13313,     0.13413,     0.13514,     0.13614,     0.13714,     0.13814,     0.13914,     0.14014,     0.14114,     0.14214,     0.14314,\n",
       "           0.14414,     0.14515,     0.14615,     0.14715,     0.14815,     0.14915,     0.15015,     0.15115,     0.15215,     0.15315,     0.15415,     0.15516,     0.15616,     0.15716,     0.15816,     0.15916,     0.16016,     0.16116,     0.16216,     0.16316,     0.16416,     0.16517,     0.16617,     0.16717,\n",
       "           0.16817,     0.16917,     0.17017,     0.17117,     0.17217,     0.17317,     0.17417,     0.17518,     0.17618,     0.17718,     0.17818,     0.17918,     0.18018,     0.18118,     0.18218,     0.18318,     0.18418,     0.18519,     0.18619,     0.18719,     0.18819,     0.18919,     0.19019,     0.19119,\n",
       "           0.19219,     0.19319,     0.19419,      0.1952,      0.1962,      0.1972,      0.1982,      0.1992,      0.2002,      0.2012,      0.2022,      0.2032,      0.2042,     0.20521,     0.20621,     0.20721,     0.20821,     0.20921,     0.21021,     0.21121,     0.21221,     0.21321,     0.21421,     0.21522,\n",
       "           0.21622,     0.21722,     0.21822,     0.21922,     0.22022,     0.22122,     0.22222,     0.22322,     0.22422,     0.22523,     0.22623,     0.22723,     0.22823,     0.22923,     0.23023,     0.23123,     0.23223,     0.23323,     0.23423,     0.23524,     0.23624,     0.23724,     0.23824,     0.23924,\n",
       "           0.24024,     0.24124,     0.24224,     0.24324,     0.24424,     0.24525,     0.24625,     0.24725,     0.24825,     0.24925,     0.25025,     0.25125,     0.25225,     0.25325,     0.25425,     0.25526,     0.25626,     0.25726,     0.25826,     0.25926,     0.26026,     0.26126,     0.26226,     0.26326,\n",
       "           0.26426,     0.26527,     0.26627,     0.26727,     0.26827,     0.26927,     0.27027,     0.27127,     0.27227,     0.27327,     0.27427,     0.27528,     0.27628,     0.27728,     0.27828,     0.27928,     0.28028,     0.28128,     0.28228,     0.28328,     0.28428,     0.28529,     0.28629,     0.28729,\n",
       "           0.28829,     0.28929,     0.29029,     0.29129,     0.29229,     0.29329,     0.29429,      0.2953,      0.2963,      0.2973,      0.2983,      0.2993,      0.3003,      0.3013,      0.3023,      0.3033,      0.3043,     0.30531,     0.30631,     0.30731,     0.30831,     0.30931,     0.31031,     0.31131,\n",
       "           0.31231,     0.31331,     0.31431,     0.31532,     0.31632,     0.31732,     0.31832,     0.31932,     0.32032,     0.32132,     0.32232,     0.32332,     0.32432,     0.32533,     0.32633,     0.32733,     0.32833,     0.32933,     0.33033,     0.33133,     0.33233,     0.33333,     0.33433,     0.33534,\n",
       "           0.33634,     0.33734,     0.33834,     0.33934,     0.34034,     0.34134,     0.34234,     0.34334,     0.34434,     0.34535,     0.34635,     0.34735,     0.34835,     0.34935,     0.35035,     0.35135,     0.35235,     0.35335,     0.35435,     0.35536,     0.35636,     0.35736,     0.35836,     0.35936,\n",
       "           0.36036,     0.36136,     0.36236,     0.36336,     0.36436,     0.36537,     0.36637,     0.36737,     0.36837,     0.36937,     0.37037,     0.37137,     0.37237,     0.37337,     0.37437,     0.37538,     0.37638,     0.37738,     0.37838,     0.37938,     0.38038,     0.38138,     0.38238,     0.38338,\n",
       "           0.38438,     0.38539,     0.38639,     0.38739,     0.38839,     0.38939,     0.39039,     0.39139,     0.39239,     0.39339,     0.39439,      0.3954,      0.3964,      0.3974,      0.3984,      0.3994,      0.4004,      0.4014,      0.4024,      0.4034,      0.4044,     0.40541,     0.40641,     0.40741,\n",
       "           0.40841,     0.40941,     0.41041,     0.41141,     0.41241,     0.41341,     0.41441,     0.41542,     0.41642,     0.41742,     0.41842,     0.41942,     0.42042,     0.42142,     0.42242,     0.42342,     0.42442,     0.42543,     0.42643,     0.42743,     0.42843,     0.42943,     0.43043,     0.43143,\n",
       "           0.43243,     0.43343,     0.43443,     0.43544,     0.43644,     0.43744,     0.43844,     0.43944,     0.44044,     0.44144,     0.44244,     0.44344,     0.44444,     0.44545,     0.44645,     0.44745,     0.44845,     0.44945,     0.45045,     0.45145,     0.45245,     0.45345,     0.45445,     0.45546,\n",
       "           0.45646,     0.45746,     0.45846,     0.45946,     0.46046,     0.46146,     0.46246,     0.46346,     0.46446,     0.46547,     0.46647,     0.46747,     0.46847,     0.46947,     0.47047,     0.47147,     0.47247,     0.47347,     0.47447,     0.47548,     0.47648,     0.47748,     0.47848,     0.47948,\n",
       "           0.48048,     0.48148,     0.48248,     0.48348,     0.48448,     0.48549,     0.48649,     0.48749,     0.48849,     0.48949,     0.49049,     0.49149,     0.49249,     0.49349,     0.49449,      0.4955,      0.4965,      0.4975,      0.4985,      0.4995,      0.5005,      0.5015,      0.5025,      0.5035,\n",
       "            0.5045,     0.50551,     0.50651,     0.50751,     0.50851,     0.50951,     0.51051,     0.51151,     0.51251,     0.51351,     0.51451,     0.51552,     0.51652,     0.51752,     0.51852,     0.51952,     0.52052,     0.52152,     0.52252,     0.52352,     0.52452,     0.52553,     0.52653,     0.52753,\n",
       "           0.52853,     0.52953,     0.53053,     0.53153,     0.53253,     0.53353,     0.53453,     0.53554,     0.53654,     0.53754,     0.53854,     0.53954,     0.54054,     0.54154,     0.54254,     0.54354,     0.54454,     0.54555,     0.54655,     0.54755,     0.54855,     0.54955,     0.55055,     0.55155,\n",
       "           0.55255,     0.55355,     0.55455,     0.55556,     0.55656,     0.55756,     0.55856,     0.55956,     0.56056,     0.56156,     0.56256,     0.56356,     0.56456,     0.56557,     0.56657,     0.56757,     0.56857,     0.56957,     0.57057,     0.57157,     0.57257,     0.57357,     0.57457,     0.57558,\n",
       "           0.57658,     0.57758,     0.57858,     0.57958,     0.58058,     0.58158,     0.58258,     0.58358,     0.58458,     0.58559,     0.58659,     0.58759,     0.58859,     0.58959,     0.59059,     0.59159,     0.59259,     0.59359,     0.59459,      0.5956,      0.5966,      0.5976,      0.5986,      0.5996,\n",
       "            0.6006,      0.6016,      0.6026,      0.6036,      0.6046,     0.60561,     0.60661,     0.60761,     0.60861,     0.60961,     0.61061,     0.61161,     0.61261,     0.61361,     0.61461,     0.61562,     0.61662,     0.61762,     0.61862,     0.61962,     0.62062,     0.62162,     0.62262,     0.62362,\n",
       "           0.62462,     0.62563,     0.62663,     0.62763,     0.62863,     0.62963,     0.63063,     0.63163,     0.63263,     0.63363,     0.63463,     0.63564,     0.63664,     0.63764,     0.63864,     0.63964,     0.64064,     0.64164,     0.64264,     0.64364,     0.64464,     0.64565,     0.64665,     0.64765,\n",
       "           0.64865,     0.64965,     0.65065,     0.65165,     0.65265,     0.65365,     0.65465,     0.65566,     0.65666,     0.65766,     0.65866,     0.65966,     0.66066,     0.66166,     0.66266,     0.66366,     0.66466,     0.66567,     0.66667,     0.66767,     0.66867,     0.66967,     0.67067,     0.67167,\n",
       "           0.67267,     0.67367,     0.67467,     0.67568,     0.67668,     0.67768,     0.67868,     0.67968,     0.68068,     0.68168,     0.68268,     0.68368,     0.68468,     0.68569,     0.68669,     0.68769,     0.68869,     0.68969,     0.69069,     0.69169,     0.69269,     0.69369,     0.69469,      0.6957,\n",
       "            0.6967,      0.6977,      0.6987,      0.6997,      0.7007,      0.7017,      0.7027,      0.7037,      0.7047,     0.70571,     0.70671,     0.70771,     0.70871,     0.70971,     0.71071,     0.71171,     0.71271,     0.71371,     0.71471,     0.71572,     0.71672,     0.71772,     0.71872,     0.71972,\n",
       "           0.72072,     0.72172,     0.72272,     0.72372,     0.72472,     0.72573,     0.72673,     0.72773,     0.72873,     0.72973,     0.73073,     0.73173,     0.73273,     0.73373,     0.73473,     0.73574,     0.73674,     0.73774,     0.73874,     0.73974,     0.74074,     0.74174,     0.74274,     0.74374,\n",
       "           0.74474,     0.74575,     0.74675,     0.74775,     0.74875,     0.74975,     0.75075,     0.75175,     0.75275,     0.75375,     0.75475,     0.75576,     0.75676,     0.75776,     0.75876,     0.75976,     0.76076,     0.76176,     0.76276,     0.76376,     0.76476,     0.76577,     0.76677,     0.76777,\n",
       "           0.76877,     0.76977,     0.77077,     0.77177,     0.77277,     0.77377,     0.77477,     0.77578,     0.77678,     0.77778,     0.77878,     0.77978,     0.78078,     0.78178,     0.78278,     0.78378,     0.78478,     0.78579,     0.78679,     0.78779,     0.78879,     0.78979,     0.79079,     0.79179,\n",
       "           0.79279,     0.79379,     0.79479,      0.7958,      0.7968,      0.7978,      0.7988,      0.7998,      0.8008,      0.8018,      0.8028,      0.8038,      0.8048,     0.80581,     0.80681,     0.80781,     0.80881,     0.80981,     0.81081,     0.81181,     0.81281,     0.81381,     0.81481,     0.81582,\n",
       "           0.81682,     0.81782,     0.81882,     0.81982,     0.82082,     0.82182,     0.82282,     0.82382,     0.82482,     0.82583,     0.82683,     0.82783,     0.82883,     0.82983,     0.83083,     0.83183,     0.83283,     0.83383,     0.83483,     0.83584,     0.83684,     0.83784,     0.83884,     0.83984,\n",
       "           0.84084,     0.84184,     0.84284,     0.84384,     0.84484,     0.84585,     0.84685,     0.84785,     0.84885,     0.84985,     0.85085,     0.85185,     0.85285,     0.85385,     0.85485,     0.85586,     0.85686,     0.85786,     0.85886,     0.85986,     0.86086,     0.86186,     0.86286,     0.86386,\n",
       "           0.86486,     0.86587,     0.86687,     0.86787,     0.86887,     0.86987,     0.87087,     0.87187,     0.87287,     0.87387,     0.87487,     0.87588,     0.87688,     0.87788,     0.87888,     0.87988,     0.88088,     0.88188,     0.88288,     0.88388,     0.88488,     0.88589,     0.88689,     0.88789,\n",
       "           0.88889,     0.88989,     0.89089,     0.89189,     0.89289,     0.89389,     0.89489,      0.8959,      0.8969,      0.8979,      0.8989,      0.8999,      0.9009,      0.9019,      0.9029,      0.9039,      0.9049,     0.90591,     0.90691,     0.90791,     0.90891,     0.90991,     0.91091,     0.91191,\n",
       "           0.91291,     0.91391,     0.91491,     0.91592,     0.91692,     0.91792,     0.91892,     0.91992,     0.92092,     0.92192,     0.92292,     0.92392,     0.92492,     0.92593,     0.92693,     0.92793,     0.92893,     0.92993,     0.93093,     0.93193,     0.93293,     0.93393,     0.93493,     0.93594,\n",
       "           0.93694,     0.93794,     0.93894,     0.93994,     0.94094,     0.94194,     0.94294,     0.94394,     0.94494,     0.94595,     0.94695,     0.94795,     0.94895,     0.94995,     0.95095,     0.95195,     0.95295,     0.95395,     0.95495,     0.95596,     0.95696,     0.95796,     0.95896,     0.95996,\n",
       "           0.96096,     0.96196,     0.96296,     0.96396,     0.96496,     0.96597,     0.96697,     0.96797,     0.96897,     0.96997,     0.97097,     0.97197,     0.97297,     0.97397,     0.97497,     0.97598,     0.97698,     0.97798,     0.97898,     0.97998,     0.98098,     0.98198,     0.98298,     0.98398,\n",
       "           0.98498,     0.98599,     0.98699,     0.98799,     0.98899,     0.98999,     0.99099,     0.99199,     0.99299,     0.99399,     0.99499,       0.996,       0.997,       0.998,       0.999,           1]), array([[    0.94953,     0.94953,     0.91167,     0.89274,     0.88328,      0.8612,     0.85174,     0.84543,     0.83596,      0.8265,     0.81388,     0.80442,     0.80126,     0.79811,     0.79811,     0.79495,      0.7918,      0.7918,     0.78549,     0.78549,     0.78233,     0.77603,     0.76972,\n",
       "            0.76025,     0.75394,     0.75079,     0.74448,     0.74132,     0.73817,     0.73817,     0.73817,     0.72555,      0.7224,     0.71293,     0.71293,     0.70347,     0.69401,     0.69401,      0.6904,     0.68139,     0.67885,     0.67508,     0.67508,     0.67508,     0.67508,     0.67508,\n",
       "            0.67508,     0.67192,     0.67012,     0.66877,     0.66877,     0.66562,     0.66562,     0.65931,     0.65615,     0.65615,       0.653,       0.653,     0.64984,     0.64669,     0.64669,     0.64669,     0.64353,     0.64038,     0.63407,     0.63407,     0.63091,     0.63091,     0.63091,\n",
       "            0.63091,     0.63091,     0.63091,     0.63091,     0.63055,     0.62776,     0.62461,     0.62461,     0.62461,     0.62145,     0.62145,     0.62145,     0.61784,     0.61514,     0.61514,     0.61514,     0.61514,     0.61514,     0.61205,     0.61199,     0.61199,     0.60883,     0.60883,\n",
       "            0.60883,     0.60568,     0.59937,     0.59937,     0.59937,     0.59937,     0.59596,     0.59028,     0.58991,     0.58991,     0.58675,     0.58675,     0.58675,     0.58675,     0.58675,     0.58675,     0.58675,     0.58675,     0.58675,     0.58675,     0.58675,     0.58439,      0.5836,\n",
       "            0.58074,     0.57853,     0.57729,     0.57098,     0.56925,     0.56467,     0.56467,     0.56158,     0.56151,     0.56151,     0.56144,     0.55836,     0.55836,     0.55521,     0.55521,     0.55521,     0.55521,     0.55521,     0.55521,     0.55521,     0.55521,     0.55512,     0.55205,\n",
       "            0.55205,     0.55205,     0.55205,     0.55205,      0.5489,      0.5489,      0.5489,     0.54574,     0.54574,     0.54574,     0.54574,     0.54259,     0.54259,     0.54259,     0.54259,     0.54259,     0.54259,     0.54259,     0.53628,     0.53628,     0.53628,     0.53628,     0.53628,\n",
       "            0.53628,     0.53628,     0.53628,     0.53512,     0.53312,     0.53312,     0.53033,     0.52997,     0.52997,     0.52997,     0.52997,     0.52997,     0.52997,     0.52997,     0.52997,     0.52997,     0.52997,     0.52997,     0.52997,     0.52997,     0.52997,     0.52997,     0.52997,\n",
       "            0.52997,     0.52681,     0.52681,     0.52681,     0.52366,     0.52366,      0.5205,      0.5205,      0.5205,      0.5205,      0.5205,      0.5205,     0.51735,     0.51735,     0.51735,      0.5142,     0.51104,     0.51104,     0.51104,     0.51104,     0.51104,     0.50965,     0.50804,\n",
       "            0.50789,     0.50789,     0.50789,     0.50771,     0.50635,     0.50499,     0.50211,     0.49961,     0.49735,     0.49527,     0.49527,     0.49527,     0.49527,     0.49211,     0.49211,     0.49211,     0.48896,     0.48896,     0.48855,      0.4858,      0.4858,      0.4858,      0.4858,\n",
       "             0.4858,      0.4858,      0.4858,      0.4858,      0.4858,      0.4858,      0.4858,     0.48495,     0.48365,     0.48265,      0.4795,      0.4795,     0.47634,     0.47634,     0.47634,     0.47634,     0.47634,     0.47634,     0.47634,     0.47634,     0.47319,     0.47316,     0.47223,\n",
       "            0.47131,     0.47039,     0.46688,     0.46688,     0.46506,     0.46075,     0.45741,     0.45741,     0.45741,     0.45741,     0.45741,     0.45741,     0.45741,     0.45741,     0.45455,      0.4511,     0.44803,     0.44795,     0.44795,     0.44795,     0.44795,     0.44795,     0.44795,\n",
       "            0.44795,     0.44795,     0.44795,     0.44795,     0.44795,     0.44795,     0.44795,     0.44795,     0.44752,     0.44681,     0.44609,     0.44537,     0.44479,     0.44479,     0.44479,     0.44479,     0.44479,     0.44479,     0.44479,     0.44479,     0.44479,     0.44192,     0.44164,\n",
       "            0.44164,     0.44164,     0.44164,     0.44164,     0.44164,     0.44164,     0.44164,     0.44164,     0.44164,     0.44164,     0.44164,     0.44164,     0.44164,     0.44157,      0.4404,     0.43922,     0.43849,     0.43849,     0.43849,     0.43849,     0.43849,     0.43657,     0.43519,\n",
       "            0.43218,     0.43218,     0.43212,     0.43155,     0.43099,     0.43043,     0.42987,     0.42931,     0.42586,     0.42525,     0.42463,     0.42401,      0.4234,     0.42278,     0.42014,      0.4164,      0.4164,      0.4164,      0.4164,     0.41461,     0.41009,     0.41009,     0.40694,\n",
       "            0.40694,     0.40647,      0.4053,     0.40412,     0.40379,     0.40379,     0.40379,     0.40368,     0.40183,     0.40063,     0.40063,     0.40063,     0.40063,     0.40063,     0.40063,     0.40063,     0.40063,     0.40063,     0.40035,     0.39949,     0.39863,     0.39776,     0.39748,\n",
       "            0.39748,      0.3957,     0.39432,     0.39432,     0.39432,     0.39432,     0.39432,     0.39432,     0.39432,     0.39432,     0.39432,     0.39432,     0.39432,     0.39432,     0.39432,     0.39432,     0.39367,     0.39183,     0.39047,      0.3894,     0.38832,     0.38801,     0.38801,\n",
       "            0.38801,     0.38801,     0.38801,     0.38801,     0.38801,     0.38672,     0.38417,     0.38256,      0.3817,     0.37855,     0.37855,     0.37855,     0.37539,     0.37539,      0.3726,      0.3706,     0.36909,     0.36909,     0.36909,     0.36909,     0.36909,     0.36909,     0.36909,\n",
       "            0.36909,     0.36909,     0.36909,     0.36593,     0.36593,     0.36593,     0.36593,     0.36593,     0.36593,     0.36593,     0.36593,     0.36593,     0.36593,     0.36593,     0.36593,     0.36593,     0.36593,     0.36593,     0.36278,     0.36278,     0.36164,       0.358,     0.35647,\n",
       "            0.35647,     0.35647,     0.35647,     0.35647,     0.35647,     0.35647,     0.35647,     0.35647,     0.35647,     0.35647,     0.35647,     0.35647,     0.35647,     0.35647,     0.35647,     0.35647,     0.35647,     0.35647,     0.35647,     0.35603,     0.35496,     0.35388,     0.35178,\n",
       "            0.34935,     0.34773,       0.347,       0.347,       0.347,       0.347,     0.34385,     0.34277,     0.34115,     0.34069,     0.34069,     0.34069,     0.34069,     0.34069,     0.34069,     0.34069,     0.34069,     0.34069,     0.34069,     0.33966,     0.33858,     0.33754,     0.33754,\n",
       "            0.33754,     0.33754,     0.33754,     0.33754,     0.33754,      0.3372,     0.33559,     0.33425,     0.33371,     0.33317,     0.33263,     0.33209,     0.33155,     0.32993,     0.32808,     0.32808,     0.32808,     0.32808,     0.32808,     0.32808,     0.32808,     0.32808,     0.32707,\n",
       "            0.32545,     0.32275,     0.32064,     0.31903,     0.31861,     0.31861,     0.31861,     0.31861,     0.31589,     0.31546,     0.31258,      0.3123,      0.3123,      0.3123,      0.3123,     0.30912,     0.30831,      0.3075,     0.30669,      0.3028,     0.30253,     0.30226,     0.30199,\n",
       "            0.30172,     0.30146,     0.30119,     0.30092,     0.30065,     0.30038,     0.30011,     0.29984,     0.29922,     0.29815,     0.29707,     0.29653,     0.29653,     0.29653,     0.29005,     0.28976,     0.28946,     0.28917,     0.28888,     0.28858,     0.28829,     0.28799,      0.2877,\n",
       "            0.28741,     0.28711,     0.28434,     0.28279,      0.2815,      0.2776,      0.2776,      0.2776,      0.2776,      0.2776,      0.2776,      0.2776,      0.2776,      0.2776,      0.2776,      0.2776,     0.27535,     0.27367,     0.27259,     0.27151,     0.27065,     0.26984,     0.26903,\n",
       "            0.26823,     0.26814,     0.26814,     0.26814,     0.26814,     0.26814,     0.26814,     0.26498,     0.26183,     0.26134,     0.26054,     0.25973,     0.25892,     0.25755,     0.25593,     0.25492,     0.25411,      0.2533,     0.25249,       0.251,     0.24939,     0.24729,      0.2459,\n",
       "            0.24554,     0.24518,     0.24482,     0.24447,     0.24411,     0.24375,     0.24339,     0.24303,     0.24206,     0.24077,     0.23975,     0.23975,     0.23975,     0.23975,     0.23975,     0.23975,     0.23975,     0.23975,     0.23975,     0.23975,     0.23975,     0.23975,     0.23975,\n",
       "            0.23975,     0.23975,     0.23975,     0.23975,     0.23659,     0.23659,     0.23441,     0.23344,     0.23344,     0.23344,     0.23305,     0.23256,     0.23206,     0.23156,     0.23106,     0.23057,     0.22936,      0.2272,     0.22713,     0.22713,     0.22706,     0.22545,     0.22076,\n",
       "            0.22004,     0.21932,      0.2186,     0.21788,     0.21702,      0.2161,     0.21517,     0.21405,     0.21243,      0.2082,     0.20729,     0.20621,     0.20514,     0.20505,     0.20482,     0.20432,     0.20383,     0.20333,     0.20283,     0.20233,     0.20181,     0.20109,     0.20037,\n",
       "            0.19966,     0.19894,      0.1978,     0.19651,     0.19466,     0.19176,     0.18961,     0.18927,     0.18787,     0.18625,     0.18527,     0.18435,     0.18342,     0.18231,     0.18102,      0.1796,     0.17666,     0.17666,     0.17585,     0.17455,      0.1735,      0.1734,     0.17294,\n",
       "            0.17248,     0.17202,     0.17156,     0.17109,     0.17063,     0.17035,     0.17035,     0.17035,     0.16704,      0.1667,     0.16636,     0.16602,     0.16568,     0.16534,     0.16499,     0.16465,     0.16431,     0.16073,     0.15992,     0.15911,     0.15831,     0.15681,     0.15417,\n",
       "            0.15288,     0.15159,     0.15001,     0.14839,     0.14826,     0.14826,     0.14826,     0.14826,     0.14712,     0.14508,     0.14462,     0.14416,     0.14369,     0.14323,     0.14277,     0.14231,     0.14185,     0.14138,     0.14092,     0.14046,        0.14,     0.13954,     0.13907,\n",
       "             0.1388,      0.1388,      0.1388,     0.13865,     0.13832,       0.138,     0.13768,     0.13735,     0.13703,     0.13671,     0.13638,     0.13606,     0.13574,      0.1333,      0.1318,     0.13088,     0.12995,     0.12825,     0.12618,     0.12618,     0.12552,     0.12391,     0.12303,\n",
       "            0.12303,     0.12303,     0.12303,     0.12258,     0.12177,     0.12096,     0.12015,     0.11461,      0.1121,     0.10726,     0.10726,     0.10726,     0.10726,     0.10596,     0.10435,    0.097015,    0.094859,    0.094251,    0.093819,    0.093388,    0.092957,    0.092526,    0.092095,\n",
       "           0.091664,    0.091483,    0.091414,    0.090826,    0.090238,     0.08965,    0.089062,    0.088474,    0.083471,    0.080347,    0.075205,    0.073589,    0.072555,    0.072555,    0.072555,    0.072555,    0.072555,    0.072555,    0.072257,    0.071669,    0.071081,    0.070493,    0.069905,\n",
       "           0.069355,    0.069031,    0.068708,    0.068385,    0.068061,    0.067738,    0.067415,    0.067091,    0.066768,    0.066445,    0.066246,    0.066246,    0.066246,    0.066246,    0.066246,    0.066238,    0.065834,     0.06543,    0.065025,    0.064621,    0.064217,    0.063813,    0.063409,\n",
       "           0.062859,    0.061782,    0.060704,    0.059937,    0.059937,    0.059937,    0.059937,    0.059937,    0.059937,     0.05853,    0.053811,    0.050486,     0.04702,    0.046432,    0.045844,    0.045256,    0.044668,    0.043857,    0.041701,    0.040131,    0.038838,    0.037855,    0.037855,\n",
       "           0.037855,    0.037855,    0.037855,    0.037855,    0.037672,    0.037464,    0.037255,    0.037047,    0.036838,    0.036629,    0.036421,    0.036212,    0.036004,    0.035795,    0.035586,    0.035378,    0.035169,     0.03496,    0.034752,    0.034444,    0.034104,    0.033763,    0.033423,\n",
       "           0.033083,    0.032742,    0.032402,    0.032061,    0.031721,    0.031284,    0.030746,    0.030207,    0.029668,    0.029129,     0.02859,     0.02802,    0.027432,    0.026844,    0.026256,    0.025668,    0.024378,    0.021983,    0.021643,    0.021303,    0.020962,    0.020622,    0.020281,\n",
       "           0.019941,    0.019601,     0.01926,     0.01888,    0.016724,    0.015532,    0.015101,     0.01467,    0.014239,    0.013807,    0.013376,    0.012945,    0.012544,    0.012236,    0.011928,     0.01162,    0.011312,    0.011004,    0.010696,    0.010388,     0.01008,   0.0097723,   0.0094643,\n",
       "            0.00931,   0.0091561,   0.0090021,   0.0088481,   0.0086941,   0.0085402,   0.0083862,   0.0082322,   0.0080782,   0.0079243,   0.0077703,   0.0076163,   0.0074623,   0.0073083,   0.0071544,   0.0070004,   0.0068464,   0.0066924,   0.0065385,   0.0063845,   0.0061715,   0.0059021,   0.0056326,\n",
       "          0.0053631,   0.0050937,   0.0048242,   0.0045548,   0.0042853,   0.0040158,   0.0037464,   0.0034769,   0.0032075,           0,           0,           0,           0,           0,           0,           0,           0,           0,           0,           0,           0,           0,           0,\n",
       "                  0,           0,           0,           0,           0,           0,           0,           0,           0,           0,           0,           0,           0,           0,           0,           0,           0,           0,           0,           0,           0,           0,           0,\n",
       "                  0,           0,           0,           0,           0,           0,           0,           0,           0,           0,           0]]), 'Confidence', 'Recall']]\n",
       "fitness: np.float64(0.27283663283938664)\n",
       "keys: ['metrics/precision(B)', 'metrics/recall(B)', 'metrics/mAP50(B)', 'metrics/mAP50-95(B)']\n",
       "maps: array([    0.25347])\n",
       "names: {0: 'fire'}\n",
       "plot: True\n",
       "results_dict: {'metrics/precision(B)': np.float64(0.517205790490462), 'metrics/recall(B)': np.float64(0.4479495268138801), 'metrics/mAP50(B)': np.float64(0.4471219538477055), 'metrics/mAP50-95(B)': np.float64(0.2534715971717957), 'fitness': np.float64(0.27283663283938664)}\n",
       "save_dir: WindowsPath('runs/detect/train')\n",
       "speed: {'preprocess': 0.22977200002060272, 'inference': 1.1636270000235527, 'loss': 0.010179499986406881, 'postprocess': 1.194637500011595}\n",
       "task: 'detect'"
      ]
     },
     "execution_count": 7,
     "metadata": {},
     "output_type": "execute_result"
    }
   ],
   "source": [
    "from ultralytics import YOLO\n",
    "\n",
    "# Load a YOLOv8 model (choose from yolov8n, yolov8s, yolov8m, etc.)\n",
    "model = YOLO(\"yolov8n.pt\")  # you can replace with 'yolov8s.pt' for better accuracy\n",
    "\n",
    "# Train the model\n",
    "model.train(\n",
    "    data=\"satellite.yaml\",     # Path to your custom dataset YAML\n",
    "    epochs=100,                # Number of training epochs\n",
    "    imgsz=640,                 # Image size\n",
    "    batch=16,                  # Batch size (adjust based on your GPU memory)\n",
    "    device = 0\n",
    ")\n"
   ]
  },
  {
   "cell_type": "markdown",
   "id": "0a36ce75",
   "metadata": {},
   "source": [
    "##  Inference on Satellite Test Images using Trained YOLOv8 Model\n",
    "\n",
    "We perform inference using the **best trained YOLOv8 model** to evaluate its performance on the **test set** of satellite fire scenarios.\n",
    "\n",
    "- 🎯 **Model Weights**: `best.pt` from the training run\n",
    "- 💾 **Output**: Predictions will be saved automatically by YOLO\n",
    "\n",
    "This step visually validates how well the model generalizes to unseen indoor fire detection cases.\n"
   ]
  },
  {
   "cell_type": "code",
   "execution_count": 8,
   "id": "89c5cb92",
   "metadata": {},
   "outputs": [],
   "source": [
    "from ultralytics import YOLO\n",
    "\n",
    "# Load your trained weights\n",
    "model = YOLO(\"runs/detect/train/weights/best.pt\")\n"
   ]
  },
  {
   "cell_type": "code",
   "execution_count": 11,
   "id": "d5b66c45",
   "metadata": {},
   "outputs": [
    {
     "name": "stdout",
     "output_type": "stream",
     "text": [
      "\n",
      "image 1/100 C:\\Users\\pc\\Desktop\\DL\\Project\\Satellite\\satellite_fire_dataset\\images\\test_subset\\cl6b0msow001cl4559m4m56le_2_FALSE_COLOR_jpg.rf.f68ad2780e71b8384276d2b5e9f13de2.jpg: 640x640 (no detections), 4.9ms\n",
      "image 2/100 C:\\Users\\pc\\Desktop\\DL\\Project\\Satellite\\satellite_fire_dataset\\images\\test_subset\\cl6b0skkx001nl4557zd344qi_6_SWIR_jpg.rf.050130f50407894cc5e0827db1da6078.jpg: 640x640 1 fire, 6.4ms\n",
      "image 3/100 C:\\Users\\pc\\Desktop\\DL\\Project\\Satellite\\satellite_fire_dataset\\images\\test_subset\\cl6b4x9pw001pl455en07csnz_1_TRUE_COLOR_jpg.rf.13266e9caca2d71bea0935e8608a6342.jpg: 640x640 1 fire, 4.2ms\n",
      "image 4/100 C:\\Users\\pc\\Desktop\\DL\\Project\\Satellite\\satellite_fire_dataset\\images\\test_subset\\cl6b55k98002fl455fxpwaq8j_1_TRUE_COLOR_jpg.rf.f3fc4af2e1bc1a94c52eaa7f2d2e81ce.jpg: 640x640 1 fire, 4.5ms\n",
      "image 5/100 C:\\Users\\pc\\Desktop\\DL\\Project\\Satellite\\satellite_fire_dataset\\images\\test_subset\\cl6b5bl3w0032l4550j2k2te5_2_FALSE_COLOR_jpg.rf.f4109cccb8917845f0299ca2e1824824.jpg: 640x640 (no detections), 6.4ms\n",
      "image 6/100 C:\\Users\\pc\\Desktop\\DL\\Project\\Satellite\\satellite_fire_dataset\\images\\test_subset\\cl6b5osai004hl455cp1mh6ki_4_FALSE_COLOR__URBAN_jpg.rf.6e0155799033e317c1c051d23518a6fb.jpg: 640x640 7 fires, 6.4ms\n",
      "image 7/100 C:\\Users\\pc\\Desktop\\DL\\Project\\Satellite\\satellite_fire_dataset\\images\\test_subset\\cl6b63vpq0064l455flci5m80_6_SWIR_jpg.rf.74a5cd0de33f71ca51e0e1539cb38a7a.jpg: 640x640 3 fires, 7.5ms\n",
      "image 8/100 C:\\Users\\pc\\Desktop\\DL\\Project\\Satellite\\satellite_fire_dataset\\images\\test_subset\\cl6b69zw9006pl455be0a3zi1_1_TRUE_COLOR_jpg.rf.b8d0f9d30e24f9b702749078a4821dae.jpg: 640x640 1 fire, 6.7ms\n",
      "image 9/100 C:\\Users\\pc\\Desktop\\DL\\Project\\Satellite\\satellite_fire_dataset\\images\\test_subset\\cl6b6xs0d008el455cvd92nt5_4_FALSE_COLOR__URBAN_jpg.rf.7c36a6c31742024dab9d1c26a64a6db1.jpg: 640x640 1 fire, 5.7ms\n",
      "image 10/100 C:\\Users\\pc\\Desktop\\DL\\Project\\Satellite\\satellite_fire_dataset\\images\\test_subset\\cl6b6zaju008ll455bbu9506q_4_FALSE_COLOR__URBAN_jpg.rf.36db94df8c32b9db8af4dcb88b7323a3.jpg: 640x640 2 fires, 4.1ms\n",
      "image 11/100 C:\\Users\\pc\\Desktop\\DL\\Project\\Satellite\\satellite_fire_dataset\\images\\test_subset\\cl6b7118q008ol4551ye8g44d_4_FALSE_COLOR__URBAN_jpg.rf.25523f6503509860ebf07f3e01819682.jpg: 640x640 2 fires, 5.2ms\n",
      "image 12/100 C:\\Users\\pc\\Desktop\\DL\\Project\\Satellite\\satellite_fire_dataset\\images\\test_subset\\cl6b7118q008ol4551ye8g44d_6_SWIR_jpg.rf.9eaeb4920acc3225ef38291778c0cf15.jpg: 640x640 2 fires, 6.1ms\n",
      "image 13/100 C:\\Users\\pc\\Desktop\\DL\\Project\\Satellite\\satellite_fire_dataset\\images\\test_subset\\cl6b7640j009bl455ash2ahqi_2_FALSE_COLOR_jpg.rf.29a0a47997c51069f6a0b07e34ba75b5.jpg: 640x640 3 fires, 4.4ms\n",
      "image 14/100 C:\\Users\\pc\\Desktop\\DL\\Project\\Satellite\\satellite_fire_dataset\\images\\test_subset\\cl6b7640j009bl455ash2ahqi_2_FALSE_COLOR_jpg.rf.68103c021d250e70e094241b111ab429.jpg: 640x640 2 fires, 4.4ms\n",
      "image 15/100 C:\\Users\\pc\\Desktop\\DL\\Project\\Satellite\\satellite_fire_dataset\\images\\test_subset\\cl6b76fnk009dl4556z3y9qgs_4_FALSE_COLOR__URBAN_jpg.rf.7251cb34692f879a027c22984a777f1f.jpg: 640x640 2 fires, 4.9ms\n",
      "image 16/100 C:\\Users\\pc\\Desktop\\DL\\Project\\Satellite\\satellite_fire_dataset\\images\\test_subset\\cl6b77p6x009ml45511vm0cp2_4_FALSE_COLOR__URBAN_jpg.rf.e35af4514faef4a7d070de632dc75080.jpg: 640x640 1 fire, 7.9ms\n",
      "image 17/100 C:\\Users\\pc\\Desktop\\DL\\Project\\Satellite\\satellite_fire_dataset\\images\\test_subset\\cl6b78tww009tl45524un0omv_4_FALSE_COLOR__URBAN_jpg.rf.987652de4f2d7c442410ff641c0963cb.jpg: 640x640 (no detections), 6.0ms\n",
      "image 18/100 C:\\Users\\pc\\Desktop\\DL\\Project\\Satellite\\satellite_fire_dataset\\images\\test_subset\\cl6b7as54009yl455ag52hzr2_6_SWIR_jpg.rf.eb61aa57a267b6d512e52ff49474bf87.jpg: 640x640 1 fire, 4.4ms\n",
      "image 19/100 C:\\Users\\pc\\Desktop\\DL\\Project\\Satellite\\satellite_fire_dataset\\images\\test_subset\\cl6b7hk7q00adl4550rwe3x4h_1_TRUE_COLOR_jpg.rf.c660dde1b4cb113888ccb5d50a85a7c3.jpg: 640x640 1 fire, 5.5ms\n",
      "image 20/100 C:\\Users\\pc\\Desktop\\DL\\Project\\Satellite\\satellite_fire_dataset\\images\\test_subset\\cl6cgepys00avl455d8q7b602_1_TRUE_COLOR_jpg.rf.38393f18586dfbace9b277c42c148e6d.jpg: 640x640 3 fires, 4.5ms\n",
      "image 21/100 C:\\Users\\pc\\Desktop\\DL\\Project\\Satellite\\satellite_fire_dataset\\images\\test_subset\\cl6cgfb7300axl455efzk80f6_6_SWIR_jpg.rf.3e91d4bb58f0e121385457d69b31e48f.jpg: 640x640 2 fires, 7.1ms\n",
      "image 22/100 C:\\Users\\pc\\Desktop\\DL\\Project\\Satellite\\satellite_fire_dataset\\images\\test_subset\\cl6cgfb7300axl455efzk80f6_6_SWIR_jpg.rf.edbbd8cb8928c5859887584dbe862e4a.jpg: 640x640 1 fire, 4.6ms\n",
      "image 23/100 C:\\Users\\pc\\Desktop\\DL\\Project\\Satellite\\satellite_fire_dataset\\images\\test_subset\\cl6ch0lvz00brl455eij38vi0_4_FALSE_COLOR__URBAN_jpg.rf.bcd96a2326c524a88d6e6edbfc7a7a95.jpg: 640x640 1 fire, 4.8ms\n",
      "image 24/100 C:\\Users\\pc\\Desktop\\DL\\Project\\Satellite\\satellite_fire_dataset\\images\\test_subset\\cl6chu8h100cnl4552hz21fjt_2_FALSE_COLOR_jpg.rf.da4fe63efca41eebd1d32697b5a5a7f3.jpg: 640x640 (no detections), 4.6ms\n",
      "image 25/100 C:\\Users\\pc\\Desktop\\DL\\Project\\Satellite\\satellite_fire_dataset\\images\\test_subset\\cl6chumom00col4556jyfb7a5_1_TRUE_COLOR_jpg.rf.ece6a58d26ba749aa72a430861de543a.jpg: 640x640 (no detections), 5.6ms\n",
      "image 26/100 C:\\Users\\pc\\Desktop\\DL\\Project\\Satellite\\satellite_fire_dataset\\images\\test_subset\\cl6chvqmw00crl455dq182jri_2_FALSE_COLOR_jpg.rf.1e2fea8d1d7a5d5214e0804c529c0cdd.jpg: 640x640 1 fire, 3.8ms\n",
      "image 27/100 C:\\Users\\pc\\Desktop\\DL\\Project\\Satellite\\satellite_fire_dataset\\images\\test_subset\\cl6ci1hel00d4l4557row61tz_2_FALSE_COLOR_jpg.rf.906ccf4a29daabcadefa011abff37c84.jpg: 640x640 3 fires, 5.7ms\n",
      "image 28/100 C:\\Users\\pc\\Desktop\\DL\\Project\\Satellite\\satellite_fire_dataset\\images\\test_subset\\cl6cpao9l00dal4553toud4ix_2_FALSE_COLOR_jpg.rf.f0dcf2b097dd69b5d0ffecef370ff27d.jpg: 640x640 (no detections), 4.3ms\n",
      "image 29/100 C:\\Users\\pc\\Desktop\\DL\\Project\\Satellite\\satellite_fire_dataset\\images\\test_subset\\cl6cpbspp00ddl455cdn2h2ov_1_TRUE_COLOR_jpg.rf.03e791994a0dc0c02314f623cddd9ea8.jpg: 640x640 3 fires, 4.1ms\n",
      "image 30/100 C:\\Users\\pc\\Desktop\\DL\\Project\\Satellite\\satellite_fire_dataset\\images\\test_subset\\cl6cpc9qx00del455co6haqas_1_TRUE_COLOR_jpg.rf.9ec3f094a588806a00bc1ca2e1e92bf2.jpg: 640x640 2 fires, 4.3ms\n",
      "image 31/100 C:\\Users\\pc\\Desktop\\DL\\Project\\Satellite\\satellite_fire_dataset\\images\\test_subset\\cl6crszmm00dvl455a2pb9ff5_4_FALSE_COLOR__URBAN_jpg.rf.ca476e5f3c650c6548bdd49978bdcbd7.jpg: 640x640 2 fires, 5.3ms\n",
      "image 32/100 C:\\Users\\pc\\Desktop\\DL\\Project\\Satellite\\satellite_fire_dataset\\images\\test_subset\\cl6crzmr500ecl4558jp511l2_4_FALSE_COLOR__URBAN_jpg.rf.9d4a31bd0924c87890c76a4b97818545.jpg: 640x640 6 fires, 4.6ms\n",
      "image 33/100 C:\\Users\\pc\\Desktop\\DL\\Project\\Satellite\\satellite_fire_dataset\\images\\test_subset\\cl6cs7eox00f1l455595w1d49_1_TRUE_COLOR_jpg.rf.5787f191fe06e2c19bed04d0b978521a.jpg: 640x640 3 fires, 4.3ms\n",
      "image 34/100 C:\\Users\\pc\\Desktop\\DL\\Project\\Satellite\\satellite_fire_dataset\\images\\test_subset\\cl6cs7eox00f1l455595w1d49_2_FALSE_COLOR_jpg.rf.7afb7114664424898e0f75eb9a9fa61d.jpg: 640x640 2 fires, 4.4ms\n",
      "image 35/100 C:\\Users\\pc\\Desktop\\DL\\Project\\Satellite\\satellite_fire_dataset\\images\\test_subset\\cl6csiins00fgl45562qya3h6_2_FALSE_COLOR_jpg.rf.3f9d18c8db41c3f540f644436b6b5a7f.jpg: 640x640 (no detections), 4.4ms\n",
      "image 36/100 C:\\Users\\pc\\Desktop\\DL\\Project\\Satellite\\satellite_fire_dataset\\images\\test_subset\\cl6csn2vw00fsl455h2a79t61_4_FALSE_COLOR__URBAN_jpg.rf.c4e07b96f8f0d10f0d3ae829eaad6158.jpg: 640x640 1 fire, 4.0ms\n",
      "image 37/100 C:\\Users\\pc\\Desktop\\DL\\Project\\Satellite\\satellite_fire_dataset\\images\\test_subset\\cl6csnj9g00ftl4554f0z30lc_2_FALSE_COLOR_jpg.rf.b857934864d071bc4b9a676f9e5c5558.jpg: 640x640 (no detections), 4.4ms\n",
      "image 38/100 C:\\Users\\pc\\Desktop\\DL\\Project\\Satellite\\satellite_fire_dataset\\images\\test_subset\\cl6csozke00fwl45538jlfe9v_6_SWIR_jpg.rf.3057a4e67784b07ca06c1c160bdb133d.jpg: 640x640 3 fires, 5.1ms\n",
      "image 39/100 C:\\Users\\pc\\Desktop\\DL\\Project\\Satellite\\satellite_fire_dataset\\images\\test_subset\\cl6csq2j100fyl4550kka11gw_2_FALSE_COLOR_jpg.rf.77d6cdca7f12f47ab73716b7800e60c9.jpg: 640x640 3 fires, 4.5ms\n",
      "image 40/100 C:\\Users\\pc\\Desktop\\DL\\Project\\Satellite\\satellite_fire_dataset\\images\\test_subset\\cl6cstiuc00g8l4559dvy72jo_4_FALSE_COLOR__URBAN_jpg.rf.5804c8fbde6332cdc570adf8cb3155ed.jpg: 640x640 1 fire, 4.8ms\n",
      "image 41/100 C:\\Users\\pc\\Desktop\\DL\\Project\\Satellite\\satellite_fire_dataset\\images\\test_subset\\cl6ct99jl00h6l4552nabhg3g_4_FALSE_COLOR__URBAN_jpg.rf.1341b99d7c0c3aa84998f3e89869fc03.jpg: 640x640 3 fires, 5.5ms\n",
      "image 42/100 C:\\Users\\pc\\Desktop\\DL\\Project\\Satellite\\satellite_fire_dataset\\images\\test_subset\\cl6ct9osf00h7l45538051wz5_4_FALSE_COLOR__URBAN_jpg.rf.277810bf9c1a654286cf703298964a2e.jpg: 640x640 3 fires, 4.4ms\n",
      "image 43/100 C:\\Users\\pc\\Desktop\\DL\\Project\\Satellite\\satellite_fire_dataset\\images\\test_subset\\cl6ctb1m400hdl4551wz24flk_2_FALSE_COLOR_jpg.rf.c5211a4219fe92e5868cabf04976f082.jpg: 640x640 1 fire, 7.5ms\n",
      "image 44/100 C:\\Users\\pc\\Desktop\\DL\\Project\\Satellite\\satellite_fire_dataset\\images\\test_subset\\cl6cti5zm00hrl4555pdk0ef9_6_SWIR_jpg.rf.2f486d1ca2e982e17d3189802100c6e1.jpg: 640x640 1 fire, 4.3ms\n",
      "image 45/100 C:\\Users\\pc\\Desktop\\DL\\Project\\Satellite\\satellite_fire_dataset\\images\\test_subset\\cl6dzi6b8000phg55ebf66l7r_6_SWIR_jpg.rf.20e5351b8b9e6a1d4e2fff26e3702b6f.jpg: 640x640 1 fire, 6.7ms\n",
      "image 46/100 C:\\Users\\pc\\Desktop\\DL\\Project\\Satellite\\satellite_fire_dataset\\images\\test_subset\\cl6dznlym000thg55950a4qbg_1_TRUE_COLOR_jpg.rf.de6882b3698fb80bef8599ab6368d9a6.jpg: 640x640 1 fire, 3.8ms\n",
      "image 47/100 C:\\Users\\pc\\Desktop\\DL\\Project\\Satellite\\satellite_fire_dataset\\images\\test_subset\\cl6dznlym000thg55950a4qbg_2_FALSE_COLOR_jpg.rf.a962540fe3778c7d29d5bd0f91a1e029.jpg: 640x640 1 fire, 4.5ms\n",
      "image 48/100 C:\\Users\\pc\\Desktop\\DL\\Project\\Satellite\\satellite_fire_dataset\\images\\test_subset\\cl6e024qp0002gk55hw935fuj_2_FALSE_COLOR_jpg.rf.a0fd6c22bff17c1bd81cf54007106391.jpg: 640x640 (no detections), 4.6ms\n",
      "image 49/100 C:\\Users\\pc\\Desktop\\DL\\Project\\Satellite\\satellite_fire_dataset\\images\\test_subset\\cl6e06umy000bgk55gkbw1ajq_4_FALSE_COLOR__URBAN_jpg.rf.5dd75e80880e15fc7599ff7cb0b4971e.jpg: 640x640 2 fires, 5.0ms\n",
      "image 50/100 C:\\Users\\pc\\Desktop\\DL\\Project\\Satellite\\satellite_fire_dataset\\images\\test_subset\\cl6e0htxm000ygk558f3oazjy_6_SWIR_jpg.rf.d81a1764d87ba240b9e62c7fc13727ba.jpg: 640x640 2 fires, 4.5ms\n",
      "image 51/100 C:\\Users\\pc\\Desktop\\DL\\Project\\Satellite\\satellite_fire_dataset\\images\\test_subset\\cl6e1pf9j001ggk55feroguvj_2_FALSE_COLOR_jpg.rf.a326a04f5b7e20f6cc1b8b9c0ee4674c.jpg: 640x640 3 fires, 5.6ms\n",
      "image 52/100 C:\\Users\\pc\\Desktop\\DL\\Project\\Satellite\\satellite_fire_dataset\\images\\test_subset\\cl6e2dity001vgk551ar0hanj_2_FALSE_COLOR_jpg.rf.a5208b91bc5ec11f15e4667b69e37af5.jpg: 640x640 1 fire, 5.6ms\n",
      "image 53/100 C:\\Users\\pc\\Desktop\\DL\\Project\\Satellite\\satellite_fire_dataset\\images\\test_subset\\cl6e2gfi00021gk55fq9pdi07_4_FALSE_COLOR__URBAN_jpg.rf.67c7017f0967fadb1b6311dea1efbfad.jpg: 640x640 1 fire, 3.9ms\n",
      "image 54/100 C:\\Users\\pc\\Desktop\\DL\\Project\\Satellite\\satellite_fire_dataset\\images\\test_subset\\cl6e2jm3i002agk55fcue8lsk_2_FALSE_COLOR_jpg.rf.28e09040b405d53c056913c63f3a9fb0.jpg: 640x640 1 fire, 7.3ms\n",
      "image 55/100 C:\\Users\\pc\\Desktop\\DL\\Project\\Satellite\\satellite_fire_dataset\\images\\test_subset\\cl6e2kygp002egk55asrs2brz_1_TRUE_COLOR_jpg.rf.1d66cb20ac73957d673059e4b6d4caae.jpg: 640x640 1 fire, 5.0ms\n",
      "image 56/100 C:\\Users\\pc\\Desktop\\DL\\Project\\Satellite\\satellite_fire_dataset\\images\\test_subset\\cl6e30lnj002ugk558z8yabbd_6_SWIR_jpg.rf.74c63724ee3b0860f192a178057752d3.jpg: 640x640 2 fires, 5.1ms\n",
      "image 57/100 C:\\Users\\pc\\Desktop\\DL\\Project\\Satellite\\satellite_fire_dataset\\images\\test_subset\\cl6e32otv0032gk55gxea0jps_2_FALSE_COLOR_jpg.rf.fae182d0c37074b88c4856b53ed097be.jpg: 640x640 1 fire, 8.0ms\n",
      "image 58/100 C:\\Users\\pc\\Desktop\\DL\\Project\\Satellite\\satellite_fire_dataset\\images\\test_subset\\cl6e36kv1003fgk55gnb9050o_6_SWIR_jpg.rf.8a2cd64205ee540c3dd7e2630dcff062.jpg: 640x640 1 fire, 4.4ms\n",
      "image 59/100 C:\\Users\\pc\\Desktop\\DL\\Project\\Satellite\\satellite_fire_dataset\\images\\test_subset\\cl6kf5bk5000fc455brw6a6hw_2_FALSE_COLOR_jpg.rf.511217039c30ae5ac77ae88f9dda8cec.jpg: 640x640 2 fires, 4.2ms\n",
      "image 60/100 C:\\Users\\pc\\Desktop\\DL\\Project\\Satellite\\satellite_fire_dataset\\images\\test_subset\\cl6kfarcn000wc455738t9fff_6_SWIR_jpg.rf.d53c7f1183506faf4a35359298ca3b24.jpg: 640x640 2 fires, 4.3ms\n",
      "image 61/100 C:\\Users\\pc\\Desktop\\DL\\Project\\Satellite\\satellite_fire_dataset\\images\\test_subset\\cl6kfci270010c45580qyfo1k_2_FALSE_COLOR_jpg.rf.e0237d2054d7b9e08da3771583e552c0.jpg: 640x640 2 fires, 4.1ms\n",
      "image 62/100 C:\\Users\\pc\\Desktop\\DL\\Project\\Satellite\\satellite_fire_dataset\\images\\test_subset\\cl6kfe4yn0012c4556ug51m1e_1_TRUE_COLOR_jpg.rf.6baf9b37ac93cb110b0a2a1ab59b169d.jpg: 640x640 1 fire, 3.9ms\n",
      "image 63/100 C:\\Users\\pc\\Desktop\\DL\\Project\\Satellite\\satellite_fire_dataset\\images\\test_subset\\cl6kfyj4a001wc4558emoaaeq_4_FALSE_COLOR__URBAN_jpg.rf.384f277d8a6fc5a8c77afd42d21259b6.jpg: 640x640 1 fire, 7.8ms\n",
      "image 64/100 C:\\Users\\pc\\Desktop\\DL\\Project\\Satellite\\satellite_fire_dataset\\images\\test_subset\\cl6kgfdjy002nc4551yk01nj6_1_TRUE_COLOR_jpg.rf.05b07298ee1a4a2566255b87f057410e.jpg: 640x640 5 fires, 4.5ms\n",
      "image 65/100 C:\\Users\\pc\\Desktop\\DL\\Project\\Satellite\\satellite_fire_dataset\\images\\test_subset\\cl6kggj9a002rc4556h0x9jxc_1_TRUE_COLOR_jpg.rf.982d4d1526255b986e67b1a75344c4f3.jpg: 640x640 1 fire, 5.6ms\n",
      "image 66/100 C:\\Users\\pc\\Desktop\\DL\\Project\\Satellite\\satellite_fire_dataset\\images\\test_subset\\cl6kig3wf00098w556e894kgn_1_TRUE_COLOR_jpg.rf.3ca952224d5e211a97a47a276ea98292.jpg: 640x640 (no detections), 4.2ms\n",
      "image 67/100 C:\\Users\\pc\\Desktop\\DL\\Project\\Satellite\\satellite_fire_dataset\\images\\test_subset\\cl6kig3wf00098w556e894kgn_1_TRUE_COLOR_jpg.rf.59cb9fd587ca73b4fc7a38db49b2c939.jpg: 640x640 1 fire, 4.1ms\n",
      "image 68/100 C:\\Users\\pc\\Desktop\\DL\\Project\\Satellite\\satellite_fire_dataset\\images\\test_subset\\cl6kihoi2000c8w554tjgeyre_2_FALSE_COLOR_jpg.rf.b8efcba4ec025e1051c3f773d0fee355.jpg: 640x640 1 fire, 4.3ms\n",
      "image 69/100 C:\\Users\\pc\\Desktop\\DL\\Project\\Satellite\\satellite_fire_dataset\\images\\test_subset\\cl6kitrsd000j8w557yff59mf_4_FALSE_COLOR__URBAN_jpg.rf.9e9a141700fd8e9fcdb8697f92fb2216.jpg: 640x640 2 fires, 4.2ms\n",
      "image 70/100 C:\\Users\\pc\\Desktop\\DL\\Project\\Satellite\\satellite_fire_dataset\\images\\test_subset\\cl6kjbb3u00158w55e0y48ful_6_SWIR_jpg.rf.c81c20812021d6a2b62521e67b8a5c81.jpg: 640x640 1 fire, 4.0ms\n",
      "image 71/100 C:\\Users\\pc\\Desktop\\DL\\Project\\Satellite\\satellite_fire_dataset\\images\\test_subset\\cl6kjc5r500168w55bry741c1_2_FALSE_COLOR_jpg.rf.7b7896c2a5c32a40b61aaebf46c9ccbf.jpg: 640x640 1 fire, 6.1ms\n",
      "image 72/100 C:\\Users\\pc\\Desktop\\DL\\Project\\Satellite\\satellite_fire_dataset\\images\\test_subset\\cl6lt37ph00248w55dnhvff9s_1_TRUE_COLOR_jpg.rf.c956d7343e92d348802eeddae4e0056d.jpg: 640x640 2 fires, 3.9ms\n",
      "image 73/100 C:\\Users\\pc\\Desktop\\DL\\Project\\Satellite\\satellite_fire_dataset\\images\\test_subset\\cl6ltb1wo002f8w558ocbb9ty_2_FALSE_COLOR_jpg.rf.b30e9beaf51361829e9993001bd9d778.jpg: 640x640 2 fires, 4.3ms\n",
      "image 74/100 C:\\Users\\pc\\Desktop\\DL\\Project\\Satellite\\satellite_fire_dataset\\images\\test_subset\\cl6ltc7lo002h8w556xm59h02_1_TRUE_COLOR_jpg.rf.ebc089b7a30acddc273cbe088100f054.jpg: 640x640 1 fire, 4.4ms\n",
      "image 75/100 C:\\Users\\pc\\Desktop\\DL\\Project\\Satellite\\satellite_fire_dataset\\images\\test_subset\\cl6ltqxhj002r8w553as9ee8t_6_SWIR_jpg.rf.ee50e4cd04191f21227a2e0d9e4a815b.jpg: 640x640 1 fire, 4.5ms\n",
      "image 76/100 C:\\Users\\pc\\Desktop\\DL\\Project\\Satellite\\satellite_fire_dataset\\images\\test_subset\\cl6ltu5kv002v8w555n2uhb4s_1_TRUE_COLOR_jpg.rf.a389f1092e163e985b64558d08f363e9.jpg: 640x640 4 fires, 4.8ms\n",
      "image 77/100 C:\\Users\\pc\\Desktop\\DL\\Project\\Satellite\\satellite_fire_dataset\\images\\test_subset\\cl6ltuz3i002x8w554lrq3tnc_4_FALSE_COLOR__URBAN_jpg.rf.9cb1f197052ec55af0c22ac763431aa9.jpg: 640x640 1 fire, 5.2ms\n",
      "image 78/100 C:\\Users\\pc\\Desktop\\DL\\Project\\Satellite\\satellite_fire_dataset\\images\\test_subset\\cl6m0w1nh002z8w558do5f7ar_4_FALSE_COLOR__URBAN_jpg.rf.203f893a3991a43e17c18974643e5bfb.jpg: 640x640 4 fires, 5.8ms\n",
      "image 79/100 C:\\Users\\pc\\Desktop\\DL\\Project\\Satellite\\satellite_fire_dataset\\images\\test_subset\\cl6m1a7kz003c8w55646e1v53_2_FALSE_COLOR_jpg.rf.2501fbde6ea717f93c70ab935a68b8c2.jpg: 640x640 1 fire, 4.1ms\n",
      "image 80/100 C:\\Users\\pc\\Desktop\\DL\\Project\\Satellite\\satellite_fire_dataset\\images\\test_subset\\cl6odzs5e002oao55heuig0a6_2_FALSE_COLOR_jpg.rf.a29c22541f34d18edb821b8359f57ce4.jpg: 640x640 (no detections), 4.6ms\n",
      "image 81/100 C:\\Users\\pc\\Desktop\\DL\\Project\\Satellite\\satellite_fire_dataset\\images\\test_subset\\cl6oif58n002yao5578ob9fzh_6_SWIR_jpg.rf.a12be5e237eb05fb67e7f5e4b4b41bbd.jpg: 640x640 1 fire, 4.5ms\n",
      "image 82/100 C:\\Users\\pc\\Desktop\\DL\\Project\\Satellite\\satellite_fire_dataset\\images\\test_subset\\cl6oitxum003tao55ghqu4f36_4_FALSE_COLOR__URBAN_jpg.rf.1c9ef646fd09377b4b109a34bbd45c0b.jpg: 640x640 1 fire, 4.6ms\n",
      "image 83/100 C:\\Users\\pc\\Desktop\\DL\\Project\\Satellite\\satellite_fire_dataset\\images\\test_subset\\cl6oj031d0042ao55aior769s_4_FALSE_COLOR__URBAN_jpg.rf.474b8e7a2e510e7fc39b9fa7028e636b.jpg: 640x640 1 fire, 4.4ms\n",
      "image 84/100 C:\\Users\\pc\\Desktop\\DL\\Project\\Satellite\\satellite_fire_dataset\\images\\test_subset\\cl6oj50of004dao558azz1d6c_1_TRUE_COLOR_jpg.rf.217e4ded5d0ab10927a93df11aff8239.jpg: 640x640 1 fire, 4.6ms\n",
      "image 85/100 C:\\Users\\pc\\Desktop\\DL\\Project\\Satellite\\satellite_fire_dataset\\images\\test_subset\\cl6oj8w06004hao558ky44xei_1_TRUE_COLOR_jpg.rf.c3a4bdf025b96063e2a68d578bc81c6d.jpg: 640x640 1 fire, 4.2ms\n",
      "image 86/100 C:\\Users\\pc\\Desktop\\DL\\Project\\Satellite\\satellite_fire_dataset\\images\\test_subset\\cl6ojaxxv004mao552t7ah2ky_6_SWIR_jpg.rf.bff2a18195a158a02ac4488a38afe62b.jpg: 640x640 1 fire, 8.1ms\n",
      "image 87/100 C:\\Users\\pc\\Desktop\\DL\\Project\\Satellite\\satellite_fire_dataset\\images\\test_subset\\cl6ojuvc30055ao55enk04i13_2_FALSE_COLOR_jpg.rf.1bd5239804d004243c8149cccff3c2ab.jpg: 640x640 1 fire, 6.8ms\n",
      "image 88/100 C:\\Users\\pc\\Desktop\\DL\\Project\\Satellite\\satellite_fire_dataset\\images\\test_subset\\cl6ojvjir0057ao55hcywheqa_4_FALSE_COLOR__URBAN_jpg.rf.53207edea5ab7a1e95427fc958ebb6d3.jpg: 640x640 3 fires, 4.7ms\n",
      "image 89/100 C:\\Users\\pc\\Desktop\\DL\\Project\\Satellite\\satellite_fire_dataset\\images\\test_subset\\cl6ojysgh005dao55c9ax3bwq_4_FALSE_COLOR__URBAN_jpg.rf.541bbe903745df1943e0f35946ddfbd4.jpg: 640x640 3 fires, 4.7ms\n",
      "image 90/100 C:\\Users\\pc\\Desktop\\DL\\Project\\Satellite\\satellite_fire_dataset\\images\\test_subset\\cl6ok9inm005sao55c3o80dfl_6_SWIR_jpg.rf.367540a17cc60bc0578f2e195c20886d.jpg: 640x640 1 fire, 5.9ms\n",
      "image 91/100 C:\\Users\\pc\\Desktop\\DL\\Project\\Satellite\\satellite_fire_dataset\\images\\test_subset\\cl6oketxv0066ao558x3xekq7_4_FALSE_COLOR__URBAN_jpg.rf.4c55a2489f412b15dc90a95ed1c672c9.jpg: 640x640 1 fire, 4.3ms\n",
      "image 92/100 C:\\Users\\pc\\Desktop\\DL\\Project\\Satellite\\satellite_fire_dataset\\images\\test_subset\\cl6ooxizh0068ao55h1l3hrim_1_TRUE_COLOR_jpg.rf.c8cc76212e661d3d8602e294ac5d8a6a.jpg: 640x640 1 fire, 6.5ms\n",
      "image 93/100 C:\\Users\\pc\\Desktop\\DL\\Project\\Satellite\\satellite_fire_dataset\\images\\test_subset\\cl6oozjlj0069ao5516rs1b5a_1_TRUE_COLOR_jpg.rf.c9389750ac699738ddbc3e8c0fb5bddd.jpg: 640x640 1 fire, 4.1ms\n",
      "image 94/100 C:\\Users\\pc\\Desktop\\DL\\Project\\Satellite\\satellite_fire_dataset\\images\\test_subset\\cl6op9m80006sao552sp0bgyl_6_SWIR_jpg.rf.8861d4983f488c0ba475c5b4c5153523.jpg: 640x640 1 fire, 5.6ms\n",
      "image 95/100 C:\\Users\\pc\\Desktop\\DL\\Project\\Satellite\\satellite_fire_dataset\\images\\test_subset\\cl6opq0g0007mao556zsr2z59_4_FALSE_COLOR__URBAN_jpg.rf.d54f0c8e857c1a7fe5cc47b5a200a985.jpg: 640x640 3 fires, 7.8ms\n",
      "image 96/100 C:\\Users\\pc\\Desktop\\DL\\Project\\Satellite\\satellite_fire_dataset\\images\\test_subset\\cl6opucm6007vao553ut5eta8_2_FALSE_COLOR_jpg.rf.0a92d32275cc46fe7f1b4351d820de26.jpg: 640x640 1 fire, 5.6ms\n",
      "image 97/100 C:\\Users\\pc\\Desktop\\DL\\Project\\Satellite\\satellite_fire_dataset\\images\\test_subset\\cl6oq1492008dao553mjgbuun_6_SWIR_jpg.rf.e420af3c386ae6f0de410c87be287c79.jpg: 640x640 3 fires, 4.4ms\n",
      "image 98/100 C:\\Users\\pc\\Desktop\\DL\\Project\\Satellite\\satellite_fire_dataset\\images\\test_subset\\cl6oqcc63008vao551jrk90jb_1_TRUE_COLOR_jpg.rf.c1c7afdb0572dc27063f98c6c50d2208.jpg: 640x640 1 fire, 5.4ms\n",
      "image 99/100 C:\\Users\\pc\\Desktop\\DL\\Project\\Satellite\\satellite_fire_dataset\\images\\test_subset\\cl6oqm42o0091ao5554tdbtq5_2_FALSE_COLOR_jpg.rf.e794134d4bf689717b23455120c003d7.jpg: 640x640 1 fire, 4.3ms\n",
      "image 100/100 C:\\Users\\pc\\Desktop\\DL\\Project\\Satellite\\satellite_fire_dataset\\images\\test_subset\\cl6ou6f7u00a5ao55h96m1hvj_2_FALSE_COLOR_jpg.rf.f2c9d0cde8354e7bdcf10e8adf790ae8.jpg: 640x640 1 fire, 4.0ms\n",
      "Speed: 2.7ms preprocess, 5.1ms inference, 1.0ms postprocess per image at shape (1, 3, 640, 640)\n",
      "Results saved to \u001b[1mruns\\detect\\predict\u001b[0m\n"
     ]
    }
   ],
   "source": [
    "results = model.predict(source=\"C:/Users/pc/Desktop/DL/Project/Satellite/satellite_fire_dataset/images/test_subset\", save=True)\n"
   ]
  }
 ],
 "metadata": {
  "kernelspec": {
   "display_name": "Python 3",
   "language": "python",
   "name": "python3"
  },
  "language_info": {
   "codemirror_mode": {
    "name": "ipython",
    "version": 3
   },
   "file_extension": ".py",
   "mimetype": "text/x-python",
   "name": "python",
   "nbconvert_exporter": "python",
   "pygments_lexer": "ipython3",
   "version": "3.11.6"
  }
 },
 "nbformat": 4,
 "nbformat_minor": 5
}
